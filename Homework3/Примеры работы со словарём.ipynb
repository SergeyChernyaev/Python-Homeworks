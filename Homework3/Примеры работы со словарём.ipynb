{
 "cells": [
  {
   "cell_type": "code",
   "execution_count": null,
   "metadata": {},
   "outputs": [],
   "source": [
    "example = {\"count1\":{\"Name\":\"name1\",\"Surname\":\"surname1\",\"Age\":\"age1\"}, \n",
    "    \"count2\":{\"Name\":\"name2\",\"Surname\":\"surname2\",\"Age\":\"age2\"}, \n",
    "    \"count3\":{\"Name\":\"name3\",\"Surname\":\"surname3\",\"Age\":\"age3\"},\n",
    "    \"count4\":{\"Name\":\"name4\",\"Surname\":\"surname4\",\"Age\":\"age4\"},\n",
    "    \"count5\":{\"Name\":\"name5\",\"Surname\":\"surname5\",\"Age\":\"age5\"}\n",
    "          }\n",
    "\n",
    "result = example[\"count2\"][\"Age\"]\n",
    "print (result)\n"
   ]
  },
  {
   "cell_type": "code",
   "execution_count": null,
   "metadata": {},
   "outputs": [],
   "source": [
    "Dict = { }\n",
    "print(\"Initial nested dictionary:-\")\n",
    "print(Dict)\n",
    " \n",
    "Dict['Dict1'] = {}\n",
    " \n",
    "# Adding elements one at a time\n",
    "Dict['Dict1']['name'] = 'Bob'\n",
    "Dict['Dict1']['age'] = 21\n",
    "print(\"\\nAfter adding dictionary Dict1\")\n",
    "print(Dict)\n",
    " \n",
    "# Adding whole dictionary\n",
    "name_='Peta'\n",
    "key_='Dict3'\n",
    "Dict[key_] = {'name': name_, 'age': 25,'weght':65}\n",
    "print(\"\\nAfter adding dictionary Dict1\")\n",
    "print(Dict)"
   ]
  }
 ],
 "metadata": {
  "kernelspec": {
   "display_name": "Python 3",
   "language": "python",
   "name": "python3"
  },
  "language_info": {
   "codemirror_mode": {
    "name": "ipython",
    "version": 3
   },
   "file_extension": ".py",
   "mimetype": "text/x-python",
   "name": "python",
   "nbconvert_exporter": "python",
   "pygments_lexer": "ipython3",
   "version": "3.8.3"
  }
 },
 "nbformat": 4,
 "nbformat_minor": 4
}
