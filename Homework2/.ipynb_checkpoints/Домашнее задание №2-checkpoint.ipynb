{
 "cells": [
  {
   "cell_type": "markdown",
   "metadata": {},
   "source": [
    "\n",
    "Домашнее задание к лекции \"Введение в типы данных и циклы. Часть 1\"\n",
    "Задание 1\n",
    "\n",
    "Дана переменная, в которой хранится слово из латинских букв. Напишите код, который выводит на экран:\n",
    "\n",
    "    среднюю букву, если число букв в слове нечетное;\n",
    "    две средних буквы, если число букв четное.\n",
    "\n",
    "Примеры работы программы:\n",
    "\n",
    "    word = 'test'\n",
    "\n",
    "Результат:\n",
    "es 2.\n",
    "word = 'testing'\n",
    "\n",
    "Результат:\n",
    "t\n"
   ]
  },
  {
   "cell_type": "code",
   "execution_count": 56,
   "metadata": {},
   "outputs": [
    {
     "name": "stdout",
     "output_type": "stream",
     "text": [
      "Слово:  test\n",
      "Число символов чётное, выделяем:  es\n"
     ]
    }
   ],
   "source": [
    "word='test'\n",
    "    \n",
    "word_len=len(word)\n",
    "print ('Слово: ',word)                                        # используем срез\n",
    "if (word_len%2==0): print('Число символов чётное, выделяем: ',word[(int(word_len/2)-1):int(word_len/2)+1])\n",
    "else:\n",
    "    print('Число символов чётное, выделяем: ',word[int((word_len-1)/2)])"
   ]
  }
 ],
 "metadata": {
  "kernelspec": {
   "display_name": "Python 3",
   "language": "python",
   "name": "python3"
  },
  "language_info": {
   "codemirror_mode": {
    "name": "ipython",
    "version": 3
   },
   "file_extension": ".py",
   "mimetype": "text/x-python",
   "name": "python",
   "nbconvert_exporter": "python",
   "pygments_lexer": "ipython3",
   "version": "3.8.3"
  }
 },
 "nbformat": 4,
 "nbformat_minor": 4
}
