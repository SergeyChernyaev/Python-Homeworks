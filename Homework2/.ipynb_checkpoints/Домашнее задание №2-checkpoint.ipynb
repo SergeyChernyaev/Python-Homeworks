{
 "cells": [
  {
   "cell_type": "markdown",
   "metadata": {},
   "source": [
    "\n",
    "Домашнее задание к лекции <code>__\"Введение в типы данных и циклы. Часть 1\"__</code>\n",
    "\n",
    "<code>__Задание 1__</code>\n",
    "Дана переменная, в которой хранится слово из латинских букв. Напишите код, который выводит на экран:\n",
    "\n",
    "    среднюю букву, если число букв в слове нечетное;\n",
    "    две средних буквы, если число букв четное.\n",
    "\n",
    "Примеры работы программы:\n",
    "1. word = 'test'\n",
    "Результат:\n",
    "es \n",
    "\n",
    "2.word = 'testing'\n",
    "\n",
    "Результат:\n",
    "t\n"
   ]
  },
  {
   "cell_type": "code",
   "execution_count": 18,
   "metadata": {},
   "outputs": [
    {
     "name": "stdout",
     "output_type": "stream",
     "text": [
      "Слово: Я\n",
      "Число символов нечётное, выделяем: Я\n"
     ]
    }
   ],
   "source": [
    "word = 'Я'\n",
    "    \n",
    "word_len = len(word)\n",
    "print ('Слово:', word)\n",
    "# Используем срез\n",
    "if (word_len%2 == 0): print('Число символов чётное, выделяем:', word[(int(word_len/2)-1):int(word_len/2)+1])\n",
    "else:\n",
    "    print('Число символов нечётное, выделяем:', word[int((word_len-1)/2)])"
   ]
  },
  {
   "cell_type": "markdown",
   "metadata": {},
   "source": [
    "\n",
    "<code>__Задание 2__</code>\n",
    "\n",
    "Напишите программу, которая последовательно запрашивает у пользователя числа (по одному за раз) и после первого нуля выводит сумму всех ранее введенных чисел.\n",
    "\n",
    "Примеры работы программы:\n",
    "\n",
    "Введите число:  \n",
    "1\n",
    "Введите число:  \n",
    "4\n",
    "Введите число:  \n",
    "6\n",
    "Введите число:  \n",
    "0\n",
    "Результат:\n",
    "11\n",
    "\n",
    "Введите число:  \n",
    "0\n",
    "Результат:\n",
    "0\n"
   ]
  },
  {
   "cell_type": "code",
   "execution_count": 2,
   "metadata": {},
   "outputs": [
    {
     "name": "stdout",
     "output_type": "stream",
     "text": [
      "Введите число:9\n",
      "Введите число:7\n",
      "Введите число:3\n",
      "Введите число:0\n",
      "Результат: 19\n"
     ]
    }
   ],
   "source": [
    "result = 0\n",
    "answer = -1\n",
    "\n",
    "while answer != 0:\n",
    "    answer = int(input('Введите число:')) \n",
    "    result += answer\n",
    "print('Результат:', result)"
   ]
  },
  {
   "cell_type": "markdown",
   "metadata": {},
   "source": [
    "<code>__Задание 3__</code>\n",
    "\n",
    "Мы делаем MVP dating-сервиса, и у нас есть список парней и девушек.\n",
    "Выдвигаем гипотезу: лучшие рекомендации мы получим, если просто отсортируем имена по алфавиту и познакомим людей с одинаковыми индексами после сортировки! Но мы не будем никого знакомить, если кто-то может остаться без пары:\n",
    "\n",
    "Примеры работы программы:\n",
    "1.\n",
    "boys = [‘Peter’, ‘Alex’, ‘John’, ‘Arthur’, ‘Richard’]\n",
    "girls = [‘Kate’, ‘Liza’, ‘Kira’, ‘Emma’, ‘Trisha’]\n",
    "\n",
    "Результат:\n",
    "Идеальные пары:\n",
    "Alex и Emma\n",
    "Arthur и Kate\n",
    "John и Kira\n",
    "Peter и Liza\n",
    "Richard и Trisha\n",
    "\n",
    "boys = [‘Peter’, ‘Alex’, ‘John’, ‘Arthur’, ‘Richard’, ‘Michael’]\n",
    "girls = [‘Kate’, ‘Liza’, ‘Kira’, ‘Emma’, ‘Trisha’]\n",
    "\n",
    "Результат:\n",
    "Внимание, кто-то может остаться без пары!"
   ]
  },
  {
   "cell_type": "code",
   "execution_count": 3,
   "metadata": {},
   "outputs": [
    {
     "name": "stdout",
     "output_type": "stream",
     "text": [
      "Идеальные пары:\n",
      "Alex и Emma\n",
      "Arthur и Kate\n",
      "John и Kira\n",
      "Peter и Liza\n",
      "Richard и Trisha\n"
     ]
    }
   ],
   "source": [
    "boys = ['Peter', 'Alex', 'John', 'Arthur', 'Richard']\n",
    "girls = ['Kate', 'Liza', 'Kira', 'Emma', 'Trisha']\n",
    "\n",
    "if len(boys) == len(girls): # если хватает пар\n",
    "    boys_sorted = sorted(boys)\n",
    "    girls_sorted = sorted(girls)\n",
    "    print('Идеальные пары:')\n",
    "    for i in range(len(boys_sorted)):\n",
    "        print(boys_sorted[i], 'и', girls_sorted[i])\n",
    "else:\n",
    "    print('Внимание, кто-то может остаться без пары!')"
   ]
  },
  {
   "cell_type": "markdown",
   "metadata": {},
   "source": [
    "\n",
    "<code>__Задание 4__</code>\n",
    "\n",
    "У нас есть список, содержащий информацию о среднедневной температуре в Фаренгейтах за произвольный период по странам (структура данных в примере). Необходимо написать код, который рассчитает среднюю температуру за период в Цельсиях(!) для каждой страны.\n",
    "\n",
    "Пример работы программы:\n",
    "\n",
    "countries_temperature = [\n",
    "    ['Thailand', [75.2, 77, 78.8, 73.4, 68, 75.2, 77]],\n",
    "    ['Germany', [57.2, 55.4, 59, 59, 53.6]],\n",
    "    ['Russia', [35.6, 37.4, 39.2, 41, 42.8, 39.2, 35.6]],\n",
    "    ['Poland', [50, 50, 53.6, 57.2, 55.4, 55.4]]\n",
    "]\n",
    "\n",
    "Результат:\n",
    "\n",
    "Средняя температура в странах:\n",
    "Thailand  -  23.9 С\n",
    "Germany  -  13.8 С\n",
    "Russia  -  3.7 С\n",
    "Poland  -  12.0 С\n",
    "\n"
   ]
  },
  {
   "cell_type": "code",
   "execution_count": 6,
   "metadata": {},
   "outputs": [
    {
     "name": "stdout",
     "output_type": "stream",
     "text": [
      "Средняя температура в странах:\n",
      "Thailand -в градусах F: 74.94, в градусах C: 23.86\n",
      "Germany -в градусах F: 56.84, в градусах C: 13.80\n",
      "Russia -в градусах F: 38.69, в градусах C: 3.71\n",
      "Poland -в градусах F: 53.60, в градусах C: 12.00\n"
     ]
    }
   ],
   "source": [
    "#---- Вариант 1------ с вложенным циклом..      \n",
    "\n",
    "countries_temperature = [ ['Thailand', [75.2, 77, 78.8, 73.4, 68, 75.2, 77]], \n",
    "                        ['Germany', [57.2, 55.4, 59, 59, 53.6]], \n",
    "                        ['Russia', [35.6, 37.4, 39.2, 41, 42.8, 39.2, 35.6]], \n",
    "                        ['Poland', [50, 50, 53.6, 57.2, 55.4, 55.4]] ]\n",
    "       \n",
    "print('Средняя температура в странах:')\n",
    "for country in countries_temperature: \n",
    "    print(country[0],'-',end='')\n",
    "    sum_ = 0.0\n",
    "    avr_F = 0.0\n",
    "    avr_C = 0.0\n",
    "    for i in range(0,len(country[1])):\n",
    "        sum_ += country[1][i]\n",
    "        avr_F = sum_/len(country[1])\n",
    "        avr_C = (avr_F-32)*(5/9)\n",
    "    print(f'в градусах F: {avr_F:.2f}, в градусах C: {avr_C:.2f}')\n",
    "            "
   ]
  },
  {
   "cell_type": "code",
   "execution_count": 5,
   "metadata": {},
   "outputs": [
    {
     "name": "stdout",
     "output_type": "stream",
     "text": [
      "Средняя температура в странах:\n",
      "Thailand -в градусах F: 74.94, в градусах C: 23.86\n",
      "Germany -в градусах F: 56.84, в градусах C: 13.80\n",
      "Russia -в градусах F: 38.69, в градусах C: 3.71\n",
      "Poland -в градусах F: 53.60, в градусах C: 12.00\n"
     ]
    }
   ],
   "source": [
    "#---- Вариант 2------без вложенного цикла            \n",
    "import math as m\n",
    "\n",
    "countries_temperature = [ ['Thailand', [75.2, 77, 78.8, 73.4, 68, 75.2, 77]], \n",
    "                        ['Germany', [57.2, 55.4, 59, 59, 53.6]], \n",
    "                        ['Russia', [35.6, 37.4, 39.2, 41, 42.8, 39.2, 35.6]], \n",
    "                        ['Poland', [50, 50, 53.6, 57.2, 55.4, 55.4]] ]\n",
    "       \n",
    "print('Средняя температура в странах:')\n",
    "for country in countries_temperature: \n",
    "    print(country[0],'-',end='')\n",
    "    sum_ = 0.0\n",
    "    avr_F = 0.0\n",
    "    avr_C = 0.0\n",
    "    sum_  = m.fsum(country[1]) # обычный sum() работать отказался :-(, почему не знаю..\n",
    "    avr_F = sum_/len(country[1])\n",
    "    avr_C = (avr_F-32)*(5/9)\n",
    "    print(f'в градусах F: {avr_F:.2f}, в градусах C: {avr_C:.2f}')\n"
   ]
  },
  {
   "cell_type": "markdown",
   "metadata": {},
   "source": [
    "\n",
    "<code>__Задание 5 (необязательное)__</code>\n",
    "\n",
    "Дан поток логов по количеству просмотренных страниц для каждого пользователя. Вам необходимо написать алгоритм, который считает среднее значение просмотров на пользователя. Т. е. надо посчитать отношение суммы всех просмотров к количеству уникальных пользователей.\n",
    "\n",
    "Примеры работы программы:\n",
    "\n",
    "stream = [\n",
    "    '2018-01-01,user1,3',\n",
    "    '2018-01-07,user1,4',\n",
    "    '2018-03-29,user1,1',\n",
    "    '2018-04-04,user1,13',\n",
    "    '2018-01-05,user2,7',\n",
    "    '2018-06-14,user3,4',\n",
    "    '2018-07-02,user3,10',\n",
    "    '2018-03-21,user4,19',\n",
    "    '2018-03-22,user4,4',\n",
    "    '2018-04-22,user4,8',\n",
    "    '2018-05-03,user4,9',\n",
    "    '2018-05-11,user4,11',\n",
    "]\n",
    "\n",
    "Результат:\n",
    "Среднее количество просмотров на уникального пользователя: 23.25 2.\n",
    "\n",
    "stream = [\n",
    "    '2018-01-01,user100,150',\n",
    "    '2018-01-07,user99,205',\n",
    "    '2018-03-29,user1001,81'\n",
    "]\n",
    "\n",
    "Результат:\n",
    "Среднее количество просмотров на уникального пользователя: 145.33\n"
   ]
  },
  {
   "cell_type": "code",
   "execution_count": 7,
   "metadata": {},
   "outputs": [
    {
     "name": "stdout",
     "output_type": "stream",
     "text": [
      "Среднее количество просмотров на уникального пользователя: 23.25\n"
     ]
    }
   ],
   "source": [
    "stream = [ '2018-01-01,user1,3', \n",
    "           '2018-01-07,user1,4', \n",
    "           '2018-03-29,user1,1', \n",
    "           '2018-04-04,user1,13', \n",
    "           '2018-01-05,user2,7', \n",
    "           '2018-06-14,user3,4', \n",
    "           '2018-07-02,user3,10', \n",
    "           '2018-03-21,user4,19', \n",
    "           '2018-03-22,user4,4', \n",
    "           '2018-04-22,user4,8', \n",
    "           '2018-05-03,user4,9', \n",
    "           '2018-05-11,user4,11', ]\n",
    "users_list = []\n",
    "access_sum = 0\n",
    "\n",
    "for record in stream:\n",
    "    log_part = record.split(',')\n",
    "    access_sum += int(log_part[2])\n",
    "    if log_part[1] not in users_list:\n",
    "        users_list.append(log_part[1])\n",
    "\n",
    "avr_views = access_sum/len(users_list)\n",
    "print(f'Среднее количество просмотров на уникального пользователя: {avr_views:.2f}')"
   ]
  },
  {
   "cell_type": "markdown",
   "metadata": {},
   "source": [
    "\n",
    "<code>__Задание 6 (необязательное)__</code>\n",
    "\n",
    "Необходимо у пользователя запрашивать набор чисел разделенных пробелом. В результате в отсортированном порядке должны выводиться числа, которые повторяются в вводе более одного раза.\n",
    "\n",
    "Примеры работы программы:\n",
    "\n",
    "Введите числа:\n",
    "4 8 0 3 4 2 0 3\n",
    "\n",
    "Результат:\n",
    "0 3 4\n",
    "\n",
    "Введите числа:\n",
    "1 1 2 2 3 3\n",
    "\n",
    "Результат:\n",
    "1 2 3\n",
    "\n",
    "Введите числа:\n",
    "10 15 15 103 200 200 200 1 1 1 1 1 2 2 2\n",
    "\n",
    "Результат:\n",
    "1 2 15 200\n"
   ]
  },
  {
   "cell_type": "code",
   "execution_count": 12,
   "metadata": {},
   "outputs": [
    {
     "name": "stdout",
     "output_type": "stream",
     "text": [
      "Введите числа:-1 -1 -2 -2 -3\n",
      "Результат:\n",
      "-2 -1\n"
     ]
    }
   ],
   "source": [
    "num_list = [] # исходный список\n",
    "count_num = [] # результирующий список\n",
    "\n",
    "#Сделаем при вводе сразу из строки список\n",
    "num_list = [int(x) for x in input('Введите числа:').split()]\n",
    "\n",
    "for num in num_list:\n",
    "    if (num_list.count(num)) > 1: # если это число в списке встречается более 1 раза\n",
    "        if num not in count_num: # то добавим в результирующий список\n",
    "            count_num.append(num)\n",
    "if len(count_num) > 0:\n",
    "    print('Результат:')            \n",
    "    print(\" \".join(map(str, sorted(count_num))))\n",
    "else:\n",
    "    print('Таких чисел нет')"
   ]
  }
 ],
 "metadata": {
  "kernelspec": {
   "display_name": "Python 3",
   "language": "python",
   "name": "python3"
  },
  "language_info": {
   "codemirror_mode": {
    "name": "ipython",
    "version": 3
   },
   "file_extension": ".py",
   "mimetype": "text/x-python",
   "name": "python",
   "nbconvert_exporter": "python",
   "pygments_lexer": "ipython3",
   "version": "3.8.3"
  }
 },
 "nbformat": 4,
 "nbformat_minor": 4
}
