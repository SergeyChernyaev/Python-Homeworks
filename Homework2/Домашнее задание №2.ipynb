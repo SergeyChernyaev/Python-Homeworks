{
 "cells": [
  {
   "cell_type": "markdown",
   "metadata": {},
   "source": [
    "\n",
    "Домашнее задание к лекции <code>__\"Введение в типы данных и циклы. Часть 1\"__</code>\n",
    "\n",
    "<code>__Задание 1__</code>\n",
    "Дана переменная, в которой хранится слово из латинских букв. Напишите код, который выводит на экран:\n",
    "\n",
    "    среднюю букву, если число букв в слове нечетное;\n",
    "    две средних буквы, если число букв четное.\n",
    "\n",
    "Примеры работы программы:\n",
    "1. word = 'test'\n",
    "Результат:\n",
    "\n",
    "es \n",
    "2.word = 'testing'\n",
    "\n",
    "Результат:\n",
    "t\n"
   ]
  },
  {
   "cell_type": "code",
   "execution_count": 16,
   "metadata": {},
   "outputs": [
    {
     "name": "stdout",
     "output_type": "stream",
     "text": [
      "Слово: test\n",
      "Число символов чётное, выделяем: es\n"
     ]
    }
   ],
   "source": [
    "word = 'test'\n",
    "    \n",
    "word_len = len(word)\n",
    "print ('Слово:', word)                                        # используем срез\n",
    "if (word_len%2 == 0): print('Число символов чётное, выделяем:',word[(int(word_len/2)-1):int(word_len/2)+1])\n",
    "else:\n",
    "    print('Число символов чётное, выделяем:',word[int((word_len-1)/2)])"
   ]
  },
  {
   "cell_type": "markdown",
   "metadata": {},
   "source": [
    "\n",
    "<code>__Задание 2__</code>\n",
    "\n",
    "Напишите программу, которая последовательно запрашивает у пользователя числа (по одному за раз) и после первого нуля выводит сумму всех ранее введенных чисел.\n",
    "\n",
    "Примеры работы программы:\n",
    "\n",
    "Введите число:  \n",
    "1\n",
    "Введите число:  \n",
    "4\n",
    "Введите число:  \n",
    "6\n",
    "Введите число:  \n",
    "0\n",
    "Результат:\n",
    "11\n",
    "\n",
    "Введите число:  \n",
    "0\n",
    "Результат:\n",
    "0\n"
   ]
  },
  {
   "cell_type": "code",
   "execution_count": 17,
   "metadata": {},
   "outputs": [
    {
     "name": "stdout",
     "output_type": "stream",
     "text": [
      "Введите число:0\n",
      "Результат: 0\n"
     ]
    }
   ],
   "source": [
    "result = 0\n",
    "answer = -1\n",
    "while answer != 0:\n",
    "    answer=int(input('Введите число:')) \n",
    "    result+=answer\n",
    "print('Результат:', result)"
   ]
  },
  {
   "cell_type": "markdown",
   "metadata": {},
   "source": [
    "<code>__Задание 3__</code>\n",
    "\n",
    "Мы делаем MVP dating-сервиса, и у нас есть список парней и девушек.\n",
    "Выдвигаем гипотезу: лучшие рекомендации мы получим, если просто отсортируем имена по алфавиту и познакомим людей с одинаковыми индексами после сортировки! Но мы не будем никого знакомить, если кто-то может остаться без пары:\n",
    "\n",
    "Примеры работы программы:\n",
    "1.\n",
    "boys = [‘Peter’, ‘Alex’, ‘John’, ‘Arthur’, ‘Richard’]\n",
    "girls = [‘Kate’, ‘Liza’, ‘Kira’, ‘Emma’, ‘Trisha’]\n",
    "\n",
    "Результат:\n",
    "Идеальные пары:\n",
    "Alex и Emma\n",
    "Arthur и Kate\n",
    "John и Kira\n",
    "Peter и Liza\n",
    "Richard и Trisha\n",
    "\n",
    "boys = [‘Peter’, ‘Alex’, ‘John’, ‘Arthur’, ‘Richard’, ‘Michael’]\n",
    "girls = [‘Kate’, ‘Liza’, ‘Kira’, ‘Emma’, ‘Trisha’]\n",
    "\n",
    "Результат:\n",
    "Внимание, кто-то может остаться без пары!"
   ]
  },
  {
   "cell_type": "code",
   "execution_count": 15,
   "metadata": {},
   "outputs": [
    {
     "name": "stdout",
     "output_type": "stream",
     "text": [
      "Идеальные пары:\n",
      "Alex и Emma\n",
      "Arthur и Kate\n",
      "John и Kira\n",
      "Peter и Liza\n",
      "Richard и Trisha\n"
     ]
    }
   ],
   "source": [
    "boys = ['Peter', 'Alex', 'John', 'Arthur', 'Richard']\n",
    "girls = ['Kate', 'Liza', 'Kira' , 'Emma', 'Trisha']\n",
    "if len(boys) == len(girls): # если хватает пар\n",
    "    boys_sorted = sorted(boys)\n",
    "    girls_sorted = sorted(girls)\n",
    "    print('Идеальные пары:')\n",
    "    for i in range(len(boys_sorted)):\n",
    "        print (boys_sorted[i],'и',girls_sorted[i])\n",
    "else:\n",
    "    print ('Внимание, кто-то может остаться без пары!')"
   ]
  },
  {
   "cell_type": "markdown",
   "metadata": {},
   "source": [
    "\n",
    "<code>__Задание 4__</code>\n",
    "\n",
    "У нас есть список, содержащий информацию о среднедневной температуре в Фаренгейтах за произвольный период по странам (структура данных в примере). Необходимо написать код, который рассчитает среднюю температуру за период в Цельсиях(!) для каждой страны.\n",
    "\n",
    "Пример работы программы:\n",
    "\n",
    "countries_temperature = [\n",
    "    ['Thailand', [75.2, 77, 78.8, 73.4, 68, 75.2, 77]],\n",
    "    ['Germany', [57.2, 55.4, 59, 59, 53.6]],\n",
    "    ['Russia', [35.6, 37.4, 39.2, 41, 42.8, 39.2, 35.6]],\n",
    "    ['Poland', [50, 50, 53.6, 57.2, 55.4, 55.4]]\n",
    "]\n",
    "\n",
    "Результат:\n",
    "\n",
    "Средняя температура в странах:\n",
    "Thailand  -  23.9 С\n",
    "Germany  -  13.8 С\n",
    "Russia  -  3.7 С\n",
    "Poland  -  12.0 С\n",
    "\n"
   ]
  },
  {
   "cell_type": "code",
   "execution_count": 117,
   "metadata": {},
   "outputs": [
    {
     "name": "stdout",
     "output_type": "stream",
     "text": [
      "Средняя температура в странах:\n",
      "Thailand -cредняя температура в градусах F: 74.94, средняя температура в градусах C: 23.86\n",
      "Germany -cредняя температура в градусах F: 56.84, средняя температура в градусах C: 13.80\n",
      "Russia -cредняя температура в градусах F: 38.69, средняя температура в градусах C: 3.71\n",
      "Poland -cредняя температура в градусах F: 53.60, средняя температура в градусах C: 12.00\n"
     ]
    }
   ],
   "source": [
    "#---- Вариант 1------ с циклом..      \n",
    "\n",
    "countries_temperature = [ ['Thailand', [75.2, 77, 78.8, 73.4, 68, 75.2, 77]], \n",
    "                        ['Germany', [57.2, 55.4, 59, 59, 53.6]], \n",
    "                        ['Russia', [35.6, 37.4, 39.2, 41, 42.8, 39.2, 35.6]], \n",
    "                        ['Poland', [50, 50, 53.6, 57.2, 55.4, 55.4]] ]\n",
    "       \n",
    "print('Средняя температура в странах:')\n",
    "for country in countries_temperature: \n",
    "    print(country[0],'-',end='')\n",
    "    sum_=0.0\n",
    "    for i in range(0,len(country[1])):\n",
    "        sum_+=country[1][i]\n",
    "        avr_F=sum_/len(country[1])\n",
    "        avr_C=(avr_F-32)*(5/9)\n",
    "    print('cредняя температура в градусах F: {:.2f}, средняя температура в градусах C: {:.2f}'.format(avr_F, avr_C))\n",
    "            "
   ]
  },
  {
   "cell_type": "code",
   "execution_count": 120,
   "metadata": {},
   "outputs": [
    {
     "name": "stdout",
     "output_type": "stream",
     "text": [
      "Средняя температура в странах:\n",
      "Thailand -"
     ]
    },
    {
     "ename": "TypeError",
     "evalue": "'float' object is not iterable",
     "output_type": "error",
     "traceback": [
      "\u001b[1;31m---------------------------------------------------------------------------\u001b[0m",
      "\u001b[1;31mTypeError\u001b[0m                                 Traceback (most recent call last)",
      "\u001b[1;32m<ipython-input-120-80aef38c689b>\u001b[0m in \u001b[0;36m<module>\u001b[1;34m\u001b[0m\n\u001b[0;32m     10\u001b[0m     \u001b[0mprint\u001b[0m\u001b[1;33m(\u001b[0m\u001b[0mcountry\u001b[0m\u001b[1;33m[\u001b[0m\u001b[1;36m0\u001b[0m\u001b[1;33m]\u001b[0m\u001b[1;33m,\u001b[0m\u001b[1;34m'-'\u001b[0m\u001b[1;33m,\u001b[0m\u001b[0mend\u001b[0m\u001b[1;33m=\u001b[0m\u001b[1;34m''\u001b[0m\u001b[1;33m)\u001b[0m\u001b[1;33m\u001b[0m\u001b[1;33m\u001b[0m\u001b[0m\n\u001b[0;32m     11\u001b[0m     \u001b[0msum_\u001b[0m\u001b[1;33m=\u001b[0m\u001b[1;36m0.0\u001b[0m \u001b[1;31m# сумма градусов\u001b[0m\u001b[1;33m\u001b[0m\u001b[1;33m\u001b[0m\u001b[0m\n\u001b[1;32m---> 12\u001b[1;33m     \u001b[0msum_\u001b[0m\u001b[1;33m=\u001b[0m\u001b[0mm\u001b[0m\u001b[1;33m.\u001b[0m\u001b[0mfsum\u001b[0m\u001b[1;33m(\u001b[0m\u001b[0mcountry\u001b[0m\u001b[1;33m[\u001b[0m\u001b[1;36m1\u001b[0m\u001b[1;33m]\u001b[0m\u001b[1;33m[\u001b[0m\u001b[1;36m0\u001b[0m\u001b[1;33m]\u001b[0m\u001b[1;33m)\u001b[0m \u001b[1;31m# обычный sum() работать отказался :-(\u001b[0m\u001b[1;33m\u001b[0m\u001b[1;33m\u001b[0m\u001b[0m\n\u001b[0m\u001b[0;32m     13\u001b[0m     \u001b[0mprint\u001b[0m\u001b[1;33m(\u001b[0m\u001b[1;34m'cредняя температура в градусах F: {:.2f}, средняя температура в градусах C: {:.2f}'\u001b[0m\u001b[1;33m.\u001b[0m\u001b[0mformat\u001b[0m\u001b[1;33m(\u001b[0m\u001b[0mavr_F\u001b[0m\u001b[1;33m,\u001b[0m \u001b[0mavr_C\u001b[0m\u001b[1;33m)\u001b[0m\u001b[1;33m)\u001b[0m\u001b[1;33m\u001b[0m\u001b[1;33m\u001b[0m\u001b[0m\n",
      "\u001b[1;31mTypeError\u001b[0m: 'float' object is not iterable"
     ]
    }
   ],
   "source": [
    "#---- Вариант 2------без цикла            \n",
    "import math as m\n",
    "countries_temperature = [ ['Thailand', [75.2, 77, 78.8, 73.4, 68, 75.2, 77]], \n",
    "                        ['Germany', [57.2, 55.4, 59, 59, 53.6]], \n",
    "                        ['Russia', [35.6, 37.4, 39.2, 41, 42.8, 39.2, 35.6]], \n",
    "                        ['Poland', [50, 50, 53.6, 57.2, 55.4, 55.4]] ]\n",
    "       \n",
    "print('Средняя температура в странах:')\n",
    "for country in countries_temperature: \n",
    "    print(country[0],'-',end='')\n",
    "    sum_=0.0 # сумма градусов\n",
    "    sum_=m.fsum(country[1][0]) # обычный sum() работать отказался :-(\n",
    "    print('cредняя температура в градусах F: {:.2f}, средняя температура в градусах C: {:.2f}'.format(avr_F, avr_C))\n"
   ]
  }
 ],
 "metadata": {
  "kernelspec": {
   "display_name": "Python 3",
   "language": "python",
   "name": "python3"
  },
  "language_info": {
   "codemirror_mode": {
    "name": "ipython",
    "version": 3
   },
   "file_extension": ".py",
   "mimetype": "text/x-python",
   "name": "python",
   "nbconvert_exporter": "python",
   "pygments_lexer": "ipython3",
   "version": "3.8.3"
  }
 },
 "nbformat": 4,
 "nbformat_minor": 4
}
