{
 "cells": [
  {
   "cell_type": "markdown",
   "metadata": {},
   "source": [
    "\n",
    "Домашнее задание к лекции <code>__\"Введение в типы данных и циклы. Часть 1\"__</code>\n",
    "\n",
    "<code>__Задание 1__</code>\n",
    "Дана переменная, в которой хранится слово из латинских букв. Напишите код, который выводит на экран:\n",
    "\n",
    "    среднюю букву, если число букв в слове нечетное;\n",
    "    две средних буквы, если число букв четное.\n",
    "\n",
    "Примеры работы программы:\n",
    "\n",
    "    word = 'test'\n",
    "\n",
    "Результат:\n",
    "es 2.\n",
    "word = 'testing'\n",
    "\n",
    "Результат:\n",
    "t\n"
   ]
  },
  {
   "cell_type": "code",
   "execution_count": null,
   "metadata": {},
   "outputs": [],
   "source": [
    "word='test'\n",
    "    \n",
    "word_len=len(word)\n",
    "print ('Слово:',word)                                        # используем срез\n",
    "if (word_len%2==0): print('Число символов чётное, выделяем:',word[(int(word_len/2)-1):int(word_len/2)+1])\n",
    "else:\n",
    "    print('Число символов чётное, выделяем:',word[int((word_len-1)/2)])"
   ]
  },
  {
   "cell_type": "markdown",
   "metadata": {},
   "source": [
    "\n",
    "<code>__Задание 2__</code>\n",
    "\n",
    "Напишите программу, которая последовательно запрашивает у пользователя числа (по одному за раз) и после первого нуля выводит сумму всех ранее введенных чисел.\n",
    "\n",
    "Примеры работы программы:\n",
    "\n",
    "Введите число:  \n",
    "1\n",
    "Введите число:  \n",
    "4\n",
    "Введите число:  \n",
    "6\n",
    "Введите число:  \n",
    "0\n",
    "Результат:\n",
    "11\n",
    "\n",
    "Введите число:  \n",
    "0\n",
    "Результат:\n",
    "0\n"
   ]
  },
  {
   "cell_type": "code",
   "execution_count": 71,
   "metadata": {},
   "outputs": [
    {
     "name": "stdout",
     "output_type": "stream",
     "text": [
      "Введите число:11\n",
      "Введите число:1\n",
      "Введите число:2\n",
      "Введите число:0\n",
      "Результат: 14\n"
     ]
    }
   ],
   "source": [
    "result=0\n",
    "answer=-1\n",
    "while answer!=0:\n",
    "            answer=int(input('Введите число:')) \n",
    "            result+=answer\n",
    "\n",
    "print('Результат:',result)"
   ]
  }
 ],
 "metadata": {
  "kernelspec": {
   "display_name": "Python 3",
   "language": "python",
   "name": "python3"
  },
  "language_info": {
   "codemirror_mode": {
    "name": "ipython",
    "version": 3
   },
   "file_extension": ".py",
   "mimetype": "text/x-python",
   "name": "python",
   "nbconvert_exporter": "python",
   "pygments_lexer": "ipython3",
   "version": "3.8.3"
  }
 },
 "nbformat": 4,
 "nbformat_minor": 4
}
