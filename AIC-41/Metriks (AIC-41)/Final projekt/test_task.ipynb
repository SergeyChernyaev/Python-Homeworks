{
 "cells": [
  {
   "cell_type": "markdown",
   "metadata": {},
   "source": [
    "# Описание задания\n",
    "\n",
    "Используйте базу транзакций интернет-магазина из Великобритании по ссылке. При исследовании данных можно пользоваться любыми инструментами: Excel, Google Таблицы, Python и т. д.\n",
    "\n",
    "## Задача\n",
    "Изучить данные и составить аналитический отчёт.\n",
    "\n",
    "Отчёт должен включать:\n",
    "\n",
    "    Описание данных: что отражают, их качество и полнота, некорректности и аномалии.\n",
    "    Описание применённого подхода к анализу данных: ограничения, накладываемые данными, и соответствующие интерпретации допущения.\n",
    "    Описание бизнес-заказчика, его гипотетических болей и целей развития бизнеса.\n",
    "    Описание стейкхолдеров отчёта с обоснованием выбранных метрик (системы метрик).\n",
    "    Рекомендации по модели данных бизнес-заказчика: что вы считаете важным отслеживать в дополнение к тому, что уже есть в датасете.\n",
    "    Сформулированные выводы и рекомендации для бизнес-заказчика.\n"
   ]
  },
  {
   "cell_type": "code",
   "execution_count": 184,
   "metadata": {},
   "outputs": [],
   "source": [
    "import sys\n",
    "import pandas as pd\n",
    "import seaborn as sns\n",
    "import numpy as np\n",
    "# from pandas_profiling import ProfileReport\n",
    "from matplotlib import pyplot as plt\n",
    "#import plotly.graph_objects as go\n",
    "\n",
    "if not sys.warnoptions:\n",
    "    import warnings\n",
    "    warnings.simplefilter(\"ignore\")\n",
    "\n",
    "pd.set_option('display.max_rows', 100)\n",
    "pd.set_option('display.max_columns', 100)\n",
    "\n",
    "#увеличим дефолтный размер графиков\n",
    "from pylab import rcParams\n",
    "rcParams['figure.figsize'] = 11,7\n"
   ]
  },
  {
   "cell_type": "code",
   "execution_count": 125,
   "metadata": {},
   "outputs": [
    {
     "name": "stdout",
     "output_type": "stream",
     "text": [
      "Файл прочитан\n"
     ]
    }
   ],
   "source": [
    "# Читаем xls файл, меняем тип колонок.\n",
    "\n",
    "df = pd.read_excel('Data_Sample.xlsx', sheet_name='Online Retail', dtype = {\"CustomerID\": 'Int64',\n",
    "                                                                            \"Country\": 'string',\n",
    "                                                                            \"Description\": 'string' })\n",
    "print('Файл прочитан')"
   ]
  },
  {
   "cell_type": "markdown",
   "metadata": {},
   "source": [
    "## EDA - первичный (разведочный) анализ данных\n"
   ]
  },
  {
   "cell_type": "code",
   "execution_count": 121,
   "metadata": {},
   "outputs": [
    {
     "name": "stdout",
     "output_type": "stream",
     "text": [
      "<class 'pandas.core.frame.DataFrame'>\n",
      "RangeIndex: 54214 entries, 0 to 54213\n",
      "Data columns (total 8 columns):\n",
      " #   Column       Non-Null Count  Dtype         \n",
      "---  ------       --------------  -----         \n",
      " 0   InvoiceNo    54214 non-null  object        \n",
      " 1   StockCode    54214 non-null  object        \n",
      " 2   Description  54080 non-null  string        \n",
      " 3   Quantity     54214 non-null  int64         \n",
      " 4   InvoiceDate  54214 non-null  datetime64[ns]\n",
      " 5   UnitPrice    54214 non-null  float64       \n",
      " 6   CustomerID   40643 non-null  Int64         \n",
      " 7   Country      54214 non-null  string        \n",
      "dtypes: Int64(1), datetime64[ns](1), float64(1), int64(1), object(2), string(2)\n",
      "memory usage: 3.4+ MB\n"
     ]
    }
   ],
   "source": [
    "df.info()"
   ]
  },
  {
   "cell_type": "code",
   "execution_count": 19,
   "metadata": {},
   "outputs": [
    {
     "data": {
      "text/html": [
       "<div>\n",
       "<style scoped>\n",
       "    .dataframe tbody tr th:only-of-type {\n",
       "        vertical-align: middle;\n",
       "    }\n",
       "\n",
       "    .dataframe tbody tr th {\n",
       "        vertical-align: top;\n",
       "    }\n",
       "\n",
       "    .dataframe thead th {\n",
       "        text-align: right;\n",
       "    }\n",
       "</style>\n",
       "<table border=\"1\" class=\"dataframe\">\n",
       "  <thead>\n",
       "    <tr style=\"text-align: right;\">\n",
       "      <th></th>\n",
       "      <th>InvoiceNo</th>\n",
       "      <th>StockCode</th>\n",
       "      <th>Description</th>\n",
       "      <th>Quantity</th>\n",
       "      <th>InvoiceDate</th>\n",
       "      <th>UnitPrice</th>\n",
       "      <th>CustomerID</th>\n",
       "      <th>Country</th>\n",
       "    </tr>\n",
       "  </thead>\n",
       "  <tbody>\n",
       "    <tr>\n",
       "      <th>0</th>\n",
       "      <td>536365</td>\n",
       "      <td>84029E</td>\n",
       "      <td>RED WOOLLY HOTTIE WHITE HEART.</td>\n",
       "      <td>6</td>\n",
       "      <td>2019-12-01 08:26:00</td>\n",
       "      <td>3.39</td>\n",
       "      <td>17850</td>\n",
       "      <td>United Kingdom</td>\n",
       "    </tr>\n",
       "    <tr>\n",
       "      <th>1</th>\n",
       "      <td>536367</td>\n",
       "      <td>84879</td>\n",
       "      <td>ASSORTED COLOUR BIRD ORNAMENT</td>\n",
       "      <td>32</td>\n",
       "      <td>2019-12-01 08:34:00</td>\n",
       "      <td>1.69</td>\n",
       "      <td>13047</td>\n",
       "      <td>United Kingdom</td>\n",
       "    </tr>\n",
       "    <tr>\n",
       "      <th>2</th>\n",
       "      <td>536367</td>\n",
       "      <td>21755</td>\n",
       "      <td>LOVE BUILDING BLOCK WORD</td>\n",
       "      <td>3</td>\n",
       "      <td>2019-12-01 08:34:00</td>\n",
       "      <td>5.95</td>\n",
       "      <td>13047</td>\n",
       "      <td>United Kingdom</td>\n",
       "    </tr>\n",
       "    <tr>\n",
       "      <th>3</th>\n",
       "      <td>536368</td>\n",
       "      <td>22914</td>\n",
       "      <td>BLUE COAT RACK PARIS FASHION</td>\n",
       "      <td>3</td>\n",
       "      <td>2019-12-01 08:34:00</td>\n",
       "      <td>4.95</td>\n",
       "      <td>13047</td>\n",
       "      <td>United Kingdom</td>\n",
       "    </tr>\n",
       "    <tr>\n",
       "      <th>4</th>\n",
       "      <td>536373</td>\n",
       "      <td>84406B</td>\n",
       "      <td>CREAM CUPID HEARTS COAT HANGER</td>\n",
       "      <td>8</td>\n",
       "      <td>2019-12-01 09:02:00</td>\n",
       "      <td>2.75</td>\n",
       "      <td>17850</td>\n",
       "      <td>United Kingdom</td>\n",
       "    </tr>\n",
       "  </tbody>\n",
       "</table>\n",
       "</div>"
      ],
      "text/plain": [
       "  InvoiceNo StockCode                     Description  Quantity  \\\n",
       "0    536365    84029E  RED WOOLLY HOTTIE WHITE HEART.         6   \n",
       "1    536367     84879   ASSORTED COLOUR BIRD ORNAMENT        32   \n",
       "2    536367     21755        LOVE BUILDING BLOCK WORD         3   \n",
       "3    536368     22914    BLUE COAT RACK PARIS FASHION         3   \n",
       "4    536373    84406B  CREAM CUPID HEARTS COAT HANGER         8   \n",
       "\n",
       "          InvoiceDate  UnitPrice  CustomerID         Country  \n",
       "0 2019-12-01 08:26:00       3.39       17850  United Kingdom  \n",
       "1 2019-12-01 08:34:00       1.69       13047  United Kingdom  \n",
       "2 2019-12-01 08:34:00       5.95       13047  United Kingdom  \n",
       "3 2019-12-01 08:34:00       4.95       13047  United Kingdom  \n",
       "4 2019-12-01 09:02:00       2.75       17850  United Kingdom  "
      ]
     },
     "execution_count": 19,
     "metadata": {},
     "output_type": "execute_result"
    }
   ],
   "source": [
    "df.head(5)"
   ]
  },
  {
   "cell_type": "code",
   "execution_count": 35,
   "metadata": {},
   "outputs": [
    {
     "name": "stdout",
     "output_type": "stream",
     "text": [
      "Уникальных значений номеров заказов InvoiceNo: 14877\n",
      "Уникальных значений кодов товаров StockCode: 3351\n",
      "Уникальных описаний товаров Description: 3402\n",
      "Уникальных идентификаторов клиентов CustomerID: 3820\n",
      "Уникальных стран Country: 37\n"
     ]
    }
   ],
   "source": [
    "print ('Уникальных значений номеров заказов InvoiceNo:', len(df['InvoiceNo'].unique()))\n",
    "print ('Уникальных значений кодов товаров StockCode:', len(df['StockCode'].unique()))  \n",
    "print ('Уникальных описаний товаров Description:', len(df['Description'].unique()))  \n",
    "print ('Уникальных идентификаторов клиентов CustomerID:', len(df['CustomerID'].unique()))  \n",
    "print ('Уникальных стран Country:', len(df['Country'].unique()))  "
   ]
  },
  {
   "cell_type": "code",
   "execution_count": 40,
   "metadata": {},
   "outputs": [
    {
     "name": "stdout",
     "output_type": "stream",
     "text": [
      "Список стран из поля Country: ['United Kingdom' 'Australia' 'Netherlands' 'Norway' 'EIRE' 'Germany'\n",
      " 'France' 'Switzerland' 'Spain' 'Poland' 'Italy' 'Belgium' 'Lithuania'\n",
      " 'Japan' 'Portugal' 'Iceland' 'Channel Islands' 'Denmark' 'Cyprus'\n",
      " 'Sweden' 'Finland' 'Austria' 'Israel' 'Greece' 'Hong Kong' 'Singapore'\n",
      " 'Lebanon' 'United Arab Emirates' 'Czech Republic' 'Canada' 'Unspecified'\n",
      " 'Brazil' 'USA' 'European Community' 'Bahrain' 'Malta' 'RSA']\n"
     ]
    }
   ],
   "source": [
    "print ('Список стран из поля Country:', df['Country'].unique())"
   ]
  },
  {
   "cell_type": "code",
   "execution_count": 46,
   "metadata": {},
   "outputs": [
    {
     "name": "stdout",
     "output_type": "stream",
     "text": [
      "Самая раняя дата и время заказа: 2019-12-01 08:26:00\n",
      "Наиболее поздняя дата и время заказа: 2020-12-09 12:50:00\n"
     ]
    }
   ],
   "source": [
    "print ('Самая раняя дата и время заказа:', min(df['InvoiceDate']))\n",
    "print ('Наиболее поздняя дата и время заказа:', max(df['InvoiceDate']))"
   ]
  },
  {
   "cell_type": "code",
   "execution_count": null,
   "metadata": {},
   "outputs": [],
   "source": []
  },
  {
   "cell_type": "markdown",
   "metadata": {},
   "source": [
    "## Описание набора данных\n",
    "В датасете имеется восемь полей:\n",
    "\n",
    "**InvoiceNo** - номер заказа. Тип данных - текстовое поле, поскольку некоторые значения представлены с пометкой \"С\" перед числовым значением.  Пропущеных значений данное поле не имеет. Позиции из одного заказа имеют идентичные номера. Уникальных значений номеров заказов InvoiceNo: 14877\n",
    "\n",
    "**StockCode** - код товара. Тип данных - текстовое поле. Пропущеных значений данное поле не имеет. Уникальных значений кодов товаров StockCode: 3351\n",
    "  \n",
    "**Description** - описание товара. Тип данных - текстовое поле. Имеется 134 пропущенных значения. Возможно попытаться восстановить используя код товара. Уникальных описаний товаров Description: 3402. Описаний больше чем кодов товара.\n",
    "\n",
    "**Quantity** - количество позиции товара в заказе. Тип данных - целое число. Пропусков не имеется. \n",
    "\n",
    "**InvoiceDate** - дата и время заказа товара. Тип данных -  datetime64. Пропусков не имеется. Самая раняя дата и время заказа: 01 декабря 2019 года в 08:26:00\n",
    "Наиболее поздняя дата и время заказа: 09 декабря 2020 года в  12:50:00. Таким образом имеется год данных для проведения анализа.\n",
    "\n",
    "**UnitPrice** - цена за единицу  товара. Пропусков не имеется. Тип данных - число с плавающей точкой.       \n",
    "\n",
    "**CustomerID** - идентификатор клиента. Уникальных идентификаторов клиентов CustomerID: 3820. Имеется 13571 пропуск, что составляет 25% от всего набора данных. Восстановление невозможно. Серьёзный недостаток, который повлияет на определение характеристик клиентов.\n",
    "\n",
    "**Country** - страна-местонахождение клиента. Пропусков не имеется. Имеется 37 уникальных значений: \n",
    "'United Kingdom' 'Australia' 'Netherlands' 'Norway' 'EIRE' 'Germany'\n",
    " 'France' 'Switzerland' 'Spain' 'Poland' 'Italy' 'Belgium' 'Lithuania'\n",
    " 'Japan' 'Portugal' 'Iceland' 'Channel Islands' 'Denmark' 'Cyprus'\n",
    " 'Sweden' 'Finland' 'Austria' 'Israel' 'Greece' 'Hong Kong' 'Singapore'\n",
    " 'Lebanon' 'United Arab Emirates' 'Czech Republic' 'Canada' 'Unspecified'\n",
    " 'Brazil' 'USA' 'European Community' 'Bahrain' 'Malta' 'RSA'\n",
    "\n"
   ]
  },
  {
   "cell_type": "markdown",
   "metadata": {},
   "source": [
    "## Выявление аномалий и очистка данных##"
   ]
  },
  {
   "cell_type": "markdown",
   "metadata": {},
   "source": [
    "Первой очевидной аномалией можно считать нулевую цену товара:"
   ]
  },
  {
   "cell_type": "code",
   "execution_count": 132,
   "metadata": {},
   "outputs": [
    {
     "data": {
      "text/html": [
       "<div>\n",
       "<style scoped>\n",
       "    .dataframe tbody tr th:only-of-type {\n",
       "        vertical-align: middle;\n",
       "    }\n",
       "\n",
       "    .dataframe tbody tr th {\n",
       "        vertical-align: top;\n",
       "    }\n",
       "\n",
       "    .dataframe thead th {\n",
       "        text-align: right;\n",
       "    }\n",
       "</style>\n",
       "<table border=\"1\" class=\"dataframe\">\n",
       "  <thead>\n",
       "    <tr style=\"text-align: right;\">\n",
       "      <th></th>\n",
       "      <th>InvoiceNo</th>\n",
       "      <th>StockCode</th>\n",
       "      <th>Description</th>\n",
       "      <th>Quantity</th>\n",
       "      <th>InvoiceDate</th>\n",
       "      <th>UnitPrice</th>\n",
       "      <th>CustomerID</th>\n",
       "      <th>Country</th>\n",
       "    </tr>\n",
       "  </thead>\n",
       "  <tbody>\n",
       "    <tr>\n",
       "      <th>204</th>\n",
       "      <td>536553</td>\n",
       "      <td>37461</td>\n",
       "      <td>&lt;NA&gt;</td>\n",
       "      <td>3</td>\n",
       "      <td>2019-12-01 14:35:00</td>\n",
       "      <td>0.0</td>\n",
       "      <td>&lt;NA&gt;</td>\n",
       "      <td>United Kingdom</td>\n",
       "    </tr>\n",
       "    <tr>\n",
       "      <th>730</th>\n",
       "      <td>536995</td>\n",
       "      <td>35951</td>\n",
       "      <td>&lt;NA&gt;</td>\n",
       "      <td>57</td>\n",
       "      <td>2019-12-03 15:29:00</td>\n",
       "      <td>0.0</td>\n",
       "      <td>&lt;NA&gt;</td>\n",
       "      <td>United Kingdom</td>\n",
       "    </tr>\n",
       "    <tr>\n",
       "      <th>731</th>\n",
       "      <td>536998</td>\n",
       "      <td>85067</td>\n",
       "      <td>&lt;NA&gt;</td>\n",
       "      <td>-6</td>\n",
       "      <td>2019-12-03 15:30:00</td>\n",
       "      <td>0.0</td>\n",
       "      <td>&lt;NA&gt;</td>\n",
       "      <td>United Kingdom</td>\n",
       "    </tr>\n",
       "    <tr>\n",
       "      <th>732</th>\n",
       "      <td>537005</td>\n",
       "      <td>21692</td>\n",
       "      <td>&lt;NA&gt;</td>\n",
       "      <td>-70</td>\n",
       "      <td>2019-12-03 15:35:00</td>\n",
       "      <td>0.0</td>\n",
       "      <td>&lt;NA&gt;</td>\n",
       "      <td>United Kingdom</td>\n",
       "    </tr>\n",
       "    <tr>\n",
       "      <th>733</th>\n",
       "      <td>537009</td>\n",
       "      <td>84534B</td>\n",
       "      <td>&lt;NA&gt;</td>\n",
       "      <td>-80</td>\n",
       "      <td>2019-12-03 15:38:00</td>\n",
       "      <td>0.0</td>\n",
       "      <td>&lt;NA&gt;</td>\n",
       "      <td>United Kingdom</td>\n",
       "    </tr>\n",
       "    <tr>\n",
       "      <th>...</th>\n",
       "      <td>...</td>\n",
       "      <td>...</td>\n",
       "      <td>...</td>\n",
       "      <td>...</td>\n",
       "      <td>...</td>\n",
       "      <td>...</td>\n",
       "      <td>...</td>\n",
       "      <td>...</td>\n",
       "    </tr>\n",
       "    <tr>\n",
       "      <th>51508</th>\n",
       "      <td>579743</td>\n",
       "      <td>21810</td>\n",
       "      <td>check</td>\n",
       "      <td>-135</td>\n",
       "      <td>2020-11-30 14:36:00</td>\n",
       "      <td>0.0</td>\n",
       "      <td>&lt;NA&gt;</td>\n",
       "      <td>United Kingdom</td>\n",
       "    </tr>\n",
       "    <tr>\n",
       "      <th>52171</th>\n",
       "      <td>580359</td>\n",
       "      <td>20775</td>\n",
       "      <td>&lt;NA&gt;</td>\n",
       "      <td>-35</td>\n",
       "      <td>2020-12-02 16:11:00</td>\n",
       "      <td>0.0</td>\n",
       "      <td>&lt;NA&gt;</td>\n",
       "      <td>United Kingdom</td>\n",
       "    </tr>\n",
       "    <tr>\n",
       "      <th>53536</th>\n",
       "      <td>581207</td>\n",
       "      <td>21688</td>\n",
       "      <td>mixed up</td>\n",
       "      <td>-337</td>\n",
       "      <td>2020-12-07 18:34:00</td>\n",
       "      <td>0.0</td>\n",
       "      <td>&lt;NA&gt;</td>\n",
       "      <td>United Kingdom</td>\n",
       "    </tr>\n",
       "    <tr>\n",
       "      <th>53537</th>\n",
       "      <td>581209</td>\n",
       "      <td>21620</td>\n",
       "      <td>&lt;NA&gt;</td>\n",
       "      <td>6</td>\n",
       "      <td>2020-12-07 18:35:00</td>\n",
       "      <td>0.0</td>\n",
       "      <td>&lt;NA&gt;</td>\n",
       "      <td>United Kingdom</td>\n",
       "    </tr>\n",
       "    <tr>\n",
       "      <th>53702</th>\n",
       "      <td>581226</td>\n",
       "      <td>23090</td>\n",
       "      <td>missing</td>\n",
       "      <td>-338</td>\n",
       "      <td>2020-12-08 09:56:00</td>\n",
       "      <td>0.0</td>\n",
       "      <td>&lt;NA&gt;</td>\n",
       "      <td>United Kingdom</td>\n",
       "    </tr>\n",
       "  </tbody>\n",
       "</table>\n",
       "<p>225 rows × 8 columns</p>\n",
       "</div>"
      ],
      "text/plain": [
       "      InvoiceNo StockCode Description  Quantity         InvoiceDate  \\\n",
       "204      536553     37461        <NA>         3 2019-12-01 14:35:00   \n",
       "730      536995     35951        <NA>        57 2019-12-03 15:29:00   \n",
       "731      536998     85067        <NA>        -6 2019-12-03 15:30:00   \n",
       "732      537005     21692        <NA>       -70 2019-12-03 15:35:00   \n",
       "733      537009    84534B        <NA>       -80 2019-12-03 15:38:00   \n",
       "...         ...       ...         ...       ...                 ...   \n",
       "51508    579743     21810       check      -135 2020-11-30 14:36:00   \n",
       "52171    580359     20775        <NA>       -35 2020-12-02 16:11:00   \n",
       "53536    581207     21688    mixed up      -337 2020-12-07 18:34:00   \n",
       "53537    581209     21620        <NA>         6 2020-12-07 18:35:00   \n",
       "53702    581226     23090     missing      -338 2020-12-08 09:56:00   \n",
       "\n",
       "       UnitPrice  CustomerID         Country  \n",
       "204          0.0        <NA>  United Kingdom  \n",
       "730          0.0        <NA>  United Kingdom  \n",
       "731          0.0        <NA>  United Kingdom  \n",
       "732          0.0        <NA>  United Kingdom  \n",
       "733          0.0        <NA>  United Kingdom  \n",
       "...          ...         ...             ...  \n",
       "51508        0.0        <NA>  United Kingdom  \n",
       "52171        0.0        <NA>  United Kingdom  \n",
       "53536        0.0        <NA>  United Kingdom  \n",
       "53537        0.0        <NA>  United Kingdom  \n",
       "53702        0.0        <NA>  United Kingdom  \n",
       "\n",
       "[225 rows x 8 columns]"
      ]
     },
     "execution_count": 132,
     "metadata": {},
     "output_type": "execute_result"
    }
   ],
   "source": [
    "df.loc[df.UnitPrice == 0.0]"
   ]
  },
  {
   "cell_type": "markdown",
   "metadata": {},
   "source": [
    "Такого рода записи ошибочны и их можно удалить без потери качества анализа"
   ]
  },
  {
   "cell_type": "code",
   "execution_count": 133,
   "metadata": {},
   "outputs": [],
   "source": [
    " df.drop(df[df['UnitPrice'] == 0.0].index, inplace = True)"
   ]
  },
  {
   "cell_type": "markdown",
   "metadata": {},
   "source": [
    "Посмотрим на количество товара в одном заказе:"
   ]
  },
  {
   "cell_type": "code",
   "execution_count": 134,
   "metadata": {},
   "outputs": [
    {
     "name": "stdout",
     "output_type": "stream",
     "text": [
      "Максимальное количество товара в одном заказе: 2400\n",
      "Минимальное количество товара в одном заказе: -1296\n"
     ]
    }
   ],
   "source": [
    "print('Максимальное количество товара в одном заказе:', max(df['Quantity']))\n",
    "print('Минимальное количество товара в одном заказе:', min(df['Quantity']))"
   ]
  },
  {
   "cell_type": "markdown",
   "metadata": {},
   "source": [
    "Отрицательные значения не являются ошибочными, поскольку указвают на возврат товара"
   ]
  },
  {
   "cell_type": "code",
   "execution_count": 93,
   "metadata": {},
   "outputs": [
    {
     "name": "stdout",
     "output_type": "stream",
     "text": [
      "<class 'pandas.core.frame.DataFrame'>\n",
      "Int64Index: 53989 entries, 0 to 54213\n",
      "Data columns (total 10 columns):\n",
      " #   Column       Non-Null Count  Dtype         \n",
      "---  ------       --------------  -----         \n",
      " 0   InvoiceNo    53989 non-null  object        \n",
      " 1   StockCode    53989 non-null  object        \n",
      " 2   Description  53989 non-null  object        \n",
      " 3   Quantity     53989 non-null  int64         \n",
      " 4   InvoiceDate  53989 non-null  datetime64[ns]\n",
      " 5   UnitPrice    53989 non-null  float64       \n",
      " 6   CustomerID   40639 non-null  Int64         \n",
      " 7   Country      53989 non-null  object        \n",
      " 8   InvoiceData  53989 non-null  object        \n",
      " 9   Cost         53989 non-null  float64       \n",
      "dtypes: Int64(1), datetime64[ns](1), float64(2), int64(1), object(5)\n",
      "memory usage: 4.6+ MB\n"
     ]
    }
   ],
   "source": [
    "df.info()"
   ]
  },
  {
   "cell_type": "markdown",
   "metadata": {},
   "source": [
    "Для дальнейшего анализа преобразуем датасет:\n",
    "1. Сформируем копию для изменений."
   ]
  },
  {
   "cell_type": "code",
   "execution_count": 21,
   "metadata": {},
   "outputs": [],
   "source": [
    "df1 = df"
   ]
  },
  {
   "cell_type": "markdown",
   "metadata": {},
   "source": [
    "2. Выделим отдельно дату заказа."
   ]
  },
  {
   "cell_type": "code",
   "execution_count": 22,
   "metadata": {},
   "outputs": [],
   "source": [
    "df1 ['InvoiceData'] = df1.InvoiceDate.dt.date"
   ]
  },
  {
   "cell_type": "markdown",
   "metadata": {},
   "source": [
    "3. Вычислим стоимость позиции в заказе и запишем её в отдельное поле."
   ]
  },
  {
   "cell_type": "code",
   "execution_count": 23,
   "metadata": {},
   "outputs": [],
   "source": [
    "df1['Cost'] = df1['Quantity'] * df1['UnitPrice']"
   ]
  },
  {
   "cell_type": "code",
   "execution_count": 204,
   "metadata": {},
   "outputs": [
    {
     "name": "stdout",
     "output_type": "stream",
     "text": [
      "<class 'pandas.core.frame.DataFrame'>\n",
      "Int64Index: 53988 entries, 0 to 54213\n",
      "Data columns (total 10 columns):\n",
      " #   Column       Non-Null Count  Dtype         \n",
      "---  ------       --------------  -----         \n",
      " 0   InvoiceNo    53988 non-null  object        \n",
      " 1   StockCode    53988 non-null  object        \n",
      " 2   Description  53988 non-null  object        \n",
      " 3   Quantity     53988 non-null  int64         \n",
      " 4   InvoiceDate  53988 non-null  datetime64[ns]\n",
      " 5   UnitPrice    53988 non-null  float64       \n",
      " 6   CustomerID   40639 non-null  Int64         \n",
      " 7   Country      53988 non-null  object        \n",
      " 8   InvoiceData  53988 non-null  object        \n",
      " 9   Cost         53988 non-null  float64       \n",
      "dtypes: Int64(1), datetime64[ns](1), float64(2), int64(1), object(5)\n",
      "memory usage: 7.1+ MB\n"
     ]
    }
   ],
   "source": [
    "df1.info()"
   ]
  },
  {
   "cell_type": "code",
   "execution_count": 24,
   "metadata": {},
   "outputs": [
    {
     "data": {
      "text/html": [
       "<div>\n",
       "<style scoped>\n",
       "    .dataframe tbody tr th:only-of-type {\n",
       "        vertical-align: middle;\n",
       "    }\n",
       "\n",
       "    .dataframe tbody tr th {\n",
       "        vertical-align: top;\n",
       "    }\n",
       "\n",
       "    .dataframe thead th {\n",
       "        text-align: right;\n",
       "    }\n",
       "</style>\n",
       "<table border=\"1\" class=\"dataframe\">\n",
       "  <thead>\n",
       "    <tr style=\"text-align: right;\">\n",
       "      <th></th>\n",
       "      <th>InvoiceNo</th>\n",
       "      <th>StockCode</th>\n",
       "      <th>Description</th>\n",
       "      <th>Quantity</th>\n",
       "      <th>InvoiceDate</th>\n",
       "      <th>UnitPrice</th>\n",
       "      <th>CustomerID</th>\n",
       "      <th>Country</th>\n",
       "      <th>InvoiceData</th>\n",
       "      <th>Cost</th>\n",
       "    </tr>\n",
       "  </thead>\n",
       "  <tbody>\n",
       "    <tr>\n",
       "      <th>0</th>\n",
       "      <td>536365</td>\n",
       "      <td>84029E</td>\n",
       "      <td>RED WOOLLY HOTTIE WHITE HEART.</td>\n",
       "      <td>6</td>\n",
       "      <td>2019-12-01 08:26:00</td>\n",
       "      <td>3.39</td>\n",
       "      <td>17850</td>\n",
       "      <td>United Kingdom</td>\n",
       "      <td>2019-12-01</td>\n",
       "      <td>20.34</td>\n",
       "    </tr>\n",
       "    <tr>\n",
       "      <th>1</th>\n",
       "      <td>536367</td>\n",
       "      <td>84879</td>\n",
       "      <td>ASSORTED COLOUR BIRD ORNAMENT</td>\n",
       "      <td>32</td>\n",
       "      <td>2019-12-01 08:34:00</td>\n",
       "      <td>1.69</td>\n",
       "      <td>13047</td>\n",
       "      <td>United Kingdom</td>\n",
       "      <td>2019-12-01</td>\n",
       "      <td>54.08</td>\n",
       "    </tr>\n",
       "    <tr>\n",
       "      <th>2</th>\n",
       "      <td>536367</td>\n",
       "      <td>21755</td>\n",
       "      <td>LOVE BUILDING BLOCK WORD</td>\n",
       "      <td>3</td>\n",
       "      <td>2019-12-01 08:34:00</td>\n",
       "      <td>5.95</td>\n",
       "      <td>13047</td>\n",
       "      <td>United Kingdom</td>\n",
       "      <td>2019-12-01</td>\n",
       "      <td>17.85</td>\n",
       "    </tr>\n",
       "    <tr>\n",
       "      <th>3</th>\n",
       "      <td>536368</td>\n",
       "      <td>22914</td>\n",
       "      <td>BLUE COAT RACK PARIS FASHION</td>\n",
       "      <td>3</td>\n",
       "      <td>2019-12-01 08:34:00</td>\n",
       "      <td>4.95</td>\n",
       "      <td>13047</td>\n",
       "      <td>United Kingdom</td>\n",
       "      <td>2019-12-01</td>\n",
       "      <td>14.85</td>\n",
       "    </tr>\n",
       "    <tr>\n",
       "      <th>4</th>\n",
       "      <td>536373</td>\n",
       "      <td>84406B</td>\n",
       "      <td>CREAM CUPID HEARTS COAT HANGER</td>\n",
       "      <td>8</td>\n",
       "      <td>2019-12-01 09:02:00</td>\n",
       "      <td>2.75</td>\n",
       "      <td>17850</td>\n",
       "      <td>United Kingdom</td>\n",
       "      <td>2019-12-01</td>\n",
       "      <td>22.00</td>\n",
       "    </tr>\n",
       "  </tbody>\n",
       "</table>\n",
       "</div>"
      ],
      "text/plain": [
       "  InvoiceNo StockCode                     Description  Quantity  \\\n",
       "0    536365    84029E  RED WOOLLY HOTTIE WHITE HEART.         6   \n",
       "1    536367     84879   ASSORTED COLOUR BIRD ORNAMENT        32   \n",
       "2    536367     21755        LOVE BUILDING BLOCK WORD         3   \n",
       "3    536368     22914    BLUE COAT RACK PARIS FASHION         3   \n",
       "4    536373    84406B  CREAM CUPID HEARTS COAT HANGER         8   \n",
       "\n",
       "          InvoiceDate  UnitPrice  CustomerID         Country InvoiceData  \\\n",
       "0 2019-12-01 08:26:00       3.39       17850  United Kingdom  2019-12-01   \n",
       "1 2019-12-01 08:34:00       1.69       13047  United Kingdom  2019-12-01   \n",
       "2 2019-12-01 08:34:00       5.95       13047  United Kingdom  2019-12-01   \n",
       "3 2019-12-01 08:34:00       4.95       13047  United Kingdom  2019-12-01   \n",
       "4 2019-12-01 09:02:00       2.75       17850  United Kingdom  2019-12-01   \n",
       "\n",
       "    Cost  \n",
       "0  20.34  \n",
       "1  54.08  \n",
       "2  17.85  \n",
       "3  14.85  \n",
       "4  22.00  "
      ]
     },
     "execution_count": 24,
     "metadata": {},
     "output_type": "execute_result"
    }
   ],
   "source": [
    "df1.head()"
   ]
  },
  {
   "cell_type": "markdown",
   "metadata": {},
   "source": [
    "Определим общие показатели за имеющийся период:\n",
    "1. Сумма продаж, количество единиц товаров в заказах, количество всех строк позиций клиентов  по странам."
   ]
  },
  {
   "cell_type": "code",
   "execution_count": 78,
   "metadata": {},
   "outputs": [
    {
     "data": {
      "text/html": [
       "<div>\n",
       "<style scoped>\n",
       "    .dataframe tbody tr th:only-of-type {\n",
       "        vertical-align: middle;\n",
       "    }\n",
       "\n",
       "    .dataframe tbody tr th {\n",
       "        vertical-align: top;\n",
       "    }\n",
       "\n",
       "    .dataframe thead th {\n",
       "        text-align: right;\n",
       "    }\n",
       "</style>\n",
       "<table border=\"1\" class=\"dataframe\">\n",
       "  <thead>\n",
       "    <tr style=\"text-align: right;\">\n",
       "      <th></th>\n",
       "      <th>Country</th>\n",
       "      <th>Cost_sum</th>\n",
       "      <th>Quantity_sum</th>\n",
       "      <th>CustomerID_count</th>\n",
       "    </tr>\n",
       "  </thead>\n",
       "  <tbody>\n",
       "    <tr>\n",
       "      <th>35</th>\n",
       "      <td>United Kingdom</td>\n",
       "      <td>844816.921</td>\n",
       "      <td>426989</td>\n",
       "      <td>36170</td>\n",
       "    </tr>\n",
       "    <tr>\n",
       "      <th>10</th>\n",
       "      <td>EIRE</td>\n",
       "      <td>27443.140</td>\n",
       "      <td>13845</td>\n",
       "      <td>720</td>\n",
       "    </tr>\n",
       "    <tr>\n",
       "      <th>24</th>\n",
       "      <td>Netherlands</td>\n",
       "      <td>26267.780</td>\n",
       "      <td>20917</td>\n",
       "      <td>234</td>\n",
       "    </tr>\n",
       "    <tr>\n",
       "      <th>14</th>\n",
       "      <td>Germany</td>\n",
       "      <td>22519.200</td>\n",
       "      <td>11993</td>\n",
       "      <td>951</td>\n",
       "    </tr>\n",
       "    <tr>\n",
       "      <th>13</th>\n",
       "      <td>France</td>\n",
       "      <td>19472.990</td>\n",
       "      <td>11104</td>\n",
       "      <td>874</td>\n",
       "    </tr>\n",
       "    <tr>\n",
       "      <th>0</th>\n",
       "      <td>Australia</td>\n",
       "      <td>17072.960</td>\n",
       "      <td>9973</td>\n",
       "      <td>130</td>\n",
       "    </tr>\n",
       "    <tr>\n",
       "      <th>32</th>\n",
       "      <td>Switzerland</td>\n",
       "      <td>6209.300</td>\n",
       "      <td>3539</td>\n",
       "      <td>179</td>\n",
       "    </tr>\n",
       "    <tr>\n",
       "      <th>30</th>\n",
       "      <td>Spain</td>\n",
       "      <td>5955.580</td>\n",
       "      <td>2934</td>\n",
       "      <td>253</td>\n",
       "    </tr>\n",
       "    <tr>\n",
       "      <th>3</th>\n",
       "      <td>Belgium</td>\n",
       "      <td>4032.060</td>\n",
       "      <td>2392</td>\n",
       "      <td>211</td>\n",
       "    </tr>\n",
       "    <tr>\n",
       "      <th>25</th>\n",
       "      <td>Norway</td>\n",
       "      <td>3859.900</td>\n",
       "      <td>1800</td>\n",
       "      <td>105</td>\n",
       "    </tr>\n",
       "    <tr>\n",
       "      <th>31</th>\n",
       "      <td>Sweden</td>\n",
       "      <td>3748.520</td>\n",
       "      <td>4200</td>\n",
       "      <td>50</td>\n",
       "    </tr>\n",
       "    <tr>\n",
       "      <th>27</th>\n",
       "      <td>Portugal</td>\n",
       "      <td>3442.350</td>\n",
       "      <td>1830</td>\n",
       "      <td>148</td>\n",
       "    </tr>\n",
       "    <tr>\n",
       "      <th>6</th>\n",
       "      <td>Channel Islands</td>\n",
       "      <td>2877.950</td>\n",
       "      <td>1567</td>\n",
       "      <td>81</td>\n",
       "    </tr>\n",
       "    <tr>\n",
       "      <th>9</th>\n",
       "      <td>Denmark</td>\n",
       "      <td>2058.840</td>\n",
       "      <td>742</td>\n",
       "      <td>35</td>\n",
       "    </tr>\n",
       "    <tr>\n",
       "      <th>12</th>\n",
       "      <td>Finland</td>\n",
       "      <td>2040.600</td>\n",
       "      <td>1017</td>\n",
       "      <td>72</td>\n",
       "    </tr>\n",
       "    <tr>\n",
       "      <th>20</th>\n",
       "      <td>Japan</td>\n",
       "      <td>2001.580</td>\n",
       "      <td>1474</td>\n",
       "      <td>33</td>\n",
       "    </tr>\n",
       "    <tr>\n",
       "      <th>19</th>\n",
       "      <td>Italy</td>\n",
       "      <td>1438.620</td>\n",
       "      <td>760</td>\n",
       "      <td>77</td>\n",
       "    </tr>\n",
       "    <tr>\n",
       "      <th>1</th>\n",
       "      <td>Austria</td>\n",
       "      <td>1036.270</td>\n",
       "      <td>449</td>\n",
       "      <td>48</td>\n",
       "    </tr>\n",
       "    <tr>\n",
       "      <th>26</th>\n",
       "      <td>Poland</td>\n",
       "      <td>904.930</td>\n",
       "      <td>461</td>\n",
       "      <td>44</td>\n",
       "    </tr>\n",
       "    <tr>\n",
       "      <th>7</th>\n",
       "      <td>Cyprus</td>\n",
       "      <td>737.260</td>\n",
       "      <td>850</td>\n",
       "      <td>61</td>\n",
       "    </tr>\n",
       "    <tr>\n",
       "      <th>29</th>\n",
       "      <td>Singapore</td>\n",
       "      <td>720.480</td>\n",
       "      <td>372</td>\n",
       "      <td>25</td>\n",
       "    </tr>\n",
       "    <tr>\n",
       "      <th>18</th>\n",
       "      <td>Israel</td>\n",
       "      <td>531.720</td>\n",
       "      <td>331</td>\n",
       "      <td>20</td>\n",
       "    </tr>\n",
       "    <tr>\n",
       "      <th>36</th>\n",
       "      <td>Unspecified</td>\n",
       "      <td>520.220</td>\n",
       "      <td>292</td>\n",
       "      <td>21</td>\n",
       "    </tr>\n",
       "    <tr>\n",
       "      <th>15</th>\n",
       "      <td>Greece</td>\n",
       "      <td>490.820</td>\n",
       "      <td>158</td>\n",
       "      <td>14</td>\n",
       "    </tr>\n",
       "    <tr>\n",
       "      <th>22</th>\n",
       "      <td>Lithuania</td>\n",
       "      <td>291.600</td>\n",
       "      <td>104</td>\n",
       "      <td>6</td>\n",
       "    </tr>\n",
       "    <tr>\n",
       "      <th>23</th>\n",
       "      <td>Malta</td>\n",
       "      <td>282.100</td>\n",
       "      <td>38</td>\n",
       "      <td>9</td>\n",
       "    </tr>\n",
       "    <tr>\n",
       "      <th>17</th>\n",
       "      <td>Iceland</td>\n",
       "      <td>271.790</td>\n",
       "      <td>161</td>\n",
       "      <td>15</td>\n",
       "    </tr>\n",
       "    <tr>\n",
       "      <th>5</th>\n",
       "      <td>Canada</td>\n",
       "      <td>214.140</td>\n",
       "      <td>226</td>\n",
       "      <td>13</td>\n",
       "    </tr>\n",
       "    <tr>\n",
       "      <th>33</th>\n",
       "      <td>USA</td>\n",
       "      <td>102.260</td>\n",
       "      <td>-28</td>\n",
       "      <td>23</td>\n",
       "    </tr>\n",
       "    <tr>\n",
       "      <th>34</th>\n",
       "      <td>United Arab Emirates</td>\n",
       "      <td>96.420</td>\n",
       "      <td>38</td>\n",
       "      <td>5</td>\n",
       "    </tr>\n",
       "    <tr>\n",
       "      <th>8</th>\n",
       "      <td>Czech Republic</td>\n",
       "      <td>82.200</td>\n",
       "      <td>36</td>\n",
       "      <td>2</td>\n",
       "    </tr>\n",
       "    <tr>\n",
       "      <th>11</th>\n",
       "      <td>European Community</td>\n",
       "      <td>80.900</td>\n",
       "      <td>33</td>\n",
       "      <td>5</td>\n",
       "    </tr>\n",
       "    <tr>\n",
       "      <th>4</th>\n",
       "      <td>Brazil</td>\n",
       "      <td>79.800</td>\n",
       "      <td>28</td>\n",
       "      <td>3</td>\n",
       "    </tr>\n",
       "    <tr>\n",
       "      <th>28</th>\n",
       "      <td>RSA</td>\n",
       "      <td>42.140</td>\n",
       "      <td>29</td>\n",
       "      <td>4</td>\n",
       "    </tr>\n",
       "    <tr>\n",
       "      <th>21</th>\n",
       "      <td>Lebanon</td>\n",
       "      <td>39.600</td>\n",
       "      <td>8</td>\n",
       "      <td>1</td>\n",
       "    </tr>\n",
       "    <tr>\n",
       "      <th>2</th>\n",
       "      <td>Bahrain</td>\n",
       "      <td>17.700</td>\n",
       "      <td>6</td>\n",
       "      <td>1</td>\n",
       "    </tr>\n",
       "    <tr>\n",
       "      <th>16</th>\n",
       "      <td>Hong Kong</td>\n",
       "      <td>-1704.750</td>\n",
       "      <td>372</td>\n",
       "      <td>0</td>\n",
       "    </tr>\n",
       "  </tbody>\n",
       "</table>\n",
       "</div>"
      ],
      "text/plain": [
       "                 Country    Cost_sum  Quantity_sum  CustomerID_count\n",
       "35        United Kingdom  844816.921        426989             36170\n",
       "10                  EIRE   27443.140         13845               720\n",
       "24           Netherlands   26267.780         20917               234\n",
       "14               Germany   22519.200         11993               951\n",
       "13                France   19472.990         11104               874\n",
       "0              Australia   17072.960          9973               130\n",
       "32           Switzerland    6209.300          3539               179\n",
       "30                 Spain    5955.580          2934               253\n",
       "3                Belgium    4032.060          2392               211\n",
       "25                Norway    3859.900          1800               105\n",
       "31                Sweden    3748.520          4200                50\n",
       "27              Portugal    3442.350          1830               148\n",
       "6        Channel Islands    2877.950          1567                81\n",
       "9                Denmark    2058.840           742                35\n",
       "12               Finland    2040.600          1017                72\n",
       "20                 Japan    2001.580          1474                33\n",
       "19                 Italy    1438.620           760                77\n",
       "1                Austria    1036.270           449                48\n",
       "26                Poland     904.930           461                44\n",
       "7                 Cyprus     737.260           850                61\n",
       "29             Singapore     720.480           372                25\n",
       "18                Israel     531.720           331                20\n",
       "36           Unspecified     520.220           292                21\n",
       "15                Greece     490.820           158                14\n",
       "22             Lithuania     291.600           104                 6\n",
       "23                 Malta     282.100            38                 9\n",
       "17               Iceland     271.790           161                15\n",
       "5                 Canada     214.140           226                13\n",
       "33                   USA     102.260           -28                23\n",
       "34  United Arab Emirates      96.420            38                 5\n",
       "8         Czech Republic      82.200            36                 2\n",
       "11    European Community      80.900            33                 5\n",
       "4                 Brazil      79.800            28                 3\n",
       "28                   RSA      42.140            29                 4\n",
       "21               Lebanon      39.600             8                 1\n",
       "2                Bahrain      17.700             6                 1\n",
       "16             Hong Kong   -1704.750           372                 0"
      ]
     },
     "execution_count": 78,
     "metadata": {},
     "output_type": "execute_result"
    }
   ],
   "source": [
    "df_country = df1.groupby(['Country']).agg(Cost_sum = ('Cost', 'sum'), \n",
    "                                          Quantity_sum = ('Quantity', 'sum'), \n",
    "                                          CustomerID_count=('CustomerID','count')).reset_index()\n",
    "df_country.sort_values(by='Cost_sum', ascending=False)"
   ]
  },
  {
   "cell_type": "markdown",
   "metadata": {},
   "source": [
    "**Вывод** Значительный разрыв между Великобританией Ирландией и остальными страними объясняется размещением Интернет-магазина в Великобритании. Ненормальным предствляется ситуация по Гонконгу - нет определяемых идентификаторов клиентов, имеется отрицательная сумма по заказам."
   ]
  },
  {
   "cell_type": "markdown",
   "metadata": {},
   "source": [
    "Выведем подробно информацию по Гонконгу:"
   ]
  },
  {
   "cell_type": "code",
   "execution_count": 135,
   "metadata": {
    "scrolled": true
   },
   "outputs": [
    {
     "data": {
      "text/html": [
       "<div>\n",
       "<style scoped>\n",
       "    .dataframe tbody tr th:only-of-type {\n",
       "        vertical-align: middle;\n",
       "    }\n",
       "\n",
       "    .dataframe tbody tr th {\n",
       "        vertical-align: top;\n",
       "    }\n",
       "\n",
       "    .dataframe thead th {\n",
       "        text-align: right;\n",
       "    }\n",
       "</style>\n",
       "<table border=\"1\" class=\"dataframe\">\n",
       "  <thead>\n",
       "    <tr style=\"text-align: right;\">\n",
       "      <th></th>\n",
       "      <th>InvoiceNo</th>\n",
       "      <th>StockCode</th>\n",
       "      <th>Description</th>\n",
       "      <th>Quantity</th>\n",
       "      <th>InvoiceDate</th>\n",
       "      <th>UnitPrice</th>\n",
       "      <th>CustomerID</th>\n",
       "      <th>Country</th>\n",
       "      <th>InvoiceData</th>\n",
       "      <th>Cost</th>\n",
       "    </tr>\n",
       "  </thead>\n",
       "  <tbody>\n",
       "    <tr>\n",
       "      <th>6995</th>\n",
       "      <td>541975</td>\n",
       "      <td>22554</td>\n",
       "      <td>PLASTERS IN TIN WOODLAND ANIMALS</td>\n",
       "      <td>36</td>\n",
       "      <td>2020-01-24 14:24:00</td>\n",
       "      <td>1.65</td>\n",
       "      <td>&lt;NA&gt;</td>\n",
       "      <td>Hong Kong</td>\n",
       "      <td>2020-01-24</td>\n",
       "      <td>59.40</td>\n",
       "    </tr>\n",
       "    <tr>\n",
       "      <th>6996</th>\n",
       "      <td>541975</td>\n",
       "      <td>84997D</td>\n",
       "      <td>PINK 3 PIECE POLKADOT CUTLERY SET</td>\n",
       "      <td>24</td>\n",
       "      <td>2020-01-24 14:24:00</td>\n",
       "      <td>3.75</td>\n",
       "      <td>&lt;NA&gt;</td>\n",
       "      <td>Hong Kong</td>\n",
       "      <td>2020-01-24</td>\n",
       "      <td>90.00</td>\n",
       "    </tr>\n",
       "    <tr>\n",
       "      <th>6997</th>\n",
       "      <td>541975</td>\n",
       "      <td>20749</td>\n",
       "      <td>ASSORTED COLOUR MINI CASES</td>\n",
       "      <td>6</td>\n",
       "      <td>2020-01-24 14:24:00</td>\n",
       "      <td>7.95</td>\n",
       "      <td>&lt;NA&gt;</td>\n",
       "      <td>Hong Kong</td>\n",
       "      <td>2020-01-24</td>\n",
       "      <td>47.70</td>\n",
       "    </tr>\n",
       "    <tr>\n",
       "      <th>6998</th>\n",
       "      <td>541975</td>\n",
       "      <td>20726</td>\n",
       "      <td>LUNCH BAG WOODLAND</td>\n",
       "      <td>20</td>\n",
       "      <td>2020-01-24 14:24:00</td>\n",
       "      <td>1.65</td>\n",
       "      <td>&lt;NA&gt;</td>\n",
       "      <td>Hong Kong</td>\n",
       "      <td>2020-01-24</td>\n",
       "      <td>33.00</td>\n",
       "    </tr>\n",
       "    <tr>\n",
       "      <th>6999</th>\n",
       "      <td>541975</td>\n",
       "      <td>22454</td>\n",
       "      <td>MEASURING TAPE BABUSHKA RED</td>\n",
       "      <td>24</td>\n",
       "      <td>2020-01-24 14:24:00</td>\n",
       "      <td>2.95</td>\n",
       "      <td>&lt;NA&gt;</td>\n",
       "      <td>Hong Kong</td>\n",
       "      <td>2020-01-24</td>\n",
       "      <td>70.80</td>\n",
       "    </tr>\n",
       "    <tr>\n",
       "      <th>7000</th>\n",
       "      <td>541975</td>\n",
       "      <td>20682</td>\n",
       "      <td>RED RETROSPOT CHILDRENS UMBRELLA</td>\n",
       "      <td>6</td>\n",
       "      <td>2020-01-24 14:24:00</td>\n",
       "      <td>3.25</td>\n",
       "      <td>&lt;NA&gt;</td>\n",
       "      <td>Hong Kong</td>\n",
       "      <td>2020-01-24</td>\n",
       "      <td>19.50</td>\n",
       "    </tr>\n",
       "    <tr>\n",
       "      <th>12122</th>\n",
       "      <td>C546557</td>\n",
       "      <td>M</td>\n",
       "      <td>Manual</td>\n",
       "      <td>-1</td>\n",
       "      <td>2020-03-15 09:44:00</td>\n",
       "      <td>2583.76</td>\n",
       "      <td>&lt;NA&gt;</td>\n",
       "      <td>Hong Kong</td>\n",
       "      <td>2020-03-15</td>\n",
       "      <td>-2583.76</td>\n",
       "    </tr>\n",
       "    <tr>\n",
       "      <th>15445</th>\n",
       "      <td>549738</td>\n",
       "      <td>23052</td>\n",
       "      <td>RECYCLED ACAPULCO MAT TURQUOISE</td>\n",
       "      <td>2</td>\n",
       "      <td>2020-04-12 09:28:00</td>\n",
       "      <td>8.25</td>\n",
       "      <td>&lt;NA&gt;</td>\n",
       "      <td>Hong Kong</td>\n",
       "      <td>2020-04-12</td>\n",
       "      <td>16.50</td>\n",
       "    </tr>\n",
       "    <tr>\n",
       "      <th>15446</th>\n",
       "      <td>549738</td>\n",
       "      <td>22328</td>\n",
       "      <td>ROUND SNACK BOXES SET OF 4 FRUITS</td>\n",
       "      <td>30</td>\n",
       "      <td>2020-04-12 09:28:00</td>\n",
       "      <td>2.95</td>\n",
       "      <td>&lt;NA&gt;</td>\n",
       "      <td>Hong Kong</td>\n",
       "      <td>2020-04-12</td>\n",
       "      <td>88.50</td>\n",
       "    </tr>\n",
       "    <tr>\n",
       "      <th>19035</th>\n",
       "      <td>553148</td>\n",
       "      <td>79030G</td>\n",
       "      <td>TUMBLER NEW ENGLAND</td>\n",
       "      <td>24</td>\n",
       "      <td>2020-05-13 14:09:00</td>\n",
       "      <td>0.39</td>\n",
       "      <td>&lt;NA&gt;</td>\n",
       "      <td>Hong Kong</td>\n",
       "      <td>2020-05-13</td>\n",
       "      <td>9.36</td>\n",
       "    </tr>\n",
       "    <tr>\n",
       "      <th>19036</th>\n",
       "      <td>553148</td>\n",
       "      <td>84563B</td>\n",
       "      <td>BLUE &amp; WHITE BREAKFAST TRAY</td>\n",
       "      <td>4</td>\n",
       "      <td>2020-05-13 14:09:00</td>\n",
       "      <td>2.95</td>\n",
       "      <td>&lt;NA&gt;</td>\n",
       "      <td>Hong Kong</td>\n",
       "      <td>2020-05-13</td>\n",
       "      <td>11.80</td>\n",
       "    </tr>\n",
       "    <tr>\n",
       "      <th>19037</th>\n",
       "      <td>553148</td>\n",
       "      <td>85132A</td>\n",
       "      <td>CHARLIE + LOLA BISCUITS TINS</td>\n",
       "      <td>12</td>\n",
       "      <td>2020-05-13 14:09:00</td>\n",
       "      <td>1.95</td>\n",
       "      <td>&lt;NA&gt;</td>\n",
       "      <td>Hong Kong</td>\n",
       "      <td>2020-05-13</td>\n",
       "      <td>23.40</td>\n",
       "    </tr>\n",
       "    <tr>\n",
       "      <th>19038</th>\n",
       "      <td>553148</td>\n",
       "      <td>22333</td>\n",
       "      <td>RETROSPOT PARTY BAG + STICKER SET</td>\n",
       "      <td>8</td>\n",
       "      <td>2020-05-13 14:09:00</td>\n",
       "      <td>1.65</td>\n",
       "      <td>&lt;NA&gt;</td>\n",
       "      <td>Hong Kong</td>\n",
       "      <td>2020-05-13</td>\n",
       "      <td>13.20</td>\n",
       "    </tr>\n",
       "    <tr>\n",
       "      <th>19039</th>\n",
       "      <td>553148</td>\n",
       "      <td>47599B</td>\n",
       "      <td>BLUE PARTY BAGS</td>\n",
       "      <td>6</td>\n",
       "      <td>2020-05-13 14:09:00</td>\n",
       "      <td>2.10</td>\n",
       "      <td>&lt;NA&gt;</td>\n",
       "      <td>Hong Kong</td>\n",
       "      <td>2020-05-13</td>\n",
       "      <td>12.60</td>\n",
       "    </tr>\n",
       "    <tr>\n",
       "      <th>19040</th>\n",
       "      <td>553148</td>\n",
       "      <td>47599A</td>\n",
       "      <td>PINK PARTY BAGS</td>\n",
       "      <td>6</td>\n",
       "      <td>2020-05-13 14:09:00</td>\n",
       "      <td>2.10</td>\n",
       "      <td>&lt;NA&gt;</td>\n",
       "      <td>Hong Kong</td>\n",
       "      <td>2020-05-13</td>\n",
       "      <td>12.60</td>\n",
       "    </tr>\n",
       "    <tr>\n",
       "      <th>19041</th>\n",
       "      <td>553148</td>\n",
       "      <td>85088</td>\n",
       "      <td>CANDY SPOT HAND BAG</td>\n",
       "      <td>6</td>\n",
       "      <td>2020-05-13 14:09:00</td>\n",
       "      <td>2.10</td>\n",
       "      <td>&lt;NA&gt;</td>\n",
       "      <td>Hong Kong</td>\n",
       "      <td>2020-05-13</td>\n",
       "      <td>12.60</td>\n",
       "    </tr>\n",
       "    <tr>\n",
       "      <th>19042</th>\n",
       "      <td>553148</td>\n",
       "      <td>21371</td>\n",
       "      <td>MIRRORED WALL ART POPPIES</td>\n",
       "      <td>6</td>\n",
       "      <td>2020-05-13 14:09:00</td>\n",
       "      <td>2.55</td>\n",
       "      <td>&lt;NA&gt;</td>\n",
       "      <td>Hong Kong</td>\n",
       "      <td>2020-05-13</td>\n",
       "      <td>15.30</td>\n",
       "    </tr>\n",
       "    <tr>\n",
       "      <th>19043</th>\n",
       "      <td>553148</td>\n",
       "      <td>22628</td>\n",
       "      <td>PICNIC BOXES SET OF 3 RETROSPOT</td>\n",
       "      <td>4</td>\n",
       "      <td>2020-05-13 14:09:00</td>\n",
       "      <td>4.95</td>\n",
       "      <td>&lt;NA&gt;</td>\n",
       "      <td>Hong Kong</td>\n",
       "      <td>2020-05-13</td>\n",
       "      <td>19.80</td>\n",
       "    </tr>\n",
       "    <tr>\n",
       "      <th>19044</th>\n",
       "      <td>553148</td>\n",
       "      <td>22895</td>\n",
       "      <td>SET OF 2 TEA TOWELS APPLE AND PEARS</td>\n",
       "      <td>6</td>\n",
       "      <td>2020-05-13 14:09:00</td>\n",
       "      <td>3.25</td>\n",
       "      <td>&lt;NA&gt;</td>\n",
       "      <td>Hong Kong</td>\n",
       "      <td>2020-05-13</td>\n",
       "      <td>19.50</td>\n",
       "    </tr>\n",
       "    <tr>\n",
       "      <th>19045</th>\n",
       "      <td>553148</td>\n",
       "      <td>20676</td>\n",
       "      <td>RED RETROSPOT BOWL</td>\n",
       "      <td>32</td>\n",
       "      <td>2020-05-13 14:09:00</td>\n",
       "      <td>1.25</td>\n",
       "      <td>&lt;NA&gt;</td>\n",
       "      <td>Hong Kong</td>\n",
       "      <td>2020-05-13</td>\n",
       "      <td>40.00</td>\n",
       "    </tr>\n",
       "    <tr>\n",
       "      <th>19046</th>\n",
       "      <td>553148</td>\n",
       "      <td>85087</td>\n",
       "      <td>CANDY SPOT CUSHION COVER</td>\n",
       "      <td>6</td>\n",
       "      <td>2020-05-13 14:09:00</td>\n",
       "      <td>2.95</td>\n",
       "      <td>&lt;NA&gt;</td>\n",
       "      <td>Hong Kong</td>\n",
       "      <td>2020-05-13</td>\n",
       "      <td>17.70</td>\n",
       "    </tr>\n",
       "    <tr>\n",
       "      <th>30968</th>\n",
       "      <td>564087</td>\n",
       "      <td>20961</td>\n",
       "      <td>STRAWBERRY BATH SPONGE</td>\n",
       "      <td>20</td>\n",
       "      <td>2020-08-23 09:38:00</td>\n",
       "      <td>1.25</td>\n",
       "      <td>&lt;NA&gt;</td>\n",
       "      <td>Hong Kong</td>\n",
       "      <td>2020-08-23</td>\n",
       "      <td>25.00</td>\n",
       "    </tr>\n",
       "    <tr>\n",
       "      <th>30969</th>\n",
       "      <td>564087</td>\n",
       "      <td>20963</td>\n",
       "      <td>APPLE BATH SPONGE</td>\n",
       "      <td>30</td>\n",
       "      <td>2020-08-23 09:38:00</td>\n",
       "      <td>1.25</td>\n",
       "      <td>&lt;NA&gt;</td>\n",
       "      <td>Hong Kong</td>\n",
       "      <td>2020-08-23</td>\n",
       "      <td>37.50</td>\n",
       "    </tr>\n",
       "    <tr>\n",
       "      <th>30970</th>\n",
       "      <td>564087</td>\n",
       "      <td>21154</td>\n",
       "      <td>RED RETROSPOT OVEN GLOVE</td>\n",
       "      <td>10</td>\n",
       "      <td>2020-08-23 09:38:00</td>\n",
       "      <td>1.25</td>\n",
       "      <td>&lt;NA&gt;</td>\n",
       "      <td>Hong Kong</td>\n",
       "      <td>2020-08-23</td>\n",
       "      <td>12.50</td>\n",
       "    </tr>\n",
       "    <tr>\n",
       "      <th>30971</th>\n",
       "      <td>564087</td>\n",
       "      <td>21906</td>\n",
       "      <td>PHARMACIE FIRST AID TIN</td>\n",
       "      <td>8</td>\n",
       "      <td>2020-08-23 09:38:00</td>\n",
       "      <td>6.75</td>\n",
       "      <td>&lt;NA&gt;</td>\n",
       "      <td>Hong Kong</td>\n",
       "      <td>2020-08-23</td>\n",
       "      <td>54.00</td>\n",
       "    </tr>\n",
       "    <tr>\n",
       "      <th>30972</th>\n",
       "      <td>564087</td>\n",
       "      <td>21843</td>\n",
       "      <td>RED RETROSPOT CAKE STAND</td>\n",
       "      <td>5</td>\n",
       "      <td>2020-08-23 09:38:00</td>\n",
       "      <td>10.95</td>\n",
       "      <td>&lt;NA&gt;</td>\n",
       "      <td>Hong Kong</td>\n",
       "      <td>2020-08-23</td>\n",
       "      <td>54.75</td>\n",
       "    </tr>\n",
       "    <tr>\n",
       "      <th>40437</th>\n",
       "      <td>571652</td>\n",
       "      <td>37495</td>\n",
       "      <td>FAIRY CAKE BIRTHDAY CANDLE SET</td>\n",
       "      <td>4</td>\n",
       "      <td>2020-10-18 12:17:00</td>\n",
       "      <td>3.75</td>\n",
       "      <td>&lt;NA&gt;</td>\n",
       "      <td>Hong Kong</td>\n",
       "      <td>2020-10-18</td>\n",
       "      <td>15.00</td>\n",
       "    </tr>\n",
       "    <tr>\n",
       "      <th>40438</th>\n",
       "      <td>571652</td>\n",
       "      <td>22780</td>\n",
       "      <td>LIGHT GARLAND BUTTERFILES PINK</td>\n",
       "      <td>4</td>\n",
       "      <td>2020-10-18 12:17:00</td>\n",
       "      <td>4.25</td>\n",
       "      <td>&lt;NA&gt;</td>\n",
       "      <td>Hong Kong</td>\n",
       "      <td>2020-10-18</td>\n",
       "      <td>17.00</td>\n",
       "    </tr>\n",
       "    <tr>\n",
       "      <th>42336</th>\n",
       "      <td>573154</td>\n",
       "      <td>21915</td>\n",
       "      <td>RED  HARMONICA IN BOX</td>\n",
       "      <td>24</td>\n",
       "      <td>2020-10-28 08:20:00</td>\n",
       "      <td>1.25</td>\n",
       "      <td>&lt;NA&gt;</td>\n",
       "      <td>Hong Kong</td>\n",
       "      <td>2020-10-28</td>\n",
       "      <td>30.00</td>\n",
       "    </tr>\n",
       "  </tbody>\n",
       "</table>\n",
       "</div>"
      ],
      "text/plain": [
       "      InvoiceNo StockCode                          Description  Quantity  \\\n",
       "6995     541975     22554     PLASTERS IN TIN WOODLAND ANIMALS        36   \n",
       "6996     541975    84997D    PINK 3 PIECE POLKADOT CUTLERY SET        24   \n",
       "6997     541975     20749           ASSORTED COLOUR MINI CASES         6   \n",
       "6998     541975     20726                   LUNCH BAG WOODLAND        20   \n",
       "6999     541975     22454          MEASURING TAPE BABUSHKA RED        24   \n",
       "7000     541975     20682     RED RETROSPOT CHILDRENS UMBRELLA         6   \n",
       "12122   C546557         M                               Manual        -1   \n",
       "15445    549738     23052      RECYCLED ACAPULCO MAT TURQUOISE         2   \n",
       "15446    549738     22328   ROUND SNACK BOXES SET OF 4 FRUITS         30   \n",
       "19035    553148    79030G                  TUMBLER NEW ENGLAND        24   \n",
       "19036    553148    84563B          BLUE & WHITE BREAKFAST TRAY         4   \n",
       "19037    553148    85132A         CHARLIE + LOLA BISCUITS TINS        12   \n",
       "19038    553148     22333    RETROSPOT PARTY BAG + STICKER SET         8   \n",
       "19039    553148    47599B                     BLUE PARTY BAGS          6   \n",
       "19040    553148    47599A                      PINK PARTY BAGS         6   \n",
       "19041    553148     85088                  CANDY SPOT HAND BAG         6   \n",
       "19042    553148     21371            MIRRORED WALL ART POPPIES         6   \n",
       "19043    553148     22628     PICNIC BOXES SET OF 3 RETROSPOT          4   \n",
       "19044    553148     22895  SET OF 2 TEA TOWELS APPLE AND PEARS         6   \n",
       "19045    553148     20676                   RED RETROSPOT BOWL        32   \n",
       "19046    553148     85087             CANDY SPOT CUSHION COVER         6   \n",
       "30968    564087     20961              STRAWBERRY BATH SPONGE         20   \n",
       "30969    564087     20963                    APPLE BATH SPONGE        30   \n",
       "30970    564087     21154            RED RETROSPOT OVEN GLOVE         10   \n",
       "30971    564087     21906              PHARMACIE FIRST AID TIN         8   \n",
       "30972    564087     21843             RED RETROSPOT CAKE STAND         5   \n",
       "40437    571652     37495       FAIRY CAKE BIRTHDAY CANDLE SET         4   \n",
       "40438    571652     22780       LIGHT GARLAND BUTTERFILES PINK         4   \n",
       "42336    573154     21915               RED  HARMONICA IN BOX         24   \n",
       "\n",
       "              InvoiceDate  UnitPrice  CustomerID    Country InvoiceData  \\\n",
       "6995  2020-01-24 14:24:00       1.65        <NA>  Hong Kong  2020-01-24   \n",
       "6996  2020-01-24 14:24:00       3.75        <NA>  Hong Kong  2020-01-24   \n",
       "6997  2020-01-24 14:24:00       7.95        <NA>  Hong Kong  2020-01-24   \n",
       "6998  2020-01-24 14:24:00       1.65        <NA>  Hong Kong  2020-01-24   \n",
       "6999  2020-01-24 14:24:00       2.95        <NA>  Hong Kong  2020-01-24   \n",
       "7000  2020-01-24 14:24:00       3.25        <NA>  Hong Kong  2020-01-24   \n",
       "12122 2020-03-15 09:44:00    2583.76        <NA>  Hong Kong  2020-03-15   \n",
       "15445 2020-04-12 09:28:00       8.25        <NA>  Hong Kong  2020-04-12   \n",
       "15446 2020-04-12 09:28:00       2.95        <NA>  Hong Kong  2020-04-12   \n",
       "19035 2020-05-13 14:09:00       0.39        <NA>  Hong Kong  2020-05-13   \n",
       "19036 2020-05-13 14:09:00       2.95        <NA>  Hong Kong  2020-05-13   \n",
       "19037 2020-05-13 14:09:00       1.95        <NA>  Hong Kong  2020-05-13   \n",
       "19038 2020-05-13 14:09:00       1.65        <NA>  Hong Kong  2020-05-13   \n",
       "19039 2020-05-13 14:09:00       2.10        <NA>  Hong Kong  2020-05-13   \n",
       "19040 2020-05-13 14:09:00       2.10        <NA>  Hong Kong  2020-05-13   \n",
       "19041 2020-05-13 14:09:00       2.10        <NA>  Hong Kong  2020-05-13   \n",
       "19042 2020-05-13 14:09:00       2.55        <NA>  Hong Kong  2020-05-13   \n",
       "19043 2020-05-13 14:09:00       4.95        <NA>  Hong Kong  2020-05-13   \n",
       "19044 2020-05-13 14:09:00       3.25        <NA>  Hong Kong  2020-05-13   \n",
       "19045 2020-05-13 14:09:00       1.25        <NA>  Hong Kong  2020-05-13   \n",
       "19046 2020-05-13 14:09:00       2.95        <NA>  Hong Kong  2020-05-13   \n",
       "30968 2020-08-23 09:38:00       1.25        <NA>  Hong Kong  2020-08-23   \n",
       "30969 2020-08-23 09:38:00       1.25        <NA>  Hong Kong  2020-08-23   \n",
       "30970 2020-08-23 09:38:00       1.25        <NA>  Hong Kong  2020-08-23   \n",
       "30971 2020-08-23 09:38:00       6.75        <NA>  Hong Kong  2020-08-23   \n",
       "30972 2020-08-23 09:38:00      10.95        <NA>  Hong Kong  2020-08-23   \n",
       "40437 2020-10-18 12:17:00       3.75        <NA>  Hong Kong  2020-10-18   \n",
       "40438 2020-10-18 12:17:00       4.25        <NA>  Hong Kong  2020-10-18   \n",
       "42336 2020-10-28 08:20:00       1.25        <NA>  Hong Kong  2020-10-28   \n",
       "\n",
       "          Cost  \n",
       "6995     59.40  \n",
       "6996     90.00  \n",
       "6997     47.70  \n",
       "6998     33.00  \n",
       "6999     70.80  \n",
       "7000     19.50  \n",
       "12122 -2583.76  \n",
       "15445    16.50  \n",
       "15446    88.50  \n",
       "19035     9.36  \n",
       "19036    11.80  \n",
       "19037    23.40  \n",
       "19038    13.20  \n",
       "19039    12.60  \n",
       "19040    12.60  \n",
       "19041    12.60  \n",
       "19042    15.30  \n",
       "19043    19.80  \n",
       "19044    19.50  \n",
       "19045    40.00  \n",
       "19046    17.70  \n",
       "30968    25.00  \n",
       "30969    37.50  \n",
       "30970    12.50  \n",
       "30971    54.00  \n",
       "30972    54.75  \n",
       "40437    15.00  \n",
       "40438    17.00  \n",
       "42336    30.00  "
      ]
     },
     "execution_count": 135,
     "metadata": {},
     "output_type": "execute_result"
    }
   ],
   "source": [
    "df1.loc[df1.Country =='Hong Kong']\n"
   ]
  },
  {
   "cell_type": "markdown",
   "metadata": {},
   "source": [
    "Сомнительный ручной возврат с номером заказа **C546557** явно является выбросом и должен быть исключен из анализа:"
   ]
  },
  {
   "cell_type": "code",
   "execution_count": 138,
   "metadata": {},
   "outputs": [
    {
     "data": {
      "text/html": [
       "<div>\n",
       "<style scoped>\n",
       "    .dataframe tbody tr th:only-of-type {\n",
       "        vertical-align: middle;\n",
       "    }\n",
       "\n",
       "    .dataframe tbody tr th {\n",
       "        vertical-align: top;\n",
       "    }\n",
       "\n",
       "    .dataframe thead th {\n",
       "        text-align: right;\n",
       "    }\n",
       "</style>\n",
       "<table border=\"1\" class=\"dataframe\">\n",
       "  <thead>\n",
       "    <tr style=\"text-align: right;\">\n",
       "      <th></th>\n",
       "      <th>InvoiceNo</th>\n",
       "      <th>StockCode</th>\n",
       "      <th>Description</th>\n",
       "      <th>Quantity</th>\n",
       "      <th>InvoiceDate</th>\n",
       "      <th>UnitPrice</th>\n",
       "      <th>CustomerID</th>\n",
       "      <th>Country</th>\n",
       "      <th>InvoiceData</th>\n",
       "      <th>Cost</th>\n",
       "    </tr>\n",
       "  </thead>\n",
       "  <tbody>\n",
       "    <tr>\n",
       "      <th>6995</th>\n",
       "      <td>541975</td>\n",
       "      <td>22554</td>\n",
       "      <td>PLASTERS IN TIN WOODLAND ANIMALS</td>\n",
       "      <td>36</td>\n",
       "      <td>2020-01-24 14:24:00</td>\n",
       "      <td>1.65</td>\n",
       "      <td>&lt;NA&gt;</td>\n",
       "      <td>Hong Kong</td>\n",
       "      <td>2020-01-24</td>\n",
       "      <td>59.40</td>\n",
       "    </tr>\n",
       "    <tr>\n",
       "      <th>6996</th>\n",
       "      <td>541975</td>\n",
       "      <td>84997D</td>\n",
       "      <td>PINK 3 PIECE POLKADOT CUTLERY SET</td>\n",
       "      <td>24</td>\n",
       "      <td>2020-01-24 14:24:00</td>\n",
       "      <td>3.75</td>\n",
       "      <td>&lt;NA&gt;</td>\n",
       "      <td>Hong Kong</td>\n",
       "      <td>2020-01-24</td>\n",
       "      <td>90.00</td>\n",
       "    </tr>\n",
       "    <tr>\n",
       "      <th>6997</th>\n",
       "      <td>541975</td>\n",
       "      <td>20749</td>\n",
       "      <td>ASSORTED COLOUR MINI CASES</td>\n",
       "      <td>6</td>\n",
       "      <td>2020-01-24 14:24:00</td>\n",
       "      <td>7.95</td>\n",
       "      <td>&lt;NA&gt;</td>\n",
       "      <td>Hong Kong</td>\n",
       "      <td>2020-01-24</td>\n",
       "      <td>47.70</td>\n",
       "    </tr>\n",
       "    <tr>\n",
       "      <th>6998</th>\n",
       "      <td>541975</td>\n",
       "      <td>20726</td>\n",
       "      <td>LUNCH BAG WOODLAND</td>\n",
       "      <td>20</td>\n",
       "      <td>2020-01-24 14:24:00</td>\n",
       "      <td>1.65</td>\n",
       "      <td>&lt;NA&gt;</td>\n",
       "      <td>Hong Kong</td>\n",
       "      <td>2020-01-24</td>\n",
       "      <td>33.00</td>\n",
       "    </tr>\n",
       "    <tr>\n",
       "      <th>6999</th>\n",
       "      <td>541975</td>\n",
       "      <td>22454</td>\n",
       "      <td>MEASURING TAPE BABUSHKA RED</td>\n",
       "      <td>24</td>\n",
       "      <td>2020-01-24 14:24:00</td>\n",
       "      <td>2.95</td>\n",
       "      <td>&lt;NA&gt;</td>\n",
       "      <td>Hong Kong</td>\n",
       "      <td>2020-01-24</td>\n",
       "      <td>70.80</td>\n",
       "    </tr>\n",
       "    <tr>\n",
       "      <th>7000</th>\n",
       "      <td>541975</td>\n",
       "      <td>20682</td>\n",
       "      <td>RED RETROSPOT CHILDRENS UMBRELLA</td>\n",
       "      <td>6</td>\n",
       "      <td>2020-01-24 14:24:00</td>\n",
       "      <td>3.25</td>\n",
       "      <td>&lt;NA&gt;</td>\n",
       "      <td>Hong Kong</td>\n",
       "      <td>2020-01-24</td>\n",
       "      <td>19.50</td>\n",
       "    </tr>\n",
       "    <tr>\n",
       "      <th>15445</th>\n",
       "      <td>549738</td>\n",
       "      <td>23052</td>\n",
       "      <td>RECYCLED ACAPULCO MAT TURQUOISE</td>\n",
       "      <td>2</td>\n",
       "      <td>2020-04-12 09:28:00</td>\n",
       "      <td>8.25</td>\n",
       "      <td>&lt;NA&gt;</td>\n",
       "      <td>Hong Kong</td>\n",
       "      <td>2020-04-12</td>\n",
       "      <td>16.50</td>\n",
       "    </tr>\n",
       "    <tr>\n",
       "      <th>15446</th>\n",
       "      <td>549738</td>\n",
       "      <td>22328</td>\n",
       "      <td>ROUND SNACK BOXES SET OF 4 FRUITS</td>\n",
       "      <td>30</td>\n",
       "      <td>2020-04-12 09:28:00</td>\n",
       "      <td>2.95</td>\n",
       "      <td>&lt;NA&gt;</td>\n",
       "      <td>Hong Kong</td>\n",
       "      <td>2020-04-12</td>\n",
       "      <td>88.50</td>\n",
       "    </tr>\n",
       "    <tr>\n",
       "      <th>19035</th>\n",
       "      <td>553148</td>\n",
       "      <td>79030G</td>\n",
       "      <td>TUMBLER NEW ENGLAND</td>\n",
       "      <td>24</td>\n",
       "      <td>2020-05-13 14:09:00</td>\n",
       "      <td>0.39</td>\n",
       "      <td>&lt;NA&gt;</td>\n",
       "      <td>Hong Kong</td>\n",
       "      <td>2020-05-13</td>\n",
       "      <td>9.36</td>\n",
       "    </tr>\n",
       "    <tr>\n",
       "      <th>19036</th>\n",
       "      <td>553148</td>\n",
       "      <td>84563B</td>\n",
       "      <td>BLUE &amp; WHITE BREAKFAST TRAY</td>\n",
       "      <td>4</td>\n",
       "      <td>2020-05-13 14:09:00</td>\n",
       "      <td>2.95</td>\n",
       "      <td>&lt;NA&gt;</td>\n",
       "      <td>Hong Kong</td>\n",
       "      <td>2020-05-13</td>\n",
       "      <td>11.80</td>\n",
       "    </tr>\n",
       "    <tr>\n",
       "      <th>19037</th>\n",
       "      <td>553148</td>\n",
       "      <td>85132A</td>\n",
       "      <td>CHARLIE + LOLA BISCUITS TINS</td>\n",
       "      <td>12</td>\n",
       "      <td>2020-05-13 14:09:00</td>\n",
       "      <td>1.95</td>\n",
       "      <td>&lt;NA&gt;</td>\n",
       "      <td>Hong Kong</td>\n",
       "      <td>2020-05-13</td>\n",
       "      <td>23.40</td>\n",
       "    </tr>\n",
       "    <tr>\n",
       "      <th>19038</th>\n",
       "      <td>553148</td>\n",
       "      <td>22333</td>\n",
       "      <td>RETROSPOT PARTY BAG + STICKER SET</td>\n",
       "      <td>8</td>\n",
       "      <td>2020-05-13 14:09:00</td>\n",
       "      <td>1.65</td>\n",
       "      <td>&lt;NA&gt;</td>\n",
       "      <td>Hong Kong</td>\n",
       "      <td>2020-05-13</td>\n",
       "      <td>13.20</td>\n",
       "    </tr>\n",
       "    <tr>\n",
       "      <th>19039</th>\n",
       "      <td>553148</td>\n",
       "      <td>47599B</td>\n",
       "      <td>BLUE PARTY BAGS</td>\n",
       "      <td>6</td>\n",
       "      <td>2020-05-13 14:09:00</td>\n",
       "      <td>2.10</td>\n",
       "      <td>&lt;NA&gt;</td>\n",
       "      <td>Hong Kong</td>\n",
       "      <td>2020-05-13</td>\n",
       "      <td>12.60</td>\n",
       "    </tr>\n",
       "    <tr>\n",
       "      <th>19040</th>\n",
       "      <td>553148</td>\n",
       "      <td>47599A</td>\n",
       "      <td>PINK PARTY BAGS</td>\n",
       "      <td>6</td>\n",
       "      <td>2020-05-13 14:09:00</td>\n",
       "      <td>2.10</td>\n",
       "      <td>&lt;NA&gt;</td>\n",
       "      <td>Hong Kong</td>\n",
       "      <td>2020-05-13</td>\n",
       "      <td>12.60</td>\n",
       "    </tr>\n",
       "    <tr>\n",
       "      <th>19041</th>\n",
       "      <td>553148</td>\n",
       "      <td>85088</td>\n",
       "      <td>CANDY SPOT HAND BAG</td>\n",
       "      <td>6</td>\n",
       "      <td>2020-05-13 14:09:00</td>\n",
       "      <td>2.10</td>\n",
       "      <td>&lt;NA&gt;</td>\n",
       "      <td>Hong Kong</td>\n",
       "      <td>2020-05-13</td>\n",
       "      <td>12.60</td>\n",
       "    </tr>\n",
       "    <tr>\n",
       "      <th>19042</th>\n",
       "      <td>553148</td>\n",
       "      <td>21371</td>\n",
       "      <td>MIRRORED WALL ART POPPIES</td>\n",
       "      <td>6</td>\n",
       "      <td>2020-05-13 14:09:00</td>\n",
       "      <td>2.55</td>\n",
       "      <td>&lt;NA&gt;</td>\n",
       "      <td>Hong Kong</td>\n",
       "      <td>2020-05-13</td>\n",
       "      <td>15.30</td>\n",
       "    </tr>\n",
       "    <tr>\n",
       "      <th>19043</th>\n",
       "      <td>553148</td>\n",
       "      <td>22628</td>\n",
       "      <td>PICNIC BOXES SET OF 3 RETROSPOT</td>\n",
       "      <td>4</td>\n",
       "      <td>2020-05-13 14:09:00</td>\n",
       "      <td>4.95</td>\n",
       "      <td>&lt;NA&gt;</td>\n",
       "      <td>Hong Kong</td>\n",
       "      <td>2020-05-13</td>\n",
       "      <td>19.80</td>\n",
       "    </tr>\n",
       "    <tr>\n",
       "      <th>19044</th>\n",
       "      <td>553148</td>\n",
       "      <td>22895</td>\n",
       "      <td>SET OF 2 TEA TOWELS APPLE AND PEARS</td>\n",
       "      <td>6</td>\n",
       "      <td>2020-05-13 14:09:00</td>\n",
       "      <td>3.25</td>\n",
       "      <td>&lt;NA&gt;</td>\n",
       "      <td>Hong Kong</td>\n",
       "      <td>2020-05-13</td>\n",
       "      <td>19.50</td>\n",
       "    </tr>\n",
       "    <tr>\n",
       "      <th>19045</th>\n",
       "      <td>553148</td>\n",
       "      <td>20676</td>\n",
       "      <td>RED RETROSPOT BOWL</td>\n",
       "      <td>32</td>\n",
       "      <td>2020-05-13 14:09:00</td>\n",
       "      <td>1.25</td>\n",
       "      <td>&lt;NA&gt;</td>\n",
       "      <td>Hong Kong</td>\n",
       "      <td>2020-05-13</td>\n",
       "      <td>40.00</td>\n",
       "    </tr>\n",
       "    <tr>\n",
       "      <th>19046</th>\n",
       "      <td>553148</td>\n",
       "      <td>85087</td>\n",
       "      <td>CANDY SPOT CUSHION COVER</td>\n",
       "      <td>6</td>\n",
       "      <td>2020-05-13 14:09:00</td>\n",
       "      <td>2.95</td>\n",
       "      <td>&lt;NA&gt;</td>\n",
       "      <td>Hong Kong</td>\n",
       "      <td>2020-05-13</td>\n",
       "      <td>17.70</td>\n",
       "    </tr>\n",
       "    <tr>\n",
       "      <th>30968</th>\n",
       "      <td>564087</td>\n",
       "      <td>20961</td>\n",
       "      <td>STRAWBERRY BATH SPONGE</td>\n",
       "      <td>20</td>\n",
       "      <td>2020-08-23 09:38:00</td>\n",
       "      <td>1.25</td>\n",
       "      <td>&lt;NA&gt;</td>\n",
       "      <td>Hong Kong</td>\n",
       "      <td>2020-08-23</td>\n",
       "      <td>25.00</td>\n",
       "    </tr>\n",
       "    <tr>\n",
       "      <th>30969</th>\n",
       "      <td>564087</td>\n",
       "      <td>20963</td>\n",
       "      <td>APPLE BATH SPONGE</td>\n",
       "      <td>30</td>\n",
       "      <td>2020-08-23 09:38:00</td>\n",
       "      <td>1.25</td>\n",
       "      <td>&lt;NA&gt;</td>\n",
       "      <td>Hong Kong</td>\n",
       "      <td>2020-08-23</td>\n",
       "      <td>37.50</td>\n",
       "    </tr>\n",
       "    <tr>\n",
       "      <th>30970</th>\n",
       "      <td>564087</td>\n",
       "      <td>21154</td>\n",
       "      <td>RED RETROSPOT OVEN GLOVE</td>\n",
       "      <td>10</td>\n",
       "      <td>2020-08-23 09:38:00</td>\n",
       "      <td>1.25</td>\n",
       "      <td>&lt;NA&gt;</td>\n",
       "      <td>Hong Kong</td>\n",
       "      <td>2020-08-23</td>\n",
       "      <td>12.50</td>\n",
       "    </tr>\n",
       "    <tr>\n",
       "      <th>30971</th>\n",
       "      <td>564087</td>\n",
       "      <td>21906</td>\n",
       "      <td>PHARMACIE FIRST AID TIN</td>\n",
       "      <td>8</td>\n",
       "      <td>2020-08-23 09:38:00</td>\n",
       "      <td>6.75</td>\n",
       "      <td>&lt;NA&gt;</td>\n",
       "      <td>Hong Kong</td>\n",
       "      <td>2020-08-23</td>\n",
       "      <td>54.00</td>\n",
       "    </tr>\n",
       "    <tr>\n",
       "      <th>30972</th>\n",
       "      <td>564087</td>\n",
       "      <td>21843</td>\n",
       "      <td>RED RETROSPOT CAKE STAND</td>\n",
       "      <td>5</td>\n",
       "      <td>2020-08-23 09:38:00</td>\n",
       "      <td>10.95</td>\n",
       "      <td>&lt;NA&gt;</td>\n",
       "      <td>Hong Kong</td>\n",
       "      <td>2020-08-23</td>\n",
       "      <td>54.75</td>\n",
       "    </tr>\n",
       "    <tr>\n",
       "      <th>40437</th>\n",
       "      <td>571652</td>\n",
       "      <td>37495</td>\n",
       "      <td>FAIRY CAKE BIRTHDAY CANDLE SET</td>\n",
       "      <td>4</td>\n",
       "      <td>2020-10-18 12:17:00</td>\n",
       "      <td>3.75</td>\n",
       "      <td>&lt;NA&gt;</td>\n",
       "      <td>Hong Kong</td>\n",
       "      <td>2020-10-18</td>\n",
       "      <td>15.00</td>\n",
       "    </tr>\n",
       "    <tr>\n",
       "      <th>40438</th>\n",
       "      <td>571652</td>\n",
       "      <td>22780</td>\n",
       "      <td>LIGHT GARLAND BUTTERFILES PINK</td>\n",
       "      <td>4</td>\n",
       "      <td>2020-10-18 12:17:00</td>\n",
       "      <td>4.25</td>\n",
       "      <td>&lt;NA&gt;</td>\n",
       "      <td>Hong Kong</td>\n",
       "      <td>2020-10-18</td>\n",
       "      <td>17.00</td>\n",
       "    </tr>\n",
       "    <tr>\n",
       "      <th>42336</th>\n",
       "      <td>573154</td>\n",
       "      <td>21915</td>\n",
       "      <td>RED  HARMONICA IN BOX</td>\n",
       "      <td>24</td>\n",
       "      <td>2020-10-28 08:20:00</td>\n",
       "      <td>1.25</td>\n",
       "      <td>&lt;NA&gt;</td>\n",
       "      <td>Hong Kong</td>\n",
       "      <td>2020-10-28</td>\n",
       "      <td>30.00</td>\n",
       "    </tr>\n",
       "  </tbody>\n",
       "</table>\n",
       "</div>"
      ],
      "text/plain": [
       "      InvoiceNo StockCode                          Description  Quantity  \\\n",
       "6995     541975     22554     PLASTERS IN TIN WOODLAND ANIMALS        36   \n",
       "6996     541975    84997D    PINK 3 PIECE POLKADOT CUTLERY SET        24   \n",
       "6997     541975     20749           ASSORTED COLOUR MINI CASES         6   \n",
       "6998     541975     20726                   LUNCH BAG WOODLAND        20   \n",
       "6999     541975     22454          MEASURING TAPE BABUSHKA RED        24   \n",
       "7000     541975     20682     RED RETROSPOT CHILDRENS UMBRELLA         6   \n",
       "15445    549738     23052      RECYCLED ACAPULCO MAT TURQUOISE         2   \n",
       "15446    549738     22328   ROUND SNACK BOXES SET OF 4 FRUITS         30   \n",
       "19035    553148    79030G                  TUMBLER NEW ENGLAND        24   \n",
       "19036    553148    84563B          BLUE & WHITE BREAKFAST TRAY         4   \n",
       "19037    553148    85132A         CHARLIE + LOLA BISCUITS TINS        12   \n",
       "19038    553148     22333    RETROSPOT PARTY BAG + STICKER SET         8   \n",
       "19039    553148    47599B                     BLUE PARTY BAGS          6   \n",
       "19040    553148    47599A                      PINK PARTY BAGS         6   \n",
       "19041    553148     85088                  CANDY SPOT HAND BAG         6   \n",
       "19042    553148     21371            MIRRORED WALL ART POPPIES         6   \n",
       "19043    553148     22628     PICNIC BOXES SET OF 3 RETROSPOT          4   \n",
       "19044    553148     22895  SET OF 2 TEA TOWELS APPLE AND PEARS         6   \n",
       "19045    553148     20676                   RED RETROSPOT BOWL        32   \n",
       "19046    553148     85087             CANDY SPOT CUSHION COVER         6   \n",
       "30968    564087     20961              STRAWBERRY BATH SPONGE         20   \n",
       "30969    564087     20963                    APPLE BATH SPONGE        30   \n",
       "30970    564087     21154            RED RETROSPOT OVEN GLOVE         10   \n",
       "30971    564087     21906              PHARMACIE FIRST AID TIN         8   \n",
       "30972    564087     21843             RED RETROSPOT CAKE STAND         5   \n",
       "40437    571652     37495       FAIRY CAKE BIRTHDAY CANDLE SET         4   \n",
       "40438    571652     22780       LIGHT GARLAND BUTTERFILES PINK         4   \n",
       "42336    573154     21915               RED  HARMONICA IN BOX         24   \n",
       "\n",
       "              InvoiceDate  UnitPrice  CustomerID    Country InvoiceData   Cost  \n",
       "6995  2020-01-24 14:24:00       1.65        <NA>  Hong Kong  2020-01-24  59.40  \n",
       "6996  2020-01-24 14:24:00       3.75        <NA>  Hong Kong  2020-01-24  90.00  \n",
       "6997  2020-01-24 14:24:00       7.95        <NA>  Hong Kong  2020-01-24  47.70  \n",
       "6998  2020-01-24 14:24:00       1.65        <NA>  Hong Kong  2020-01-24  33.00  \n",
       "6999  2020-01-24 14:24:00       2.95        <NA>  Hong Kong  2020-01-24  70.80  \n",
       "7000  2020-01-24 14:24:00       3.25        <NA>  Hong Kong  2020-01-24  19.50  \n",
       "15445 2020-04-12 09:28:00       8.25        <NA>  Hong Kong  2020-04-12  16.50  \n",
       "15446 2020-04-12 09:28:00       2.95        <NA>  Hong Kong  2020-04-12  88.50  \n",
       "19035 2020-05-13 14:09:00       0.39        <NA>  Hong Kong  2020-05-13   9.36  \n",
       "19036 2020-05-13 14:09:00       2.95        <NA>  Hong Kong  2020-05-13  11.80  \n",
       "19037 2020-05-13 14:09:00       1.95        <NA>  Hong Kong  2020-05-13  23.40  \n",
       "19038 2020-05-13 14:09:00       1.65        <NA>  Hong Kong  2020-05-13  13.20  \n",
       "19039 2020-05-13 14:09:00       2.10        <NA>  Hong Kong  2020-05-13  12.60  \n",
       "19040 2020-05-13 14:09:00       2.10        <NA>  Hong Kong  2020-05-13  12.60  \n",
       "19041 2020-05-13 14:09:00       2.10        <NA>  Hong Kong  2020-05-13  12.60  \n",
       "19042 2020-05-13 14:09:00       2.55        <NA>  Hong Kong  2020-05-13  15.30  \n",
       "19043 2020-05-13 14:09:00       4.95        <NA>  Hong Kong  2020-05-13  19.80  \n",
       "19044 2020-05-13 14:09:00       3.25        <NA>  Hong Kong  2020-05-13  19.50  \n",
       "19045 2020-05-13 14:09:00       1.25        <NA>  Hong Kong  2020-05-13  40.00  \n",
       "19046 2020-05-13 14:09:00       2.95        <NA>  Hong Kong  2020-05-13  17.70  \n",
       "30968 2020-08-23 09:38:00       1.25        <NA>  Hong Kong  2020-08-23  25.00  \n",
       "30969 2020-08-23 09:38:00       1.25        <NA>  Hong Kong  2020-08-23  37.50  \n",
       "30970 2020-08-23 09:38:00       1.25        <NA>  Hong Kong  2020-08-23  12.50  \n",
       "30971 2020-08-23 09:38:00       6.75        <NA>  Hong Kong  2020-08-23  54.00  \n",
       "30972 2020-08-23 09:38:00      10.95        <NA>  Hong Kong  2020-08-23  54.75  \n",
       "40437 2020-10-18 12:17:00       3.75        <NA>  Hong Kong  2020-10-18  15.00  \n",
       "40438 2020-10-18 12:17:00       4.25        <NA>  Hong Kong  2020-10-18  17.00  \n",
       "42336 2020-10-28 08:20:00       1.25        <NA>  Hong Kong  2020-10-28  30.00  "
      ]
     },
     "execution_count": 138,
     "metadata": {},
     "output_type": "execute_result"
    }
   ],
   "source": [
    "df1.drop(df1[df1['InvoiceNo'] == \"C546557\"].index, inplace = True)\n",
    "df1.loc[df1.Country =='Hong Kong']"
   ]
  },
  {
   "cell_type": "code",
   "execution_count": 234,
   "metadata": {},
   "outputs": [
    {
     "data": {
      "text/html": [
       "<div>\n",
       "<style scoped>\n",
       "    .dataframe tbody tr th:only-of-type {\n",
       "        vertical-align: middle;\n",
       "    }\n",
       "\n",
       "    .dataframe tbody tr th {\n",
       "        vertical-align: top;\n",
       "    }\n",
       "\n",
       "    .dataframe thead th {\n",
       "        text-align: right;\n",
       "    }\n",
       "</style>\n",
       "<table border=\"1\" class=\"dataframe\">\n",
       "  <thead>\n",
       "    <tr style=\"text-align: right;\">\n",
       "      <th></th>\n",
       "      <th>Cost_sum</th>\n",
       "      <th>Quantity_sum</th>\n",
       "      <th>CustomerID_count</th>\n",
       "      <th>InvoiceNo_count</th>\n",
       "    </tr>\n",
       "    <tr>\n",
       "      <th>Country</th>\n",
       "      <th></th>\n",
       "      <th></th>\n",
       "      <th></th>\n",
       "      <th></th>\n",
       "    </tr>\n",
       "  </thead>\n",
       "  <tbody>\n",
       "    <tr>\n",
       "      <th>United Kingdom</th>\n",
       "      <td>844816.921</td>\n",
       "      <td>444869</td>\n",
       "      <td>36167</td>\n",
       "      <td>49378</td>\n",
       "    </tr>\n",
       "    <tr>\n",
       "      <th>EIRE</th>\n",
       "      <td>27443.140</td>\n",
       "      <td>13845</td>\n",
       "      <td>720</td>\n",
       "      <td>787</td>\n",
       "    </tr>\n",
       "    <tr>\n",
       "      <th>Netherlands</th>\n",
       "      <td>26267.780</td>\n",
       "      <td>20917</td>\n",
       "      <td>234</td>\n",
       "      <td>234</td>\n",
       "    </tr>\n",
       "    <tr>\n",
       "      <th>Germany</th>\n",
       "      <td>22519.200</td>\n",
       "      <td>11993</td>\n",
       "      <td>951</td>\n",
       "      <td>951</td>\n",
       "    </tr>\n",
       "    <tr>\n",
       "      <th>France</th>\n",
       "      <td>19472.990</td>\n",
       "      <td>11104</td>\n",
       "      <td>874</td>\n",
       "      <td>881</td>\n",
       "    </tr>\n",
       "    <tr>\n",
       "      <th>Australia</th>\n",
       "      <td>17072.960</td>\n",
       "      <td>9973</td>\n",
       "      <td>130</td>\n",
       "      <td>130</td>\n",
       "    </tr>\n",
       "    <tr>\n",
       "      <th>Switzerland</th>\n",
       "      <td>6209.300</td>\n",
       "      <td>3539</td>\n",
       "      <td>179</td>\n",
       "      <td>189</td>\n",
       "    </tr>\n",
       "    <tr>\n",
       "      <th>Spain</th>\n",
       "      <td>5955.580</td>\n",
       "      <td>2934</td>\n",
       "      <td>253</td>\n",
       "      <td>253</td>\n",
       "    </tr>\n",
       "    <tr>\n",
       "      <th>Belgium</th>\n",
       "      <td>4032.060</td>\n",
       "      <td>2392</td>\n",
       "      <td>211</td>\n",
       "      <td>211</td>\n",
       "    </tr>\n",
       "    <tr>\n",
       "      <th>Norway</th>\n",
       "      <td>3859.900</td>\n",
       "      <td>1798</td>\n",
       "      <td>104</td>\n",
       "      <td>104</td>\n",
       "    </tr>\n",
       "    <tr>\n",
       "      <th>Sweden</th>\n",
       "      <td>3748.520</td>\n",
       "      <td>4200</td>\n",
       "      <td>50</td>\n",
       "      <td>50</td>\n",
       "    </tr>\n",
       "    <tr>\n",
       "      <th>Portugal</th>\n",
       "      <td>3442.350</td>\n",
       "      <td>1830</td>\n",
       "      <td>148</td>\n",
       "      <td>152</td>\n",
       "    </tr>\n",
       "    <tr>\n",
       "      <th>Channel Islands</th>\n",
       "      <td>2877.950</td>\n",
       "      <td>1567</td>\n",
       "      <td>81</td>\n",
       "      <td>81</td>\n",
       "    </tr>\n",
       "    <tr>\n",
       "      <th>Denmark</th>\n",
       "      <td>2058.840</td>\n",
       "      <td>742</td>\n",
       "      <td>35</td>\n",
       "      <td>35</td>\n",
       "    </tr>\n",
       "    <tr>\n",
       "      <th>Finland</th>\n",
       "      <td>2040.600</td>\n",
       "      <td>1017</td>\n",
       "      <td>72</td>\n",
       "      <td>72</td>\n",
       "    </tr>\n",
       "    <tr>\n",
       "      <th>Japan</th>\n",
       "      <td>2001.580</td>\n",
       "      <td>1474</td>\n",
       "      <td>33</td>\n",
       "      <td>33</td>\n",
       "    </tr>\n",
       "    <tr>\n",
       "      <th>Italy</th>\n",
       "      <td>1438.620</td>\n",
       "      <td>760</td>\n",
       "      <td>77</td>\n",
       "      <td>77</td>\n",
       "    </tr>\n",
       "    <tr>\n",
       "      <th>Austria</th>\n",
       "      <td>1036.270</td>\n",
       "      <td>449</td>\n",
       "      <td>48</td>\n",
       "      <td>48</td>\n",
       "    </tr>\n",
       "    <tr>\n",
       "      <th>Poland</th>\n",
       "      <td>904.930</td>\n",
       "      <td>461</td>\n",
       "      <td>44</td>\n",
       "      <td>44</td>\n",
       "    </tr>\n",
       "    <tr>\n",
       "      <th>Hong Kong</th>\n",
       "      <td>879.010</td>\n",
       "      <td>373</td>\n",
       "      <td>0</td>\n",
       "      <td>28</td>\n",
       "    </tr>\n",
       "    <tr>\n",
       "      <th>Cyprus</th>\n",
       "      <td>737.260</td>\n",
       "      <td>850</td>\n",
       "      <td>61</td>\n",
       "      <td>61</td>\n",
       "    </tr>\n",
       "    <tr>\n",
       "      <th>Singapore</th>\n",
       "      <td>720.480</td>\n",
       "      <td>372</td>\n",
       "      <td>25</td>\n",
       "      <td>25</td>\n",
       "    </tr>\n",
       "    <tr>\n",
       "      <th>Israel</th>\n",
       "      <td>531.720</td>\n",
       "      <td>331</td>\n",
       "      <td>20</td>\n",
       "      <td>27</td>\n",
       "    </tr>\n",
       "    <tr>\n",
       "      <th>Unspecified</th>\n",
       "      <td>520.220</td>\n",
       "      <td>292</td>\n",
       "      <td>21</td>\n",
       "      <td>36</td>\n",
       "    </tr>\n",
       "    <tr>\n",
       "      <th>Greece</th>\n",
       "      <td>490.820</td>\n",
       "      <td>158</td>\n",
       "      <td>14</td>\n",
       "      <td>14</td>\n",
       "    </tr>\n",
       "    <tr>\n",
       "      <th>Lithuania</th>\n",
       "      <td>291.600</td>\n",
       "      <td>104</td>\n",
       "      <td>6</td>\n",
       "      <td>6</td>\n",
       "    </tr>\n",
       "    <tr>\n",
       "      <th>Malta</th>\n",
       "      <td>282.100</td>\n",
       "      <td>38</td>\n",
       "      <td>9</td>\n",
       "      <td>9</td>\n",
       "    </tr>\n",
       "    <tr>\n",
       "      <th>Iceland</th>\n",
       "      <td>271.790</td>\n",
       "      <td>161</td>\n",
       "      <td>15</td>\n",
       "      <td>15</td>\n",
       "    </tr>\n",
       "    <tr>\n",
       "      <th>Canada</th>\n",
       "      <td>214.140</td>\n",
       "      <td>226</td>\n",
       "      <td>13</td>\n",
       "      <td>13</td>\n",
       "    </tr>\n",
       "    <tr>\n",
       "      <th>USA</th>\n",
       "      <td>102.260</td>\n",
       "      <td>-28</td>\n",
       "      <td>23</td>\n",
       "      <td>23</td>\n",
       "    </tr>\n",
       "    <tr>\n",
       "      <th>United Arab Emirates</th>\n",
       "      <td>96.420</td>\n",
       "      <td>38</td>\n",
       "      <td>5</td>\n",
       "      <td>5</td>\n",
       "    </tr>\n",
       "    <tr>\n",
       "      <th>Czech Republic</th>\n",
       "      <td>82.200</td>\n",
       "      <td>36</td>\n",
       "      <td>2</td>\n",
       "      <td>2</td>\n",
       "    </tr>\n",
       "    <tr>\n",
       "      <th>European Community</th>\n",
       "      <td>80.900</td>\n",
       "      <td>33</td>\n",
       "      <td>5</td>\n",
       "      <td>5</td>\n",
       "    </tr>\n",
       "    <tr>\n",
       "      <th>Brazil</th>\n",
       "      <td>79.800</td>\n",
       "      <td>28</td>\n",
       "      <td>3</td>\n",
       "      <td>3</td>\n",
       "    </tr>\n",
       "    <tr>\n",
       "      <th>RSA</th>\n",
       "      <td>42.140</td>\n",
       "      <td>29</td>\n",
       "      <td>4</td>\n",
       "      <td>4</td>\n",
       "    </tr>\n",
       "    <tr>\n",
       "      <th>Lebanon</th>\n",
       "      <td>39.600</td>\n",
       "      <td>8</td>\n",
       "      <td>1</td>\n",
       "      <td>1</td>\n",
       "    </tr>\n",
       "    <tr>\n",
       "      <th>Bahrain</th>\n",
       "      <td>17.700</td>\n",
       "      <td>6</td>\n",
       "      <td>1</td>\n",
       "      <td>1</td>\n",
       "    </tr>\n",
       "  </tbody>\n",
       "</table>\n",
       "</div>"
      ],
      "text/plain": [
       "                        Cost_sum  Quantity_sum  CustomerID_count  \\\n",
       "Country                                                            \n",
       "United Kingdom        844816.921        444869             36167   \n",
       "EIRE                   27443.140         13845               720   \n",
       "Netherlands            26267.780         20917               234   \n",
       "Germany                22519.200         11993               951   \n",
       "France                 19472.990         11104               874   \n",
       "Australia              17072.960          9973               130   \n",
       "Switzerland             6209.300          3539               179   \n",
       "Spain                   5955.580          2934               253   \n",
       "Belgium                 4032.060          2392               211   \n",
       "Norway                  3859.900          1798               104   \n",
       "Sweden                  3748.520          4200                50   \n",
       "Portugal                3442.350          1830               148   \n",
       "Channel Islands         2877.950          1567                81   \n",
       "Denmark                 2058.840           742                35   \n",
       "Finland                 2040.600          1017                72   \n",
       "Japan                   2001.580          1474                33   \n",
       "Italy                   1438.620           760                77   \n",
       "Austria                 1036.270           449                48   \n",
       "Poland                   904.930           461                44   \n",
       "Hong Kong                879.010           373                 0   \n",
       "Cyprus                   737.260           850                61   \n",
       "Singapore                720.480           372                25   \n",
       "Israel                   531.720           331                20   \n",
       "Unspecified              520.220           292                21   \n",
       "Greece                   490.820           158                14   \n",
       "Lithuania                291.600           104                 6   \n",
       "Malta                    282.100            38                 9   \n",
       "Iceland                  271.790           161                15   \n",
       "Canada                   214.140           226                13   \n",
       "USA                      102.260           -28                23   \n",
       "United Arab Emirates      96.420            38                 5   \n",
       "Czech Republic            82.200            36                 2   \n",
       "European Community        80.900            33                 5   \n",
       "Brazil                    79.800            28                 3   \n",
       "RSA                       42.140            29                 4   \n",
       "Lebanon                   39.600             8                 1   \n",
       "Bahrain                   17.700             6                 1   \n",
       "\n",
       "                      InvoiceNo_count  \n",
       "Country                                \n",
       "United Kingdom                  49378  \n",
       "EIRE                              787  \n",
       "Netherlands                       234  \n",
       "Germany                           951  \n",
       "France                            881  \n",
       "Australia                         130  \n",
       "Switzerland                       189  \n",
       "Spain                             253  \n",
       "Belgium                           211  \n",
       "Norway                            104  \n",
       "Sweden                             50  \n",
       "Portugal                          152  \n",
       "Channel Islands                    81  \n",
       "Denmark                            35  \n",
       "Finland                            72  \n",
       "Japan                              33  \n",
       "Italy                              77  \n",
       "Austria                            48  \n",
       "Poland                             44  \n",
       "Hong Kong                          28  \n",
       "Cyprus                             61  \n",
       "Singapore                          25  \n",
       "Israel                             27  \n",
       "Unspecified                        36  \n",
       "Greece                             14  \n",
       "Lithuania                           6  \n",
       "Malta                               9  \n",
       "Iceland                            15  \n",
       "Canada                             13  \n",
       "USA                                23  \n",
       "United Arab Emirates                5  \n",
       "Czech Republic                      2  \n",
       "European Community                  5  \n",
       "Brazil                              3  \n",
       "RSA                                 4  \n",
       "Lebanon                             1  \n",
       "Bahrain                             1  "
      ]
     },
     "execution_count": 234,
     "metadata": {},
     "output_type": "execute_result"
    }
   ],
   "source": [
    "df_country = df1.groupby(['Country']).agg(Cost_sum = ('Cost', 'sum'), \n",
    "                                          Quantity_sum = ('Quantity', 'sum'), \n",
    "                                          CustomerID_count=('CustomerID','count'),\n",
    "                                          InvoiceNo_count=('InvoiceNo', 'count'))\n",
    "df_country.sort_values(by='Cost_sum', ascending=False)"
   ]
  },
  {
   "cell_type": "markdown",
   "metadata": {},
   "source": [
    "Отсутствие **CustomerID** для заказов из Гонконга вероятно свидетельствет об ошибке в логике работы программного обеспечения."
   ]
  },
  {
   "cell_type": "markdown",
   "metadata": {},
   "source": [
    "**Десятка стран с самыми высоким продажами:**"
   ]
  },
  {
   "cell_type": "code",
   "execution_count": 167,
   "metadata": {},
   "outputs": [
    {
     "data": {
      "text/html": [
       "<div>\n",
       "<style scoped>\n",
       "    .dataframe tbody tr th:only-of-type {\n",
       "        vertical-align: middle;\n",
       "    }\n",
       "\n",
       "    .dataframe tbody tr th {\n",
       "        vertical-align: top;\n",
       "    }\n",
       "\n",
       "    .dataframe thead th {\n",
       "        text-align: right;\n",
       "    }\n",
       "</style>\n",
       "<table border=\"1\" class=\"dataframe\">\n",
       "  <thead>\n",
       "    <tr style=\"text-align: right;\">\n",
       "      <th></th>\n",
       "      <th>Cost_sum</th>\n",
       "      <th>Quantity_sum</th>\n",
       "      <th>CustomerID_count</th>\n",
       "    </tr>\n",
       "    <tr>\n",
       "      <th>Country</th>\n",
       "      <th></th>\n",
       "      <th></th>\n",
       "      <th></th>\n",
       "    </tr>\n",
       "  </thead>\n",
       "  <tbody>\n",
       "    <tr>\n",
       "      <th>United Kingdom</th>\n",
       "      <td>844816.921</td>\n",
       "      <td>444869</td>\n",
       "      <td>36167</td>\n",
       "    </tr>\n",
       "    <tr>\n",
       "      <th>EIRE</th>\n",
       "      <td>27443.140</td>\n",
       "      <td>13845</td>\n",
       "      <td>720</td>\n",
       "    </tr>\n",
       "    <tr>\n",
       "      <th>Netherlands</th>\n",
       "      <td>26267.780</td>\n",
       "      <td>20917</td>\n",
       "      <td>234</td>\n",
       "    </tr>\n",
       "    <tr>\n",
       "      <th>Germany</th>\n",
       "      <td>22519.200</td>\n",
       "      <td>11993</td>\n",
       "      <td>951</td>\n",
       "    </tr>\n",
       "    <tr>\n",
       "      <th>France</th>\n",
       "      <td>19472.990</td>\n",
       "      <td>11104</td>\n",
       "      <td>874</td>\n",
       "    </tr>\n",
       "    <tr>\n",
       "      <th>Australia</th>\n",
       "      <td>17072.960</td>\n",
       "      <td>9973</td>\n",
       "      <td>130</td>\n",
       "    </tr>\n",
       "    <tr>\n",
       "      <th>Switzerland</th>\n",
       "      <td>6209.300</td>\n",
       "      <td>3539</td>\n",
       "      <td>179</td>\n",
       "    </tr>\n",
       "    <tr>\n",
       "      <th>Spain</th>\n",
       "      <td>5955.580</td>\n",
       "      <td>2934</td>\n",
       "      <td>253</td>\n",
       "    </tr>\n",
       "    <tr>\n",
       "      <th>Belgium</th>\n",
       "      <td>4032.060</td>\n",
       "      <td>2392</td>\n",
       "      <td>211</td>\n",
       "    </tr>\n",
       "    <tr>\n",
       "      <th>Norway</th>\n",
       "      <td>3859.900</td>\n",
       "      <td>1798</td>\n",
       "      <td>104</td>\n",
       "    </tr>\n",
       "  </tbody>\n",
       "</table>\n",
       "</div>"
      ],
      "text/plain": [
       "                  Cost_sum  Quantity_sum  CustomerID_count\n",
       "Country                                                   \n",
       "United Kingdom  844816.921        444869             36167\n",
       "EIRE             27443.140         13845               720\n",
       "Netherlands      26267.780         20917               234\n",
       "Germany          22519.200         11993               951\n",
       "France           19472.990         11104               874\n",
       "Australia        17072.960          9973               130\n",
       "Switzerland       6209.300          3539               179\n",
       "Spain             5955.580          2934               253\n",
       "Belgium           4032.060          2392               211\n",
       "Norway            3859.900          1798               104"
      ]
     },
     "execution_count": 167,
     "metadata": {},
     "output_type": "execute_result"
    }
   ],
   "source": [
    "df_country.sort_values(by='Cost_sum', ascending=False).head(10)"
   ]
  },
  {
   "cell_type": "code",
   "execution_count": 188,
   "metadata": {},
   "outputs": [],
   "source": [
    "df_country_hist_cost = df_country.sort_values(by='Cost_sum', ascending=False).head(10)"
   ]
  },
  {
   "cell_type": "code",
   "execution_count": 189,
   "metadata": {},
   "outputs": [],
   "source": [
    "#df_country_hist_cost.drop(['Quantity_sum', 'CustomerID_count'], axis= 1 , inplace= True ) \n",
    "df_country_hist_cost.drop([ 'CustomerID_count'], axis= 1 , inplace= True ) "
   ]
  },
  {
   "cell_type": "code",
   "execution_count": 190,
   "metadata": {},
   "outputs": [
    {
     "data": {
      "text/html": [
       "<div>\n",
       "<style scoped>\n",
       "    .dataframe tbody tr th:only-of-type {\n",
       "        vertical-align: middle;\n",
       "    }\n",
       "\n",
       "    .dataframe tbody tr th {\n",
       "        vertical-align: top;\n",
       "    }\n",
       "\n",
       "    .dataframe thead th {\n",
       "        text-align: right;\n",
       "    }\n",
       "</style>\n",
       "<table border=\"1\" class=\"dataframe\">\n",
       "  <thead>\n",
       "    <tr style=\"text-align: right;\">\n",
       "      <th></th>\n",
       "      <th>Cost_sum</th>\n",
       "      <th>Quantity_sum</th>\n",
       "    </tr>\n",
       "    <tr>\n",
       "      <th>Country</th>\n",
       "      <th></th>\n",
       "      <th></th>\n",
       "    </tr>\n",
       "  </thead>\n",
       "  <tbody>\n",
       "    <tr>\n",
       "      <th>United Kingdom</th>\n",
       "      <td>844816.921</td>\n",
       "      <td>444869</td>\n",
       "    </tr>\n",
       "    <tr>\n",
       "      <th>EIRE</th>\n",
       "      <td>27443.140</td>\n",
       "      <td>13845</td>\n",
       "    </tr>\n",
       "    <tr>\n",
       "      <th>Netherlands</th>\n",
       "      <td>26267.780</td>\n",
       "      <td>20917</td>\n",
       "    </tr>\n",
       "    <tr>\n",
       "      <th>Germany</th>\n",
       "      <td>22519.200</td>\n",
       "      <td>11993</td>\n",
       "    </tr>\n",
       "    <tr>\n",
       "      <th>France</th>\n",
       "      <td>19472.990</td>\n",
       "      <td>11104</td>\n",
       "    </tr>\n",
       "    <tr>\n",
       "      <th>Australia</th>\n",
       "      <td>17072.960</td>\n",
       "      <td>9973</td>\n",
       "    </tr>\n",
       "    <tr>\n",
       "      <th>Switzerland</th>\n",
       "      <td>6209.300</td>\n",
       "      <td>3539</td>\n",
       "    </tr>\n",
       "    <tr>\n",
       "      <th>Spain</th>\n",
       "      <td>5955.580</td>\n",
       "      <td>2934</td>\n",
       "    </tr>\n",
       "    <tr>\n",
       "      <th>Belgium</th>\n",
       "      <td>4032.060</td>\n",
       "      <td>2392</td>\n",
       "    </tr>\n",
       "    <tr>\n",
       "      <th>Norway</th>\n",
       "      <td>3859.900</td>\n",
       "      <td>1798</td>\n",
       "    </tr>\n",
       "  </tbody>\n",
       "</table>\n",
       "</div>"
      ],
      "text/plain": [
       "                  Cost_sum  Quantity_sum\n",
       "Country                                 \n",
       "United Kingdom  844816.921        444869\n",
       "EIRE             27443.140         13845\n",
       "Netherlands      26267.780         20917\n",
       "Germany          22519.200         11993\n",
       "France           19472.990         11104\n",
       "Australia        17072.960          9973\n",
       "Switzerland       6209.300          3539\n",
       "Spain             5955.580          2934\n",
       "Belgium           4032.060          2392\n",
       "Norway            3859.900          1798"
      ]
     },
     "execution_count": 190,
     "metadata": {},
     "output_type": "execute_result"
    }
   ],
   "source": [
    "df_country_hist_cost"
   ]
  },
  {
   "cell_type": "code",
   "execution_count": 193,
   "metadata": {},
   "outputs": [
    {
     "data": {
      "text/plain": [
       "<matplotlib.axes._subplots.AxesSubplot at 0xa5a1d30>"
      ]
     },
     "execution_count": 193,
     "metadata": {},
     "output_type": "execute_result"
    },
    {
     "data": {
      "image/png": "[encoded data removed]",
      "text/plain": [
       "<Figure size 792x504 with 1 Axes>"
      ]
     },
     "metadata": {
      "needs_background": "light"
     },
     "output_type": "display_data"
    }
   ],
   "source": [
    "df_country_hist_cost.loc[['United Kingdom', 'EIRE', 'Netherlands', 'Germany', 'France',\n",
    "                    'Australia', 'Switzerland','Spain', 'Belgium', 'Norway']].plot.bar(color=['green','red'],\n",
    "                                   title='Распределение выручки  и количества позиций интернет-магазина по странам'\n",
    "                                  )\n",
    "\n"
   ]
  },
  {
   "cell_type": "markdown",
   "metadata": {},
   "source": [
    "**Лучшие 20 дней по продажам:**"
   ]
  },
  {
   "cell_type": "code",
   "execution_count": 196,
   "metadata": {},
   "outputs": [
    {
     "data": {
      "text/plain": [
       "InvoiceData\n",
       "2020-11-14    12028.34\n",
       "2020-11-07    11930.73\n",
       "2020-12-07    10732.61\n",
       "2020-10-05     9884.74\n",
       "2020-07-28     9708.64\n",
       "2020-12-08     9592.91\n",
       "2019-12-07     9068.76\n",
       "2020-12-05     8938.57\n",
       "2020-06-30     8678.98\n",
       "2020-08-17     8530.31\n",
       "2020-11-09     7991.87\n",
       "2020-11-28     7795.10\n",
       "2020-03-29     7787.42\n",
       "2020-09-22     7763.77\n",
       "2020-09-20     7449.49\n",
       "2020-05-12     7329.77\n",
       "2020-10-20     7311.63\n",
       "2020-01-14     7224.09\n",
       "2020-11-23     7164.76\n",
       "2020-11-22     7140.01\n",
       "Name: Cost, dtype: float64"
      ]
     },
     "execution_count": 196,
     "metadata": {},
     "output_type": "execute_result"
    }
   ],
   "source": [
    "df1[df1['Quantity']>0].groupby('InvoiceData')['Cost'].sum().sort_values(ascending=False).head(20)"
   ]
  },
  {
   "cell_type": "markdown",
   "metadata": {},
   "source": [
    "**Помесячные продажи** "
   ]
  },
  {
   "cell_type": "code",
   "execution_count": 217,
   "metadata": {},
   "outputs": [
    {
     "data": {
      "text/plain": [
       "<matplotlib.axes._subplots.AxesSubplot at 0x97c4700>"
      ]
     },
     "execution_count": 217,
     "metadata": {},
     "output_type": "execute_result"
    },
    {
     "data": {
      "image/png": "[encoded data removed]",
      "text/plain": [
       "<Figure size 792x504 with 1 Axes>"
      ]
     },
     "metadata": {
      "needs_background": "light"
     },
     "output_type": "display_data"
    }
   ],
   "source": [
    "df_month_prod = df1.groupby([df1.InvoiceDate.dt.year.between(2019, 2020), df1.InvoiceDate.dt.month])['Cost'].sum()\n",
    "df_month_prod.plot(title='Помесячные продажи интернет-магазина')"
   ]
  },
  {
   "cell_type": "markdown",
   "metadata": {},
   "source": [
    "Продажи возрастают к окончанию года в связи с тем что начинаются предпраздничные дни. Поскольку полноценной статискики за декабрь-месяу не имееется достоверно определить уровень падения не предстваляется возможным."
   ]
  },
  {
   "cell_type": "markdown",
   "metadata": {},
   "source": [
    "**Средний чек по всем странам за всё время наблюдения**"
   ]
  },
  {
   "cell_type": "code",
   "execution_count": 244,
   "metadata": {},
   "outputs": [
    {
     "name": "stdout",
     "output_type": "stream",
     "text": [
      "Средний чек по всем странам за всё время наблюдения: 19.92 фунтов стерлингов\n"
     ]
    }
   ],
   "source": [
    "sumCost=df1[df1['Quantity']>0]['Cost'].sum()\n",
    "countID=df1[df1['Quantity']>0]['InvoiceNo'].count()\n",
    "avgReceipt = sumCost/countID\n",
    "print(f\"Средний чек по всем странам за всё время наблюдения: {avgReceipt:5.2f} фунтов стерлингов\" )"
   ]
  },
  {
   "cell_type": "markdown",
   "metadata": {},
   "source": [
    "**Средний чек по отдельным странам за всё время наблюдения**"
   ]
  },
  {
   "cell_type": "code",
   "execution_count": 245,
   "metadata": {},
   "outputs": [
    {
     "data": {
      "text/html": [
       "<div>\n",
       "<style scoped>\n",
       "    .dataframe tbody tr th:only-of-type {\n",
       "        vertical-align: middle;\n",
       "    }\n",
       "\n",
       "    .dataframe tbody tr th {\n",
       "        vertical-align: top;\n",
       "    }\n",
       "\n",
       "    .dataframe thead th {\n",
       "        text-align: right;\n",
       "    }\n",
       "</style>\n",
       "<table border=\"1\" class=\"dataframe\">\n",
       "  <thead>\n",
       "    <tr style=\"text-align: right;\">\n",
       "      <th></th>\n",
       "      <th>Pay</th>\n",
       "    </tr>\n",
       "    <tr>\n",
       "      <th>Country</th>\n",
       "      <th></th>\n",
       "    </tr>\n",
       "  </thead>\n",
       "  <tbody>\n",
       "    <tr>\n",
       "      <th>Australia</th>\n",
       "      <td>139.484472</td>\n",
       "    </tr>\n",
       "    <tr>\n",
       "      <th>Netherlands</th>\n",
       "      <td>114.177500</td>\n",
       "    </tr>\n",
       "    <tr>\n",
       "      <th>Sweden</th>\n",
       "      <td>100.745306</td>\n",
       "    </tr>\n",
       "    <tr>\n",
       "      <th>Japan</th>\n",
       "      <td>80.154815</td>\n",
       "    </tr>\n",
       "    <tr>\n",
       "      <th>Denmark</th>\n",
       "      <td>58.824000</td>\n",
       "    </tr>\n",
       "    <tr>\n",
       "      <th>Lithuania</th>\n",
       "      <td>48.600000</td>\n",
       "    </tr>\n",
       "    <tr>\n",
       "      <th>Czech Republic</th>\n",
       "      <td>41.100000</td>\n",
       "    </tr>\n",
       "    <tr>\n",
       "      <th>Lebanon</th>\n",
       "      <td>39.600000</td>\n",
       "    </tr>\n",
       "    <tr>\n",
       "      <th>EIRE</th>\n",
       "      <td>38.269934</td>\n",
       "    </tr>\n",
       "    <tr>\n",
       "      <th>Norway</th>\n",
       "      <td>37.114423</td>\n",
       "    </tr>\n",
       "    <tr>\n",
       "      <th>Singapore</th>\n",
       "      <td>36.795000</td>\n",
       "    </tr>\n",
       "    <tr>\n",
       "      <th>Malta</th>\n",
       "      <td>35.987500</td>\n",
       "    </tr>\n",
       "    <tr>\n",
       "      <th>Channel Islands</th>\n",
       "      <td>35.530247</td>\n",
       "    </tr>\n",
       "    <tr>\n",
       "      <th>Greece</th>\n",
       "      <td>35.058571</td>\n",
       "    </tr>\n",
       "    <tr>\n",
       "      <th>Switzerland</th>\n",
       "      <td>33.240107</td>\n",
       "    </tr>\n",
       "    <tr>\n",
       "      <th>Hong Kong</th>\n",
       "      <td>31.393214</td>\n",
       "    </tr>\n",
       "    <tr>\n",
       "      <th>Finland</th>\n",
       "      <td>28.341667</td>\n",
       "    </tr>\n",
       "    <tr>\n",
       "      <th>Brazil</th>\n",
       "      <td>26.600000</td>\n",
       "    </tr>\n",
       "    <tr>\n",
       "      <th>Portugal</th>\n",
       "      <td>26.490530</td>\n",
       "    </tr>\n",
       "    <tr>\n",
       "      <th>Germany</th>\n",
       "      <td>26.079384</td>\n",
       "    </tr>\n",
       "    <tr>\n",
       "      <th>USA</th>\n",
       "      <td>24.245000</td>\n",
       "    </tr>\n",
       "    <tr>\n",
       "      <th>Spain</th>\n",
       "      <td>23.789721</td>\n",
       "    </tr>\n",
       "    <tr>\n",
       "      <th>France</th>\n",
       "      <td>22.876998</td>\n",
       "    </tr>\n",
       "    <tr>\n",
       "      <th>Poland</th>\n",
       "      <td>21.704524</td>\n",
       "    </tr>\n",
       "    <tr>\n",
       "      <th>Austria</th>\n",
       "      <td>21.588958</td>\n",
       "    </tr>\n",
       "    <tr>\n",
       "      <th>Italy</th>\n",
       "      <td>19.938784</td>\n",
       "    </tr>\n",
       "    <tr>\n",
       "      <th>Belgium</th>\n",
       "      <td>19.741068</td>\n",
       "    </tr>\n",
       "    <tr>\n",
       "      <th>Israel</th>\n",
       "      <td>19.693333</td>\n",
       "    </tr>\n",
       "    <tr>\n",
       "      <th>United Arab Emirates</th>\n",
       "      <td>19.284000</td>\n",
       "    </tr>\n",
       "    <tr>\n",
       "      <th>United Kingdom</th>\n",
       "      <td>18.377402</td>\n",
       "    </tr>\n",
       "    <tr>\n",
       "      <th>Iceland</th>\n",
       "      <td>18.119333</td>\n",
       "    </tr>\n",
       "    <tr>\n",
       "      <th>Bahrain</th>\n",
       "      <td>17.700000</td>\n",
       "    </tr>\n",
       "    <tr>\n",
       "      <th>Cyprus</th>\n",
       "      <td>17.632500</td>\n",
       "    </tr>\n",
       "    <tr>\n",
       "      <th>Canada</th>\n",
       "      <td>16.472308</td>\n",
       "    </tr>\n",
       "    <tr>\n",
       "      <th>European Community</th>\n",
       "      <td>16.180000</td>\n",
       "    </tr>\n",
       "    <tr>\n",
       "      <th>Unspecified</th>\n",
       "      <td>14.450556</td>\n",
       "    </tr>\n",
       "    <tr>\n",
       "      <th>RSA</th>\n",
       "      <td>10.535000</td>\n",
       "    </tr>\n",
       "  </tbody>\n",
       "</table>\n",
       "</div>"
      ],
      "text/plain": [
       "                             Pay\n",
       "Country                         \n",
       "Australia             139.484472\n",
       "Netherlands           114.177500\n",
       "Sweden                100.745306\n",
       "Japan                  80.154815\n",
       "Denmark                58.824000\n",
       "Lithuania              48.600000\n",
       "Czech Republic         41.100000\n",
       "Lebanon                39.600000\n",
       "EIRE                   38.269934\n",
       "Norway                 37.114423\n",
       "Singapore              36.795000\n",
       "Malta                  35.987500\n",
       "Channel Islands        35.530247\n",
       "Greece                 35.058571\n",
       "Switzerland            33.240107\n",
       "Hong Kong              31.393214\n",
       "Finland                28.341667\n",
       "Brazil                 26.600000\n",
       "Portugal               26.490530\n",
       "Germany                26.079384\n",
       "USA                    24.245000\n",
       "Spain                  23.789721\n",
       "France                 22.876998\n",
       "Poland                 21.704524\n",
       "Austria                21.588958\n",
       "Italy                  19.938784\n",
       "Belgium                19.741068\n",
       "Israel                 19.693333\n",
       "United Arab Emirates   19.284000\n",
       "United Kingdom         18.377402\n",
       "Iceland                18.119333\n",
       "Bahrain                17.700000\n",
       "Cyprus                 17.632500\n",
       "Canada                 16.472308\n",
       "European Community     16.180000\n",
       "Unspecified            14.450556\n",
       "RSA                    10.535000"
      ]
     },
     "metadata": {},
     "output_type": "display_data"
    },
    {
     "data": {
      "text/plain": [
       "<matplotlib.axes._subplots.AxesSubplot at 0xaa0e910>"
      ]
     },
     "execution_count": 245,
     "metadata": {},
     "output_type": "execute_result"
    },
    {
     "data": {
      "image/png": "[encoded data removed]",
      "text/plain": [
       "<Figure size 792x504 with 1 Axes>"
      ]
     },
     "metadata": {
      "needs_background": "light"
     },
     "output_type": "display_data"
    }
   ],
   "source": [
    "df_avgReceipt_Country = pd.DataFrame() \n",
    "\n",
    "df_avgReceipt_Country['Pay'] = (df1[df1['Quantity']>0]['Cost'].groupby(df1.Country).sum()/\n",
    "df1[df1['Quantity']>0]['InvoiceNo'].groupby(df1.Country).count())\n",
    "\n",
    "display(df_avgReceipt_Country.sort_values( by='Pay', ascending=False))\n",
    "\n",
    "df_avgReceipt_Country.sort_values( by='Pay', ascending=False).plot.bar(color=['red'],\n",
    "                                   title='Средний чек по отдельным странам за всё время наблюдения'\n",
    "                                  )"
   ]
  },
  {
   "cell_type": "markdown",
   "metadata": {},
   "source": [
    "Большая величина среднего чека по Австралии, Нидерландам, Японии, Дании и Литве может быть объяснена тем, что  доставка в данные регионы занимает длительное время и клиенты оформляют заказы на эксклюзивные товары, которые недоступны в этих странах."
   ]
  },
  {
   "cell_type": "markdown",
   "metadata": {},
   "source": [
    "**Киты-покупатели по сумме покупок**"
   ]
  },
  {
   "cell_type": "code",
   "execution_count": 256,
   "metadata": {},
   "outputs": [
    {
     "data": {
      "text/html": [
       "<div>\n",
       "<style scoped>\n",
       "    .dataframe tbody tr th:only-of-type {\n",
       "        vertical-align: middle;\n",
       "    }\n",
       "\n",
       "    .dataframe tbody tr th {\n",
       "        vertical-align: top;\n",
       "    }\n",
       "\n",
       "    .dataframe thead th {\n",
       "        text-align: right;\n",
       "    }\n",
       "</style>\n",
       "<table border=\"1\" class=\"dataframe\">\n",
       "  <thead>\n",
       "    <tr style=\"text-align: right;\">\n",
       "      <th></th>\n",
       "      <th>Pay_sum</th>\n",
       "    </tr>\n",
       "    <tr>\n",
       "      <th>CustomerID</th>\n",
       "      <th></th>\n",
       "    </tr>\n",
       "  </thead>\n",
       "  <tbody>\n",
       "    <tr>\n",
       "      <th>12357</th>\n",
       "      <td>686.26</td>\n",
       "    </tr>\n",
       "    <tr>\n",
       "      <th>12362</th>\n",
       "      <td>508.76</td>\n",
       "    </tr>\n",
       "    <tr>\n",
       "      <th>12370</th>\n",
       "      <td>450.53</td>\n",
       "    </tr>\n",
       "    <tr>\n",
       "      <th>12356</th>\n",
       "      <td>393.82</td>\n",
       "    </tr>\n",
       "    <tr>\n",
       "      <th>12360</th>\n",
       "      <td>321.80</td>\n",
       "    </tr>\n",
       "    <tr>\n",
       "      <th>12347</th>\n",
       "      <td>271.79</td>\n",
       "    </tr>\n",
       "    <tr>\n",
       "      <th>12359</th>\n",
       "      <td>262.75</td>\n",
       "    </tr>\n",
       "    <tr>\n",
       "      <th>12352</th>\n",
       "      <td>184.40</td>\n",
       "    </tr>\n",
       "    <tr>\n",
       "      <th>12348</th>\n",
       "      <td>163.20</td>\n",
       "    </tr>\n",
       "    <tr>\n",
       "      <th>12371</th>\n",
       "      <td>151.56</td>\n",
       "    </tr>\n",
       "    <tr>\n",
       "      <th>12364</th>\n",
       "      <td>139.10</td>\n",
       "    </tr>\n",
       "    <tr>\n",
       "      <th>12363</th>\n",
       "      <td>128.34</td>\n",
       "    </tr>\n",
       "    <tr>\n",
       "      <th>12349</th>\n",
       "      <td>106.84</td>\n",
       "    </tr>\n",
       "    <tr>\n",
       "      <th>12354</th>\n",
       "      <td>62.95</td>\n",
       "    </tr>\n",
       "    <tr>\n",
       "      <th>12365</th>\n",
       "      <td>62.85</td>\n",
       "    </tr>\n",
       "    <tr>\n",
       "      <th>12350</th>\n",
       "      <td>49.80</td>\n",
       "    </tr>\n",
       "    <tr>\n",
       "      <th>12358</th>\n",
       "      <td>17.88</td>\n",
       "    </tr>\n",
       "    <tr>\n",
       "      <th>12355</th>\n",
       "      <td>17.70</td>\n",
       "    </tr>\n",
       "    <tr>\n",
       "      <th>12361</th>\n",
       "      <td>16.50</td>\n",
       "    </tr>\n",
       "    <tr>\n",
       "      <th>12367</th>\n",
       "      <td>9.90</td>\n",
       "    </tr>\n",
       "  </tbody>\n",
       "</table>\n",
       "</div>"
      ],
      "text/plain": [
       "            Pay_sum\n",
       "CustomerID         \n",
       "12357        686.26\n",
       "12362        508.76\n",
       "12370        450.53\n",
       "12356        393.82\n",
       "12360        321.80\n",
       "12347        271.79\n",
       "12359        262.75\n",
       "12352        184.40\n",
       "12348        163.20\n",
       "12371        151.56\n",
       "12364        139.10\n",
       "12363        128.34\n",
       "12349        106.84\n",
       "12354         62.95\n",
       "12365         62.85\n",
       "12350         49.80\n",
       "12358         17.88\n",
       "12355         17.70\n",
       "12361         16.50\n",
       "12367          9.90"
      ]
     },
     "metadata": {},
     "output_type": "display_data"
    },
    {
     "data": {
      "text/plain": [
       "<matplotlib.axes._subplots.AxesSubplot at 0x96c37f0>"
      ]
     },
     "execution_count": 256,
     "metadata": {},
     "output_type": "execute_result"
    },
    {
     "data": {
      "image/png": "[encoded data removed]",
      "text/plain": [
       "<Figure size 792x504 with 1 Axes>"
      ]
     },
     "metadata": {
      "needs_background": "light"
     },
     "output_type": "display_data"
    }
   ],
   "source": [
    "df_whale = pd.DataFrame() \n",
    "\n",
    "df_whale['Pay_sum'] = df1[df1['Quantity']>0]['Cost'].groupby(df1.CustomerID).sum().head(20)\n",
    "display(df_whale.sort_values( by='Pay_sum', ascending=False))\n",
    "\n",
    "df_whale.sort_values( by='Pay_sum', ascending=False).plot.bar(color=['blue'],\n",
    "                                   title='Киты-покупатели по сумме покупок'\n",
    "                     )"
   ]
  },
  {
   "cell_type": "markdown",
   "metadata": {},
   "source": [
    "Настораживет крайне незначительное число покупателей \"китов\". Из 3820 уникальных известных по датасету пользователей за год наблюдения только порядка 15 пользователей можно отнести к условным \"китам\"."
   ]
  },
  {
   "cell_type": "markdown",
   "metadata": {},
   "source": [
    "**Лояльные покупатели по числу покупок**"
   ]
  },
  {
   "cell_type": "code",
   "execution_count": 264,
   "metadata": {},
   "outputs": [
    {
     "data": {
      "text/html": [
       "<div>\n",
       "<style scoped>\n",
       "    .dataframe tbody tr th:only-of-type {\n",
       "        vertical-align: middle;\n",
       "    }\n",
       "\n",
       "    .dataframe tbody tr th {\n",
       "        vertical-align: top;\n",
       "    }\n",
       "\n",
       "    .dataframe thead th {\n",
       "        text-align: right;\n",
       "    }\n",
       "</style>\n",
       "<table border=\"1\" class=\"dataframe\">\n",
       "  <thead>\n",
       "    <tr style=\"text-align: right;\">\n",
       "      <th></th>\n",
       "      <th>InvoiceNo_count</th>\n",
       "    </tr>\n",
       "    <tr>\n",
       "      <th>CustomerID</th>\n",
       "      <th></th>\n",
       "    </tr>\n",
       "  </thead>\n",
       "  <tbody>\n",
       "    <tr>\n",
       "      <th>17841</th>\n",
       "      <td>771</td>\n",
       "    </tr>\n",
       "    <tr>\n",
       "      <th>14911</th>\n",
       "      <td>563</td>\n",
       "    </tr>\n",
       "    <tr>\n",
       "      <th>14096</th>\n",
       "      <td>546</td>\n",
       "    </tr>\n",
       "    <tr>\n",
       "      <th>12748</th>\n",
       "      <td>447</td>\n",
       "    </tr>\n",
       "    <tr>\n",
       "      <th>14606</th>\n",
       "      <td>278</td>\n",
       "    </tr>\n",
       "    <tr>\n",
       "      <th>15311</th>\n",
       "      <td>255</td>\n",
       "    </tr>\n",
       "    <tr>\n",
       "      <th>14646</th>\n",
       "      <td>195</td>\n",
       "    </tr>\n",
       "    <tr>\n",
       "      <th>13089</th>\n",
       "      <td>180</td>\n",
       "    </tr>\n",
       "    <tr>\n",
       "      <th>13263</th>\n",
       "      <td>166</td>\n",
       "    </tr>\n",
       "    <tr>\n",
       "      <th>14298</th>\n",
       "      <td>160</td>\n",
       "    </tr>\n",
       "    <tr>\n",
       "      <th>15039</th>\n",
       "      <td>152</td>\n",
       "    </tr>\n",
       "    <tr>\n",
       "      <th>14156</th>\n",
       "      <td>143</td>\n",
       "    </tr>\n",
       "    <tr>\n",
       "      <th>14159</th>\n",
       "      <td>132</td>\n",
       "    </tr>\n",
       "    <tr>\n",
       "      <th>18118</th>\n",
       "      <td>132</td>\n",
       "    </tr>\n",
       "    <tr>\n",
       "      <th>14056</th>\n",
       "      <td>127</td>\n",
       "    </tr>\n",
       "    <tr>\n",
       "      <th>16033</th>\n",
       "      <td>117</td>\n",
       "    </tr>\n",
       "    <tr>\n",
       "      <th>17511</th>\n",
       "      <td>115</td>\n",
       "    </tr>\n",
       "    <tr>\n",
       "      <th>14769</th>\n",
       "      <td>108</td>\n",
       "    </tr>\n",
       "    <tr>\n",
       "      <th>14796</th>\n",
       "      <td>103</td>\n",
       "    </tr>\n",
       "    <tr>\n",
       "      <th>15005</th>\n",
       "      <td>101</td>\n",
       "    </tr>\n",
       "  </tbody>\n",
       "</table>\n",
       "</div>"
      ],
      "text/plain": [
       "            InvoiceNo_count\n",
       "CustomerID                 \n",
       "17841                   771\n",
       "14911                   563\n",
       "14096                   546\n",
       "12748                   447\n",
       "14606                   278\n",
       "15311                   255\n",
       "14646                   195\n",
       "13089                   180\n",
       "13263                   166\n",
       "14298                   160\n",
       "15039                   152\n",
       "14156                   143\n",
       "14159                   132\n",
       "18118                   132\n",
       "14056                   127\n",
       "16033                   117\n",
       "17511                   115\n",
       "14769                   108\n",
       "14796                   103\n",
       "15005                   101"
      ]
     },
     "metadata": {},
     "output_type": "display_data"
    },
    {
     "name": "stdout",
     "output_type": "stream",
     "text": [
      "\n"
     ]
    }
   ],
   "source": [
    "df_fq_pay = pd.DataFrame() \n",
    "\n",
    "df_fq_pay = df1.groupby(df1.CustomerID).agg(InvoiceNo_count=('InvoiceNo', 'count'))\n",
    "\n",
    "\n",
    "\n",
    "'''df_country = df1.groupby(['Country']).agg(Cost_sum = ('Cost', 'sum'), \n",
    "                                          Quantity_sum = ('Quantity', 'sum'), \n",
    "                                          CustomerID_count=('CustomerID','count'),\n",
    "                                          InvoiceNo_count=('InvoiceNo', 'count'))\n",
    "'''\n",
    "display(df_fq_pay.sort_values( by='InvoiceNo_count', ascending=False).head(20))\n",
    "print('')"
   ]
  },
  {
   "cell_type": "markdown",
   "metadata": {},
   "source": [
    "**Наболее востребованные товары по выручке**"
   ]
  },
  {
   "cell_type": "code",
   "execution_count": 246,
   "metadata": {},
   "outputs": [
    {
     "ename": "NameError",
     "evalue": "name 'df_pay_type' is not defined",
     "output_type": "error",
     "traceback": [
      "\u001b[1;31m---------------------------------------------------------------------------\u001b[0m",
      "\u001b[1;31mNameError\u001b[0m                                 Traceback (most recent call last)",
      "\u001b[1;32m<ipython-input-246-5c7c065dc2d4>\u001b[0m in \u001b[0;36m<module>\u001b[1;34m\u001b[0m\n\u001b[0;32m      1\u001b[0m \u001b[1;31m# Группировка по регионам\u001b[0m\u001b[1;33m\u001b[0m\u001b[1;33m\u001b[0m\u001b[1;33m\u001b[0m\u001b[0m\n\u001b[1;32m----> 2\u001b[1;33m \u001b[0mdf_pay_type\u001b[0m\u001b[1;33m[\u001b[0m\u001b[1;34m'total'\u001b[0m\u001b[1;33m]\u001b[0m \u001b[1;33m=\u001b[0m \u001b[0mdf_pay_type\u001b[0m\u001b[1;33m[\u001b[0m\u001b[0mpay_type_cols\u001b[0m\u001b[1;33m]\u001b[0m\u001b[1;33m.\u001b[0m\u001b[0msum\u001b[0m\u001b[1;33m(\u001b[0m\u001b[0maxis\u001b[0m\u001b[1;33m=\u001b[0m\u001b[1;36m1\u001b[0m\u001b[1;33m)\u001b[0m\u001b[1;33m\u001b[0m\u001b[1;33m\u001b[0m\u001b[0m\n\u001b[0m\u001b[0;32m      3\u001b[0m df_pay = (df_pay_type[region_col+pay_type_cols+['total']]\n\u001b[0;32m      4\u001b[0m             .groupby(by=region_col).mean())\n\u001b[0;32m      5\u001b[0m \u001b[1;31m# Оставляем только регионы из списка regions\u001b[0m\u001b[1;33m\u001b[0m\u001b[1;33m\u001b[0m\u001b[1;33m\u001b[0m\u001b[0m\n",
      "\u001b[1;31mNameError\u001b[0m: name 'df_pay_type' is not defined"
     ]
    }
   ],
   "source": [
    "# Группировка по регионам\n",
    "df_pay_type['total'] = df_pay_type[pay_type_cols].sum(axis=1)\n",
    "df_pay = (df_pay_type[region_col+pay_type_cols+['total']]\n",
    "            .groupby(by=region_col).mean())\n",
    "# Оставляем только регионы из списка regions\n",
    "df_pay = df_pay.T.loc[:, regions].T\n",
    "\n",
    "df_pay = df_pay.sort_values(by='total', ascending=False)\n",
    "\n",
    "# Строим барчарт\n",
    "(df_pay[pay_type_cols].iloc[:20]\n",
    "    .plot.bar(stacked=False, figsize=(12, 6)))\n",
    "plt.title('Средняя сумма чеков по регионам за весь период в разрезе типа платежа')"
   ]
  },
  {
   "cell_type": "markdown",
   "metadata": {},
   "source": [
    "### Отсеиваем регионы с кол-вом чеков меньше 20 тыс"
   ]
  },
  {
   "cell_type": "code",
   "execution_count": null,
   "metadata": {},
   "outputs": [],
   "source": []
  },
  {
   "cell_type": "code",
   "execution_count": 6,
   "metadata": {},
   "outputs": [
    {
     "data": {
      "text/plain": [
       "['Ивановская',\n",
       " 'Псковская',\n",
       " 'Костромская',\n",
       " 'Карелия',\n",
       " 'Калининградская',\n",
       " 'Калужская',\n",
       " 'Брянская',\n",
       " 'Орловская',\n",
       " 'Камчатский',\n",
       " 'Владимирская']"
      ]
     },
     "execution_count": 6,
     "metadata": {},
     "output_type": "execute_result"
    }
   ],
   "source": [
    "# Отсеиваем регионы с кол-вом чеков меньше 10 тыс\n",
    "df_regions = (df[['Имя региона', 'receiptid']]\n",
    "    .drop_duplicates()\n",
    "    .groupby(by='Имя региона')\n",
    "    .count() \n",
    ").sort_values(by='receiptid')    \n",
    "\n",
    "regions = df_regions[df_regions['receiptid']>=20000].index.to_numpy()\n",
    "regions = list(regions[regions!='0'])\n",
    "regions[:10]"
   ]
  },
  {
   "cell_type": "markdown",
   "metadata": {},
   "source": [
    "## Анализируем суммарный доход регионов в разрезе типа платежа"
   ]
  },
  {
   "cell_type": "code",
   "execution_count": 7,
   "metadata": {},
   "outputs": [],
   "source": [
    "dupl_cols = ['receiptid']\n",
    "pay_type_cols = ['nal', 'electron', 'avans', 'credit']\n",
    "region_col = ['Имя региона']\n",
    "\n",
    "df_pay_type =  df.drop_duplicates(subset=dupl_cols).loc[: , dupl_cols+pay_type_cols+region_col]\n",
    "mask = df_pay_type[pay_type_cols].sum(axis=1) <=0\n",
    "df_pay_type = df_pay_type[~mask]\n"
   ]
  },
  {
   "cell_type": "code",
   "execution_count": 8,
   "metadata": {},
   "outputs": [
    {
     "data": {
      "text/plain": [
       "Text(0.5, 1.0, 'Доходы (суммы чеков) по регионам за весь период в разрезе типа платежа')"
      ]
     },
     "execution_count": 8,
     "metadata": {},
     "output_type": "execute_result"
    },
    {
     "data": {
      "image/png": "[encoded data removed]",
      "text/plain": [
       "<Figure size 1200x600 with 1 Axes>"
      ]
     },
     "metadata": {},
     "output_type": "display_data"
    }
   ],
   "source": [
    "# Группировка по регионам\n",
    "df_pay = (df_pay_type[region_col+pay_type_cols]\n",
    "            .groupby(by=region_col).sum())\n",
    "# Оставляем только регионы из списка regions\n",
    "df_pay = df_pay.T.loc[:, regions].T\n",
    "\n",
    "df_pay['total'] = df_pay[pay_type_cols].sum(axis=1)\n",
    "df_pay = df_pay.sort_values(by='total', ascending=False)\n",
    "\n",
    "# Строим барчарт\n",
    "(df_pay[pay_type_cols].iloc[:30]\n",
    "    .plot.bar(stacked=True, figsize=(12, 6)))\n",
    "plt.title('Доходы (суммы чеков) по регионам за весь период в разрезе типа платежа')"
   ]
  },
  {
   "cell_type": "markdown",
   "metadata": {},
   "source": [
    "## Анализируем зависимость средней суммы чека от региона в разрезе типа платежа"
   ]
  },
  {
   "cell_type": "code",
   "execution_count": 9,
   "metadata": {},
   "outputs": [
    {
     "data": {
      "text/plain": [
       "Text(0.5, 1.0, 'Средняя сумма чеков по регионам за весь период в разрезе типа платежа')"
      ]
     },
     "execution_count": 9,
     "metadata": {},
     "output_type": "execute_result"
    },
    {
     "data": {
      "image/png": "[encoded data removed]",
      "text/plain": [
       "<Figure size 1200x600 with 1 Axes>"
      ]
     },
     "metadata": {},
     "output_type": "display_data"
    }
   ],
   "source": [
    "# Группировка по регионам\n",
    "df_pay_type['total'] = df_pay_type[pay_type_cols].sum(axis=1)\n",
    "df_pay = (df_pay_type[region_col+pay_type_cols+['total']]\n",
    "            .groupby(by=region_col).mean())\n",
    "# Оставляем только регионы из списка regions\n",
    "df_pay = df_pay.T.loc[:, regions].T\n",
    "\n",
    "df_pay = df_pay.sort_values(by='total', ascending=False)\n",
    "\n",
    "# Строим барчарт\n",
    "(df_pay[pay_type_cols].iloc[:20]\n",
    "    .plot.bar(stacked=False, figsize=(12, 6)))\n",
    "plt.title('Средняя сумма чеков по регионам за весь период в разрезе типа платежа')"
   ]
  },
  {
   "cell_type": "markdown",
   "metadata": {},
   "source": [
    "## Анализируем распределение доходов по дням недели по регионам"
   ]
  },
  {
   "cell_type": "code",
   "execution_count": 10,
   "metadata": {},
   "outputs": [],
   "source": [
    "dupl_cols = ['receiptid']\n",
    "pay_type_cols = ['nal', 'electron', 'avans', 'credit']\n",
    "region_col = ['Имя региона']\n",
    "date_col = ['d_date']\n",
    "\n",
    "df_wd_income = (df.drop_duplicates(subset=dupl_cols)\n",
    "                .loc[: , date_col+ dupl_cols+pay_type_cols+region_col])\n",
    "mask = df_wd_income[pay_type_cols].sum(axis=1) <=0\n",
    "df_wd_income = df_wd_income[~mask]\n",
    "df_wd_income['d_date'] = df_wd_income['d_date'].dt.day_name()\n",
    "\n",
    "df_wd_income['total'] = df_wd_income[pay_type_cols].sum(axis=1)\n",
    "df_wd_income = df_wd_income[['d_date', 'Имя региона', 'total']]\n",
    "df_wd_income = df_wd_income.groupby(by=['d_date', 'Имя региона']).mean()\n",
    "df_wd_income = df_wd_income.T.stack(\"Имя региона\").droplevel(0,0).T.loc[:, regions].T.sort_index(ascending=False)\n",
    "old_cols = ['Monday', 'Tuesday', 'Wednesday', 'Thursday', 'Friday', 'Saturday', 'Sunday']\n",
    "new_cols = ['Понедельник', 'Вторник', 'Среда', 'Четверг', 'Пятница', 'Суббота', 'Воскресенье']\n",
    "df_wd_income = df_wd_income[old_cols]\n",
    "df_wd_income.rename(columns=dict(zip(old_cols, new_cols)), inplace=True)\n",
    "\n",
    "# Проводим нормирование по строкам (регионам), получаем процентное распределение \n",
    "# доходов по дням недели\n",
    "df_wd_income = (100*df_wd_income.div(df_wd_income.sum(axis=1).to_numpy(), axis=0)).round(1)\n",
    "\n",
    "# Фильтруем выбросы\n",
    "df_wd_income = df_wd_income[(df_wd_income.max(axis=1)<25) & (df_wd_income.min(axis=1)>7)]"
   ]
  },
  {
   "cell_type": "code",
   "execution_count": 11,
   "metadata": {},
   "outputs": [
    {
     "data": {
      "application/vnd.plotly.v1+json": {
       "config": {
        "plotlyServerURL": "https://plot.ly"
       },
       "data": [
        {
         "colorscale": [
          [
           0,
           "#440154"
          ],
          [
           0.1111111111111111,
           "#482878"
          ],
          [
           0.2222222222222222,
           "#3e4989"
          ],
          [
           0.3333333333333333,
           "#31688e"
          ],
          [
           0.4444444444444444,
           "#26828e"
          ],
          [
           0.5555555555555556,
           "#1f9e89"
          ],
          [
           0.6666666666666666,
           "#35b779"
          ],
          [
           0.7777777777777778,
           "#6ece58"
          ],
          [
           0.8888888888888888,
           "#b5de2b"
          ],
          [
           1,
           "#fde725"
          ]
         ],
         "type": "heatmap",
         "x": [
          "Понедельник",
          "Вторник",
          "Среда",
          "Четверг",
          "Пятница",
          "Суббота",
          "Воскресенье"
         ],
         "y": [
          "Ярославская",
          "Чувашская (Чувашия)",
          "Челябинская",
          "Хакасия",
          "Хабаровский",
          "Удмуртская",
          "Тюменская",
          "Тульская",
          "Томская",
          "Тверская",
          "Татарстан",
          "Смоленская",
          "Севастополь",
          "Саратовская",
          "Санкт-Петербург",
          "Самарская",
          "Рязанская",
          "Ростовская",
          "Пермский",
          "Пензенская",
          "Орловская",
          "Омская",
          "Новгородская",
          "Нижегородская",
          "Московская",
          "Марий Эл",
          "Липецкая",
          "Ленинградская",
          "Курская",
          "Курганская",
          "Крым",
          "Красноярский",
          "Краснодарский",
          "Коми",
          "Кировская",
          "Кемеровская",
          "Карелия",
          "Камчатский",
          "Калмыкия",
          "Калининградская",
          "Кабардино-Балкарская",
          "Иркутская",
          "Ивановская",
          "Забайкальский",
          "Воронежская",
          "Вологодская",
          "Волгоградская",
          "Владимирская",
          "Бурятия",
          "Брянская",
          "Белгородская",
          "Башкортостан",
          "Астраханская",
          "Амурская"
         ],
         "z": [
          [
           14.6,
           13.6,
           15,
           13,
           14,
           15.9,
           13.9
          ],
          [
           13.3,
           14.3,
           13.7,
           14.8,
           16.8,
           13.2,
           13.9
          ],
          [
           13.3,
           13.6,
           13.8,
           16.1,
           14.9,
           14.2,
           14.1
          ],
          [
           13.9,
           14,
           15.1,
           14.1,
           9.9,
           13,
           20
          ],
          [
           13.1,
           13.9,
           15.4,
           13.4,
           13,
           19.4,
           11.8
          ],
          [
           15.3,
           14.8,
           13.2,
           13.5,
           12.1,
           13.6,
           17.6
          ],
          [
           10.8,
           14.8,
           22.3,
           11.5,
           8.1,
           13.6,
           18.9
          ],
          [
           14.7,
           13.6,
           14.2,
           15.1,
           15,
           13.8,
           13.6
          ],
          [
           12.9,
           14.5,
           14.1,
           15.6,
           16.5,
           11.4,
           15.1
          ],
          [
           14,
           14.6,
           14.4,
           15.6,
           15.6,
           11.2,
           14.5
          ],
          [
           14.3,
           17.9,
           16.4,
           14.2,
           10.7,
           9.7,
           16.8
          ],
          [
           17.8,
           20.3,
           13.5,
           14.9,
           9,
           8.8,
           15.7
          ],
          [
           13.5,
           13.5,
           15.8,
           14.1,
           10.1,
           21.5,
           11.4
          ],
          [
           13.9,
           17.4,
           14.1,
           13.1,
           12.2,
           12.2,
           17.1
          ],
          [
           13.7,
           13.3,
           17,
           15.4,
           9.4,
           13.3,
           17.9
          ],
          [
           14.5,
           15.3,
           15.5,
           13,
           13.2,
           12.8,
           15.8
          ],
          [
           13.6,
           11.6,
           20.4,
           13,
           10.4,
           17.1,
           13.9
          ],
          [
           13.1,
           18.2,
           13.9,
           13.3,
           15.3,
           11.5,
           14.8
          ],
          [
           16.1,
           15.1,
           14.6,
           15.6,
           11.7,
           10.8,
           16.1
          ],
          [
           20.3,
           16.9,
           17.5,
           13.3,
           8.4,
           8,
           15.8
          ],
          [
           14.3,
           15,
           14.5,
           13.6,
           12.8,
           14.2,
           15.7
          ],
          [
           12.6,
           13,
           13.3,
           13.3,
           16.5,
           17,
           14.3
          ],
          [
           16.3,
           14.2,
           14,
           13.2,
           10.9,
           13.7,
           17.7
          ],
          [
           11.5,
           12.3,
           16.3,
           14.4,
           14.4,
           13,
           18
          ],
          [
           20.4,
           18.4,
           13.4,
           12.1,
           10.4,
           7.4,
           17.9
          ],
          [
           11.5,
           11.2,
           13.1,
           16.6,
           19.1,
           16.4,
           12
          ],
          [
           11.9,
           18.3,
           13.2,
           15.2,
           13.8,
           13.4,
           14.3
          ],
          [
           22.2,
           17.9,
           12.6,
           10.5,
           11,
           12.8,
           13.1
          ],
          [
           15.2,
           14.3,
           15.8,
           19.1,
           12.2,
           9,
           14.5
          ],
          [
           15.7,
           16.9,
           14.8,
           14.3,
           10.7,
           11.8,
           15.8
          ],
          [
           13.3,
           16.3,
           14.9,
           13.7,
           11.8,
           12.1,
           18
          ],
          [
           14.2,
           15.7,
           13.6,
           14.8,
           13.5,
           10.9,
           17.4
          ],
          [
           15.3,
           14.3,
           14.1,
           17.3,
           11.7,
           11.2,
           16.1
          ],
          [
           15.3,
           13.6,
           14.4,
           15.7,
           12.5,
           10.6,
           17.8
          ],
          [
           13.5,
           16.5,
           17.1,
           11.8,
           10.8,
           17.1,
           13.3
          ],
          [
           13.8,
           14.3,
           15.5,
           15.1,
           14.2,
           13.7,
           13.3
          ],
          [
           16.6,
           10.1,
           15.6,
           22.4,
           13.4,
           10.5,
           11.4
          ],
          [
           11.7,
           11.4,
           12.3,
           17.6,
           19.8,
           15.2,
           12.1
          ],
          [
           18,
           18,
           18.1,
           10.8,
           9.2,
           10.9,
           15
          ],
          [
           18.7,
           12.6,
           16.4,
           13.4,
           12.9,
           10.2,
           15.8
          ],
          [
           12.1,
           16.5,
           12.3,
           13.2,
           20.5,
           13.5,
           11.9
          ],
          [
           15.2,
           18.6,
           18.9,
           13.1,
           11.1,
           9.5,
           13.8
          ],
          [
           22,
           14.4,
           15.9,
           13.9,
           10.7,
           10,
           13.2
          ],
          [
           13.7,
           16,
           13.7,
           16.9,
           12.4,
           14.8,
           12.6
          ],
          [
           13.2,
           17,
           18.3,
           17.9,
           9.9,
           8.4,
           15.3
          ],
          [
           14.6,
           16.8,
           15.4,
           14.8,
           13.5,
           12.4,
           12.6
          ],
          [
           13.9,
           15.2,
           14.3,
           14.8,
           11.2,
           8.8,
           21.8
          ],
          [
           13.4,
           14.2,
           13.1,
           13.7,
           15.1,
           16.6,
           13.9
          ],
          [
           18.3,
           14.6,
           14.3,
           15,
           12.4,
           10.5,
           15
          ],
          [
           18.4,
           15.1,
           19.2,
           15.8,
           9.3,
           8.7,
           13.5
          ],
          [
           12.3,
           14.1,
           14,
           16.8,
           15.3,
           15,
           12.5
          ],
          [
           13.4,
           17.2,
           13.2,
           14.7,
           13.9,
           14.1,
           13.4
          ],
          [
           14.2,
           15,
           14.8,
           14.3,
           14.7,
           13.1,
           14
          ],
          [
           15.7,
           15,
           14.1,
           14.5,
           11.9,
           12.6,
           16.1
          ]
         ]
        }
       ],
       "layout": {
        "height": 1800,
        "template": {
         "data": {
          "bar": [
           {
            "error_x": {
             "color": "#2a3f5f"
            },
            "error_y": {
             "color": "#2a3f5f"
            },
            "marker": {
             "line": {
              "color": "#E5ECF6",
              "width": 0.5
             },
             "pattern": {
              "fillmode": "overlay",
              "size": 10,
              "solidity": 0.2
             }
            },
            "type": "bar"
           }
          ],
          "barpolar": [
           {
            "marker": {
             "line": {
              "color": "#E5ECF6",
              "width": 0.5
             },
             "pattern": {
              "fillmode": "overlay",
              "size": 10,
              "solidity": 0.2
             }
            },
            "type": "barpolar"
           }
          ],
          "carpet": [
           {
            "aaxis": {
             "endlinecolor": "#2a3f5f",
             "gridcolor": "white",
             "linecolor": "white",
             "minorgridcolor": "white",
             "startlinecolor": "#2a3f5f"
            },
            "baxis": {
             "endlinecolor": "#2a3f5f",
             "gridcolor": "white",
             "linecolor": "white",
             "minorgridcolor": "white",
             "startlinecolor": "#2a3f5f"
            },
            "type": "carpet"
           }
          ],
          "choropleth": [
           {
            "colorbar": {
             "outlinewidth": 0,
             "ticks": ""
            },
            "type": "choropleth"
           }
          ],
          "contour": [
           {
            "colorbar": {
             "outlinewidth": 0,
             "ticks": ""
            },
            "colorscale": [
             [
              0,
              "#0d0887"
             ],
             [
              0.1111111111111111,
              "#46039f"
             ],
             [
              0.2222222222222222,
              "#7201a8"
             ],
             [
              0.3333333333333333,
              "#9c179e"
             ],
             [
              0.4444444444444444,
              "#bd3786"
             ],
             [
              0.5555555555555556,
              "#d8576b"
             ],
             [
              0.6666666666666666,
              "#ed7953"
             ],
             [
              0.7777777777777778,
              "#fb9f3a"
             ],
             [
              0.8888888888888888,
              "#fdca26"
             ],
             [
              1,
              "#f0f921"
             ]
            ],
            "type": "contour"
           }
          ],
          "contourcarpet": [
           {
            "colorbar": {
             "outlinewidth": 0,
             "ticks": ""
            },
            "type": "contourcarpet"
           }
          ],
          "heatmap": [
           {
            "colorbar": {
             "outlinewidth": 0,
             "ticks": ""
            },
            "colorscale": [
             [
              0,
              "#0d0887"
             ],
             [
              0.1111111111111111,
              "#46039f"
             ],
             [
              0.2222222222222222,
              "#7201a8"
             ],
             [
              0.3333333333333333,
              "#9c179e"
             ],
             [
              0.4444444444444444,
              "#bd3786"
             ],
             [
              0.5555555555555556,
              "#d8576b"
             ],
             [
              0.6666666666666666,
              "#ed7953"
             ],
             [
              0.7777777777777778,
              "#fb9f3a"
             ],
             [
              0.8888888888888888,
              "#fdca26"
             ],
             [
              1,
              "#f0f921"
             ]
            ],
            "type": "heatmap"
           }
          ],
          "heatmapgl": [
           {
            "colorbar": {
             "outlinewidth": 0,
             "ticks": ""
            },
            "colorscale": [
             [
              0,
              "#0d0887"
             ],
             [
              0.1111111111111111,
              "#46039f"
             ],
             [
              0.2222222222222222,
              "#7201a8"
             ],
             [
              0.3333333333333333,
              "#9c179e"
             ],
             [
              0.4444444444444444,
              "#bd3786"
             ],
             [
              0.5555555555555556,
              "#d8576b"
             ],
             [
              0.6666666666666666,
              "#ed7953"
             ],
             [
              0.7777777777777778,
              "#fb9f3a"
             ],
             [
              0.8888888888888888,
              "#fdca26"
             ],
             [
              1,
              "#f0f921"
             ]
            ],
            "type": "heatmapgl"
           }
          ],
          "histogram": [
           {
            "marker": {
             "pattern": {
              "fillmode": "overlay",
              "size": 10,
              "solidity": 0.2
             }
            },
            "type": "histogram"
           }
          ],
          "histogram2d": [
           {
            "colorbar": {
             "outlinewidth": 0,
             "ticks": ""
            },
            "colorscale": [
             [
              0,
              "#0d0887"
             ],
             [
              0.1111111111111111,
              "#46039f"
             ],
             [
              0.2222222222222222,
              "#7201a8"
             ],
             [
              0.3333333333333333,
              "#9c179e"
             ],
             [
              0.4444444444444444,
              "#bd3786"
             ],
             [
              0.5555555555555556,
              "#d8576b"
             ],
             [
              0.6666666666666666,
              "#ed7953"
             ],
             [
              0.7777777777777778,
              "#fb9f3a"
             ],
             [
              0.8888888888888888,
              "#fdca26"
             ],
             [
              1,
              "#f0f921"
             ]
            ],
            "type": "histogram2d"
           }
          ],
          "histogram2dcontour": [
           {
            "colorbar": {
             "outlinewidth": 0,
             "ticks": ""
            },
            "colorscale": [
             [
              0,
              "#0d0887"
             ],
             [
              0.1111111111111111,
              "#46039f"
             ],
             [
              0.2222222222222222,
              "#7201a8"
             ],
             [
              0.3333333333333333,
              "#9c179e"
             ],
             [
              0.4444444444444444,
              "#bd3786"
             ],
             [
              0.5555555555555556,
              "#d8576b"
             ],
             [
              0.6666666666666666,
              "#ed7953"
             ],
             [
              0.7777777777777778,
              "#fb9f3a"
             ],
             [
              0.8888888888888888,
              "#fdca26"
             ],
             [
              1,
              "#f0f921"
             ]
            ],
            "type": "histogram2dcontour"
           }
          ],
          "mesh3d": [
           {
            "colorbar": {
             "outlinewidth": 0,
             "ticks": ""
            },
            "type": "mesh3d"
           }
          ],
          "parcoords": [
           {
            "line": {
             "colorbar": {
              "outlinewidth": 0,
              "ticks": ""
             }
            },
            "type": "parcoords"
           }
          ],
          "pie": [
           {
            "automargin": true,
            "type": "pie"
           }
          ],
          "scatter": [
           {
            "fillpattern": {
             "fillmode": "overlay",
             "size": 10,
             "solidity": 0.2
            },
            "type": "scatter"
           }
          ],
          "scatter3d": [
           {
            "line": {
             "colorbar": {
              "outlinewidth": 0,
              "ticks": ""
             }
            },
            "marker": {
             "colorbar": {
              "outlinewidth": 0,
              "ticks": ""
             }
            },
            "type": "scatter3d"
           }
          ],
          "scattercarpet": [
           {
            "marker": {
             "colorbar": {
              "outlinewidth": 0,
              "ticks": ""
             }
            },
            "type": "scattercarpet"
           }
          ],
          "scattergeo": [
           {
            "marker": {
             "colorbar": {
              "outlinewidth": 0,
              "ticks": ""
             }
            },
            "type": "scattergeo"
           }
          ],
          "scattergl": [
           {
            "marker": {
             "colorbar": {
              "outlinewidth": 0,
              "ticks": ""
             }
            },
            "type": "scattergl"
           }
          ],
          "scattermapbox": [
           {
            "marker": {
             "colorbar": {
              "outlinewidth": 0,
              "ticks": ""
             }
            },
            "type": "scattermapbox"
           }
          ],
          "scatterpolar": [
           {
            "marker": {
             "colorbar": {
              "outlinewidth": 0,
              "ticks": ""
             }
            },
            "type": "scatterpolar"
           }
          ],
          "scatterpolargl": [
           {
            "marker": {
             "colorbar": {
              "outlinewidth": 0,
              "ticks": ""
             }
            },
            "type": "scatterpolargl"
           }
          ],
          "scatterternary": [
           {
            "marker": {
             "colorbar": {
              "outlinewidth": 0,
              "ticks": ""
             }
            },
            "type": "scatterternary"
           }
          ],
          "surface": [
           {
            "colorbar": {
             "outlinewidth": 0,
             "ticks": ""
            },
            "colorscale": [
             [
              0,
              "#0d0887"
             ],
             [
              0.1111111111111111,
              "#46039f"
             ],
             [
              0.2222222222222222,
              "#7201a8"
             ],
             [
              0.3333333333333333,
              "#9c179e"
             ],
             [
              0.4444444444444444,
              "#bd3786"
             ],
             [
              0.5555555555555556,
              "#d8576b"
             ],
             [
              0.6666666666666666,
              "#ed7953"
             ],
             [
              0.7777777777777778,
              "#fb9f3a"
             ],
             [
              0.8888888888888888,
              "#fdca26"
             ],
             [
              1,
              "#f0f921"
             ]
            ],
            "type": "surface"
           }
          ],
          "table": [
           {
            "cells": {
             "fill": {
              "color": "#EBF0F8"
             },
             "line": {
              "color": "white"
             }
            },
            "header": {
             "fill": {
              "color": "#C8D4E3"
             },
             "line": {
              "color": "white"
             }
            },
            "type": "table"
           }
          ]
         },
         "layout": {
          "annotationdefaults": {
           "arrowcolor": "#2a3f5f",
           "arrowhead": 0,
           "arrowwidth": 1
          },
          "autotypenumbers": "strict",
          "coloraxis": {
           "colorbar": {
            "outlinewidth": 0,
            "ticks": ""
           }
          },
          "colorscale": {
           "diverging": [
            [
             0,
             "#8e0152"
            ],
            [
             0.1,
             "#c51b7d"
            ],
            [
             0.2,
             "#de77ae"
            ],
            [
             0.3,
             "#f1b6da"
            ],
            [
             0.4,
             "#fde0ef"
            ],
            [
             0.5,
             "#f7f7f7"
            ],
            [
             0.6,
             "#e6f5d0"
            ],
            [
             0.7,
             "#b8e186"
            ],
            [
             0.8,
             "#7fbc41"
            ],
            [
             0.9,
             "#4d9221"
            ],
            [
             1,
             "#276419"
            ]
           ],
           "sequential": [
            [
             0,
             "#0d0887"
            ],
            [
             0.1111111111111111,
             "#46039f"
            ],
            [
             0.2222222222222222,
             "#7201a8"
            ],
            [
             0.3333333333333333,
             "#9c179e"
            ],
            [
             0.4444444444444444,
             "#bd3786"
            ],
            [
             0.5555555555555556,
             "#d8576b"
            ],
            [
             0.6666666666666666,
             "#ed7953"
            ],
            [
             0.7777777777777778,
             "#fb9f3a"
            ],
            [
             0.8888888888888888,
             "#fdca26"
            ],
            [
             1,
             "#f0f921"
            ]
           ],
           "sequentialminus": [
            [
             0,
             "#0d0887"
            ],
            [
             0.1111111111111111,
             "#46039f"
            ],
            [
             0.2222222222222222,
             "#7201a8"
            ],
            [
             0.3333333333333333,
             "#9c179e"
            ],
            [
             0.4444444444444444,
             "#bd3786"
            ],
            [
             0.5555555555555556,
             "#d8576b"
            ],
            [
             0.6666666666666666,
             "#ed7953"
            ],
            [
             0.7777777777777778,
             "#fb9f3a"
            ],
            [
             0.8888888888888888,
             "#fdca26"
            ],
            [
             1,
             "#f0f921"
            ]
           ]
          },
          "colorway": [
           "#636efa",
           "#EF553B",
           "#00cc96",
           "#ab63fa",
           "#FFA15A",
           "#19d3f3",
           "#FF6692",
           "#B6E880",
           "#FF97FF",
           "#FECB52"
          ],
          "font": {
           "color": "#2a3f5f"
          },
          "geo": {
           "bgcolor": "white",
           "lakecolor": "white",
           "landcolor": "#E5ECF6",
           "showlakes": true,
           "showland": true,
           "subunitcolor": "white"
          },
          "hoverlabel": {
           "align": "left"
          },
          "hovermode": "closest",
          "mapbox": {
           "style": "light"
          },
          "paper_bgcolor": "white",
          "plot_bgcolor": "#E5ECF6",
          "polar": {
           "angularaxis": {
            "gridcolor": "white",
            "linecolor": "white",
            "ticks": ""
           },
           "bgcolor": "#E5ECF6",
           "radialaxis": {
            "gridcolor": "white",
            "linecolor": "white",
            "ticks": ""
           }
          },
          "scene": {
           "xaxis": {
            "backgroundcolor": "#E5ECF6",
            "gridcolor": "white",
            "gridwidth": 2,
            "linecolor": "white",
            "showbackground": true,
            "ticks": "",
            "zerolinecolor": "white"
           },
           "yaxis": {
            "backgroundcolor": "#E5ECF6",
            "gridcolor": "white",
            "gridwidth": 2,
            "linecolor": "white",
            "showbackground": true,
            "ticks": "",
            "zerolinecolor": "white"
           },
           "zaxis": {
            "backgroundcolor": "#E5ECF6",
            "gridcolor": "white",
            "gridwidth": 2,
            "linecolor": "white",
            "showbackground": true,
            "ticks": "",
            "zerolinecolor": "white"
           }
          },
          "shapedefaults": {
           "line": {
            "color": "#2a3f5f"
           }
          },
          "ternary": {
           "aaxis": {
            "gridcolor": "white",
            "linecolor": "white",
            "ticks": ""
           },
           "baxis": {
            "gridcolor": "white",
            "linecolor": "white",
            "ticks": ""
           },
           "bgcolor": "#E5ECF6",
           "caxis": {
            "gridcolor": "white",
            "linecolor": "white",
            "ticks": ""
           }
          },
          "title": {
           "x": 0.05
          },
          "xaxis": {
           "automargin": true,
           "gridcolor": "white",
           "linecolor": "white",
           "ticks": "",
           "title": {
            "standoff": 15
           },
           "zerolinecolor": "white",
           "zerolinewidth": 2
          },
          "yaxis": {
           "automargin": true,
           "gridcolor": "white",
           "linecolor": "white",
           "ticks": "",
           "title": {
            "standoff": 15
           },
           "zerolinecolor": "white",
           "zerolinewidth": 2
          }
         }
        },
        "title": {
         "text": "Доходы по дням недели и регионам в процентах к общей сумме за неделю по региону"
        },
        "width": 900,
        "xaxis": {
         "side": "top"
        }
       }
      }
     },
     "metadata": {},
     "output_type": "display_data"
    }
   ],
   "source": [
    "# Рисуем heatmap\n",
    "fig = go.Figure(data=go.Heatmap(\n",
    "        z=df_wd_income.values,\n",
    "        x=df_wd_income.columns,\n",
    "        y=df_wd_income.index,\n",
    "        colorscale='Viridis'\n",
    "))\n",
    "        \n",
    "fig.update_xaxes(side=\"top\")\n",
    "\n",
    "fig.update_layout(\n",
    "    title='Доходы по дням недели и регионам в процентах к общей сумме за неделю по региону',\n",
    "    width = 900, \n",
    "    height = 1800,\n",
    ")\n",
    "\n",
    "\n",
    "fig.show()"
   ]
  },
  {
   "cell_type": "code",
   "execution_count": null,
   "metadata": {},
   "outputs": [],
   "source": []
  }
 ],
 "metadata": {
  "kernelspec": {
   "display_name": "Python 3",
   "language": "python",
   "name": "python3"
  },
  "language_info": {
   "codemirror_mode": {
    "name": "ipython",
    "version": 3
   },
   "file_extension": ".py",
   "mimetype": "text/x-python",
   "name": "python",
   "nbconvert_exporter": "python",
   "pygments_lexer": "ipython3",
   "version": "3.8.3"
  },
  "vscode": {
   "interpreter": {
    "hash": "63796e44d27cd835f750f74727fd47eb59fdce647e72c256b881c468ddaf7f08"
   }
  }
 },
 "nbformat": 4,
 "nbformat_minor": 2
}
