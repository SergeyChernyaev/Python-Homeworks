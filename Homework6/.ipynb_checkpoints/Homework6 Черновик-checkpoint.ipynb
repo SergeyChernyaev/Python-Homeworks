{
 "cells": [
  {
   "cell_type": "markdown",
   "metadata": {},
   "source": [
    "### Задание 1\n",
    "Печатные газеты использовали свой формат дат для каждого выпуска. Для каждой газеты из списка напишите формат указанной даты для перевода в объект datetime:\n",
    "The Moscow Times - Wednesday, October 2, 2002\n",
    "The Guardian - Friday, 11.10.13\n",
    "Daily News - Thursday, 18 August 1977"
   ]
  },
  {
   "cell_type": "code",
   "execution_count": null,
   "metadata": {},
   "outputs": [],
   "source": [
    "from datetime import datetime\n",
    "\n",
    "#  %A - weekday as locale’s full name\n",
    "#  %B - month as locale’s full name.\n",
    "#  %d - day of the month as a zero-padded decimal number\n",
    "#  %Y - year with century as a decimal number\n",
    "\n",
    "#The Moscow Times - Wednesday, October 2, 2002\n",
    "day_str = 'Wednesday, October, 2, 2002'\n",
    "day_time = datetime.strptime(day_str, '%A, %B, %d, %Y')\n",
    "print ('Дата для \"The Moscow Times\":', day_time)\n",
    "\n",
    "#The Guardian - Friday, 11.10.13\n",
    "day_str='Friday, 11.10.13'\n",
    "day_time = datetime.strptime(day_str, '%A, %d.%m.%y')\n",
    "print ('Дата для \"The Guardian\":', day_time)\n",
    "\n",
    "#Daily News - Thursday, 18 August 1977\n",
    "day_str='Thursday, 18 August 1977'\n",
    "day_time = datetime.strptime(day_str, '%A, %d %B %Y')\n",
    "print ('Дата для \"Daily News\":', day_time)"
   ]
  },
  {
   "cell_type": "markdown",
   "metadata": {},
   "source": [
    "### Задание 2\n",
    "Дан поток дат в формате YYYY-MM-DD, в которых встречаются некорректные значения:\n",
    "stream = [‘2018-04-02’, ‘2018-02-29’, ‘2018-19-02’]\n",
    "Напишите функцию, которая проверяет эти даты на корректность. Т. е. для каждой даты возвращает True (дата корректна) или False (некорректная дата)."
   ]
  },
  {
   "cell_type": "code",
   "execution_count": null,
   "metadata": {},
   "outputs": [],
   "source": [
    "from datetime import datetime\n",
    "\n",
    "def check_date(day_str):\n",
    "    check_b = True\n",
    "    try:\n",
    "        datetime.strptime(day_str, '%Y-%m-%d')\n",
    "    except:\n",
    "        check_b = False\n",
    "    return check_b\n",
    "\n",
    "stream = ['2018-04-02', '2018-02-29', '2018-19-02'] \n",
    "\n",
    "for day_str in stream:\n",
    "    print ('Дата:', day_str, 'результат проверки:', check_date(day_str))"
   ]
  },
  {
   "cell_type": "markdown",
   "metadata": {},
   "source": [
    "### Задание 3\n",
    "Напишите функцию date_range, которая возвращает список дат за период от start_date до end_date. Даты должны вводиться в формате YYYY-MM-DD. В случае неверного формата или при start_date > end_date должен возвращаться пустой список."
   ]
  },
  {
   "cell_type": "code",
   "execution_count": null,
   "metadata": {},
   "outputs": [],
   "source": [
    "from datetime import datetime\n",
    "from datetime import date\n",
    "from datetime import timedelta\n",
    "\n",
    "def check_inp_date(day_str):\n",
    "    check_b = True\n",
    "    data_= None\n",
    "    try:\n",
    "        data_ = date.fromisoformat(day_str)\n",
    "    except:\n",
    "        check_b = False\n",
    "    return check_b, data_\n",
    "\n",
    "\n",
    "\n",
    "def date_range (start_date, end_date):\n",
    "    date_list= []\n",
    "    # считать результат проверки и дату\n",
    "    check_start, start_day = check_inp_date(start_date)\n",
    "    check_end, end_day = check_inp_date(end_date)\n",
    "   \n",
    "    # если даты некорректны или некорректный интервал, то вернуть пустой список\n",
    "    if check_start == False or check_end == False or start_date > end_date:\n",
    "        return date_list # возвратить пустой список\n",
    "    \n",
    "    # определить дельту в 1 день для итерации\n",
    "    delta = timedelta(days=1)\n",
    "    # создать список дат\n",
    "    while (start_day <= end_day):\n",
    "        date_list.append(start_day)\n",
    "        start_day += delta\n",
    "    return date_list\n",
    "\n",
    "start_date = '2018-03-16'\n",
    "end_date = '2018-04-10'\n",
    "# создать список дат  и сразу вывести оказывается и так можно\n",
    "for data_ in date_range (start_date, end_date):\n",
    "    print(data_)\n",
    "\n",
    "\n",
    "\n"
   ]
  },
  {
   "cell_type": "markdown",
   "metadata": {},
   "source": [
    "### Задание 4 (необязательное)\n",
    "Ваш коллега прислал код функции:\n",
    "\n",
    "DEFAULT_USER_COUNT = 3\n",
    "\n",
    "def delete_and_return_last_user(region, default_list=[‘A100’, ‘A101’, ‘A102’]):\n",
    "\"\"“\n",
    "Удаляет из списка default_list последнего пользователя\n",
    "и возвращает ID нового последнего пользователя.\n",
    "”\"\"\n",
    "element_to_delete = default_list[-1]\n",
    "default_list.remove(element_to_delete)\n",
    "\n",
    "1\n",
    "return default_list[DEFAULT_USER_COUNT-2]\n",
    "\n",
    "При однократном вызове этой функции все работает корректно:\n",
    "delete_and_return_last_user(1)\n",
    "‘A101’\n",
    "\n",
    "Однако, при повторном вызове получается ошибка IndexError: list index out of range.\n",
    "\n",
    "Задание:\n",
    "\n",
    "    Что значит ошибка list index out of range?\n",
    "    Почему при первом запуске функция работает корректно, а при втором - нет?\n"
   ]
  },
  {
   "cell_type": "code",
   "execution_count": 107,
   "metadata": {},
   "outputs": [],
   "source": [
    "DEFAULT_USER_COUNT = 3\n",
    "\n",
    "def delete_and_return_last_user(region, default_list=['A100', 'A101', 'A102']):\n",
    "#Удаляет из списка default_list последнего пользователя\n",
    "#и возвращает ID нового последнего пользователя.\n",
    "    element_to_delete = default_list[-1]\n",
    "    print(element_to_delete)\n",
    "    default_list.remove(element_to_delete)\n",
    "    return default_list[DEFAULT_USER_COUNT-2]\n"
   ]
  },
  {
   "cell_type": "code",
   "execution_count": 110,
   "metadata": {},
   "outputs": [
    {
     "name": "stdout",
     "output_type": "stream",
     "text": [
      "A101\n"
     ]
    },
    {
     "ename": "IndexError",
     "evalue": "list index out of range",
     "output_type": "error",
     "traceback": [
      "\u001b[1;31m---------------------------------------------------------------------------\u001b[0m",
      "\u001b[1;31mIndexError\u001b[0m                                Traceback (most recent call last)",
      "\u001b[1;32m<ipython-input-110-6c8a76893f92>\u001b[0m in \u001b[0;36m<module>\u001b[1;34m\u001b[0m\n\u001b[0;32m      1\u001b[0m \u001b[0mDEFAULT_USER_COUNT\u001b[0m \u001b[1;33m=\u001b[0m \u001b[1;36m3\u001b[0m\u001b[1;33m\u001b[0m\u001b[1;33m\u001b[0m\u001b[0m\n\u001b[0;32m      2\u001b[0m \u001b[1;33m\u001b[0m\u001b[0m\n\u001b[1;32m----> 3\u001b[1;33m \u001b[0mid_2\u001b[0m \u001b[1;33m=\u001b[0m \u001b[0mdelete_and_return_last_user\u001b[0m\u001b[1;33m(\u001b[0m\u001b[1;36m1\u001b[0m\u001b[1;33m,\u001b[0m\u001b[1;33m[\u001b[0m\u001b[1;34m'A100'\u001b[0m\u001b[1;33m,\u001b[0m \u001b[1;34m'A101'\u001b[0m\u001b[1;33m]\u001b[0m\u001b[1;33m)\u001b[0m\u001b[1;33m\u001b[0m\u001b[1;33m\u001b[0m\u001b[0m\n\u001b[0m\u001b[0;32m      4\u001b[0m \u001b[0mprint\u001b[0m\u001b[1;33m(\u001b[0m\u001b[0mid_2\u001b[0m\u001b[1;33m)\u001b[0m\u001b[1;33m\u001b[0m\u001b[1;33m\u001b[0m\u001b[0m\n",
      "\u001b[1;32m<ipython-input-107-063e3aa73d09>\u001b[0m in \u001b[0;36mdelete_and_return_last_user\u001b[1;34m(region, default_list)\u001b[0m\n\u001b[0;32m      7\u001b[0m     \u001b[0mprint\u001b[0m\u001b[1;33m(\u001b[0m\u001b[0melement_to_delete\u001b[0m\u001b[1;33m)\u001b[0m\u001b[1;33m\u001b[0m\u001b[1;33m\u001b[0m\u001b[0m\n\u001b[0;32m      8\u001b[0m     \u001b[0mdefault_list\u001b[0m\u001b[1;33m.\u001b[0m\u001b[0mremove\u001b[0m\u001b[1;33m(\u001b[0m\u001b[0melement_to_delete\u001b[0m\u001b[1;33m)\u001b[0m\u001b[1;33m\u001b[0m\u001b[1;33m\u001b[0m\u001b[0m\n\u001b[1;32m----> 9\u001b[1;33m     \u001b[1;32mreturn\u001b[0m \u001b[0mdefault_list\u001b[0m\u001b[1;33m[\u001b[0m\u001b[0mDEFAULT_USER_COUNT\u001b[0m\u001b[1;33m-\u001b[0m\u001b[1;36m2\u001b[0m\u001b[1;33m]\u001b[0m\u001b[1;33m\u001b[0m\u001b[1;33m\u001b[0m\u001b[0m\n\u001b[0m",
      "\u001b[1;31mIndexError\u001b[0m: list index out of range"
     ]
    }
   ],
   "source": [
    "DEFAULT_USER_COUNT = 3\n",
    "\n",
    "id_2 = delete_and_return_last_user(1,['A100', 'A101'])\n",
    "print(id_2)\n",
    "\n",
    "#Что значит ошибка list index out of range?\n",
    "# Ошибка означает что индекс элементов списка вышел за допустимую границу\n",
    "# В списке остался один элемент 'A100' с индексом ноль, элемент с индексом 1 отсуттвует, что и вызывает ошибку.\n"
   ]
  },
  {
   "cell_type": "code",
   "execution_count": null,
   "metadata": {},
   "outputs": [],
   "source": [
    "from datetime import date\n",
    "a = date.fromisoformat('2019-12-04')\n",
    "print(a)"
   ]
  },
  {
   "cell_type": "code",
   "execution_count": null,
   "metadata": {},
   "outputs": [],
   "source": [
    "# import datetime module\n",
    "import datetime\n",
    "# consider the start date as 2021-february 1 st\n",
    "start_date = datetime.date(2021, 2, 1)\n",
    "print ('Начало:', start_date)\n",
    "# consider the end date as 2021-march 1 st\n",
    "end_date = datetime.date(2021, 3, 1)\n",
    "# delta time\n",
    "delta = datetime.timedelta(days=1)\n",
    "print (delta)\n",
    "# iterate over range of dates\n",
    "while (start_date <= end_date):\n",
    "    print(start_date, end=\"\\n\")\n",
    "    start_date += delta"
   ]
  },
  {
   "cell_type": "code",
   "execution_count": null,
   "metadata": {},
   "outputs": [],
   "source": [
    "from datetime import datetime\n",
    "d1 = datetime.strptime(\"01.02.2017\", \"%d.%m.%Y\")\n",
    "d2 = datetime.strptime(\"01.03.2017\", \"%d.%m.%Y\")\n",
    "if d2 > d1: \n",
    "    print (f\"Дата {d1} больше даты {d2}\")"
   ]
  },
  {
   "cell_type": "code",
   "execution_count": null,
   "metadata": {},
   "outputs": [],
   "source": [
    "# import pandas module\n",
    "import pandas as pd\n",
    "\n",
    "# specify the start date is 2021 jan 1 st\n",
    "# specify the emd date is 2021 feb 1 st\n",
    "a = pd.date_range(start='1/1/2021', end='2/1/2021')\n",
    "\n",
    "# display only date using date() function\n",
    "for i in a:\n",
    "    print(i.date())"
   ]
  }
 ],
 "metadata": {
  "kernelspec": {
   "display_name": "Python 3",
   "language": "python",
   "name": "python3"
  },
  "language_info": {
   "codemirror_mode": {
    "name": "ipython",
    "version": 3
   },
   "file_extension": ".py",
   "mimetype": "text/x-python",
   "name": "python",
   "nbconvert_exporter": "python",
   "pygments_lexer": "ipython3",
   "version": "3.8.3"
  }
 },
 "nbformat": 4,
 "nbformat_minor": 4
}
