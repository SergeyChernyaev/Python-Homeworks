{
 "cells": [
  {
   "cell_type": "markdown",
   "metadata": {},
   "source": [
    "### Задание 1\n",
    "Печатные газеты использовали свой формат дат для каждого выпуска. Для каждой газеты из списка напишите формат указанной даты для перевода в объект datetime:\n",
    "The Moscow Times - Wednesday, October 2, 2002\n",
    "The Guardian - Friday, 11.10.13\n",
    "Daily News - Thursday, 18 August 1977"
   ]
  },
  {
   "cell_type": "code",
   "execution_count": 20,
   "metadata": {},
   "outputs": [
    {
     "name": "stdout",
     "output_type": "stream",
     "text": [
      "Дата для \"The Moscow Times\": 2002-10-02 00:00:00\n",
      "Дата для \"The Guardian\": 2013-10-11 00:00:00\n",
      "Дата для \"Daily News\": 1977-08-18 00:00:00\n"
     ]
    }
   ],
   "source": [
    "# можно и так\n",
    "import datetime as dt\n",
    "from datetime import datetime\n",
    "\n",
    "#  %A - weekday as locale’s full name\n",
    "#  %B - month as locale’s full name.\n",
    "#  %d - day of the month as a zero-padded decimal number\n",
    "#  %Y - year with century as a decimal number\n",
    "\n",
    "#The Moscow Times - Wednesday, October 2, 2002\n",
    "day_str = 'Wednesday, October, 2, 2002'\n",
    "day_time = datetime.strptime(day_str, '%A, %B, %d, %Y')\n",
    "print ('Дата для \"The Moscow Times\":', day_time)\n",
    "\n",
    "#The Guardian - Friday, 11.10.13\n",
    "day_str='Friday, 11.10.13'\n",
    "day_time = datetime.strptime(day_str, '%A, %d.%m.%y')\n",
    "print ('Дата для \"The Guardian\":', day_time)\n",
    "\n",
    "#Daily News - Thursday, 18 August 1977\n",
    "day_str='Thursday, 18 August 1977'\n",
    "day_time = datetime.strptime(day_str, '%A, %d %B %Y')\n",
    "print ('Дата для \"Daily News\":', day_time)"
   ]
  },
  {
   "cell_type": "markdown",
   "metadata": {},
   "source": [
    "### Задание 2\n",
    "Дан поток дат в формате YYYY-MM-DD, в которых встречаются некорректные значения:\n",
    "stream = [‘2018-04-02’, ‘2018-02-29’, ‘2018-19-02’]\n",
    "Напишите функцию, которая проверяет эти даты на корректность. Т. е. для каждой даты возвращает True (дата корректна) или False (некорректная дата)."
   ]
  },
  {
   "cell_type": "code",
   "execution_count": 56,
   "metadata": {},
   "outputs": [
    {
     "name": "stdout",
     "output_type": "stream",
     "text": [
      "Дата: 2018-04-02 результат проверки: True\n",
      "Дата: 2018-02-29 результат проверки: False\n",
      "Дата: 2018-19-02 результат проверки: False\n"
     ]
    }
   ],
   "source": [
    "from datetime import datetime\n",
    "\n",
    "def check_date(day_str):\n",
    "    check_b = True\n",
    "    try:\n",
    "        datetime.strptime(day_str, '%Y-%m-%d')\n",
    "    except:\n",
    "        check_b = False\n",
    "    return check_b\n",
    "\n",
    "stream = ['2018-04-02', '2018-02-29', '2018-19-02'] \n",
    "\n",
    "for day_str in stream:\n",
    "    print ('Дата:', day_str, 'результат проверки:', check_date(day_str))"
   ]
  },
  {
   "cell_type": "markdown",
   "metadata": {},
   "source": [
    "### Задание 3\n",
    "Напишите функцию date_range, которая возвращает список дат за период от start_date до end_date. Даты должны вводиться в формате YYYY-MM-DD. В случае неверного формата или при start_date > end_date должен возвращаться пустой список."
   ]
  },
  {
   "cell_type": "code",
   "execution_count": 105,
   "metadata": {},
   "outputs": [
    {
     "name": "stdout",
     "output_type": "stream",
     "text": [
      "[datetime.date(2018, 3, 12), datetime.date(2018, 3, 13), datetime.date(2018, 3, 14), datetime.date(2018, 3, 15), datetime.date(2018, 3, 16), datetime.date(2018, 3, 17), datetime.date(2018, 3, 18), datetime.date(2018, 3, 19), datetime.date(2018, 3, 20), datetime.date(2018, 3, 21), datetime.date(2018, 3, 22), datetime.date(2018, 3, 23), datetime.date(2018, 3, 24), datetime.date(2018, 3, 25), datetime.date(2018, 3, 26), datetime.date(2018, 3, 27), datetime.date(2018, 3, 28), datetime.date(2018, 3, 29), datetime.date(2018, 3, 30), datetime.date(2018, 3, 31), datetime.date(2018, 4, 1), datetime.date(2018, 4, 2), datetime.date(2018, 4, 3), datetime.date(2018, 4, 4), datetime.date(2018, 4, 5), datetime.date(2018, 4, 6), datetime.date(2018, 4, 7), datetime.date(2018, 4, 8), datetime.date(2018, 4, 9), datetime.date(2018, 4, 10)]\n"
     ]
    }
   ],
   "source": [
    "from datetime import datetime\n",
    "from datetime import date\n",
    "from datetime import timedelta\n",
    "\n",
    "def check_date(day_str):\n",
    "    check_b = True\n",
    "    try:\n",
    "        datetime.strptime(day_str, '%Y-%m-%d')\n",
    "    except:\n",
    "        check_b = False\n",
    "    return check_b\n",
    "\n",
    "\n",
    "\n",
    "def date_range (start_date, end_date):\n",
    "    date_list= []\n",
    "    # если даты некорректны\n",
    "    if check_date(start_date) == False or check_date(end_date) == False:\n",
    "        return date_list # возвратить пустой список\n",
    "    \n",
    "    start_day = date.fromisoformat(start_date)\n",
    "    end_day = date.fromisoformat(end_date)\n",
    "    # если некорректный интервал, то вернуть пустой список \n",
    "    if start_date > end_date:\n",
    "        return date_list\n",
    "    # определить дельту в 1 день для итерации\n",
    "    delta = timedelta(days=1)\n",
    "    # создать список дат\n",
    "    while (start_day <= end_day):\n",
    "        date_list.append(start_day)\n",
    "        start_day += delta\n",
    "    return date_list\n",
    "\n",
    "start_date = '2018-03-12'\n",
    "end_date = '2018-04-10'\n",
    "\n",
    "print(date_range (start_date, end_date))\n",
    "\n",
    "\n",
    "\n"
   ]
  },
  {
   "cell_type": "code",
   "execution_count": 85,
   "metadata": {},
   "outputs": [
    {
     "name": "stdout",
     "output_type": "stream",
     "text": [
      "2019-12-04\n"
     ]
    }
   ],
   "source": [
    "from datetime import date\n",
    "a = date.fromisoformat('2019-12-04')\n",
    "print(a)"
   ]
  },
  {
   "cell_type": "code",
   "execution_count": 73,
   "metadata": {},
   "outputs": [
    {
     "name": "stdout",
     "output_type": "stream",
     "text": [
      "Начало: 2021-02-01\n",
      "1 day, 0:00:00\n",
      "2021-02-01\n",
      "2021-02-02\n",
      "2021-02-03\n",
      "2021-02-04\n",
      "2021-02-05\n",
      "2021-02-06\n",
      "2021-02-07\n",
      "2021-02-08\n",
      "2021-02-09\n",
      "2021-02-10\n",
      "2021-02-11\n",
      "2021-02-12\n",
      "2021-02-13\n",
      "2021-02-14\n",
      "2021-02-15\n",
      "2021-02-16\n",
      "2021-02-17\n",
      "2021-02-18\n",
      "2021-02-19\n",
      "2021-02-20\n",
      "2021-02-21\n",
      "2021-02-22\n",
      "2021-02-23\n",
      "2021-02-24\n",
      "2021-02-25\n",
      "2021-02-26\n",
      "2021-02-27\n",
      "2021-02-28\n",
      "2021-03-01\n"
     ]
    }
   ],
   "source": [
    "# import datetime module\n",
    "import datetime\n",
    "# consider the start date as 2021-february 1 st\n",
    "start_date = datetime.date(2021, 2, 1)\n",
    "print ('Начало:', start_date)\n",
    "# consider the end date as 2021-march 1 st\n",
    "end_date = datetime.date(2021, 3, 1)\n",
    "# delta time\n",
    "delta = datetime.timedelta(days=1)\n",
    "print (delta)\n",
    "# iterate over range of dates\n",
    "while (start_date <= end_date):\n",
    "    print(start_date, end=\"\\n\")\n",
    "    start_date += delta"
   ]
  },
  {
   "cell_type": "code",
   "execution_count": 36,
   "metadata": {},
   "outputs": [
    {
     "name": "stdout",
     "output_type": "stream",
     "text": [
      "Дата 2017-02-01 00:00:00 больше даты 2017-03-01 00:00:00\n"
     ]
    }
   ],
   "source": [
    "d1 = datetime.strptime(\"01.02.2017\", \"%d.%m.%Y\")\n",
    "d2 = datetime.strptime(\"01.03.2017\", \"%d.%m.%Y\")\n",
    "if d2 > d1: \n",
    "    print (f\"Дата {d1} больше даты {d2}\")"
   ]
  },
  {
   "cell_type": "code",
   "execution_count": 107,
   "metadata": {},
   "outputs": [
    {
     "name": "stdout",
     "output_type": "stream",
     "text": [
      "2021-01-01\n",
      "2021-01-02\n",
      "2021-01-03\n",
      "2021-01-04\n",
      "2021-01-05\n",
      "2021-01-06\n",
      "2021-01-07\n",
      "2021-01-08\n",
      "2021-01-09\n",
      "2021-01-10\n",
      "2021-01-11\n",
      "2021-01-12\n",
      "2021-01-13\n",
      "2021-01-14\n",
      "2021-01-15\n",
      "2021-01-16\n",
      "2021-01-17\n",
      "2021-01-18\n",
      "2021-01-19\n",
      "2021-01-20\n",
      "2021-01-21\n",
      "2021-01-22\n",
      "2021-01-23\n",
      "2021-01-24\n",
      "2021-01-25\n",
      "2021-01-26\n",
      "2021-01-27\n",
      "2021-01-28\n",
      "2021-01-29\n",
      "2021-01-30\n",
      "2021-01-31\n",
      "2021-02-01\n"
     ]
    }
   ],
   "source": [
    "# import pandas module\n",
    "import pandas as pd\n",
    "\n",
    "# specify the start date is 2021 jan 1 st\n",
    "# specify the emd date is 2021 feb 1 st\n",
    "a = pd.date_range(start='1/1/2021', end='2/1/2021')\n",
    "\n",
    "# display only date using date() function\n",
    "for i in a:\n",
    "    print(i.date())"
   ]
  }
 ],
 "metadata": {
  "kernelspec": {
   "display_name": "Python 3",
   "language": "python",
   "name": "python3"
  },
  "language_info": {
   "codemirror_mode": {
    "name": "ipython",
    "version": 3
   },
   "file_extension": ".py",
   "mimetype": "text/x-python",
   "name": "python",
   "nbconvert_exporter": "python",
   "pygments_lexer": "ipython3",
   "version": "3.8.3"
  }
 },
 "nbformat": 4,
 "nbformat_minor": 4
}
