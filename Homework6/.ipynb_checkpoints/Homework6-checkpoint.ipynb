{
 "cells": [
  {
   "cell_type": "markdown",
   "metadata": {},
   "source": [
    "### Задание 1\n",
    "Печатные газеты использовали свой формат дат для каждого выпуска. Для каждой газеты из списка напишите формат указанной даты для перевода в объект datetime:\n",
    "The Moscow Times - Wednesday, October 2, 2002\n",
    "The Guardian - Friday, 11.10.13\n",
    "Daily News - Thursday, 18 August 1977"
   ]
  },
  {
   "cell_type": "code",
   "execution_count": 20,
   "metadata": {},
   "outputs": [
    {
     "name": "stdout",
     "output_type": "stream",
     "text": [
      "Дата для \"The Moscow Times\": 2002-10-02 00:00:00\n",
      "Дата для \"The Guardian\": 2013-10-11 00:00:00\n",
      "Дата для \"Daily News\": 1977-08-18 00:00:00\n"
     ]
    }
   ],
   "source": [
    "# можно и так\n",
    "import datetime as dt\n",
    "from datetime import datetime\n",
    "\n",
    "#  %A - weekday as locale’s full name\n",
    "#  %B - month as locale’s full name.\n",
    "#  %d - day of the month as a zero-padded decimal number\n",
    "#  %Y - year with century as a decimal number\n",
    "\n",
    "#The Moscow Times - Wednesday, October 2, 2002\n",
    "day_str = 'Wednesday, October, 2, 2002'\n",
    "day_time = datetime.strptime(day_str, '%A, %B, %d, %Y')\n",
    "print ('Дата для \"The Moscow Times\":', day_time)\n",
    "\n",
    "#The Guardian - Friday, 11.10.13\n",
    "day_str='Friday, 11.10.13'\n",
    "day_time = datetime.strptime(day_str, '%A, %d.%m.%y')\n",
    "print ('Дата для \"The Guardian\":', day_time)\n",
    "\n",
    "#Daily News - Thursday, 18 August 1977\n",
    "day_str='Thursday, 18 August 1977'\n",
    "day_time = datetime.strptime(day_str, '%A, %d %B %Y')\n",
    "print ('Дата для \"Daily News\":', day_time)"
   ]
  },
  {
   "cell_type": "markdown",
   "metadata": {},
   "source": [
    "### Задание 2\n",
    "Дан поток дат в формате YYYY-MM-DD, в которых встречаются некорректные значения:\n",
    "stream = [‘2018-04-02’, ‘2018-02-29’, ‘2018-19-02’]\n",
    "Напишите функцию, которая проверяет эти даты на корректность. Т. е. для каждой даты возвращает True (дата корректна) или False (некорректная дата)."
   ]
  },
  {
   "cell_type": "code",
   "execution_count": 29,
   "metadata": {},
   "outputs": [
    {
     "name": "stdout",
     "output_type": "stream",
     "text": [
      "Дата: 2018-04-02 результат проверки: True\n",
      "Дата: 2018-02-29 результат проверки: False\n",
      "Дата: 2018-19-02 результат проверки: False\n"
     ]
    }
   ],
   "source": [
    "from datetime import datetime\n",
    "\n",
    "def check_date(day_str):\n",
    "    check_b = True\n",
    "    try:\n",
    "        datetime.strptime(day_str, '%Y-%m-%d')\n",
    "    except:\n",
    "        check_b = False\n",
    "    return check_b\n",
    "\n",
    "stream = ['2018-04-02', '2018-02-29', '2018-19-02'] \n",
    "\n",
    "for day_str in stream:\n",
    "    print ('Дата:', day_str, 'результат проверки:', check_date(day_str))"
   ]
  },
  {
   "cell_type": "markdown",
   "metadata": {},
   "source": [
    "### Задание 3\n",
    "Напишите функцию date_range, которая возвращает список дат за период от start_date до end_date. Даты должны вводиться в формате YYYY-MM-DD. В случае неверного формата или при start_date > end_date должен возвращаться пустой список."
   ]
  },
  {
   "cell_type": "code",
   "execution_count": null,
   "metadata": {},
   "outputs": [],
   "source": []
  }
 ],
 "metadata": {
  "kernelspec": {
   "display_name": "Python 3",
   "language": "python",
   "name": "python3"
  },
  "language_info": {
   "codemirror_mode": {
    "name": "ipython",
    "version": 3
   },
   "file_extension": ".py",
   "mimetype": "text/x-python",
   "name": "python",
   "nbconvert_exporter": "python",
   "pygments_lexer": "ipython3",
   "version": "3.8.3"
  }
 },
 "nbformat": 4,
 "nbformat_minor": 4
}
