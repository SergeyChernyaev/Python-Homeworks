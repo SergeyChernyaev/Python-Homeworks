{
 "cells": [
  {
   "cell_type": "markdown",
   "metadata": {},
   "source": [
    "### Задание 1\n",
    "Печатные газеты использовали свой формат дат для каждого выпуска. Для каждой газеты из списка напишите формат указанной даты для перевода в объект datetime:\n",
    "The Moscow Times - Wednesday, October 2, 2002\n",
    "The Guardian - Friday, 11.10.13\n",
    "Daily News - Thursday, 18 August 1977"
   ]
  },
  {
   "cell_type": "code",
   "execution_count": null,
   "metadata": {},
   "outputs": [],
   "source": [
    "from datetime import datetime\n",
    "\n",
    "#  %A - weekday as locale’s full name\n",
    "#  %B - month as locale’s full name.\n",
    "#  %d - day of the month as a zero-padded decimal number\n",
    "#  %Y - year with century as a decimal number\n",
    "\n",
    "#The Moscow Times - Wednesday, October 2, 2002\n",
    "day_str = 'Wednesday, October, 2, 2002'\n",
    "day_time = datetime.strptime(day_str, '%A, %B, %d, %Y')\n",
    "print ('Дата для \"The Moscow Times\":', day_time)\n",
    "\n",
    "#The Guardian - Friday, 11.10.13\n",
    "day_str='Friday, 11.10.13'\n",
    "day_time = datetime.strptime(day_str, '%A, %d.%m.%y')\n",
    "print ('Дата для \"The Guardian\":', day_time)\n",
    "\n",
    "#Daily News - Thursday, 18 August 1977\n",
    "day_str='Thursday, 18 August 1977'\n",
    "day_time = datetime.strptime(day_str, '%A, %d %B %Y')\n",
    "print ('Дата для \"Daily News\":', day_time)"
   ]
  },
  {
   "cell_type": "markdown",
   "metadata": {},
   "source": [
    "### Задание 2\n",
    "Дан поток дат в формате YYYY-MM-DD, в которых встречаются некорректные значения:\n",
    "stream = [‘2018-04-02’, ‘2018-02-29’, ‘2018-19-02’]\n",
    "Напишите функцию, которая проверяет эти даты на корректность. Т. е. для каждой даты возвращает True (дата корректна) или False (некорректная дата)."
   ]
  },
  {
   "cell_type": "code",
   "execution_count": null,
   "metadata": {},
   "outputs": [],
   "source": [
    "from datetime import datetime\n",
    "\n",
    "def check_date(day_str):\n",
    "    check_b = True\n",
    "    try:\n",
    "        datetime.strptime(day_str, '%Y-%m-%d')\n",
    "    except:\n",
    "        check_b = False\n",
    "    return check_b\n",
    "\n",
    "stream = ['2018-04-02', '2018-02-29', '2018-19-02'] \n",
    "\n",
    "for day_str in stream:\n",
    "    print ('Дата:', day_str, 'результат проверки:', check_date(day_str))"
   ]
  },
  {
   "cell_type": "markdown",
   "metadata": {},
   "source": [
    "### Задание 3\n",
    "Напишите функцию date_range, которая возвращает список дат за период от start_date до end_date. Даты должны вводиться в формате YYYY-MM-DD. В случае неверного формата или при start_date > end_date должен возвращаться пустой список."
   ]
  },
  {
   "cell_type": "code",
   "execution_count": 44,
   "metadata": {},
   "outputs": [
    {
     "name": "stdout",
     "output_type": "stream",
     "text": [
      "2018-03-16\n",
      "2018-03-17\n",
      "2018-03-18\n",
      "2018-03-19\n",
      "2018-03-20\n",
      "2018-03-21\n",
      "2018-03-22\n",
      "2018-03-23\n",
      "2018-03-24\n",
      "2018-03-25\n",
      "2018-03-26\n",
      "2018-03-27\n",
      "2018-03-28\n",
      "2018-03-29\n",
      "2018-03-30\n",
      "2018-03-31\n",
      "2018-04-01\n",
      "2018-04-02\n",
      "2018-04-03\n",
      "2018-04-04\n",
      "2018-04-05\n",
      "2018-04-06\n",
      "2018-04-07\n",
      "2018-04-08\n",
      "2018-04-09\n",
      "2018-04-10\n"
     ]
    }
   ],
   "source": [
    "from datetime import datetime\n",
    "from datetime import date\n",
    "from datetime import timedelta\n",
    "\n",
    "def check_inp_date(day_str):\n",
    "    check_b = True\n",
    "    data_= None\n",
    "    try:\n",
    "        data_ = date.fromisoformat(day_str)\n",
    "    except:\n",
    "        check_b = False\n",
    "    return check_b, data_\n",
    "\n",
    "\n",
    "\n",
    "def date_range (start_date, end_date):\n",
    "    date_list= []\n",
    "    # считать результат проверки и дату\n",
    "    check_start, start_day = check_inp_date(start_date)\n",
    "    check_end, end_day = check_inp_date(end_date)\n",
    "   \n",
    "    # если даты некорректны или некорректный интервал, то вернуть пустой список\n",
    "    if check_start == False or check_end == False or start_date > end_date:\n",
    "        return date_list # возвратить пустой список\n",
    "    \n",
    "    # определить дельту в 1 день для итерации\n",
    "    delta = timedelta(days=1)\n",
    "    # создать список дат\n",
    "    while (start_day <= end_day):\n",
    "        date_list.append(start_day)\n",
    "        start_day += delta\n",
    "    return date_list\n",
    "\n",
    "start_date = '2018-03-16'\n",
    "end_date = '2018-04-10'\n",
    "# создать список дат  и сразу вывести оказывается и так можно\n",
    "for data_ in date_range (start_date, end_date):\n",
    "    print(data_)\n",
    "\n",
    "\n",
    "\n"
   ]
  },
  {
   "cell_type": "code",
   "execution_count": null,
   "metadata": {},
   "outputs": [],
   "source": [
    "from datetime import date\n",
    "a = date.fromisoformat('2019-12-04')\n",
    "print(a)"
   ]
  },
  {
   "cell_type": "code",
   "execution_count": null,
   "metadata": {},
   "outputs": [],
   "source": [
    "# import datetime module\n",
    "import datetime\n",
    "# consider the start date as 2021-february 1 st\n",
    "start_date = datetime.date(2021, 2, 1)\n",
    "print ('Начало:', start_date)\n",
    "# consider the end date as 2021-march 1 st\n",
    "end_date = datetime.date(2021, 3, 1)\n",
    "# delta time\n",
    "delta = datetime.timedelta(days=1)\n",
    "print (delta)\n",
    "# iterate over range of dates\n",
    "while (start_date <= end_date):\n",
    "    print(start_date, end=\"\\n\")\n",
    "    start_date += delta"
   ]
  },
  {
   "cell_type": "code",
   "execution_count": null,
   "metadata": {},
   "outputs": [],
   "source": [
    "d1 = datetime.strptime(\"01.02.2017\", \"%d.%m.%Y\")\n",
    "d2 = datetime.strptime(\"01.03.2017\", \"%d.%m.%Y\")\n",
    "if d2 > d1: \n",
    "    print (f\"Дата {d1} больше даты {d2}\")"
   ]
  },
  {
   "cell_type": "code",
   "execution_count": null,
   "metadata": {},
   "outputs": [],
   "source": [
    "# import pandas module\n",
    "import pandas as pd\n",
    "\n",
    "# specify the start date is 2021 jan 1 st\n",
    "# specify the emd date is 2021 feb 1 st\n",
    "a = pd.date_range(start='1/1/2021', end='2/1/2021')\n",
    "\n",
    "# display only date using date() function\n",
    "for i in a:\n",
    "    print(i.date())"
   ]
  }
 ],
 "metadata": {
  "kernelspec": {
   "display_name": "Python 3",
   "language": "python",
   "name": "python3"
  },
  "language_info": {
   "codemirror_mode": {
    "name": "ipython",
    "version": 3
   },
   "file_extension": ".py",
   "mimetype": "text/x-python",
   "name": "python",
   "nbconvert_exporter": "python",
   "pygments_lexer": "ipython3",
   "version": "3.8.3"
  }
 },
 "nbformat": 4,
 "nbformat_minor": 4
}
