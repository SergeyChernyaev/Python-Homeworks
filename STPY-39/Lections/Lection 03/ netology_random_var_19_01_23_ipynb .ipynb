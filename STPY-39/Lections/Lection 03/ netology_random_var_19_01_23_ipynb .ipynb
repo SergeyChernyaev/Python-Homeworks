{
  "nbformat": 4,
  "nbformat_minor": 0,
  "metadata": {
    "kernelspec": {
      "display_name": "Python 3",
      "language": "python",
      "name": "python3"
    },
    "language_info": {
      "codemirror_mode": {
        "name": "ipython",
        "version": 3
      },
      "file_extension": ".py",
      "mimetype": "text/x-python",
      "name": "python",
      "nbconvert_exporter": "python",
      "pygments_lexer": "ipython3",
      "version": "3.7.9"
    },
    "colab": {
      "provenance": []
    }
  },
  "cells": [
    {
      "cell_type": "markdown",
      "metadata": {
        "id": "nXOA4pGqoi7p"
      },
      "source": [
        "# Случайные события. Случайные величины\n",
        "\n",
        "Булыгин Олег:  \n",
        "* [LinkedIn](linkedin.com/in/obulygin)  \n",
        "* [Мой канал в ТГ по Python](https://t.me/pythontalk_ru)\n",
        "* [Чат канала](https://t.me/pythontalk_chat)\n",
        "* [Блог в Телетайпе](https://teletype.in/@pythontalk)"
      ]
    },
    {
      "cell_type": "code",
      "metadata": {
        "id": "PGZL3xvVoeTM"
      },
      "source": [
        "import numpy as np"
      ],
      "execution_count": null,
      "outputs": []
    },
    {
      "cell_type": "code",
      "metadata": {
        "id": "YJPemaJOoeTR",
        "colab": {
          "base_uri": "https://localhost:8080/"
        },
        "outputId": "ea760c2b-7260-403a-c76b-c7b121c82209"
      },
      "source": [
        "# генерируем дискретную величину\n",
        "np.random.randint(1, 5)"
      ],
      "execution_count": null,
      "outputs": [
        {
          "output_type": "execute_result",
          "data": {
            "text/plain": [
              "4"
            ]
          },
          "metadata": {},
          "execution_count": 15
        }
      ]
    },
    {
      "cell_type": "code",
      "metadata": {
        "id": "G6L4hJQKoeTS",
        "colab": {
          "base_uri": "https://localhost:8080/"
        },
        "outputId": "6d877744-81c1-4304-9cf5-ded5cb59df01"
      },
      "source": [
        "np.random.randint(1, 5, 100)"
      ],
      "execution_count": null,
      "outputs": [
        {
          "output_type": "execute_result",
          "data": {
            "text/plain": [
              "array([1, 1, 2, 2, 3, 2, 1, 3, 4, 2, 2, 1, 3, 4, 4, 2, 1, 1, 3, 3, 3, 1,\n",
              "       3, 1, 2, 4, 4, 2, 1, 4, 1, 2, 1, 3, 2, 1, 1, 2, 3, 1, 4, 4, 4, 1,\n",
              "       2, 4, 4, 2, 1, 2, 4, 4, 2, 4, 2, 2, 2, 3, 1, 4, 3, 3, 1, 3, 4, 1,\n",
              "       2, 2, 3, 3, 2, 3, 1, 3, 1, 2, 4, 4, 3, 3, 3, 2, 3, 3, 2, 2, 1, 3,\n",
              "       2, 3, 2, 3, 3, 4, 1, 4, 3, 3, 1, 2])"
            ]
          },
          "metadata": {},
          "execution_count": 21
        }
      ]
    },
    {
      "cell_type": "code",
      "metadata": {
        "id": "2oJZcFUtoeTS",
        "colab": {
          "base_uri": "https://localhost:8080/"
        },
        "outputId": "27fcbe8c-c0f6-4a29-ed6d-66449d8cc27a"
      },
      "source": [
        "# генерируем непрерывную величину\n",
        "np.random.random(100)"
      ],
      "execution_count": null,
      "outputs": [
        {
          "output_type": "execute_result",
          "data": {
            "text/plain": [
              "array([0.27135422, 0.54592114, 0.97918562, 0.36212448, 0.88384525,\n",
              "       0.30751012, 0.56792208, 0.14829997, 0.69137501, 0.78017477,\n",
              "       0.57631225, 0.60638433, 0.44161786, 0.09232065, 0.39839569,\n",
              "       0.32559258, 0.76804074, 0.19423336, 0.56574059, 0.78153044,\n",
              "       0.20850509, 0.50742952, 0.43897303, 0.51462608, 0.59301164,\n",
              "       0.80905149, 0.181742  , 0.43061792, 0.47373336, 0.9105141 ,\n",
              "       0.30136509, 0.88448298, 0.60568854, 0.17860203, 0.97879839,\n",
              "       0.9229029 , 0.55811477, 0.86132967, 0.76537565, 0.3431052 ,\n",
              "       0.31856022, 0.90836815, 0.52114445, 0.11482413, 0.96226148,\n",
              "       0.35550069, 0.53335377, 0.40534276, 0.77570197, 0.87475218,\n",
              "       0.83672257, 0.62728677, 0.80897236, 0.12379265, 0.00254142,\n",
              "       0.57565175, 0.54042984, 0.38764734, 0.03600817, 0.17346793,\n",
              "       0.61677289, 0.34268399, 0.68243513, 0.3843379 , 0.15370844,\n",
              "       0.05935111, 0.58659691, 0.94945605, 0.67429053, 0.23956411,\n",
              "       0.04620176, 0.43055462, 0.70854229, 0.93555576, 0.66946317,\n",
              "       0.01110928, 0.65919471, 0.56694793, 0.18178889, 0.88546721,\n",
              "       0.43415601, 0.03492596, 0.05696724, 0.03753004, 0.60569374,\n",
              "       0.55000261, 0.78215546, 0.2540465 , 0.7534717 , 0.55761082,\n",
              "       0.05021859, 0.87766877, 0.65487908, 0.11589   , 0.41961444,\n",
              "       0.56941271, 0.89341252, 0.46144416, 0.2030021 , 0.58800978])"
            ]
          },
          "metadata": {},
          "execution_count": 22
        }
      ]
    },
    {
      "cell_type": "code",
      "metadata": {
        "id": "m8sHru95oeTT",
        "colab": {
          "base_uri": "https://localhost:8080/"
        },
        "outputId": "60b9293b-dc05-44d7-bc3b-6bf60e34b451"
      },
      "source": [
        "np.random.uniform(1, 5)"
      ],
      "execution_count": null,
      "outputs": [
        {
          "output_type": "execute_result",
          "data": {
            "text/plain": [
              "2.3476290280115375"
            ]
          },
          "metadata": {},
          "execution_count": 23
        }
      ]
    },
    {
      "cell_type": "code",
      "metadata": {
        "id": "yIYQIh1coeTT",
        "colab": {
          "base_uri": "https://localhost:8080/"
        },
        "outputId": "c1e73872-68f1-4fdb-cc53-3ccdad349531"
      },
      "source": [
        "np.random.uniform(1, 5, 100)"
      ],
      "execution_count": null,
      "outputs": [
        {
          "output_type": "execute_result",
          "data": {
            "text/plain": [
              "array([2.66411557, 4.97412883, 2.23033473, 1.63574964, 1.88925203,\n",
              "       4.1755656 , 4.25996639, 2.38144977, 3.19096986, 2.62771182,\n",
              "       1.19017664, 2.62269321, 4.48552651, 2.63772285, 4.26507613,\n",
              "       4.85555147, 1.91427747, 3.82797428, 4.65947844, 2.55119097,\n",
              "       1.30842769, 1.6212677 , 3.11850651, 4.50843532, 4.27134147,\n",
              "       4.88029206, 3.29542162, 3.53676672, 4.39827024, 3.45450422,\n",
              "       1.28730335, 4.55299418, 3.05875925, 4.07560114, 2.72460447,\n",
              "       4.99320677, 3.6050944 , 1.64881526, 4.79847921, 3.05811732,\n",
              "       1.64824786, 4.10479833, 3.1130495 , 1.3981479 , 3.29355957,\n",
              "       2.15516402, 3.91727991, 2.15350375, 3.98633   , 2.63214651,\n",
              "       3.86512785, 1.02982882, 4.51448727, 2.41309146, 1.14950865,\n",
              "       1.44852003, 1.26409745, 2.77735399, 3.52263645, 3.92701624,\n",
              "       3.8199784 , 1.24090269, 2.49683912, 1.24948125, 4.77799737,\n",
              "       4.51667923, 4.22640299, 2.62455528, 4.64945996, 1.48490733,\n",
              "       1.98661039, 1.68069038, 4.80065257, 2.02869525, 3.85527508,\n",
              "       4.85301725, 4.51879658, 4.39136268, 2.9082438 , 3.32421919,\n",
              "       3.69541053, 1.8104227 , 3.21012187, 2.3097856 , 1.48201204,\n",
              "       2.05580382, 1.11844856, 4.99919393, 1.90687227, 3.42697924,\n",
              "       2.79853738, 4.89496628, 3.43816227, 3.70367353, 3.83224573,\n",
              "       1.54085745, 1.32952205, 4.18590856, 3.68180125, 4.3377803 ])"
            ]
          },
          "metadata": {},
          "execution_count": 24
        }
      ]
    },
    {
      "cell_type": "code",
      "metadata": {
        "colab": {
          "base_uri": "https://localhost:8080/"
        },
        "id": "z1ulCBFjBbuz",
        "outputId": "473aadb4-b3e4-42c3-fa20-3308e78f2b1f"
      },
      "source": [
        "np.random.seed(None)\n",
        "np.random.randint(1, 5, 10)"
      ],
      "execution_count": null,
      "outputs": [
        {
          "output_type": "execute_result",
          "data": {
            "text/plain": [
              "array([2, 1, 2, 3, 4, 3, 2, 1, 2, 3])"
            ]
          },
          "metadata": {},
          "execution_count": 38
        }
      ]
    },
    {
      "cell_type": "markdown",
      "metadata": {
        "id": "HKqYmkjsoeTT"
      },
      "source": [
        "**Задача 1.** Оценить вероятность того, что на игральной кости выпадет больше 4 очков. Сравнить с теоретической вероятностью."
      ]
    },
    {
      "cell_type": "code",
      "metadata": {
        "id": "EZX-A7geoeTW",
        "colab": {
          "base_uri": "https://localhost:8080/"
        },
        "outputId": "03e7a361-d9f9-493f-d32f-0a62af87eb1b"
      },
      "source": [
        "import numpy as np\n",
        "trials = 10000000    # Количество попыток\n",
        "successes = 0    # Количество успехов\n",
        "\n",
        "for i in range(trials):\n",
        "    random_score = np.random.randint(1, 7)    # Случайное количество очков от 1 до 6\n",
        "    if random_score > 4:\n",
        "        successes += 1\n",
        "        \n",
        "p_monte_carlo = successes / trials    # Вероятность из моделирования\n",
        "p = 2 / 6                             # Теоретическая вероятность\n",
        "\n",
        "print(successes, trials, p_monte_carlo, p)"
      ],
      "execution_count": null,
      "outputs": [
        {
          "output_type": "stream",
          "name": "stdout",
          "text": [
            "3332275 10000000 0.3332275 0.3333333333333333\n"
          ]
        }
      ]
    },
    {
      "cell_type": "markdown",
      "metadata": {
        "id": "gFfgFS68oeTY"
      },
      "source": [
        "**Задача 1А** (опциональная). Дан квадрат, в который вписан круг (касаясь сторон квадрата). В квадрат случайным образом попадают точки. Какова вероятность, что наугад взятая точка попадёт в круг?  \n",
        "_Подсказка:_ Удобно взять квардат со стороной, равной 2, и отсчитывать координаты точек от его центра."
      ]
    },
    {
      "cell_type": "code",
      "metadata": {
        "id": "ku7A1BQ9oeTZ"
      },
      "source": [
        "trials = 1000000\n",
        "successes = 0\n",
        "\n",
        "for i in range(trials):\n",
        "    x = np.random.uniform(-1, 1)\n",
        "    y = np.random.uniform(-1, 1)\n",
        "\n",
        "    if x**2 + y**2 < 1:\n",
        "        successes += 1\n",
        "\n",
        "res = successes / trials"
      ],
      "execution_count": null,
      "outputs": []
    },
    {
      "cell_type": "code",
      "source": [
        "res * 4"
      ],
      "metadata": {
        "colab": {
          "base_uri": "https://localhost:8080/"
        },
        "id": "qq6A_4No86UJ",
        "outputId": "15ca6bc1-ec15-416a-c11b-b069cf8f3ddb"
      },
      "execution_count": null,
      "outputs": [
        {
          "output_type": "execute_result",
          "data": {
            "text/plain": [
              "3.142892"
            ]
          },
          "metadata": {},
          "execution_count": 55
        }
      ]
    },
    {
      "cell_type": "code",
      "source": [
        "res"
      ],
      "metadata": {
        "colab": {
          "base_uri": "https://localhost:8080/"
        },
        "id": "hz5FGSwF9E5a",
        "outputId": "d7fb0e40-469f-4a69-80de-4a35d3938c92"
      },
      "execution_count": null,
      "outputs": [
        {
          "output_type": "execute_result",
          "data": {
            "text/plain": [
              "0.785723"
            ]
          },
          "metadata": {},
          "execution_count": 56
        }
      ]
    },
    {
      "cell_type": "markdown",
      "metadata": {
        "id": "yqMozu-9oeTa"
      },
      "source": [
        "**Задача 2.** Смоделировать стрельбу по мишени."
      ]
    },
    {
      "cell_type": "code",
      "metadata": {
        "id": "ZFk3cFwKoeTa",
        "colab": {
          "base_uri": "https://localhost:8080/",
          "height": 284
        },
        "outputId": "c8200989-6487-4054-cde9-55129a2479f1"
      },
      "source": [
        "import matplotlib.pyplot as plt\n",
        "\n",
        "shots = 1000    # Количество выстрелов\n",
        "std_dev = 1 # Стандартное отклонение (на сколько мы в среднем будем мазать)\n",
        "\n",
        "x = np.random.normal(0, std_dev, shots) # 0 - и среднее, и мода, и медиана\n",
        "y = np.random.normal(0, std_dev, shots)\n",
        "\n",
        "\n",
        "plt.scatter(x, y)\n",
        "# почему разброс от -3 до 3?"
      ],
      "execution_count": null,
      "outputs": [
        {
          "output_type": "execute_result",
          "data": {
            "text/plain": [
              "<matplotlib.collections.PathCollection at 0x7ff9a7233d90>"
            ]
          },
          "metadata": {},
          "execution_count": 57
        },
        {
          "output_type": "display_data",
          "data": {
            "text/plain": [
              "<Figure size 432x288 with 1 Axes>"
            ],
            "image/png": "[encoded data removed]"
          },
          "metadata": {
            "needs_background": "light"
          }
        }
      ]
    },
    {
      "cell_type": "markdown",
      "metadata": {
        "id": "l_0GysxhoeTb"
      },
      "source": [
        "**Задача 3.** Графически определить распределение измеренных значений физической величины, когда измерительный прибор имеет случайную погрешность."
      ]
    },
    {
      "cell_type": "code",
      "metadata": {
        "id": "REebYTl8oeTb",
        "colab": {
          "base_uri": "https://localhost:8080/"
        },
        "outputId": "ae4babe7-cc01-45ea-e6b7-f44a55ec3739"
      },
      "source": [
        "import pandas as pd\n",
        "\n",
        "data = pd.read_csv(\"https://raw.githubusercontent.com/obulygin/netology_pyda_files/main/data.log\", sep=\" \")[\"az\"]\n",
        "data.describe()"
      ],
      "execution_count": null,
      "outputs": [
        {
          "output_type": "execute_result",
          "data": {
            "text/plain": [
              "count    1040.000000\n",
              "mean       -9.797112\n",
              "std         0.087958\n",
              "min       -10.030373\n",
              "25%        -9.866481\n",
              "50%        -9.800747\n",
              "75%        -9.727398\n",
              "max        -9.570811\n",
              "Name: az, dtype: float64"
            ]
          },
          "metadata": {},
          "execution_count": 58
        }
      ]
    },
    {
      "cell_type": "code",
      "metadata": {
        "id": "p84mWD6CoeTc",
        "colab": {
          "base_uri": "https://localhost:8080/",
          "height": 284
        },
        "outputId": "f9767e18-a59c-4b7e-f242-ef364b388dfc"
      },
      "source": [
        "data.plot()"
      ],
      "execution_count": null,
      "outputs": [
        {
          "output_type": "execute_result",
          "data": {
            "text/plain": [
              "<matplotlib.axes._subplots.AxesSubplot at 0x7ff9a0565f70>"
            ]
          },
          "metadata": {},
          "execution_count": 59
        },
        {
          "output_type": "display_data",
          "data": {
            "text/plain": [
              "<Figure size 432x288 with 1 Axes>"
            ],
            "image/png": "[encoded data removed]"
          },
          "metadata": {
            "needs_background": "light"
          }
        }
      ]
    },
    {
      "cell_type": "code",
      "metadata": {
        "id": "lZSTBr-poeTb"
      },
      "source": [
        "uni = np.random.uniform(min(data), max(data), 10000)\n",
        "normal = np.random.normal(np.mean(data), np.std(data, ddof=1), 10000)"
      ],
      "execution_count": null,
      "outputs": []
    },
    {
      "cell_type": "code",
      "metadata": {
        "id": "XkKEW5SDoeTc",
        "colab": {
          "base_uri": "https://localhost:8080/",
          "height": 765
        },
        "outputId": "8e8d79f1-5840-4414-e99c-83edd1c2d6ca"
      },
      "source": [
        "plt.hist(uni, bins=11)\n",
        "plt.show()\n",
        "plt.hist(normal, bins=11)\n",
        "plt.show()\n",
        "plt.hist(data, bins=11)\n",
        "plt.show()"
      ],
      "execution_count": null,
      "outputs": [
        {
          "output_type": "display_data",
          "data": {
            "text/plain": [
              "<Figure size 432x288 with 1 Axes>"
            ],
            "image/png": "[encoded data removed]"
          },
          "metadata": {
            "needs_background": "light"
          }
        },
        {
          "output_type": "display_data",
          "data": {
            "text/plain": [
              "<Figure size 432x288 with 1 Axes>"
            ],
            "image/png": "[encoded data removed]"
          },
          "metadata": {
            "needs_background": "light"
          }
        },
        {
          "output_type": "display_data",
          "data": {
            "text/plain": [
              "<Figure size 432x288 with 1 Axes>"
            ],
            "image/png": "[encoded data removed]"
          },
          "metadata": {
            "needs_background": "light"
          }
        }
      ]
    },
    {
      "cell_type": "markdown",
      "metadata": {
        "id": "M6O0YMakoeTd"
      },
      "source": [
        "**Задача 4.** Рассчитать вероятность того, что пациент заражён COVID-19, если известно, что тест дал положительный результат. Сравнить с результатом моделирования."
      ]
    },
    {
      "cell_type": "code",
      "metadata": {
        "id": "pR9cS38LoeTd",
        "colab": {
          "base_uri": "https://localhost:8080/"
        },
        "outputId": "114bfbf5-da0d-439c-dbb9-955431ca6e55"
      },
      "source": [
        "prev = 0.07    # Распространённость болезни\n",
        "sens = 0.98    # Чувствительность теста\n",
        "spec = 0.95    # Специфичность теста\n",
        "\n",
        "p = (sens * prev) / (sens * prev + (1 - spec) * (1 - prev))   # Теоретическая вероятность \n",
        "print(p)"
      ],
      "execution_count": null,
      "outputs": [
        {
          "output_type": "stream",
          "name": "stdout",
          "text": [
            "0.5960034752389225\n"
          ]
        }
      ]
    },
    {
      "cell_type": "code",
      "metadata": {
        "id": "d_YGeyIjoeTd",
        "colab": {
          "base_uri": "https://localhost:8080/"
        },
        "outputId": "6a57e254-a591-451a-a2c4-3b1a86afc286"
      },
      "source": [
        "population = 1000000    # Количество испытуемых\n",
        "\n",
        "true_pos = 0    # Количество больных с положительным тестом\n",
        "false_pos = 0   # Количество здоровых с положительным тестом\n",
        "\n",
        "for i in range(population):\n",
        "    # Наугад решаем, заражён ли человек\n",
        "    # для этого генерируем случайную величину от 0 до 1     \n",
        "    infected = np.random.uniform() < prev\n",
        "    \n",
        "    # Наугад решаем, дал ли тест положительный результат \n",
        "    positive = np.random.uniform() < sens if infected else np.random.uniform() < 1 - spec\n",
        "    \n",
        "    if positive:\n",
        "        if infected:\n",
        "            true_pos += 1\n",
        "        else:\n",
        "            false_pos += 1\n",
        "            \n",
        "p_monte_carlo = true_pos / (true_pos + false_pos)    # Вероятность из моделирования\n",
        "print(p_monte_carlo)"
      ],
      "execution_count": null,
      "outputs": [
        {
          "output_type": "stream",
          "name": "stdout",
          "text": [
            "0.596816236149494\n"
          ]
        }
      ]
    }
  ]
}