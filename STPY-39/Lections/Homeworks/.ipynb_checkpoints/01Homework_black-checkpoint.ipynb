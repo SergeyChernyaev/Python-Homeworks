{
 "cells": [
  {
   "cell_type": "markdown",
   "metadata": {
    "id": "0JuWO8oMOU5g"
   },
   "source": [
    "###### Задание 1. Загрузка данных\n",
    "Изучить представленный набор данных на основе описания его столбцов, загрузить его и оставить 8 столбцов для дальнейшего изучения: surgery?, Age, rectal temperature, pulse, respiratory rate, temperature of extremities, pain, outcome."
   ]
  },
  {
   "cell_type": "code",
   "execution_count": 280,
   "metadata": {
    "id": "GjFveC25OTRN"
   },
   "outputs": [],
   "source": [
    "import pandas as pd\n",
    "import numpy as np\n",
    "from tabulate import tabulate"
   ]
  },
  {
   "cell_type": "code",
   "execution_count": 295,
   "metadata": {
    "colab": {
     "base_uri": "https://localhost:8080/",
     "height": 206
    },
    "id": "oOkcbKleOTRR",
    "outputId": "0ceb1734-55d4-4dae-9f59-8e8b63339b32"
   },
   "outputs": [
    {
     "data": {
      "text/html": [
       "<div>\n",
       "<style scoped>\n",
       "    .dataframe tbody tr th:only-of-type {\n",
       "        vertical-align: middle;\n",
       "    }\n",
       "\n",
       "    .dataframe tbody tr th {\n",
       "        vertical-align: top;\n",
       "    }\n",
       "\n",
       "    .dataframe thead th {\n",
       "        text-align: right;\n",
       "    }\n",
       "</style>\n",
       "<table border=\"1\" class=\"dataframe\">\n",
       "  <thead>\n",
       "    <tr style=\"text-align: right;\">\n",
       "      <th></th>\n",
       "      <th>surgery?</th>\n",
       "      <th>age</th>\n",
       "      <th>Hospital_Number</th>\n",
       "      <th>rectal_temperature</th>\n",
       "      <th>pulse</th>\n",
       "      <th>respiratory_rate</th>\n",
       "      <th>temperature_of_extremities</th>\n",
       "      <th>peripheral pulse</th>\n",
       "      <th>mucous membranes</th>\n",
       "      <th>capillary refill time</th>\n",
       "      <th>...</th>\n",
       "      <th>packed cell volume</th>\n",
       "      <th>total protein</th>\n",
       "      <th>abdominocentesis appearance</th>\n",
       "      <th>abdomcentesis total protein</th>\n",
       "      <th>outcome</th>\n",
       "      <th>surgical lesion?</th>\n",
       "      <th>type of lesion1</th>\n",
       "      <th>type of lesion2</th>\n",
       "      <th>type of lesion3</th>\n",
       "      <th>cp_data</th>\n",
       "    </tr>\n",
       "  </thead>\n",
       "  <tbody>\n",
       "    <tr>\n",
       "      <th>0</th>\n",
       "      <td>2</td>\n",
       "      <td>1</td>\n",
       "      <td>530101</td>\n",
       "      <td>38.5</td>\n",
       "      <td>66</td>\n",
       "      <td>28</td>\n",
       "      <td>3</td>\n",
       "      <td>3</td>\n",
       "      <td>&lt;NA&gt;</td>\n",
       "      <td>2</td>\n",
       "      <td>...</td>\n",
       "      <td>45.0</td>\n",
       "      <td>8.4</td>\n",
       "      <td>&lt;NA&gt;</td>\n",
       "      <td>NaN</td>\n",
       "      <td>2</td>\n",
       "      <td>2</td>\n",
       "      <td>11300</td>\n",
       "      <td>00000</td>\n",
       "      <td>00000</td>\n",
       "      <td>2</td>\n",
       "    </tr>\n",
       "    <tr>\n",
       "      <th>1</th>\n",
       "      <td>1</td>\n",
       "      <td>1</td>\n",
       "      <td>534817</td>\n",
       "      <td>39.2</td>\n",
       "      <td>88</td>\n",
       "      <td>20</td>\n",
       "      <td>&lt;NA&gt;</td>\n",
       "      <td>&lt;NA&gt;</td>\n",
       "      <td>4</td>\n",
       "      <td>1</td>\n",
       "      <td>...</td>\n",
       "      <td>50.0</td>\n",
       "      <td>85.0</td>\n",
       "      <td>2</td>\n",
       "      <td>2.0</td>\n",
       "      <td>3</td>\n",
       "      <td>2</td>\n",
       "      <td>02208</td>\n",
       "      <td>00000</td>\n",
       "      <td>00000</td>\n",
       "      <td>2</td>\n",
       "    </tr>\n",
       "    <tr>\n",
       "      <th>2</th>\n",
       "      <td>2</td>\n",
       "      <td>1</td>\n",
       "      <td>530334</td>\n",
       "      <td>38.3</td>\n",
       "      <td>40</td>\n",
       "      <td>24</td>\n",
       "      <td>1</td>\n",
       "      <td>1</td>\n",
       "      <td>3</td>\n",
       "      <td>1</td>\n",
       "      <td>...</td>\n",
       "      <td>33.0</td>\n",
       "      <td>6.7</td>\n",
       "      <td>&lt;NA&gt;</td>\n",
       "      <td>NaN</td>\n",
       "      <td>1</td>\n",
       "      <td>2</td>\n",
       "      <td>00000</td>\n",
       "      <td>00000</td>\n",
       "      <td>00000</td>\n",
       "      <td>1</td>\n",
       "    </tr>\n",
       "    <tr>\n",
       "      <th>3</th>\n",
       "      <td>1</td>\n",
       "      <td>9</td>\n",
       "      <td>5290409</td>\n",
       "      <td>39.1</td>\n",
       "      <td>164</td>\n",
       "      <td>84</td>\n",
       "      <td>4</td>\n",
       "      <td>1</td>\n",
       "      <td>6</td>\n",
       "      <td>2</td>\n",
       "      <td>...</td>\n",
       "      <td>48.0</td>\n",
       "      <td>7.2</td>\n",
       "      <td>3</td>\n",
       "      <td>5.3</td>\n",
       "      <td>2</td>\n",
       "      <td>1</td>\n",
       "      <td>02208</td>\n",
       "      <td>00000</td>\n",
       "      <td>00000</td>\n",
       "      <td>1</td>\n",
       "    </tr>\n",
       "    <tr>\n",
       "      <th>4</th>\n",
       "      <td>2</td>\n",
       "      <td>1</td>\n",
       "      <td>530255</td>\n",
       "      <td>37.3</td>\n",
       "      <td>104</td>\n",
       "      <td>35</td>\n",
       "      <td>&lt;NA&gt;</td>\n",
       "      <td>&lt;NA&gt;</td>\n",
       "      <td>6</td>\n",
       "      <td>2</td>\n",
       "      <td>...</td>\n",
       "      <td>74.0</td>\n",
       "      <td>7.4</td>\n",
       "      <td>&lt;NA&gt;</td>\n",
       "      <td>NaN</td>\n",
       "      <td>2</td>\n",
       "      <td>2</td>\n",
       "      <td>04300</td>\n",
       "      <td>00000</td>\n",
       "      <td>00000</td>\n",
       "      <td>2</td>\n",
       "    </tr>\n",
       "  </tbody>\n",
       "</table>\n",
       "<p>5 rows × 28 columns</p>\n",
       "</div>"
      ],
      "text/plain": [
       "   surgery?  age  Hospital_Number  rectal_temperature  pulse  \\\n",
       "0         2    1           530101                38.5     66   \n",
       "1         1    1           534817                39.2     88   \n",
       "2         2    1           530334                38.3     40   \n",
       "3         1    9          5290409                39.1    164   \n",
       "4         2    1           530255                37.3    104   \n",
       "\n",
       "   respiratory_rate  temperature_of_extremities  peripheral pulse  \\\n",
       "0                28                           3                 3   \n",
       "1                20                        <NA>              <NA>   \n",
       "2                24                           1                 1   \n",
       "3                84                           4                 1   \n",
       "4                35                        <NA>              <NA>   \n",
       "\n",
       "   mucous membranes  capillary refill time  ...  packed cell volume  \\\n",
       "0              <NA>                      2  ...                45.0   \n",
       "1                 4                      1  ...                50.0   \n",
       "2                 3                      1  ...                33.0   \n",
       "3                 6                      2  ...                48.0   \n",
       "4                 6                      2  ...                74.0   \n",
       "\n",
       "   total protein  abdominocentesis appearance  abdomcentesis total protein  \\\n",
       "0            8.4                         <NA>                          NaN   \n",
       "1           85.0                            2                          2.0   \n",
       "2            6.7                         <NA>                          NaN   \n",
       "3            7.2                            3                          5.3   \n",
       "4            7.4                         <NA>                          NaN   \n",
       "\n",
       "   outcome  surgical lesion?  type of lesion1  type of lesion2  \\\n",
       "0        2                 2            11300            00000   \n",
       "1        3                 2            02208            00000   \n",
       "2        1                 2            00000            00000   \n",
       "3        2                 1            02208            00000   \n",
       "4        2                 2            04300            00000   \n",
       "\n",
       "   type of lesion3  cp_data  \n",
       "0            00000        2  \n",
       "1            00000        2  \n",
       "2            00000        1  \n",
       "3            00000        1  \n",
       "4            00000        2  \n",
       "\n",
       "[5 rows x 28 columns]"
      ]
     },
     "execution_count": 295,
     "metadata": {},
     "output_type": "execute_result"
    }
   ],
   "source": [
    "df = pd.read_csv('https://raw.githubusercontent.com/obulygin/pyda_homeworks/master/statistics_basics/horse_data.csv',\n",
    "                 names=[\"surgery?\",\n",
    "                        \"age\",\n",
    "                        \"Hospital_Number\",\n",
    "                        \"rectal_temperature\",\n",
    "                        \"pulse\",\n",
    "                        \"respiratory_rate\", \n",
    "                        \"temperature_of_extremities\",\n",
    "                        \"peripheral pulse\",\n",
    "                        \"mucous membranes\",\n",
    "                        \"capillary refill time\",\n",
    "                        \"pain\",\n",
    "                        \"peristalsis\",\n",
    "                        \"abdominal distension\",\n",
    "                        \"nasogastric tube\",\n",
    "                        \"nasogastric reflux\",\n",
    "                        \"nasogastric reflux PH\",\n",
    "                        \"rectal examination - feces\",\n",
    "                        \"abdomen\",\n",
    "                        \"packed cell volume\",\n",
    "                        \"total protein\",\n",
    "                        \"abdominocentesis appearance\",\n",
    "                        \"abdomcentesis total protein\",\n",
    "                        \"outcome\",\n",
    "                        \"surgical lesion?\",\n",
    "                        \"type of lesion1\",\n",
    "                        \"type of lesion2\",\n",
    "                        \"type of lesion3\",\n",
    "                        \"cp_data\"],\n",
    "                 \n",
    "#                 dtypeType name or dict of column -> type, optional\n",
    "#                 Data type for data or columns. E.g. {‘a’: np.float64, ‘b’: 'Int32', ‘c’: ‘Int64’} \n",
    "#                 Use str or object together with suitable na_values settings\n",
    "#                 to preserve and not interpret dtype. \n",
    "#                 If converters are specified, they will be applied INSTEAD of dtype conversion.\n",
    "                  dtype = {\n",
    "                        \"surgery?\": 'Int8', #01 \n",
    "                        \"age\": 'Int8',  #02 \n",
    "                        \"Hospital_Number\": 'Int32', #03\n",
    "                        \"rectal_temperature\": 'Float64', #04\n",
    "                        \"pulse\": 'Int16', #05 \n",
    "                        \"respiratory_rate\": 'Int16', #06\n",
    "                        \"temperature_of_extremities\": 'Int8', #07 'Float64'\n",
    "                        \"peripheral pulse\": 'Int8', #08 'Float64'\n",
    "                        \"mucous membranes\": 'Int8', #09 'Float64'\n",
    "                        \"capillary refill time\": 'Int8', #10 'Float64'\n",
    "                        \"pain\": 'Int8', #11 'Float64'\n",
    "                        \"peristalsis\": 'Int8', #12 'Float64'\n",
    "                        \"abdominal distension\": 'Int8', #13 'Float64'\n",
    "                        \"nasogastric tube\": 'Int8', #14 'Float64'\n",
    "                        \"nasogastric reflux\": 'Int8', #15 'Float64'\n",
    "                        \"nasogastric reflux PH\": 'Float32', #16\n",
    "                        \"rectal examination - feces\": 'Int8', #17 'Float64'\n",
    "                        \"abdomen\":  'Int8', #18 'Float64'\n",
    "                        \"packed cell volume\": 'Float32', #19\n",
    "                        \"total protein\": 'Float32', #20\n",
    "                        \"abdominocentesis appearance\":  'Int8', #21 'Float64'\n",
    "                        \"abdomcentesis total protein\": 'Float32', #22\n",
    "                        \"outcome\": 'Int8', #23 'Float64'\n",
    "                        \"surgical lesion?\": 'Int8', #24 'Float64'\n",
    "                        \"type of lesion1\": 'object', #25\n",
    "                        \"type of lesion2\": 'object', #26\n",
    "                        \"type of lesion3\": 'object', #27\n",
    "                        \"cp_data\": 'Int8' # 28\n",
    "                          },\n",
    "                     na_values = '?', # обозначим сразу NaN-значение\n",
    "                     keep_default_na=True, #  на всякий случай пусть поределяются  и другие Nan-значения\n",
    "                     na_filter=True # явно укажем на поиск NaN -значений\n",
    "                                           )\n",
    "\n",
    "# какие типы признаков в нашем датафрейме?\n",
    "df.head()\n",
    "#2,1,530101,38.50,66,28,3,3,?,2,5,4,4,?,?,?,3,5,45.00,8.40,?,?,2,2,11300,00000,00000,2 "
   ]
  },
  {
   "cell_type": "code",
   "execution_count": 282,
   "metadata": {},
   "outputs": [],
   "source": [
    "?pd.read_csv\n"
   ]
  },
  {
   "cell_type": "code",
   "execution_count": 296,
   "metadata": {},
   "outputs": [
    {
     "name": "stdout",
     "output_type": "stream",
     "text": [
      "<class 'pandas.core.frame.DataFrame'>\n",
      "RangeIndex: 300 entries, 0 to 299\n",
      "Data columns (total 28 columns):\n",
      " #   Column                       Non-Null Count  Dtype  \n",
      "---  ------                       --------------  -----  \n",
      " 0   surgery?                     299 non-null    Int8   \n",
      " 1   age                          300 non-null    Int8   \n",
      " 2   Hospital_Number              300 non-null    Int32  \n",
      " 3   rectal_temperature           240 non-null    float64\n",
      " 4   pulse                        276 non-null    Int16  \n",
      " 5   respiratory_rate             242 non-null    Int16  \n",
      " 6   temperature_of_extremities   244 non-null    Int8   \n",
      " 7   peripheral pulse             231 non-null    Int8   \n",
      " 8   mucous membranes             253 non-null    Int8   \n",
      " 9   capillary refill time        268 non-null    Int8   \n",
      " 10  pain                         245 non-null    Int8   \n",
      " 11  peristalsis                  256 non-null    Int8   \n",
      " 12  abdominal distension         244 non-null    Int8   \n",
      " 13  nasogastric tube             196 non-null    Int8   \n",
      " 14  nasogastric reflux           194 non-null    Int8   \n",
      " 15  nasogastric reflux PH        53 non-null     float32\n",
      " 16  rectal examination - feces   198 non-null    Int8   \n",
      " 17  abdomen                      182 non-null    Int8   \n",
      " 18  packed cell volume           271 non-null    float32\n",
      " 19  total protein                267 non-null    float32\n",
      " 20  abdominocentesis appearance  135 non-null    Int8   \n",
      " 21  abdomcentesis total protein  102 non-null    float32\n",
      " 22  outcome                      299 non-null    Int8   \n",
      " 23  surgical lesion?             300 non-null    Int8   \n",
      " 24  type of lesion1              300 non-null    object \n",
      " 25  type of lesion2              300 non-null    object \n",
      " 26  type of lesion3              300 non-null    object \n",
      " 27  cp_data                      300 non-null    Int8   \n",
      "dtypes: Int16(2), Int32(1), Int8(17), float32(4), float64(1), object(3)\n",
      "memory usage: 27.4+ KB\n"
     ]
    }
   ],
   "source": [
    "df.info()"
   ]
  },
  {
   "cell_type": "markdown",
   "metadata": {},
   "source": [
    "Оставить 8 столбцов для дальнейшего изучения: surgery?, Age, rectal temperature, pulse, respiratory rate, temperature of extremities, pain, outcome:"
   ]
  },
  {
   "cell_type": "code",
   "execution_count": 297,
   "metadata": {},
   "outputs": [],
   "source": [
    "df = df.drop(columns=[\n",
    "                        \"Hospital_Number\",\n",
    "                        \"peripheral pulse\",\n",
    "                        \"mucous membranes\",\n",
    "                        \"capillary refill time\",\n",
    "                        \"peristalsis\",\n",
    "                        \"abdominal distension\",\n",
    "                        \"nasogastric tube\",\n",
    "                        \"nasogastric reflux\",\n",
    "                        \"nasogastric reflux PH\",\n",
    "                        \"rectal examination - feces\",\n",
    "                        \"abdomen\",\n",
    "                        \"packed cell volume\",\n",
    "                        \"total protein\",\n",
    "                        \"abdominocentesis appearance\",\n",
    "                        \"abdomcentesis total protein\",\n",
    "                        \"surgical lesion?\",\n",
    "                        \"type of lesion1\",\n",
    "                        \"type of lesion2\",\n",
    "                        \"type of lesion3\",\n",
    "                        \"cp_data\"\n",
    "                       ])"
   ]
  },
  {
   "cell_type": "code",
   "execution_count": 298,
   "metadata": {
    "colab": {
     "base_uri": "https://localhost:8080/",
     "height": 206
    },
    "id": "EP43KeKhOTRT",
    "outputId": "a731cc91-365e-4557-aa7e-971af1cb1373"
   },
   "outputs": [
    {
     "data": {
      "text/html": [
       "<div>\n",
       "<style scoped>\n",
       "    .dataframe tbody tr th:only-of-type {\n",
       "        vertical-align: middle;\n",
       "    }\n",
       "\n",
       "    .dataframe tbody tr th {\n",
       "        vertical-align: top;\n",
       "    }\n",
       "\n",
       "    .dataframe thead th {\n",
       "        text-align: right;\n",
       "    }\n",
       "</style>\n",
       "<table border=\"1\" class=\"dataframe\">\n",
       "  <thead>\n",
       "    <tr style=\"text-align: right;\">\n",
       "      <th></th>\n",
       "      <th>surgery?</th>\n",
       "      <th>age</th>\n",
       "      <th>rectal_temperature</th>\n",
       "      <th>pulse</th>\n",
       "      <th>respiratory_rate</th>\n",
       "      <th>temperature_of_extremities</th>\n",
       "      <th>pain</th>\n",
       "      <th>outcome</th>\n",
       "    </tr>\n",
       "  </thead>\n",
       "  <tbody>\n",
       "    <tr>\n",
       "      <th>0</th>\n",
       "      <td>2</td>\n",
       "      <td>1</td>\n",
       "      <td>38.5</td>\n",
       "      <td>66</td>\n",
       "      <td>28</td>\n",
       "      <td>3</td>\n",
       "      <td>5</td>\n",
       "      <td>2</td>\n",
       "    </tr>\n",
       "    <tr>\n",
       "      <th>1</th>\n",
       "      <td>1</td>\n",
       "      <td>1</td>\n",
       "      <td>39.2</td>\n",
       "      <td>88</td>\n",
       "      <td>20</td>\n",
       "      <td>&lt;NA&gt;</td>\n",
       "      <td>3</td>\n",
       "      <td>3</td>\n",
       "    </tr>\n",
       "    <tr>\n",
       "      <th>2</th>\n",
       "      <td>2</td>\n",
       "      <td>1</td>\n",
       "      <td>38.3</td>\n",
       "      <td>40</td>\n",
       "      <td>24</td>\n",
       "      <td>1</td>\n",
       "      <td>3</td>\n",
       "      <td>1</td>\n",
       "    </tr>\n",
       "    <tr>\n",
       "      <th>3</th>\n",
       "      <td>1</td>\n",
       "      <td>9</td>\n",
       "      <td>39.1</td>\n",
       "      <td>164</td>\n",
       "      <td>84</td>\n",
       "      <td>4</td>\n",
       "      <td>2</td>\n",
       "      <td>2</td>\n",
       "    </tr>\n",
       "    <tr>\n",
       "      <th>4</th>\n",
       "      <td>2</td>\n",
       "      <td>1</td>\n",
       "      <td>37.3</td>\n",
       "      <td>104</td>\n",
       "      <td>35</td>\n",
       "      <td>&lt;NA&gt;</td>\n",
       "      <td>&lt;NA&gt;</td>\n",
       "      <td>2</td>\n",
       "    </tr>\n",
       "  </tbody>\n",
       "</table>\n",
       "</div>"
      ],
      "text/plain": [
       "   surgery?  age  rectal_temperature  pulse  respiratory_rate  \\\n",
       "0         2    1                38.5     66                28   \n",
       "1         1    1                39.2     88                20   \n",
       "2         2    1                38.3     40                24   \n",
       "3         1    9                39.1    164                84   \n",
       "4         2    1                37.3    104                35   \n",
       "\n",
       "   temperature_of_extremities  pain  outcome  \n",
       "0                           3     5        2  \n",
       "1                        <NA>     3        3  \n",
       "2                           1     3        1  \n",
       "3                           4     2        2  \n",
       "4                        <NA>  <NA>        2  "
      ]
     },
     "execution_count": 298,
     "metadata": {},
     "output_type": "execute_result"
    }
   ],
   "source": [
    "df.head()"
   ]
  },
  {
   "cell_type": "code",
   "execution_count": 299,
   "metadata": {},
   "outputs": [
    {
     "name": "stdout",
     "output_type": "stream",
     "text": [
      "<class 'pandas.core.frame.DataFrame'>\n",
      "RangeIndex: 300 entries, 0 to 299\n",
      "Data columns (total 8 columns):\n",
      " #   Column                      Non-Null Count  Dtype  \n",
      "---  ------                      --------------  -----  \n",
      " 0   surgery?                    299 non-null    Int8   \n",
      " 1   age                         300 non-null    Int8   \n",
      " 2   rectal_temperature          240 non-null    float64\n",
      " 3   pulse                       276 non-null    Int16  \n",
      " 4   respiratory_rate            242 non-null    Int16  \n",
      " 5   temperature_of_extremities  244 non-null    Int8   \n",
      " 6   pain                        245 non-null    Int8   \n",
      " 7   outcome                     299 non-null    Int8   \n",
      "dtypes: Int16(2), Int8(5), float64(1)\n",
      "memory usage: 7.2 KB\n"
     ]
    }
   ],
   "source": [
    "df.info()"
   ]
  },
  {
   "cell_type": "markdown",
   "metadata": {},
   "source": [
    "###### Задание 2. Первичное изучение данных\n",
    "Проанализировать значения по столбцам, рассчитать базовые статистики, найти выбросы."
   ]
  },
  {
   "cell_type": "code",
   "execution_count": 300,
   "metadata": {},
   "outputs": [
    {
     "name": "stdout",
     "output_type": "stream",
     "text": [
      "<class 'pandas.core.frame.DataFrame'>\n",
      "RangeIndex: 300 entries, 0 to 299\n",
      "Data columns (total 8 columns):\n",
      " #   Column                      Non-Null Count  Dtype  \n",
      "---  ------                      --------------  -----  \n",
      " 0   surgery?                    299 non-null    Int8   \n",
      " 1   age                         300 non-null    Int8   \n",
      " 2   rectal_temperature          240 non-null    float64\n",
      " 3   pulse                       276 non-null    Int16  \n",
      " 4   respiratory_rate            242 non-null    Int16  \n",
      " 5   temperature_of_extremities  244 non-null    Int8   \n",
      " 6   pain                        245 non-null    Int8   \n",
      " 7   outcome                     299 non-null    Int8   \n",
      "dtypes: Int16(2), Int8(5), float64(1)\n",
      "memory usage: 7.2 KB\n"
     ]
    },
    {
     "data": {
      "text/html": [
       "<div>\n",
       "<style scoped>\n",
       "    .dataframe tbody tr th:only-of-type {\n",
       "        vertical-align: middle;\n",
       "    }\n",
       "\n",
       "    .dataframe tbody tr th {\n",
       "        vertical-align: top;\n",
       "    }\n",
       "\n",
       "    .dataframe thead th {\n",
       "        text-align: right;\n",
       "    }\n",
       "</style>\n",
       "<table border=\"1\" class=\"dataframe\">\n",
       "  <thead>\n",
       "    <tr style=\"text-align: right;\">\n",
       "      <th></th>\n",
       "      <th>surgery?</th>\n",
       "      <th>age</th>\n",
       "      <th>rectal_temperature</th>\n",
       "      <th>pulse</th>\n",
       "      <th>respiratory_rate</th>\n",
       "      <th>temperature_of_extremities</th>\n",
       "      <th>pain</th>\n",
       "      <th>outcome</th>\n",
       "    </tr>\n",
       "  </thead>\n",
       "  <tbody>\n",
       "    <tr>\n",
       "      <th>count</th>\n",
       "      <td>299.000000</td>\n",
       "      <td>300.000000</td>\n",
       "      <td>240.000000</td>\n",
       "      <td>276.000000</td>\n",
       "      <td>242.000000</td>\n",
       "      <td>244.000000</td>\n",
       "      <td>245.00000</td>\n",
       "      <td>299.000000</td>\n",
       "    </tr>\n",
       "    <tr>\n",
       "      <th>mean</th>\n",
       "      <td>1.397993</td>\n",
       "      <td>1.640000</td>\n",
       "      <td>38.167917</td>\n",
       "      <td>71.913043</td>\n",
       "      <td>30.417355</td>\n",
       "      <td>2.348361</td>\n",
       "      <td>2.95102</td>\n",
       "      <td>1.551839</td>\n",
       "    </tr>\n",
       "    <tr>\n",
       "      <th>std</th>\n",
       "      <td>0.490305</td>\n",
       "      <td>2.173972</td>\n",
       "      <td>0.732289</td>\n",
       "      <td>28.630557</td>\n",
       "      <td>17.642231</td>\n",
       "      <td>1.045054</td>\n",
       "      <td>1.30794</td>\n",
       "      <td>0.737187</td>\n",
       "    </tr>\n",
       "    <tr>\n",
       "      <th>min</th>\n",
       "      <td>1.000000</td>\n",
       "      <td>1.000000</td>\n",
       "      <td>35.400000</td>\n",
       "      <td>30.000000</td>\n",
       "      <td>8.000000</td>\n",
       "      <td>1.000000</td>\n",
       "      <td>1.00000</td>\n",
       "      <td>1.000000</td>\n",
       "    </tr>\n",
       "    <tr>\n",
       "      <th>25%</th>\n",
       "      <td>1.000000</td>\n",
       "      <td>1.000000</td>\n",
       "      <td>37.800000</td>\n",
       "      <td>48.000000</td>\n",
       "      <td>18.500000</td>\n",
       "      <td>1.000000</td>\n",
       "      <td>2.00000</td>\n",
       "      <td>1.000000</td>\n",
       "    </tr>\n",
       "    <tr>\n",
       "      <th>50%</th>\n",
       "      <td>1.000000</td>\n",
       "      <td>1.000000</td>\n",
       "      <td>38.200000</td>\n",
       "      <td>64.000000</td>\n",
       "      <td>24.500000</td>\n",
       "      <td>3.000000</td>\n",
       "      <td>3.00000</td>\n",
       "      <td>1.000000</td>\n",
       "    </tr>\n",
       "    <tr>\n",
       "      <th>75%</th>\n",
       "      <td>2.000000</td>\n",
       "      <td>1.000000</td>\n",
       "      <td>38.500000</td>\n",
       "      <td>88.000000</td>\n",
       "      <td>36.000000</td>\n",
       "      <td>3.000000</td>\n",
       "      <td>4.00000</td>\n",
       "      <td>2.000000</td>\n",
       "    </tr>\n",
       "    <tr>\n",
       "      <th>max</th>\n",
       "      <td>2.000000</td>\n",
       "      <td>9.000000</td>\n",
       "      <td>40.800000</td>\n",
       "      <td>184.000000</td>\n",
       "      <td>96.000000</td>\n",
       "      <td>4.000000</td>\n",
       "      <td>5.00000</td>\n",
       "      <td>3.000000</td>\n",
       "    </tr>\n",
       "  </tbody>\n",
       "</table>\n",
       "</div>"
      ],
      "text/plain": [
       "         surgery?         age  rectal_temperature       pulse  \\\n",
       "count  299.000000  300.000000          240.000000  276.000000   \n",
       "mean     1.397993    1.640000           38.167917   71.913043   \n",
       "std      0.490305    2.173972            0.732289   28.630557   \n",
       "min      1.000000    1.000000           35.400000   30.000000   \n",
       "25%      1.000000    1.000000           37.800000   48.000000   \n",
       "50%      1.000000    1.000000           38.200000   64.000000   \n",
       "75%      2.000000    1.000000           38.500000   88.000000   \n",
       "max      2.000000    9.000000           40.800000  184.000000   \n",
       "\n",
       "       respiratory_rate  temperature_of_extremities       pain     outcome  \n",
       "count        242.000000                  244.000000  245.00000  299.000000  \n",
       "mean          30.417355                    2.348361    2.95102    1.551839  \n",
       "std           17.642231                    1.045054    1.30794    0.737187  \n",
       "min            8.000000                    1.000000    1.00000    1.000000  \n",
       "25%           18.500000                    1.000000    2.00000    1.000000  \n",
       "50%           24.500000                    3.000000    3.00000    1.000000  \n",
       "75%           36.000000                    3.000000    4.00000    2.000000  \n",
       "max           96.000000                    4.000000    5.00000    3.000000  "
      ]
     },
     "execution_count": 300,
     "metadata": {},
     "output_type": "execute_result"
    }
   ],
   "source": [
    "df.info()\n",
    "df.describe()"
   ]
  },
  {
   "cell_type": "code",
   "execution_count": 301,
   "metadata": {},
   "outputs": [
    {
     "name": "stdout",
     "output_type": "stream",
     "text": [
      "Значение моды:  0    3\n",
      "dtype: Int64\n"
     ]
    }
   ],
   "source": [
    "print('Значение моды: ', df['pain'].mode())"
   ]
  },
  {
   "cell_type": "markdown",
   "metadata": {},
   "source": [
    "Анализ основных статистических характеристик показывет что в столбце **pulse** возможен выброс по максимальному значению.\n",
    "Однако данный показатель зависим от общего состояния животного - при высоком уровне боли пульс может быть повышен."
   ]
  },
  {
   "cell_type": "code",
   "execution_count": 302,
   "metadata": {},
   "outputs": [
    {
     "name": "stdout",
     "output_type": "stream",
     "text": [
      "Значение выбросов столбца \"pulse\" по \"внутренним границам\" (1,5 межквартильного размаха):\n"
     ]
    },
    {
     "data": {
      "text/html": [
       "<div>\n",
       "<style scoped>\n",
       "    .dataframe tbody tr th:only-of-type {\n",
       "        vertical-align: middle;\n",
       "    }\n",
       "\n",
       "    .dataframe tbody tr th {\n",
       "        vertical-align: top;\n",
       "    }\n",
       "\n",
       "    .dataframe thead th {\n",
       "        text-align: right;\n",
       "    }\n",
       "</style>\n",
       "<table border=\"1\" class=\"dataframe\">\n",
       "  <thead>\n",
       "    <tr style=\"text-align: right;\">\n",
       "      <th></th>\n",
       "      <th>surgery?</th>\n",
       "      <th>age</th>\n",
       "      <th>rectal_temperature</th>\n",
       "      <th>pulse</th>\n",
       "      <th>respiratory_rate</th>\n",
       "      <th>temperature_of_extremities</th>\n",
       "      <th>pain</th>\n",
       "      <th>outcome</th>\n",
       "    </tr>\n",
       "  </thead>\n",
       "  <tbody>\n",
       "    <tr>\n",
       "      <th>3</th>\n",
       "      <td>1</td>\n",
       "      <td>9</td>\n",
       "      <td>39.1</td>\n",
       "      <td>164</td>\n",
       "      <td>84</td>\n",
       "      <td>4</td>\n",
       "      <td>2</td>\n",
       "      <td>2</td>\n",
       "    </tr>\n",
       "    <tr>\n",
       "      <th>41</th>\n",
       "      <td>2</td>\n",
       "      <td>9</td>\n",
       "      <td>39.0</td>\n",
       "      <td>150</td>\n",
       "      <td>72</td>\n",
       "      <td>&lt;NA&gt;</td>\n",
       "      <td>&lt;NA&gt;</td>\n",
       "      <td>1</td>\n",
       "    </tr>\n",
       "    <tr>\n",
       "      <th>55</th>\n",
       "      <td>1</td>\n",
       "      <td>9</td>\n",
       "      <td>38.6</td>\n",
       "      <td>160</td>\n",
       "      <td>20</td>\n",
       "      <td>3</td>\n",
       "      <td>3</td>\n",
       "      <td>2</td>\n",
       "    </tr>\n",
       "    <tr>\n",
       "      <th>255</th>\n",
       "      <td>1</td>\n",
       "      <td>9</td>\n",
       "      <td>38.8</td>\n",
       "      <td>184</td>\n",
       "      <td>84</td>\n",
       "      <td>1</td>\n",
       "      <td>4</td>\n",
       "      <td>2</td>\n",
       "    </tr>\n",
       "    <tr>\n",
       "      <th>275</th>\n",
       "      <td>1</td>\n",
       "      <td>9</td>\n",
       "      <td>38.8</td>\n",
       "      <td>150</td>\n",
       "      <td>50</td>\n",
       "      <td>1</td>\n",
       "      <td>5</td>\n",
       "      <td>2</td>\n",
       "    </tr>\n",
       "  </tbody>\n",
       "</table>\n",
       "</div>"
      ],
      "text/plain": [
       "     surgery?  age  rectal_temperature  pulse  respiratory_rate  \\\n",
       "3           1    9                39.1    164                84   \n",
       "41          2    9                39.0    150                72   \n",
       "55          1    9                38.6    160                20   \n",
       "255         1    9                38.8    184                84   \n",
       "275         1    9                38.8    150                50   \n",
       "\n",
       "     temperature_of_extremities  pain  outcome  \n",
       "3                             4     2        2  \n",
       "41                         <NA>  <NA>        1  \n",
       "55                            3     3        2  \n",
       "255                           1     4        2  \n",
       "275                           1     5        2  "
      ]
     },
     "execution_count": 302,
     "metadata": {},
     "output_type": "execute_result"
    }
   ],
   "source": [
    "# Расчёт выбросов для столбца pulse по «внутренним границам»:\n",
    "q1 = df['pulse'].quantile(0.25)\n",
    "q3 = df['pulse'].quantile(0.75)\n",
    "iqr = q3 - q1\n",
    "lower_bound_int = q1 - (1.5 * iqr) \n",
    "upper_bound_int = q3 + (1.5 * iqr)\n",
    "print ('Значение выбросов столбца \"pulse\" по \"внутренним границам\" (1,5 межквартильного размаха):')\n",
    "df[~df['pulse'].between(lower_bound_int, upper_bound_int, inclusive=True)]"
   ]
  },
  {
   "cell_type": "code",
   "execution_count": 303,
   "metadata": {},
   "outputs": [
    {
     "name": "stdout",
     "output_type": "stream",
     "text": [
      "Значения значительных выбросов по \"внешним границам\" (3,0 межквартильного размаха):\n",
      "Значительных выбросов по столбцу \"pulse\" не обнаружено\n"
     ]
    }
   ],
   "source": [
    "# По внешним границам - значительные выбросы:\n",
    "lower_bound_ext = q1 - (3. * iqr) \n",
    "upper_bound_ext = q3 + (3. * iqr)\n",
    "\n",
    "print ('Значения значительных выбросов по \"внешним границам\" (3,0 межквартильного размаха):')\n",
    "\n",
    "df_max_outer = df[~df['pulse'].between(lower_bound_ext, upper_bound_ext, inclusive=True)]\n",
    "\n",
    "if len(df_max_outer) == 0:\n",
    "    print ('Значительных выбросов по столбцу \"pulse\" не обнаружено')\n",
    "else:\n",
    "    display(df_max_outer)\n",
    "        \n",
    "    "
   ]
  },
  {
   "cell_type": "markdown",
   "metadata": {},
   "source": [
    "Так же возможны выбросы в столбце **respiratory_rate**. Проверим это:"
   ]
  },
  {
   "cell_type": "code",
   "execution_count": 304,
   "metadata": {},
   "outputs": [
    {
     "name": "stdout",
     "output_type": "stream",
     "text": [
      "Значение выбросов столбца \"respiratory_rate\" по \"внутренним границам\" (1,5 межквартильного размаха):\n"
     ]
    },
    {
     "data": {
      "text/html": [
       "<div>\n",
       "<style scoped>\n",
       "    .dataframe tbody tr th:only-of-type {\n",
       "        vertical-align: middle;\n",
       "    }\n",
       "\n",
       "    .dataframe tbody tr th {\n",
       "        vertical-align: top;\n",
       "    }\n",
       "\n",
       "    .dataframe thead th {\n",
       "        text-align: right;\n",
       "    }\n",
       "</style>\n",
       "<table border=\"1\" class=\"dataframe\">\n",
       "  <thead>\n",
       "    <tr style=\"text-align: right;\">\n",
       "      <th></th>\n",
       "      <th>surgery?</th>\n",
       "      <th>age</th>\n",
       "      <th>rectal_temperature</th>\n",
       "      <th>pulse</th>\n",
       "      <th>respiratory_rate</th>\n",
       "      <th>temperature_of_extremities</th>\n",
       "      <th>pain</th>\n",
       "      <th>outcome</th>\n",
       "    </tr>\n",
       "  </thead>\n",
       "  <tbody>\n",
       "    <tr>\n",
       "      <th>0</th>\n",
       "      <td>2</td>\n",
       "      <td>1</td>\n",
       "      <td>38.5</td>\n",
       "      <td>66</td>\n",
       "      <td>28</td>\n",
       "      <td>3</td>\n",
       "      <td>5</td>\n",
       "      <td>2</td>\n",
       "    </tr>\n",
       "    <tr>\n",
       "      <th>1</th>\n",
       "      <td>1</td>\n",
       "      <td>1</td>\n",
       "      <td>39.2</td>\n",
       "      <td>88</td>\n",
       "      <td>20</td>\n",
       "      <td>&lt;NA&gt;</td>\n",
       "      <td>3</td>\n",
       "      <td>3</td>\n",
       "    </tr>\n",
       "    <tr>\n",
       "      <th>3</th>\n",
       "      <td>1</td>\n",
       "      <td>9</td>\n",
       "      <td>39.1</td>\n",
       "      <td>164</td>\n",
       "      <td>84</td>\n",
       "      <td>4</td>\n",
       "      <td>2</td>\n",
       "      <td>2</td>\n",
       "    </tr>\n",
       "    <tr>\n",
       "      <th>4</th>\n",
       "      <td>2</td>\n",
       "      <td>1</td>\n",
       "      <td>37.3</td>\n",
       "      <td>104</td>\n",
       "      <td>35</td>\n",
       "      <td>&lt;NA&gt;</td>\n",
       "      <td>&lt;NA&gt;</td>\n",
       "      <td>2</td>\n",
       "    </tr>\n",
       "    <tr>\n",
       "      <th>8</th>\n",
       "      <td>2</td>\n",
       "      <td>1</td>\n",
       "      <td>NaN</td>\n",
       "      <td>80</td>\n",
       "      <td>36</td>\n",
       "      <td>3</td>\n",
       "      <td>4</td>\n",
       "      <td>3</td>\n",
       "    </tr>\n",
       "    <tr>\n",
       "      <th>...</th>\n",
       "      <td>...</td>\n",
       "      <td>...</td>\n",
       "      <td>...</td>\n",
       "      <td>...</td>\n",
       "      <td>...</td>\n",
       "      <td>...</td>\n",
       "      <td>...</td>\n",
       "      <td>...</td>\n",
       "    </tr>\n",
       "    <tr>\n",
       "      <th>293</th>\n",
       "      <td>1</td>\n",
       "      <td>1</td>\n",
       "      <td>NaN</td>\n",
       "      <td>78</td>\n",
       "      <td>24</td>\n",
       "      <td>3</td>\n",
       "      <td>&lt;NA&gt;</td>\n",
       "      <td>3</td>\n",
       "    </tr>\n",
       "    <tr>\n",
       "      <th>295</th>\n",
       "      <td>1</td>\n",
       "      <td>1</td>\n",
       "      <td>NaN</td>\n",
       "      <td>120</td>\n",
       "      <td>70</td>\n",
       "      <td>4</td>\n",
       "      <td>2</td>\n",
       "      <td>3</td>\n",
       "    </tr>\n",
       "    <tr>\n",
       "      <th>296</th>\n",
       "      <td>2</td>\n",
       "      <td>1</td>\n",
       "      <td>37.2</td>\n",
       "      <td>72</td>\n",
       "      <td>24</td>\n",
       "      <td>3</td>\n",
       "      <td>4</td>\n",
       "      <td>3</td>\n",
       "    </tr>\n",
       "    <tr>\n",
       "      <th>297</th>\n",
       "      <td>1</td>\n",
       "      <td>1</td>\n",
       "      <td>37.5</td>\n",
       "      <td>72</td>\n",
       "      <td>30</td>\n",
       "      <td>4</td>\n",
       "      <td>4</td>\n",
       "      <td>2</td>\n",
       "    </tr>\n",
       "    <tr>\n",
       "      <th>298</th>\n",
       "      <td>1</td>\n",
       "      <td>1</td>\n",
       "      <td>36.5</td>\n",
       "      <td>100</td>\n",
       "      <td>24</td>\n",
       "      <td>3</td>\n",
       "      <td>3</td>\n",
       "      <td>1</td>\n",
       "    </tr>\n",
       "  </tbody>\n",
       "</table>\n",
       "<p>142 rows × 8 columns</p>\n",
       "</div>"
      ],
      "text/plain": [
       "     surgery?  age  rectal_temperature  pulse  respiratory_rate  \\\n",
       "0           2    1                38.5     66                28   \n",
       "1           1    1                39.2     88                20   \n",
       "3           1    9                39.1    164                84   \n",
       "4           2    1                37.3    104                35   \n",
       "8           2    1                 NaN     80                36   \n",
       "..        ...  ...                 ...    ...               ...   \n",
       "293         1    1                 NaN     78                24   \n",
       "295         1    1                 NaN    120                70   \n",
       "296         2    1                37.2     72                24   \n",
       "297         1    1                37.5     72                30   \n",
       "298         1    1                36.5    100                24   \n",
       "\n",
       "     temperature_of_extremities  pain  outcome  \n",
       "0                             3     5        2  \n",
       "1                          <NA>     3        3  \n",
       "3                             4     2        2  \n",
       "4                          <NA>  <NA>        2  \n",
       "8                             3     4        3  \n",
       "..                          ...   ...      ...  \n",
       "293                           3  <NA>        3  \n",
       "295                           4     2        3  \n",
       "296                           3     4        3  \n",
       "297                           4     4        2  \n",
       "298                           3     3        1  \n",
       "\n",
       "[142 rows x 8 columns]"
      ]
     },
     "execution_count": 304,
     "metadata": {},
     "output_type": "execute_result"
    }
   ],
   "source": [
    "# Расчёт выбросов для столбца respiratory_rate по «внутренним границам»:\n",
    "q1 = df['respiratory_rate'].quantile(0.25)\n",
    "q3 = df['respiratory_rate'].quantile(0.75)\n",
    "iqr = q3 - q1\n",
    "lower_bound_int = q1 - (1.5 * iqr) \n",
    "upper_bound_int = q3 + (1.5 * iqr)\n",
    "print ('Значение выбросов столбца \"respiratory_rate\" по \"внутренним границам\" (1,5 межквартильного размаха):')\n",
    "df[~df['pulse'].between(lower_bound_int, upper_bound_int, inclusive=True)]"
   ]
  },
  {
   "cell_type": "code",
   "execution_count": 305,
   "metadata": {},
   "outputs": [
    {
     "name": "stdout",
     "output_type": "stream",
     "text": [
      "Значения значительных выбросов по \"внешним границам\" (3,0 межквартильного размаха):\n"
     ]
    },
    {
     "data": {
      "text/html": [
       "<div>\n",
       "<style scoped>\n",
       "    .dataframe tbody tr th:only-of-type {\n",
       "        vertical-align: middle;\n",
       "    }\n",
       "\n",
       "    .dataframe tbody tr th {\n",
       "        vertical-align: top;\n",
       "    }\n",
       "\n",
       "    .dataframe thead th {\n",
       "        text-align: right;\n",
       "    }\n",
       "</style>\n",
       "<table border=\"1\" class=\"dataframe\">\n",
       "  <thead>\n",
       "    <tr style=\"text-align: right;\">\n",
       "      <th></th>\n",
       "      <th>surgery?</th>\n",
       "      <th>age</th>\n",
       "      <th>rectal_temperature</th>\n",
       "      <th>pulse</th>\n",
       "      <th>respiratory_rate</th>\n",
       "      <th>temperature_of_extremities</th>\n",
       "      <th>pain</th>\n",
       "      <th>outcome</th>\n",
       "    </tr>\n",
       "  </thead>\n",
       "  <tbody>\n",
       "    <tr>\n",
       "      <th>39</th>\n",
       "      <td>1</td>\n",
       "      <td>9</td>\n",
       "      <td>39.2</td>\n",
       "      <td>146</td>\n",
       "      <td>96</td>\n",
       "      <td>&lt;NA&gt;</td>\n",
       "      <td>&lt;NA&gt;</td>\n",
       "      <td>2</td>\n",
       "    </tr>\n",
       "    <tr>\n",
       "      <th>106</th>\n",
       "      <td>1</td>\n",
       "      <td>1</td>\n",
       "      <td>38.3</td>\n",
       "      <td>52</td>\n",
       "      <td>96</td>\n",
       "      <td>&lt;NA&gt;</td>\n",
       "      <td>&lt;NA&gt;</td>\n",
       "      <td>1</td>\n",
       "    </tr>\n",
       "    <tr>\n",
       "      <th>186</th>\n",
       "      <td>1</td>\n",
       "      <td>1</td>\n",
       "      <td>39.3</td>\n",
       "      <td>64</td>\n",
       "      <td>90</td>\n",
       "      <td>2</td>\n",
       "      <td>&lt;NA&gt;</td>\n",
       "      <td>1</td>\n",
       "    </tr>\n",
       "    <tr>\n",
       "      <th>269</th>\n",
       "      <td>1</td>\n",
       "      <td>1</td>\n",
       "      <td>39.3</td>\n",
       "      <td>64</td>\n",
       "      <td>90</td>\n",
       "      <td>2</td>\n",
       "      <td>&lt;NA&gt;</td>\n",
       "      <td>1</td>\n",
       "    </tr>\n",
       "  </tbody>\n",
       "</table>\n",
       "</div>"
      ],
      "text/plain": [
       "     surgery?  age  rectal_temperature  pulse  respiratory_rate  \\\n",
       "39          1    9                39.2    146                96   \n",
       "106         1    1                38.3     52                96   \n",
       "186         1    1                39.3     64                90   \n",
       "269         1    1                39.3     64                90   \n",
       "\n",
       "     temperature_of_extremities  pain  outcome  \n",
       "39                         <NA>  <NA>        2  \n",
       "106                        <NA>  <NA>        1  \n",
       "186                           2  <NA>        1  \n",
       "269                           2  <NA>        1  "
      ]
     },
     "metadata": {},
     "output_type": "display_data"
    }
   ],
   "source": [
    "# По внешним границам - значительные выбросы:\n",
    "lower_bound_ext = q1 - (3. * iqr) \n",
    "upper_bound_ext = q3 + (3. * iqr)\n",
    "\n",
    "print ('Значения значительных выбросов по \"внешним границам\" (3,0 межквартильного размаха):')\n",
    "\n",
    "df_max_outer = df[~df['respiratory_rate'].between(lower_bound_ext, upper_bound_ext, inclusive=True)]\n",
    "\n",
    "if len(df_max_outer) == 0:\n",
    "    print ('Значительных выбросов по столбцу \"respiratory_rate\" не обнаружено')\n",
    "else:\n",
    "    display(df_max_outer)"
   ]
  },
  {
   "cell_type": "markdown",
   "metadata": {},
   "source": [
    "Как указано в описании данных датафрейма, характиристика частоты дыхания (respiratory rate) имеет сомнительную ценность ввиду большой вариативности.\n",
    "\n",
    "**Рекомендация:** исключить данные строки из последующего анализа."
   ]
  },
  {
   "cell_type": "markdown",
   "metadata": {},
   "source": [
    "###### Задание 3. Работа с пропусками\n",
    "Рассчитать количество пропусков для всех выбранных столбцов. Принять и обосновать решение о методе заполнения пропусков по каждому столбцу на основе рассчитанных статистик и возможной взаимосвязи значений в них. Сформировать датафрейм, в котором пропуски будут отсутствовать."
   ]
  },
  {
   "cell_type": "code",
   "execution_count": 306,
   "metadata": {},
   "outputs": [
    {
     "name": "stdout",
     "output_type": "stream",
     "text": [
      "<class 'pandas.core.frame.DataFrame'>\n",
      "RangeIndex: 300 entries, 0 to 299\n",
      "Data columns (total 8 columns):\n",
      " #   Column                      Non-Null Count  Dtype  \n",
      "---  ------                      --------------  -----  \n",
      " 0   surgery?                    299 non-null    Int8   \n",
      " 1   age                         300 non-null    Int8   \n",
      " 2   rectal_temperature          240 non-null    float64\n",
      " 3   pulse                       276 non-null    Int16  \n",
      " 4   respiratory_rate            242 non-null    Int16  \n",
      " 5   temperature_of_extremities  244 non-null    Int8   \n",
      " 6   pain                        245 non-null    Int8   \n",
      " 7   outcome                     299 non-null    Int8   \n",
      "dtypes: Int16(2), Int8(5), float64(1)\n",
      "memory usage: 7.2 KB\n"
     ]
    }
   ],
   "source": [
    "df.info()"
   ]
  },
  {
   "cell_type": "code",
   "execution_count": 307,
   "metadata": {},
   "outputs": [
    {
     "name": "stdout",
     "output_type": "stream",
     "text": [
      "Общее количество пропущеных значений для всех столбцов: 255\n",
      "Общее количество элементов в датафрейме: 2400\n",
      "Отсутствует 10.625% данных\n"
     ]
    }
   ],
   "source": [
    "elements_Nan = df.isna().sum().sum()\n",
    "print('Общее количество пропущеных значений для всех столбцов:', elements_Nan)\n",
    "elements = len(df.axes[0])*len(df.axes[1])\n",
    "print ('Общее количество элементов в датафрейме:', elements )\n",
    "print(f'Отсутствует {(elements_Nan/elements) *100}% данных')"
   ]
  },
  {
   "cell_type": "code",
   "execution_count": 308,
   "metadata": {},
   "outputs": [
    {
     "name": "stdout",
     "output_type": "stream",
     "text": [
      "В разрезе по столбцам отсутствует следующее количество данных в процентах:\n"
     ]
    },
    {
     "data": {
      "text/plain": [
       "surgery?                       0.33\n",
       "age                            0.00\n",
       "rectal_temperature            20.00\n",
       "pulse                          8.00\n",
       "respiratory_rate              19.33\n",
       "temperature_of_extremities    18.67\n",
       "pain                          18.33\n",
       "outcome                        0.33\n",
       "dtype: float64"
      ]
     },
     "execution_count": 308,
     "metadata": {},
     "output_type": "execute_result"
    }
   ],
   "source": [
    "print('В разрезе по столбцам отсутствует следующее количество данных в процентах:')\n",
    "(df.isna().sum() / len(df)).round(4) * 100"
   ]
  },
  {
   "cell_type": "code",
   "execution_count": 309,
   "metadata": {},
   "outputs": [
    {
     "name": "stdout",
     "output_type": "stream",
     "text": [
      "Строка с пропущенным значением для столбца \"surgery?\"- проводилась ли хирургическая операция:\n"
     ]
    },
    {
     "data": {
      "text/html": [
       "<div>\n",
       "<style scoped>\n",
       "    .dataframe tbody tr th:only-of-type {\n",
       "        vertical-align: middle;\n",
       "    }\n",
       "\n",
       "    .dataframe tbody tr th {\n",
       "        vertical-align: top;\n",
       "    }\n",
       "\n",
       "    .dataframe thead th {\n",
       "        text-align: right;\n",
       "    }\n",
       "</style>\n",
       "<table border=\"1\" class=\"dataframe\">\n",
       "  <thead>\n",
       "    <tr style=\"text-align: right;\">\n",
       "      <th></th>\n",
       "      <th>surgery?</th>\n",
       "      <th>age</th>\n",
       "      <th>rectal_temperature</th>\n",
       "      <th>pulse</th>\n",
       "      <th>respiratory_rate</th>\n",
       "      <th>temperature_of_extremities</th>\n",
       "      <th>pain</th>\n",
       "      <th>outcome</th>\n",
       "    </tr>\n",
       "  </thead>\n",
       "  <tbody>\n",
       "    <tr>\n",
       "      <th>132</th>\n",
       "      <td>&lt;NA&gt;</td>\n",
       "      <td>1</td>\n",
       "      <td>38.0</td>\n",
       "      <td>48</td>\n",
       "      <td>20</td>\n",
       "      <td>3</td>\n",
       "      <td>4</td>\n",
       "      <td>&lt;NA&gt;</td>\n",
       "    </tr>\n",
       "  </tbody>\n",
       "</table>\n",
       "</div>"
      ],
      "text/plain": [
       "     surgery?  age  rectal_temperature  pulse  respiratory_rate  \\\n",
       "132      <NA>    1                38.0     48                20   \n",
       "\n",
       "     temperature_of_extremities  pain  outcome  \n",
       "132                           3     4     <NA>  "
      ]
     },
     "execution_count": 309,
     "metadata": {},
     "output_type": "execute_result"
    }
   ],
   "source": [
    "print('Строка с пропущенным значением для столбца \"surgery?\"- проводилась ли хирургическая операция:')\n",
    "df.loc[df['surgery?'].isnull()]\n"
   ]
  },
  {
   "cell_type": "markdown",
   "metadata": {},
   "source": [
    "В строке так же не заполнено значение **outcome** - нет результата лечения.\n",
    "\n",
    "**Рекомендация:** заменить значения **surgery?** и **outcome** соотвествующими модами, либо удалить строку."
   ]
  },
  {
   "cell_type": "code",
   "execution_count": 310,
   "metadata": {},
   "outputs": [
    {
     "name": "stdout",
     "output_type": "stream",
     "text": [
      "Значение моды для столбца \"surgery?\":  1\n",
      "Значение моды для столбца \"outcome\":  1\n"
     ]
    },
    {
     "data": {
      "text/plain": [
       "surgery?                       1\n",
       "age                            1\n",
       "rectal_temperature            38\n",
       "pulse                         48\n",
       "respiratory_rate              20\n",
       "temperature_of_extremities     3\n",
       "pain                           4\n",
       "outcome                        1\n",
       "Name: 132, dtype: object"
      ]
     },
     "execution_count": 310,
     "metadata": {},
     "output_type": "execute_result"
    }
   ],
   "source": [
    "print('Значение моды для столбца \"surgery?\": ', df['surgery?'].mode()[0])\n",
    "print('Значение моды для столбца \"outcome\": ', df['outcome'].mode()[0])\n",
    "df['surgery?'].iloc[132] = 1\n",
    "df['outcome'].iloc[132] = 1\n",
    "df.iloc[132] "
   ]
  },
  {
   "cell_type": "markdown",
   "metadata": {},
   "source": [
    "Столбец **age** не имеет пропусков данных  и не требует дополнительной обработки. Однако категориальные значения для возраста не соответствуют описанию:\n",
    "\n",
    " Age:\n",
    " \n",
    "         1 = Adult horse\n",
    "         \n",
    "         2 = Young (< 6 months)\n",
    "В датасете имеются только значения 1 и 9:"
   ]
  },
  {
   "cell_type": "code",
   "execution_count": 311,
   "metadata": {},
   "outputs": [
    {
     "data": {
      "text/plain": [
       "<IntegerArray>\n",
       "[1, 9]\n",
       "Length: 2, dtype: Int8"
      ]
     },
     "execution_count": 311,
     "metadata": {},
     "output_type": "execute_result"
    }
   ],
   "source": [
    "df['age'].unique()"
   ]
  },
  {
   "cell_type": "markdown",
   "metadata": {},
   "source": [
    "**Рекомендация:** определить, что **9** обозначает молодую ососбь и заменить на  **2**, как это было определено в описании данных:"
   ]
  },
  {
   "cell_type": "code",
   "execution_count": 312,
   "metadata": {},
   "outputs": [
    {
     "data": {
      "text/plain": [
       "<IntegerArray>\n",
       "[1, 2]\n",
       "Length: 2, dtype: Int8"
      ]
     },
     "execution_count": 312,
     "metadata": {},
     "output_type": "execute_result"
    }
   ],
   "source": [
    "df['age'].loc[df['age'] == 9] = 2\n",
    "df['age'].unique()"
   ]
  },
  {
   "cell_type": "markdown",
   "metadata": {},
   "source": [
    "Матрица корреляции пропущенных значений\n",
    "\n",
    "Еще один интересный инструмент — матрица корреляции пропущенных значений (nullity correlation matrix).\n",
    "\n",
    "По сути, она показывает насколько сильно присутствие или отсутствие значений одного признака влияет на присутствие значений другого.\n",
    "\n",
    "Если мы знаем, в каких столбцах есть пропуски, то можем просто последовательно применить к ним методы .isnull() и .corr().\n",
    "titanic[['Age', 'Cabin', 'Embarked']].isnull().corr()\n",
    "матрица корреляции пропущенных значений, библиотека Pandas\n",
    "\n",
    "\n",
    "rectal_temperature            20.00\n",
    "pulse                          8.00\n",
    "respiratory_rate              19.33\n",
    "temperature_of_extremities    18.67\n",
    "pain                          18.33"
   ]
  },
  {
   "cell_type": "code",
   "execution_count": 313,
   "metadata": {},
   "outputs": [
    {
     "data": {
      "text/html": [
       "<div>\n",
       "<style scoped>\n",
       "    .dataframe tbody tr th:only-of-type {\n",
       "        vertical-align: middle;\n",
       "    }\n",
       "\n",
       "    .dataframe tbody tr th {\n",
       "        vertical-align: top;\n",
       "    }\n",
       "\n",
       "    .dataframe thead th {\n",
       "        text-align: right;\n",
       "    }\n",
       "</style>\n",
       "<table border=\"1\" class=\"dataframe\">\n",
       "  <thead>\n",
       "    <tr style=\"text-align: right;\">\n",
       "      <th></th>\n",
       "      <th>rectal_temperature</th>\n",
       "      <th>pulse</th>\n",
       "      <th>respiratory_rate</th>\n",
       "      <th>temperature_of_extremities</th>\n",
       "      <th>pain</th>\n",
       "    </tr>\n",
       "  </thead>\n",
       "  <tbody>\n",
       "    <tr>\n",
       "      <th>rectal_temperature</th>\n",
       "      <td>1.000000</td>\n",
       "      <td>0.405465</td>\n",
       "      <td>0.346069</td>\n",
       "      <td>0.059884</td>\n",
       "      <td>0.086146</td>\n",
       "    </tr>\n",
       "    <tr>\n",
       "      <th>pulse</th>\n",
       "      <td>0.405465</td>\n",
       "      <td>1.000000</td>\n",
       "      <td>0.415667</td>\n",
       "      <td>0.142531</td>\n",
       "      <td>0.114314</td>\n",
       "    </tr>\n",
       "    <tr>\n",
       "      <th>respiratory_rate</th>\n",
       "      <td>0.346069</td>\n",
       "      <td>0.415667</td>\n",
       "      <td>1.000000</td>\n",
       "      <td>0.090405</td>\n",
       "      <td>0.073440</td>\n",
       "    </tr>\n",
       "    <tr>\n",
       "      <th>temperature_of_extremities</th>\n",
       "      <td>0.059884</td>\n",
       "      <td>0.142531</td>\n",
       "      <td>0.090405</td>\n",
       "      <td>1.000000</td>\n",
       "      <td>0.546828</td>\n",
       "    </tr>\n",
       "    <tr>\n",
       "      <th>pain</th>\n",
       "      <td>0.086146</td>\n",
       "      <td>0.114314</td>\n",
       "      <td>0.073440</td>\n",
       "      <td>0.546828</td>\n",
       "      <td>1.000000</td>\n",
       "    </tr>\n",
       "  </tbody>\n",
       "</table>\n",
       "</div>"
      ],
      "text/plain": [
       "                            rectal_temperature     pulse  respiratory_rate  \\\n",
       "rectal_temperature                    1.000000  0.405465          0.346069   \n",
       "pulse                                 0.405465  1.000000          0.415667   \n",
       "respiratory_rate                      0.346069  0.415667          1.000000   \n",
       "temperature_of_extremities            0.059884  0.142531          0.090405   \n",
       "pain                                  0.086146  0.114314          0.073440   \n",
       "\n",
       "                            temperature_of_extremities      pain  \n",
       "rectal_temperature                            0.059884  0.086146  \n",
       "pulse                                         0.142531  0.114314  \n",
       "respiratory_rate                              0.090405  0.073440  \n",
       "temperature_of_extremities                    1.000000  0.546828  \n",
       "pain                                          0.546828  1.000000  "
      ]
     },
     "execution_count": 313,
     "metadata": {},
     "output_type": "execute_result"
    }
   ],
   "source": [
    "df[['rectal_temperature', 'pulse', 'respiratory_rate', 'temperature_of_extremities', 'pain']].isna().corr()"
   ]
  },
  {
   "cell_type": "markdown",
   "metadata": {},
   "source": [
    "Столбец **rectal_temperature** содержит набор непрерывных величин, пропуски могут быть заполнены средними значениями в зависимости от возрастной категории:"
   ]
  },
  {
   "cell_type": "code",
   "execution_count": 315,
   "metadata": {},
   "outputs": [
    {
     "name": "stdout",
     "output_type": "stream",
     "text": [
      "Группы по возрастам: 1-возрослая лошадь, 2-жеребенок:\n",
      "age\n",
      "1    220\n",
      "2     20\n",
      "Name: rectal_temperature, dtype: int64\n",
      "Средняя температура по возрастам: 1-возрослая лошадь, 2-жеребенок:\n",
      "age\n",
      "1    38.124545\n",
      "2    38.645000\n",
      "Name: rectal_temperature, dtype: float64\n"
     ]
    }
   ],
   "source": [
    "# мы не можем исключать, что средние температуры в зависимости возраста различны...\n",
    "# Используем заполнение внутригрупповым значением\n",
    "# https://www.dmitrymakarov.ru/data-analysis/nan-06/?ysclid=lctaakg710392163057#8-protsent-propushchennykh-znacheniy\n",
    "print('Группы по возрастам: 1-возрослая лошадь, 2-жеребенок:')\n",
    "print(df.groupby(['age'])['rectal_temperature'].agg('count'))\n",
    "print('Средняя температура по возрастам: 1-возрослая лошадь, 2-жеребенок:')\n",
    "print(df.groupby(['age'])['rectal_temperature'].mean())\n",
    "\n",
    "df['rectal_temperature'] = df['rectal_temperature'].fillna(df.groupby('age')['rectal_temperature'].transform('mean'))\n"
   ]
  },
  {
   "cell_type": "markdown",
   "metadata": {},
   "source": [
    "Убедимся, что в столбце **rectal_temperature** не осталось пропусков:"
   ]
  },
  {
   "cell_type": "code",
   "execution_count": 316,
   "metadata": {},
   "outputs": [
    {
     "data": {
      "text/plain": [
       "0"
      ]
     },
     "execution_count": 316,
     "metadata": {},
     "output_type": "execute_result"
    }
   ],
   "source": [
    "df['rectal_temperature'].isna().sum()"
   ]
  },
  {
   "cell_type": "markdown",
   "metadata": {
    "id": "pRiYnAwVVPYe"
   },
   "source": [
    "## Минимум, максимум и размах"
   ]
  },
  {
   "cell_type": "code",
   "execution_count": null,
   "metadata": {
    "colab": {
     "base_uri": "https://localhost:8080/"
    },
    "id": "eWoVIZvjVSWm",
    "outputId": "f43fc0e8-7d00-4e56-ef6f-116f30c9f1d6"
   },
   "outputs": [],
   "source": [
    "print(max(df['Height']))\n",
    "print(np.max(df['Height']))\n",
    "print(df['Height'].max())"
   ]
  },
  {
   "cell_type": "code",
   "execution_count": null,
   "metadata": {
    "colab": {
     "base_uri": "https://localhost:8080/"
    },
    "id": "lWK_QixaOTRV",
    "outputId": "89b023e9-bf00-42cc-c763-43b6a15b6093"
   },
   "outputs": [],
   "source": [
    "print(min(df['Weight']))\n",
    "print(np.min(df['Weight']))\n",
    "print(df['Weight'].min())"
   ]
  },
  {
   "cell_type": "code",
   "execution_count": null,
   "metadata": {
    "id": "6JmWIZEbOTRV"
   },
   "outputs": [],
   "source": [
    "df[df['Weight'] == df['Weight'].min()]"
   ]
  },
  {
   "cell_type": "code",
   "execution_count": null,
   "metadata": {
    "colab": {
     "base_uri": "https://localhost:8080/"
    },
    "id": "tJ-8XfmBVU7n",
    "outputId": "99252e9c-53ac-43bd-e8a0-b628835223f8"
   },
   "outputs": [],
   "source": [
    "# размах – разница между минимальным и максимальным значением\n",
    "weight_range = df['Weight'].max() - df['Weight'].min()\n",
    "height_range = df['Height'].max() - df['Height'].min()\n",
    "print(weight_range)\n",
    "print(height_range)"
   ]
  },
  {
   "cell_type": "markdown",
   "metadata": {
    "id": "0OZnatR5OTRX"
   },
   "source": [
    "## Среднеарифметическое"
   ]
  },
  {
   "cell_type": "code",
   "execution_count": null,
   "metadata": {
    "colab": {
     "base_uri": "https://localhost:8080/"
    },
    "id": "EV2ZFVsrOTRX",
    "outputId": "cb802529-0de9-4a85-9fae-ed580ef0abbd"
   },
   "outputs": [],
   "source": [
    "# ручной подсчет\n",
    "sum(df['Weight']) / len(df['Weight'])"
   ]
  },
  {
   "cell_type": "code",
   "execution_count": null,
   "metadata": {
    "colab": {
     "base_uri": "https://localhost:8080/"
    },
    "id": "Gq0gh73GOTRY",
    "outputId": "81cd3698-a653-447e-87f8-c3fbf8da9ee7"
   },
   "outputs": [],
   "source": [
    "print(np.mean(df['Weight']))\n",
    "print(df['Weight'].mean())"
   ]
  },
  {
   "cell_type": "markdown",
   "metadata": {
    "id": "Vcp_Pij5OTRY"
   },
   "source": [
    "## Мода"
   ]
  },
  {
   "cell_type": "code",
   "execution_count": null,
   "metadata": {
    "colab": {
     "base_uri": "https://localhost:8080/"
    },
    "id": "YF8FcqPTOTRb",
    "outputId": "719ed400-daf4-48a4-96c6-0fb28fdf44f7"
   },
   "outputs": [],
   "source": [
    "print('Значение моды: ', df['Weight'].mode()[0])"
   ]
  },
  {
   "cell_type": "markdown",
   "metadata": {
    "id": "qWyHSy8xOTRc"
   },
   "source": [
    "## Медиана"
   ]
  },
  {
   "cell_type": "code",
   "execution_count": null,
   "metadata": {
    "colab": {
     "base_uri": "https://localhost:8080/"
    },
    "id": "1YEkytFFOTRd",
    "outputId": "11561240-471d-45a1-b028-94bdfee65caf"
   },
   "outputs": [],
   "source": [
    "print(df['Height'].median())\n",
    "print(np.median(df['Height']))"
   ]
  },
  {
   "cell_type": "markdown",
   "metadata": {
    "id": "9Y239gfqVaL-"
   },
   "source": [
    "## СКО"
   ]
  },
  {
   "cell_type": "code",
   "execution_count": null,
   "metadata": {
    "colab": {
     "base_uri": "https://localhost:8080/"
    },
    "id": "KbJrfmd7faCm",
    "outputId": "d9637917-675b-4e1a-ab30-5d1660ef154c"
   },
   "outputs": [],
   "source": [
    "print('Рост')\n",
    "print(df['Height'].std())\n",
    "print(np.std(df['Height'], ddof=1)) # дельта степеней свободы в numpy по умолчанию 0\n",
    "\n",
    "print('Вес')\n",
    "print(df['Weight'].std())\n",
    "print(np.std(df['Weight'], ddof=1))"
   ]
  },
  {
   "cell_type": "markdown",
   "metadata": {
    "id": "6MsGMUEeGLnX"
   },
   "source": [
    "## Дисперсия"
   ]
  },
  {
   "cell_type": "code",
   "execution_count": null,
   "metadata": {
    "colab": {
     "base_uri": "https://localhost:8080/"
    },
    "id": "addZ1sLdghk5",
    "outputId": "cd5287c3-0d0e-4eab-b64f-ef1232b96de7"
   },
   "outputs": [],
   "source": [
    "print('Рост')\n",
    "print(np.var(df['Height'], ddof=1))\n",
    "print(df['Height'].var())\n",
    "\n",
    "print('Вес')\n",
    "print(np.var(df['Weight'], ddof=1))\n",
    "print(df['Weight'].var())"
   ]
  },
  {
   "cell_type": "markdown",
   "metadata": {
    "id": "k5m4DmULOTRf"
   },
   "source": [
    "## Квантили"
   ]
  },
  {
   "cell_type": "code",
   "execution_count": null,
   "metadata": {
    "colab": {
     "base_uri": "https://localhost:8080/"
    },
    "id": "yy0TiAHmOTRg",
    "outputId": "0012b0fe-94e6-4c13-a51e-727d3623bc35"
   },
   "outputs": [],
   "source": [
    "# это же медиана!\n",
    "df['Height'].quantile()"
   ]
  },
  {
   "cell_type": "code",
   "execution_count": null,
   "metadata": {
    "colab": {
     "base_uri": "https://localhost:8080/"
    },
    "id": "E_DI6UBbOTRg",
    "outputId": "4484ce83-3067-4f28-cb47-b5d4359454d5"
   },
   "outputs": [],
   "source": [
    "# первый и третий квартили\n",
    "df['Height'].quantile([0.25, 0.75])"
   ]
  },
  {
   "cell_type": "code",
   "execution_count": null,
   "metadata": {
    "colab": {
     "base_uri": "https://localhost:8080/"
    },
    "id": "qAf3oBa_OTRh",
    "outputId": "4bb96e1f-3e3f-46f3-bec9-2da2b0b7d5e4",
    "scrolled": true
   },
   "outputs": [],
   "source": [
    "# произвольный перцентиль\n",
    "df['Height'].quantile(0.33)"
   ]
  },
  {
   "cell_type": "code",
   "execution_count": null,
   "metadata": {
    "colab": {
     "base_uri": "https://localhost:8080/"
    },
    "id": "013263LaOTRh",
    "outputId": "8b1962a4-5671-4599-c442-7c204f47598b"
   },
   "outputs": [],
   "source": [
    "# межквартильный размах\n",
    "Q1 = df['Height'].quantile(0.25)\n",
    "Q3 = df['Height'].quantile(0.75)\n",
    "IQR = Q3 - Q1\n",
    "IQR"
   ]
  },
  {
   "cell_type": "markdown",
   "metadata": {
    "id": "_uKvDfuwOTRi"
   },
   "source": [
    "## Describe"
   ]
  },
  {
   "cell_type": "code",
   "execution_count": null,
   "metadata": {
    "colab": {
     "base_uri": "https://localhost:8080/",
     "height": 300
    },
    "id": "XN7DB46OOTRi",
    "outputId": "2d8db5d1-be27-4df7-b017-92803fd62fc3"
   },
   "outputs": [],
   "source": [
    "df.describe()"
   ]
  },
  {
   "cell_type": "markdown",
   "metadata": {
    "id": "PS8Uhn5YOTRi"
   },
   "source": [
    "## Выбросы"
   ]
  },
  {
   "cell_type": "code",
   "execution_count": null,
   "metadata": {
    "colab": {
     "base_uri": "https://localhost:8080/"
    },
    "id": "hD4OS3klOTRj",
    "outputId": "54085771-347c-46dc-8e98-877b7d73372e"
   },
   "outputs": [],
   "source": [
    "# тыкнем пальцем в небо (определим выбросы вручную) и посмотрим, как изменились средние\n",
    "print(df['Weight'].mean())\n",
    "print(df[(df['Weight'] > 50) & (df['Weight'] < 150)]['Weight'].mean())"
   ]
  },
  {
   "cell_type": "code",
   "execution_count": null,
   "metadata": {
    "colab": {
     "base_uri": "https://localhost:8080/"
    },
    "id": "og4-DZ6LOTRj",
    "outputId": "6c5fc210-b70c-4b12-ade8-b22e055dc076"
   },
   "outputs": [],
   "source": [
    "# а медиана?\n",
    "print(df['Weight'].median())\n",
    "print(df[(df['Weight'] > 50) & (df['Weight'] < 150)]['Weight'].median())"
   ]
  },
  {
   "cell_type": "code",
   "execution_count": null,
   "metadata": {
    "colab": {
     "base_uri": "https://localhost:8080/"
    },
    "id": "hrW4Dq8_OTRj",
    "outputId": "54838bdc-2396-42ea-916f-2e4f813e9f47"
   },
   "outputs": [],
   "source": [
    "# ну с модой все понятно\n",
    "print(df['Weight'].round().mode()[0])\n",
    "print(df[(df['Weight'] > 50) & (df['Weight'] < 150)]['Weight'].round().mode()[0])"
   ]
  },
  {
   "cell_type": "markdown",
   "metadata": {
    "id": "WZBwpizyOTRk"
   },
   "source": [
    "А теперь найдем выбросы через межквартльный размах (на примере роста)\n",
    "\n",
    "PS: через межквартильный размах корректно искать выбросы в нормально распределенных данных (про распределения будет дальше на курсе)"
   ]
  },
  {
   "cell_type": "code",
   "execution_count": null,
   "metadata": {
    "colab": {
     "base_uri": "https://localhost:8080/",
     "height": 461
    },
    "id": "veFR3pf9OTRk",
    "outputId": "6dffd4b0-7a82-4b8b-bec7-62bcebfb4389"
   },
   "outputs": [],
   "source": [
    "q1 = df['Height'].quantile(0.25)\n",
    "q3 = df['Height'].quantile(0.75)\n",
    "iqr = q3 - q1\n",
    "lower_bound = q1 - (1.5 * iqr) \n",
    "upper_bound = q3 + (1.5 * iqr)\n",
    "remove_outliers = df[df['Height'].between(lower_bound, upper_bound, inclusive=True)]\n",
    "remove_outliers"
   ]
  },
  {
   "cell_type": "code",
   "execution_count": null,
   "metadata": {
    "colab": {
     "base_uri": "https://localhost:8080/",
     "height": 338
    },
    "id": "raT6HgUSOTRk",
    "outputId": "18252d5a-039b-4d9d-f62a-0034fba1ea6c"
   },
   "outputs": [],
   "source": [
    "# что это за выбросы?\n",
    "df[~df['Height'].between(lower_bound, upper_bound, inclusive=True)]"
   ]
  },
  {
   "cell_type": "code",
   "execution_count": null,
   "metadata": {
    "id": "gxSuUy1DOTRl"
   },
   "outputs": [],
   "source": [
    "print(remove_outliers['Height'].mean())\n",
    "print(remove_outliers['Height'].median())"
   ]
  },
  {
   "cell_type": "code",
   "execution_count": null,
   "metadata": {
    "colab": {
     "base_uri": "https://localhost:8080/"
    },
    "id": "bRy1qyzDOTRm",
    "outputId": "1fc015c7-faf7-4b41-eb5d-143e192ec6c5"
   },
   "outputs": [],
   "source": [
    "print(df['Height'].mean() - remove_outliers['Height'].mean())"
   ]
  },
  {
   "cell_type": "code",
   "execution_count": null,
   "metadata": {
    "colab": {
     "base_uri": "https://localhost:8080/"
    },
    "id": "cCRL77kBOTRm",
    "outputId": "4b56c371-b4fd-45da-a6b1-e39f9ac0dec0"
   },
   "outputs": [],
   "source": [
    "print(df['Height'].median() - remove_outliers['Height'].median())"
   ]
  },
  {
   "cell_type": "markdown",
   "metadata": {
    "id": "n2QVTJUpOTRm"
   },
   "source": [
    "## Пропуски"
   ]
  },
  {
   "cell_type": "markdown",
   "metadata": {
    "id": "9JZ2LejSOTRn"
   },
   "source": [
    "Как часто в реальной жизни приходится заполнять пропуски?\n",
    "\n",
    "На самом деле не часто. Заполнять нужно в том случае, когда алгоритм, для которого готовятся данные, чувствителен к пропускам. Например, регрессии и нейросети – чувствительны, а корреляция и стат-тесты нет (хотя для стат-тестов пропуски нужно удалять).\n",
    "\n",
    "Кроме того, заполнять мы, строго говоря, имеем право только когда данные пропущены совершенно случайно (MCAR) – тогда заполнение не повлияет на характер связи междузаполняемой переменной и остальными. А то, что у нас MCAR нужно еще доказать.\n",
    "\n",
    "Но это нужно уметь делать в тех случаях, когда необходимо. "
   ]
  },
  {
   "cell_type": "code",
   "execution_count": null,
   "metadata": {
    "colab": {
     "base_uri": "https://localhost:8080/",
     "height": 781
    },
    "id": "v-KxMBEMOTRn",
    "outputId": "c53d3fbb-7a29-4976-9ee1-50597872bfaf"
   },
   "outputs": [],
   "source": [
    "titanic = pd.read_csv('https://raw.githubusercontent.com/obulygin/netology_pyda_files/main/titanic.csv')\n",
    "titanic.info()\n",
    "titanic"
   ]
  },
  {
   "cell_type": "markdown",
   "metadata": {
    "id": "ZTSLAG9xOTRn"
   },
   "source": [
    "Если в данных пропуски представлены в виде каких-то конкретных значений (пустые строк, -, ? и пр.), то используйте аргумент na_values при чтении файла."
   ]
  },
  {
   "cell_type": "code",
   "execution_count": null,
   "metadata": {
    "colab": {
     "base_uri": "https://localhost:8080/"
    },
    "id": "bVGYomo7OTRo",
    "outputId": "3ff19034-0b0a-4ead-ab7f-40188c401007"
   },
   "outputs": [],
   "source": [
    "(titanic.isna().mean() * 100).round(2)"
   ]
  },
  {
   "cell_type": "markdown",
   "metadata": {
    "id": "UIEarmnSOTRo"
   },
   "source": [
    "### Игнорирование пропусков"
   ]
  },
  {
   "cell_type": "code",
   "execution_count": null,
   "metadata": {
    "colab": {
     "base_uri": "https://localhost:8080/"
    },
    "id": "mPQi3QMROTRo",
    "outputId": "83de92d1-a370-4110-d949-39c05c85cb41"
   },
   "outputs": [],
   "source": [
    "# все методы pandas по-умолчанию просто не берут в расчет пропуски\n",
    "print(titanic['Age'].mean())\n",
    "print(titanic['Age'].median())\n",
    "print(titanic['Age'].mode()[0])\n",
    "\n",
    "print(titanic['Age'].std())\n",
    "print(titanic['Age'].var())"
   ]
  },
  {
   "cell_type": "markdown",
   "metadata": {
    "id": "JjHnj7JvOTRo"
   },
   "source": [
    "### Удаление строк с пропусками"
   ]
  },
  {
   "cell_type": "code",
   "execution_count": null,
   "metadata": {
    "colab": {
     "base_uri": "https://localhost:8080/"
    },
    "id": "igjiWwZ0OTRp",
    "outputId": "503fb922-d23f-4dac-b942-85c788e21d20"
   },
   "outputs": [],
   "source": [
    "titanic.dropna().info()"
   ]
  },
  {
   "cell_type": "code",
   "execution_count": null,
   "metadata": {
    "colab": {
     "base_uri": "https://localhost:8080/"
    },
    "id": "P88KCwMbOTRp",
    "outputId": "78e3f9f4-8509-4c7d-cc4c-ea7e7ee18a57"
   },
   "outputs": [],
   "source": [
    "# посмотрите на сколько исказились статистики, если мы удалим все строки с пропусками\n",
    "print(titanic.dropna()['Age'].mean())\n",
    "print(titanic.dropna()['Age'].median())\n",
    "print(titanic.dropna()['Age'].mode()[0])\n",
    "\n",
    "print(titanic.dropna()['Age'].std())\n",
    "print(titanic.dropna()['Age'].var())"
   ]
  },
  {
   "cell_type": "code",
   "execution_count": null,
   "metadata": {
    "colab": {
     "base_uri": "https://localhost:8080/",
     "height": 424
    },
    "id": "tceNYYnLOTRp",
    "outputId": "dc69c18c-f695-4873-da0c-6975a49b8f0f"
   },
   "outputs": [],
   "source": [
    "# предположим, мы хотим оставить только те строки, в которых как минимум 11/12 значений заполнено\n",
    "titanic.dropna(thresh=11)"
   ]
  },
  {
   "cell_type": "markdown",
   "metadata": {
    "id": "UNW6NFGZOTRq"
   },
   "source": [
    "### Удаление столбцов с пропусками"
   ]
  },
  {
   "cell_type": "code",
   "execution_count": null,
   "metadata": {
    "colab": {
     "base_uri": "https://localhost:8080/"
    },
    "id": "bf4NRQU7OTRq",
    "outputId": "cbc20254-3226-4e16-b0ab-c21e8dd969e8"
   },
   "outputs": [],
   "source": [
    "# удалять все в данном случае – странно\n",
    "titanic.dropna(axis = 1).info()"
   ]
  },
  {
   "cell_type": "code",
   "execution_count": null,
   "metadata": {
    "colab": {
     "base_uri": "https://localhost:8080/"
    },
    "id": "GAjPBsR_OTRq",
    "outputId": "7c17ce9f-84c3-48b5-e35a-bdcb2a95afe4"
   },
   "outputs": [],
   "source": [
    "# у нас очень много пропусков в Cabin. Нам эта информация точно нужна?\n",
    "titanic.drop(['Cabin'], axis=1).info()"
   ]
  },
  {
   "cell_type": "markdown",
   "metadata": {
    "id": "ZBJGGsZJOTRq"
   },
   "source": [
    "### Замена пропусков"
   ]
  },
  {
   "cell_type": "markdown",
   "metadata": {
    "id": "H5fcwKXJOTRr"
   },
   "source": [
    "Замена на определенное значение"
   ]
  },
  {
   "cell_type": "code",
   "execution_count": null,
   "metadata": {
    "colab": {
     "base_uri": "https://localhost:8080/"
    },
    "id": "QvnV0qKTOTRr",
    "outputId": "d8245e13-87d8-4743-caf5-338c7f8e4242"
   },
   "outputs": [],
   "source": [
    "fill_by_cnst = titanic.copy()\n",
    "fill_by_cnst['Cabin'] = fill_by_cnst['Cabin'].fillna('no_info')\n",
    "print(fill_by_cnst['Cabin'].isna().sum())\n",
    "print(fill_by_cnst['Cabin'].unique())"
   ]
  },
  {
   "cell_type": "markdown",
   "metadata": {
    "id": "8K4b4Qg3OTRr"
   },
   "source": [
    "Заполняя пропуски, мы хотим сохранить параметры распределения заполняемой переменной – математическое ожидание и дисперсию. Самый простой способ это сделать – заполнить средним или медианой. В этом случае сохраняется среднее, но дисперсией приходится пожертвовать."
   ]
  },
  {
   "cell_type": "markdown",
   "metadata": {
    "id": "1ydv7RDuOTRr"
   },
   "source": [
    "Замена средним"
   ]
  },
  {
   "cell_type": "code",
   "execution_count": null,
   "metadata": {
    "id": "qCDAE5-tOTRr"
   },
   "outputs": [],
   "source": [
    "# возраст дискретен, при заполнении средними еще стоит округлить. Проигнорируем в учебных целях\n",
    "\n",
    "fill_mean = titanic.copy()\n",
    "\n",
    "fill_mean['Age'] = fill_mean['Age'].fillna(titanic['Age'].mean())"
   ]
  },
  {
   "cell_type": "code",
   "execution_count": null,
   "metadata": {
    "colab": {
     "base_uri": "https://localhost:8080/"
    },
    "id": "ztInDnKAOTRs",
    "outputId": "b9981e54-44eb-42bf-e4b0-a10663fc63e7"
   },
   "outputs": [],
   "source": [
    "print(titanic['Age'].describe())\n",
    "print('-----------------------------------')\n",
    "print(fill_mean['Age'].describe())"
   ]
  },
  {
   "cell_type": "markdown",
   "metadata": {
    "id": "1c65phukOTRs"
   },
   "source": [
    "Замена медианой"
   ]
  },
  {
   "cell_type": "code",
   "execution_count": null,
   "metadata": {
    "id": "uRCllMDQOTRs"
   },
   "outputs": [],
   "source": [
    "fill_median = titanic.copy()\n",
    "\n",
    "fill_median['Age'] = fill_median['Age'].fillna(titanic['Age'].median())"
   ]
  },
  {
   "cell_type": "code",
   "execution_count": null,
   "metadata": {
    "colab": {
     "base_uri": "https://localhost:8080/"
    },
    "id": "9DzUdEaVOTRt",
    "outputId": "d86fcef7-621d-47ca-e560-49d83dcf7b84"
   },
   "outputs": [],
   "source": [
    "print(titanic['Age'].describe())\n",
    "print('-----------------------------------')\n",
    "print(fill_median['Age'].describe())"
   ]
  },
  {
   "cell_type": "markdown",
   "metadata": {
    "id": "Gh-yV-9XOTRt"
   },
   "source": [
    "Замена модой"
   ]
  },
  {
   "cell_type": "code",
   "execution_count": null,
   "metadata": {
    "colab": {
     "base_uri": "https://localhost:8080/"
    },
    "id": "7nuTX959OTRt",
    "outputId": "d5032b33-b47a-49ca-b395-3384d7bc7c0f"
   },
   "outputs": [],
   "source": [
    "titanic['Embarked'].value_counts()"
   ]
  },
  {
   "cell_type": "code",
   "execution_count": null,
   "metadata": {
    "colab": {
     "base_uri": "https://localhost:8080/"
    },
    "id": "50wBovIfOTRu",
    "outputId": "04936bfe-8ce3-4c0b-b3a7-8969144e341a"
   },
   "outputs": [],
   "source": [
    "titanic_fill_mode = titanic.copy()\n",
    "titanic_fill_mode['Embarked'] = titanic_fill_mode['Embarked'].fillna(titanic['Embarked'].mode()[0])\n",
    "\n",
    "titanic_fill_mode['Embarked'].value_counts()"
   ]
  },
  {
   "cell_type": "markdown",
   "metadata": {
    "id": "WHfFjFF3OTRu"
   },
   "source": [
    "В большинстве случаев это слишком наивные варианты заполнения, как минимум стоит заполнять значениями в разрезе других признаков (когда применимо)."
   ]
  },
  {
   "cell_type": "markdown",
   "metadata": {
    "id": "qdUqkPP4OTRu"
   },
   "source": [
    "Заполнение пропусков с группировкой по\n",
    "одной переменной"
   ]
  },
  {
   "cell_type": "code",
   "execution_count": null,
   "metadata": {
    "id": "JP-GDm9mOTRu"
   },
   "outputs": [],
   "source": []
  },
  {
   "cell_type": "code",
   "execution_count": null,
   "metadata": {
    "colab": {
     "base_uri": "https://localhost:8080/"
    },
    "id": "DhCbeuwhOTRu",
    "outputId": "c0b6ba9b-b173-4c43-e120-c1bd80f4865a"
   },
   "outputs": [],
   "source": [
    "# мы не можем исключать, что медианный возраст мужчин и женщин отличался\n",
    "print(titanic.groupby('Sex')['Age'].median())\n",
    "fill_median_by_gender = titanic.copy()\n",
    "fill_median_by_gender['Age'] = fill_median_by_gender['Age'].fillna(titanic.groupby('Sex')['Age'].transform('median'))"
   ]
  },
  {
   "cell_type": "code",
   "execution_count": null,
   "metadata": {
    "colab": {
     "base_uri": "https://localhost:8080/"
    },
    "id": "GocBAYpAOTRv",
    "outputId": "c34404e6-b244-446e-d7a2-f0b05cd2fdb0",
    "scrolled": true
   },
   "outputs": [],
   "source": [
    "# а может быть и в разных классах были пассажиры разного возраста?\n",
    "print(titanic.groupby(['Sex', 'Pclass'])['Age'].median())\n",
    "fill_median_by_groups = titanic.copy()\n",
    "fill_median_by_groups['Age'] = fill_median_by_groups['Age'].fillna(titanic.groupby(['Sex', 'Pclass'])['Age'].transform('median'))"
   ]
  },
  {
   "cell_type": "code",
   "execution_count": null,
   "metadata": {
    "id": "q7hYk_-yOTRv"
   },
   "outputs": [],
   "source": []
  },
  {
   "cell_type": "markdown",
   "metadata": {
    "id": "66JdtYTsOTRv"
   },
   "source": [
    "Заполнение следующими/предыдущими значениями"
   ]
  },
  {
   "cell_type": "code",
   "execution_count": null,
   "metadata": {
    "colab": {
     "base_uri": "https://localhost:8080/"
    },
    "id": "L79CyziKOTRv",
    "outputId": "de8dce68-bf22-4ea8-849e-6cd523ad9c4c"
   },
   "outputs": [],
   "source": [
    "city_day = pd.read_csv('https://raw.githubusercontent.com/obulygin/netology_pyda_files/main/city_day.csv', parse_dates=True, index_col='Date')\n",
    "city_day.info()"
   ]
  },
  {
   "cell_type": "code",
   "execution_count": null,
   "metadata": {
    "colab": {
     "base_uri": "https://localhost:8080/",
     "height": 455
    },
    "id": "xIPjjKlfOTRw",
    "outputId": "fe784f77-d40c-422e-b4ce-a1c8512fc5ac"
   },
   "outputs": [],
   "source": [
    "city_day"
   ]
  },
  {
   "cell_type": "code",
   "execution_count": null,
   "metadata": {
    "colab": {
     "base_uri": "https://localhost:8080/"
    },
    "id": "sHrWiaV5OTRw",
    "outputId": "dfe36439-1f7a-483d-fb72-f8656e319cec"
   },
   "outputs": [],
   "source": [
    "(city_day.isna().mean() * 100).round(2)"
   ]
  },
  {
   "cell_type": "code",
   "execution_count": null,
   "metadata": {
    "id": "Jn07fETbOTRw"
   },
   "outputs": [],
   "source": [
    "city_day.fillna(method='ffill', inplace=True)"
   ]
  },
  {
   "cell_type": "code",
   "execution_count": null,
   "metadata": {
    "id": "lnfP2GinOTRx"
   },
   "outputs": [],
   "source": [
    "city_day.fillna(method='bfill', inplace=True)"
   ]
  },
  {
   "cell_type": "code",
   "execution_count": null,
   "metadata": {
    "colab": {
     "base_uri": "https://localhost:8080/"
    },
    "id": "n45437kpOTRx",
    "outputId": "912ce6a3-d729-4db6-f1a7-e4c1c5a55953"
   },
   "outputs": [],
   "source": [
    "(city_day.isna().mean() * 100).round(2)"
   ]
  }
 ],
 "metadata": {
  "colab": {
   "provenance": []
  },
  "kernelspec": {
   "display_name": "Python 3",
   "language": "python",
   "name": "python3"
  },
  "language_info": {
   "codemirror_mode": {
    "name": "ipython",
    "version": 3
   },
   "file_extension": ".py",
   "mimetype": "text/x-python",
   "name": "python",
   "nbconvert_exporter": "python",
   "pygments_lexer": "ipython3",
   "version": "3.8.3"
  }
 },
 "nbformat": 4,
 "nbformat_minor": 1
}
