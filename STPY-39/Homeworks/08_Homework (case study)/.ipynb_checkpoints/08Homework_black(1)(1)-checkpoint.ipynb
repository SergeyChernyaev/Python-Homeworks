{
 "cells": [
  {
   "cell_type": "markdown",
   "metadata": {},
   "source": [
    "# Домашнее задание к лекции \"Статистика. Практика\""
   ]
  },
  {
   "cell_type": "markdown",
   "metadata": {},
   "source": [
    "## Задание 1"
   ]
  },
  {
   "cell_type": "markdown",
   "metadata": {},
   "source": [
    "Вернемся к [набору данных о видеоиграх](https://github.com/obulygin/pyda_homeworks/blob/master/stat_case_study/vgsales.csv).\n",
    "\n",
    "Ответьте на следующие вопросы:\n",
    "\n",
    "1) Как критики относятся к спортивным играм?  \n",
    "2) Критикам нравятся больше игры на PC или на PS4?  \n",
    "3) Критикам больше нравятся стрелялки или стратегии?  \n",
    "\n",
    "Для каждого вопроса:\n",
    "- сформулируйте нулевую и альтернативную гипотезы;\n",
    "- выберите пороговый уровень статистической значимости;\n",
    "- опишите полученные результаты статистического теста."
   ]
  },
  {
   "cell_type": "code",
   "execution_count": 2,
   "metadata": {},
   "outputs": [],
   "source": [
    " # Подгрузим пакеты \n",
    "import pandas as pd\n",
    "import numpy as np\n",
    "import matplotlib\n",
    "import matplotlib.pyplot as plt\n",
    "from scipy import stats \n",
    "matplotlib.style.use('ggplot')\n",
    "%matplotlib inline\n",
    "import seaborn as sns\n",
    "import scipy "
   ]
  },
  {
   "cell_type": "code",
   "execution_count": 3,
   "metadata": {},
   "outputs": [
    {
     "data": {
      "text/plain": [
       "'1.7.3'"
      ]
     },
     "execution_count": 3,
     "metadata": {},
     "output_type": "execute_result"
    }
   ],
   "source": [
    "scipy.version.version  # какая версия библиотеки используется"
   ]
  },
  {
   "cell_type": "code",
   "execution_count": 4,
   "metadata": {},
   "outputs": [
    {
     "name": "stderr",
     "output_type": "stream",
     "text": [
      "/tmp/ipykernel_58/3626687765.py:1: FutureWarning: The error_bad_lines argument has been deprecated and will be removed in a future version. Use on_bad_lines in the future.\n",
      "\n",
      "\n",
      "  df_games = pd.read_csv('vgsales.csv', error_bad_lines=False)  # Откроем датасет\n"
     ]
    },
    {
     "data": {
      "text/html": [
       "<div>\n",
       "<style scoped>\n",
       "    .dataframe tbody tr th:only-of-type {\n",
       "        vertical-align: middle;\n",
       "    }\n",
       "\n",
       "    .dataframe tbody tr th {\n",
       "        vertical-align: top;\n",
       "    }\n",
       "\n",
       "    .dataframe thead th {\n",
       "        text-align: right;\n",
       "    }\n",
       "</style>\n",
       "<table border=\"1\" class=\"dataframe\">\n",
       "  <thead>\n",
       "    <tr style=\"text-align: right;\">\n",
       "      <th></th>\n",
       "      <th>Name</th>\n",
       "      <th>Platform</th>\n",
       "      <th>Year_of_Release</th>\n",
       "      <th>Genre</th>\n",
       "      <th>Publisher</th>\n",
       "      <th>NA_Sales</th>\n",
       "      <th>EU_Sales</th>\n",
       "      <th>JP_Sales</th>\n",
       "      <th>Other_Sales</th>\n",
       "      <th>Global_Sales</th>\n",
       "      <th>Critic_Score</th>\n",
       "      <th>Critic_Count</th>\n",
       "      <th>User_Score</th>\n",
       "      <th>User_Count</th>\n",
       "      <th>Developer</th>\n",
       "      <th>Rating</th>\n",
       "    </tr>\n",
       "  </thead>\n",
       "  <tbody>\n",
       "    <tr>\n",
       "      <th>0</th>\n",
       "      <td>Wii Sports</td>\n",
       "      <td>Wii</td>\n",
       "      <td>2006.0</td>\n",
       "      <td>Sports</td>\n",
       "      <td>Nintendo</td>\n",
       "      <td>41.36</td>\n",
       "      <td>28.96</td>\n",
       "      <td>3.77</td>\n",
       "      <td>8.45</td>\n",
       "      <td>82.53</td>\n",
       "      <td>76.0</td>\n",
       "      <td>51.0</td>\n",
       "      <td>8</td>\n",
       "      <td>322.0</td>\n",
       "      <td>Nintendo</td>\n",
       "      <td>E</td>\n",
       "    </tr>\n",
       "    <tr>\n",
       "      <th>1</th>\n",
       "      <td>Super Mario Bros.</td>\n",
       "      <td>NES</td>\n",
       "      <td>1985.0</td>\n",
       "      <td>Platform</td>\n",
       "      <td>Nintendo</td>\n",
       "      <td>29.08</td>\n",
       "      <td>3.58</td>\n",
       "      <td>6.81</td>\n",
       "      <td>0.77</td>\n",
       "      <td>40.24</td>\n",
       "      <td>NaN</td>\n",
       "      <td>NaN</td>\n",
       "      <td>NaN</td>\n",
       "      <td>NaN</td>\n",
       "      <td>NaN</td>\n",
       "      <td>NaN</td>\n",
       "    </tr>\n",
       "    <tr>\n",
       "      <th>2</th>\n",
       "      <td>Mario Kart Wii</td>\n",
       "      <td>Wii</td>\n",
       "      <td>2008.0</td>\n",
       "      <td>Racing</td>\n",
       "      <td>Nintendo</td>\n",
       "      <td>15.68</td>\n",
       "      <td>12.76</td>\n",
       "      <td>3.79</td>\n",
       "      <td>3.29</td>\n",
       "      <td>35.52</td>\n",
       "      <td>82.0</td>\n",
       "      <td>73.0</td>\n",
       "      <td>8.3</td>\n",
       "      <td>709.0</td>\n",
       "      <td>Nintendo</td>\n",
       "      <td>E</td>\n",
       "    </tr>\n",
       "    <tr>\n",
       "      <th>3</th>\n",
       "      <td>Wii Sports Resort</td>\n",
       "      <td>Wii</td>\n",
       "      <td>2009.0</td>\n",
       "      <td>Sports</td>\n",
       "      <td>Nintendo</td>\n",
       "      <td>15.61</td>\n",
       "      <td>10.93</td>\n",
       "      <td>3.28</td>\n",
       "      <td>2.95</td>\n",
       "      <td>32.77</td>\n",
       "      <td>80.0</td>\n",
       "      <td>73.0</td>\n",
       "      <td>8</td>\n",
       "      <td>192.0</td>\n",
       "      <td>Nintendo</td>\n",
       "      <td>E</td>\n",
       "    </tr>\n",
       "    <tr>\n",
       "      <th>4</th>\n",
       "      <td>Pokemon Red/Pokemon Blue</td>\n",
       "      <td>GB</td>\n",
       "      <td>1996.0</td>\n",
       "      <td>Role-Playing</td>\n",
       "      <td>Nintendo</td>\n",
       "      <td>11.27</td>\n",
       "      <td>8.89</td>\n",
       "      <td>10.22</td>\n",
       "      <td>1.00</td>\n",
       "      <td>31.37</td>\n",
       "      <td>NaN</td>\n",
       "      <td>NaN</td>\n",
       "      <td>NaN</td>\n",
       "      <td>NaN</td>\n",
       "      <td>NaN</td>\n",
       "      <td>NaN</td>\n",
       "    </tr>\n",
       "  </tbody>\n",
       "</table>\n",
       "</div>"
      ],
      "text/plain": [
       "                       Name Platform  Year_of_Release         Genre Publisher  \\\n",
       "0                Wii Sports      Wii           2006.0        Sports  Nintendo   \n",
       "1         Super Mario Bros.      NES           1985.0      Platform  Nintendo   \n",
       "2            Mario Kart Wii      Wii           2008.0        Racing  Nintendo   \n",
       "3         Wii Sports Resort      Wii           2009.0        Sports  Nintendo   \n",
       "4  Pokemon Red/Pokemon Blue       GB           1996.0  Role-Playing  Nintendo   \n",
       "\n",
       "   NA_Sales  EU_Sales  JP_Sales  Other_Sales  Global_Sales  Critic_Score  \\\n",
       "0     41.36     28.96      3.77         8.45         82.53          76.0   \n",
       "1     29.08      3.58      6.81         0.77         40.24           NaN   \n",
       "2     15.68     12.76      3.79         3.29         35.52          82.0   \n",
       "3     15.61     10.93      3.28         2.95         32.77          80.0   \n",
       "4     11.27      8.89     10.22         1.00         31.37           NaN   \n",
       "\n",
       "   Critic_Count User_Score  User_Count Developer Rating  \n",
       "0          51.0          8       322.0  Nintendo      E  \n",
       "1           NaN        NaN         NaN       NaN    NaN  \n",
       "2          73.0        8.3       709.0  Nintendo      E  \n",
       "3          73.0          8       192.0  Nintendo      E  \n",
       "4           NaN        NaN         NaN       NaN    NaN  "
      ]
     },
     "metadata": {},
     "output_type": "display_data"
    },
    {
     "name": "stdout",
     "output_type": "stream",
     "text": [
      "<class 'pandas.core.frame.DataFrame'>\n",
      "RangeIndex: 16719 entries, 0 to 16718\n",
      "Data columns (total 16 columns):\n",
      " #   Column           Non-Null Count  Dtype  \n",
      "---  ------           --------------  -----  \n",
      " 0   Name             16717 non-null  object \n",
      " 1   Platform         16719 non-null  object \n",
      " 2   Year_of_Release  16450 non-null  float64\n",
      " 3   Genre            16717 non-null  object \n",
      " 4   Publisher        16665 non-null  object \n",
      " 5   NA_Sales         16719 non-null  float64\n",
      " 6   EU_Sales         16719 non-null  float64\n",
      " 7   JP_Sales         16719 non-null  float64\n",
      " 8   Other_Sales      16719 non-null  float64\n",
      " 9   Global_Sales     16719 non-null  float64\n",
      " 10  Critic_Score     8137 non-null   float64\n",
      " 11  Critic_Count     8137 non-null   float64\n",
      " 12  User_Score       10015 non-null  object \n",
      " 13  User_Count       7590 non-null   float64\n",
      " 14  Developer        10096 non-null  object \n",
      " 15  Rating           9950 non-null   object \n",
      "dtypes: float64(9), object(7)\n",
      "memory usage: 2.0+ MB\n"
     ]
    },
    {
     "data": {
      "text/plain": [
       "None"
      ]
     },
     "metadata": {},
     "output_type": "display_data"
    }
   ],
   "source": [
    "df_games = pd.read_csv('vgsales.csv', error_bad_lines=False)  # Откроем датасет\n",
    "display(df_games.head())\n",
    "display(df_games.info())\n"
   ]
  },
  {
   "cell_type": "markdown",
   "metadata": {},
   "source": [
    "Очистка и препроцессинг:\n"
   ]
  },
  {
   "cell_type": "code",
   "execution_count": 5,
   "metadata": {},
   "outputs": [
    {
     "data": {
      "text/plain": [
       "array(['8', nan, '8.3', '8.5', '6.6', '8.4', '8.6', '7.7', '6.3', '7.4',\n",
       "       '8.2', '9', '7.9', '8.1', '8.7', '7.1', '3.4', '5.3', '4.8', '3.2',\n",
       "       '8.9', '6.4', '7.8', '7.5', '2.6', '7.2', '9.2', '7', '7.3', '4.3',\n",
       "       '7.6', '5.7', '5', '9.1', '6.5', 'tbd', '8.8', '6.9', '9.4', '6.8',\n",
       "       '6.1', '6.7', '5.4', '4', '4.9', '4.5', '9.3', '6.2', '4.2', '6',\n",
       "       '3.7', '4.1', '5.8', '5.6', '5.5', '4.4', '4.6', '5.9', '3.9',\n",
       "       '3.1', '2.9', '5.2', '3.3', '4.7', '5.1', '3.5', '2.5', '1.9', '3',\n",
       "       '2.7', '2.2', '2', '9.5', '2.1', '3.6', '2.8', '1.8', '3.8', '0',\n",
       "       '1.6', '9.6', '2.4', '1.7', '1.1', '0.3', '1.5', '0.7', '1.2',\n",
       "       '2.3', '0.5', '1.3', '0.2', '0.6', '1.4', '0.9', '1', '9.7'],\n",
       "      dtype=object)"
      ]
     },
     "execution_count": 5,
     "metadata": {},
     "output_type": "execute_result"
    }
   ],
   "source": [
    "df_games['User_Score'].unique()"
   ]
  },
  {
   "cell_type": "code",
   "execution_count": 6,
   "metadata": {},
   "outputs": [
    {
     "data": {
      "text/plain": [
       "array([76., nan, 82., 80., 89., 58., 87., 91., 61., 97., 95., 77., 88.,\n",
       "       83., 94., 93., 85., 86., 98., 96., 90., 84., 73., 74., 78., 92.,\n",
       "       71., 72., 68., 62., 49., 67., 81., 66., 56., 79., 70., 59., 64.,\n",
       "       75., 60., 63., 69., 50., 25., 42., 44., 55., 48., 57., 29., 47.,\n",
       "       65., 54., 20., 53., 37., 38., 33., 52., 30., 32., 43., 45., 51.,\n",
       "       40., 46., 39., 34., 35., 41., 36., 28., 31., 27., 26., 19., 23.,\n",
       "       24., 21., 17., 22., 13.])"
      ]
     },
     "execution_count": 6,
     "metadata": {},
     "output_type": "execute_result"
    }
   ],
   "source": [
    "df_games['Critic_Score'] = df_games['Critic_Score'].replace('tbd', np.NaN)\n",
    "df_games['User_Score'] = df_games['Critic_Score'].replace('tbd', np.NaN)\n",
    "df_games['Critic_Score'].unique()"
   ]
  },
  {
   "cell_type": "code",
   "execution_count": 7,
   "metadata": {},
   "outputs": [
    {
     "data": {
      "text/plain": [
       "array([76., nan, 82., 80., 89., 58., 87., 91., 61., 97., 95., 77., 88.,\n",
       "       83., 94., 93., 85., 86., 98., 96., 90., 84., 73., 74., 78., 92.,\n",
       "       71., 72., 68., 62., 49., 67., 81., 66., 56., 79., 70., 59., 64.,\n",
       "       75., 60., 63., 69., 50., 25., 42., 44., 55., 48., 57., 29., 47.,\n",
       "       65., 54., 20., 53., 37., 38., 33., 52., 30., 32., 43., 45., 51.,\n",
       "       40., 46., 39., 34., 35., 41., 36., 28., 31., 27., 26., 19., 23.,\n",
       "       24., 21., 17., 22., 13.])"
      ]
     },
     "execution_count": 7,
     "metadata": {},
     "output_type": "execute_result"
    }
   ],
   "source": [
    "df_games['User_Score'].unique()"
   ]
  },
  {
   "cell_type": "markdown",
   "metadata": {},
   "source": [
    "Уточнение типов данных:"
   ]
  },
  {
   "cell_type": "code",
   "execution_count": 8,
   "metadata": {},
   "outputs": [],
   "source": [
    "# исправим типы данных\n",
    "df_games['Year_of_Release'] = df_games['Year_of_Release'].astype('Int64')\n",
    "df_games['User_Count'] = df_games['User_Count'].astype('Int64')\n",
    "df_games['User_Score'] = df_games['User_Score'].astype('float64')\n",
    "df_games['Critic_Count'] = df_games['Critic_Count'].astype('float64')\n",
    "\n"
   ]
  },
  {
   "cell_type": "markdown",
   "metadata": {},
   "source": [
    "Удалим из датасета строки с незаполненными оценками критиков:"
   ]
  },
  {
   "cell_type": "code",
   "execution_count": 9,
   "metadata": {},
   "outputs": [
    {
     "name": "stdout",
     "output_type": "stream",
     "text": [
      "Количество всего значений: 16719\n",
      "Процент ненулевых значений: 48.67\n",
      "Процент нулевых значений:51.33\n",
      "После обработки:\n",
      "Количество всего значений: 8137\n",
      "Процент ненулевых значений: 100.00\n",
      "Процент нулевых значений:0.00\n"
     ]
    }
   ],
   "source": [
    "# Удалим строки с незаполнеными значениями оценок критиков:\n",
    "pct_all = len(df_games['Critic_Score'])\n",
    "pct_count = np.mean(df_games['Critic_Score'].notna())\n",
    "pct_missing = np.mean(df_games['Critic_Score'].isnull())\n",
    "print('Количество всего значений:', pct_all)\n",
    "print(f'Процент ненулевых значений: {pct_count*100:.2f}')\n",
    "print(f'Процент нулевых значений:{pct_missing*100:.2f}')\n",
    "\n",
    "df_games = df_games.dropna(subset=['Critic_Score'])\n",
    "print ('После обработки:')\n",
    "pct_all = len(df_games['Critic_Score'])\n",
    "pct_count = np.mean(df_games['Critic_Score'].notna())\n",
    "pct_missing = np.mean(df_games['Critic_Score'].isnull())\n",
    "print('Количество всего значений:', pct_all)\n",
    "print(f'Процент ненулевых значений: {pct_count*100:.2f}')\n",
    "print(f'Процент нулевых значений:{pct_missing*100:.2f}')\n"
   ]
  },
  {
   "cell_type": "markdown",
   "metadata": {},
   "source": [
    "**1) Как критики относятся к спортивным играм?**"
   ]
  },
  {
   "cell_type": "markdown",
   "metadata": {},
   "source": [
    "Дополним вопрос поставленный на резрешение: Как критики относятся к спортивным играм ***по сравнению со всеми другими видами игр?***"
   ]
  },
  {
   "cell_type": "code",
   "execution_count": 10,
   "metadata": {},
   "outputs": [],
   "source": [
    "# Выделим датасет спортивных игр:\n",
    "df_sports = df_games[df_games['Genre'] == 'Sports']\n",
    "# И всех остальных игр:\n",
    "df_others = df_games[df_games['Genre'] != 'Sports']"
   ]
  },
  {
   "cell_type": "code",
   "execution_count": 11,
   "metadata": {},
   "outputs": [
    {
     "name": "stdout",
     "output_type": "stream",
     "text": [
      "<class 'pandas.core.frame.DataFrame'>\n",
      "Int64Index: 1194 entries, 0 to 16555\n",
      "Data columns (total 16 columns):\n",
      " #   Column           Non-Null Count  Dtype  \n",
      "---  ------           --------------  -----  \n",
      " 0   Name             1194 non-null   object \n",
      " 1   Platform         1194 non-null   object \n",
      " 2   Year_of_Release  1165 non-null   Int64  \n",
      " 3   Genre            1194 non-null   object \n",
      " 4   Publisher        1194 non-null   object \n",
      " 5   NA_Sales         1194 non-null   float64\n",
      " 6   EU_Sales         1194 non-null   float64\n",
      " 7   JP_Sales         1194 non-null   float64\n",
      " 8   Other_Sales      1194 non-null   float64\n",
      " 9   Global_Sales     1194 non-null   float64\n",
      " 10  Critic_Score     1194 non-null   float64\n",
      " 11  Critic_Count     1194 non-null   float64\n",
      " 12  User_Score       1194 non-null   float64\n",
      " 13  User_Count       973 non-null    Int64  \n",
      " 14  Developer        1191 non-null   object \n",
      " 15  Rating           1181 non-null   object \n",
      "dtypes: Int64(2), float64(8), object(6)\n",
      "memory usage: 160.9+ KB\n",
      "<class 'pandas.core.frame.DataFrame'>\n",
      "Int64Index: 6943 entries, 2 to 16709\n",
      "Data columns (total 16 columns):\n",
      " #   Column           Non-Null Count  Dtype  \n",
      "---  ------           --------------  -----  \n",
      " 0   Name             6943 non-null   object \n",
      " 1   Platform         6943 non-null   object \n",
      " 2   Year_of_Release  6818 non-null   Int64  \n",
      " 3   Genre            6943 non-null   object \n",
      " 4   Publisher        6939 non-null   object \n",
      " 5   NA_Sales         6943 non-null   float64\n",
      " 6   EU_Sales         6943 non-null   float64\n",
      " 7   JP_Sales         6943 non-null   float64\n",
      " 8   Other_Sales      6943 non-null   float64\n",
      " 9   Global_Sales     6943 non-null   float64\n",
      " 10  Critic_Score     6943 non-null   float64\n",
      " 11  Critic_Count     6943 non-null   float64\n",
      " 12  User_Score       6943 non-null   float64\n",
      " 13  User_Count       6044 non-null   Int64  \n",
      " 14  Developer        6940 non-null   object \n",
      " 15  Rating           6873 non-null   object \n",
      "dtypes: Int64(2), float64(8), object(6)\n",
      "memory usage: 935.7+ KB\n"
     ]
    }
   ],
   "source": [
    "df_sports.info()\n",
    "df_others.info()"
   ]
  },
  {
   "cell_type": "code",
   "execution_count": 12,
   "metadata": {},
   "outputs": [
    {
     "name": "stdout",
     "output_type": "stream",
     "text": [
      "Среднее значение оценки критиков по классу спортивных игр: 72.0\n",
      "Среднее значение оценки критиков по всем остальным классам игр: 68.5\n"
     ]
    },
    {
     "name": "stderr",
     "output_type": "stream",
     "text": [
      "/opt/conda/envs/anaconda-2022.05-py39/lib/python3.9/site-packages/seaborn/distributions.py:2619: FutureWarning: `distplot` is a deprecated function and will be removed in a future version. Please adapt your code to use either `displot` (a figure-level function with similar flexibility) or `histplot` (an axes-level function for histograms).\n",
      "  warnings.warn(msg, FutureWarning)\n",
      "/opt/conda/envs/anaconda-2022.05-py39/lib/python3.9/site-packages/seaborn/distributions.py:2619: FutureWarning: `distplot` is a deprecated function and will be removed in a future version. Please adapt your code to use either `displot` (a figure-level function with similar flexibility) or `histplot` (an axes-level function for histograms).\n",
      "  warnings.warn(msg, FutureWarning)\n"
     ]
    },
    {
     "data": {
      "image/png": "[encoded data removed]",
      "text/plain": [
       "<Figure size 1080x360 with 3 Axes>"
      ]
     },
     "metadata": {
      "needs_background": "light"
     },
     "output_type": "display_data"
    }
   ],
   "source": [
    "print(f'Среднее значение оценки критиков по классу спортивных игр: {df_sports[\"Critic_Score\"].mean():.1f}')\n",
    "print(f'Среднее значение оценки критиков по всем остальным классам игр: {df_others[\"Critic_Score\"].mean():.1f}')\n",
    "\n",
    "plt.figure(figsize=(15, 5))\n",
    "plt.subplot(1,3,1).set(title='Распределения оценок критиков:')\n",
    "plt.ylabel('Плотность')\n",
    "sns.distplot(df_sports['Critic_Score'])\n",
    "sns.distplot(df_others['Critic_Score'])\n",
    "\n",
    "plt.subplot(1,3,2).set(title='Бокс Sports Games')\n",
    "sns.boxplot(y=df_sports['Critic_Score'])\n",
    "plt.subplot(1,3,3).set(title='Бокс Others Games')\n",
    "sns.boxplot(y=df_others['Critic_Score'])\n",
    "plt.show()"
   ]
  },
  {
   "cell_type": "code",
   "execution_count": 13,
   "metadata": {},
   "outputs": [
    {
     "name": "stdout",
     "output_type": "stream",
     "text": [
      "Проверка нормальности распределения. Тест Колмогорова-Смирнова:\n",
      "Для спортивных игр, KS-statistic: 1.000000, p-value: 0.000000\n",
      "Для платформы PS4, KS-statistic:: 1.000000, p-value: 0.000000\n"
     ]
    }
   ],
   "source": [
    "significance = 0.05\n",
    "print('Проверка нормальности распределения. Тест Колмогорова-Смирнова:')\n",
    "\n",
    "print(\"Для спортивных игр, KS-statistic: %f, p-value: %f\" % stats.kstest(df_sports[\"Critic_Score\"], 'norm'))\n",
    "print(\"Для платформы PS4, KS-statistic:: %f, p-value: %f\" % stats.kstest(df_others[\"Critic_Score\"], 'norm'))"
   ]
  },
  {
   "cell_type": "markdown",
   "metadata": {},
   "source": [
    "Распределение обеих выборок не подчиняется нормальному закону, однако для выборок большого размера (более 30 значений) согласно центральной предельной теореме среднее значение выборки и стандартного отклонения будет равняться среднему значению генеральной совокупности и стандартному отклонению. На практике это означает лопустимость применения критерия Стьюдента для оценки среднего и для распределений не подчиняющихся нормальному закону."
   ]
  },
  {
   "cell_type": "markdown",
   "metadata": {},
   "source": [
    "Определим насколько статистически значима разница между средними  при помощи одностороннего  теста **Стьюдента**:\n",
    "1. **H0:**  *среднее значение оценок критиков для спортивных игр меньше или равно среднему значению обобщенных оценок критиков для всех остальных жанров.*\n",
    "2. **H1:**  *среднее значение оценок критиков для спортивных игр больше среднего значения  обобщенных оценок критиков для всех остальных жанров.*\n",
    "среднее значение оценок критиков для спортивных игр больше среднего значения  обобщенных оценок критиков для всех остальных жанров"
   ]
  },
  {
   "cell_type": "code",
   "execution_count": 14,
   "metadata": {},
   "outputs": [
    {
     "name": "stdout",
     "output_type": "stream",
     "text": [
      "\n",
      "По двухвыборочному одностороннему t-тесту Стьюдента:\n",
      "t_value: 8.085, _pvalue: 0.000 заданный уровень значимости: 0.100\n",
      "На 0.10 уровене значимости, мы отвергаем нулевую гипотезе и принимаем альтернативную гипотезу.\n",
      "Среднее значение оценок критиков для спортивных игр больше среднего значения  обобщенных оценок критиков для всех остальных жанров.\n",
      "\n"
     ]
    }
   ],
   "source": [
    "significance = 0.05*2 # увеличим уровень значимости, поскольку используем односторонний критерий\n",
    "\n",
    "tvalueSt, pvalueSt = stats.ttest_ind(df_sports[\"Critic_Score\"], df_others[\"Critic_Score\"], alternative = 'greater')\n",
    "print ('\\nПо двухвыборочному одностороннему t-тесту Стьюдента:')\n",
    "print(f't_value: {tvalueSt:.3f}, _pvalue: {pvalueSt:.3f} заданный уровень значимости: {significance:.3f}')\n",
    "\n",
    "if pvalueSt <= significance:\n",
    "    print(f'На {significance:.2f} уровене значимости, мы отвергаем нулевую гипотезе и принимаем альтернативную гипотезу.')\n",
    "    print('Среднее значение оценок критиков для спортивных игр больше ', end='')\n",
    "    print('среднего значения  обобщенных оценок критиков для всех остальных жанров.')\n",
    "else:\n",
    "    print(f'На {significance:.2f} уровене значимости, мы не можем отвергнуть нулевую гипотезу:')\n",
    "    print('Среднее значение оценок критиков для спортивных игр меньше или равно ', end='')\n",
    "    print('среднему значению обобщенных оценок критиков для всех остальных жанров.')\n",
    "print('')"
   ]
  },
  {
   "cell_type": "markdown",
   "metadata": {},
   "source": [
    "**Вывод:** Критики в среднем  благосклонее к спортивным играм чем  к в общей массе остальным другим жанрам. И это статистически значимая разница."
   ]
  },
  {
   "cell_type": "markdown",
   "metadata": {},
   "source": [
    "**2) Критикам нравятся больше игры на PC или на PS4?**"
   ]
  },
  {
   "cell_type": "code",
   "execution_count": 15,
   "metadata": {},
   "outputs": [
    {
     "name": "stdout",
     "output_type": "stream",
     "text": [
      "['Wii' 'DS' 'X360' 'PS3' 'PS2' '3DS' 'PS4' 'PS' 'XB' 'PC' 'PSP' 'WiiU'\n",
      " 'GC' 'GBA' 'XOne' 'PSV' 'DC']\n"
     ]
    }
   ],
   "source": [
    "# Выделим датасеты игр на PC или PS4:\n",
    "print(df_games.Platform.unique())\n",
    "df_PC = df_games[df_games['Platform'] == 'PC']\n",
    "df_PS4= df_games[df_games['Platform'] == 'PS4']\n"
   ]
  },
  {
   "cell_type": "markdown",
   "metadata": {},
   "source": [
    "Выборка по играм  на платформе PC:"
   ]
  },
  {
   "cell_type": "code",
   "execution_count": 16,
   "metadata": {},
   "outputs": [
    {
     "data": {
      "text/plain": [
       "count    715.000000\n",
       "mean      75.928671\n",
       "std       11.170775\n",
       "min       33.000000\n",
       "25%       70.000000\n",
       "50%       78.000000\n",
       "75%       84.000000\n",
       "max       96.000000\n",
       "Name: Critic_Score, dtype: float64"
      ]
     },
     "metadata": {},
     "output_type": "display_data"
    }
   ],
   "source": [
    "display(df_PC['Critic_Score'].describe())\n"
   ]
  },
  {
   "cell_type": "markdown",
   "metadata": {},
   "source": [
    "Выборка по играм  на платформе PS4:"
   ]
  },
  {
   "cell_type": "code",
   "execution_count": 17,
   "metadata": {},
   "outputs": [
    {
     "data": {
      "text/plain": [
       "count    252.000000\n",
       "mean      72.091270\n",
       "std       12.485992\n",
       "min       19.000000\n",
       "25%       66.000000\n",
       "50%       73.000000\n",
       "75%       80.000000\n",
       "max       97.000000\n",
       "Name: Critic_Score, dtype: float64"
      ]
     },
     "metadata": {},
     "output_type": "display_data"
    }
   ],
   "source": [
    "display(df_PS4['Critic_Score'].describe())"
   ]
  },
  {
   "cell_type": "markdown",
   "metadata": {},
   "source": [
    "Визуализируем распределения: "
   ]
  },
  {
   "cell_type": "code",
   "execution_count": 18,
   "metadata": {},
   "outputs": [
    {
     "name": "stderr",
     "output_type": "stream",
     "text": [
      "/opt/conda/envs/anaconda-2022.05-py39/lib/python3.9/site-packages/seaborn/distributions.py:2619: FutureWarning: `distplot` is a deprecated function and will be removed in a future version. Please adapt your code to use either `displot` (a figure-level function with similar flexibility) or `histplot` (an axes-level function for histograms).\n",
      "  warnings.warn(msg, FutureWarning)\n",
      "/opt/conda/envs/anaconda-2022.05-py39/lib/python3.9/site-packages/seaborn/distributions.py:2619: FutureWarning: `distplot` is a deprecated function and will be removed in a future version. Please adapt your code to use either `displot` (a figure-level function with similar flexibility) or `histplot` (an axes-level function for histograms).\n",
      "  warnings.warn(msg, FutureWarning)\n"
     ]
    },
    {
     "data": {
      "image/png": "[encoded data removed]",
      "text/plain": [
       "<Figure size 1080x360 with 3 Axes>"
      ]
     },
     "metadata": {
      "needs_background": "light"
     },
     "output_type": "display_data"
    }
   ],
   "source": [
    "plt.figure(figsize=(15, 5))\n",
    "plt.subplot(1,3,1).set(title='Распределения оценок критиков:')\n",
    "plt.ylabel('Плотность')\n",
    "sns.distplot(df_PC['Critic_Score'])\n",
    "sns.distplot(df_PS4['Critic_Score'])\n",
    "\n",
    "plt.subplot(1,3,2).set(title='Бокс PC')\n",
    "sns.boxplot(y=df_PC['Critic_Score'])\n",
    "plt.subplot(1,3,3).set(title='Бокс PS4')\n",
    "sns.boxplot(y=df_PS4['Critic_Score'])\n",
    "plt.show()"
   ]
  },
  {
   "cell_type": "code",
   "execution_count": 19,
   "metadata": {
    "scrolled": true
   },
   "outputs": [
    {
     "name": "stdout",
     "output_type": "stream",
     "text": [
      "Средняя оценка критиков на платформе PC: 75.9\n",
      "Средняя оценка критиков на платформе PS4: 72.1\n"
     ]
    }
   ],
   "source": [
    "print(f'Средняя оценка критиков на платформе PC: {df_PC[\"Critic_Score\"].mean():.1f}')\n",
    "print(f'Средняя оценка критиков на платформе PS4: {df_PS4[\"Critic_Score\"].mean():.1f}')"
   ]
  },
  {
   "cell_type": "markdown",
   "metadata": {},
   "source": [
    "Определим насколько статистически значима разница между средними  при помощи одностороннего  теста **Стьюдента**:\n",
    "1. **H0:**  *среднее значение оценок критиков для платформы PC меньше или равно среднему значению оценок критиков для платформы PS4..*\n",
    "2. **H1:**  *среднее значение оценок критиков для платформы PC больше среднего значения оценок критиков для платформы PS4.*\n"
   ]
  },
  {
   "cell_type": "code",
   "execution_count": 20,
   "metadata": {},
   "outputs": [
    {
     "name": "stdout",
     "output_type": "stream",
     "text": [
      "\n",
      "По двухвыборочному одностороннему t-тесту Стьюдента:\n",
      "t_value: 4.544, _pvalue: 0.000 заданный уровень значимости: 0.100\n",
      "На 0.10 уровене значимости, мы отвергаем нулевую гипотезе и принимаем альтернативную гипотезу.\n",
      "Cреднее значение оценок критиков для платформы PC больше среднего значения оценок критиков для платформы PS4.\n",
      "\n"
     ]
    },
    {
     "name": "stderr",
     "output_type": "stream",
     "text": [
      "/opt/conda/envs/anaconda-2022.05-py39/lib/python3.9/site-packages/seaborn/distributions.py:2619: FutureWarning: `distplot` is a deprecated function and will be removed in a future version. Please adapt your code to use either `displot` (a figure-level function with similar flexibility) or `histplot` (an axes-level function for histograms).\n",
      "  warnings.warn(msg, FutureWarning)\n",
      "/opt/conda/envs/anaconda-2022.05-py39/lib/python3.9/site-packages/seaborn/distributions.py:2619: FutureWarning: `distplot` is a deprecated function and will be removed in a future version. Please adapt your code to use either `displot` (a figure-level function with similar flexibility) or `histplot` (an axes-level function for histograms).\n",
      "  warnings.warn(msg, FutureWarning)\n"
     ]
    },
    {
     "data": {
      "image/png": "[encoded data removed]",
      "text/plain": [
       "<Figure size 1080x360 with 2 Axes>"
      ]
     },
     "metadata": {
      "needs_background": "light"
     },
     "output_type": "display_data"
    }
   ],
   "source": [
    "significance = 0.05*2 # увеличим уровень значимости, поскольку используем односторонний критерий\n",
    "# greater: the mean of the distribution underlying the first sample is greater than the mean of the distribution underlying the second sample.\n",
    "\n",
    "tvalueSt, pvalueSt = stats.ttest_ind(df_PC[\"Critic_Score\"], df_PS4[\"Critic_Score\"], alternative = 'greater')\n",
    "print ('\\nПо двухвыборочному одностороннему t-тесту Стьюдента:')\n",
    "print(f't_value: {tvalueSt:.3f}, _pvalue: {pvalueSt:.3f} заданный уровень значимости: {significance:.3f}')\n",
    "\n",
    "if pvalueSt <= significance:\n",
    "    print(f'На {significance:.2f} уровене значимости, мы отвергаем нулевую гипотезе и принимаем альтернативную гипотезу.')\n",
    "    print('Cреднее значение оценок критиков для платформы PC больше', end='')\n",
    "    print(' среднего значения оценок критиков для платформы PS4.')\n",
    "else:\n",
    "    print(f'На {significance:.2f} уровене значимости, мы не можем отвергнуть нулевую гипотезу:')\n",
    "    print('Cреднее значение оценок критиков для платформы PC меньше или равно среднему значению оценок критиков для платформы PS4.')\n",
    "print('')\n",
    "\n",
    "\n",
    "\n",
    "plt.figure(figsize=(15, 5))\n",
    "plt.subplot(1,2,1).set(title='Распределения оценок')\n",
    "plt.ylabel('Плотность')\n",
    "sns.distplot(df_PC[\"Critic_Score\"])\n",
    "sns.distplot(df_PS4[\"Critic_Score\"])\n",
    "\n",
    "plt.subplot(1,2,2).set(title='Бокс-плоты')\n",
    "plt.boxplot([df_PC[\"Critic_Score\"], df_PS4[\"Critic_Score\"]], labels=['PC','PS4'])\n",
    "plt.show()"
   ]
  },
  {
   "cell_type": "markdown",
   "metadata": {},
   "source": [
    "**Вывод:** Критикам в среднем больше нравятся игры для платформы персональных компьютеров, чем для игровых приставок Sony Play Station 4. И это статистически значимая разница."
   ]
  },
  {
   "cell_type": "markdown",
   "metadata": {},
   "source": [
    "**3) Критикам больше нравятся стрелялки или стратегии?**"
   ]
  },
  {
   "cell_type": "code",
   "execution_count": 21,
   "metadata": {},
   "outputs": [
    {
     "name": "stdout",
     "output_type": "stream",
     "text": [
      "['Sports' 'Racing' 'Platform' 'Misc' 'Action' 'Puzzle' 'Shooter'\n",
      " 'Fighting' 'Simulation' 'Role-Playing' 'Adventure' 'Strategy']\n"
     ]
    }
   ],
   "source": [
    "# Выделим датасеты игр по жпнрам шутеры и стратегии:\n",
    "print(df_games.Genre.unique())\n",
    "df_shooters = df_games[df_games['Genre'] == 'Shooter']\n",
    "df_strategys = df_games[df_games['Genre'] == 'Strategy']\n"
   ]
  },
  {
   "cell_type": "markdown",
   "metadata": {},
   "source": [
    "Выборка оценок критиков по шутерам:"
   ]
  },
  {
   "cell_type": "code",
   "execution_count": 22,
   "metadata": {},
   "outputs": [
    {
     "data": {
      "text/plain": [
       "count    944.000000\n",
       "mean      70.181144\n",
       "std       14.552571\n",
       "min       22.000000\n",
       "25%       61.000000\n",
       "50%       73.000000\n",
       "75%       81.000000\n",
       "max       97.000000\n",
       "Name: Critic_Score, dtype: float64"
      ]
     },
     "metadata": {},
     "output_type": "display_data"
    }
   ],
   "source": [
    "display(df_shooters['Critic_Score'].describe())\n"
   ]
  },
  {
   "cell_type": "markdown",
   "metadata": {},
   "source": [
    "Выборка оценок критиков по стратегиям:"
   ]
  },
  {
   "cell_type": "code",
   "execution_count": 23,
   "metadata": {},
   "outputs": [
    {
     "data": {
      "text/plain": [
       "count    302.000000\n",
       "mean      72.086093\n",
       "std       11.828475\n",
       "min       35.000000\n",
       "25%       65.000000\n",
       "50%       73.000000\n",
       "75%       80.000000\n",
       "max       94.000000\n",
       "Name: Critic_Score, dtype: float64"
      ]
     },
     "metadata": {},
     "output_type": "display_data"
    }
   ],
   "source": [
    "display(df_strategys['Critic_Score'].describe())"
   ]
  },
  {
   "cell_type": "markdown",
   "metadata": {},
   "source": [
    "Визуализируем распределения оценок критиков: "
   ]
  },
  {
   "cell_type": "code",
   "execution_count": 24,
   "metadata": {},
   "outputs": [
    {
     "name": "stderr",
     "output_type": "stream",
     "text": [
      "/opt/conda/envs/anaconda-2022.05-py39/lib/python3.9/site-packages/seaborn/distributions.py:2619: FutureWarning: `distplot` is a deprecated function and will be removed in a future version. Please adapt your code to use either `displot` (a figure-level function with similar flexibility) or `histplot` (an axes-level function for histograms).\n",
      "  warnings.warn(msg, FutureWarning)\n",
      "/opt/conda/envs/anaconda-2022.05-py39/lib/python3.9/site-packages/seaborn/distributions.py:2619: FutureWarning: `distplot` is a deprecated function and will be removed in a future version. Please adapt your code to use either `displot` (a figure-level function with similar flexibility) or `histplot` (an axes-level function for histograms).\n",
      "  warnings.warn(msg, FutureWarning)\n"
     ]
    },
    {
     "data": {
      "image/png": "[encoded data removed]",
      "text/plain": [
       "<Figure size 1080x360 with 3 Axes>"
      ]
     },
     "metadata": {
      "needs_background": "light"
     },
     "output_type": "display_data"
    }
   ],
   "source": [
    "plt.figure(figsize=(15, 5))\n",
    "plt.subplot(1,3,1).set(title='Распределения оценок критиков:')\n",
    "plt.ylabel('Плотность')\n",
    "sns.distplot(df_shooters['Critic_Score'])\n",
    "sns.distplot(df_strategys['Critic_Score'])\n",
    "\n",
    "plt.subplot(1,3,2).set(title='Бокс Shooters')\n",
    "sns.boxplot(y=df_shooters['Critic_Score'])\n",
    "plt.subplot(1,3,3).set(title='Бокс Strategys')\n",
    "sns.boxplot(y=df_strategys['Critic_Score'])\n",
    "plt.show()"
   ]
  },
  {
   "cell_type": "code",
   "execution_count": 25,
   "metadata": {
    "scrolled": true
   },
   "outputs": [
    {
     "name": "stdout",
     "output_type": "stream",
     "text": [
      "Средняя оценка критиков на платформе PC: 70.2\n",
      "Средняя оценка критиков на платформе PC: 72.1\n"
     ]
    }
   ],
   "source": [
    "print(f'Средняя оценка критиков на платформе PC: {df_shooters[\"Critic_Score\"].mean():.1f}')\n",
    "print(f'Средняя оценка критиков на платформе PC: {df_strategys[\"Critic_Score\"].mean():.1f}')"
   ]
  },
  {
   "cell_type": "markdown",
   "metadata": {},
   "source": [
    "Определим насколько статистически значима разница между средними  при помощи одностороннего  теста **Стьюдента**:\n",
    "1. **H0:**  *среднее значение оценок критиков для игр-шутеров больше или равно среднему значению оценок критиков для игр-стратегий.*\n",
    "2. **H1:**  *среднее значение оценок критиков для игр-шутеров меньше среднего значения оценок критиков для игр-стратегий.*\n"
   ]
  },
  {
   "cell_type": "markdown",
   "metadata": {},
   "source": [
    "‘less’: the mean of the distribution underlying the first sample is less than the mean of the distribution underlying the second sample."
   ]
  },
  {
   "cell_type": "code",
   "execution_count": 27,
   "metadata": {},
   "outputs": [
    {
     "name": "stdout",
     "output_type": "stream",
     "text": [
      "\n",
      "По двухвыборочному одностороннему t-тесту Стьюдента:\n",
      "t_value: -2.067, _pvalue: 0.019 заданный уровень значимости: 0.100\n",
      "На 0.10 уровене значимости, мы отвергаем нулевую гипотезе и принимаем альтернативную гипотезу.\n",
      "Cреднее значение оценок критиков для игр-шутеров меньше среднего значения оценок критиков для игр-стратегий.\n",
      "\n"
     ]
    }
   ],
   "source": [
    "significance = 0.05*2 # увеличим уровень значимости, поскольку используем односторонний критерий\n",
    "# greater: the mean of the distribution underlying the first sample is greater than the mean of the distribution underlying the second sample.\n",
    "\n",
    "tvalueSt, pvalueSt = stats.ttest_ind(df_shooters[\"Critic_Score\"], df_strategys[\"Critic_Score\"], alternative = 'less')\n",
    "print ('\\nПо двухвыборочному одностороннему t-тесту Стьюдента:')\n",
    "print(f't_value: {tvalueSt:.3f}, _pvalue: {pvalueSt:.3f} заданный уровень значимости: {significance:.3f}')\n",
    "\n",
    "if pvalueSt <= significance:\n",
    "    print(f'На {significance:.2f} уровене значимости, мы отвергаем нулевую гипотезе и принимаем альтернативную гипотезу.')\n",
    "    print('Cреднее значение оценок критиков для игр-шутеров меньше среднего значения оценок критиков для игр-стратегий.')\n",
    "else:\n",
    "    print(f'На {significance:.2f} уровене значимости, мы не можем отвергнуть нулевую гипотезу:')\n",
    "    print('Среднее значение оценок критиков для игр-шутеров больше или равно среднему значению оценок критиков для игр-стратегий.')\n",
    "print('')\n"
   ]
  },
  {
   "cell_type": "markdown",
   "metadata": {},
   "source": [
    "**Вывод:** Критикам в среднем больше нравятся игры-стратегии, чем игры-шутеры. И это статистически значимая разница."
   ]
  },
  {
   "cell_type": "markdown",
   "metadata": {},
   "source": [
    "## Задание 2"
   ]
  },
  {
   "cell_type": "markdown",
   "metadata": {},
   "source": [
    "Реализуйте базовую модель логистической регрессии для классификации текстовых сообщений (используемые данные [здесь](https://github.com/obulygin/pyda_homeworks/blob/master/stat_case_study/spam.csv)) по признаку спама. Для этого:\n",
    "\n",
    "1) Привидите весь текст к нижнему регистру;  \n",
    "2) Удалите мусорные символы;  \n",
    "3) Удалите стоп-слова;  \n",
    "4) Привидите все слова к нормальной форме;  \n",
    "5) Преобразуйте все сообщения в вектора TF-IDF. Вам поможет следующий код:  \n",
    "\n",
    "```\n",
    "from sklearn.feature_extraction.text import TfidfVectorizer\n",
    "\n",
    "tfidf = TfidfVectorizer()\n",
    "tfidf_matrix = tfidf.fit_transform(df.Message)\n",
    "names = tfidf.get_feature_names()\n",
    "tfidf_matrix = pd.DataFrame(tfidf_matrix.toarray(), columns=names)\n",
    "```\n",
    "\n",
    "Можете поэкспериментировать с параметрами [TfidfVectorizer](https://scikit-learn.org/stable/modules/generated/sklearn.feature_extraction.text.TfidfVectorizer.html);  \n",
    "6) Разделите данные на тестовые и тренировочные в соотношении 30/70, укажите `random_state=42`. Используйте [train_test_split](https://scikit-learn.org/stable/modules/generated/sklearn.model_selection.train_test_split.html);  \n",
    "7) Постройте модель [логистической регрессии](https://scikit-learn.org/stable/modules/generated/sklearn.linear_model.LogisticRegression.html), укажите `random_state=42`, оцените ее точность на тестовых данных;  \n",
    "8) Опишите результаты при помощи [confusion_matrix](https://scikit-learn.org/stable/modules/generated/sklearn.metrics.confusion_matrix.html?highlight=confusion_matrix#sklearn.metrics.confusion_matrix);  \n",
    "9) Постройте датафрейм, который будет содержать все исходные тексты сообщений, классифицированные неправильно (с указанием фактического и предсказанного)."
   ]
  },
  {
   "cell_type": "markdown",
   "metadata": {},
   "source": [
    "#### ПРИМЕЧАНИЕ\n",
    "Домашнее задание сдается ссылкой [Google Colab](https://colab.research.google.com/).\n",
    "Не сможем проверить или помочь, если вы пришлете:\n",
    "- файлы;\n",
    "- архивы;\n",
    "- скриншоты кода.\n",
    "\n",
    "Все обсуждения и консультации по выполнению домашнего задания ведутся только на соответствующем канале в slack.\n",
    "\n",
    "##### Как правильно задавать вопросы аспирантам, преподавателям и коллегам?\n",
    "Прежде чем задать вопрос необходимо попробовать найти ответ самому в интернете. Навык самостоятельного поиска информации – один из важнейших, и каждый практикующий специалист любого уровня это делает каждый день.\n",
    "\n",
    "Любой вопрос должен быть сформулирован по алгоритму:  \n",
    "1) Что я делаю?  \n",
    "2) Какого результата я ожидаю?  \n",
    "3) Как фактический результат отличается от ожидаемого?  \n",
    "4) Что я уже попробовал сделать, чтобы исправить проблему?  \n",
    "\n",
    "По возможности, прикрепляйте к вопросу скриншоты, либо ссылки на код. Оставляйте только проблемный и воспроизводимый участок кода, все решение выкладывать не допускается.\n"
   ]
  },
  {
   "cell_type": "code",
   "execution_count": null,
   "metadata": {},
   "outputs": [],
   "source": []
  }
 ],
 "metadata": {
  "kernelspec": {
   "display_name": "Python 3",
   "language": "python",
   "name": "python3"
  },
  "language_info": {
   "codemirror_mode": {
    "name": "ipython",
    "version": 3
   },
   "file_extension": ".py",
   "mimetype": "text/x-python",
   "name": "python",
   "nbconvert_exporter": "python",
   "pygments_lexer": "ipython3",
   "version": "3.8.3"
  },
  "toc-autonumbering": true,
  "toc-showcode": false
 },
 "nbformat": 4,
 "nbformat_minor": 4
}
