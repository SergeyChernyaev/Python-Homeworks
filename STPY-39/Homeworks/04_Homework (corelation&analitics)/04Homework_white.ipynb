{
 "cells": [
  {
   "cell_type": "markdown",
   "metadata": {
    "id": "0JuWO8oMOU5g"
   },
   "source": [
    "###### Домашнее задание1.\n",
    "**Задача** - ответить на вопрос есть ли связь между жёсткостью воды и средней годовой смертностью?\n",
    "\n",
    "a.Построить точечный график\n",
    "\n",
    "b.Рассчитать коэффициенты корреляции Пирсона и Спирмена\n",
    "\n",
    "c.Построить модель линейной регрессии\n",
    "\n",
    "d.Рассчитать коэффициент детерминации\n",
    "\n",
    "e.Вывести график остатков\n",
    "\n",
    "2.Сохраняется ли аналогичная зависимость для северных и южных городов по отдельности?\n",
    "\n",
    "a.Разделить данные на 2 группы\n",
    "\n",
    "b.Повторить аналогичные шаги из пункта 1 для каждой группы по отдельности\n"
   ]
  },
  {
   "cell_type": "code",
   "execution_count": 293,
   "metadata": {
    "id": "GjFveC25OTRN"
   },
   "outputs": [],
   "source": [
    "import pandas as pd\n",
    "import numpy as np\n",
    "from tabulate import tabulate\n",
    "import matplotlib.pyplot as plt\n",
    "import seaborn as sns\n",
    "from pylab import rcParams\n",
    "rcParams['figure.figsize'] = 7,3.5\n"
   ]
  },
  {
   "cell_type": "code",
   "execution_count": 294,
   "metadata": {
    "colab": {
     "base_uri": "https://localhost:8080/",
     "height": 206
    },
    "id": "oOkcbKleOTRR",
    "outputId": "0ceb1734-55d4-4dae-9f59-8e8b63339b32"
   },
   "outputs": [
    {
     "data": {
      "text/html": [
       "<div>\n",
       "<style scoped>\n",
       "    .dataframe tbody tr th:only-of-type {\n",
       "        vertical-align: middle;\n",
       "    }\n",
       "\n",
       "    .dataframe tbody tr th {\n",
       "        vertical-align: top;\n",
       "    }\n",
       "\n",
       "    .dataframe thead th {\n",
       "        text-align: right;\n",
       "    }\n",
       "</style>\n",
       "<table border=\"1\" class=\"dataframe\">\n",
       "  <thead>\n",
       "    <tr style=\"text-align: right;\">\n",
       "      <th></th>\n",
       "      <th>location</th>\n",
       "      <th>town</th>\n",
       "      <th>mortality</th>\n",
       "      <th>hardness</th>\n",
       "    </tr>\n",
       "  </thead>\n",
       "  <tbody>\n",
       "    <tr>\n",
       "      <th>0</th>\n",
       "      <td>South</td>\n",
       "      <td>Bath</td>\n",
       "      <td>1247</td>\n",
       "      <td>105</td>\n",
       "    </tr>\n",
       "    <tr>\n",
       "      <th>1</th>\n",
       "      <td>North</td>\n",
       "      <td>Birkenhead</td>\n",
       "      <td>1668</td>\n",
       "      <td>17</td>\n",
       "    </tr>\n",
       "    <tr>\n",
       "      <th>2</th>\n",
       "      <td>South</td>\n",
       "      <td>Birmingham</td>\n",
       "      <td>1466</td>\n",
       "      <td>5</td>\n",
       "    </tr>\n",
       "    <tr>\n",
       "      <th>3</th>\n",
       "      <td>North</td>\n",
       "      <td>Blackburn</td>\n",
       "      <td>1800</td>\n",
       "      <td>14</td>\n",
       "    </tr>\n",
       "    <tr>\n",
       "      <th>4</th>\n",
       "      <td>North</td>\n",
       "      <td>Blackpool</td>\n",
       "      <td>1609</td>\n",
       "      <td>18</td>\n",
       "    </tr>\n",
       "  </tbody>\n",
       "</table>\n",
       "</div>"
      ],
      "text/plain": [
       "  location        town  mortality  hardness\n",
       "0    South        Bath       1247       105\n",
       "1    North  Birkenhead       1668        17\n",
       "2    South  Birmingham       1466         5\n",
       "3    North   Blackburn       1800        14\n",
       "4    North   Blackpool       1609        18"
      ]
     },
     "execution_count": 294,
     "metadata": {},
     "output_type": "execute_result"
    }
   ],
   "source": [
    "df = pd.read_csv('water.csv', usecols=[\"location\", \"town\", \"mortality\",\"hardness\"])\n",
    "                        \n",
    "# какие типы признаков в нашем датафрейме?\n",
    "df.head()"
   ]
  },
  {
   "cell_type": "code",
   "execution_count": 295,
   "metadata": {},
   "outputs": [
    {
     "name": "stdout",
     "output_type": "stream",
     "text": [
      "<class 'pandas.core.frame.DataFrame'>\n",
      "RangeIndex: 61 entries, 0 to 60\n",
      "Data columns (total 4 columns):\n",
      " #   Column     Non-Null Count  Dtype \n",
      "---  ------     --------------  ----- \n",
      " 0   location   61 non-null     object\n",
      " 1   town       61 non-null     object\n",
      " 2   mortality  61 non-null     int64 \n",
      " 3   hardness   61 non-null     int64 \n",
      "dtypes: int64(2), object(2)\n",
      "memory usage: 2.0+ KB\n"
     ]
    }
   ],
   "source": [
    "df.info()"
   ]
  },
  {
   "cell_type": "markdown",
   "metadata": {},
   "source": [
    "**Вывод:** Пропусков в данных не имеется. Типы данных определены корректно."
   ]
  },
  {
   "cell_type": "code",
   "execution_count": 296,
   "metadata": {},
   "outputs": [
    {
     "name": "stdout",
     "output_type": "stream",
     "text": [
      "<class 'pandas.core.frame.DataFrame'>\n",
      "RangeIndex: 61 entries, 0 to 60\n",
      "Data columns (total 4 columns):\n",
      " #   Column     Non-Null Count  Dtype   \n",
      "---  ------     --------------  -----   \n",
      " 0   location   61 non-null     category\n",
      " 1   town       61 non-null     category\n",
      " 2   mortality  61 non-null     int64   \n",
      " 3   hardness   61 non-null     int64   \n",
      "dtypes: category(2), int64(2)\n",
      "memory usage: 4.3 KB\n"
     ]
    }
   ],
   "source": [
    "# уточним тип данных для столбцов location и town- категориальных переменных:\n",
    "df['location'] = df['location'].astype('category')\n",
    "df['town'] = df['town'].astype('category')\n",
    "df.info()"
   ]
  },
  {
   "cell_type": "code",
   "execution_count": 297,
   "metadata": {
    "scrolled": true
   },
   "outputs": [
    {
     "data": {
      "text/html": [
       "<div>\n",
       "<style scoped>\n",
       "    .dataframe tbody tr th:only-of-type {\n",
       "        vertical-align: middle;\n",
       "    }\n",
       "\n",
       "    .dataframe tbody tr th {\n",
       "        vertical-align: top;\n",
       "    }\n",
       "\n",
       "    .dataframe thead th {\n",
       "        text-align: right;\n",
       "    }\n",
       "</style>\n",
       "<table border=\"1\" class=\"dataframe\">\n",
       "  <thead>\n",
       "    <tr style=\"text-align: right;\">\n",
       "      <th></th>\n",
       "      <th>mortality</th>\n",
       "      <th>hardness</th>\n",
       "    </tr>\n",
       "  </thead>\n",
       "  <tbody>\n",
       "    <tr>\n",
       "      <th>count</th>\n",
       "      <td>61.000000</td>\n",
       "      <td>61.000000</td>\n",
       "    </tr>\n",
       "    <tr>\n",
       "      <th>mean</th>\n",
       "      <td>1524.147541</td>\n",
       "      <td>47.180328</td>\n",
       "    </tr>\n",
       "    <tr>\n",
       "      <th>std</th>\n",
       "      <td>187.668754</td>\n",
       "      <td>38.093966</td>\n",
       "    </tr>\n",
       "    <tr>\n",
       "      <th>min</th>\n",
       "      <td>1096.000000</td>\n",
       "      <td>5.000000</td>\n",
       "    </tr>\n",
       "    <tr>\n",
       "      <th>25%</th>\n",
       "      <td>1379.000000</td>\n",
       "      <td>14.000000</td>\n",
       "    </tr>\n",
       "    <tr>\n",
       "      <th>50%</th>\n",
       "      <td>1555.000000</td>\n",
       "      <td>39.000000</td>\n",
       "    </tr>\n",
       "    <tr>\n",
       "      <th>75%</th>\n",
       "      <td>1668.000000</td>\n",
       "      <td>75.000000</td>\n",
       "    </tr>\n",
       "    <tr>\n",
       "      <th>max</th>\n",
       "      <td>1987.000000</td>\n",
       "      <td>138.000000</td>\n",
       "    </tr>\n",
       "  </tbody>\n",
       "</table>\n",
       "</div>"
      ],
      "text/plain": [
       "         mortality    hardness\n",
       "count    61.000000   61.000000\n",
       "mean   1524.147541   47.180328\n",
       "std     187.668754   38.093966\n",
       "min    1096.000000    5.000000\n",
       "25%    1379.000000   14.000000\n",
       "50%    1555.000000   39.000000\n",
       "75%    1668.000000   75.000000\n",
       "max    1987.000000  138.000000"
      ]
     },
     "execution_count": 297,
     "metadata": {},
     "output_type": "execute_result"
    }
   ],
   "source": [
    "df.describe()"
   ]
  },
  {
   "cell_type": "markdown",
   "metadata": {},
   "source": [
    "###### Бокс-плоты для данных жёсткости воды и смертности\n",
    "\n"
   ]
  },
  {
   "cell_type": "code",
   "execution_count": 298,
   "metadata": {
    "scrolled": true
   },
   "outputs": [
    {
     "data": {
      "text/plain": [
       "<matplotlib.axes._subplots.AxesSubplot at 0x17514640>"
      ]
     },
     "execution_count": 298,
     "metadata": {},
     "output_type": "execute_result"
    },
    {
     "data": {
      "image/png": "[encoded data removed]",
      "text/plain": [
       "<Figure size 504x252 with 2 Axes>"
      ]
     },
     "metadata": {
      "needs_background": "light"
     },
     "output_type": "display_data"
    }
   ],
   "source": [
    "fig,axes = plt.subplots(nrows=1, ncols=2)\n",
    "fig.tight_layout() # отодвинуть графики\n",
    "\n",
    "df['hardness'].plot(ax=axes[0], kind='box',\n",
    "                   title='Жёсткость воды', grid=True)\n",
    "\n",
    "\n",
    "df['mortality'].plot(ax=axes[1], kind='box',\n",
    "                   title='Смертность', grid=True)"
   ]
  },
  {
   "cell_type": "code",
   "execution_count": 299,
   "metadata": {},
   "outputs": [
    {
     "name": "stdout",
     "output_type": "stream",
     "text": [
      "Значение выбросов столбца \"hardness\" по \"внутренним границам\" (1,5 межквартильного размаха):\n"
     ]
    },
    {
     "data": {
      "text/html": [
       "<div>\n",
       "<style scoped>\n",
       "    .dataframe tbody tr th:only-of-type {\n",
       "        vertical-align: middle;\n",
       "    }\n",
       "\n",
       "    .dataframe tbody tr th {\n",
       "        vertical-align: top;\n",
       "    }\n",
       "\n",
       "    .dataframe thead th {\n",
       "        text-align: right;\n",
       "    }\n",
       "</style>\n",
       "<table border=\"1\" class=\"dataframe\">\n",
       "  <thead>\n",
       "    <tr style=\"text-align: right;\">\n",
       "      <th></th>\n",
       "      <th>location</th>\n",
       "      <th>town</th>\n",
       "      <th>mortality</th>\n",
       "      <th>hardness</th>\n",
       "    </tr>\n",
       "  </thead>\n",
       "  <tbody>\n",
       "  </tbody>\n",
       "</table>\n",
       "</div>"
      ],
      "text/plain": [
       "Empty DataFrame\n",
       "Columns: [location, town, mortality, hardness]\n",
       "Index: []"
      ]
     },
     "execution_count": 299,
     "metadata": {},
     "output_type": "execute_result"
    }
   ],
   "source": [
    "# Расчёт выбросов для столбца hardness по «внутренним границам»:\n",
    "q1 = df['hardness'].quantile(0.25)\n",
    "q3 = df['hardness'].quantile(0.75)\n",
    "iqr = q3 - q1\n",
    "lower_bound_int = q1 - (1.5 * iqr) \n",
    "upper_bound_int = q3 + (1.5 * iqr)\n",
    "print ('Значение выбросов столбца \"hardness\" по \"внутренним границам\" (1,5 межквартильного размаха):')\n",
    "df[~df['hardness'].between(lower_bound_int, upper_bound_int, inclusive=True)]"
   ]
  },
  {
   "cell_type": "code",
   "execution_count": 300,
   "metadata": {},
   "outputs": [
    {
     "name": "stdout",
     "output_type": "stream",
     "text": [
      "Значение выбросов столбца \"mortality\" по \"внутренним границам\" (1,5 межквартильного размаха):\n"
     ]
    },
    {
     "data": {
      "text/html": [
       "<div>\n",
       "<style scoped>\n",
       "    .dataframe tbody tr th:only-of-type {\n",
       "        vertical-align: middle;\n",
       "    }\n",
       "\n",
       "    .dataframe tbody tr th {\n",
       "        vertical-align: top;\n",
       "    }\n",
       "\n",
       "    .dataframe thead th {\n",
       "        text-align: right;\n",
       "    }\n",
       "</style>\n",
       "<table border=\"1\" class=\"dataframe\">\n",
       "  <thead>\n",
       "    <tr style=\"text-align: right;\">\n",
       "      <th></th>\n",
       "      <th>location</th>\n",
       "      <th>town</th>\n",
       "      <th>mortality</th>\n",
       "      <th>hardness</th>\n",
       "    </tr>\n",
       "  </thead>\n",
       "  <tbody>\n",
       "  </tbody>\n",
       "</table>\n",
       "</div>"
      ],
      "text/plain": [
       "Empty DataFrame\n",
       "Columns: [location, town, mortality, hardness]\n",
       "Index: []"
      ]
     },
     "execution_count": 300,
     "metadata": {},
     "output_type": "execute_result"
    }
   ],
   "source": [
    "# Расчёт выбросов для столбца mortality по «внутренним границам»:\n",
    "q1 = df['mortality'].quantile(0.25)\n",
    "q3 = df['mortality'].quantile(0.75)\n",
    "iqr = q3 - q1\n",
    "lower_bound_int = q1 - (1.5 * iqr) \n",
    "upper_bound_int = q3 + (1.5 * iqr)\n",
    "print ('Значение выбросов столбца \"mortality\" по \"внутренним границам\" (1,5 межквартильного размаха):')\n",
    "df[~df['mortality'].between(lower_bound_int, upper_bound_int, inclusive=True)]"
   ]
  },
  {
   "cell_type": "markdown",
   "metadata": {},
   "source": [
    "**Вывод:** выбросов в столбцах данных mortality и hardness не обнаружено. Можно применять критерий Пирсона."
   ]
  },
  {
   "cell_type": "markdown",
   "metadata": {},
   "source": [
    "**a. Построить точечный график**"
   ]
  },
  {
   "cell_type": "markdown",
   "metadata": {},
   "source": [
    "#### Диаграмма рассеяния"
   ]
  },
  {
   "cell_type": "code",
   "execution_count": 301,
   "metadata": {},
   "outputs": [
    {
     "data": {
      "text/plain": [
       "<matplotlib.axes._subplots.AxesSubplot at 0x15a9cb20>"
      ]
     },
     "execution_count": 301,
     "metadata": {},
     "output_type": "execute_result"
    },
    {
     "data": {
      "image/png": "[encoded data removed]",
      "text/plain": [
       "<Figure size 504x252 with 1 Axes>"
      ]
     },
     "metadata": {
      "needs_background": "light"
     },
     "output_type": "display_data"
    }
   ],
   "source": [
    "# посмотрим графически на взаимосвязь между жёсткостью воды и смертностью\n",
    "df.plot(kind='scatter', \n",
    "        x='hardness', \n",
    "        y='mortality', \n",
    "        title='Зависимость между жёсткостью воды и смертностью')\n"
   ]
  },
  {
   "cell_type": "markdown",
   "metadata": {},
   "source": [
    "**Вывод:** Визуально наблюдается обратная корреляция."
   ]
  },
  {
   "cell_type": "markdown",
   "metadata": {},
   "source": [
    "**b. Рассчитать коэффициенты корреляции Пирсона и Спирмена**"
   ]
  },
  {
   "cell_type": "code",
   "execution_count": 302,
   "metadata": {},
   "outputs": [
    {
     "data": {
      "text/html": [
       "<div>\n",
       "<style scoped>\n",
       "    .dataframe tbody tr th:only-of-type {\n",
       "        vertical-align: middle;\n",
       "    }\n",
       "\n",
       "    .dataframe tbody tr th {\n",
       "        vertical-align: top;\n",
       "    }\n",
       "\n",
       "    .dataframe thead th {\n",
       "        text-align: right;\n",
       "    }\n",
       "</style>\n",
       "<table border=\"1\" class=\"dataframe\">\n",
       "  <thead>\n",
       "    <tr style=\"text-align: right;\">\n",
       "      <th></th>\n",
       "      <th>hardness</th>\n",
       "      <th>mortality</th>\n",
       "    </tr>\n",
       "  </thead>\n",
       "  <tbody>\n",
       "    <tr>\n",
       "      <th>hardness</th>\n",
       "      <td>1.000000</td>\n",
       "      <td>-0.654849</td>\n",
       "    </tr>\n",
       "    <tr>\n",
       "      <th>mortality</th>\n",
       "      <td>-0.654849</td>\n",
       "      <td>1.000000</td>\n",
       "    </tr>\n",
       "  </tbody>\n",
       "</table>\n",
       "</div>"
      ],
      "text/plain": [
       "           hardness  mortality\n",
       "hardness   1.000000  -0.654849\n",
       "mortality -0.654849   1.000000"
      ]
     },
     "execution_count": 302,
     "metadata": {},
     "output_type": "execute_result"
    }
   ],
   "source": [
    "# считаем коэф. корреляции Пирсона\n",
    "df[['hardness',  'mortality']].corr()"
   ]
  },
  {
   "cell_type": "code",
   "execution_count": 303,
   "metadata": {},
   "outputs": [
    {
     "data": {
      "text/html": [
       "<div>\n",
       "<style scoped>\n",
       "    .dataframe tbody tr th:only-of-type {\n",
       "        vertical-align: middle;\n",
       "    }\n",
       "\n",
       "    .dataframe tbody tr th {\n",
       "        vertical-align: top;\n",
       "    }\n",
       "\n",
       "    .dataframe thead th {\n",
       "        text-align: right;\n",
       "    }\n",
       "</style>\n",
       "<table border=\"1\" class=\"dataframe\">\n",
       "  <thead>\n",
       "    <tr style=\"text-align: right;\">\n",
       "      <th></th>\n",
       "      <th>hardness</th>\n",
       "      <th>mortality</th>\n",
       "    </tr>\n",
       "  </thead>\n",
       "  <tbody>\n",
       "    <tr>\n",
       "      <th>hardness</th>\n",
       "      <td>1.000000</td>\n",
       "      <td>-0.631665</td>\n",
       "    </tr>\n",
       "    <tr>\n",
       "      <th>mortality</th>\n",
       "      <td>-0.631665</td>\n",
       "      <td>1.000000</td>\n",
       "    </tr>\n",
       "  </tbody>\n",
       "</table>\n",
       "</div>"
      ],
      "text/plain": [
       "           hardness  mortality\n",
       "hardness   1.000000  -0.631665\n",
       "mortality -0.631665   1.000000"
      ]
     },
     "execution_count": 303,
     "metadata": {},
     "output_type": "execute_result"
    }
   ],
   "source": [
    "# считаем коэф. корреляции Спирмана\n",
    "df[['hardness',  'mortality']].corr(method='spearman')"
   ]
  },
  {
   "cell_type": "markdown",
   "metadata": {},
   "source": [
    "**Вывод**: Эмпирически связь между показателями жёсткости воды и смертности, расчитанными по методам Пирсона и  Спирмана является *сильной*, что однако не означает наличие причиннно-следственных связей между данными показателями."
   ]
  },
  {
   "cell_type": "markdown",
   "metadata": {},
   "source": [
    "**c. Построить модель линейной регрессии**"
   ]
  },
  {
   "cell_type": "code",
   "execution_count": 304,
   "metadata": {},
   "outputs": [],
   "source": [
    "# Грузим библиотеки \n",
    "\n",
    "from sklearn.linear_model import LinearRegression\n",
    "from sklearn.model_selection import train_test_split"
   ]
  },
  {
   "cell_type": "markdown",
   "metadata": {},
   "source": [
    "Создаем массивы:\n",
    "**X** - по умолчанию многомерный массив (вектор) исходных параметров для прогноза, в нашем случае только 1 параметр -  *hardness*.\n",
    "**y** - выходной прогнозный параметр -  *mortality* смертность."
   ]
  },
  {
   "cell_type": "code",
   "execution_count": 305,
   "metadata": {},
   "outputs": [],
   "source": [
    "X = df[['hardness']]\n",
    "y = df['mortality']"
   ]
  },
  {
   "cell_type": "markdown",
   "metadata": {},
   "source": [
    "Выполним разбиение с паметром - train_size=0.67 - **67%** для обучения модели, **33%** - для тестирования) "
   ]
  },
  {
   "cell_type": "code",
   "execution_count": 306,
   "metadata": {},
   "outputs": [
    {
     "name": "stdout",
     "output_type": "stream",
     "text": [
      "Всего строк в датасете: 61\n",
      "Количество строк в y_train - выборка для обучения: 40\n",
      "Количество строк в y_test -выборка дляя тестирования: 21\n"
     ]
    }
   ],
   "source": [
    "X_train, X_test, y_train, y_test = train_test_split(X, y, train_size=0.67, random_state=42)\n",
    "print (f'Всего строк в датасете: {len(df)}')\n",
    "print(f\"Количество строк в y_train - выборка для обучения: {len(y_train)}\")\n",
    "print(f\"Количество строк в y_test -выборка дляя тестирования: {len(y_test)}\")"
   ]
  },
  {
   "cell_type": "code",
   "execution_count": 307,
   "metadata": {},
   "outputs": [
    {
     "data": {
      "text/plain": [
       "LinearRegression()"
      ]
     },
     "execution_count": 307,
     "metadata": {},
     "output_type": "execute_result"
    }
   ],
   "source": [
    "model = LinearRegression()\n",
    "model.fit(X_train, y_train)  # метод обучается на данных и подбирает оптимальные коэффициенты"
   ]
  },
  {
   "cell_type": "code",
   "execution_count": 308,
   "metadata": {},
   "outputs": [
    {
     "data": {
      "text/plain": [
       "<matplotlib.axes._subplots.AxesSubplot at 0x17627760>"
      ]
     },
     "execution_count": 308,
     "metadata": {},
     "output_type": "execute_result"
    },
    {
     "data": {
      "image/png": "[encoded data removed]",
      "text/plain": [
       "<Figure size 504x252 with 1 Axes>"
      ]
     },
     "metadata": {
      "needs_background": "light"
     },
     "output_type": "display_data"
    }
   ],
   "source": [
    "sns.distplot(y_train)"
   ]
  },
  {
   "cell_type": "markdown",
   "metadata": {},
   "source": [
    "Пробуем выполнить предсказание для известной части данных из X_test:"
   ]
  },
  {
   "cell_type": "code",
   "execution_count": 309,
   "metadata": {},
   "outputs": [
    {
     "data": {
      "text/plain": [
       "array([1338.09462969, 1636.02079457, 1623.476535  , 1529.39458819,\n",
       "       1422.76838181, 1604.66014564, 1250.28481267, 1432.17657649,\n",
       "       1601.52408074, 1648.56505414, 1482.35361479, 1413.36018713,\n",
       "       1545.07491266, 1623.476535  , 1444.72083607, 1545.07491266,\n",
       "       1636.02079457, 1620.3404701 , 1350.63888926, 1610.93227542,\n",
       "       1513.71426372])"
      ]
     },
     "execution_count": 309,
     "metadata": {},
     "output_type": "execute_result"
    }
   ],
   "source": [
    "y_pred = model.predict(X_test)\n",
    "y_pred"
   ]
  },
  {
   "cell_type": "code",
   "execution_count": 310,
   "metadata": {},
   "outputs": [
    {
     "name": "stdout",
     "output_type": "stream",
     "text": [
      "<class 'pandas.core.series.Series'>\n"
     ]
    },
    {
     "data": {
      "text/plain": [
       "Int64Index([0, 5, 46, 31, 13, 55, 34, 49, 12, 40, 33, 59, 16, 3, 53, 17, 8, 6,\n",
       "            41, 4, 44],\n",
       "           dtype='int64')"
      ]
     },
     "execution_count": 310,
     "metadata": {},
     "output_type": "execute_result"
    }
   ],
   "source": [
    "print(type(y_test))\n",
    "i = 1\n",
    "y_test.index"
   ]
  },
  {
   "cell_type": "markdown",
   "metadata": {},
   "source": [
    "**Сравним значения предсказанные моделью с реальными значениями:**"
   ]
  },
  {
   "cell_type": "code",
   "execution_count": 311,
   "metadata": {},
   "outputs": [
    {
     "name": "stdout",
     "output_type": "stream",
     "text": [
      " 1. Реальное значение смертности:1247 смоделированное значение смертности:1338 жёсткость: 105\n",
      " 2. Реальное значение смертности:1558 смоделированное значение смертности:1636 жёсткость: 10\n",
      " 3. Реальное значение смертности:1495 смоделированное значение смертности:1623 жёсткость: 14\n",
      " 4. Реальное значение смертности:1702 смоделированное значение смертности:1529 жёсткость: 44\n",
      " 5. Реальное значение смертности:1307 смоделированное значение смертности:1423 жёсткость: 78\n",
      " 6. Реальное значение смертности:1625 смоделированное значение смертности:1605 жёсткость: 20\n",
      " 7. Реальное значение смертности:1259 смоделированное значение смертности:1250 жёсткость: 133\n",
      " 8. Реальное значение смертности:1587 смоделированное значение смертности:1432 жёсткость: 75\n",
      " 9. Реальное значение смертности:1519 смоделированное значение смертности:1602 жёсткость: 21\n",
      "10. Реальное значение смертности:1696 смоделированное значение смертности:1649 жёсткость: 6\n",
      "11. Реальное значение смертности:1309 смоделированное значение смертности:1482 жёсткость: 59\n",
      "12. Реальное значение смертности:1485 смоделированное значение смертности:1413 жёсткость: 81\n",
      "13. Реальное значение смертности:1555 смоделированное значение смертности:1545 жёсткость: 39\n",
      "14. Реальное значение смертности:1800 смоделированное значение смертности:1623 жёсткость: 14\n",
      "15. Реальное значение смертности:1709 смоделированное значение смертности:1445 жёсткость: 71\n",
      "16. Реальное значение смертности:1428 смоделированное значение смертности:1545 жёсткость: 39\n",
      "17. Реальное значение смертности:1637 смоделированное значение смертности:1636 жёсткость: 10\n",
      "18. Реальное значение смертности:1807 смоделированное значение смертности:1620 жёсткость: 15\n",
      "19. Реальное значение смертности:1236 смоделированное значение смертности:1351 жёсткость: 101\n",
      "20. Реальное значение смертности:1609 смоделированное значение смертности:1611 жёсткость: 18\n",
      "21. Реальное значение смертности:1591 смоделированное значение смертности:1514 жёсткость: 49\n"
     ]
    }
   ],
   "source": [
    "i = 0\n",
    "X_test_vals = [x for x in X_test['hardness']]\n",
    "for y_test_val in y_test:\n",
    "    print(f'{i+1:2d}. Реальное значение смертности:{y_test_val}\\\n",
    " смоделированное значение смертности:{y_pred[i]:.0f} жёсткость: {X_test_vals[i]:}')\n",
    "    i +=1"
   ]
  },
  {
   "cell_type": "code",
   "execution_count": 312,
   "metadata": {},
   "outputs": [
    {
     "name": "stdout",
     "output_type": "stream",
     "text": [
      "Коэффициент модели: \n",
      " [-3.13606489]\n",
      "Поправка: 1667.3814435059633\n"
     ]
    }
   ],
   "source": [
    "print(\"Коэффициент модели: \\n\", model.coef_)\n",
    "print('Поправка:', model.intercept_)"
   ]
  },
  {
   "cell_type": "code",
   "execution_count": 313,
   "metadata": {},
   "outputs": [
    {
     "name": "stdout",
     "output_type": "stream",
     "text": [
      "Средняя смертность по всему датасету:1524\n"
     ]
    }
   ],
   "source": [
    "print (f'Средняя смертность по всему датасету:{df[\"mortality\"].mean():.0f}')"
   ]
  },
  {
   "cell_type": "markdown",
   "metadata": {},
   "source": [
    "**Вывод:** Поправка фактически равна среднему значению смертности, что уже без дальнейших вычислений говорит о неточности модели. "
   ]
  },
  {
   "cell_type": "code",
   "execution_count": 314,
   "metadata": {},
   "outputs": [
    {
     "data": {
      "text/plain": [
       "<matplotlib.legend.Legend at 0x17610c40>"
      ]
     },
     "execution_count": 314,
     "metadata": {},
     "output_type": "execute_result"
    },
    {
     "data": {
      "image/png": "[encoded data removed]",
      "text/plain": [
       "<Figure size 504x252 with 1 Axes>"
      ]
     },
     "metadata": {
      "needs_background": "light"
     },
     "output_type": "display_data"
    }
   ],
   "source": [
    "plt.title('Диаграмма рассеяния', fontsize=15)\n",
    "plt.xlabel('Жёсткость воды', fontsize=12, color='black')\n",
    "plt.ylabel('Смертность', fontsize=12, color='black')\n",
    "\n",
    "plt.grid(True)\n",
    "# Реальные данные\n",
    "points1, = plt.plot(X_test, y_test, 'ro', color='red')\n",
    "# Данные модели\n",
    "points2, = plt.plot(X_test, y_pred,  color='blue')\n",
    "\n",
    "plt.legend((points1, points2), ['реальные данные', 'модель'])\n"
   ]
  },
  {
   "cell_type": "markdown",
   "metadata": {},
   "source": [
    "**d. Рассчитать коэффициент детерминации**"
   ]
  },
  {
   "cell_type": "code",
   "execution_count": 315,
   "metadata": {},
   "outputs": [
    {
     "name": "stdout",
     "output_type": "stream",
     "text": [
      "Коэффициент детерминации модели (метод score объекта LinearRegression):0.50\n"
     ]
    }
   ],
   "source": [
    "r2_model = model.score(X_test, y_test)\n",
    "print(f'Коэффициент детерминации модели (метод score объекта LinearRegression):{r2_model:.2f}') "
   ]
  },
  {
   "cell_type": "code",
   "execution_count": 316,
   "metadata": {},
   "outputs": [
    {
     "name": "stdout",
     "output_type": "stream",
     "text": [
      "Коэффициент детерминации модели (расчёт функцией r2_score):0.50\n"
     ]
    }
   ],
   "source": [
    "# https/www.geeksforgeeks.org/python-coefficient-of-determination-r2-score/\n",
    "from sklearn.metrics import r2_score\n",
    "r2 = r2_score(y_test,y_pred)\n",
    "print(f'Коэффициент детерминации модели (расчёт функцией r2_score):{r2:.2f}')"
   ]
  },
  {
   "cell_type": "markdown",
   "metadata": {},
   "source": [
    "**Вывод:** Только 50% изменчивости выходного параметра (смертности) может быть объяснено моделью, в то время как остальные 50% изменчивости не могут быть описаны данной моделью."
   ]
  },
  {
   "cell_type": "markdown",
   "metadata": {},
   "source": [
    "**e. Вывести график остатков**"
   ]
  },
  {
   "cell_type": "markdown",
   "metadata": {},
   "source": [
    "Построение диаграмм остатков выполним на при помощи библиотеки **statsmodels**\n",
    "\n",
    "https://www.geeksforgeeks.org/how-to-create-a-residual-plot-in-python/"
   ]
  },
  {
   "cell_type": "code",
   "execution_count": 317,
   "metadata": {},
   "outputs": [],
   "source": [
    "import statsmodels.api as sm\n",
    "from statsmodels.formula.api import ols\n",
    "\n",
    "X = df[['hardness']]\n",
    "y = df['mortality']"
   ]
  },
  {
   "cell_type": "code",
   "execution_count": 318,
   "metadata": {},
   "outputs": [],
   "source": [
    "X_train, X_test, y_train, y_test = train_test_split(X, y, test_size=0.33, random_state=42)"
   ]
  },
  {
   "cell_type": "code",
   "execution_count": 319,
   "metadata": {},
   "outputs": [],
   "source": [
    "X_const = sm.add_constant(X_train) # техническая особенность библиотеки, надо руками добавить константу"
   ]
  },
  {
   "cell_type": "code",
   "execution_count": 320,
   "metadata": {},
   "outputs": [
    {
     "name": "stdout",
     "output_type": "stream",
     "text": [
      "                            OLS Regression Results                            \n",
      "==============================================================================\n",
      "Dep. Variable:              mortality   R-squared:                       0.396\n",
      "Model:                            OLS   Adj. R-squared:                  0.380\n",
      "Method:                 Least Squares   F-statistic:                     24.89\n",
      "Date:                Sat, 28 Jan 2023   Prob (F-statistic):           1.38e-05\n",
      "Time:                        12:48:38   Log-Likelihood:                -257.13\n",
      "No. Observations:                  40   AIC:                             518.3\n",
      "Df Residuals:                      38   BIC:                             521.6\n",
      "Df Model:                           1                                         \n",
      "Covariance Type:            nonrobust                                         \n",
      "==============================================================================\n",
      "                 coef    std err          t      P>|t|      [0.025      0.975]\n",
      "------------------------------------------------------------------------------\n",
      "const       1667.3814     38.206     43.642      0.000    1590.037    1744.726\n",
      "hardness      -3.1361      0.629     -4.989      0.000      -4.409      -1.863\n",
      "==============================================================================\n",
      "Omnibus:                        0.284   Durbin-Watson:                   2.241\n",
      "Prob(Omnibus):                  0.868   Jarque-Bera (JB):                0.472\n",
      "Skew:                           0.080   Prob(JB):                        0.790\n",
      "Kurtosis:                       2.492   Cond. No.                         95.6\n",
      "==============================================================================\n",
      "\n",
      "Warnings:\n",
      "[1] Standard Errors assume that the covariance matrix of the errors is correctly specified.\n"
     ]
    }
   ],
   "source": [
    "\n",
    "stat_model = sm.OLS(y_train, X_const)\n",
    "results = stat_model.fit()\n",
    "print(results.summary())"
   ]
  },
  {
   "cell_type": "code",
   "execution_count": 321,
   "metadata": {},
   "outputs": [
    {
     "name": "stdout",
     "output_type": "stream",
     "text": [
      "Коэффициент детерминации R2: 0.40\n"
     ]
    }
   ],
   "source": [
    "print(f'Коэффициент детерминации R2: {results.rsquared:.2f}')"
   ]
  },
  {
   "cell_type": "markdown",
   "metadata": {},
   "source": [
    "**Вывод:** Данная библиотека определяет коэффициент детерминации в 0.4."
   ]
  },
  {
   "cell_type": "code",
   "execution_count": 322,
   "metadata": {},
   "outputs": [
    {
     "data": {
      "image/png": "[encoded data removed]",
      "text/plain": [
       "<Figure size 1008x576 with 4 Axes>"
      ]
     },
     "metadata": {
      "needs_background": "light"
     },
     "output_type": "display_data"
    }
   ],
   "source": [
    "# modify figure size\n",
    "fig = plt.figure(figsize=(14, 8))\n",
    "# creating regression plots\n",
    "fig = sm.graphics.plot_regress_exog(results,\n",
    "                                    'hardness',\n",
    "                                    fig=fig)"
   ]
  },
  {
   "cell_type": "code",
   "execution_count": 323,
   "metadata": {},
   "outputs": [
    {
     "data": {
      "text/plain": [
       "(array([1., 1., 7., 5., 7., 4., 7., 6., 1., 1.]),\n",
       " array([-341.52408074, -272.9009651 , -204.27784947, -135.65473383,\n",
       "         -67.03161819,    1.59149745,   70.21461309,  138.83772873,\n",
       "         207.46084437,  276.08396   ,  344.70707564]),\n",
       " <a list of 10 Patch objects>)"
      ]
     },
     "execution_count": 323,
     "metadata": {},
     "output_type": "execute_result"
    },
    {
     "data": {
      "image/png": "[encoded data removed]",
      "text/plain": [
       "<Figure size 504x252 with 1 Axes>"
      ]
     },
     "metadata": {
      "needs_background": "light"
     },
     "output_type": "display_data"
    }
   ],
   "source": [
    "rcParams['figure.figsize'] = 7,3.5\n",
    "plt.hist(results.resid, bins=10)"
   ]
  },
  {
   "cell_type": "code",
   "execution_count": 324,
   "metadata": {},
   "outputs": [
    {
     "data": {
      "text/plain": [
       "<matplotlib.axes._subplots.AxesSubplot at 0x198a0190>"
      ]
     },
     "execution_count": 324,
     "metadata": {},
     "output_type": "execute_result"
    },
    {
     "data": {
      "image/png": "[encoded data removed]",
      "text/plain": [
       "<Figure size 504x252 with 1 Axes>"
      ]
     },
     "metadata": {
      "needs_background": "light"
     },
     "output_type": "display_data"
    }
   ],
   "source": [
    "sns.residplot(x='hardness', y='mortality', data=df)"
   ]
  },
  {
   "cell_type": "markdown",
   "metadata": {},
   "source": [
    "**Вывод:** На диаграмме рассеяния остатков наблюдется неравномерность в плотности отсчётов в области низких значений жёсткости."
   ]
  },
  {
   "cell_type": "code",
   "execution_count": 325,
   "metadata": {},
   "outputs": [
    {
     "data": {
      "text/plain": [
       "<matplotlib.axes._subplots.AxesSubplot at 0x1991c4c0>"
      ]
     },
     "execution_count": 325,
     "metadata": {},
     "output_type": "execute_result"
    },
    {
     "data": {
      "image/png": "[encoded data removed]",
      "text/plain": [
       "<Figure size 504x252 with 1 Axes>"
      ]
     },
     "metadata": {
      "needs_background": "light"
     },
     "output_type": "display_data"
    }
   ],
   "source": [
    "sns.distplot(results.resid)"
   ]
  },
  {
   "cell_type": "markdown",
   "metadata": {},
   "source": [
    "**Вывод:** Гистограмма распределения остатков имеет очевидную ассиметрию в центральной части, что говорит о дефектах нормального распределения и следовательно о наличии нелинейных факторов не учтенных в регрессионной модели."
   ]
  },
  {
   "cell_type": "markdown",
   "metadata": {},
   "source": [
    "###### Задание 2.\n",
    "Ответить на вопрос: сохраняется ли аналогичная зависимость для северных и южных городов по отдельности?\n",
    "\n",
    "    Разделить данные на 2 группы\n",
    "    Повторить аналогичные шаги из пункта 1 для каждой группы по отдельности\n"
   ]
  },
  {
   "cell_type": "markdown",
   "metadata": {},
   "source": [
    "Выделим отдельные датафреймы для южных и северных городов"
   ]
  },
  {
   "cell_type": "code",
   "execution_count": 326,
   "metadata": {},
   "outputs": [
    {
     "name": "stdout",
     "output_type": "stream",
     "text": [
      "<class 'pandas.core.frame.DataFrame'>\n",
      "RangeIndex: 61 entries, 0 to 60\n",
      "Data columns (total 4 columns):\n",
      " #   Column     Non-Null Count  Dtype   \n",
      "---  ------     --------------  -----   \n",
      " 0   location   61 non-null     category\n",
      " 1   town       61 non-null     category\n",
      " 2   mortality  61 non-null     int64   \n",
      " 3   hardness   61 non-null     int64   \n",
      "dtypes: category(2), int64(2)\n",
      "memory usage: 4.3 KB\n"
     ]
    },
    {
     "data": {
      "text/plain": [
       "[South, North]\n",
       "Categories (2, object): [South, North]"
      ]
     },
     "execution_count": 326,
     "metadata": {},
     "output_type": "execute_result"
    }
   ],
   "source": [
    "df.info()\n",
    "df['location'].unique()"
   ]
  },
  {
   "cell_type": "code",
   "execution_count": 327,
   "metadata": {},
   "outputs": [
    {
     "name": "stdout",
     "output_type": "stream",
     "text": [
      "<class 'pandas.core.frame.DataFrame'>\n",
      "Int64Index: 26 entries, 0 to 59\n",
      "Data columns (total 4 columns):\n",
      " #   Column     Non-Null Count  Dtype   \n",
      "---  ------     --------------  -----   \n",
      " 0   location   26 non-null     category\n",
      " 1   town       26 non-null     category\n",
      " 2   mortality  26 non-null     int64   \n",
      " 3   hardness   26 non-null     int64   \n",
      "dtypes: category(2), int64(2)\n",
      "memory usage: 3.7 KB\n"
     ]
    }
   ],
   "source": [
    "df_south = df.loc[df['location'] == 'South'] \n",
    "df_south.info()"
   ]
  },
  {
   "cell_type": "code",
   "execution_count": 328,
   "metadata": {},
   "outputs": [
    {
     "name": "stdout",
     "output_type": "stream",
     "text": [
      "<class 'pandas.core.frame.DataFrame'>\n",
      "Int64Index: 35 entries, 1 to 60\n",
      "Data columns (total 4 columns):\n",
      " #   Column     Non-Null Count  Dtype   \n",
      "---  ------     --------------  -----   \n",
      " 0   location   35 non-null     category\n",
      " 1   town       35 non-null     category\n",
      " 2   mortality  35 non-null     int64   \n",
      " 3   hardness   35 non-null     int64   \n",
      "dtypes: category(2), int64(2)\n",
      "memory usage: 4.0 KB\n"
     ]
    }
   ],
   "source": [
    "df_north = df.loc[df['location'] == 'North'] \n",
    "df_north.info()"
   ]
  },
  {
   "cell_type": "markdown",
   "metadata": {},
   "source": [
    "**Основная статистика по южным городам**"
   ]
  },
  {
   "cell_type": "code",
   "execution_count": 329,
   "metadata": {
    "scrolled": true
   },
   "outputs": [
    {
     "data": {
      "text/html": [
       "<div>\n",
       "<style scoped>\n",
       "    .dataframe tbody tr th:only-of-type {\n",
       "        vertical-align: middle;\n",
       "    }\n",
       "\n",
       "    .dataframe tbody tr th {\n",
       "        vertical-align: top;\n",
       "    }\n",
       "\n",
       "    .dataframe thead th {\n",
       "        text-align: right;\n",
       "    }\n",
       "</style>\n",
       "<table border=\"1\" class=\"dataframe\">\n",
       "  <thead>\n",
       "    <tr style=\"text-align: right;\">\n",
       "      <th></th>\n",
       "      <th>mortality</th>\n",
       "      <th>hardness</th>\n",
       "    </tr>\n",
       "  </thead>\n",
       "  <tbody>\n",
       "    <tr>\n",
       "      <th>count</th>\n",
       "      <td>26.000000</td>\n",
       "      <td>26.000000</td>\n",
       "    </tr>\n",
       "    <tr>\n",
       "      <th>mean</th>\n",
       "      <td>1376.807692</td>\n",
       "      <td>69.769231</td>\n",
       "    </tr>\n",
       "    <tr>\n",
       "      <th>std</th>\n",
       "      <td>140.269175</td>\n",
       "      <td>40.360682</td>\n",
       "    </tr>\n",
       "    <tr>\n",
       "      <th>min</th>\n",
       "      <td>1096.000000</td>\n",
       "      <td>5.000000</td>\n",
       "    </tr>\n",
       "    <tr>\n",
       "      <th>25%</th>\n",
       "      <td>1259.250000</td>\n",
       "      <td>40.250000</td>\n",
       "    </tr>\n",
       "    <tr>\n",
       "      <th>50%</th>\n",
       "      <td>1364.000000</td>\n",
       "      <td>75.500000</td>\n",
       "    </tr>\n",
       "    <tr>\n",
       "      <th>75%</th>\n",
       "      <td>1485.750000</td>\n",
       "      <td>99.750000</td>\n",
       "    </tr>\n",
       "    <tr>\n",
       "      <th>max</th>\n",
       "      <td>1627.000000</td>\n",
       "      <td>138.000000</td>\n",
       "    </tr>\n",
       "  </tbody>\n",
       "</table>\n",
       "</div>"
      ],
      "text/plain": [
       "         mortality    hardness\n",
       "count    26.000000   26.000000\n",
       "mean   1376.807692   69.769231\n",
       "std     140.269175   40.360682\n",
       "min    1096.000000    5.000000\n",
       "25%    1259.250000   40.250000\n",
       "50%    1364.000000   75.500000\n",
       "75%    1485.750000   99.750000\n",
       "max    1627.000000  138.000000"
      ]
     },
     "execution_count": 329,
     "metadata": {},
     "output_type": "execute_result"
    }
   ],
   "source": [
    "df_south.describe()"
   ]
  },
  {
   "cell_type": "markdown",
   "metadata": {},
   "source": [
    "**Основная статистика по северным городам**"
   ]
  },
  {
   "cell_type": "code",
   "execution_count": 330,
   "metadata": {},
   "outputs": [
    {
     "data": {
      "text/html": [
       "<div>\n",
       "<style scoped>\n",
       "    .dataframe tbody tr th:only-of-type {\n",
       "        vertical-align: middle;\n",
       "    }\n",
       "\n",
       "    .dataframe tbody tr th {\n",
       "        vertical-align: top;\n",
       "    }\n",
       "\n",
       "    .dataframe thead th {\n",
       "        text-align: right;\n",
       "    }\n",
       "</style>\n",
       "<table border=\"1\" class=\"dataframe\">\n",
       "  <thead>\n",
       "    <tr style=\"text-align: right;\">\n",
       "      <th></th>\n",
       "      <th>mortality</th>\n",
       "      <th>hardness</th>\n",
       "    </tr>\n",
       "  </thead>\n",
       "  <tbody>\n",
       "    <tr>\n",
       "      <th>count</th>\n",
       "      <td>35.000000</td>\n",
       "      <td>35.000000</td>\n",
       "    </tr>\n",
       "    <tr>\n",
       "      <th>mean</th>\n",
       "      <td>1633.600000</td>\n",
       "      <td>30.400000</td>\n",
       "    </tr>\n",
       "    <tr>\n",
       "      <th>std</th>\n",
       "      <td>136.936911</td>\n",
       "      <td>26.134494</td>\n",
       "    </tr>\n",
       "    <tr>\n",
       "      <th>min</th>\n",
       "      <td>1378.000000</td>\n",
       "      <td>6.000000</td>\n",
       "    </tr>\n",
       "    <tr>\n",
       "      <th>25%</th>\n",
       "      <td>1557.500000</td>\n",
       "      <td>12.500000</td>\n",
       "    </tr>\n",
       "    <tr>\n",
       "      <th>50%</th>\n",
       "      <td>1637.000000</td>\n",
       "      <td>17.000000</td>\n",
       "    </tr>\n",
       "    <tr>\n",
       "      <th>75%</th>\n",
       "      <td>1718.000000</td>\n",
       "      <td>44.000000</td>\n",
       "    </tr>\n",
       "    <tr>\n",
       "      <th>max</th>\n",
       "      <td>1987.000000</td>\n",
       "      <td>94.000000</td>\n",
       "    </tr>\n",
       "  </tbody>\n",
       "</table>\n",
       "</div>"
      ],
      "text/plain": [
       "         mortality   hardness\n",
       "count    35.000000  35.000000\n",
       "mean   1633.600000  30.400000\n",
       "std     136.936911  26.134494\n",
       "min    1378.000000   6.000000\n",
       "25%    1557.500000  12.500000\n",
       "50%    1637.000000  17.000000\n",
       "75%    1718.000000  44.000000\n",
       "max    1987.000000  94.000000"
      ]
     },
     "execution_count": 330,
     "metadata": {},
     "output_type": "execute_result"
    }
   ],
   "source": [
    "df_north.describe()"
   ]
  },
  {
   "cell_type": "markdown",
   "metadata": {},
   "source": [
    "###### Бокс-плоты для данных жёсткости воды и смертности\n",
    "\n"
   ]
  },
  {
   "cell_type": "code",
   "execution_count": 332,
   "metadata": {
    "scrolled": true
   },
   "outputs": [
    {
     "data": {
      "text/plain": [
       "<matplotlib.axes._subplots.AxesSubplot at 0x1ab27a30>"
      ]
     },
     "execution_count": 332,
     "metadata": {},
     "output_type": "execute_result"
    },
    {
     "data": {
      "image/png": "[encoded data removed]",
      "text/plain": [
       "<Figure size 720x288 with 4 Axes>"
      ]
     },
     "metadata": {
      "needs_background": "light"
     },
     "output_type": "display_data"
    }
   ],
   "source": [
    "fig,axes = plt.subplots(nrows=1, ncols=4)\n",
    "fig.tight_layout() # отодвинуть графики\n",
    "#увеличим дефолтный размер графиков\n",
    "rcParams['figure.figsize'] = 15,5\n",
    "df_south['hardness'].plot(ax=axes[0], kind='box',\n",
    "                   title='Жёсткость воды Юг', grid=True)\n",
    "df_south['mortality'].plot(ax=axes[1], kind='box',\n",
    "                   title='Смертность Юг', grid=True)\n",
    "df_north['hardness'].plot(ax=axes[2], kind='box',\n",
    "                   title='Жёсткость воды Север', grid=True)\n",
    "df_north['mortality'].plot(ax=axes[3], kind='box',\n",
    "                   title='Смертность Север', grid=True)"
   ]
  },
  {
   "cell_type": "markdown",
   "metadata": {},
   "source": [
    "Типичной точкой отсечения, которую следует учитывать при удалении наблюдения, является значение DFFITS, равное 2-кратному sqrt (k / n), где k - количество переменных, а n - размер выборки. "
   ]
  },
  {
   "cell_type": "code",
   "execution_count": 333,
   "metadata": {},
   "outputs": [
    {
     "name": "stdout",
     "output_type": "stream",
     "text": [
      "Значение выбросов столбца \"hardness\" по \"внутренним границам\" (1,5 межквартильного размаха):\n"
     ]
    },
    {
     "data": {
      "text/html": [
       "<div>\n",
       "<style scoped>\n",
       "    .dataframe tbody tr th:only-of-type {\n",
       "        vertical-align: middle;\n",
       "    }\n",
       "\n",
       "    .dataframe tbody tr th {\n",
       "        vertical-align: top;\n",
       "    }\n",
       "\n",
       "    .dataframe thead th {\n",
       "        text-align: right;\n",
       "    }\n",
       "</style>\n",
       "<table border=\"1\" class=\"dataframe\">\n",
       "  <thead>\n",
       "    <tr style=\"text-align: right;\">\n",
       "      <th></th>\n",
       "      <th>location</th>\n",
       "      <th>town</th>\n",
       "      <th>mortality</th>\n",
       "      <th>hardness</th>\n",
       "    </tr>\n",
       "  </thead>\n",
       "  <tbody>\n",
       "    <tr>\n",
       "      <th>21</th>\n",
       "      <td>North</td>\n",
       "      <td>Grimsby</td>\n",
       "      <td>1379</td>\n",
       "      <td>94</td>\n",
       "    </tr>\n",
       "  </tbody>\n",
       "</table>\n",
       "</div>"
      ],
      "text/plain": [
       "   location     town  mortality  hardness\n",
       "21    North  Grimsby       1379        94"
      ]
     },
     "metadata": {},
     "output_type": "display_data"
    },
    {
     "name": "stdout",
     "output_type": "stream",
     "text": [
      "Значение выбросов столбца \"mortality\" по \"внутренним границам\" (1,5 межквартильного размаха):\n"
     ]
    },
    {
     "data": {
      "text/html": [
       "<div>\n",
       "<style scoped>\n",
       "    .dataframe tbody tr th:only-of-type {\n",
       "        vertical-align: middle;\n",
       "    }\n",
       "\n",
       "    .dataframe tbody tr th {\n",
       "        vertical-align: top;\n",
       "    }\n",
       "\n",
       "    .dataframe thead th {\n",
       "        text-align: right;\n",
       "    }\n",
       "</style>\n",
       "<table border=\"1\" class=\"dataframe\">\n",
       "  <thead>\n",
       "    <tr style=\"text-align: right;\">\n",
       "      <th></th>\n",
       "      <th>location</th>\n",
       "      <th>town</th>\n",
       "      <th>mortality</th>\n",
       "      <th>hardness</th>\n",
       "    </tr>\n",
       "  </thead>\n",
       "  <tbody>\n",
       "    <tr>\n",
       "      <th>45</th>\n",
       "      <td>North</td>\n",
       "      <td>Salford</td>\n",
       "      <td>1987</td>\n",
       "      <td>8</td>\n",
       "    </tr>\n",
       "  </tbody>\n",
       "</table>\n",
       "</div>"
      ],
      "text/plain": [
       "   location     town  mortality  hardness\n",
       "45    North  Salford       1987         8"
      ]
     },
     "execution_count": 333,
     "metadata": {},
     "output_type": "execute_result"
    }
   ],
   "source": [
    "# Расчёт выбросов  по «внутренним границам»:\n",
    "q1 = df_north['hardness'].quantile(0.25)\n",
    "q3 = df_north['hardness'].quantile(0.75)\n",
    "iqr = q3 - q1\n",
    "lower_bound_int = q1 - (1.5 * iqr) \n",
    "upper_bound_int = q3 + (1.5 * iqr)\n",
    "print ('Значение выбросов столбца \"hardness\" по \"внутренним границам\" (1,5 межквартильного размаха):')\n",
    "display(df_north[~df_north['hardness'].between(lower_bound_int, upper_bound_int, inclusive=True)])\n",
    "\n",
    "# Расчёт выбросов для столбца mortality по «внутренним границам»:\n",
    "q1 = df_north['mortality'].quantile(0.25)\n",
    "q3 = df_north['mortality'].quantile(0.75)\n",
    "iqr = q3 - q1\n",
    "lower_bound_int = q1 - (1.5 * iqr) \n",
    "upper_bound_int = q3 + (1.5 * iqr)\n",
    "print ('Значение выбросов столбца \"mortality\" по \"внутренним границам\" (1,5 межквартильного размаха):')\n",
    "df_north[~df_north['mortality'].between(lower_bound_int, upper_bound_int, inclusive=True)]"
   ]
  },
  {
   "cell_type": "markdown",
   "metadata": {},
   "source": [
    "**Вывод:** Имеются выбросы в столбцах данных mortality и hardness."
   ]
  },
  {
   "cell_type": "markdown",
   "metadata": {},
   "source": [
    "**a. Построить точечный график**"
   ]
  },
  {
   "cell_type": "markdown",
   "metadata": {},
   "source": [
    "#### Диаграмма рассеяния"
   ]
  },
  {
   "cell_type": "code",
   "execution_count": 335,
   "metadata": {},
   "outputs": [
    {
     "data": {
      "text/plain": [
       "<matplotlib.axes._subplots.AxesSubplot at 0x1ae4d640>"
      ]
     },
     "execution_count": 335,
     "metadata": {},
     "output_type": "execute_result"
    },
    {
     "data": {
      "image/png": "[encoded data removed]",
      "text/plain": [
       "<Figure size 720x720 with 2 Axes>"
      ]
     },
     "metadata": {
      "needs_background": "light"
     },
     "output_type": "display_data"
    }
   ],
   "source": [
    "# посмотрим графически на взаимосвязь между жёсткостью воды и смертностью для Севера и Юга\n",
    "fig,axes = plt.subplots(nrows=2, ncols=1)\n",
    "fig.tight_layout(h_pad=5) # отодвинуть графики\n",
    "rcParams['figure.figsize'] = 10,5\n",
    "\n",
    "df_north.plot(kind='scatter', ax=axes[0], x='hardness', \n",
    "        y='mortality', \n",
    "        title='Зависимость между жёсткостью воды и смертностью для Севера')\n",
    "df_south.plot(kind='scatter', ax=axes[1],\n",
    "        x='hardness', \n",
    "        y='mortality', \n",
    "        title='Зависимость между жёсткостью воды и смертностью для Юга')\n",
    "        "
   ]
  },
  {
   "cell_type": "markdown",
   "metadata": {},
   "source": [
    "**Вывод:** Визуально наблюдается обратная корреляция как для Юга, так и для Севера."
   ]
  },
  {
   "cell_type": "markdown",
   "metadata": {},
   "source": [
    "**b. Рассчитать коэффициенты корреляции Пирсона и Спирмена**"
   ]
  },
  {
   "cell_type": "code",
   "execution_count": 336,
   "metadata": {},
   "outputs": [
    {
     "data": {
      "text/html": [
       "<div>\n",
       "<style scoped>\n",
       "    .dataframe tbody tr th:only-of-type {\n",
       "        vertical-align: middle;\n",
       "    }\n",
       "\n",
       "    .dataframe tbody tr th {\n",
       "        vertical-align: top;\n",
       "    }\n",
       "\n",
       "    .dataframe thead th {\n",
       "        text-align: right;\n",
       "    }\n",
       "</style>\n",
       "<table border=\"1\" class=\"dataframe\">\n",
       "  <thead>\n",
       "    <tr style=\"text-align: right;\">\n",
       "      <th></th>\n",
       "      <th>hardness</th>\n",
       "      <th>mortality</th>\n",
       "    </tr>\n",
       "  </thead>\n",
       "  <tbody>\n",
       "    <tr>\n",
       "      <th>hardness</th>\n",
       "      <td>1.000000</td>\n",
       "      <td>-0.368598</td>\n",
       "    </tr>\n",
       "    <tr>\n",
       "      <th>mortality</th>\n",
       "      <td>-0.368598</td>\n",
       "      <td>1.000000</td>\n",
       "    </tr>\n",
       "  </tbody>\n",
       "</table>\n",
       "</div>"
      ],
      "text/plain": [
       "           hardness  mortality\n",
       "hardness   1.000000  -0.368598\n",
       "mortality -0.368598   1.000000"
      ]
     },
     "metadata": {},
     "output_type": "display_data"
    },
    {
     "data": {
      "text/html": [
       "<div>\n",
       "<style scoped>\n",
       "    .dataframe tbody tr th:only-of-type {\n",
       "        vertical-align: middle;\n",
       "    }\n",
       "\n",
       "    .dataframe tbody tr th {\n",
       "        vertical-align: top;\n",
       "    }\n",
       "\n",
       "    .dataframe thead th {\n",
       "        text-align: right;\n",
       "    }\n",
       "</style>\n",
       "<table border=\"1\" class=\"dataframe\">\n",
       "  <thead>\n",
       "    <tr style=\"text-align: right;\">\n",
       "      <th></th>\n",
       "      <th>hardness</th>\n",
       "      <th>mortality</th>\n",
       "    </tr>\n",
       "  </thead>\n",
       "  <tbody>\n",
       "    <tr>\n",
       "      <th>hardness</th>\n",
       "      <td>1.000000</td>\n",
       "      <td>-0.404208</td>\n",
       "    </tr>\n",
       "    <tr>\n",
       "      <th>mortality</th>\n",
       "      <td>-0.404208</td>\n",
       "      <td>1.000000</td>\n",
       "    </tr>\n",
       "  </tbody>\n",
       "</table>\n",
       "</div>"
      ],
      "text/plain": [
       "           hardness  mortality\n",
       "hardness   1.000000  -0.404208\n",
       "mortality -0.404208   1.000000"
      ]
     },
     "execution_count": 336,
     "metadata": {},
     "output_type": "execute_result"
    }
   ],
   "source": [
    "# считаем коэф. корреляции Пирсона и Спирмана для Севера:\n",
    "display(df_north[['hardness',  'mortality']].corr())\n",
    "# считаем коэф. корреляции Спирмана\n",
    "df_north[['hardness',  'mortality']].corr(method='spearman')"
   ]
  },
  {
   "cell_type": "markdown",
   "metadata": {},
   "source": [
    "**Вывод:** По сравнению с общей выборкой коэффициенты корреляции для выборки Севера снизились, связи между параметрами стали слабыми."
   ]
  },
  {
   "cell_type": "code",
   "execution_count": 337,
   "metadata": {},
   "outputs": [
    {
     "data": {
      "text/html": [
       "<div>\n",
       "<style scoped>\n",
       "    .dataframe tbody tr th:only-of-type {\n",
       "        vertical-align: middle;\n",
       "    }\n",
       "\n",
       "    .dataframe tbody tr th {\n",
       "        vertical-align: top;\n",
       "    }\n",
       "\n",
       "    .dataframe thead th {\n",
       "        text-align: right;\n",
       "    }\n",
       "</style>\n",
       "<table border=\"1\" class=\"dataframe\">\n",
       "  <thead>\n",
       "    <tr style=\"text-align: right;\">\n",
       "      <th></th>\n",
       "      <th>hardness</th>\n",
       "      <th>mortality</th>\n",
       "    </tr>\n",
       "  </thead>\n",
       "  <tbody>\n",
       "    <tr>\n",
       "      <th>hardness</th>\n",
       "      <td>1.000000</td>\n",
       "      <td>-0.602153</td>\n",
       "    </tr>\n",
       "    <tr>\n",
       "      <th>mortality</th>\n",
       "      <td>-0.602153</td>\n",
       "      <td>1.000000</td>\n",
       "    </tr>\n",
       "  </tbody>\n",
       "</table>\n",
       "</div>"
      ],
      "text/plain": [
       "           hardness  mortality\n",
       "hardness   1.000000  -0.602153\n",
       "mortality -0.602153   1.000000"
      ]
     },
     "metadata": {},
     "output_type": "display_data"
    },
    {
     "data": {
      "text/html": [
       "<div>\n",
       "<style scoped>\n",
       "    .dataframe tbody tr th:only-of-type {\n",
       "        vertical-align: middle;\n",
       "    }\n",
       "\n",
       "    .dataframe tbody tr th {\n",
       "        vertical-align: top;\n",
       "    }\n",
       "\n",
       "    .dataframe thead th {\n",
       "        text-align: right;\n",
       "    }\n",
       "</style>\n",
       "<table border=\"1\" class=\"dataframe\">\n",
       "  <thead>\n",
       "    <tr style=\"text-align: right;\">\n",
       "      <th></th>\n",
       "      <th>hardness</th>\n",
       "      <th>mortality</th>\n",
       "    </tr>\n",
       "  </thead>\n",
       "  <tbody>\n",
       "    <tr>\n",
       "      <th>hardness</th>\n",
       "      <td>1.000000</td>\n",
       "      <td>-0.595723</td>\n",
       "    </tr>\n",
       "    <tr>\n",
       "      <th>mortality</th>\n",
       "      <td>-0.595723</td>\n",
       "      <td>1.000000</td>\n",
       "    </tr>\n",
       "  </tbody>\n",
       "</table>\n",
       "</div>"
      ],
      "text/plain": [
       "           hardness  mortality\n",
       "hardness   1.000000  -0.595723\n",
       "mortality -0.595723   1.000000"
      ]
     },
     "execution_count": 337,
     "metadata": {},
     "output_type": "execute_result"
    }
   ],
   "source": [
    "# считаем коэф. корреляции Пирсона и Спирмана для Севера:\n",
    "display(df_south[['hardness',  'mortality']].corr())\n",
    "# считаем коэф. корреляции Спирмана\n",
    "df_south[['hardness',  'mortality']].corr(method='spearman')"
   ]
  },
  {
   "cell_type": "markdown",
   "metadata": {},
   "source": [
    "**Вывод:** По сравнению с общей выборкой для выборки Юга  коэффициенты корреляции незначительно снизились, связи между параметрами на грани между сильными и слабыми."
   ]
  },
  {
   "cell_type": "markdown",
   "metadata": {},
   "source": [
    "**c. Построить модель линейной регрессии**"
   ]
  },
  {
   "cell_type": "markdown",
   "metadata": {},
   "source": [
    "**Моделирование для региона Север:**"
   ]
  },
  {
   "cell_type": "markdown",
   "metadata": {},
   "source": [
    "Создаем массивы:\n",
    "**X** - по умолчанию многомерный массив (вектор) исходных параметров для прогноза, в нашем случае только 1 параметр -  *hardness*.\n",
    "**y** - выходной прогнозный параметр -  *mortality* смертность."
   ]
  },
  {
   "cell_type": "code",
   "execution_count": 338,
   "metadata": {},
   "outputs": [],
   "source": [
    "X_north = df_north[['hardness']]\n",
    "y_north = df_north['mortality']"
   ]
  },
  {
   "cell_type": "markdown",
   "metadata": {},
   "source": [
    "Выполним разбиение с паметром - train_size=0.67 - **67%** для обучения модели, **33%** - для тестирования) "
   ]
  },
  {
   "cell_type": "code",
   "execution_count": 339,
   "metadata": {},
   "outputs": [
    {
     "name": "stdout",
     "output_type": "stream",
     "text": [
      "Всего строк в датасете для Севера: 35\n",
      "Количество строк в y_train - выборка для обучения: 23\n",
      "Количество строк в y_test -выборка дляя тестирования: 12\n"
     ]
    }
   ],
   "source": [
    "X_train_north, X_test_north, y_train_north, y_test_north = train_test_split(\n",
    "    \n",
    "    \n",
    "    X_north, y_north, train_size=0.67, random_state=42)\n",
    "print (f'Всего строк в датасете для Севера: {len(df_north)}')\n",
    "print(f\"Количество строк в y_train - выборка для обучения: {len(y_train_north)}\")\n",
    "print(f\"Количество строк в y_test -выборка дляя тестирования: {len(y_test_north)}\")"
   ]
  },
  {
   "cell_type": "code",
   "execution_count": 340,
   "metadata": {},
   "outputs": [
    {
     "data": {
      "text/plain": [
       "LinearRegression()"
      ]
     },
     "execution_count": 340,
     "metadata": {},
     "output_type": "execute_result"
    }
   ],
   "source": [
    "model_north = LinearRegression()\n",
    "model_north.fit(X_train_north, y_train_north)  # метод обучается на данных и подбирает оптимальные коэффициенты"
   ]
  },
  {
   "cell_type": "code",
   "execution_count": 341,
   "metadata": {},
   "outputs": [
    {
     "data": {
      "text/plain": [
       "<matplotlib.axes._subplots.AxesSubplot at 0x1b2703d0>"
      ]
     },
     "execution_count": 341,
     "metadata": {},
     "output_type": "execute_result"
    },
    {
     "data": {
      "image/png": "[encoded data removed]",
      "text/plain": [
       "<Figure size 576x288 with 1 Axes>"
      ]
     },
     "metadata": {
      "needs_background": "light"
     },
     "output_type": "display_data"
    }
   ],
   "source": [
    "rcParams['figure.figsize'] = 8,4\n",
    "sns.distplot(y_train_north)"
   ]
  },
  {
   "cell_type": "markdown",
   "metadata": {},
   "source": [
    "Пробуем выполнить предсказание для известной части данных из X_test:"
   ]
  },
  {
   "cell_type": "code",
   "execution_count": 342,
   "metadata": {},
   "outputs": [
    {
     "data": {
      "text/plain": [
       "array([1642.29292436, 1639.15685946, 1623.476535  , 1648.56505414,\n",
       "       1617.20440521, 1444.72083607, 1529.39458819, 1642.29292436,\n",
       "       1545.07491266, 1620.3404701 , 1545.07491266, 1604.66014564])"
      ]
     },
     "execution_count": 342,
     "metadata": {},
     "output_type": "execute_result"
    }
   ],
   "source": [
    "y_pred_north = model.predict(X_test_north)\n",
    "y_pred_north"
   ]
  },
  {
   "cell_type": "markdown",
   "metadata": {},
   "source": [
    "**Сравним значения предсказанные моделью с реальными значениями:**"
   ]
  },
  {
   "cell_type": "code",
   "execution_count": 343,
   "metadata": {},
   "outputs": [
    {
     "name": "stdout",
     "output_type": "stream",
     "text": [
      "Для региона Север:\n",
      " 1. Реальное значение смертности:1987 смоделированное значение смертности:1338 жёсткость: 8\n",
      " 2. Реальное значение смертности:1574 смоделированное значение смертности:1636 жёсткость: 9\n",
      " 3. Реальное значение смертности:1444 смоделированное значение смертности:1623 жёсткость: 14\n",
      " 4. Реальное значение смертности:1724 смоделированное значение смертности:1529 жёсткость: 6\n",
      " 5. Реальное значение смертности:1591 смоделированное значение смертности:1423 жёсткость: 16\n",
      " 6. Реальное значение смертности:1713 смоделированное значение смертности:1605 жёсткость: 71\n",
      " 7. Реальное значение смертности:1702 смоделированное значение смертности:1250 жёсткость: 44\n",
      " 8. Реальное значение смертности:1742 смоделированное значение смертности:1432 жёсткость: 8\n",
      " 9. Реальное значение смертности:1555 смоделированное значение смертности:1602 жёсткость: 39\n",
      "10. Реальное значение смертности:1772 смоделированное значение смертности:1649 жёсткость: 15\n",
      "11. Реальное значение смертности:1428 смоделированное значение смертности:1482 жёсткость: 39\n",
      "12. Реальное значение смертности:1625 смоделированное значение смертности:1413 жёсткость: 20\n"
     ]
    }
   ],
   "source": [
    "i = 0\n",
    "X_test_vals_north = [x for x in X_test_north['hardness']]\n",
    "print('Для региона Север:')\n",
    "for y_test_val in y_test_north:\n",
    "    print(f'{i+1:2d}. Реальное значение смертности:{y_test_val}\\\n",
    " смоделированное значение смертности:{y_pred[i]:.0f} жёсткость: {X_test_vals_north[i]:}')\n",
    "    i += 1"
   ]
  },
  {
   "cell_type": "code",
   "execution_count": 344,
   "metadata": {},
   "outputs": [
    {
     "name": "stdout",
     "output_type": "stream",
     "text": [
      "Коэффициент модели для Севера: \n",
      " [-1.9947167]\n",
      "Поправка для Севера: 1689.7784976331984\n"
     ]
    }
   ],
   "source": [
    "print(\"Коэффициент модели для Севера: \\n\", model_north.coef_)\n",
    "print('Поправка для Севера:', model_north.intercept_)"
   ]
  },
  {
   "cell_type": "code",
   "execution_count": 345,
   "metadata": {},
   "outputs": [
    {
     "name": "stdout",
     "output_type": "stream",
     "text": [
      "Средняя смертность по всему датасету Севера:1634\n"
     ]
    }
   ],
   "source": [
    "print (f'Средняя смертность по всему датасету Севера:{df_north[\"mortality\"].mean():.0f}')"
   ]
  },
  {
   "cell_type": "markdown",
   "metadata": {},
   "source": [
    "**Вывод:** Поправка фактически равна среднему значению смертности, что уже без дальнейших вычислений говорит о неточности модели. "
   ]
  },
  {
   "cell_type": "code",
   "execution_count": 346,
   "metadata": {},
   "outputs": [
    {
     "data": {
      "text/plain": [
       "<matplotlib.legend.Legend at 0x1b4d17c0>"
      ]
     },
     "execution_count": 346,
     "metadata": {},
     "output_type": "execute_result"
    },
    {
     "data": {
      "image/png": "[encoded data removed]",
      "text/plain": [
       "<Figure size 576x288 with 1 Axes>"
      ]
     },
     "metadata": {
      "needs_background": "light"
     },
     "output_type": "display_data"
    }
   ],
   "source": [
    "plt.title('Диаграмма рассеяния для Севера', fontsize=15)\n",
    "plt.xlabel('Жёсткость воды', fontsize=12, color='black')\n",
    "plt.ylabel('Смертность', fontsize=12, color='black')\n",
    "\n",
    "plt.grid(True)\n",
    "# Реальные данные\n",
    "points1, = plt.plot(X_test_north, y_test_north, 'ro', color='green')\n",
    "# Данные модели\n",
    "points2, = plt.plot(X_test_north, y_pred_north,  color='red')\n",
    "\n",
    "plt.legend((points1, points2), ['реальные данные', 'модель'])\n"
   ]
  },
  {
   "cell_type": "markdown",
   "metadata": {},
   "source": [
    "**d. Рассчитать коэффициент детерминации**"
   ]
  },
  {
   "cell_type": "code",
   "execution_count": 347,
   "metadata": {},
   "outputs": [
    {
     "name": "stdout",
     "output_type": "stream",
     "text": [
      "Коэффициент детерминации модели для Севера (метод score объекта LinearRegression):0.02\n"
     ]
    }
   ],
   "source": [
    "r2_model_north = model_north.score(X_test_north, y_test_north)\n",
    "print(f'Коэффициент детерминации модели для Севера (метод score объекта LinearRegression):{r2_model_north:.2f}') "
   ]
  },
  {
   "cell_type": "code",
   "execution_count": 348,
   "metadata": {},
   "outputs": [
    {
     "name": "stdout",
     "output_type": "stream",
     "text": [
      "Коэффициент детерминации модели для Севера (расчёт функцией r2_score):-0.20\n"
     ]
    }
   ],
   "source": [
    "# https/www.geeksforgeeks.org/python-coefficient-of-determination-r2-score/\n",
    "\n",
    "r2_north= r2_score(y_test_north,y_pred_north)\n",
    "print(f'Коэффициент детерминации модели для Севера (расчёт функцией r2_score):{r2_north:.2f}')"
   ]
  },
  {
   "cell_type": "markdown",
   "metadata": {},
   "source": [
    "**Вывод:** Модель по региону Север непригода для прогноза, что было ясно изначально ввиду низкого коэффициента корреляции."
   ]
  },
  {
   "cell_type": "markdown",
   "metadata": {},
   "source": [
    "**Моделирование для региона Юг:**"
   ]
  },
  {
   "cell_type": "code",
   "execution_count": 349,
   "metadata": {},
   "outputs": [],
   "source": [
    "X_south = df_south[['hardness']]\n",
    "y_south = df_south['mortality']"
   ]
  },
  {
   "cell_type": "markdown",
   "metadata": {},
   "source": [
    "Выполним разбиение с паметром - train_size=0.67 - **67%** для обучения модели, **33%** - для тестирования) для датасета Юга:"
   ]
  },
  {
   "cell_type": "code",
   "execution_count": 350,
   "metadata": {},
   "outputs": [
    {
     "name": "stdout",
     "output_type": "stream",
     "text": [
      "Всего строк в датасете для Юга: 26\n",
      "Количество строк в y_train - выборка для обучения: 17\n",
      "Количество строк в y_test -выборка дляя тестирования: 9\n"
     ]
    }
   ],
   "source": [
    "X_train_south, X_test_south, y_train_south, y_test_south = train_test_split(X_south, y_south, \n",
    "                                                                            train_size=0.67, \n",
    "                                                                            random_state=42)\n",
    "print (f'Всего строк в датасете для Юга: {len(df_south)}')\n",
    "print(f\"Количество строк в y_train - выборка для обучения: {len(y_train_south)}\")\n",
    "print(f\"Количество строк в y_test -выборка дляя тестирования: {len(y_test_south)}\")"
   ]
  },
  {
   "cell_type": "code",
   "execution_count": 351,
   "metadata": {},
   "outputs": [
    {
     "data": {
      "text/plain": [
       "LinearRegression()"
      ]
     },
     "execution_count": 351,
     "metadata": {},
     "output_type": "execute_result"
    }
   ],
   "source": [
    "model_south = LinearRegression()\n",
    "model_south.fit(X_train_south, y_train_south)  # метод обучается на данных и подбирает оптимальные коэффициенты"
   ]
  },
  {
   "cell_type": "code",
   "execution_count": 352,
   "metadata": {},
   "outputs": [
    {
     "data": {
      "text/plain": [
       "<matplotlib.axes._subplots.AxesSubplot at 0x1b5416a0>"
      ]
     },
     "execution_count": 352,
     "metadata": {},
     "output_type": "execute_result"
    },
    {
     "data": {
      "image/png": "[encoded data removed]",
      "text/plain": [
       "<Figure size 576x288 with 1 Axes>"
      ]
     },
     "metadata": {
      "needs_background": "light"
     },
     "output_type": "display_data"
    }
   ],
   "source": [
    "rcParams['figure.figsize'] = 8,4\n",
    "sns.distplot(y_train_south)"
   ]
  },
  {
   "cell_type": "markdown",
   "metadata": {},
   "source": [
    "Пробуем выполнить предсказание для известной части данных из X_test:"
   ]
  },
  {
   "cell_type": "code",
   "execution_count": 353,
   "metadata": {},
   "outputs": [
    {
     "data": {
      "text/plain": [
       "array([1209.95583268, 1599.47401874, 1266.55249219, 1209.95583268,\n",
       "       1492.93913024, 1546.20657449, 1419.6963944 , 1599.47401874,\n",
       "       1439.671686  ])"
      ]
     },
     "execution_count": 353,
     "metadata": {},
     "output_type": "execute_result"
    }
   ],
   "source": [
    "y_pred_south = model_south.predict(X_test_south)\n",
    "y_pred_south"
   ]
  },
  {
   "cell_type": "markdown",
   "metadata": {},
   "source": [
    "**Сравним значения предсказанные моделью с реальными значениями:**"
   ]
  },
  {
   "cell_type": "code",
   "execution_count": 354,
   "metadata": {},
   "outputs": [
    {
     "name": "stdout",
     "output_type": "stream",
     "text": [
      "Для региона Юг:\n",
      " 1. Реальное значение смертности:1318 смоделированное значение смертности:1338 жёсткость: 122\n",
      " 2. Реальное значение смертности:1486 смоделированное значение смертности:1636 жёсткость: 5\n",
      " 3. Реальное значение смертности:1247 смоделированное значение смертности:1623 жёсткость: 105\n",
      " 4. Реальное значение смертности:1486 смоделированное значение смертности:1529 жёсткость: 122\n",
      " 5. Реальное значение смертности:1402 смоделированное значение смертности:1423 жёсткость: 37\n",
      " 6. Реальное значение смертности:1260 смоделированное значение смертности:1605 жёсткость: 21\n",
      " 7. Реальное значение смертности:1309 смоделированное значение смертности:1250 жёсткость: 59\n",
      " 8. Реальное значение смертности:1466 смоделированное значение смертности:1432 жёсткость: 5\n",
      " 9. Реальное значение смертности:1627 смоделированное значение смертности:1602 жёсткость: 53\n"
     ]
    }
   ],
   "source": [
    "i = 0\n",
    "X_test_vals_south = [x for x in X_test_south['hardness']]\n",
    "print('Для региона Юг:')\n",
    "for y_test_val in y_test_south:\n",
    "    print(f'{i+1:2d}. Реальное значение смертности:{y_test_val}\\\n",
    " смоделированное значение смертности:{y_pred[i]:.0f} жёсткость: {X_test_vals_south[i]:}')\n",
    "    i +=1"
   ]
  },
  {
   "cell_type": "code",
   "execution_count": 355,
   "metadata": {},
   "outputs": [
    {
     "name": "stdout",
     "output_type": "stream",
     "text": [
      "Коэффициент модели для Юга: \n",
      " [-3.32921527]\n",
      "Поправка для Юга: 1616.1200950622008\n"
     ]
    }
   ],
   "source": [
    "print(\"Коэффициент модели для Юга: \\n\", model_south.coef_)\n",
    "print('Поправка для Юга:', model_south.intercept_)"
   ]
  },
  {
   "cell_type": "code",
   "execution_count": 356,
   "metadata": {},
   "outputs": [
    {
     "name": "stdout",
     "output_type": "stream",
     "text": [
      "Средняя смертность по всему датасету Юг:1377\n"
     ]
    }
   ],
   "source": [
    "print (f'Средняя смертность по всему датасету Юг:{df_south[\"mortality\"].mean():.0f}')"
   ]
  },
  {
   "cell_type": "markdown",
   "metadata": {},
   "source": [
    "**Вывод:** Поправка фактически больше среднего значения смертности, что уже без дальнейших вычислений говорит о неточности модели. "
   ]
  },
  {
   "cell_type": "code",
   "execution_count": 357,
   "metadata": {
    "scrolled": true
   },
   "outputs": [
    {
     "data": {
      "text/plain": [
       "<matplotlib.legend.Legend at 0x180827f0>"
      ]
     },
     "execution_count": 357,
     "metadata": {},
     "output_type": "execute_result"
    },
    {
     "data": {
      "image/png": "[encoded data removed]",
      "text/plain": [
       "<Figure size 576x288 with 1 Axes>"
      ]
     },
     "metadata": {
      "needs_background": "light"
     },
     "output_type": "display_data"
    }
   ],
   "source": [
    "rcParams['figure.figsize'] = 8,4\n",
    "plt.title('Диаграмма рассеяния для Юга', fontsize=15)\n",
    "plt.xlabel('Жёсткость воды', fontsize=12, color='black')\n",
    "plt.ylabel('Смертность', fontsize=12, color='black')\n",
    "plt.grid(True)\n",
    "# Реальные данные\n",
    "points1, = plt.plot(X_test_south, y_test_south, 'ro', color='brown')\n",
    "# Данные модели\n",
    "points2, = plt.plot(X_test_south, y_pred_south,  color='red')\n",
    "\n",
    "plt.legend((points1, points2), ['реальные данные', 'модель'])\n"
   ]
  },
  {
   "cell_type": "markdown",
   "metadata": {},
   "source": [
    "**d. Рассчитать коэффициент детерминации**"
   ]
  },
  {
   "cell_type": "code",
   "execution_count": 358,
   "metadata": {},
   "outputs": [
    {
     "name": "stdout",
     "output_type": "stream",
     "text": [
      "Коэффициент детерминации модели для Юга (метод score объекта LinearRegression):-0.99\n"
     ]
    }
   ],
   "source": [
    "r2_model_south = model_south.score(X_test_south, y_test_south)\n",
    "print(f'Коэффициент детерминации модели для Юга (метод score объекта LinearRegression):{r2_model_south:.2f}') "
   ]
  },
  {
   "cell_type": "code",
   "execution_count": 359,
   "metadata": {},
   "outputs": [
    {
     "name": "stdout",
     "output_type": "stream",
     "text": [
      "Коэффициент детерминации модели для Севера (расчёт функцией r2_score):-0.99\n"
     ]
    }
   ],
   "source": [
    "# https/www.geeksforgeeks.org/python-coefficient-of-determination-r2-score/\n",
    "\n",
    "r2_south= r2_score(y_test_south,y_pred_south)\n",
    "print(f'Коэффициент детерминации модели для Севера (расчёт функцией r2_score):{r2_south:.2f}')"
   ]
  },
  {
   "cell_type": "markdown",
   "metadata": {},
   "source": [
    "**Вывод:** Модель по региону Юг полностью непригода для прогноза."
   ]
  },
  {
   "cell_type": "markdown",
   "metadata": {},
   "source": [
    "**e. Вывести график остатков**"
   ]
  },
  {
   "cell_type": "markdown",
   "metadata": {},
   "source": [
    "Построение диаграмм остатков выполним на при помощи библиотеки **statsmodels**\n",
    "\n",
    "https://www.geeksforgeeks.org/how-to-create-a-residual-plot-in-python/"
   ]
  },
  {
   "cell_type": "markdown",
   "metadata": {},
   "source": [
    "**Построение графика остатков для датасета Севера:**"
   ]
  },
  {
   "cell_type": "code",
   "execution_count": 360,
   "metadata": {},
   "outputs": [],
   "source": [
    "import statsmodels.api as sm\n",
    "from statsmodels.formula.api import ols\n",
    "\n",
    "X_north = df_north[['hardness']]\n",
    "y_north = df_north['mortality']"
   ]
  },
  {
   "cell_type": "code",
   "execution_count": 361,
   "metadata": {},
   "outputs": [],
   "source": [
    "X_train_north, X_test_north, y_train_north, y_test_north = train_test_split(X_north, \n",
    "                                                                            y_north, \n",
    "                                                                            test_size=0.33, \n",
    "                                                                            random_state=42)"
   ]
  },
  {
   "cell_type": "code",
   "execution_count": 362,
   "metadata": {},
   "outputs": [],
   "source": [
    "X_const_north = sm.add_constant(X_train_north) # техническая особенность библиотеки, надо руками добавить константу"
   ]
  },
  {
   "cell_type": "code",
   "execution_count": 363,
   "metadata": {},
   "outputs": [
    {
     "name": "stdout",
     "output_type": "stream",
     "text": [
      "                            OLS Regression Results                            \n",
      "==============================================================================\n",
      "Dep. Variable:              mortality   R-squared:                       0.195\n",
      "Model:                            OLS   Adj. R-squared:                  0.156\n",
      "Method:                 Least Squares   F-statistic:                     5.080\n",
      "Date:                Sat, 28 Jan 2023   Prob (F-statistic):             0.0350\n",
      "Time:                        12:51:32   Log-Likelihood:                -141.53\n",
      "No. Observations:                  23   AIC:                             287.1\n",
      "Df Residuals:                      21   BIC:                             289.3\n",
      "Df Model:                           1                                         \n",
      "Covariance Type:            nonrobust                                         \n",
      "==============================================================================\n",
      "                 coef    std err          t      P>|t|      [0.025      0.975]\n",
      "------------------------------------------------------------------------------\n",
      "const       1689.7785     38.807     43.543      0.000    1609.075    1770.482\n",
      "hardness      -1.9947      0.885     -2.254      0.035      -3.835      -0.154\n",
      "==============================================================================\n",
      "Omnibus:                        3.599   Durbin-Watson:                   1.872\n",
      "Prob(Omnibus):                  0.165   Jarque-Bera (JB):                1.646\n",
      "Skew:                          -0.301   Prob(JB):                        0.439\n",
      "Kurtosis:                       1.836   Cond. No.                         68.5\n",
      "==============================================================================\n",
      "\n",
      "Warnings:\n",
      "[1] Standard Errors assume that the covariance matrix of the errors is correctly specified.\n"
     ]
    }
   ],
   "source": [
    "stat_model_north = sm.OLS(y_train_north, X_const_north)\n",
    "results_north = stat_model_north.fit()\n",
    "print(results_north.summary())"
   ]
  },
  {
   "cell_type": "code",
   "execution_count": 364,
   "metadata": {},
   "outputs": [
    {
     "name": "stdout",
     "output_type": "stream",
     "text": [
      "Коэффициент детерминации R2: 0.19\n"
     ]
    }
   ],
   "source": [
    "print(f'Коэффициент детерминации R2: {results_north.rsquared:.2f}')"
   ]
  },
  {
   "cell_type": "code",
   "execution_count": 365,
   "metadata": {
    "scrolled": false
   },
   "outputs": [
    {
     "data": {
      "image/png": "[encoded data removed]",
      "text/plain": [
       "<Figure size 1008x576 with 4 Axes>"
      ]
     },
     "metadata": {
      "needs_background": "light"
     },
     "output_type": "display_data"
    }
   ],
   "source": [
    "# modify figure size\n",
    "fig = plt.figure(figsize=(14, 8))\n",
    "# creating regression plots\n",
    "fig = sm.graphics.plot_regress_exog(results_north,\n",
    "                                    'hardness',\n",
    "                                    fig=fig)"
   ]
  },
  {
   "cell_type": "code",
   "execution_count": 366,
   "metadata": {},
   "outputs": [
    {
     "data": {
      "text/plain": [
       "<matplotlib.axes._subplots.AxesSubplot at 0x16d69df0>"
      ]
     },
     "execution_count": 366,
     "metadata": {},
     "output_type": "execute_result"
    },
    {
     "data": {
      "image/png": "[encoded data removed]",
      "text/plain": [
       "<Figure size 576x288 with 1 Axes>"
      ]
     },
     "metadata": {
      "needs_background": "light"
     },
     "output_type": "display_data"
    }
   ],
   "source": [
    "sns.distplot(results_north.resid)"
   ]
  },
  {
   "cell_type": "markdown",
   "metadata": {},
   "source": [
    "**Вывод:** На графике распределения остатков наблюдается неравномерность. О каком-либо нормальном распределении говорить не приходиться."
   ]
  },
  {
   "cell_type": "markdown",
   "metadata": {},
   "source": [
    "**Построение графика остатков для датасета Юга:**"
   ]
  },
  {
   "cell_type": "code",
   "execution_count": 367,
   "metadata": {},
   "outputs": [],
   "source": [
    "import statsmodels.api as sm\n",
    "from statsmodels.formula.api import ols\n",
    "\n",
    "X_south = df_south[['hardness']]\n",
    "y_south = df_south['mortality']"
   ]
  },
  {
   "cell_type": "code",
   "execution_count": 368,
   "metadata": {},
   "outputs": [],
   "source": [
    "X_train_south, X_test_south, y_train_south, y_test_south = train_test_split(X_south, \n",
    "                                                                            y_south, \n",
    "                                                                            test_size=0.33, \n",
    "                                                                            random_state=42)"
   ]
  },
  {
   "cell_type": "code",
   "execution_count": 369,
   "metadata": {},
   "outputs": [],
   "source": [
    "X_const_south = sm.add_constant(X_train_south) # техническая особенность библиотеки, надо руками добавить константу"
   ]
  },
  {
   "cell_type": "code",
   "execution_count": 370,
   "metadata": {},
   "outputs": [
    {
     "name": "stdout",
     "output_type": "stream",
     "text": [
      "                            OLS Regression Results                            \n",
      "==============================================================================\n",
      "Dep. Variable:              mortality   R-squared:                       0.661\n",
      "Model:                            OLS   Adj. R-squared:                  0.638\n",
      "Method:                 Least Squares   F-statistic:                     29.24\n",
      "Date:                Sat, 28 Jan 2023   Prob (F-statistic):           7.27e-05\n",
      "Time:                        12:51:45   Log-Likelihood:                -99.492\n",
      "No. Observations:                  17   AIC:                             203.0\n",
      "Df Residuals:                      15   BIC:                             204.7\n",
      "Df Model:                           1                                         \n",
      "Covariance Type:            nonrobust                                         \n",
      "==============================================================================\n",
      "                 coef    std err          t      P>|t|      [0.025      0.975]\n",
      "------------------------------------------------------------------------------\n",
      "const       1616.1201     51.369     31.461      0.000    1506.631    1725.610\n",
      "hardness      -3.3292      0.616     -5.407      0.000      -4.641      -2.017\n",
      "==============================================================================\n",
      "Omnibus:                        0.248   Durbin-Watson:                   2.150\n",
      "Prob(Omnibus):                  0.883   Jarque-Bera (JB):                0.045\n",
      "Skew:                          -0.095   Prob(JB):                        0.978\n",
      "Kurtosis:                       2.836   Cond. No.                         197.\n",
      "==============================================================================\n",
      "\n",
      "Warnings:\n",
      "[1] Standard Errors assume that the covariance matrix of the errors is correctly specified.\n"
     ]
    },
    {
     "name": "stderr",
     "output_type": "stream",
     "text": [
      "C:\\Users\\User\\anaconda3\\lib\\site-packages\\scipy\\stats\\stats.py:1603: UserWarning: kurtosistest only valid for n>=20 ... continuing anyway, n=17\n",
      "  warnings.warn(\"kurtosistest only valid for n>=20 ... continuing \"\n"
     ]
    }
   ],
   "source": [
    "stat_model_south = sm.OLS(y_train_south, X_const_south)\n",
    "results_south = stat_model_south.fit()\n",
    "print(results_south.summary())"
   ]
  },
  {
   "cell_type": "code",
   "execution_count": 372,
   "metadata": {
    "scrolled": false
   },
   "outputs": [
    {
     "data": {
      "image/png": "[encoded data removed]",
      "text/plain": [
       "<Figure size 1008x576 with 4 Axes>"
      ]
     },
     "metadata": {
      "needs_background": "light"
     },
     "output_type": "display_data"
    }
   ],
   "source": [
    "# modify figure size\n",
    "fig = plt.figure(figsize=(14, 8))\n",
    "# creating regression plots\n",
    "fig = sm.graphics.plot_regress_exog(results_south,\n",
    "                                    'hardness',\n",
    "                                    fig=fig)"
   ]
  },
  {
   "cell_type": "code",
   "execution_count": 373,
   "metadata": {},
   "outputs": [
    {
     "data": {
      "text/plain": [
       "<matplotlib.axes._subplots.AxesSubplot at 0x15b665b0>"
      ]
     },
     "execution_count": 373,
     "metadata": {},
     "output_type": "execute_result"
    },
    {
     "data": {
      "image/png": "[encoded data removed]",
      "text/plain": [
       "<Figure size 576x288 with 1 Axes>"
      ]
     },
     "metadata": {
      "needs_background": "light"
     },
     "output_type": "display_data"
    }
   ],
   "source": [
    "sns.distplot(results_south.resid)"
   ]
  },
  {
   "cell_type": "markdown",
   "metadata": {},
   "source": [
    "**Вывод:** На графике распределения остатков наблюдается неравномерность. О каком-либо нормальном распределении говорить не приходиться."
   ]
  }
 ],
 "metadata": {
  "colab": {
   "provenance": []
  },
  "kernelspec": {
   "display_name": "Python 3",
   "language": "python",
   "name": "python3"
  },
  "language_info": {
   "codemirror_mode": {
    "name": "ipython",
    "version": 3
   },
   "file_extension": ".py",
   "mimetype": "text/x-python",
   "name": "python",
   "nbconvert_exporter": "python",
   "pygments_lexer": "ipython3",
   "version": "3.8.3"
  }
 },
 "nbformat": 4,
 "nbformat_minor": 1
}
