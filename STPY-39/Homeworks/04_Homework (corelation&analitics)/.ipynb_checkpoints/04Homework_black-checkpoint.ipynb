{
 "cells": [
  {
   "cell_type": "markdown",
   "metadata": {
    "id": "0JuWO8oMOU5g"
   },
   "source": [
    "###### Домашнее задание1.\n",
    "**Задача** - ответить на вопрос есть ли связь между жёсткостью воды и средней годовой смертностью?\n",
    "\n",
    "a.Построить точечный график\n",
    "\n",
    "b.Рассчитать коэффициенты корреляции Пирсона и Спирмена\n",
    "\n",
    "c.Построить модель линейной регрессии\n",
    "\n",
    "d.Рассчитать коэффициент детерминации\n",
    "\n",
    "e.Вывести график остатков\n",
    "\n",
    "2.Сохраняется ли аналогичная зависимость для северных и южных городов по отдельности?\n",
    "\n",
    "a.Разделить данные на 2 группы\n",
    "\n",
    "b.Повторить аналогичные шаги из пункта 1 для каждой группы по отдельности\n"
   ]
  },
  {
   "cell_type": "code",
   "execution_count": 27,
   "metadata": {
    "id": "GjFveC25OTRN"
   },
   "outputs": [],
   "source": [
    "import pandas as pd\n",
    "import numpy as np\n",
    "from tabulate import tabulate\n",
    "import matplotlib.pyplot as plt\n",
    "import seaborn as sns"
   ]
  },
  {
   "cell_type": "code",
   "execution_count": 10,
   "metadata": {
    "colab": {
     "base_uri": "https://localhost:8080/",
     "height": 206
    },
    "id": "oOkcbKleOTRR",
    "outputId": "0ceb1734-55d4-4dae-9f59-8e8b63339b32"
   },
   "outputs": [
    {
     "data": {
      "text/html": [
       "<div>\n",
       "<style scoped>\n",
       "    .dataframe tbody tr th:only-of-type {\n",
       "        vertical-align: middle;\n",
       "    }\n",
       "\n",
       "    .dataframe tbody tr th {\n",
       "        vertical-align: top;\n",
       "    }\n",
       "\n",
       "    .dataframe thead th {\n",
       "        text-align: right;\n",
       "    }\n",
       "</style>\n",
       "<table border=\"1\" class=\"dataframe\">\n",
       "  <thead>\n",
       "    <tr style=\"text-align: right;\">\n",
       "      <th></th>\n",
       "      <th>location</th>\n",
       "      <th>town</th>\n",
       "      <th>mortality</th>\n",
       "      <th>hardness</th>\n",
       "    </tr>\n",
       "  </thead>\n",
       "  <tbody>\n",
       "    <tr>\n",
       "      <th>0</th>\n",
       "      <td>South</td>\n",
       "      <td>Bath</td>\n",
       "      <td>1247</td>\n",
       "      <td>105</td>\n",
       "    </tr>\n",
       "    <tr>\n",
       "      <th>1</th>\n",
       "      <td>North</td>\n",
       "      <td>Birkenhead</td>\n",
       "      <td>1668</td>\n",
       "      <td>17</td>\n",
       "    </tr>\n",
       "    <tr>\n",
       "      <th>2</th>\n",
       "      <td>South</td>\n",
       "      <td>Birmingham</td>\n",
       "      <td>1466</td>\n",
       "      <td>5</td>\n",
       "    </tr>\n",
       "    <tr>\n",
       "      <th>3</th>\n",
       "      <td>North</td>\n",
       "      <td>Blackburn</td>\n",
       "      <td>1800</td>\n",
       "      <td>14</td>\n",
       "    </tr>\n",
       "    <tr>\n",
       "      <th>4</th>\n",
       "      <td>North</td>\n",
       "      <td>Blackpool</td>\n",
       "      <td>1609</td>\n",
       "      <td>18</td>\n",
       "    </tr>\n",
       "  </tbody>\n",
       "</table>\n",
       "</div>"
      ],
      "text/plain": [
       "  location        town  mortality  hardness\n",
       "0    South        Bath       1247       105\n",
       "1    North  Birkenhead       1668        17\n",
       "2    South  Birmingham       1466         5\n",
       "3    North   Blackburn       1800        14\n",
       "4    North   Blackpool       1609        18"
      ]
     },
     "execution_count": 10,
     "metadata": {},
     "output_type": "execute_result"
    }
   ],
   "source": [
    "df = pd.read_csv('water.csv', usecols=[\"location\", \"town\", \"mortality\",\"hardness\"])\n",
    "                        \n",
    "# какие типы признаков в нашем датафрейме?\n",
    "df.head()"
   ]
  },
  {
   "cell_type": "code",
   "execution_count": 11,
   "metadata": {},
   "outputs": [
    {
     "name": "stdout",
     "output_type": "stream",
     "text": [
      "<class 'pandas.core.frame.DataFrame'>\n",
      "RangeIndex: 61 entries, 0 to 60\n",
      "Data columns (total 4 columns):\n",
      " #   Column     Non-Null Count  Dtype \n",
      "---  ------     --------------  ----- \n",
      " 0   location   61 non-null     object\n",
      " 1   town       61 non-null     object\n",
      " 2   mortality  61 non-null     int64 \n",
      " 3   hardness   61 non-null     int64 \n",
      "dtypes: int64(2), object(2)\n",
      "memory usage: 2.0+ KB\n"
     ]
    }
   ],
   "source": [
    "df.info()"
   ]
  },
  {
   "cell_type": "markdown",
   "metadata": {},
   "source": [
    "**Вывод:** Пропусков в данных не имеется. Типы данных определены корректно."
   ]
  },
  {
   "cell_type": "code",
   "execution_count": 12,
   "metadata": {},
   "outputs": [
    {
     "name": "stdout",
     "output_type": "stream",
     "text": [
      "<class 'pandas.core.frame.DataFrame'>\n",
      "RangeIndex: 61 entries, 0 to 60\n",
      "Data columns (total 4 columns):\n",
      " #   Column     Non-Null Count  Dtype   \n",
      "---  ------     --------------  -----   \n",
      " 0   location   61 non-null     category\n",
      " 1   town       61 non-null     category\n",
      " 2   mortality  61 non-null     int64   \n",
      " 3   hardness   61 non-null     int64   \n",
      "dtypes: category(2), int64(2)\n",
      "memory usage: 4.3 KB\n"
     ]
    }
   ],
   "source": [
    "# уточним тип данных для столбцов location и town- категориальных переменных:\n",
    "df['location'] = df['location'].astype('category')\n",
    "df['town'] = df['town'].astype('category')\n",
    "df.info()"
   ]
  },
  {
   "cell_type": "code",
   "execution_count": 13,
   "metadata": {
    "scrolled": true
   },
   "outputs": [
    {
     "data": {
      "text/html": [
       "<div>\n",
       "<style scoped>\n",
       "    .dataframe tbody tr th:only-of-type {\n",
       "        vertical-align: middle;\n",
       "    }\n",
       "\n",
       "    .dataframe tbody tr th {\n",
       "        vertical-align: top;\n",
       "    }\n",
       "\n",
       "    .dataframe thead th {\n",
       "        text-align: right;\n",
       "    }\n",
       "</style>\n",
       "<table border=\"1\" class=\"dataframe\">\n",
       "  <thead>\n",
       "    <tr style=\"text-align: right;\">\n",
       "      <th></th>\n",
       "      <th>mortality</th>\n",
       "      <th>hardness</th>\n",
       "    </tr>\n",
       "  </thead>\n",
       "  <tbody>\n",
       "    <tr>\n",
       "      <th>count</th>\n",
       "      <td>61.000000</td>\n",
       "      <td>61.000000</td>\n",
       "    </tr>\n",
       "    <tr>\n",
       "      <th>mean</th>\n",
       "      <td>1524.147541</td>\n",
       "      <td>47.180328</td>\n",
       "    </tr>\n",
       "    <tr>\n",
       "      <th>std</th>\n",
       "      <td>187.668754</td>\n",
       "      <td>38.093966</td>\n",
       "    </tr>\n",
       "    <tr>\n",
       "      <th>min</th>\n",
       "      <td>1096.000000</td>\n",
       "      <td>5.000000</td>\n",
       "    </tr>\n",
       "    <tr>\n",
       "      <th>25%</th>\n",
       "      <td>1379.000000</td>\n",
       "      <td>14.000000</td>\n",
       "    </tr>\n",
       "    <tr>\n",
       "      <th>50%</th>\n",
       "      <td>1555.000000</td>\n",
       "      <td>39.000000</td>\n",
       "    </tr>\n",
       "    <tr>\n",
       "      <th>75%</th>\n",
       "      <td>1668.000000</td>\n",
       "      <td>75.000000</td>\n",
       "    </tr>\n",
       "    <tr>\n",
       "      <th>max</th>\n",
       "      <td>1987.000000</td>\n",
       "      <td>138.000000</td>\n",
       "    </tr>\n",
       "  </tbody>\n",
       "</table>\n",
       "</div>"
      ],
      "text/plain": [
       "         mortality    hardness\n",
       "count    61.000000   61.000000\n",
       "mean   1524.147541   47.180328\n",
       "std     187.668754   38.093966\n",
       "min    1096.000000    5.000000\n",
       "25%    1379.000000   14.000000\n",
       "50%    1555.000000   39.000000\n",
       "75%    1668.000000   75.000000\n",
       "max    1987.000000  138.000000"
      ]
     },
     "execution_count": 13,
     "metadata": {},
     "output_type": "execute_result"
    }
   ],
   "source": [
    "df.describe()"
   ]
  },
  {
   "cell_type": "markdown",
   "metadata": {},
   "source": [
    "###### Бокс-плоты для данных жёсткости воды и смертности\n",
    "\n"
   ]
  },
  {
   "cell_type": "code",
   "execution_count": 14,
   "metadata": {
    "scrolled": true
   },
   "outputs": [
    {
     "data": {
      "text/plain": [
       "<matplotlib.axes._subplots.AxesSubplot at 0x9068c70>"
      ]
     },
     "execution_count": 14,
     "metadata": {},
     "output_type": "execute_result"
    },
    {
     "data": {
      "image/png": "[encoded data removed]",
      "text/plain": [
       "<Figure size 432x288 with 2 Axes>"
      ]
     },
     "metadata": {
      "needs_background": "light"
     },
     "output_type": "display_data"
    }
   ],
   "source": [
    "fig,axes = plt.subplots(nrows=1, ncols=2)\n",
    "fig. tight_layout() # отодвинуть графики\n",
    "\n",
    "df['hardness'].plot(ax=axes[0], kind='box',\n",
    "                   title='Жёсткость воды', grid=True)\n",
    "\n",
    "\n",
    "df['mortality'].plot(ax=axes[1], kind='box',\n",
    "                   title='Смертность', grid=True)"
   ]
  },
  {
   "cell_type": "code",
   "execution_count": 15,
   "metadata": {},
   "outputs": [
    {
     "name": "stdout",
     "output_type": "stream",
     "text": [
      "Значение выбросов столбца \"hardness\" по \"внутренним границам\" (1,5 межквартильного размаха):\n"
     ]
    },
    {
     "data": {
      "text/html": [
       "<div>\n",
       "<style scoped>\n",
       "    .dataframe tbody tr th:only-of-type {\n",
       "        vertical-align: middle;\n",
       "    }\n",
       "\n",
       "    .dataframe tbody tr th {\n",
       "        vertical-align: top;\n",
       "    }\n",
       "\n",
       "    .dataframe thead th {\n",
       "        text-align: right;\n",
       "    }\n",
       "</style>\n",
       "<table border=\"1\" class=\"dataframe\">\n",
       "  <thead>\n",
       "    <tr style=\"text-align: right;\">\n",
       "      <th></th>\n",
       "      <th>location</th>\n",
       "      <th>town</th>\n",
       "      <th>mortality</th>\n",
       "      <th>hardness</th>\n",
       "    </tr>\n",
       "  </thead>\n",
       "  <tbody>\n",
       "  </tbody>\n",
       "</table>\n",
       "</div>"
      ],
      "text/plain": [
       "Empty DataFrame\n",
       "Columns: [location, town, mortality, hardness]\n",
       "Index: []"
      ]
     },
     "execution_count": 15,
     "metadata": {},
     "output_type": "execute_result"
    }
   ],
   "source": [
    "# Расчёт выбросов для столбца hardness по «внутренним границам»:\n",
    "q1 = df['hardness'].quantile(0.25)\n",
    "q3 = df['hardness'].quantile(0.75)\n",
    "iqr = q3 - q1\n",
    "lower_bound_int = q1 - (1.5 * iqr) \n",
    "upper_bound_int = q3 + (1.5 * iqr)\n",
    "print ('Значение выбросов столбца \"hardness\" по \"внутренним границам\" (1,5 межквартильного размаха):')\n",
    "df[~df['hardness'].between(lower_bound_int, upper_bound_int, inclusive=True)]"
   ]
  },
  {
   "cell_type": "code",
   "execution_count": 16,
   "metadata": {},
   "outputs": [
    {
     "name": "stdout",
     "output_type": "stream",
     "text": [
      "Значение выбросов столбца \"hardness\" по \"внутренним границам\" (1,5 межквартильного размаха):\n"
     ]
    },
    {
     "data": {
      "text/html": [
       "<div>\n",
       "<style scoped>\n",
       "    .dataframe tbody tr th:only-of-type {\n",
       "        vertical-align: middle;\n",
       "    }\n",
       "\n",
       "    .dataframe tbody tr th {\n",
       "        vertical-align: top;\n",
       "    }\n",
       "\n",
       "    .dataframe thead th {\n",
       "        text-align: right;\n",
       "    }\n",
       "</style>\n",
       "<table border=\"1\" class=\"dataframe\">\n",
       "  <thead>\n",
       "    <tr style=\"text-align: right;\">\n",
       "      <th></th>\n",
       "      <th>location</th>\n",
       "      <th>town</th>\n",
       "      <th>mortality</th>\n",
       "      <th>hardness</th>\n",
       "    </tr>\n",
       "  </thead>\n",
       "  <tbody>\n",
       "  </tbody>\n",
       "</table>\n",
       "</div>"
      ],
      "text/plain": [
       "Empty DataFrame\n",
       "Columns: [location, town, mortality, hardness]\n",
       "Index: []"
      ]
     },
     "execution_count": 16,
     "metadata": {},
     "output_type": "execute_result"
    }
   ],
   "source": [
    "# Расчёт выбросов для столбца mortality по «внутренним границам»:\n",
    "q1 = df['mortality'].quantile(0.25)\n",
    "q3 = df['mortality'].quantile(0.75)\n",
    "iqr = q3 - q1\n",
    "lower_bound_int = q1 - (1.5 * iqr) \n",
    "upper_bound_int = q3 + (1.5 * iqr)\n",
    "print ('Значение выбросов столбца \"mortality\" по \"внутренним границам\" (1,5 межквартильного размаха):')\n",
    "df[~df['mortality'].between(lower_bound_int, upper_bound_int, inclusive=True)]"
   ]
  },
  {
   "cell_type": "markdown",
   "metadata": {},
   "source": [
    "**Вывод:** выбросов в столбцах данных mortality и hardness не обнаружено. Можно применять критерий Пирсона."
   ]
  },
  {
   "cell_type": "markdown",
   "metadata": {},
   "source": [
    "**a. Построить точечный график**"
   ]
  },
  {
   "cell_type": "markdown",
   "metadata": {},
   "source": [
    "#### Диаграмма рассеяния"
   ]
  },
  {
   "cell_type": "code",
   "execution_count": 17,
   "metadata": {},
   "outputs": [
    {
     "data": {
      "text/plain": [
       "<matplotlib.axes._subplots.AxesSubplot at 0x915fa90>"
      ]
     },
     "execution_count": 17,
     "metadata": {},
     "output_type": "execute_result"
    },
    {
     "data": {
      "image/png": "[encoded data removed]",
      "text/plain": [
       "<Figure size 432x288 with 1 Axes>"
      ]
     },
     "metadata": {
      "needs_background": "light"
     },
     "output_type": "display_data"
    }
   ],
   "source": [
    "# посмотрим графически на взаимосвязь между жёсткостью воды и смертностью\n",
    "df.plot(kind='scatter', \n",
    "        x='hardness', \n",
    "        y='mortality', \n",
    "        title='Зависимость между жёсткостью воды и смертностью')\n"
   ]
  },
  {
   "cell_type": "markdown",
   "metadata": {},
   "source": [
    "**Вывод:** Визуально наблюдается обратная корреляция."
   ]
  },
  {
   "cell_type": "markdown",
   "metadata": {},
   "source": [
    "**b. Рассчитать коэффициенты корреляции Пирсона и Спирмена**"
   ]
  },
  {
   "cell_type": "code",
   "execution_count": 18,
   "metadata": {},
   "outputs": [
    {
     "data": {
      "text/html": [
       "<div>\n",
       "<style scoped>\n",
       "    .dataframe tbody tr th:only-of-type {\n",
       "        vertical-align: middle;\n",
       "    }\n",
       "\n",
       "    .dataframe tbody tr th {\n",
       "        vertical-align: top;\n",
       "    }\n",
       "\n",
       "    .dataframe thead th {\n",
       "        text-align: right;\n",
       "    }\n",
       "</style>\n",
       "<table border=\"1\" class=\"dataframe\">\n",
       "  <thead>\n",
       "    <tr style=\"text-align: right;\">\n",
       "      <th></th>\n",
       "      <th>hardness</th>\n",
       "      <th>mortality</th>\n",
       "    </tr>\n",
       "  </thead>\n",
       "  <tbody>\n",
       "    <tr>\n",
       "      <th>hardness</th>\n",
       "      <td>1.000000</td>\n",
       "      <td>-0.654849</td>\n",
       "    </tr>\n",
       "    <tr>\n",
       "      <th>mortality</th>\n",
       "      <td>-0.654849</td>\n",
       "      <td>1.000000</td>\n",
       "    </tr>\n",
       "  </tbody>\n",
       "</table>\n",
       "</div>"
      ],
      "text/plain": [
       "           hardness  mortality\n",
       "hardness   1.000000  -0.654849\n",
       "mortality -0.654849   1.000000"
      ]
     },
     "execution_count": 18,
     "metadata": {},
     "output_type": "execute_result"
    }
   ],
   "source": [
    "# считаем коэф. корреляции Пирсона\n",
    "df[['hardness',  'mortality']].corr()"
   ]
  },
  {
   "cell_type": "code",
   "execution_count": 19,
   "metadata": {},
   "outputs": [
    {
     "data": {
      "text/html": [
       "<div>\n",
       "<style scoped>\n",
       "    .dataframe tbody tr th:only-of-type {\n",
       "        vertical-align: middle;\n",
       "    }\n",
       "\n",
       "    .dataframe tbody tr th {\n",
       "        vertical-align: top;\n",
       "    }\n",
       "\n",
       "    .dataframe thead th {\n",
       "        text-align: right;\n",
       "    }\n",
       "</style>\n",
       "<table border=\"1\" class=\"dataframe\">\n",
       "  <thead>\n",
       "    <tr style=\"text-align: right;\">\n",
       "      <th></th>\n",
       "      <th>hardness</th>\n",
       "      <th>mortality</th>\n",
       "    </tr>\n",
       "  </thead>\n",
       "  <tbody>\n",
       "    <tr>\n",
       "      <th>hardness</th>\n",
       "      <td>1.000000</td>\n",
       "      <td>-0.631665</td>\n",
       "    </tr>\n",
       "    <tr>\n",
       "      <th>mortality</th>\n",
       "      <td>-0.631665</td>\n",
       "      <td>1.000000</td>\n",
       "    </tr>\n",
       "  </tbody>\n",
       "</table>\n",
       "</div>"
      ],
      "text/plain": [
       "           hardness  mortality\n",
       "hardness   1.000000  -0.631665\n",
       "mortality -0.631665   1.000000"
      ]
     },
     "execution_count": 19,
     "metadata": {},
     "output_type": "execute_result"
    }
   ],
   "source": [
    "# считаем коэф. корреляции Спирмана\n",
    "df[['hardness',  'mortality']].corr(method='spearman')"
   ]
  },
  {
   "cell_type": "markdown",
   "metadata": {},
   "source": [
    "**Вывод**: Эмпирически связь между показателями жёсткости воды и смертности, расчитанными по методам Пирсона и  Спирмана является *сильной*, что однако не означает наличие причиннно-следственных связей между данными показателями."
   ]
  },
  {
   "cell_type": "markdown",
   "metadata": {},
   "source": [
    "**c. Построить модель линейной регрессии**"
   ]
  },
  {
   "cell_type": "code",
   "execution_count": 20,
   "metadata": {},
   "outputs": [],
   "source": [
    "# Грузим библиотеки \n",
    "\n",
    "from sklearn.linear_model import LinearRegression\n",
    "from sklearn.model_selection import train_test_split"
   ]
  },
  {
   "cell_type": "markdown",
   "metadata": {},
   "source": [
    "Создаем массивы:\n",
    "**X** - по умолчанию многомерный массив (вектор) исходных параметров для прогноза, в нашем случае только 1 параметр -  *hardness*.\n",
    "**y** - выходной прогнозный параметр -  *mortality* смертность."
   ]
  },
  {
   "cell_type": "code",
   "execution_count": 22,
   "metadata": {},
   "outputs": [],
   "source": [
    "X = df[['hardness']]\n",
    "y = df['mortality']"
   ]
  },
  {
   "cell_type": "markdown",
   "metadata": {},
   "source": [
    "Выполним разбиение с паметром - train_size=0.67 - **67%** для обучения модели, **33%** - для тестирования) "
   ]
  },
  {
   "cell_type": "code",
   "execution_count": 25,
   "metadata": {},
   "outputs": [
    {
     "name": "stdout",
     "output_type": "stream",
     "text": [
      "Всего строк в датасете: 61\n",
      "Количество строк в y_train - выборка для обучения: 40\n",
      "Количество строк в y_test -выборка дляя тестирования: 21\n"
     ]
    }
   ],
   "source": [
    "X_train, X_test, y_train, y_test = train_test_split(X, y, train_size=0.67, random_state=42)\n",
    "print (f'Всего строк в датасете: {len(df)}')\n",
    "print(f\"Количество строк в y_train - выборка для обучения: {len(y_train)}\")\n",
    "print(f\"Количество строк в y_test -выборка дляя тестирования: {len(y_test)}\")"
   ]
  },
  {
   "cell_type": "code",
   "execution_count": 26,
   "metadata": {},
   "outputs": [
    {
     "data": {
      "text/plain": [
       "LinearRegression()"
      ]
     },
     "execution_count": 26,
     "metadata": {},
     "output_type": "execute_result"
    }
   ],
   "source": [
    "model = LinearRegression()\n",
    "model.fit(X_train, y_train)  # метод обучается на данных и подбирает оптимальные коэффициенты"
   ]
  },
  {
   "cell_type": "code",
   "execution_count": 28,
   "metadata": {},
   "outputs": [
    {
     "data": {
      "text/plain": [
       "<matplotlib.axes._subplots.AxesSubplot at 0xb76fe50>"
      ]
     },
     "execution_count": 28,
     "metadata": {},
     "output_type": "execute_result"
    },
    {
     "data": {
      "image/png": "[encoded data removed]",
      "text/plain": [
       "<Figure size 432x288 with 1 Axes>"
      ]
     },
     "metadata": {
      "needs_background": "light"
     },
     "output_type": "display_data"
    }
   ],
   "source": [
    "sns.distplot(y_train)"
   ]
  },
  {
   "cell_type": "markdown",
   "metadata": {},
   "source": [
    "Пробуем выполнить предсказание для известной части данных из X_test:"
   ]
  },
  {
   "cell_type": "code",
   "execution_count": 29,
   "metadata": {},
   "outputs": [
    {
     "data": {
      "text/plain": [
       "array([1338.09462969, 1636.02079457, 1623.476535  , 1529.39458819,\n",
       "       1422.76838181, 1604.66014564, 1250.28481267, 1432.17657649,\n",
       "       1601.52408074, 1648.56505414, 1482.35361479, 1413.36018713,\n",
       "       1545.07491266, 1623.476535  , 1444.72083607, 1545.07491266,\n",
       "       1636.02079457, 1620.3404701 , 1350.63888926, 1610.93227542,\n",
       "       1513.71426372])"
      ]
     },
     "execution_count": 29,
     "metadata": {},
     "output_type": "execute_result"
    }
   ],
   "source": [
    "y_pred = model.predict(X_test)\n",
    "y_pred"
   ]
  },
  {
   "cell_type": "code",
   "execution_count": 164,
   "metadata": {},
   "outputs": [
    {
     "name": "stdout",
     "output_type": "stream",
     "text": [
      "<class 'pandas.core.series.Series'>\n"
     ]
    },
    {
     "data": {
      "text/plain": [
       "Int64Index([0, 5, 46, 31, 13, 55, 34, 49, 12, 40, 33, 59, 16, 3, 53, 17, 8, 6,\n",
       "            41, 4, 44],\n",
       "           dtype='int64')"
      ]
     },
     "execution_count": 164,
     "metadata": {},
     "output_type": "execute_result"
    }
   ],
   "source": [
    "print(type(y_test))\n",
    "i = 1\n",
    "y_test.index"
   ]
  },
  {
   "cell_type": "code",
   "execution_count": 159,
   "metadata": {},
   "outputs": [
    {
     "data": {
      "text/html": [
       "<div>\n",
       "<style scoped>\n",
       "    .dataframe tbody tr th:only-of-type {\n",
       "        vertical-align: middle;\n",
       "    }\n",
       "\n",
       "    .dataframe tbody tr th {\n",
       "        vertical-align: top;\n",
       "    }\n",
       "\n",
       "    .dataframe thead th {\n",
       "        text-align: right;\n",
       "    }\n",
       "</style>\n",
       "<table border=\"1\" class=\"dataframe\">\n",
       "  <thead>\n",
       "    <tr style=\"text-align: right;\">\n",
       "      <th></th>\n",
       "      <th>hardness</th>\n",
       "    </tr>\n",
       "  </thead>\n",
       "  <tbody>\n",
       "    <tr>\n",
       "      <th>0</th>\n",
       "      <td>105</td>\n",
       "    </tr>\n",
       "    <tr>\n",
       "      <th>5</th>\n",
       "      <td>10</td>\n",
       "    </tr>\n",
       "    <tr>\n",
       "      <th>46</th>\n",
       "      <td>14</td>\n",
       "    </tr>\n",
       "    <tr>\n",
       "      <th>31</th>\n",
       "      <td>44</td>\n",
       "    </tr>\n",
       "    <tr>\n",
       "      <th>13</th>\n",
       "      <td>78</td>\n",
       "    </tr>\n",
       "    <tr>\n",
       "      <th>55</th>\n",
       "      <td>20</td>\n",
       "    </tr>\n",
       "    <tr>\n",
       "      <th>34</th>\n",
       "      <td>133</td>\n",
       "    </tr>\n",
       "    <tr>\n",
       "      <th>49</th>\n",
       "      <td>75</td>\n",
       "    </tr>\n",
       "    <tr>\n",
       "      <th>12</th>\n",
       "      <td>21</td>\n",
       "    </tr>\n",
       "    <tr>\n",
       "      <th>40</th>\n",
       "      <td>6</td>\n",
       "    </tr>\n",
       "  </tbody>\n",
       "</table>\n",
       "</div>"
      ],
      "text/plain": [
       "    hardness\n",
       "0        105\n",
       "5         10\n",
       "46        14\n",
       "31        44\n",
       "13        78\n",
       "55        20\n",
       "34       133\n",
       "49        75\n",
       "12        21\n",
       "40         6"
      ]
     },
     "execution_count": 159,
     "metadata": {},
     "output_type": "execute_result"
    }
   ],
   "source": [
    "type(X_test)\n",
    "X_test.head(10)"
   ]
  },
  {
   "cell_type": "code",
   "execution_count": 151,
   "metadata": {},
   "outputs": [
    {
     "data": {
      "text/plain": [
       "int"
      ]
     },
     "execution_count": 151,
     "metadata": {},
     "output_type": "execute_result"
    }
   ],
   "source": [
    "type(y_test_val)"
   ]
  },
  {
   "cell_type": "markdown",
   "metadata": {},
   "source": [
    "**Сравним значения предсказанные моделью с реальными значениями:**"
   ]
  },
  {
   "cell_type": "code",
   "execution_count": 170,
   "metadata": {},
   "outputs": [
    {
     "name": "stdout",
     "output_type": "stream",
     "text": [
      " 1. Реальное значение смертности:1247 смоделированное значение смертности:1338\n",
      " 2. Реальное значение смертности:1558 смоделированное значение смертности:1636\n",
      " 3. Реальное значение смертности:1495 смоделированное значение смертности:1623\n",
      " 4. Реальное значение смертности:1702 смоделированное значение смертности:1529\n",
      " 5. Реальное значение смертности:1307 смоделированное значение смертности:1423\n",
      " 6. Реальное значение смертности:1625 смоделированное значение смертности:1605\n",
      " 7. Реальное значение смертности:1259 смоделированное значение смертности:1250\n",
      " 8. Реальное значение смертности:1587 смоделированное значение смертности:1432\n",
      " 9. Реальное значение смертности:1519 смоделированное значение смертности:1602\n",
      "10. Реальное значение смертности:1696 смоделированное значение смертности:1649\n",
      "11. Реальное значение смертности:1309 смоделированное значение смертности:1482\n",
      "12. Реальное значение смертности:1485 смоделированное значение смертности:1413\n",
      "13. Реальное значение смертности:1555 смоделированное значение смертности:1545\n",
      "14. Реальное значение смертности:1800 смоделированное значение смертности:1623\n",
      "15. Реальное значение смертности:1709 смоделированное значение смертности:1445\n",
      "16. Реальное значение смертности:1428 смоделированное значение смертности:1545\n",
      "17. Реальное значение смертности:1637 смоделированное значение смертности:1636\n",
      "18. Реальное значение смертности:1807 смоделированное значение смертности:1620\n",
      "19. Реальное значение смертности:1236 смоделированное значение смертности:1351\n",
      "20. Реальное значение смертности:1609 смоделированное значение смертности:1611\n",
      "21. Реальное значение смертности:1591 смоделированное значение смертности:1514\n"
     ]
    }
   ],
   "source": [
    "i = 0\n",
    "for y_test_val in y_test:\n",
    "    print(f'{i+1:2d}. Реальное значение смертности:{y_test_val} смоделированное значение смертности:{y_pred[i]:.0f}')\n",
    "    i +=1"
   ]
  },
  {
   "cell_type": "code",
   "execution_count": 84,
   "metadata": {},
   "outputs": [
    {
     "name": "stdout",
     "output_type": "stream",
     "text": [
      "Коэффициент модели: \n",
      " [-3.13606489]\n",
      "Поправка: 1667.3814435059633\n"
     ]
    }
   ],
   "source": [
    "print(\"Коэффициент модели: \\n\", model.coef_)\n",
    "print('Поправка:', model.intercept_)"
   ]
  },
  {
   "cell_type": "code",
   "execution_count": null,
   "metadata": {},
   "outputs": [],
   "source": [
    "1667.3814     \n",
    "hardness      -3.136"
   ]
  },
  {
   "cell_type": "code",
   "execution_count": 109,
   "metadata": {},
   "outputs": [
    {
     "name": "stdout",
     "output_type": "stream",
     "text": [
      "Средняя смертность по всему датасету:1524\n"
     ]
    }
   ],
   "source": [
    "print (f'Средняя смертность по всему датасету:{df[\"mortality\"].mean():.0f}')"
   ]
  },
  {
   "cell_type": "markdown",
   "metadata": {},
   "source": [
    "**Вывод:** Поправка фактически равна среднему значению смертности, что уже без дальнейших вычислений говорит о неточности модели. "
   ]
  },
  {
   "cell_type": "code",
   "execution_count": 98,
   "metadata": {},
   "outputs": [
    {
     "data": {
      "text/plain": [
       "<matplotlib.legend.Legend at 0xf4f6640>"
      ]
     },
     "execution_count": 98,
     "metadata": {},
     "output_type": "execute_result"
    },
    {
     "data": {
      "image/png": "[encoded data removed]",
      "text/plain": [
       "<Figure size 432x288 with 1 Axes>"
      ]
     },
     "metadata": {
      "needs_background": "light"
     },
     "output_type": "display_data"
    }
   ],
   "source": [
    "plt.title('Диаграмма рассеяния', fontsize=15)\n",
    "plt.xlabel('Жёсткость воды', fontsize=12, color='black')\n",
    "plt.ylabel('Смертность', fontsize=12, color='black')\n",
    "\n",
    "plt.grid(True)\n",
    "# Реальные данные\n",
    "points1, = plt.plot(X_test, y_test, 'ro', color='red')\n",
    "# Данные модели\n",
    "points2, = plt.plot(X_test, y_pred,  color='blue')\n",
    "\n",
    "plt.legend((points1, points2), ['реальные данные', 'модель'])\n"
   ]
  },
  {
   "cell_type": "markdown",
   "metadata": {},
   "source": [
    "**d. Рассчитать коэффициент детерминации**"
   ]
  },
  {
   "cell_type": "code",
   "execution_count": 97,
   "metadata": {},
   "outputs": [
    {
     "name": "stdout",
     "output_type": "stream",
     "text": [
      "Коэффициент детерминации модели (метод score объекта LinearRegression):0.50\n"
     ]
    }
   ],
   "source": [
    "r2_model = model.score(X_test, y_test)\n",
    "print(f'Коэффициент детерминации модели (метод score объекта LinearRegression):{r2_model:.2f}') "
   ]
  },
  {
   "cell_type": "code",
   "execution_count": 96,
   "metadata": {},
   "outputs": [
    {
     "name": "stdout",
     "output_type": "stream",
     "text": [
      "Коэффициент детерминации модели (расчёт функцией r2_score):0.50\n"
     ]
    }
   ],
   "source": [
    "# https/www.geeksforgeeks.org/python-coefficient-of-determination-r2-score/\n",
    "from sklearn.metrics import r2_score\n",
    "r2 = r2_score(y_test,y_pred)\n",
    "print(f'Коэффициент детерминации модели (расчёт функцией r2_score):{r2:.2f}')"
   ]
  },
  {
   "cell_type": "markdown",
   "metadata": {},
   "source": [
    "**Вывод:** Только 50% изменчивости выходного параметра (смертности) может быть объяснено моделью, в то время как остальные 50% изменчивости не могут быть описаны данной моделью."
   ]
  },
  {
   "cell_type": "code",
   "execution_count": 74,
   "metadata": {
    "scrolled": true
   },
   "outputs": [
    {
     "data": {
      "text/plain": [
       "0.428827212801"
      ]
     },
     "execution_count": 74,
     "metadata": {},
     "output_type": "execute_result"
    }
   ],
   "source": [
    "-0.654849*-0.654849"
   ]
  },
  {
   "cell_type": "code",
   "execution_count": 111,
   "metadata": {},
   "outputs": [
    {
     "data": {
      "text/plain": [
       "0.399000672225"
      ]
     },
     "execution_count": 111,
     "metadata": {},
     "output_type": "execute_result"
    }
   ],
   "source": [
    "0.631665**2"
   ]
  },
  {
   "cell_type": "markdown",
   "metadata": {},
   "source": [
    "**e. Вывести график остатков**"
   ]
  },
  {
   "cell_type": "markdown",
   "metadata": {},
   "source": [
    "Построение диаграмм остатков выполним на при помощи библиотеки **statsmodels**\n",
    "\n",
    "https://www.geeksforgeeks.org/how-to-create-a-residual-plot-in-python/"
   ]
  },
  {
   "cell_type": "code",
   "execution_count": 115,
   "metadata": {},
   "outputs": [],
   "source": [
    "import statsmodels.api as sm\n",
    "from statsmodels.formula.api import ols\n",
    "\n",
    "X = df[['hardness']]\n",
    "y = df['mortality']"
   ]
  },
  {
   "cell_type": "code",
   "execution_count": 122,
   "metadata": {},
   "outputs": [],
   "source": [
    "X_train, X_test, y_train, y_test = train_test_split(X, y, test_size=0.33, random_state=42)"
   ]
  },
  {
   "cell_type": "code",
   "execution_count": 123,
   "metadata": {},
   "outputs": [],
   "source": [
    "X_const = sm.add_constant(X_train) # техническая особенность библиотеки, надо руками добавить константу"
   ]
  },
  {
   "cell_type": "code",
   "execution_count": 124,
   "metadata": {},
   "outputs": [
    {
     "name": "stdout",
     "output_type": "stream",
     "text": [
      "                            OLS Regression Results                            \n",
      "==============================================================================\n",
      "Dep. Variable:              mortality   R-squared:                       0.396\n",
      "Model:                            OLS   Adj. R-squared:                  0.380\n",
      "Method:                 Least Squares   F-statistic:                     24.89\n",
      "Date:                Wed, 25 Jan 2023   Prob (F-statistic):           1.38e-05\n",
      "Time:                        21:47:36   Log-Likelihood:                -257.13\n",
      "No. Observations:                  40   AIC:                             518.3\n",
      "Df Residuals:                      38   BIC:                             521.6\n",
      "Df Model:                           1                                         \n",
      "Covariance Type:            nonrobust                                         \n",
      "==============================================================================\n",
      "                 coef    std err          t      P>|t|      [0.025      0.975]\n",
      "------------------------------------------------------------------------------\n",
      "const       1667.3814     38.206     43.642      0.000    1590.037    1744.726\n",
      "hardness      -3.1361      0.629     -4.989      0.000      -4.409      -1.863\n",
      "==============================================================================\n",
      "Omnibus:                        0.284   Durbin-Watson:                   2.241\n",
      "Prob(Omnibus):                  0.868   Jarque-Bera (JB):                0.472\n",
      "Skew:                           0.080   Prob(JB):                        0.790\n",
      "Kurtosis:                       2.492   Cond. No.                         95.6\n",
      "==============================================================================\n",
      "\n",
      "Warnings:\n",
      "[1] Standard Errors assume that the covariance matrix of the errors is correctly specified.\n"
     ]
    }
   ],
   "source": [
    "\n",
    "stat_model = sm.OLS(y_train, X_const)\n",
    "results = stat_model.fit()\n",
    "print(results.summary())"
   ]
  },
  {
   "cell_type": "code",
   "execution_count": 121,
   "metadata": {},
   "outputs": [
    {
     "name": "stdout",
     "output_type": "stream",
     "text": [
      "Коэффициент детерминации R2: 0.40\n"
     ]
    }
   ],
   "source": [
    "print(f'Коэффициент детерминации R2: {results.rsquared:.2f}')"
   ]
  },
  {
   "cell_type": "markdown",
   "metadata": {},
   "source": [
    "**Вывод:** Данная библиотека определяет коэффициент детерминации в 0.4."
   ]
  },
  {
   "cell_type": "code",
   "execution_count": 128,
   "metadata": {},
   "outputs": [
    {
     "data": {
      "image/png": "[encoded data removed]",
      "text/plain": [
       "<Figure size 1008x576 with 4 Axes>"
      ]
     },
     "metadata": {
      "needs_background": "light"
     },
     "output_type": "display_data"
    }
   ],
   "source": [
    "# modify figure size\n",
    "fig = plt.figure(figsize=(14, 8))\n",
    "# creating regression plots\n",
    "fig = sm.graphics.plot_regress_exog(results,\n",
    "                                    'hardness',\n",
    "                                    fig=fig)"
   ]
  },
  {
   "cell_type": "code",
   "execution_count": 135,
   "metadata": {},
   "outputs": [
    {
     "data": {
      "text/plain": [
       "(array([1., 1., 7., 5., 7., 4., 7., 6., 1., 1.]),\n",
       " array([-341.52408074, -272.9009651 , -204.27784947, -135.65473383,\n",
       "         -67.03161819,    1.59149745,   70.21461309,  138.83772873,\n",
       "         207.46084437,  276.08396   ,  344.70707564]),\n",
       " <a list of 10 Patch objects>)"
      ]
     },
     "execution_count": 135,
     "metadata": {},
     "output_type": "execute_result"
    },
    {
     "data": {
      "image/png": "[encoded data removed]",
      "text/plain": [
       "<Figure size 432x288 with 1 Axes>"
      ]
     },
     "metadata": {
      "needs_background": "light"
     },
     "output_type": "display_data"
    }
   ],
   "source": [
    "plt.hist(results.resid, bins=10)"
   ]
  },
  {
   "cell_type": "code",
   "execution_count": 129,
   "metadata": {},
   "outputs": [
    {
     "data": {
      "text/plain": [
       "<matplotlib.axes._subplots.AxesSubplot at 0x10009d00>"
      ]
     },
     "execution_count": 129,
     "metadata": {},
     "output_type": "execute_result"
    },
    {
     "data": {
      "image/png": "[encoded data removed]",
      "text/plain": [
       "<Figure size 432x288 with 1 Axes>"
      ]
     },
     "metadata": {
      "needs_background": "light"
     },
     "output_type": "display_data"
    }
   ],
   "source": [
    "sns.residplot(x='hardness', y='mortality', data=df)"
   ]
  },
  {
   "cell_type": "markdown",
   "metadata": {},
   "source": [
    "**Вывод:** На диаграмме рассянья остатков наблюдется неравномерность в плотности отсчётов в области низких значений жёсткости."
   ]
  },
  {
   "cell_type": "code",
   "execution_count": 136,
   "metadata": {},
   "outputs": [
    {
     "data": {
      "text/plain": [
       "<matplotlib.axes._subplots.AxesSubplot at 0x10a257f0>"
      ]
     },
     "execution_count": 136,
     "metadata": {},
     "output_type": "execute_result"
    },
    {
     "data": {
      "image/png": "[encoded data removed]",
      "text/plain": [
       "<Figure size 432x288 with 1 Axes>"
      ]
     },
     "metadata": {
      "needs_background": "light"
     },
     "output_type": "display_data"
    }
   ],
   "source": [
    "sns.distplot(results.resid)"
   ]
  },
  {
   "cell_type": "markdown",
   "metadata": {},
   "source": [
    "**Вывод:** Гистограмма распределения остатков имеет очевидную ассиметрию в центральной части, что говорит о дефектах нормального распределения и следовательно о наличии нелинейных факторов не учтенных в регрессионной модели."
   ]
  },
  {
   "cell_type": "markdown",
   "metadata": {},
   "source": [
    "###### Задание 2.\n",
    "Ответить на вопрос: сохраняется ли аналогичная зависимость для северных и южных городов по отдельности?\n",
    "\n",
    "    Разделить данные на 2 группы\n",
    "    Повторить аналогичные шаги из пункта 1 для каждой группы по отдельности\n"
   ]
  },
  {
   "cell_type": "markdown",
   "metadata": {},
   "source": [
    "Выделим отдельные датафреймы для южных и северных городов"
   ]
  },
  {
   "cell_type": "code",
   "execution_count": 177,
   "metadata": {},
   "outputs": [
    {
     "name": "stdout",
     "output_type": "stream",
     "text": [
      "<class 'pandas.core.frame.DataFrame'>\n",
      "RangeIndex: 61 entries, 0 to 60\n",
      "Data columns (total 4 columns):\n",
      " #   Column     Non-Null Count  Dtype   \n",
      "---  ------     --------------  -----   \n",
      " 0   location   61 non-null     category\n",
      " 1   town       61 non-null     category\n",
      " 2   mortality  61 non-null     int64   \n",
      " 3   hardness   61 non-null     int64   \n",
      "dtypes: category(2), int64(2)\n",
      "memory usage: 4.3 KB\n"
     ]
    },
    {
     "data": {
      "text/plain": [
       "[South, North]\n",
       "Categories (2, object): [South, North]"
      ]
     },
     "execution_count": 177,
     "metadata": {},
     "output_type": "execute_result"
    }
   ],
   "source": [
    "df.info()\n",
    "df['location'].unique()"
   ]
  },
  {
   "cell_type": "code",
   "execution_count": 173,
   "metadata": {},
   "outputs": [
    {
     "name": "stdout",
     "output_type": "stream",
     "text": [
      "<class 'pandas.core.frame.DataFrame'>\n",
      "Int64Index: 26 entries, 0 to 59\n",
      "Data columns (total 4 columns):\n",
      " #   Column     Non-Null Count  Dtype   \n",
      "---  ------     --------------  -----   \n",
      " 0   location   26 non-null     category\n",
      " 1   town       26 non-null     category\n",
      " 2   mortality  26 non-null     int64   \n",
      " 3   hardness   26 non-null     int64   \n",
      "dtypes: category(2), int64(2)\n",
      "memory usage: 3.7 KB\n"
     ]
    }
   ],
   "source": [
    "df_south = df.loc[df['location'] == 'South'] \n",
    "df_south.info()"
   ]
  },
  {
   "cell_type": "code",
   "execution_count": 176,
   "metadata": {},
   "outputs": [
    {
     "name": "stdout",
     "output_type": "stream",
     "text": [
      "<class 'pandas.core.frame.DataFrame'>\n",
      "Int64Index: 35 entries, 1 to 60\n",
      "Data columns (total 4 columns):\n",
      " #   Column     Non-Null Count  Dtype   \n",
      "---  ------     --------------  -----   \n",
      " 0   location   35 non-null     category\n",
      " 1   town       35 non-null     category\n",
      " 2   mortality  35 non-null     int64   \n",
      " 3   hardness   35 non-null     int64   \n",
      "dtypes: category(2), int64(2)\n",
      "memory usage: 4.0 KB\n"
     ]
    }
   ],
   "source": [
    "df_north = df.loc[df['location'] == 'North'] \n",
    "df_north.info()"
   ]
  },
  {
   "cell_type": "markdown",
   "metadata": {},
   "source": [
    "**Основная статистика по южным городам**"
   ]
  },
  {
   "cell_type": "code",
   "execution_count": 180,
   "metadata": {
    "scrolled": true
   },
   "outputs": [
    {
     "data": {
      "text/html": [
       "<div>\n",
       "<style scoped>\n",
       "    .dataframe tbody tr th:only-of-type {\n",
       "        vertical-align: middle;\n",
       "    }\n",
       "\n",
       "    .dataframe tbody tr th {\n",
       "        vertical-align: top;\n",
       "    }\n",
       "\n",
       "    .dataframe thead th {\n",
       "        text-align: right;\n",
       "    }\n",
       "</style>\n",
       "<table border=\"1\" class=\"dataframe\">\n",
       "  <thead>\n",
       "    <tr style=\"text-align: right;\">\n",
       "      <th></th>\n",
       "      <th>mortality</th>\n",
       "      <th>hardness</th>\n",
       "    </tr>\n",
       "  </thead>\n",
       "  <tbody>\n",
       "    <tr>\n",
       "      <th>count</th>\n",
       "      <td>26.000000</td>\n",
       "      <td>26.000000</td>\n",
       "    </tr>\n",
       "    <tr>\n",
       "      <th>mean</th>\n",
       "      <td>1376.807692</td>\n",
       "      <td>69.769231</td>\n",
       "    </tr>\n",
       "    <tr>\n",
       "      <th>std</th>\n",
       "      <td>140.269175</td>\n",
       "      <td>40.360682</td>\n",
       "    </tr>\n",
       "    <tr>\n",
       "      <th>min</th>\n",
       "      <td>1096.000000</td>\n",
       "      <td>5.000000</td>\n",
       "    </tr>\n",
       "    <tr>\n",
       "      <th>25%</th>\n",
       "      <td>1259.250000</td>\n",
       "      <td>40.250000</td>\n",
       "    </tr>\n",
       "    <tr>\n",
       "      <th>50%</th>\n",
       "      <td>1364.000000</td>\n",
       "      <td>75.500000</td>\n",
       "    </tr>\n",
       "    <tr>\n",
       "      <th>75%</th>\n",
       "      <td>1485.750000</td>\n",
       "      <td>99.750000</td>\n",
       "    </tr>\n",
       "    <tr>\n",
       "      <th>max</th>\n",
       "      <td>1627.000000</td>\n",
       "      <td>138.000000</td>\n",
       "    </tr>\n",
       "  </tbody>\n",
       "</table>\n",
       "</div>"
      ],
      "text/plain": [
       "         mortality    hardness\n",
       "count    26.000000   26.000000\n",
       "mean   1376.807692   69.769231\n",
       "std     140.269175   40.360682\n",
       "min    1096.000000    5.000000\n",
       "25%    1259.250000   40.250000\n",
       "50%    1364.000000   75.500000\n",
       "75%    1485.750000   99.750000\n",
       "max    1627.000000  138.000000"
      ]
     },
     "metadata": {},
     "output_type": "display_data"
    }
   ],
   "source": [
    "df_south.describe()"
   ]
  },
  {
   "cell_type": "markdown",
   "metadata": {},
   "source": [
    "**Основная статистика по северным городам**"
   ]
  },
  {
   "cell_type": "code",
   "execution_count": 181,
   "metadata": {},
   "outputs": [
    {
     "data": {
      "text/html": [
       "<div>\n",
       "<style scoped>\n",
       "    .dataframe tbody tr th:only-of-type {\n",
       "        vertical-align: middle;\n",
       "    }\n",
       "\n",
       "    .dataframe tbody tr th {\n",
       "        vertical-align: top;\n",
       "    }\n",
       "\n",
       "    .dataframe thead th {\n",
       "        text-align: right;\n",
       "    }\n",
       "</style>\n",
       "<table border=\"1\" class=\"dataframe\">\n",
       "  <thead>\n",
       "    <tr style=\"text-align: right;\">\n",
       "      <th></th>\n",
       "      <th>mortality</th>\n",
       "      <th>hardness</th>\n",
       "    </tr>\n",
       "  </thead>\n",
       "  <tbody>\n",
       "    <tr>\n",
       "      <th>count</th>\n",
       "      <td>35.000000</td>\n",
       "      <td>35.000000</td>\n",
       "    </tr>\n",
       "    <tr>\n",
       "      <th>mean</th>\n",
       "      <td>1633.600000</td>\n",
       "      <td>30.400000</td>\n",
       "    </tr>\n",
       "    <tr>\n",
       "      <th>std</th>\n",
       "      <td>136.936911</td>\n",
       "      <td>26.134494</td>\n",
       "    </tr>\n",
       "    <tr>\n",
       "      <th>min</th>\n",
       "      <td>1378.000000</td>\n",
       "      <td>6.000000</td>\n",
       "    </tr>\n",
       "    <tr>\n",
       "      <th>25%</th>\n",
       "      <td>1557.500000</td>\n",
       "      <td>12.500000</td>\n",
       "    </tr>\n",
       "    <tr>\n",
       "      <th>50%</th>\n",
       "      <td>1637.000000</td>\n",
       "      <td>17.000000</td>\n",
       "    </tr>\n",
       "    <tr>\n",
       "      <th>75%</th>\n",
       "      <td>1718.000000</td>\n",
       "      <td>44.000000</td>\n",
       "    </tr>\n",
       "    <tr>\n",
       "      <th>max</th>\n",
       "      <td>1987.000000</td>\n",
       "      <td>94.000000</td>\n",
       "    </tr>\n",
       "  </tbody>\n",
       "</table>\n",
       "</div>"
      ],
      "text/plain": [
       "         mortality   hardness\n",
       "count    35.000000  35.000000\n",
       "mean   1633.600000  30.400000\n",
       "std     136.936911  26.134494\n",
       "min    1378.000000   6.000000\n",
       "25%    1557.500000  12.500000\n",
       "50%    1637.000000  17.000000\n",
       "75%    1718.000000  44.000000\n",
       "max    1987.000000  94.000000"
      ]
     },
     "execution_count": 181,
     "metadata": {},
     "output_type": "execute_result"
    }
   ],
   "source": [
    "df_north.describe()"
   ]
  },
  {
   "cell_type": "markdown",
   "metadata": {},
   "source": [
    "###### Бокс-плоты для данных жёсткости воды и смертности\n",
    "\n"
   ]
  },
  {
   "cell_type": "code",
   "execution_count": 188,
   "metadata": {
    "scrolled": true
   },
   "outputs": [
    {
     "data": {
      "text/plain": [
       "<matplotlib.axes._subplots.AxesSubplot at 0x12ed9af0>"
      ]
     },
     "execution_count": 188,
     "metadata": {},
     "output_type": "execute_result"
    },
    {
     "data": {
      "image/png": "[encoded data removed]",
      "text/plain": [
       "<Figure size 1008x288 with 4 Axes>"
      ]
     },
     "metadata": {
      "needs_background": "light"
     },
     "output_type": "display_data"
    }
   ],
   "source": [
    "fig,axes = plt.subplots(nrows=1, ncols=4)\n",
    "fig.tight_layout() # отодвинуть графики\n",
    "#увеличим дефолтный размер графиков\n",
    "from pylab import rcParams\n",
    "rcParams['figure.figsize'] = 14,3\n",
    "\n",
    "\n",
    "df_south['hardness'].plot(ax=axes[0], kind='box',\n",
    "                   title='Жёсткость воды Юг', grid=True)\n",
    "df_south['mortality'].plot(ax=axes[1], kind='box',\n",
    "                   title='Смертность Юг', grid=True)\n",
    "df_north['hardness'].plot(ax=axes[2], kind='box',\n",
    "                   title='Жёсткость воды Север', grid=True)\n",
    "df_north['mortality'].plot(ax=axes[3], kind='box',\n",
    "                   title='Смертность Север', grid=True)"
   ]
  },
  {
   "cell_type": "markdown",
   "metadata": {},
   "source": [
    "Типичной точкой отсечения, которую следует учитывать при удалении наблюдения, является значение DFFITS, равное 2-кратному sqrt (k / n), где k - количество переменных, а n - размер выборки. "
   ]
  },
  {
   "cell_type": "code",
   "execution_count": 193,
   "metadata": {},
   "outputs": [
    {
     "data": {
      "text/plain": [
       "0.47809144373375745"
      ]
     },
     "execution_count": 193,
     "metadata": {},
     "output_type": "execute_result"
    }
   ],
   "source": [
    "import math\n",
    "\n",
    "k = 2\n",
    "n = 35\n",
    "DFFITS = 2* math.sqrt(k / n)\n",
    "DFFITS"
   ]
  },
  {
   "cell_type": "code",
   "execution_count": null,
   "metadata": {},
   "outputs": [],
   "source": [
    "# Оценить расстояние Кука:\n",
    "\n",
    "from statsmodels.formula.api import ols\n",
    "\n",
    "m = ols('PRICE ~ RM',bos).fit()\n",
    "infl = m.get_influence()\n",
    "sm_fr = infl.summary_frame()"
   ]
  },
  {
   "cell_type": "code",
   "execution_count": null,
   "metadata": {},
   "outputs": [],
   "source": [
    "Расчёт выброса для северных городов"
   ]
  },
  {
   "cell_type": "code",
   "execution_count": 199,
   "metadata": {},
   "outputs": [
    {
     "name": "stdout",
     "output_type": "stream",
     "text": [
      "Значение выбросов столбца \"hardness\" по \"внутренним границам\" (1,5 межквартильного размаха):\n"
     ]
    },
    {
     "data": {
      "text/html": [
       "<div>\n",
       "<style scoped>\n",
       "    .dataframe tbody tr th:only-of-type {\n",
       "        vertical-align: middle;\n",
       "    }\n",
       "\n",
       "    .dataframe tbody tr th {\n",
       "        vertical-align: top;\n",
       "    }\n",
       "\n",
       "    .dataframe thead th {\n",
       "        text-align: right;\n",
       "    }\n",
       "</style>\n",
       "<table border=\"1\" class=\"dataframe\">\n",
       "  <thead>\n",
       "    <tr style=\"text-align: right;\">\n",
       "      <th></th>\n",
       "      <th>location</th>\n",
       "      <th>town</th>\n",
       "      <th>mortality</th>\n",
       "      <th>hardness</th>\n",
       "    </tr>\n",
       "  </thead>\n",
       "  <tbody>\n",
       "    <tr>\n",
       "      <th>21</th>\n",
       "      <td>North</td>\n",
       "      <td>Grimsby</td>\n",
       "      <td>1379</td>\n",
       "      <td>94</td>\n",
       "    </tr>\n",
       "  </tbody>\n",
       "</table>\n",
       "</div>"
      ],
      "text/plain": [
       "   location     town  mortality  hardness\n",
       "21    North  Grimsby       1379        94"
      ]
     },
     "metadata": {},
     "output_type": "display_data"
    },
    {
     "name": "stdout",
     "output_type": "stream",
     "text": [
      "Значение выбросов столбца \"mortality\" по \"внутренним границам\" (1,5 межквартильного размаха):\n"
     ]
    },
    {
     "data": {
      "text/html": [
       "<div>\n",
       "<style scoped>\n",
       "    .dataframe tbody tr th:only-of-type {\n",
       "        vertical-align: middle;\n",
       "    }\n",
       "\n",
       "    .dataframe tbody tr th {\n",
       "        vertical-align: top;\n",
       "    }\n",
       "\n",
       "    .dataframe thead th {\n",
       "        text-align: right;\n",
       "    }\n",
       "</style>\n",
       "<table border=\"1\" class=\"dataframe\">\n",
       "  <thead>\n",
       "    <tr style=\"text-align: right;\">\n",
       "      <th></th>\n",
       "      <th>location</th>\n",
       "      <th>town</th>\n",
       "      <th>mortality</th>\n",
       "      <th>hardness</th>\n",
       "    </tr>\n",
       "  </thead>\n",
       "  <tbody>\n",
       "    <tr>\n",
       "      <th>45</th>\n",
       "      <td>North</td>\n",
       "      <td>Salford</td>\n",
       "      <td>1987</td>\n",
       "      <td>8</td>\n",
       "    </tr>\n",
       "  </tbody>\n",
       "</table>\n",
       "</div>"
      ],
      "text/plain": [
       "   location     town  mortality  hardness\n",
       "45    North  Salford       1987         8"
      ]
     },
     "execution_count": 199,
     "metadata": {},
     "output_type": "execute_result"
    }
   ],
   "source": [
    "# Расчёт выбросов  по «внутренним границам»:\n",
    "q1 = df_north['hardness'].quantile(0.25)\n",
    "q3 = df_north['hardness'].quantile(0.75)\n",
    "iqr = q3 - q1\n",
    "lower_bound_int = q1 - (1.5 * iqr) \n",
    "upper_bound_int = q3 + (1.5 * iqr)\n",
    "print ('Значение выбросов столбца \"hardness\" по \"внутренним границам\" (1,5 межквартильного размаха):')\n",
    "display(df_north[~df_north['hardness'].between(lower_bound_int, upper_bound_int, inclusive=True)])\n",
    "\n",
    "# Расчёт выбросов для столбца mortality по «внутренним границам»:\n",
    "q1 = df_north['mortality'].quantile(0.25)\n",
    "q3 = df_north['mortality'].quantile(0.75)\n",
    "iqr = q3 - q1\n",
    "lower_bound_int = q1 - (1.5 * iqr) \n",
    "upper_bound_int = q3 + (1.5 * iqr)\n",
    "print ('Значение выбросов столбца \"mortality\" по \"внутренним границам\" (1,5 межквартильного размаха):')\n",
    "df_north[~df_north['mortality'].between(lower_bound_int, upper_bound_int, inclusive=True)]"
   ]
  },
  {
   "cell_type": "markdown",
   "metadata": {},
   "source": [
    "**Вывод:** Имеются выбросы в столбцах данных mortality и hardness."
   ]
  },
  {
   "cell_type": "markdown",
   "metadata": {},
   "source": [
    "**a. Построить точечный график**"
   ]
  },
  {
   "cell_type": "markdown",
   "metadata": {},
   "source": [
    "#### Диаграмма рассеяния"
   ]
  },
  {
   "cell_type": "code",
   "execution_count": 231,
   "metadata": {},
   "outputs": [
    {
     "data": {
      "text/plain": [
       "<matplotlib.axes._subplots.AxesSubplot at 0x15d2d970>"
      ]
     },
     "execution_count": 231,
     "metadata": {},
     "output_type": "execute_result"
    },
    {
     "data": {
      "image/png": "[encoded data removed]",
      "text/plain": [
       "<Figure size 720x720 with 2 Axes>"
      ]
     },
     "metadata": {
      "needs_background": "light"
     },
     "output_type": "display_data"
    }
   ],
   "source": [
    "# посмотрим графически на взаимосвязь между жёсткостью воды и смертностью для Севера и Юга\n",
    "fig,axes = plt.subplots(nrows=2, ncols=1)\n",
    "fig.tight_layout(h_pad=5) # отодвинуть графики\n",
    "rcParams['figure.figsize'] = 10,5\n",
    "\n",
    "\n",
    "#plt.subplots_adjust(wspace=2)\n",
    " \n",
    "\n",
    "df_north.plot(kind='scatter', ax=axes[0], x='hardness', \n",
    "        y='mortality', \n",
    "        title='Зависимость между жёсткостью воды и смертностью для Севера')\n",
    "df_south.plot(kind='scatter', ax=axes[1],\n",
    "        x='hardness', \n",
    "        y='mortality', \n",
    "        title='Зависимость между жёсткостью воды и смертностью для Юга')\n",
    "        "
   ]
  },
  {
   "cell_type": "markdown",
   "metadata": {},
   "source": [
    "**Вывод:** Визуально наблюдается обратная корреляция как для Юга, так и для Севера."
   ]
  },
  {
   "cell_type": "markdown",
   "metadata": {},
   "source": [
    "**b. Рассчитать коэффициенты корреляции Пирсона и Спирмена**"
   ]
  },
  {
   "cell_type": "code",
   "execution_count": 235,
   "metadata": {},
   "outputs": [
    {
     "data": {
      "text/html": [
       "<div>\n",
       "<style scoped>\n",
       "    .dataframe tbody tr th:only-of-type {\n",
       "        vertical-align: middle;\n",
       "    }\n",
       "\n",
       "    .dataframe tbody tr th {\n",
       "        vertical-align: top;\n",
       "    }\n",
       "\n",
       "    .dataframe thead th {\n",
       "        text-align: right;\n",
       "    }\n",
       "</style>\n",
       "<table border=\"1\" class=\"dataframe\">\n",
       "  <thead>\n",
       "    <tr style=\"text-align: right;\">\n",
       "      <th></th>\n",
       "      <th>hardness</th>\n",
       "      <th>mortality</th>\n",
       "    </tr>\n",
       "  </thead>\n",
       "  <tbody>\n",
       "    <tr>\n",
       "      <th>hardness</th>\n",
       "      <td>1.000000</td>\n",
       "      <td>-0.368598</td>\n",
       "    </tr>\n",
       "    <tr>\n",
       "      <th>mortality</th>\n",
       "      <td>-0.368598</td>\n",
       "      <td>1.000000</td>\n",
       "    </tr>\n",
       "  </tbody>\n",
       "</table>\n",
       "</div>"
      ],
      "text/plain": [
       "           hardness  mortality\n",
       "hardness   1.000000  -0.368598\n",
       "mortality -0.368598   1.000000"
      ]
     },
     "metadata": {},
     "output_type": "display_data"
    },
    {
     "data": {
      "text/html": [
       "<div>\n",
       "<style scoped>\n",
       "    .dataframe tbody tr th:only-of-type {\n",
       "        vertical-align: middle;\n",
       "    }\n",
       "\n",
       "    .dataframe tbody tr th {\n",
       "        vertical-align: top;\n",
       "    }\n",
       "\n",
       "    .dataframe thead th {\n",
       "        text-align: right;\n",
       "    }\n",
       "</style>\n",
       "<table border=\"1\" class=\"dataframe\">\n",
       "  <thead>\n",
       "    <tr style=\"text-align: right;\">\n",
       "      <th></th>\n",
       "      <th>hardness</th>\n",
       "      <th>mortality</th>\n",
       "    </tr>\n",
       "  </thead>\n",
       "  <tbody>\n",
       "    <tr>\n",
       "      <th>hardness</th>\n",
       "      <td>1.000000</td>\n",
       "      <td>-0.404208</td>\n",
       "    </tr>\n",
       "    <tr>\n",
       "      <th>mortality</th>\n",
       "      <td>-0.404208</td>\n",
       "      <td>1.000000</td>\n",
       "    </tr>\n",
       "  </tbody>\n",
       "</table>\n",
       "</div>"
      ],
      "text/plain": [
       "           hardness  mortality\n",
       "hardness   1.000000  -0.404208\n",
       "mortality -0.404208   1.000000"
      ]
     },
     "execution_count": 235,
     "metadata": {},
     "output_type": "execute_result"
    }
   ],
   "source": [
    "# считаем коэф. корреляции Пирсона и Спирмана для Севера:\n",
    "display(df_north[['hardness',  'mortality']].corr())\n",
    "# считаем коэф. корреляции Спирмана\n",
    "df_north[['hardness',  'mortality']].corr(method='spearman')"
   ]
  },
  {
   "cell_type": "markdown",
   "metadata": {},
   "source": [
    "**Вывод:** По сравнению с общей выборкой коэффициенты корреляции снизились, связи между параметрами стали слабыми."
   ]
  },
  {
   "cell_type": "code",
   "execution_count": 236,
   "metadata": {},
   "outputs": [
    {
     "data": {
      "text/html": [
       "<div>\n",
       "<style scoped>\n",
       "    .dataframe tbody tr th:only-of-type {\n",
       "        vertical-align: middle;\n",
       "    }\n",
       "\n",
       "    .dataframe tbody tr th {\n",
       "        vertical-align: top;\n",
       "    }\n",
       "\n",
       "    .dataframe thead th {\n",
       "        text-align: right;\n",
       "    }\n",
       "</style>\n",
       "<table border=\"1\" class=\"dataframe\">\n",
       "  <thead>\n",
       "    <tr style=\"text-align: right;\">\n",
       "      <th></th>\n",
       "      <th>hardness</th>\n",
       "      <th>mortality</th>\n",
       "    </tr>\n",
       "  </thead>\n",
       "  <tbody>\n",
       "    <tr>\n",
       "      <th>hardness</th>\n",
       "      <td>1.000000</td>\n",
       "      <td>-0.602153</td>\n",
       "    </tr>\n",
       "    <tr>\n",
       "      <th>mortality</th>\n",
       "      <td>-0.602153</td>\n",
       "      <td>1.000000</td>\n",
       "    </tr>\n",
       "  </tbody>\n",
       "</table>\n",
       "</div>"
      ],
      "text/plain": [
       "           hardness  mortality\n",
       "hardness   1.000000  -0.602153\n",
       "mortality -0.602153   1.000000"
      ]
     },
     "metadata": {},
     "output_type": "display_data"
    },
    {
     "data": {
      "text/html": [
       "<div>\n",
       "<style scoped>\n",
       "    .dataframe tbody tr th:only-of-type {\n",
       "        vertical-align: middle;\n",
       "    }\n",
       "\n",
       "    .dataframe tbody tr th {\n",
       "        vertical-align: top;\n",
       "    }\n",
       "\n",
       "    .dataframe thead th {\n",
       "        text-align: right;\n",
       "    }\n",
       "</style>\n",
       "<table border=\"1\" class=\"dataframe\">\n",
       "  <thead>\n",
       "    <tr style=\"text-align: right;\">\n",
       "      <th></th>\n",
       "      <th>hardness</th>\n",
       "      <th>mortality</th>\n",
       "    </tr>\n",
       "  </thead>\n",
       "  <tbody>\n",
       "    <tr>\n",
       "      <th>hardness</th>\n",
       "      <td>1.000000</td>\n",
       "      <td>-0.595723</td>\n",
       "    </tr>\n",
       "    <tr>\n",
       "      <th>mortality</th>\n",
       "      <td>-0.595723</td>\n",
       "      <td>1.000000</td>\n",
       "    </tr>\n",
       "  </tbody>\n",
       "</table>\n",
       "</div>"
      ],
      "text/plain": [
       "           hardness  mortality\n",
       "hardness   1.000000  -0.595723\n",
       "mortality -0.595723   1.000000"
      ]
     },
     "execution_count": 236,
     "metadata": {},
     "output_type": "execute_result"
    }
   ],
   "source": [
    "# считаем коэф. корреляции Пирсона и Спирмана для Севера:\n",
    "display(df_south[['hardness',  'mortality']].corr())\n",
    "# считаем коэф. корреляции Спирмана\n",
    "df_south[['hardness',  'mortality']].corr(method='spearman')"
   ]
  },
  {
   "cell_type": "markdown",
   "metadata": {},
   "source": [
    "**Вывод:** По сравнению с общей выборкой для выбоки Юга  коэффициенты корреляции незначительно снизились, связи между параметрами на грани между сильными и слабыми."
   ]
  },
  {
   "cell_type": "markdown",
   "metadata": {},
   "source": [
    "**c. Построить модель линейной регрессии**"
   ]
  },
  {
   "cell_type": "markdown",
   "metadata": {},
   "source": [
    "**Моделирование для региона Север:**"
   ]
  },
  {
   "cell_type": "markdown",
   "metadata": {},
   "source": [
    "Создаем массивы:\n",
    "**X** - по умолчанию многомерный массив (вектор) исходных параметров для прогноза, в нашем случае только 1 параметр -  *hardness*.\n",
    "**y** - выходной прогнозный параметр -  *mortality* смертность."
   ]
  },
  {
   "cell_type": "code",
   "execution_count": 237,
   "metadata": {},
   "outputs": [],
   "source": [
    "X_north = df_north[['hardness']]\n",
    "y_north = df_north['mortality']"
   ]
  },
  {
   "cell_type": "markdown",
   "metadata": {},
   "source": [
    "Выполним разбиение с паметром - train_size=0.67 - **67%** для обучения модели, **33%** - для тестирования) "
   ]
  },
  {
   "cell_type": "code",
   "execution_count": 238,
   "metadata": {},
   "outputs": [
    {
     "name": "stdout",
     "output_type": "stream",
     "text": [
      "Всего строк в датасете для Севера: 35\n",
      "Количество строк в y_train - выборка для обучения: 23\n",
      "Количество строк в y_test -выборка дляя тестирования: 12\n"
     ]
    }
   ],
   "source": [
    "X_train_north, X_test_north, y_train_north, y_test_north = train_test_split(\n",
    "    \n",
    "    \n",
    "    X_north, y_north, train_size=0.67, random_state=42)\n",
    "print (f'Всего строк в датасете для Севера: {len(df_north)}')\n",
    "print(f\"Количество строк в y_train - выборка для обучения: {len(y_train_north)}\")\n",
    "print(f\"Количество строк в y_test -выборка дляя тестирования: {len(y_test_north)}\")"
   ]
  },
  {
   "cell_type": "code",
   "execution_count": 239,
   "metadata": {},
   "outputs": [
    {
     "data": {
      "text/plain": [
       "LinearRegression()"
      ]
     },
     "execution_count": 239,
     "metadata": {},
     "output_type": "execute_result"
    }
   ],
   "source": [
    "model_north = LinearRegression()\n",
    "model_north.fit(X_train_north, y_train_north)  # метод обучается на данных и подбирает оптимальные коэффициенты"
   ]
  },
  {
   "cell_type": "code",
   "execution_count": 240,
   "metadata": {},
   "outputs": [
    {
     "data": {
      "text/plain": [
       "<matplotlib.axes._subplots.AxesSubplot at 0x15c629d0>"
      ]
     },
     "execution_count": 240,
     "metadata": {},
     "output_type": "execute_result"
    },
    {
     "data": {
      "image/png": "[encoded data removed]",
      "text/plain": [
       "<Figure size 720x360 with 1 Axes>"
      ]
     },
     "metadata": {
      "needs_background": "light"
     },
     "output_type": "display_data"
    }
   ],
   "source": [
    "sns.distplot(y_train_north)"
   ]
  },
  {
   "cell_type": "markdown",
   "metadata": {},
   "source": [
    "Пробуем выполнить предсказание для известной части данных из X_test:"
   ]
  },
  {
   "cell_type": "code",
   "execution_count": 241,
   "metadata": {},
   "outputs": [
    {
     "data": {
      "text/plain": [
       "array([1642.29292436, 1639.15685946, 1623.476535  , 1648.56505414,\n",
       "       1617.20440521, 1444.72083607, 1529.39458819, 1642.29292436,\n",
       "       1545.07491266, 1620.3404701 , 1545.07491266, 1604.66014564])"
      ]
     },
     "execution_count": 241,
     "metadata": {},
     "output_type": "execute_result"
    }
   ],
   "source": [
    "y_pred_north = model.predict(X_test_north)\n",
    "y_pred_north"
   ]
  },
  {
   "cell_type": "markdown",
   "metadata": {},
   "source": [
    "**Сравним значения предсказанные моделью с реальными значениями:**"
   ]
  },
  {
   "cell_type": "code",
   "execution_count": 242,
   "metadata": {},
   "outputs": [
    {
     "name": "stdout",
     "output_type": "stream",
     "text": [
      "Для региона Север:\n",
      " 1. Реальное значение смертности:1987 смоделированное значение смертности:1642\n",
      " 2. Реальное значение смертности:1574 смоделированное значение смертности:1639\n",
      " 3. Реальное значение смертности:1444 смоделированное значение смертности:1623\n",
      " 4. Реальное значение смертности:1724 смоделированное значение смертности:1649\n",
      " 5. Реальное значение смертности:1591 смоделированное значение смертности:1617\n",
      " 6. Реальное значение смертности:1713 смоделированное значение смертности:1445\n",
      " 7. Реальное значение смертности:1702 смоделированное значение смертности:1529\n",
      " 8. Реальное значение смертности:1742 смоделированное значение смертности:1642\n",
      " 9. Реальное значение смертности:1555 смоделированное значение смертности:1545\n",
      "10. Реальное значение смертности:1772 смоделированное значение смертности:1620\n",
      "11. Реальное значение смертности:1428 смоделированное значение смертности:1545\n",
      "12. Реальное значение смертности:1625 смоделированное значение смертности:1605\n"
     ]
    }
   ],
   "source": [
    "i = 0\n",
    "print('Для региона Север:')\n",
    "for y_test_val in y_test_north:\n",
    "    print(f'{i+1:2d}. Реальное значение смертности:{y_test_val} смоделированное значение смертности:{y_pred_north[i]:.0f}')\n",
    "    i +=1"
   ]
  },
  {
   "cell_type": "code",
   "execution_count": 258,
   "metadata": {},
   "outputs": [
    {
     "name": "stdout",
     "output_type": "stream",
     "text": [
      "Коэффициент модели для Севера: \n",
      " [-1.9947167]\n",
      "Поправка для Севера: 1689.7784976331984\n"
     ]
    }
   ],
   "source": [
    "print(\"Коэффициент модели для Севера: \\n\", model_north.coef_)\n",
    "print('Поправка для Севера:', model_north.intercept_)"
   ]
  },
  {
   "cell_type": "code",
   "execution_count": 244,
   "metadata": {},
   "outputs": [
    {
     "name": "stdout",
     "output_type": "stream",
     "text": [
      "Средняя смертность по всему датасету:1634\n"
     ]
    }
   ],
   "source": [
    "print (f'Средняя смертность по всему датасету Севера:{df_north[\"mortality\"].mean():.0f}')"
   ]
  },
  {
   "cell_type": "markdown",
   "metadata": {},
   "source": [
    "**Вывод:** Поправка фактически равна среднему значению смертности, что уже без дальнейших вычислений говорит о неточности модели. "
   ]
  },
  {
   "cell_type": "code",
   "execution_count": 247,
   "metadata": {},
   "outputs": [
    {
     "data": {
      "text/plain": [
       "<matplotlib.legend.Legend at 0x15810640>"
      ]
     },
     "execution_count": 247,
     "metadata": {},
     "output_type": "execute_result"
    },
    {
     "data": {
      "image/png": "[encoded data removed]",
      "text/plain": [
       "<Figure size 720x360 with 1 Axes>"
      ]
     },
     "metadata": {
      "needs_background": "light"
     },
     "output_type": "display_data"
    }
   ],
   "source": [
    "plt.title('Диаграмма рассеяния для Севера', fontsize=15)\n",
    "plt.xlabel('Жёсткость воды', fontsize=12, color='black')\n",
    "plt.ylabel('Смертность', fontsize=12, color='black')\n",
    "\n",
    "plt.grid(True)\n",
    "# Реальные данные\n",
    "points1, = plt.plot(X_test_north, y_test_north, 'ro', color='green')\n",
    "# Данные модели\n",
    "points2, = plt.plot(X_test_north, y_pred_north,  color='red')\n",
    "\n",
    "plt.legend((points1, points2), ['реальные данные', 'модель'])\n"
   ]
  },
  {
   "cell_type": "markdown",
   "metadata": {},
   "source": [
    "**d. Рассчитать коэффициент детерминации**"
   ]
  },
  {
   "cell_type": "code",
   "execution_count": 245,
   "metadata": {},
   "outputs": [
    {
     "name": "stdout",
     "output_type": "stream",
     "text": [
      "Коэффициент детерминации модели для Севера (метод score объекта LinearRegression):0.02\n"
     ]
    }
   ],
   "source": [
    "r2_model_north = model_north.score(X_test_north, y_test_north)\n",
    "print(f'Коэффициент детерминации модели для Севера (метод score объекта LinearRegression):{r2_model_north:.2f}') "
   ]
  },
  {
   "cell_type": "code",
   "execution_count": 246,
   "metadata": {},
   "outputs": [
    {
     "name": "stdout",
     "output_type": "stream",
     "text": [
      "Коэффициент детерминации модели для Севера (расчёт функцией r2_score):-0.20\n"
     ]
    }
   ],
   "source": [
    "# https/www.geeksforgeeks.org/python-coefficient-of-determination-r2-score/\n",
    "\n",
    "r2_north= r2_score(y_test_north,y_pred_north)\n",
    "print(f'Коэффициент детерминации модели для Севера (расчёт функцией r2_score):{r2_north:.2f}')"
   ]
  },
  {
   "cell_type": "markdown",
   "metadata": {},
   "source": [
    "**Вывод:** Модель по региону Север непригода для прогноза, что было ясно изначально ввиду низкого коэффициента корреляции."
   ]
  },
  {
   "cell_type": "markdown",
   "metadata": {},
   "source": [
    "**Моделирование для региона Юг:**"
   ]
  },
  {
   "cell_type": "code",
   "execution_count": 249,
   "metadata": {},
   "outputs": [],
   "source": [
    "X_south = df_south[['hardness']]\n",
    "y_south = df_south['mortality']"
   ]
  },
  {
   "cell_type": "markdown",
   "metadata": {},
   "source": [
    "Выполним разбиение с паметром - train_size=0.67 - **67%** для обучения модели, **33%** - для тестирования) для датасета Юга:"
   ]
  },
  {
   "cell_type": "code",
   "execution_count": 250,
   "metadata": {},
   "outputs": [
    {
     "name": "stdout",
     "output_type": "stream",
     "text": [
      "Всего строк в датасете для Юга: 26\n",
      "Количество строк в y_train - выборка для обучения: 17\n",
      "Количество строк в y_test -выборка дляя тестирования: 9\n"
     ]
    }
   ],
   "source": [
    "X_train_south, X_test_south, y_train_south, y_test_south = train_test_split(X_south, y_south, \n",
    "                                                                            train_size=0.67, \n",
    "                                                                            random_state=42)\n",
    "print (f'Всего строк в датасете для Юга: {len(df_south)}')\n",
    "print(f\"Количество строк в y_train - выборка для обучения: {len(y_train_south)}\")\n",
    "print(f\"Количество строк в y_test -выборка дляя тестирования: {len(y_test_south)}\")"
   ]
  },
  {
   "cell_type": "code",
   "execution_count": 253,
   "metadata": {},
   "outputs": [
    {
     "data": {
      "text/plain": [
       "LinearRegression()"
      ]
     },
     "execution_count": 253,
     "metadata": {},
     "output_type": "execute_result"
    }
   ],
   "source": [
    "model_south = LinearRegression()\n",
    "model_south.fit(X_train_south, y_train_south)  # метод обучается на данных и подбирает оптимальные коэффициенты"
   ]
  },
  {
   "cell_type": "code",
   "execution_count": 254,
   "metadata": {},
   "outputs": [
    {
     "data": {
      "text/plain": [
       "<matplotlib.axes._subplots.AxesSubplot at 0x1706eb20>"
      ]
     },
     "execution_count": 254,
     "metadata": {},
     "output_type": "execute_result"
    },
    {
     "data": {
      "image/png": "[encoded data removed]",
      "text/plain": [
       "<Figure size 720x360 with 1 Axes>"
      ]
     },
     "metadata": {
      "needs_background": "light"
     },
     "output_type": "display_data"
    }
   ],
   "source": [
    "sns.distplot(y_train_south)"
   ]
  },
  {
   "cell_type": "markdown",
   "metadata": {},
   "source": [
    "Пробуем выполнить предсказание для известной части данных из X_test:"
   ]
  },
  {
   "cell_type": "code",
   "execution_count": 255,
   "metadata": {},
   "outputs": [
    {
     "data": {
      "text/plain": [
       "array([1209.95583268, 1599.47401874, 1266.55249219, 1209.95583268,\n",
       "       1492.93913024, 1546.20657449, 1419.6963944 , 1599.47401874,\n",
       "       1439.671686  ])"
      ]
     },
     "execution_count": 255,
     "metadata": {},
     "output_type": "execute_result"
    }
   ],
   "source": [
    "y_pred_south = model_south.predict(X_test_south)\n",
    "y_pred_south"
   ]
  },
  {
   "cell_type": "markdown",
   "metadata": {},
   "source": [
    "**Сравним значения предсказанные моделью с реальными значениями:**"
   ]
  },
  {
   "cell_type": "code",
   "execution_count": 256,
   "metadata": {},
   "outputs": [
    {
     "name": "stdout",
     "output_type": "stream",
     "text": [
      "Для региона Юг:\n",
      " 1. Реальное значение смертности:1318 смоделированное значение смертности:1210\n",
      " 2. Реальное значение смертности:1486 смоделированное значение смертности:1599\n",
      " 3. Реальное значение смертности:1247 смоделированное значение смертности:1267\n",
      " 4. Реальное значение смертности:1486 смоделированное значение смертности:1210\n",
      " 5. Реальное значение смертности:1402 смоделированное значение смертности:1493\n",
      " 6. Реальное значение смертности:1260 смоделированное значение смертности:1546\n",
      " 7. Реальное значение смертности:1309 смоделированное значение смертности:1420\n",
      " 8. Реальное значение смертности:1466 смоделированное значение смертности:1599\n",
      " 9. Реальное значение смертности:1627 смоделированное значение смертности:1440\n"
     ]
    }
   ],
   "source": [
    "i = 0\n",
    "print('Для региона Юг:')\n",
    "for y_test_val in y_test_south:\n",
    "    print(f'{i+1:2d}. Реальное значение смертности:{y_test_val} смоделированное значение смертности:{y_pred_south[i]:.0f}')\n",
    "    i +=1"
   ]
  },
  {
   "cell_type": "code",
   "execution_count": 257,
   "metadata": {},
   "outputs": [
    {
     "name": "stdout",
     "output_type": "stream",
     "text": [
      "Коэффициент модели для Юга: \n",
      " [-3.13606489]\n",
      "Поправка для Юга: 1667.3814435059633\n"
     ]
    }
   ],
   "source": [
    "print(\"Коэффициент модели для Юга: \\n\", model_south.coef_)\n",
    "print('Поправка для Юга:', model_south.intercept_)"
   ]
  },
  {
   "cell_type": "code",
   "execution_count": 259,
   "metadata": {},
   "outputs": [
    {
     "name": "stdout",
     "output_type": "stream",
     "text": [
      "Средняя смертность по всему датасету Юг:1377\n"
     ]
    }
   ],
   "source": [
    "print (f'Средняя смертность по всему датасету Юг:{df_south[\"mortality\"].mean():.0f}')"
   ]
  },
  {
   "cell_type": "markdown",
   "metadata": {},
   "source": [
    "**Вывод:** Поправка фактически больше среднего значения смертности, что уже без дальнейших вычислений говорит о неточности модели. "
   ]
  },
  {
   "cell_type": "code",
   "execution_count": 265,
   "metadata": {},
   "outputs": [
    {
     "data": {
      "text/plain": [
       "<matplotlib.legend.Legend at 0x15e47c10>"
      ]
     },
     "execution_count": 265,
     "metadata": {},
     "output_type": "execute_result"
    },
    {
     "data": {
      "image/png": "[encoded data removed]",
      "text/plain": [
       "<Figure size 720x360 with 1 Axes>"
      ]
     },
     "metadata": {
      "needs_background": "light"
     },
     "output_type": "display_data"
    }
   ],
   "source": [
    "plt.title('Диаграмма рассеяния для Юга', fontsize=15)\n",
    "plt.xlabel('Жёсткость воды', fontsize=12, color='black')\n",
    "plt.ylabel('Смертность', fontsize=12, color='black')\n",
    "\n",
    "plt.grid(True)\n",
    "# Реальные данные\n",
    "points1, = plt.plot(X_test_south, y_test_south, 'ro', color='brown')\n",
    "# Данные модели\n",
    "points2, = plt.plot(X_test_south, y_pred_south,  color='red')\n",
    "\n",
    "plt.legend((points1, points2), ['реальные данные', 'модель'])\n"
   ]
  },
  {
   "cell_type": "markdown",
   "metadata": {},
   "source": [
    "**d. Рассчитать коэффициент детерминации**"
   ]
  },
  {
   "cell_type": "code",
   "execution_count": 263,
   "metadata": {},
   "outputs": [
    {
     "name": "stdout",
     "output_type": "stream",
     "text": [
      "Коэффициент детерминации модели для Юга (метод score объекта LinearRegression):-0.99\n"
     ]
    }
   ],
   "source": [
    "r2_model_south = model_south.score(X_test_south, y_test_south)\n",
    "print(f'Коэффициент детерминации модели для Юга (метод score объекта LinearRegression):{r2_model_south:.2f}') "
   ]
  },
  {
   "cell_type": "code",
   "execution_count": 267,
   "metadata": {},
   "outputs": [
    {
     "name": "stdout",
     "output_type": "stream",
     "text": [
      "Коэффициент детерминации модели для Севера (расчёт функцией r2_score):-0.99\n"
     ]
    }
   ],
   "source": [
    "# https/www.geeksforgeeks.org/python-coefficient-of-determination-r2-score/\n",
    "\n",
    "r2_south= r2_score(y_test_south,y_pred_south)\n",
    "print(f'Коэффициент детерминации модели для Севера (расчёт функцией r2_score):{r2_south:.2f}')"
   ]
  },
  {
   "cell_type": "markdown",
   "metadata": {},
   "source": [
    "**Вывод:** Модель по региону Юг полностью непригода для прогноза."
   ]
  },
  {
   "cell_type": "markdown",
   "metadata": {},
   "source": [
    "**e. Вывести график остатков**"
   ]
  },
  {
   "cell_type": "markdown",
   "metadata": {},
   "source": [
    "Построение диаграмм остатков выполним на при помощи библиотеки **statsmodels**\n",
    "\n",
    "https://www.geeksforgeeks.org/how-to-create-a-residual-plot-in-python/"
   ]
  },
  {
   "cell_type": "code",
   "execution_count": 115,
   "metadata": {},
   "outputs": [],
   "source": [
    "import statsmodels.api as sm\n",
    "from statsmodels.formula.api import ols\n",
    "\n",
    "X = df[['hardness']]\n",
    "y = df['mortality']"
   ]
  },
  {
   "cell_type": "code",
   "execution_count": 122,
   "metadata": {},
   "outputs": [],
   "source": [
    "X_train, X_test, y_train, y_test = train_test_split(X, y, test_size=0.33, random_state=42)"
   ]
  },
  {
   "cell_type": "code",
   "execution_count": 123,
   "metadata": {},
   "outputs": [],
   "source": [
    "X_const = sm.add_constant(X_train) # техническая особенность библиотеки, надо руками добавить константу"
   ]
  },
  {
   "cell_type": "code",
   "execution_count": 124,
   "metadata": {},
   "outputs": [
    {
     "name": "stdout",
     "output_type": "stream",
     "text": [
      "                            OLS Regression Results                            \n",
      "==============================================================================\n",
      "Dep. Variable:              mortality   R-squared:                       0.396\n",
      "Model:                            OLS   Adj. R-squared:                  0.380\n",
      "Method:                 Least Squares   F-statistic:                     24.89\n",
      "Date:                Wed, 25 Jan 2023   Prob (F-statistic):           1.38e-05\n",
      "Time:                        21:47:36   Log-Likelihood:                -257.13\n",
      "No. Observations:                  40   AIC:                             518.3\n",
      "Df Residuals:                      38   BIC:                             521.6\n",
      "Df Model:                           1                                         \n",
      "Covariance Type:            nonrobust                                         \n",
      "==============================================================================\n",
      "                 coef    std err          t      P>|t|      [0.025      0.975]\n",
      "------------------------------------------------------------------------------\n",
      "const       1667.3814     38.206     43.642      0.000    1590.037    1744.726\n",
      "hardness      -3.1361      0.629     -4.989      0.000      -4.409      -1.863\n",
      "==============================================================================\n",
      "Omnibus:                        0.284   Durbin-Watson:                   2.241\n",
      "Prob(Omnibus):                  0.868   Jarque-Bera (JB):                0.472\n",
      "Skew:                           0.080   Prob(JB):                        0.790\n",
      "Kurtosis:                       2.492   Cond. No.                         95.6\n",
      "==============================================================================\n",
      "\n",
      "Warnings:\n",
      "[1] Standard Errors assume that the covariance matrix of the errors is correctly specified.\n"
     ]
    }
   ],
   "source": [
    "\n",
    "stat_model = sm.OLS(y_train, X_const)\n",
    "results = stat_model.fit()\n",
    "print(results.summary())"
   ]
  },
  {
   "cell_type": "code",
   "execution_count": 121,
   "metadata": {},
   "outputs": [
    {
     "name": "stdout",
     "output_type": "stream",
     "text": [
      "Коэффициент детерминации R2: 0.40\n"
     ]
    }
   ],
   "source": [
    "print(f'Коэффициент детерминации R2: {results.rsquared:.2f}')"
   ]
  },
  {
   "cell_type": "markdown",
   "metadata": {},
   "source": [
    "**Вывод:** Данная библиотека определяет коэффициент детерминации в 0.4."
   ]
  },
  {
   "cell_type": "code",
   "execution_count": 128,
   "metadata": {},
   "outputs": [
    {
     "data": {
      "image/png": "[encoded data removed]",
      "text/plain": [
       "<Figure size 1008x576 with 4 Axes>"
      ]
     },
     "metadata": {
      "needs_background": "light"
     },
     "output_type": "display_data"
    }
   ],
   "source": [
    "# modify figure size\n",
    "fig = plt.figure(figsize=(14, 8))\n",
    "# creating regression plots\n",
    "fig = sm.graphics.plot_regress_exog(results,\n",
    "                                    'hardness',\n",
    "                                    fig=fig)"
   ]
  },
  {
   "cell_type": "code",
   "execution_count": 135,
   "metadata": {},
   "outputs": [
    {
     "data": {
      "text/plain": [
       "(array([1., 1., 7., 5., 7., 4., 7., 6., 1., 1.]),\n",
       " array([-341.52408074, -272.9009651 , -204.27784947, -135.65473383,\n",
       "         -67.03161819,    1.59149745,   70.21461309,  138.83772873,\n",
       "         207.46084437,  276.08396   ,  344.70707564]),\n",
       " <a list of 10 Patch objects>)"
      ]
     },
     "execution_count": 135,
     "metadata": {},
     "output_type": "execute_result"
    },
    {
     "data": {
      "image/png": "[encoded data removed]",
      "text/plain": [
       "<Figure size 432x288 with 1 Axes>"
      ]
     },
     "metadata": {
      "needs_background": "light"
     },
     "output_type": "display_data"
    }
   ],
   "source": [
    "plt.hist(results.resid, bins=10)"
   ]
  },
  {
   "cell_type": "code",
   "execution_count": 129,
   "metadata": {},
   "outputs": [
    {
     "data": {
      "text/plain": [
       "<matplotlib.axes._subplots.AxesSubplot at 0x10009d00>"
      ]
     },
     "execution_count": 129,
     "metadata": {},
     "output_type": "execute_result"
    },
    {
     "data": {
      "image/png": "[encoded data removed]",
      "text/plain": [
       "<Figure size 432x288 with 1 Axes>"
      ]
     },
     "metadata": {
      "needs_background": "light"
     },
     "output_type": "display_data"
    }
   ],
   "source": [
    "sns.residplot(x='hardness', y='mortality', data=df)"
   ]
  },
  {
   "cell_type": "markdown",
   "metadata": {},
   "source": [
    "**Вывод:** На диаграмме рассянья остатков наблюдется неравномерность в плотности отсчётов в области низких значений жёсткости."
   ]
  },
  {
   "cell_type": "code",
   "execution_count": 136,
   "metadata": {},
   "outputs": [
    {
     "data": {
      "text/plain": [
       "<matplotlib.axes._subplots.AxesSubplot at 0x10a257f0>"
      ]
     },
     "execution_count": 136,
     "metadata": {},
     "output_type": "execute_result"
    },
    {
     "data": {
      "image/png": "[encoded data removed]",
      "text/plain": [
       "<Figure size 432x288 with 1 Axes>"
      ]
     },
     "metadata": {
      "needs_background": "light"
     },
     "output_type": "display_data"
    }
   ],
   "source": [
    "sns.distplot(results.resid)"
   ]
  },
  {
   "cell_type": "code",
   "execution_count": 79,
   "metadata": {},
   "outputs": [
    {
     "name": "stdout",
     "output_type": "stream",
     "text": [
      "Coefficients: \n",
      " [938.23786125]\n",
      "Mean squared error: 2548.07\n",
      "Coefficient of determination: 0.47\n"
     ]
    },
    {
     "data": {
      "image/png": "[encoded data removed]",
      "text/plain": [
       "<Figure size 432x288 with 1 Axes>"
      ]
     },
     "metadata": {},
     "output_type": "display_data"
    }
   ],
   "source": [
    "# Code source: Jaques Grobler\n",
    "# License: BSD 3 clause\n",
    "\n",
    "import matplotlib.pyplot as plt\n",
    "import numpy as np\n",
    "from sklearn import datasets, linear_model\n",
    "from sklearn.metrics import mean_squared_error, r2_score\n",
    "\n",
    "# Load the diabetes dataset\n",
    "diabetes_X, diabetes_y = datasets.load_diabetes(return_X_y=True)\n",
    "\n",
    "# Use only one feature\n",
    "diabetes_X = diabetes_X[:, np.newaxis, 2]\n",
    "\n",
    "# Split the data into training/testing sets\n",
    "diabetes_X_train = diabetes_X[:-20]\n",
    "diabetes_X_test = diabetes_X[-20:]\n",
    "\n",
    "# Split the targets into training/testing sets\n",
    "diabetes_y_train = diabetes_y[:-20]\n",
    "diabetes_y_test = diabetes_y[-20:]\n",
    "\n",
    "# Create linear regression object\n",
    "regr = linear_model.LinearRegression()\n",
    "\n",
    "# Train the model using the training sets\n",
    "regr.fit(diabetes_X_train, diabetes_y_train)\n",
    "\n",
    "# Make predictions using the testing set\n",
    "diabetes_y_pred = regr.predict(diabetes_X_test)\n",
    "\n",
    "# The coefficients\n",
    "print(\"Coefficients: \\n\", regr.coef_)\n",
    "# The mean squared error\n",
    "print(\"Mean squared error: %.2f\" % mean_squared_error(diabetes_y_test, diabetes_y_pred))\n",
    "# The coefficient of determination: 1 is perfect prediction\n",
    "print(\"Coefficient of determination: %.2f\" % r2_score(diabetes_y_test, diabetes_y_pred))\n",
    "\n",
    "# Plot outputs\n",
    "plt.scatter(diabetes_X_test, diabetes_y_test, color=\"black\")\n",
    "plt.plot(diabetes_X_test, diabetes_y_pred, color=\"blue\", linewidth=3)\n",
    "\n",
    "plt.xticks(())\n",
    "plt.yticks(())\n",
    "\n",
    "plt.show()"
   ]
  },
  {
   "cell_type": "code",
   "execution_count": null,
   "metadata": {},
   "outputs": [],
   "source": []
  },
  {
   "cell_type": "code",
   "execution_count": 67,
   "metadata": {},
   "outputs": [
    {
     "data": {
      "text/plain": [
       "Text(15, 4, 'grow up!')"
      ]
     },
     "execution_count": 67,
     "metadata": {},
     "output_type": "execute_result"
    },
    {
     "data": {
      "image/png": "[encoded data removed]",
      "text/plain": [
       "<Figure size 432x288 with 1 Axes>"
      ]
     },
     "metadata": {
      "needs_background": "light"
     },
     "output_type": "display_data"
    }
   ],
   "source": [
    "x = [1, 5, 10, 15, 20]\n",
    "y = [1, 7, 3, 5, 11]\n",
    "plt.plot(x, y, label='steel price')\n",
    "plt.title('Chart price', fontsize=15)\n",
    "plt.xlabel('Day', fontsize=12, color='blue')\n",
    "plt.ylabel('Price', fontsize=12, color='blue')\n",
    "plt.legend(['L1', 'L2'])\n",
    "plt.grid(True)\n",
    "plt.text(15, 4, 'grow up!')"
   ]
  }
 ],
 "metadata": {
  "colab": {
   "provenance": []
  },
  "kernelspec": {
   "display_name": "Python 3",
   "language": "python",
   "name": "python3"
  },
  "language_info": {
   "codemirror_mode": {
    "name": "ipython",
    "version": 3
   },
   "file_extension": ".py",
   "mimetype": "text/x-python",
   "name": "python",
   "nbconvert_exporter": "python",
   "pygments_lexer": "ipython3",
   "version": "3.8.3"
  }
 },
 "nbformat": 4,
 "nbformat_minor": 1
}
