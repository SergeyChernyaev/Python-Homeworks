{
 "cells": [
  {
   "cell_type": "code",
   "execution_count": 45,
   "metadata": {
    "ExecuteTime": {
     "end_time": "2022-03-01T11:31:19.720003Z",
     "start_time": "2022-03-01T11:31:18.356798Z"
    }
   },
   "outputs": [],
   "source": [
    " # Подгрузим пакеты \n",
    "import pandas as pd\n",
    "import numpy as np\n",
    "import matplotlib\n",
    "import matplotlib.pyplot as plt\n",
    "from scipy import stats \n",
    "matplotlib.style.use('ggplot')\n",
    "%matplotlib inline\n",
    "import seaborn as sns"
   ]
  },
  {
   "cell_type": "markdown",
   "metadata": {},
   "source": [
    "<div class=\"alert alert-info\">\n",
    "<b>Задача: </b>\n",
    "    \n",
    "Проанализируйте синтетический датасет с данными. У вас есть наблюдения по 4 группам попытайтесь придумать кейс, когда вы анализируете некий признак в 4 группах. Что это за группы? Какие выводы можно сделать понаблюдав за тем как распределены данные и что показывают у нас тесты?    \n",
    "</div>"
   ]
  },
  {
   "cell_type": "markdown",
   "metadata": {},
   "source": [
    "Анализируем время в процентах которое проводят в в корпоративной информационной системе (КИС) работники четырех отделов компании: A - HR, B- маркетинг и реклама,  С - юристы, D - логистика. Строки - показатели в процентах работы от общего рабочего времени для пяти рабочих дней в течении одной рабочей  недели.\n",
    "\n",
    "**Нулевая гипотеза:** среднее время использования КИС для всех отделов компании не различается.\n",
    "**Альтернативная гипоотеза:** среднее время использования КИС отделами компании различается."
   ]
  },
  {
   "cell_type": "code",
   "execution_count": 46,
   "metadata": {
    "ExecuteTime": {
     "end_time": "2022-03-01T11:31:20.304019Z",
     "start_time": "2022-03-01T11:31:20.263013Z"
    }
   },
   "outputs": [
    {
     "data": {
      "text/html": [
       "<div>\n",
       "<style scoped>\n",
       "    .dataframe tbody tr th:only-of-type {\n",
       "        vertical-align: middle;\n",
       "    }\n",
       "\n",
       "    .dataframe tbody tr th {\n",
       "        vertical-align: top;\n",
       "    }\n",
       "\n",
       "    .dataframe thead th {\n",
       "        text-align: right;\n",
       "    }\n",
       "</style>\n",
       "<table border=\"1\" class=\"dataframe\">\n",
       "  <thead>\n",
       "    <tr style=\"text-align: right;\">\n",
       "      <th></th>\n",
       "      <th>A</th>\n",
       "      <th>B</th>\n",
       "      <th>C</th>\n",
       "      <th>D</th>\n",
       "    </tr>\n",
       "  </thead>\n",
       "  <tbody>\n",
       "    <tr>\n",
       "      <th>0</th>\n",
       "      <td>25</td>\n",
       "      <td>45</td>\n",
       "      <td>30</td>\n",
       "      <td>54</td>\n",
       "    </tr>\n",
       "    <tr>\n",
       "      <th>1</th>\n",
       "      <td>30</td>\n",
       "      <td>55</td>\n",
       "      <td>29</td>\n",
       "      <td>60</td>\n",
       "    </tr>\n",
       "    <tr>\n",
       "      <th>2</th>\n",
       "      <td>28</td>\n",
       "      <td>29</td>\n",
       "      <td>33</td>\n",
       "      <td>51</td>\n",
       "    </tr>\n",
       "    <tr>\n",
       "      <th>3</th>\n",
       "      <td>36</td>\n",
       "      <td>56</td>\n",
       "      <td>37</td>\n",
       "      <td>62</td>\n",
       "    </tr>\n",
       "    <tr>\n",
       "      <th>4</th>\n",
       "      <td>29</td>\n",
       "      <td>40</td>\n",
       "      <td>27</td>\n",
       "      <td>73</td>\n",
       "    </tr>\n",
       "  </tbody>\n",
       "</table>\n",
       "</div>"
      ],
      "text/plain": [
       "    A   B   C   D\n",
       "0  25  45  30  54\n",
       "1  30  55  29  60\n",
       "2  28  29  33  51\n",
       "3  36  56  37  62\n",
       "4  29  40  27  73"
      ]
     },
     "metadata": {},
     "output_type": "display_data"
    },
    {
     "data": {
      "image/png": "[encoded data removed]",
      "text/plain": [
       "<Figure size 432x288 with 1 Axes>"
      ]
     },
     "metadata": {
      "needs_background": "light"
     },
     "output_type": "display_data"
    }
   ],
   "source": [
    "df =\\\n",
    "    pd.DataFrame([[25, 45, 30, 54],\n",
    "                  [30, 55, 29, 60],\n",
    "                  [28, 29, 33, 51],\n",
    "                  [36, 56, 37, 62],\n",
    "                  [29, 40, 27, 73]],\n",
    "                 columns=['A', 'B', 'C', 'D'])\n",
    "display(df)\n",
    "df.boxplot()\n",
    "plt.show()"
   ]
  },
  {
   "cell_type": "markdown",
   "metadata": {},
   "source": [
    " Используем инструменты однофакторного дисперсионного анализа и теста Тьюки:"
   ]
  },
  {
   "cell_type": "code",
   "execution_count": 47,
   "metadata": {},
   "outputs": [
    {
     "name": "stdout",
     "output_type": "stream",
     "text": [
      "По тесту однофакторного дисперсионного анализа :\n",
      "statistic: 17.493, _pvalue: 0.0000264 заданный уровень значимости: 0.050\n",
      "На 0.05 уровене значимости, мы отвергаем нулевую гипотезе и принимаем H1.\n",
      "Различия во времени использования  КИС статистически достоверны:\n",
      "по крайней мере одно среднее значение группы отличается от остальных.\n",
      "\n",
      "Тест Тьюки (Tukey HSD) для отделов компании:\n",
      "\n",
      " Multiple Comparison of Means - Tukey HSD, FWER=0.05 \n",
      "=====================================================\n",
      "group1 group2 meandiff p-adj   lower    upper  reject\n",
      "-----------------------------------------------------\n",
      "     A      B     15.4 0.0251   1.6929 29.1071   True\n",
      "     A      C      1.6    0.9 -12.1071 15.3071  False\n",
      "     A      D     30.4  0.001  16.6929 44.1071   True\n",
      "     B      C    -13.8 0.0482 -27.5071 -0.0929   True\n",
      "     B      D     15.0 0.0296   1.2929 28.7071   True\n",
      "     C      D     28.8  0.001  15.0929 42.5071   True\n",
      "-----------------------------------------------------\n"
     ]
    },
    {
     "data": {
      "image/png": "[encoded data removed]",
      "text/plain": [
       "<Figure size 720x432 with 1 Axes>"
      ]
     },
     "execution_count": 47,
     "metadata": {},
     "output_type": "execute_result"
    },
    {
     "data": {
      "image/png": "[encoded data removed]",
      "text/plain": [
       "<Figure size 720x432 with 1 Axes>"
      ]
     },
     "metadata": {
      "needs_background": "light"
     },
     "output_type": "display_data"
    }
   ],
   "source": [
    "from scipy.stats import f_oneway\n",
    "from statsmodels.stats.multicomp import pairwise_tukeyhsd\n",
    "\n",
    "significance = 0.05\n",
    "\n",
    "value_ANOVA, pvalue = f_oneway(df['A'],df['B'], df['C'], df['D'])\n",
    "\n",
    "print ('По тесту однофакторного дисперсионного анализа :')\n",
    "print(f'statistic: {value_ANOVA:.3f}, _pvalue: {pvalue:.7f} заданный уровень значимости: {significance:.3f}')\n",
    "\n",
    "\n",
    "\n",
    "\n",
    "if pvalue <= significance:\n",
    "    print(f'На {significance:.2f} уровене значимости, мы отвергаем нулевую гипотезе и принимаем H1.')\n",
    "    print('Различия во времени использования  КИС статистически достоверны:')\n",
    "    print('по крайней мере одно среднее значение группы отличается от остальных.')\n",
    "else:\n",
    "    print(f'На {significance:.2f} уровене значимости, мы не можем отвергнуть нулевую гипотезу.')\n",
    "    print('Различия между  множествами статистически недостоверны. Среднее время использования КИС\\\n",
    "    отделами компании не различается')\n",
    "print('')\n",
    "\n",
    "\n",
    "\n",
    "# Можно выполнить тест Тьюки:\n",
    "groups = ['A','B','C', 'D']\n",
    "names = [];\n",
    "# Создаём подписи:\n",
    "for k1 in range (len(groups)):\n",
    "    for k2 in range(len(df['A'])):\n",
    "        names.append(groups[k1])\n",
    "\n",
    "\n",
    "tukey = pairwise_tukeyhsd(endog=pd.concat([df['A'], df['B'],df['C'], df['D']]).values,\n",
    "                          groups=names,\n",
    "                          alpha=0.05)\n",
    "print ('Тест Тьюки (Tukey HSD) для отделов компании:\\n')\n",
    "print (tukey)\n",
    "tukey.plot_simultaneous(comparison_name='A')"
   ]
  },
  {
   "cell_type": "markdown",
   "metadata": {},
   "source": [
    "**Выводы:** Среднее время использование КИС компании статистически различается для всех отделов кроме отдела кадров и юристов. Наибольшее время использования - у отдела логистики. Меньше всего используют КИС юристы и кадровики."
   ]
  },
  {
   "cell_type": "markdown",
   "metadata": {},
   "source": [
    "<div class=\"alert alert-info\">\n",
    "<b>Задача: </b>    \n",
    "    \n",
    "Есть некоторые данные об измерении раковины  у мидии Mytilus trossulus из пяти мест: \n",
    "Тилламук, Ньюпорт, Петербург, Аляска, Магадан и Твермин.\n",
    "    \n",
    "Осуществить дисперсионный анализ, визуализируйте данные. \n",
    "    \n",
    "Если удастся визуально выделить данные в группы (например 2 города в одной, 3 в другой), сравнить выборки внутри полученных групп.   \n",
    "</div>"
   ]
  },
  {
   "cell_type": "markdown",
   "metadata": {},
   "source": [
    "ПЕРЕДЕЛАТЬ НА СЕМПЛЫ!!!!"
   ]
  },
  {
   "cell_type": "code",
   "execution_count": 48,
   "metadata": {
    "ExecuteTime": {
     "end_time": "2022-03-01T11:31:20.320023Z",
     "start_time": "2022-03-01T11:31:20.310009Z"
    }
   },
   "outputs": [
    {
     "name": "stdout",
     "output_type": "stream",
     "text": [
      "Исходный датасет:\n"
     ]
    },
    {
     "data": {
      "text/html": [
       "<div>\n",
       "<style scoped>\n",
       "    .dataframe tbody tr th:only-of-type {\n",
       "        vertical-align: middle;\n",
       "    }\n",
       "\n",
       "    .dataframe tbody tr th {\n",
       "        vertical-align: top;\n",
       "    }\n",
       "\n",
       "    .dataframe thead th {\n",
       "        text-align: right;\n",
       "    }\n",
       "</style>\n",
       "<table border=\"1\" class=\"dataframe\">\n",
       "  <thead>\n",
       "    <tr style=\"text-align: right;\">\n",
       "      <th></th>\n",
       "      <th>tillamook</th>\n",
       "      <th>newport</th>\n",
       "      <th>petersburg</th>\n",
       "      <th>magadan</th>\n",
       "      <th>tvarminne</th>\n",
       "    </tr>\n",
       "  </thead>\n",
       "  <tbody>\n",
       "    <tr>\n",
       "      <th>0</th>\n",
       "      <td>0.0571</td>\n",
       "      <td>0.0873</td>\n",
       "      <td>0.0974</td>\n",
       "      <td>0.1033</td>\n",
       "      <td>0.0703</td>\n",
       "    </tr>\n",
       "    <tr>\n",
       "      <th>1</th>\n",
       "      <td>0.0813</td>\n",
       "      <td>0.0662</td>\n",
       "      <td>0.1352</td>\n",
       "      <td>0.0915</td>\n",
       "      <td>0.1026</td>\n",
       "    </tr>\n",
       "    <tr>\n",
       "      <th>2</th>\n",
       "      <td>0.0831</td>\n",
       "      <td>0.0672</td>\n",
       "      <td>0.0817</td>\n",
       "      <td>0.0781</td>\n",
       "      <td>0.0956</td>\n",
       "    </tr>\n",
       "    <tr>\n",
       "      <th>3</th>\n",
       "      <td>0.0976</td>\n",
       "      <td>0.0819</td>\n",
       "      <td>0.1016</td>\n",
       "      <td>0.0685</td>\n",
       "      <td>0.0973</td>\n",
       "    </tr>\n",
       "    <tr>\n",
       "      <th>4</th>\n",
       "      <td>0.0817</td>\n",
       "      <td>0.0749</td>\n",
       "      <td>0.0968</td>\n",
       "      <td>0.0677</td>\n",
       "      <td>0.1039</td>\n",
       "    </tr>\n",
       "    <tr>\n",
       "      <th>5</th>\n",
       "      <td>0.0859</td>\n",
       "      <td>0.0649</td>\n",
       "      <td>0.1064</td>\n",
       "      <td>0.0697</td>\n",
       "      <td>0.1045</td>\n",
       "    </tr>\n",
       "    <tr>\n",
       "      <th>6</th>\n",
       "      <td>0.0735</td>\n",
       "      <td>0.0835</td>\n",
       "      <td>0.1050</td>\n",
       "      <td>0.0764</td>\n",
       "      <td>NaN</td>\n",
       "    </tr>\n",
       "    <tr>\n",
       "      <th>7</th>\n",
       "      <td>0.0659</td>\n",
       "      <td>0.0725</td>\n",
       "      <td>NaN</td>\n",
       "      <td>0.0689</td>\n",
       "      <td>NaN</td>\n",
       "    </tr>\n",
       "    <tr>\n",
       "      <th>8</th>\n",
       "      <td>0.0923</td>\n",
       "      <td>NaN</td>\n",
       "      <td>NaN</td>\n",
       "      <td>NaN</td>\n",
       "      <td>NaN</td>\n",
       "    </tr>\n",
       "    <tr>\n",
       "      <th>9</th>\n",
       "      <td>0.0836</td>\n",
       "      <td>NaN</td>\n",
       "      <td>NaN</td>\n",
       "      <td>NaN</td>\n",
       "      <td>NaN</td>\n",
       "    </tr>\n",
       "  </tbody>\n",
       "</table>\n",
       "</div>"
      ],
      "text/plain": [
       "   tillamook  newport  petersburg  magadan  tvarminne\n",
       "0     0.0571   0.0873      0.0974   0.1033     0.0703\n",
       "1     0.0813   0.0662      0.1352   0.0915     0.1026\n",
       "2     0.0831   0.0672      0.0817   0.0781     0.0956\n",
       "3     0.0976   0.0819      0.1016   0.0685     0.0973\n",
       "4     0.0817   0.0749      0.0968   0.0677     0.1039\n",
       "5     0.0859   0.0649      0.1064   0.0697     0.1045\n",
       "6     0.0735   0.0835      0.1050   0.0764        NaN\n",
       "7     0.0659   0.0725         NaN   0.0689        NaN\n",
       "8     0.0923      NaN         NaN      NaN        NaN\n",
       "9     0.0836      NaN         NaN      NaN        NaN"
      ]
     },
     "metadata": {},
     "output_type": "display_data"
    },
    {
     "name": "stdout",
     "output_type": "stream",
     "text": [
      "Заполнение средними:\n"
     ]
    },
    {
     "data": {
      "text/html": [
       "<div>\n",
       "<style scoped>\n",
       "    .dataframe tbody tr th:only-of-type {\n",
       "        vertical-align: middle;\n",
       "    }\n",
       "\n",
       "    .dataframe tbody tr th {\n",
       "        vertical-align: top;\n",
       "    }\n",
       "\n",
       "    .dataframe thead th {\n",
       "        text-align: right;\n",
       "    }\n",
       "</style>\n",
       "<table border=\"1\" class=\"dataframe\">\n",
       "  <thead>\n",
       "    <tr style=\"text-align: right;\">\n",
       "      <th></th>\n",
       "      <th>tillamook</th>\n",
       "      <th>newport</th>\n",
       "      <th>petersburg</th>\n",
       "      <th>magadan</th>\n",
       "      <th>tvarminne</th>\n",
       "    </tr>\n",
       "  </thead>\n",
       "  <tbody>\n",
       "    <tr>\n",
       "      <th>0</th>\n",
       "      <td>0.0571</td>\n",
       "      <td>0.0873</td>\n",
       "      <td>0.0974</td>\n",
       "      <td>0.1033</td>\n",
       "      <td>0.0703</td>\n",
       "    </tr>\n",
       "    <tr>\n",
       "      <th>1</th>\n",
       "      <td>0.0813</td>\n",
       "      <td>0.0662</td>\n",
       "      <td>0.1352</td>\n",
       "      <td>0.0915</td>\n",
       "      <td>0.1026</td>\n",
       "    </tr>\n",
       "    <tr>\n",
       "      <th>2</th>\n",
       "      <td>0.0831</td>\n",
       "      <td>0.0672</td>\n",
       "      <td>0.0817</td>\n",
       "      <td>0.0781</td>\n",
       "      <td>0.0956</td>\n",
       "    </tr>\n",
       "    <tr>\n",
       "      <th>3</th>\n",
       "      <td>0.0976</td>\n",
       "      <td>0.0819</td>\n",
       "      <td>0.1016</td>\n",
       "      <td>0.0685</td>\n",
       "      <td>0.0973</td>\n",
       "    </tr>\n",
       "    <tr>\n",
       "      <th>4</th>\n",
       "      <td>0.0817</td>\n",
       "      <td>0.0749</td>\n",
       "      <td>0.0968</td>\n",
       "      <td>0.0677</td>\n",
       "      <td>0.1039</td>\n",
       "    </tr>\n",
       "    <tr>\n",
       "      <th>5</th>\n",
       "      <td>0.0859</td>\n",
       "      <td>0.0649</td>\n",
       "      <td>0.1064</td>\n",
       "      <td>0.0697</td>\n",
       "      <td>0.1045</td>\n",
       "    </tr>\n",
       "    <tr>\n",
       "      <th>6</th>\n",
       "      <td>0.0735</td>\n",
       "      <td>0.0835</td>\n",
       "      <td>0.1050</td>\n",
       "      <td>0.0764</td>\n",
       "      <td>0.0957</td>\n",
       "    </tr>\n",
       "    <tr>\n",
       "      <th>7</th>\n",
       "      <td>0.0659</td>\n",
       "      <td>0.0725</td>\n",
       "      <td>0.1034</td>\n",
       "      <td>0.0689</td>\n",
       "      <td>0.0957</td>\n",
       "    </tr>\n",
       "    <tr>\n",
       "      <th>8</th>\n",
       "      <td>0.0923</td>\n",
       "      <td>0.0748</td>\n",
       "      <td>0.1034</td>\n",
       "      <td>0.0780</td>\n",
       "      <td>0.0957</td>\n",
       "    </tr>\n",
       "    <tr>\n",
       "      <th>9</th>\n",
       "      <td>0.0836</td>\n",
       "      <td>0.0748</td>\n",
       "      <td>0.1034</td>\n",
       "      <td>0.0780</td>\n",
       "      <td>0.0957</td>\n",
       "    </tr>\n",
       "  </tbody>\n",
       "</table>\n",
       "</div>"
      ],
      "text/plain": [
       "   tillamook  newport  petersburg  magadan  tvarminne\n",
       "0     0.0571   0.0873      0.0974   0.1033     0.0703\n",
       "1     0.0813   0.0662      0.1352   0.0915     0.1026\n",
       "2     0.0831   0.0672      0.0817   0.0781     0.0956\n",
       "3     0.0976   0.0819      0.1016   0.0685     0.0973\n",
       "4     0.0817   0.0749      0.0968   0.0677     0.1039\n",
       "5     0.0859   0.0649      0.1064   0.0697     0.1045\n",
       "6     0.0735   0.0835      0.1050   0.0764     0.0957\n",
       "7     0.0659   0.0725      0.1034   0.0689     0.0957\n",
       "8     0.0923   0.0748      0.1034   0.0780     0.0957\n",
       "9     0.0836   0.0748      0.1034   0.0780     0.0957"
      ]
     },
     "metadata": {},
     "output_type": "display_data"
    },
    {
     "name": "stdout",
     "output_type": "stream",
     "text": [
      "Тест Тьюки (Tukey HSD):\n",
      "\n",
      "    Multiple Comparison of Means - Tukey HSD, FWER=0.05     \n",
      "============================================================\n",
      "  group1     group2   meandiff p-adj   lower   upper  reject\n",
      "------------------------------------------------------------\n",
      "   magadan    newport  -0.0032    0.9 -0.0171  0.0107  False\n",
      "   magadan petersburg   0.0254  0.001  0.0115  0.0393   True\n",
      "   magadan  tillamook   0.0022    0.9 -0.0117  0.0161  False\n",
      "   magadan  tvarminne   0.0177 0.0065  0.0038  0.0316   True\n",
      "   newport petersburg   0.0286  0.001  0.0147  0.0425   True\n",
      "   newport  tillamook   0.0054   0.78 -0.0085  0.0193  False\n",
      "   newport  tvarminne   0.0209  0.001   0.007  0.0348   True\n",
      "petersburg  tillamook  -0.0232  0.001 -0.0371 -0.0093   True\n",
      "petersburg  tvarminne  -0.0077 0.5162 -0.0216  0.0062  False\n",
      " tillamook  tvarminne   0.0155 0.0222  0.0016  0.0294   True\n",
      "------------------------------------------------------------\n"
     ]
    },
    {
     "data": {
      "image/png": "[encoded data removed]",
      "text/plain": [
       "<Figure size 720x432 with 1 Axes>"
      ]
     },
     "execution_count": 48,
     "metadata": {},
     "output_type": "execute_result"
    },
    {
     "data": {
      "image/png": "[encoded data removed]",
      "text/plain": [
       "<Figure size 864x576 with 1 Axes>"
      ]
     },
     "metadata": {
      "needs_background": "light"
     },
     "output_type": "display_data"
    },
    {
     "data": {
      "image/png": "[encoded data removed]",
      "text/plain": [
       "<Figure size 720x432 with 1 Axes>"
      ]
     },
     "metadata": {
      "needs_background": "light"
     },
     "output_type": "display_data"
    }
   ],
   "source": [
    "tillamook = [0.0571, 0.0813, 0.0831, 0.0976,\n",
    "             0.0817, 0.0859, 0.0735, 0.0659, 0.0923, 0.0836]\n",
    "newport = [0.0873, 0.0662, 0.0672, 0.0819, 0.0749, 0.0649, 0.0835, 0.0725]\n",
    "petersburg = [0.0974, 0.1352, 0.0817, 0.1016, 0.0968, 0.1064, 0.105]\n",
    "magadan = [0.1033, 0.0915, 0.0781, 0.0685, 0.0677, 0.0697, 0.0764, 0.0689]\n",
    "tvarminne = [0.0703, 0.1026, 0.0956, 0.0973, 0.1039, 0.1045]\n",
    "\n",
    "\n",
    "\n",
    "df_musel = pd.DataFrame({'tillamook': pd.Series(tillamook), \n",
    "                         'newport': pd.Series(newport),\n",
    "                         'petersburg': pd.Series(petersburg),\n",
    "                         'magadan': pd.Series(magadan),\n",
    "                         'tvarminne': pd.Series(tvarminne)\n",
    "                        })\n",
    "\n",
    "print('Исходный датасет:')\n",
    "display(df_musel)\n",
    "\n",
    "\n",
    "significance = 0.05\n",
    "# Выровняем средними значениями:\n",
    "df_musel.fillna(df_musel.mean(numeric_only=True).round(4), inplace=True)\n",
    "\n",
    "print('Заполнение средними:')\n",
    "display(df_musel)\n",
    "\n",
    " \n",
    "    \n",
    "df_musel.boxplot(figsize=(12, 8));\n",
    "\n",
    "# Можно выполнить тест Тьюки:\n",
    "groups = ['tillamook','newport','petersburg',  'magadan', 'tvarminne']\n",
    "names = [];\n",
    "# Создаём подписи:\n",
    "for k1 in range (len(groups)):\n",
    "    for k2 in range(len(df_musel['tillamook'])):\n",
    "        names.append(groups[k1])\n",
    "\n",
    "\n",
    "tukey = pairwise_tukeyhsd(endog=pd.concat([df_musel['tillamook'],\n",
    "                                           df_musel['newport'],\n",
    "                                           df_musel['petersburg'], \n",
    "                                           df_musel['magadan'],\n",
    "                                           df_musel['tvarminne']]).values,\n",
    "                          groups=names,\n",
    "                          alpha=0.05)\n",
    "\n",
    "df_musel.boxplot()\n",
    "print ('Тест Тьюки (Tukey HSD):\\n')\n",
    "print (tukey)\n",
    "tukey.plot_simultaneous(comparison_name='tillamook')"
   ]
  },
  {
   "cell_type": "markdown",
   "metadata": {},
   "source": [
    "Можно выделить две группы : \n",
    "\n",
    "первая  - ***'tillamook',  'newport', 'magadan'***\n",
    "\n",
    "вторая  - ***'petersburg', 'tvarminne'***.\n",
    "Тест Тьюки гороврит о равенстве средних значений в указанных группах."
   ]
  },
  {
   "cell_type": "markdown",
   "metadata": {},
   "source": [
    "# Задачи с самостоятельным выбором теста"
   ]
  },
  {
   "cell_type": "markdown",
   "metadata": {},
   "source": [
    "**Замечание: 1** Предполагается, что для решения заданий  № 1-3 будут использоваться разные тесты.\n",
    "\n",
    "Если возникают сложности по ходу решения - пиште свой вопрос в общий чат в Slack. Там всегда подскажут) \n",
    "\n",
    "\n"
   ]
  },
  {
   "cell_type": "markdown",
   "metadata": {},
   "source": [
    "<div class=\"alert alert-info\">\n",
    "<b>Задание № 1 </b>\n",
    "Вам даны результаты проверки двух препаратов.\n",
    "    \n",
    "Требуется:\n",
    "- Оценить, есть ли различие в эффекте у этих пациентов?\n",
    "- Визуально подтвердить результат\n",
    "    \n",
    "`A` - результаты для группы людей получающих препарат А.\n",
    "\n",
    "`B` - результаты для другой группы людей, получающих препарат B.\n",
    "    \n",
    "</div>"
   ]
  },
  {
   "attachments": {
    "%D0%B8%D0%B7%D0%BE%D0%B1%D1%80%D0%B0%D0%B6%D0%B5%D0%BD%D0%B8%D0%B5.png": {
     "image/png": "[encoded data removed]"
    }
   },
   "cell_type": "markdown",
   "metadata": {},
   "source": [
    "![%D0%B8%D0%B7%D0%BE%D0%B1%D1%80%D0%B0%D0%B6%D0%B5%D0%BD%D0%B8%D0%B5.png](attachment:%D0%B8%D0%B7%D0%BE%D0%B1%D1%80%D0%B0%D0%B6%D0%B5%D0%BD%D0%B8%D0%B5.png)"
   ]
  },
  {
   "cell_type": "markdown",
   "metadata": {},
   "source": [
    "Для **Задачи 1** есть смысл применить  двухвыборочный t-критерий (https://www.clinvest.ru/jour/article/viewFile/392/374):"
   ]
  },
  {
   "cell_type": "code",
   "execution_count": 49,
   "metadata": {
    "ExecuteTime": {
     "end_time": "2022-03-01T11:32:15.917578Z",
     "start_time": "2022-03-01T11:32:15.904528Z"
    }
   },
   "outputs": [
    {
     "name": "stdout",
     "output_type": "stream",
     "text": [
      "По двухвыборочному t-тесту Стьюдента:\n",
      "t_value: -1.734, _pvalue: 0.085 заданный уровень значимости: 0.050\n",
      "На 0.05 уровене значимости, мы не можем отвергнуть нулевую гипотезу.\n",
      "Различия между двумя множествами статистически недостоверны.\n",
      "\n"
     ]
    },
    {
     "data": {
      "image/png": "[encoded data removed]",
      "text/plain": [
       "<Figure size 432x288 with 1 Axes>"
      ]
     },
     "metadata": {
      "needs_background": "light"
     },
     "output_type": "display_data"
    }
   ],
   "source": [
    "np.random.seed(11)\n",
    "A = stats.norm.rvs(scale=30, loc=11, size=100)\n",
    "B = A + stats.norm.rvs(scale=54, loc=11, size=100)\n",
    "\n",
    "# Ваш код.\n",
    "significance = 0.05\n",
    "\n",
    "tvalueSt, pvalueSt = stats.ttest_ind(A,B)\n",
    "print ('По двухвыборочному t-тесту Стьюдента:')\n",
    "print(f't_value: {tvalueSt:.3f}, _pvalue: {pvalueSt:.3f} заданный уровень значимости: {significance:.3f}')\n",
    "\n",
    "\n",
    "\n",
    "if pvalueSt <= significance:\n",
    "    print(f'На {significance:.2f} уровене значимости, мы отвергаем нулевую гипотезе и принимаем H1.')\n",
    "    print('Различия между двумя множествами статистически достоверны.')\n",
    "else:\n",
    "    print(f'На {significance:.2f} уровене значимости, мы не можем отвергнуть нулевую гипотезу.')\n",
    "    print('Различия между двумя множествами статистически недостоверны.')\n",
    "print('')\n",
    "\n",
    "\n",
    "\n",
    "sns.distplot(A)\n",
    "sns.distplot(B)\n",
    "\n",
    "plt.show()\n"
   ]
  },
  {
   "cell_type": "markdown",
   "metadata": {},
   "source": [
    "<div class=\"alert alert-info\">\n",
    "<b>Задание № 2 </b>\n",
    "Вам даны результаты проверки двух препаратов. \n",
    "    \n",
    "Требуется: \n",
    "- Оценить, есть ли различие в эффекте у этих пациентов?\n",
    "- Визуально подтвердить результат\n",
    "    \n",
    "`А` - группа людей без препарата.\n",
    "\n",
    "`B` - та же группа людей, но получающая препарат\n",
    "</div>"
   ]
  },
  {
   "cell_type": "markdown",
   "metadata": {},
   "source": [
    "Для решения **Задачи 2** применим  t-критерий Стьюдента для зависимых переменных:"
   ]
  },
  {
   "cell_type": "code",
   "execution_count": 50,
   "metadata": {
    "ExecuteTime": {
     "end_time": "2022-03-01T11:32:15.901529Z",
     "start_time": "2022-03-01T11:32:15.888526Z"
    }
   },
   "outputs": [
    {
     "name": "stdout",
     "output_type": "stream",
     "text": [
      "По тесту Стьюдента для зависимых переменных :\n",
      "t_value: -2.170, _pvalue: 0.032 заданный уровень значимости: 0.050\n",
      "На 0.05 уровене значимости, мы отвергаем нулевую гипотезе и принимаем H1.\n",
      "Различия между двумя множествами статистически достоверны.\n",
      "\n"
     ]
    },
    {
     "data": {
      "image/png": "[encoded data removed]",
      "text/plain": [
       "<Figure size 432x288 with 1 Axes>"
      ]
     },
     "metadata": {
      "needs_background": "light"
     },
     "output_type": "display_data"
    }
   ],
   "source": [
    "\n",
    "np.random.seed(11)\n",
    "A = stats.norm.rvs(scale=30, loc=11, size=100)\n",
    "B = A + stats.norm.rvs(scale=54, loc=11, size=100)\n",
    "\n",
    "# Ваш код.\n",
    "\n",
    "significance = 0.05\n",
    "\n",
    "tvalueSt, pvalueSt = stats.ttest_rel(A,B)\n",
    "print ('По тесту Стьюдента для зависимых переменных :')\n",
    "print(f't_value: {tvalueSt:.3f}, _pvalue: {pvalueSt:.3f} заданный уровень значимости: {significance:.3f}')\n",
    "\n",
    "\n",
    "\n",
    "if pvalueSt <= significance:\n",
    "    print(f'На {significance:.2f} уровене значимости, мы отвергаем нулевую гипотезе и принимаем H1.')\n",
    "    print('Различия между двумя множествами статистически достоверны.')\n",
    "else:\n",
    "    print(f'На {significance:.2f} уровене значимости, мы не можем отвергнуть нулевую гипотезу.')\n",
    "    print('Различия между двумя множествами статистически недостоверны.')\n",
    "print('')\n",
    "\n",
    "sns.distplot(A)\n",
    "sns.distplot(B)\n",
    "plt.show()\n"
   ]
  },
  {
   "cell_type": "markdown",
   "metadata": {},
   "source": [
    "<div class=\"alert alert-info\">\n",
    "<b>Задание № 3 </b>\n",
    "Допустим вы решили устроить дачный эксперимент. Берем и поливаем одни огурцы водой, другие огурцы водой с удобнением, третью группу огурцов будем поливать минералкой. \n",
    "    \n",
    " - Используя дисперсионный анализ, сделайте выводы о распредлениях результатов. Есть ли эффект от удобрения по сравнению с минералкой? \n",
    " - Помимо результата статистического теста, продемонстрируйте отличия визуально с помощью `boxplot` или `hist`\n",
    "    \n",
    "</div>"
   ]
  },
  {
   "cell_type": "markdown",
   "metadata": {},
   "source": [
    "Для решения **Задачи 3** применим  используем инструменты ***однофакторного дисперсионного анализа*** и ***теста Тьюки***:"
   ]
  },
  {
   "cell_type": "code",
   "execution_count": 51,
   "metadata": {
    "ExecuteTime": {
     "end_time": "2022-03-01T11:32:16.028527Z",
     "start_time": "2022-03-01T11:32:15.924532Z"
    }
   },
   "outputs": [
    {
     "name": "stdout",
     "output_type": "stream",
     "text": [
      "По тесту однофакторного дисперсионного анализа :\n",
      "statistic: 11.974, _pvalue: 0.0000455 заданный уровень значимости: 0.050\n",
      "На 0.05 уровене значимости, мы отвергаем нулевую гипотезе и принимаем H1.\n",
      "Различия между  множествами статистически достоверны:\n",
      "по крайней мере одно среднее значение выборки отличается от остальных.\n",
      "\n",
      "По двухвыборочному t-тесту Стьюдента:\n",
      "t_value: 4.186, _pvalue: 0.0001622 заданный уровень значимости: 0.050\n",
      "На 0.05 уровене значимости, мы отвергаем нулевую гипотезе и принимаем H1.\n",
      "Различия между поливом с удобрениями и поливом  минералкой статистически достоверны.\n",
      "\n",
      "По двухвыборочному t-тесту Стьюдента:\n",
      "t_value: -0.247, _pvalue: 0.8062593 заданный уровень значимости: 0.050\n",
      "На 0.05 уровене значимости, мы не можем отвергнуть нулевую гипотезу.\n",
      "Различия между поливом просто водой и поливом минералкой статистически недостоверны.\n",
      "\n",
      "Тест Тьюки (Tukey HSD):\n",
      "\n",
      "Multiple Comparison of Means - Tukey HSD, FWER=0.05 \n",
      "====================================================\n",
      " group1 group2 meandiff p-adj  lower   upper  reject\n",
      "----------------------------------------------------\n",
      "mineral  nutri      1.9 0.001  0.8484  2.9516   True\n",
      "mineral  water      0.1   0.9 -0.9516  1.1516  False\n",
      "  nutri  water     -1.8 0.001 -2.8516 -0.7484   True\n",
      "----------------------------------------------------\n"
     ]
    },
    {
     "data": {
      "image/png": "[encoded data removed]",
      "text/plain": [
       "<Figure size 432x288 with 1 Axes>"
      ]
     },
     "metadata": {
      "needs_background": "light"
     },
     "output_type": "display_data"
    }
   ],
   "source": [
    "water = [1, 2, 3, 4, 2, 4, 2, 4, 5, 2, 3, 4, 2, 1, 3, 4, 3, 2, 5, 1]\n",
    "nutri = [1, 2, 4, 6, 5, 6, 7, 5, 4, 5, 6, 7, 4, 3, 5, 5, 6, 5, 4, 3, 5]\n",
    "mineral = [2, 1, 1, 3, 2, 4, 2, 4, 5, 4, 3, 2, 3, 2, 3, 1, 3, 4, 5, 1, 4]\n",
    "\n",
    "# Ваш код.\n",
    "from scipy.stats import f_oneway\n",
    "from statsmodels.stats.multicomp import pairwise_tukeyhsd\n",
    "\n",
    "significance = 0.05\n",
    "df  = pd.DataFrame(list(zip(water, nutri, mineral)),\n",
    "               columns =['water', 'nutri', 'mineral'])\n",
    "\n",
    "value_ANOVA, pvalue = f_oneway(df['water'],df['nutri'], df['mineral'])\n",
    "\n",
    "print ('По тесту однофакторного дисперсионного анализа :')\n",
    "print(f'statistic: {value_ANOVA:.3f}, _pvalue: {pvalue:.7f} заданный уровень значимости: {significance:.3f}')\n",
    "\n",
    "\n",
    "\n",
    "if pvalue <= significance:\n",
    "    print(f'На {significance:.2f} уровене значимости, мы отвергаем нулевую гипотезе и принимаем H1.')\n",
    "    print('Различия между  множествами статистически достоверны:')\n",
    "    print('по крайней мере одно среднее значение выборки отличается от остальных.')\n",
    "else:\n",
    "    print(f'На {significance:.2f} уровене значимости, мы не можем отвергнуть нулевую гипотезу.')\n",
    "    print('Различия между  множествами статистически недостоверны.')\n",
    "print('')\n",
    "\n",
    "# Нитраты и минералка\n",
    "tvalueSt, pvalueSt = stats.ttest_ind(df['nutri'],df['mineral'])\n",
    "print ('По двухвыборочному t-тесту Стьюдента:')\n",
    "print(f't_value: {tvalueSt:.3f}, _pvalue: {pvalueSt:.7f} заданный уровень значимости: {significance:.3f}')\n",
    "\n",
    "\n",
    "\n",
    "if pvalueSt <= significance:\n",
    "    print(f'На {significance:.2f} уровене значимости, мы отвергаем нулевую гипотезе и принимаем H1.')\n",
    "    print('Различия между поливом с удобрениями и поливом  минералкой статистически достоверны.')\n",
    "else:\n",
    "    print(f'На {significance:.2f} уровене значимости, мы не можем отвергнуть нулевую гипотезу.')\n",
    "    print('Различия между поливом с удобрениями и поливом  минералкой статистически недостоверны.')\n",
    "print('')\n",
    "\n",
    "# Минералка и вода\n",
    "tvalueSt, pvalueSt = stats.ttest_ind(df['mineral'],df['water'])\n",
    "print ('По двухвыборочному t-тесту Стьюдента:')\n",
    "print(f't_value: {tvalueSt:.3f}, _pvalue: {pvalueSt:.7f} заданный уровень значимости: {significance:.3f}')\n",
    "\n",
    "\n",
    "\n",
    "if pvalueSt <= significance:\n",
    "    print(f'На {significance:.2f} уровене значимости, мы отвергаем нулевую гипотезе и принимаем H1.')\n",
    "    print('Различия между поливом просто водой и поливом  минералкой статистически достоверны.')\n",
    "else:\n",
    "    print(f'На {significance:.2f} уровене значимости, мы не можем отвергнуть нулевую гипотезу.')\n",
    "    print('Различия между поливом просто водой и поливом минералкой статистически недостоверны.')\n",
    "print('')\n",
    "\n",
    "# Можно выполнить тест Тьюки:\n",
    "groups = ['water','nutri','mineral']\n",
    "names = [];\n",
    "# Создаём подписи:\n",
    "for k1 in range (len(groups)):\n",
    "    for k2 in range(len(df['water'])):\n",
    "        names.append(groups[k1])\n",
    "\n",
    "\n",
    "tukey = pairwise_tukeyhsd(endog=pd.concat([df['water'], df['nutri'],df['mineral']]).values,\n",
    "                          groups=names,\n",
    "                          alpha=0.05)\n",
    "\n",
    "df.boxplot()\n",
    "print ('Тест Тьюки (Tukey HSD):\\n')\n",
    "print (tukey)\n",
    "\n"
   ]
  },
  {
   "cell_type": "code",
   "execution_count": 52,
   "metadata": {},
   "outputs": [
    {
     "data": {
      "image/png": "[encoded data removed]",
      "text/plain": [
       "<Figure size 720x432 with 1 Axes>"
      ]
     },
     "execution_count": 52,
     "metadata": {},
     "output_type": "execute_result"
    },
    {
     "data": {
      "image/png": "[encoded data removed]",
      "text/plain": [
       "<Figure size 720x432 with 1 Axes>"
      ]
     },
     "metadata": {
      "needs_background": "light"
     },
     "output_type": "display_data"
    }
   ],
   "source": [
    "tukey.plot_simultaneous(comparison_name='water')"
   ]
  },
  {
   "cell_type": "markdown",
   "metadata": {},
   "source": [
    "**Вывод:** Группа *nutri* статистически отличается от групп *mineral* и *water*. В отличии от *mineral* удобрение *nutri* действует."
   ]
  },
  {
   "cell_type": "markdown",
   "metadata": {},
   "source": [
    "<div class=\"alert alert-info\">\n",
    "<b>*Задание*</b>\n",
    "    \n",
    "Проанализируем ещё один датасет. Здесь снова данные по урожайности в зависимости от типа используемого удобрения. \n",
    "    \n",
    "Предлагаю самостоятельно исследовать данные и проверить гипотезы, используя тесты, изученные в течение курса\n",
    "Допустим, вы должны помочь агроному выбрать тип удобрения. Какой вы посоветуете и почему? \n",
    "\n"
   ]
  },
  {
   "cell_type": "code",
   "execution_count": 53,
   "metadata": {
    "ExecuteTime": {
     "end_time": "2022-03-01T11:37:23.694558Z",
     "start_time": "2022-03-01T11:37:23.440560Z"
    }
   },
   "outputs": [
    {
     "name": "stdout",
     "output_type": "stream",
     "text": [
      "Multiple Comparison of Means - Tukey HSD, FWER=0.05\n",
      "===================================================\n",
      "group1 group2 meandiff p-adj   lower  upper  reject\n",
      "---------------------------------------------------\n",
      "  ctrl   trt1   -0.371 0.3921 -1.0621 0.3201  False\n",
      "  ctrl   trt2    0.494  0.198 -0.1971 1.1851  False\n",
      "  trt1   trt2    0.865  0.012  0.1739 1.5561   True\n",
      "---------------------------------------------------\n"
     ]
    },
    {
     "data": {
      "image/png": "[encoded data removed]",
      "text/plain": [
       "<Figure size 864x576 with 1 Axes>"
      ]
     },
     "metadata": {
      "needs_background": "light"
     },
     "output_type": "display_data"
    }
   ],
   "source": [
    "df_plant= pd.read_csv('PlantGrowth.csv')\n",
    "df_plant.boxplot('weight', by='group', figsize=(12, 8));\n",
    "\n",
    "\n",
    "tukey = pairwise_tukeyhsd(endog=df_plant['weight'],\n",
    "                          groups=df_plant['group'],\n",
    "                          alpha=0.05)\n",
    "print(tukey)"
   ]
  },
  {
   "cell_type": "markdown",
   "metadata": {},
   "source": [
    "**Вывод**: Несмотря на то что между удобрениями trt1 и trt2 есть статистически значимые различия, тест Тьюки показывет что ни применение удобрения trt1, ни применение удобрения trt2 не даёт никаких различий с контрольной группой ctrl. Удобрения на урожайность не влияют."
   ]
  },
  {
   "cell_type": "markdown",
   "metadata": {},
   "source": [
    "# A/B - тесты \n",
    "## Cookie Cats "
   ]
  },
  {
   "cell_type": "markdown",
   "metadata": {},
   "source": [
    "<div class=\"alert alert-info\">\n",
    "Cookie Cats - чрезвычайно популярная мобильная игра-головоломка, разработанная Tactile Entertainment. Это классическая игра-головоломка в стиле «соедините три», в которой игрок должен соединять плитки одного цвета, чтобы очистить поле и выиграть уровень. Здесь также есть поющие кошки. \n",
    "</div>"
   ]
  },
  {
   "cell_type": "markdown",
   "metadata": {},
   "source": [
    "<p style=\"align: center;\"><img align=center src=\"https://i.ytimg.com/vi/iPxZIp0cbJE/maxresdefault.jpg\"  width=500></p>\n",
    " \n",
    " \n",
    "<p style=\"align: center;\"><img align=center src=\"https://s3.amazonaws.com/assets.datacamp.com/production/project_184/img/cc_gates.png\"  width=500></p>\n"
   ]
  },
  {
   "cell_type": "markdown",
   "metadata": {},
   "source": [
    "<div class=\"alert alert-info\">\n",
    "По мере прохождения уровней игры игроки время от времени сталкиваются с воротами, которые заставляют их ждать нетривиальное количество времени или совершать покупки в приложении, чтобы продолжить. Помимо стимулирования покупок в приложении, эти ворота служат важной цели - дать игрокам вынужденный перерыв в игре, что, как мы надеемся, приведет к увеличению и продлению удовольствия от игры.\n",
    "</div>"
   ]
  },
  {
   "cell_type": "markdown",
   "metadata": {},
   "source": [
    "<div class=\"alert alert-info\">\n",
    "<b>Но где ставить ворота? </b>\n",
    "Первоначально первые ворота были размещены на уровне 30. В этом проекте вам предлагается проанализировать AB-тест, в котором создатели переместили первые ворота в Cookie Cats с 30 уровня на уровень 40. В частности, вам надо рассмотрим влияние A/B теста на удержание игроков.\n",
    "</div>"
   ]
  },
  {
   "cell_type": "markdown",
   "metadata": {},
   "source": [
    "# Данные A/B тестирования"
   ]
  },
  {
   "cell_type": "code",
   "execution_count": 54,
   "metadata": {
    "ExecuteTime": {
     "end_time": "2022-03-01T11:32:16.121587Z",
     "start_time": "2022-03-01T11:32:16.031531Z"
    }
   },
   "outputs": [
    {
     "name": "stdout",
     "output_type": "stream",
     "text": [
      "<class 'pandas.core.frame.DataFrame'>\n",
      "RangeIndex: 90189 entries, 0 to 90188\n",
      "Data columns (total 5 columns):\n",
      " #   Column          Non-Null Count  Dtype \n",
      "---  ------          --------------  ----- \n",
      " 0   userid          90189 non-null  int64 \n",
      " 1   version         90189 non-null  object\n",
      " 2   sum_gamerounds  90189 non-null  int64 \n",
      " 3   retention_1     90189 non-null  bool  \n",
      " 4   retention_7     90189 non-null  bool  \n",
      "dtypes: bool(2), int64(2), object(1)\n",
      "memory usage: 2.2+ MB\n"
     ]
    }
   ],
   "source": [
    "data = pd.read_csv('cookie_cats.csv', error_bad_lines=False)  # Откроем датасет\n",
    "data.head()\n",
    "data.info()"
   ]
  },
  {
   "cell_type": "markdown",
   "metadata": {},
   "source": [
    "**Данные получены от 90 189 игроков, которые установили игру во время проведения AB-теста. Переменные:**\n",
    "\n",
    "* `userid` - уникальный номер, идентифицирующий каждого игрока.\n",
    "\n",
    "* `version` - был ли игрок помещен в контрольную группу (gate_30 - ворота на уровне 30) или в тестовую группу (gate_40 - ворота на уровне 40).\n",
    "\n",
    "* `sum_gamerounds` - количество игровых раундов, сыгранных игроком в течение первой недели после установки\n",
    "* `retention_1` - проигрыватель вернулся и поиграл через 1 день после установки?\n",
    "* `retention_7` - проигрыватель вернулся и играл через 7 дней после установки?\n",
    "\n",
    "Когда игрок устанавливал игру, ему случайным образом назначали `gate_30` или `gate_40`."
   ]
  },
  {
   "cell_type": "markdown",
   "metadata": {},
   "source": [
    "<div class=\"alert alert-info\">\n",
    "<b>Задание: провести анализ данных и сделать выводы о лучшем месте для установки ворот. </b>\n",
    "    \n",
    "Замечание: приведенных вспомогательных фрагментов кода не хватает для ответа на вопрос. \n",
    "Делать выводы необходимо опираясь на статистические тесты, разобранные в лекции. Большим плюсом будет построение визуализиции для подтверждения ваших выводом. Рекомендую использовать `seaborn` c его `sns.boxplot`/`sns.carplot`, `sns.barplot`, но можно обойтись и обычным `matplotlib`\n",
    "</div>"
   ]
  },
  {
   "cell_type": "code",
   "execution_count": 55,
   "metadata": {
    "ExecuteTime": {
     "end_time": "2022-03-01T11:32:16.153569Z",
     "start_time": "2022-03-01T11:32:16.125537Z"
    },
    "scrolled": true
   },
   "outputs": [
    {
     "data": {
      "text/plain": [
       "version\n",
       "gate_30    44700\n",
       "gate_40    45489\n",
       "Name: version, dtype: int64"
      ]
     },
     "execution_count": 55,
     "metadata": {},
     "output_type": "execute_result"
    }
   ],
   "source": [
    "# Посмотрим на количество участников теста.\n",
    "data.groupby('version').version.count()"
   ]
  },
  {
   "cell_type": "code",
   "execution_count": 56,
   "metadata": {
    "ExecuteTime": {
     "end_time": "2022-03-01T11:32:16.201531Z",
     "start_time": "2022-03-01T11:32:16.157530Z"
    }
   },
   "outputs": [
    {
     "data": {
      "text/html": [
       "<div>\n",
       "<style scoped>\n",
       "    .dataframe tbody tr th:only-of-type {\n",
       "        vertical-align: middle;\n",
       "    }\n",
       "\n",
       "    .dataframe tbody tr th {\n",
       "        vertical-align: top;\n",
       "    }\n",
       "\n",
       "    .dataframe thead th {\n",
       "        text-align: right;\n",
       "    }\n",
       "</style>\n",
       "<table border=\"1\" class=\"dataframe\">\n",
       "  <thead>\n",
       "    <tr style=\"text-align: right;\">\n",
       "      <th></th>\n",
       "      <th>userid</th>\n",
       "      <th>sum_gamerounds</th>\n",
       "      <th>retention_1</th>\n",
       "      <th>retention_7</th>\n",
       "    </tr>\n",
       "    <tr>\n",
       "      <th>version</th>\n",
       "      <th></th>\n",
       "      <th></th>\n",
       "      <th></th>\n",
       "      <th></th>\n",
       "    </tr>\n",
       "  </thead>\n",
       "  <tbody>\n",
       "    <tr>\n",
       "      <th>gate_30</th>\n",
       "      <td>222944098441</td>\n",
       "      <td>2344795</td>\n",
       "      <td>20034.0</td>\n",
       "      <td>8502.0</td>\n",
       "    </tr>\n",
       "    <tr>\n",
       "      <th>gate_40</th>\n",
       "      <td>227857702576</td>\n",
       "      <td>2333530</td>\n",
       "      <td>20119.0</td>\n",
       "      <td>8279.0</td>\n",
       "    </tr>\n",
       "  </tbody>\n",
       "</table>\n",
       "</div>"
      ],
      "text/plain": [
       "               userid  sum_gamerounds  retention_1  retention_7\n",
       "version                                                        \n",
       "gate_30  222944098441         2344795      20034.0       8502.0\n",
       "gate_40  227857702576         2333530      20119.0       8279.0"
      ]
     },
     "execution_count": 56,
     "metadata": {},
     "output_type": "execute_result"
    }
   ],
   "source": [
    "data.groupby('version').sum()"
   ]
  },
  {
   "cell_type": "code",
   "execution_count": 57,
   "metadata": {
    "ExecuteTime": {
     "end_time": "2022-03-01T11:32:16.265528Z",
     "start_time": "2022-03-01T11:32:16.203529Z"
    }
   },
   "outputs": [
    {
     "data": {
      "text/html": [
       "<div>\n",
       "<style scoped>\n",
       "    .dataframe tbody tr th:only-of-type {\n",
       "        vertical-align: middle;\n",
       "    }\n",
       "\n",
       "    .dataframe tbody tr th {\n",
       "        vertical-align: top;\n",
       "    }\n",
       "\n",
       "    .dataframe thead th {\n",
       "        text-align: right;\n",
       "    }\n",
       "</style>\n",
       "<table border=\"1\" class=\"dataframe\">\n",
       "  <thead>\n",
       "    <tr style=\"text-align: right;\">\n",
       "      <th></th>\n",
       "      <th>userid</th>\n",
       "      <th>sum_gamerounds</th>\n",
       "      <th>retention_1</th>\n",
       "      <th>retention_7</th>\n",
       "    </tr>\n",
       "    <tr>\n",
       "      <th>version</th>\n",
       "      <th></th>\n",
       "      <th></th>\n",
       "      <th></th>\n",
       "      <th></th>\n",
       "    </tr>\n",
       "  </thead>\n",
       "  <tbody>\n",
       "    <tr>\n",
       "      <th>gate_30</th>\n",
       "      <td>4.987564e+06</td>\n",
       "      <td>52.456264</td>\n",
       "      <td>0.448188</td>\n",
       "      <td>0.190201</td>\n",
       "    </tr>\n",
       "    <tr>\n",
       "      <th>gate_40</th>\n",
       "      <td>5.009073e+06</td>\n",
       "      <td>51.298776</td>\n",
       "      <td>0.442283</td>\n",
       "      <td>0.182000</td>\n",
       "    </tr>\n",
       "  </tbody>\n",
       "</table>\n",
       "</div>"
      ],
      "text/plain": [
       "               userid  sum_gamerounds  retention_1  retention_7\n",
       "version                                                        \n",
       "gate_30  4.987564e+06       52.456264     0.448188     0.190201\n",
       "gate_40  5.009073e+06       51.298776     0.442283     0.182000"
      ]
     },
     "execution_count": 57,
     "metadata": {},
     "output_type": "execute_result"
    }
   ],
   "source": [
    "data.groupby('version').mean()"
   ]
  },
  {
   "cell_type": "markdown",
   "metadata": {
    "ExecuteTime": {
     "end_time": "2022-03-01T11:32:16.281528Z",
     "start_time": "2022-03-01T11:32:16.268529Z"
    }
   },
   "source": [
    "**Выводы:** Средние значения сумм игровых раундов и коэффициентов возврата имеют небольшие различия, но насколько это статистически значимо без дополнительного исследования  установить невозможно."
   ]
  },
  {
   "cell_type": "code",
   "execution_count": 58,
   "metadata": {
    "ExecuteTime": {
     "end_time": "2022-03-01T11:32:17.067526Z",
     "start_time": "2022-03-01T11:32:16.283526Z"
    }
   },
   "outputs": [
    {
     "data": {
      "image/png": "[encoded data removed]",
      "text/plain": [
       "<Figure size 1080x720 with 1 Axes>"
      ]
     },
     "metadata": {
      "needs_background": "light"
     },
     "output_type": "display_data"
    }
   ],
   "source": [
    "v_30 = data.loc[data.version == 'gate_30']\n",
    "v_40 = data.loc[data.version == 'gate_40']\n",
    "v_30 = v_30.drop(v_30.loc[v_30.sum_gamerounds > 200].index)\n",
    "v_40 = v_40.drop(v_40.loc[v_40.sum_gamerounds > 200].index)\n",
    "\n",
    "\n",
    "bins = 200\n",
    "plt.figure(figsize=(15, 10))\n",
    "plt.hist(v_30['sum_gamerounds'], bins=bins, alpha=1,\n",
    "         edgecolor='black', label='gate 30')\n",
    "plt.hist(v_40['sum_gamerounds'], bins=bins, alpha=0.7, label='gate 40')\n",
    "plt.legend(loc='upper right', bbox_to_anchor=(0.45, 0.35))\n",
    "plt.show()"
   ]
  },
  {
   "cell_type": "markdown",
   "metadata": {
    "ExecuteTime": {
     "end_time": "2022-03-01T11:32:17.083562Z",
     "start_time": "2022-03-01T11:32:17.069526Z"
    }
   },
   "source": [
    "**Вывод:** Графики плотности вероятности распределения имеют показательную форму. Для анализа выборок необходимо использовать непараметрческие критерии. "
   ]
  },
  {
   "cell_type": "code",
   "execution_count": 59,
   "metadata": {
    "ExecuteTime": {
     "end_time": "2022-03-01T11:32:17.665527Z",
     "start_time": "2022-03-01T11:32:17.085537Z"
    }
   },
   "outputs": [
    {
     "data": {
      "image/png": "[encoded data removed]",
      "text/plain": [
       "<Figure size 748.875x360 with 2 Axes>"
      ]
     },
     "metadata": {
      "needs_background": "light"
     },
     "output_type": "display_data"
    }
   ],
   "source": [
    "df = data.loc[data['sum_gamerounds'] < 100].copy();\n",
    "\n",
    "\n",
    "sns.catplot(x=\"version\", y=\"sum_gamerounds\",\n",
    "            hue=\"retention_1\", col = 'retention_7',\n",
    "            data=df, kind=\"box\",\n",
    "            height=5, aspect=.95);\n"
   ]
  },
  {
   "cell_type": "code",
   "execution_count": 60,
   "metadata": {
    "ExecuteTime": {
     "end_time": "2022-03-01T11:32:17.726536Z",
     "start_time": "2022-03-01T11:32:17.668527Z"
    }
   },
   "outputs": [
    {
     "name": "stdout",
     "output_type": "stream",
     "text": [
      "f_oneway Statistics=0.794, p=0.373\n",
      " mannwhitneyu Statistics=1009027049.500, p=0.025\n"
     ]
    }
   ],
   "source": [
    "from scipy.stats import f_oneway\n",
    "#from scipy.stats import wilcoxon\n",
    "from scipy.stats import mannwhitneyu\n",
    "import scipy.stats as stats\n",
    "\n",
    "# Ваш код.\n",
    "f, p = f_oneway(data[data['version'] == 'gate_30']['sum_gamerounds'],\n",
    "                data[data['version'] == 'gate_40']['sum_gamerounds'])\n",
    "print('f_oneway Statistics=%.3f, p=%.3f' % (f, p))\n",
    "stat, p = mannwhitneyu(data[data['version'] == 'gate_30']['sum_gamerounds'], data[data['version'] == 'gate_40']['sum_gamerounds'])\n",
    "print(' mannwhitneyu Statistics=%.3f, p=%.3f' % (stat, p))"
   ]
  },
  {
   "cell_type": "markdown",
   "metadata": {},
   "source": [
    "<div class=\"alert alert-info\">\n",
    "<b>Задание: Используя любой тест для проверки статистической гипотезы, продемонстрируйте наличие эффекта из-за сдвига ворот. </b>\n",
    "</div>\n"
   ]
  },
  {
   "cell_type": "markdown",
   "metadata": {},
   "source": [
    "Как утверждает аналитик компании \"Авито\" Дмитрий Лунин **dvlunin** в публикации **\"Критерий Манна-Уитни — самый главный враг A/B-тестов\"** https://habr.com/ru/company/avito/blog/709596/  \n",
    "\n",
    "*Манн-Уитни не может проверить ничего, кроме равенства распределений. Этот критерий не подходит для сравнения средних или медиан.* "
   ]
  },
  {
   "cell_type": "markdown",
   "metadata": {},
   "source": [
    "С точки зрения практического применения для исследования распределений не подчиняющихся нормальному закону предпочтительным критерием является использование теста ***Колмогорова-Смирнова***."
   ]
  },
  {
   "cell_type": "code",
   "execution_count": 61,
   "metadata": {
    "ExecuteTime": {
     "end_time": "2022-03-01T11:32:17.742529Z",
     "start_time": "2022-03-01T11:32:17.731532Z"
    }
   },
   "outputs": [],
   "source": [
    "import scipy.stats as stats\n",
    "from scipy.stats import f_oneway\n",
    "from scipy.stats import wilcoxon\n",
    "from scipy.stats import mannwhitneyu\n",
    "# Ваш код."
   ]
  },
  {
   "cell_type": "markdown",
   "metadata": {},
   "source": [
    "Выполним тесты Колмогорова-Смиронва для двух нулевых гипотез:\n",
    "    1. Имеется сдвиг в сторону увеличения  среднего количества раундов игры при установке ворот на 30 уровне по сравнению с установкой ворот на 40 уровне.\n",
    "    2. Имеется сдвиг в сторону увеличения  среднего количества раундов игры при установке ворот на 40 уровне по сравнению с установкой ворот на 30 уровне."
   ]
  },
  {
   "cell_type": "code",
   "execution_count": 105,
   "metadata": {},
   "outputs": [
    {
     "name": "stdout",
     "output_type": "stream",
     "text": [
      "ks_pvalue_30 0.008507509640514731\n",
      "На 0.05 уровене значимости, мы отвергаем нулевую гипотезе и принимаем H1.\n",
      "Gate 30 <= Gate 40\n",
      "\n",
      "ks_pvalue_40 0.07594262803952373\n",
      "На 0.05 уровене значимости, мы не можем отвергнуть нулевую гипотезу.\n",
      "Gate 40 > Gate 30\n",
      "\n"
     ]
    }
   ],
   "source": [
    "significance = 0.05\n",
    "# gate_30 > gate_40\n",
    "ks_pvalue_30 = stats.ks_2samp(data[data['version'] == 'gate_40']['sum_gamerounds'],\n",
    "                           data[data['version'] == 'gate_30']['sum_gamerounds'],\n",
    "                           alternative='greater').pvalue \n",
    "print('ks_pvalue_30', ks_pvalue_30)\n",
    "\n",
    "\n",
    "if ks_pvalue_30 <= significance:\n",
    "    print(f'На {significance:.2f} уровене значимости, мы отвергаем нулевую гипотезе и принимаем H1.')\n",
    "    print('Gate 30 <= Gate 40')\n",
    "else:\n",
    "    print(f'На {significance:.2f} уровене значимости, мы не можем отвергнуть нулевую гипотезу.')\n",
    "    print('Gate 30 > Gate 40')\n",
    "print('')\n",
    "\n",
    "# gate_40 > gate_30\n",
    "ks_pvalue_40 = stats.ks_2samp( data[data['version'] == 'gate_30']['sum_gamerounds'],\n",
    "                            data[data['version'] == 'gate_40']['sum_gamerounds'],\n",
    "                            alternative='greater').pvalue \n",
    "\n",
    "\n",
    "\n",
    "print('ks_pvalue_40', ks_pvalue_40)\n",
    "\n",
    "if ks_pvalue_40 <= significance:\n",
    "    print(f'На {significance:.2f} уровене значимости, мы отвергаем нулевую гипотезе и принимаем H1.')\n",
    "    print('Gate 40 <= Gate 30')\n",
    "else:\n",
    "    print(f'На {significance:.2f} уровене значимости, мы не можем отвергнуть нулевую гипотезу.')\n",
    "    print('Gate 40 > Gate 30')\n",
    "print('')\n",
    "\n"
   ]
  },
  {
   "cell_type": "markdown",
   "metadata": {},
   "source": [
    "**Ваши выводы?** "
   ]
  },
  {
   "cell_type": "markdown",
   "metadata": {},
   "source": [
    "**Вывод:** Сдвиг ворот к отметке 40 имеет статистически значимый эффект увеличения среднего количества сыгранных раундов по сравнению с отметкой в 30 раундов. Что и подтверждается тестом  **Bootstrap**."
   ]
  },
  {
   "cell_type": "markdown",
   "metadata": {},
   "source": [
    " Технология Bootstrap https://habr.com/ru/post/192000/"
   ]
  },
  {
   "cell_type": "code",
   "execution_count": 63,
   "metadata": {
    "ExecuteTime": {
     "end_time": "2022-03-01T11:32:32.977525Z",
     "start_time": "2022-03-01T11:32:17.746530Z"
    }
   },
   "outputs": [
    {
     "data": {
      "text/plain": [
       "<matplotlib.axes._subplots.AxesSubplot at 0xbd3d3a0>"
      ]
     },
     "execution_count": 63,
     "metadata": {},
     "output_type": "execute_result"
    },
    {
     "data": {
      "text/plain": [
       "<Figure size 1080x720 with 0 Axes>"
      ]
     },
     "metadata": {},
     "output_type": "display_data"
    },
    {
     "data": {
      "image/png": "[encoded data removed]",
      "text/plain": [
       "<Figure size 432x288 with 1 Axes>"
      ]
     },
     "metadata": {
      "needs_background": "light"
     },
     "output_type": "display_data"
    }
   ],
   "source": [
    "# Применяем Bootstrap для того, чтобы более наглядно убедиться в наличии различий\n",
    "\n",
    "# Creating an list with bootstrapped means for each AB-group\n",
    "plt.figure(figsize=(15, 10))\n",
    "# boot_1d - собираем статистику по средним, для неё можно применить t-тест\n",
    "boot_1d = []\n",
    "for i in range(1000):\n",
    "    boot_mean = data.sample(frac=1, replace=True).groupby(\n",
    "        'version')['retention_7'].mean()  # retention_1\n",
    "    boot_1d.append(boot_mean)\n",
    "\n",
    "# Преобразование списка в DataFrame\n",
    "boot_1d = pd.DataFrame(boot_1d)\n",
    "\n",
    "# A Kernel Density Estimate plot of the bootstrap distributions\n",
    "boot_1d.plot(kind='density')"
   ]
  },
  {
   "cell_type": "code",
   "execution_count": 64,
   "metadata": {
    "ExecuteTime": {
     "end_time": "2022-03-01T11:32:32.993531Z",
     "start_time": "2022-03-01T11:32:32.980544Z"
    }
   },
   "outputs": [],
   "source": [
    "# сделайте выводы, используя t-тест для retention_1 и retention_7"
   ]
  },
  {
   "cell_type": "markdown",
   "metadata": {},
   "source": [
    "# Покемоны и AB-тестирование \n",
    "(реальный кейс собеседования на позицию Аналитика).\n",
    "\n",
    "\n",
    "# Описание задачи\n",
    "\n",
    "![banner](https://storage.googleapis.com/kaggle-datasets-images/635/1204/126be74882028aac7241553cef0e27a7/dataset-original.jpg)\n",
    "\n",
    "Покемоны - это маленькие существа, которые сражаются друг с другом на соревнованиях. Все покемоны имеют разные характеристики (сила атаки, защиты и т. д.) И относятся к одному или двум так называемым классам (вода, огонь и т. д.).\n",
    "Профессор Оук является изобретателем Pokedex, портативного устройства, которое хранит информацию обо всех существующих покемонах. Как его ведущий специалист по данным, Вы только что получили от него запрос с просьбой осуществить аналитику данных на всех устройствах Pokedex. \n",
    "\n",
    "## Описание набора данных\n",
    "Профессор Оук скопировал все содержимое память одного устройства Pokedex, в результате чего получился набор данных, с которым Вы будете работать в этой задаче. В этом файле каждая строка представляет характеристики одного покемона:\n",
    "\n",
    "* `pid`: Numeric - ID покемона\n",
    "* `HP`: Numeric - Очки здоровья\n",
    "* `Attack`: Numeric - Сила обычной атаки\n",
    "* `Defense`: Numeric - Сила обычной защиты\n",
    "* `Sp. Atk`: Numeric - Сила специальной атаки\n",
    "* `Sp. Def`: Numeric - Сила специальной защиты\n",
    "* `Speed`: Numeric - Скорость движений\n",
    "* `Legendary`: Boolean - «True», если покемон редкий\n",
    "* `Class 1`: Categorical - Класс покемона\n",
    "* `Class 2`: Categorical - Класс покемона"
   ]
  },
  {
   "cell_type": "code",
   "execution_count": 65,
   "metadata": {
    "ExecuteTime": {
     "end_time": "2022-03-01T11:32:33.039545Z",
     "start_time": "2022-03-01T11:32:33.004532Z"
    }
   },
   "outputs": [
    {
     "name": "stdout",
     "output_type": "stream",
     "text": [
      "['Grass' 'Fire' 'Water' 'Bug' 'Normal' 'Poison' 'Electric' 'Ground'\n",
      " 'Fairy' 'Fighting' 'Psychic' 'Rock' 'Ghost' 'Ice' 'Dragon' 'Dark' 'Steel'\n",
      " 'Flying']\n",
      "['Poison' nan 'Flying' 'Dragon' 'Ground' 'Fairy' 'Grass' 'Fighting'\n",
      " 'Psychic' 'Steel' 'Ice' 'Rock' 'Dark' 'Water' 'Electric' 'Fire' 'Ghost'\n",
      " 'Bug' 'Normal']\n"
     ]
    }
   ],
   "source": [
    "pokemon = pd.read_csv('pokemon.csv', error_bad_lines=False)  # Откроем датасет\n",
    "#pokemon.head()\n",
    "\n",
    "#pokemon.info()\n",
    "\n",
    "\n",
    "# Обратите внимание, что у покемона может быть один или два класса.\n",
    "# Если у покемона два класса, считается, что они имеют одинаковую значимость.\n",
    "print(pokemon['Class 1'].unique())\n",
    "print(pokemon['Class 2'].unique())\n"
   ]
  },
  {
   "cell_type": "markdown",
   "metadata": {},
   "source": [
    "# Задачи"
   ]
  },
  {
   "cell_type": "markdown",
   "metadata": {},
   "source": [
    "<div class=\"alert alert-info\">\n",
    "<b>Задание № 1:</b>\n",
    "    \n",
    "Профессор Оук подозревает, что покемоны в классе `grass` имеют более сильную обычную атаку, чем у покемонов в классе `rock`. Проверьте, прав ли он, и убедите его в своем выводе статистически.\n",
    "    \n",
    "    \n",
    "Примечание: если есть покемоны, которые относятся к обоим классам, просто выбросьте их;\n",
    "    \n",
    "Вы можете предположить, что распределение обычных атак является нормальным для всех классов покемонов.\n",
    "\n",
    "</div>\n"
   ]
  },
  {
   "cell_type": "markdown",
   "metadata": {},
   "source": [
    "Выделим классы покемонов **Grass** и **Rock**:"
   ]
  },
  {
   "cell_type": "code",
   "execution_count": 66,
   "metadata": {},
   "outputs": [
    {
     "name": "stdout",
     "output_type": "stream",
     "text": [
      "Покемонов Grass в обоих классах без совпадений c Rock: 93\n"
     ]
    },
    {
     "data": {
      "text/html": [
       "<div>\n",
       "<style scoped>\n",
       "    .dataframe tbody tr th:only-of-type {\n",
       "        vertical-align: middle;\n",
       "    }\n",
       "\n",
       "    .dataframe tbody tr th {\n",
       "        vertical-align: top;\n",
       "    }\n",
       "\n",
       "    .dataframe thead th {\n",
       "        text-align: right;\n",
       "    }\n",
       "</style>\n",
       "<table border=\"1\" class=\"dataframe\">\n",
       "  <thead>\n",
       "    <tr style=\"text-align: right;\">\n",
       "      <th></th>\n",
       "      <th>pid</th>\n",
       "      <th>Name</th>\n",
       "      <th>Class 1</th>\n",
       "      <th>Class 2</th>\n",
       "      <th>HP</th>\n",
       "      <th>Attack</th>\n",
       "      <th>Defense</th>\n",
       "      <th>Sp. Atk</th>\n",
       "      <th>Sp. Def</th>\n",
       "      <th>Speed</th>\n",
       "      <th>Legendary</th>\n",
       "    </tr>\n",
       "  </thead>\n",
       "  <tbody>\n",
       "    <tr>\n",
       "      <th>0</th>\n",
       "      <td>1</td>\n",
       "      <td>Bulbasaur</td>\n",
       "      <td>Grass</td>\n",
       "      <td>Poison</td>\n",
       "      <td>45</td>\n",
       "      <td>49</td>\n",
       "      <td>49</td>\n",
       "      <td>65</td>\n",
       "      <td>65</td>\n",
       "      <td>45</td>\n",
       "      <td>False</td>\n",
       "    </tr>\n",
       "    <tr>\n",
       "      <th>1</th>\n",
       "      <td>2</td>\n",
       "      <td>Ivysaur</td>\n",
       "      <td>Grass</td>\n",
       "      <td>Poison</td>\n",
       "      <td>60</td>\n",
       "      <td>62</td>\n",
       "      <td>63</td>\n",
       "      <td>80</td>\n",
       "      <td>80</td>\n",
       "      <td>60</td>\n",
       "      <td>False</td>\n",
       "    </tr>\n",
       "    <tr>\n",
       "      <th>2</th>\n",
       "      <td>3</td>\n",
       "      <td>Venusaur</td>\n",
       "      <td>Grass</td>\n",
       "      <td>Poison</td>\n",
       "      <td>80</td>\n",
       "      <td>82</td>\n",
       "      <td>83</td>\n",
       "      <td>100</td>\n",
       "      <td>100</td>\n",
       "      <td>80</td>\n",
       "      <td>False</td>\n",
       "    </tr>\n",
       "  </tbody>\n",
       "</table>\n",
       "</div>"
      ],
      "text/plain": [
       "   pid       Name Class 1 Class 2  HP  Attack  Defense  Sp. Atk  Sp. Def  \\\n",
       "0    1  Bulbasaur   Grass  Poison  45      49       49       65       65   \n",
       "1    2    Ivysaur   Grass  Poison  60      62       63       80       80   \n",
       "2    3   Venusaur   Grass  Poison  80      82       83      100      100   \n",
       "\n",
       "   Speed  Legendary  \n",
       "0     45      False  \n",
       "1     60      False  \n",
       "2     80      False  "
      ]
     },
     "metadata": {},
     "output_type": "display_data"
    },
    {
     "data": {
      "text/html": [
       "<div>\n",
       "<style scoped>\n",
       "    .dataframe tbody tr th:only-of-type {\n",
       "        vertical-align: middle;\n",
       "    }\n",
       "\n",
       "    .dataframe tbody tr th {\n",
       "        vertical-align: top;\n",
       "    }\n",
       "\n",
       "    .dataframe thead th {\n",
       "        text-align: right;\n",
       "    }\n",
       "</style>\n",
       "<table border=\"1\" class=\"dataframe\">\n",
       "  <thead>\n",
       "    <tr style=\"text-align: right;\">\n",
       "      <th></th>\n",
       "      <th>pid</th>\n",
       "      <th>Name</th>\n",
       "      <th>Class 1</th>\n",
       "      <th>Class 2</th>\n",
       "      <th>HP</th>\n",
       "      <th>Attack</th>\n",
       "      <th>Defense</th>\n",
       "      <th>Sp. Atk</th>\n",
       "      <th>Sp. Def</th>\n",
       "      <th>Speed</th>\n",
       "      <th>Legendary</th>\n",
       "    </tr>\n",
       "  </thead>\n",
       "  <tbody>\n",
       "    <tr>\n",
       "      <th>785</th>\n",
       "      <td>786</td>\n",
       "      <td>Gourgeist Small Size</td>\n",
       "      <td>Ghost</td>\n",
       "      <td>Grass</td>\n",
       "      <td>55</td>\n",
       "      <td>85</td>\n",
       "      <td>122</td>\n",
       "      <td>58</td>\n",
       "      <td>75</td>\n",
       "      <td>99</td>\n",
       "      <td>False</td>\n",
       "    </tr>\n",
       "    <tr>\n",
       "      <th>786</th>\n",
       "      <td>787</td>\n",
       "      <td>Gourgeist Large Size</td>\n",
       "      <td>Ghost</td>\n",
       "      <td>Grass</td>\n",
       "      <td>75</td>\n",
       "      <td>95</td>\n",
       "      <td>122</td>\n",
       "      <td>58</td>\n",
       "      <td>75</td>\n",
       "      <td>69</td>\n",
       "      <td>False</td>\n",
       "    </tr>\n",
       "    <tr>\n",
       "      <th>787</th>\n",
       "      <td>788</td>\n",
       "      <td>Gourgeist Super Size</td>\n",
       "      <td>Ghost</td>\n",
       "      <td>Grass</td>\n",
       "      <td>85</td>\n",
       "      <td>100</td>\n",
       "      <td>122</td>\n",
       "      <td>58</td>\n",
       "      <td>75</td>\n",
       "      <td>54</td>\n",
       "      <td>False</td>\n",
       "    </tr>\n",
       "  </tbody>\n",
       "</table>\n",
       "</div>"
      ],
      "text/plain": [
       "     pid                  Name Class 1 Class 2  HP  Attack  Defense  Sp. Atk  \\\n",
       "785  786  Gourgeist Small Size   Ghost   Grass  55      85      122       58   \n",
       "786  787  Gourgeist Large Size   Ghost   Grass  75      95      122       58   \n",
       "787  788  Gourgeist Super Size   Ghost   Grass  85     100      122       58   \n",
       "\n",
       "     Sp. Def  Speed  Legendary  \n",
       "785       75     99      False  \n",
       "786       75     69      False  \n",
       "787       75     54      False  "
      ]
     },
     "metadata": {},
     "output_type": "display_data"
    }
   ],
   "source": [
    "# Выделяем покемонов класса 'Grass' или в 1 классе или во 2 классе и убираем лишних \n",
    "# где есть совпадения в классах 'Grass' и 'Rock':\n",
    "grass_pok = pokemon.loc[((pokemon['Class 1'] =='Grass')&(pokemon['Class 2'] != 'Rock'))\n",
    "                        |((pokemon['Class 2'] =='Grass')&(pokemon['Class 1'] !='Rock'))] \n",
    "\n",
    "print('Покемонов Grass в обоих классах без совпадений c Rock:', len(grass_pok))\n",
    "\n",
    "display(grass_pok.head(3))\n",
    "display(grass_pok.tail(3))\n"
   ]
  },
  {
   "cell_type": "code",
   "execution_count": 67,
   "metadata": {},
   "outputs": [
    {
     "name": "stdout",
     "output_type": "stream",
     "text": [
      "Покемонов Grass в обоих классах без повторов: 56\n"
     ]
    },
    {
     "data": {
      "text/html": [
       "<div>\n",
       "<style scoped>\n",
       "    .dataframe tbody tr th:only-of-type {\n",
       "        vertical-align: middle;\n",
       "    }\n",
       "\n",
       "    .dataframe tbody tr th {\n",
       "        vertical-align: top;\n",
       "    }\n",
       "\n",
       "    .dataframe thead th {\n",
       "        text-align: right;\n",
       "    }\n",
       "</style>\n",
       "<table border=\"1\" class=\"dataframe\">\n",
       "  <thead>\n",
       "    <tr style=\"text-align: right;\">\n",
       "      <th></th>\n",
       "      <th>pid</th>\n",
       "      <th>Name</th>\n",
       "      <th>Class 1</th>\n",
       "      <th>Class 2</th>\n",
       "      <th>HP</th>\n",
       "      <th>Attack</th>\n",
       "      <th>Defense</th>\n",
       "      <th>Sp. Atk</th>\n",
       "      <th>Sp. Def</th>\n",
       "      <th>Speed</th>\n",
       "      <th>Legendary</th>\n",
       "    </tr>\n",
       "  </thead>\n",
       "  <tbody>\n",
       "    <tr>\n",
       "      <th>80</th>\n",
       "      <td>81</td>\n",
       "      <td>Geodude</td>\n",
       "      <td>Rock</td>\n",
       "      <td>Ground</td>\n",
       "      <td>40</td>\n",
       "      <td>80</td>\n",
       "      <td>100</td>\n",
       "      <td>30</td>\n",
       "      <td>30</td>\n",
       "      <td>20</td>\n",
       "      <td>False</td>\n",
       "    </tr>\n",
       "    <tr>\n",
       "      <th>81</th>\n",
       "      <td>82</td>\n",
       "      <td>Graveler</td>\n",
       "      <td>Rock</td>\n",
       "      <td>Ground</td>\n",
       "      <td>55</td>\n",
       "      <td>95</td>\n",
       "      <td>115</td>\n",
       "      <td>45</td>\n",
       "      <td>45</td>\n",
       "      <td>35</td>\n",
       "      <td>False</td>\n",
       "    </tr>\n",
       "    <tr>\n",
       "      <th>82</th>\n",
       "      <td>83</td>\n",
       "      <td>Golem</td>\n",
       "      <td>Rock</td>\n",
       "      <td>Ground</td>\n",
       "      <td>80</td>\n",
       "      <td>120</td>\n",
       "      <td>130</td>\n",
       "      <td>55</td>\n",
       "      <td>65</td>\n",
       "      <td>45</td>\n",
       "      <td>False</td>\n",
       "    </tr>\n",
       "  </tbody>\n",
       "</table>\n",
       "</div>"
      ],
      "text/plain": [
       "    pid      Name Class 1 Class 2  HP  Attack  Defense  Sp. Atk  Sp. Def  \\\n",
       "80   81   Geodude    Rock  Ground  40      80      100       30       30   \n",
       "81   82  Graveler    Rock  Ground  55      95      115       45       45   \n",
       "82   83     Golem    Rock  Ground  80     120      130       55       65   \n",
       "\n",
       "    Speed  Legendary  \n",
       "80     20      False  \n",
       "81     35      False  \n",
       "82     45      False  "
      ]
     },
     "metadata": {},
     "output_type": "display_data"
    },
    {
     "data": {
      "text/html": [
       "<div>\n",
       "<style scoped>\n",
       "    .dataframe tbody tr th:only-of-type {\n",
       "        vertical-align: middle;\n",
       "    }\n",
       "\n",
       "    .dataframe tbody tr th {\n",
       "        vertical-align: top;\n",
       "    }\n",
       "\n",
       "    .dataframe thead th {\n",
       "        text-align: right;\n",
       "    }\n",
       "</style>\n",
       "<table border=\"1\" class=\"dataframe\">\n",
       "  <thead>\n",
       "    <tr style=\"text-align: right;\">\n",
       "      <th></th>\n",
       "      <th>pid</th>\n",
       "      <th>Name</th>\n",
       "      <th>Class 1</th>\n",
       "      <th>Class 2</th>\n",
       "      <th>HP</th>\n",
       "      <th>Attack</th>\n",
       "      <th>Defense</th>\n",
       "      <th>Sp. Atk</th>\n",
       "      <th>Sp. Def</th>\n",
       "      <th>Speed</th>\n",
       "      <th>Legendary</th>\n",
       "    </tr>\n",
       "  </thead>\n",
       "  <tbody>\n",
       "    <tr>\n",
       "      <th>773</th>\n",
       "      <td>774</td>\n",
       "      <td>Carbink</td>\n",
       "      <td>Rock</td>\n",
       "      <td>Fairy</td>\n",
       "      <td>50</td>\n",
       "      <td>50</td>\n",
       "      <td>150</td>\n",
       "      <td>50</td>\n",
       "      <td>150</td>\n",
       "      <td>50</td>\n",
       "      <td>False</td>\n",
       "    </tr>\n",
       "    <tr>\n",
       "      <th>795</th>\n",
       "      <td>796</td>\n",
       "      <td>Diancie</td>\n",
       "      <td>Rock</td>\n",
       "      <td>Fairy</td>\n",
       "      <td>50</td>\n",
       "      <td>100</td>\n",
       "      <td>150</td>\n",
       "      <td>100</td>\n",
       "      <td>150</td>\n",
       "      <td>50</td>\n",
       "      <td>True</td>\n",
       "    </tr>\n",
       "    <tr>\n",
       "      <th>796</th>\n",
       "      <td>797</td>\n",
       "      <td>Mega Diancie</td>\n",
       "      <td>Rock</td>\n",
       "      <td>Fairy</td>\n",
       "      <td>50</td>\n",
       "      <td>160</td>\n",
       "      <td>110</td>\n",
       "      <td>160</td>\n",
       "      <td>110</td>\n",
       "      <td>110</td>\n",
       "      <td>True</td>\n",
       "    </tr>\n",
       "  </tbody>\n",
       "</table>\n",
       "</div>"
      ],
      "text/plain": [
       "     pid          Name Class 1 Class 2  HP  Attack  Defense  Sp. Atk  Sp. Def  \\\n",
       "773  774       Carbink    Rock   Fairy  50      50      150       50      150   \n",
       "795  796       Diancie    Rock   Fairy  50     100      150      100      150   \n",
       "796  797  Mega Diancie    Rock   Fairy  50     160      110      160      110   \n",
       "\n",
       "     Speed  Legendary  \n",
       "773     50      False  \n",
       "795     50       True  \n",
       "796    110       True  "
      ]
     },
     "metadata": {},
     "output_type": "display_data"
    }
   ],
   "source": [
    "# Выделяем покемонов класса 'Rock' или в 1 классе или во 2 классе и сразу\n",
    "# убираем лишних где есть совпадения в классах 'Grass' и 'Rock'\n",
    "rock_pok = pokemon.loc[ ((pokemon['Class 1'] =='Rock')&(pokemon['Class 2'] != 'Grass'))\n",
    "                       |((pokemon['Class 2'] =='Rock')&(pokemon['Class 1'] !='Grass'))] \n",
    "\n",
    "print('Покемонов Grass в обоих классах без повторов:', len(rock_pok))\n",
    "display(rock_pok.head(3))\n",
    "display(rock_pok.tail(3))\n"
   ]
  },
  {
   "cell_type": "markdown",
   "metadata": {},
   "source": [
    "Поскольку множества **Grass** и **Rock** имеют неравное количество элементов, необходимо применить семплирование для выравнивания, выбрав случайные значения из датафрейма **grass_pok**:"
   ]
  },
  {
   "cell_type": "code",
   "execution_count": 68,
   "metadata": {},
   "outputs": [
    {
     "name": "stdout",
     "output_type": "stream",
     "text": [
      "Из класса покемонов Grass выбрано 56 элементов\n"
     ]
    }
   ],
   "source": [
    "grass_pok = grass_pok.sample(len(rock_pok))\n",
    "print ('Из класса покемонов Grass выбрано', len(grass_pok), 'элементов')"
   ]
  },
  {
   "cell_type": "markdown",
   "metadata": {},
   "source": [
    "Применим *тест Стьюдента* для сравнения среднего значения силы обычной атаки  (показатель **Attack**):"
   ]
  },
  {
   "cell_type": "code",
   "execution_count": 69,
   "metadata": {},
   "outputs": [
    {
     "name": "stdout",
     "output_type": "stream",
     "text": [
      "По двухвыборочному t-тесту Стьюдента:\n",
      "t_value: -3.130, _pvalue: 0.002 заданный уровень значимости: 0.050\n",
      "На 0.05 уровене значимости, мы отвергаем нулевую гипотезе и принимаем H1.\n",
      "Различия между двумя множествами статистически достоверны.\n",
      "\n"
     ]
    },
    {
     "data": {
      "image/png": "[encoded data removed]",
      "text/plain": [
       "<Figure size 1080x360 with 2 Axes>"
      ]
     },
     "metadata": {
      "needs_background": "light"
     },
     "output_type": "display_data"
    }
   ],
   "source": [
    "significance = 0.05\n",
    "\n",
    "tvalueSt, pvalueSt = stats.ttest_ind(grass_pok['Attack'],rock_pok['Attack'])\n",
    "print ('По двухвыборочному t-тесту Стьюдента:')\n",
    "print(f't_value: {tvalueSt:.3f}, _pvalue: {pvalueSt:.3f} заданный уровень значимости: {significance:.3f}')\n",
    "\n",
    "\n",
    "if pvalueSt <= significance:\n",
    "    print(f'На {significance:.2f} уровене значимости, мы отвергаем нулевую гипотезе и принимаем H1.')\n",
    "    print('Различия между двумя множествами статистически достоверны.')\n",
    "else:\n",
    "    print(f'На {significance:.2f} уровене значимости, мы не можем отвергнуть нулевую гипотезу.')\n",
    "    print('Различия между двумя множествами статистически недостоверны.')\n",
    "print('')\n",
    "\n",
    "\n",
    "\n",
    "plt.figure(figsize=(15, 5))\n",
    "plt.subplot(1,2,1).set(title='Распределения')\n",
    "plt.ylabel('Плотность')\n",
    "sns.distplot(grass_pok['Attack'])\n",
    "sns.distplot(rock_pok['Attack'])\n",
    "\n",
    "plt.subplot(1,2,2).set(title='Бокс-плоты')\n",
    "plt.boxplot([grass_pok['Attack'], rock_pok['Attack']], labels=['Grass','Rock'])\n",
    "plt.show()"
   ]
  },
  {
   "cell_type": "markdown",
   "metadata": {},
   "source": [
    "**Вывод:** Интуиция профессора Оука на высоте - действительно показатели атаки для классов покемонов **Grass** и **Rock** имеют статистически значимую разницу."
   ]
  },
  {
   "cell_type": "markdown",
   "metadata": {},
   "source": [
    "<div class=\"alert alert-info\">\n",
    "<b>Задание № 2:</b>\n",
    "    \n",
    "Профессор Оук уже долго не может спать по ночам ведь его волнует вопрос, а правда,  что покемоны в классе `Water` в среднем более быстрые, чем покемоны в классе `Normal`. \n",
    "    \n",
    "    \n",
    "Проверьте, прав ли он, и убедите его в своем выводе статистически.\n",
    "    \n",
    "Примечание: если есть покемоны относятся к обоим классам, выбросьте их;\n",
    "    \n",
    "Вы можете предположить, что распределение скорости движения является нормальным для всех классов покемонов.\n",
    "\n",
    "</div>"
   ]
  },
  {
   "cell_type": "code",
   "execution_count": 70,
   "metadata": {},
   "outputs": [
    {
     "name": "stdout",
     "output_type": "stream",
     "text": [
      "Покемонов Water в обоих классах без совпадений с Normal: 125\n"
     ]
    },
    {
     "data": {
      "text/html": [
       "<div>\n",
       "<style scoped>\n",
       "    .dataframe tbody tr th:only-of-type {\n",
       "        vertical-align: middle;\n",
       "    }\n",
       "\n",
       "    .dataframe tbody tr th {\n",
       "        vertical-align: top;\n",
       "    }\n",
       "\n",
       "    .dataframe thead th {\n",
       "        text-align: right;\n",
       "    }\n",
       "</style>\n",
       "<table border=\"1\" class=\"dataframe\">\n",
       "  <thead>\n",
       "    <tr style=\"text-align: right;\">\n",
       "      <th></th>\n",
       "      <th>pid</th>\n",
       "      <th>Name</th>\n",
       "      <th>Class 1</th>\n",
       "      <th>Class 2</th>\n",
       "      <th>HP</th>\n",
       "      <th>Attack</th>\n",
       "      <th>Defense</th>\n",
       "      <th>Sp. Atk</th>\n",
       "      <th>Sp. Def</th>\n",
       "      <th>Speed</th>\n",
       "      <th>Legendary</th>\n",
       "    </tr>\n",
       "  </thead>\n",
       "  <tbody>\n",
       "    <tr>\n",
       "      <th>9</th>\n",
       "      <td>10</td>\n",
       "      <td>Squirtle</td>\n",
       "      <td>Water</td>\n",
       "      <td>NaN</td>\n",
       "      <td>44</td>\n",
       "      <td>48</td>\n",
       "      <td>65</td>\n",
       "      <td>50</td>\n",
       "      <td>64</td>\n",
       "      <td>43</td>\n",
       "      <td>False</td>\n",
       "    </tr>\n",
       "    <tr>\n",
       "      <th>10</th>\n",
       "      <td>11</td>\n",
       "      <td>Wartortle</td>\n",
       "      <td>Water</td>\n",
       "      <td>NaN</td>\n",
       "      <td>59</td>\n",
       "      <td>63</td>\n",
       "      <td>80</td>\n",
       "      <td>65</td>\n",
       "      <td>80</td>\n",
       "      <td>58</td>\n",
       "      <td>False</td>\n",
       "    </tr>\n",
       "    <tr>\n",
       "      <th>11</th>\n",
       "      <td>12</td>\n",
       "      <td>Blastoise</td>\n",
       "      <td>Water</td>\n",
       "      <td>NaN</td>\n",
       "      <td>79</td>\n",
       "      <td>83</td>\n",
       "      <td>100</td>\n",
       "      <td>85</td>\n",
       "      <td>105</td>\n",
       "      <td>78</td>\n",
       "      <td>False</td>\n",
       "    </tr>\n",
       "  </tbody>\n",
       "</table>\n",
       "</div>"
      ],
      "text/plain": [
       "    pid       Name Class 1 Class 2  HP  Attack  Defense  Sp. Atk  Sp. Def  \\\n",
       "9    10   Squirtle   Water     NaN  44      48       65       50       64   \n",
       "10   11  Wartortle   Water     NaN  59      63       80       65       80   \n",
       "11   12  Blastoise   Water     NaN  79      83      100       85      105   \n",
       "\n",
       "    Speed  Legendary  \n",
       "9      43      False  \n",
       "10     58      False  \n",
       "11     78      False  "
      ]
     },
     "metadata": {},
     "output_type": "display_data"
    },
    {
     "data": {
      "text/html": [
       "<div>\n",
       "<style scoped>\n",
       "    .dataframe tbody tr th:only-of-type {\n",
       "        vertical-align: middle;\n",
       "    }\n",
       "\n",
       "    .dataframe tbody tr th {\n",
       "        vertical-align: top;\n",
       "    }\n",
       "\n",
       "    .dataframe thead th {\n",
       "        text-align: right;\n",
       "    }\n",
       "</style>\n",
       "<table border=\"1\" class=\"dataframe\">\n",
       "  <thead>\n",
       "    <tr style=\"text-align: right;\">\n",
       "      <th></th>\n",
       "      <th>pid</th>\n",
       "      <th>Name</th>\n",
       "      <th>Class 1</th>\n",
       "      <th>Class 2</th>\n",
       "      <th>HP</th>\n",
       "      <th>Attack</th>\n",
       "      <th>Defense</th>\n",
       "      <th>Sp. Atk</th>\n",
       "      <th>Sp. Def</th>\n",
       "      <th>Speed</th>\n",
       "      <th>Legendary</th>\n",
       "    </tr>\n",
       "  </thead>\n",
       "  <tbody>\n",
       "    <tr>\n",
       "      <th>762</th>\n",
       "      <td>763</td>\n",
       "      <td>Clauncher</td>\n",
       "      <td>Water</td>\n",
       "      <td>NaN</td>\n",
       "      <td>50</td>\n",
       "      <td>53</td>\n",
       "      <td>62</td>\n",
       "      <td>58</td>\n",
       "      <td>63</td>\n",
       "      <td>44</td>\n",
       "      <td>False</td>\n",
       "    </tr>\n",
       "    <tr>\n",
       "      <th>763</th>\n",
       "      <td>764</td>\n",
       "      <td>Clawitzer</td>\n",
       "      <td>Water</td>\n",
       "      <td>NaN</td>\n",
       "      <td>71</td>\n",
       "      <td>73</td>\n",
       "      <td>88</td>\n",
       "      <td>120</td>\n",
       "      <td>89</td>\n",
       "      <td>59</td>\n",
       "      <td>False</td>\n",
       "    </tr>\n",
       "    <tr>\n",
       "      <th>799</th>\n",
       "      <td>800</td>\n",
       "      <td>Volcanion</td>\n",
       "      <td>Fire</td>\n",
       "      <td>Water</td>\n",
       "      <td>80</td>\n",
       "      <td>110</td>\n",
       "      <td>120</td>\n",
       "      <td>130</td>\n",
       "      <td>90</td>\n",
       "      <td>70</td>\n",
       "      <td>True</td>\n",
       "    </tr>\n",
       "  </tbody>\n",
       "</table>\n",
       "</div>"
      ],
      "text/plain": [
       "     pid       Name Class 1 Class 2  HP  Attack  Defense  Sp. Atk  Sp. Def  \\\n",
       "762  763  Clauncher   Water     NaN  50      53       62       58       63   \n",
       "763  764  Clawitzer   Water     NaN  71      73       88      120       89   \n",
       "799  800  Volcanion    Fire   Water  80     110      120      130       90   \n",
       "\n",
       "     Speed  Legendary  \n",
       "762     44      False  \n",
       "763     59      False  \n",
       "799     70       True  "
      ]
     },
     "metadata": {},
     "output_type": "display_data"
    }
   ],
   "source": [
    "# Выделяем покемонов класса 'Water' или в 1 классе или во 2 классе без Normal во другом классе:\n",
    "\n",
    "water_pok = pokemon.loc[ ((pokemon['Class 1'] =='Water')&(pokemon['Class 2'] != 'Normal'))|((pokemon['Class 2'] =='Water')&(pokemon['Class 1'] !='Normal'))] \n",
    "\n",
    "print('Покемонов Water в обоих классах без совпадений с Normal:', len(water_pok))\n",
    "display(water_pok.head(3))\n",
    "display(water_pok.tail(3))\n"
   ]
  },
  {
   "cell_type": "code",
   "execution_count": 71,
   "metadata": {},
   "outputs": [
    {
     "name": "stdout",
     "output_type": "stream",
     "text": [
      "Покемонов Normal в обоих классах без совпадений с Water: 101\n"
     ]
    },
    {
     "data": {
      "text/html": [
       "<div>\n",
       "<style scoped>\n",
       "    .dataframe tbody tr th:only-of-type {\n",
       "        vertical-align: middle;\n",
       "    }\n",
       "\n",
       "    .dataframe tbody tr th {\n",
       "        vertical-align: top;\n",
       "    }\n",
       "\n",
       "    .dataframe thead th {\n",
       "        text-align: right;\n",
       "    }\n",
       "</style>\n",
       "<table border=\"1\" class=\"dataframe\">\n",
       "  <thead>\n",
       "    <tr style=\"text-align: right;\">\n",
       "      <th></th>\n",
       "      <th>pid</th>\n",
       "      <th>Name</th>\n",
       "      <th>Class 1</th>\n",
       "      <th>Class 2</th>\n",
       "      <th>HP</th>\n",
       "      <th>Attack</th>\n",
       "      <th>Defense</th>\n",
       "      <th>Sp. Atk</th>\n",
       "      <th>Sp. Def</th>\n",
       "      <th>Speed</th>\n",
       "      <th>Legendary</th>\n",
       "    </tr>\n",
       "  </thead>\n",
       "  <tbody>\n",
       "    <tr>\n",
       "      <th>20</th>\n",
       "      <td>21</td>\n",
       "      <td>Pidgey</td>\n",
       "      <td>Normal</td>\n",
       "      <td>Flying</td>\n",
       "      <td>40</td>\n",
       "      <td>45</td>\n",
       "      <td>40</td>\n",
       "      <td>35</td>\n",
       "      <td>35</td>\n",
       "      <td>56</td>\n",
       "      <td>False</td>\n",
       "    </tr>\n",
       "    <tr>\n",
       "      <th>21</th>\n",
       "      <td>22</td>\n",
       "      <td>Pidgeotto</td>\n",
       "      <td>Normal</td>\n",
       "      <td>Flying</td>\n",
       "      <td>63</td>\n",
       "      <td>60</td>\n",
       "      <td>55</td>\n",
       "      <td>50</td>\n",
       "      <td>50</td>\n",
       "      <td>71</td>\n",
       "      <td>False</td>\n",
       "    </tr>\n",
       "    <tr>\n",
       "      <th>22</th>\n",
       "      <td>23</td>\n",
       "      <td>Pidgeot</td>\n",
       "      <td>Normal</td>\n",
       "      <td>Flying</td>\n",
       "      <td>83</td>\n",
       "      <td>80</td>\n",
       "      <td>75</td>\n",
       "      <td>70</td>\n",
       "      <td>70</td>\n",
       "      <td>101</td>\n",
       "      <td>False</td>\n",
       "    </tr>\n",
       "  </tbody>\n",
       "</table>\n",
       "</div>"
      ],
      "text/plain": [
       "    pid       Name Class 1 Class 2  HP  Attack  Defense  Sp. Atk  Sp. Def  \\\n",
       "20   21     Pidgey  Normal  Flying  40      45       40       35       35   \n",
       "21   22  Pidgeotto  Normal  Flying  63      60       55       50       50   \n",
       "22   23    Pidgeot  Normal  Flying  83      80       75       70       70   \n",
       "\n",
       "    Speed  Legendary  \n",
       "20     56      False  \n",
       "21     71      False  \n",
       "22    101      False  "
      ]
     },
     "metadata": {},
     "output_type": "display_data"
    },
    {
     "data": {
      "text/html": [
       "<div>\n",
       "<style scoped>\n",
       "    .dataframe tbody tr th:only-of-type {\n",
       "        vertical-align: middle;\n",
       "    }\n",
       "\n",
       "    .dataframe tbody tr th {\n",
       "        vertical-align: top;\n",
       "    }\n",
       "\n",
       "    .dataframe thead th {\n",
       "        text-align: right;\n",
       "    }\n",
       "</style>\n",
       "<table border=\"1\" class=\"dataframe\">\n",
       "  <thead>\n",
       "    <tr style=\"text-align: right;\">\n",
       "      <th></th>\n",
       "      <th>pid</th>\n",
       "      <th>Name</th>\n",
       "      <th>Class 1</th>\n",
       "      <th>Class 2</th>\n",
       "      <th>HP</th>\n",
       "      <th>Attack</th>\n",
       "      <th>Defense</th>\n",
       "      <th>Sp. Atk</th>\n",
       "      <th>Sp. Def</th>\n",
       "      <th>Speed</th>\n",
       "      <th>Legendary</th>\n",
       "    </tr>\n",
       "  </thead>\n",
       "  <tbody>\n",
       "    <tr>\n",
       "      <th>744</th>\n",
       "      <td>745</td>\n",
       "      <td>Furfrou</td>\n",
       "      <td>Normal</td>\n",
       "      <td>NaN</td>\n",
       "      <td>75</td>\n",
       "      <td>80</td>\n",
       "      <td>60</td>\n",
       "      <td>65</td>\n",
       "      <td>90</td>\n",
       "      <td>102</td>\n",
       "      <td>False</td>\n",
       "    </tr>\n",
       "    <tr>\n",
       "      <th>764</th>\n",
       "      <td>765</td>\n",
       "      <td>Helioptile</td>\n",
       "      <td>Electric</td>\n",
       "      <td>Normal</td>\n",
       "      <td>44</td>\n",
       "      <td>38</td>\n",
       "      <td>33</td>\n",
       "      <td>61</td>\n",
       "      <td>43</td>\n",
       "      <td>70</td>\n",
       "      <td>False</td>\n",
       "    </tr>\n",
       "    <tr>\n",
       "      <th>765</th>\n",
       "      <td>766</td>\n",
       "      <td>Heliolisk</td>\n",
       "      <td>Electric</td>\n",
       "      <td>Normal</td>\n",
       "      <td>62</td>\n",
       "      <td>55</td>\n",
       "      <td>52</td>\n",
       "      <td>109</td>\n",
       "      <td>94</td>\n",
       "      <td>109</td>\n",
       "      <td>False</td>\n",
       "    </tr>\n",
       "  </tbody>\n",
       "</table>\n",
       "</div>"
      ],
      "text/plain": [
       "     pid        Name   Class 1 Class 2  HP  Attack  Defense  Sp. Atk  Sp. Def  \\\n",
       "744  745     Furfrou    Normal     NaN  75      80       60       65       90   \n",
       "764  765  Helioptile  Electric  Normal  44      38       33       61       43   \n",
       "765  766   Heliolisk  Electric  Normal  62      55       52      109       94   \n",
       "\n",
       "     Speed  Legendary  \n",
       "744    102      False  \n",
       "764     70      False  \n",
       "765    109      False  "
      ]
     },
     "metadata": {},
     "output_type": "display_data"
    }
   ],
   "source": [
    "# Выделяем покемонов класса 'Normal' или в 1 классе или во 2 классе без 'Water' во другом классе:\n",
    "\n",
    "normal_pok = pokemon.loc[ ((pokemon['Class 1'] =='Normal')&(pokemon['Class 2'] != 'Water'))\n",
    "                         |((pokemon['Class 2'] =='Normal')&(pokemon['Class 1'] !='Water'))] \n",
    "\n",
    "print('Покемонов Normal в обоих классах без совпадений с Water:', len(normal_pok))\n",
    "display(normal_pok.head(3))\n",
    "display(normal_pok.tail(3))\n"
   ]
  },
  {
   "cell_type": "markdown",
   "metadata": {},
   "source": [
    "Поскольку классы покемонов **Water** и **Normal** имеют неравное количество элементов, необходимо применить семплирование для выравнивания, выбрав случайные значения из большего датафрейма **water**:"
   ]
  },
  {
   "cell_type": "code",
   "execution_count": 72,
   "metadata": {},
   "outputs": [
    {
     "name": "stdout",
     "output_type": "stream",
     "text": [
      "Из класса покемонов Water выбрано 101 элемент\n"
     ]
    }
   ],
   "source": [
    "water_pok = water_pok.sample(len(normal_pok))\n",
    "print ('Из класса покемонов Water выбрано', len(water_pok), 'элемент')"
   ]
  },
  {
   "cell_type": "markdown",
   "metadata": {},
   "source": [
    "Применим *тест Стьюдента* для сравнения среднего значения скорости покемонов классов **Water** (показатель **Speed**):"
   ]
  },
  {
   "cell_type": "code",
   "execution_count": 73,
   "metadata": {},
   "outputs": [
    {
     "name": "stdout",
     "output_type": "stream",
     "text": [
      "По двухвыборочному t-тесту Стьюдента:\n",
      "t_value: -3.130, _pvalue: 0.992 заданный уровень значимости: 0.050\n",
      "На 0.05 уровене значимости, мы не можем отвергнуть нулевую гипотезу.\n",
      "Различия между двумя множествами статистически недостоверны.\n",
      "\n"
     ]
    },
    {
     "data": {
      "image/png": "[encoded data removed]",
      "text/plain": [
       "<Figure size 1080x360 with 2 Axes>"
      ]
     },
     "metadata": {
      "needs_background": "light"
     },
     "output_type": "display_data"
    }
   ],
   "source": [
    "significance = 0.05\n",
    "\n",
    "valueSt, pvalueSt = stats.ttest_ind(water_pok['Attack'],normal_pok['Attack'])\n",
    "print ('По двухвыборочному t-тесту Стьюдента:')\n",
    "print(f't_value: {tvalueSt:.3f}, _pvalue: {pvalueSt:.3f} заданный уровень значимости: {significance:.3f}')\n",
    "\n",
    "\n",
    "if pvalueSt <= significance:\n",
    "    print(f'На {significance:.2f} уровене значимости, мы отвергаем нулевую гипотезе и принимаем H1.')\n",
    "    print('Различия между двумя множествами статистически достоверны.')\n",
    "else:\n",
    "    print(f'На {significance:.2f} уровене значимости, мы не можем отвергнуть нулевую гипотезу.')\n",
    "    print('Различия между двумя множествами статистически недостоверны.')\n",
    "print('')\n",
    "\n",
    "\n",
    "\n",
    "plt.figure(figsize=(15, 5))\n",
    "plt.subplot(1,2,1).set(title='Распределения скоростей')\n",
    "plt.ylabel('Плотность')\n",
    "sns.distplot(water_pok['Speed'])\n",
    "sns.distplot(normal_pok['Speed'])\n",
    "\n",
    "plt.subplot(1,2,2).set(title='Бокс-плоты')\n",
    "plt.boxplot([water_pok['Speed'], normal_pok['Speed']], labels=['Water','Normal'])\n",
    "plt.show()"
   ]
  },
  {
   "cell_type": "markdown",
   "metadata": {},
   "source": [
    "**Вывод:** Профессор Оука ошибается -  показатели скорости для классов покемонов **Water** и **Normal** не имеют статистически значимой разницы."
   ]
  },
  {
   "cell_type": "markdown",
   "metadata": {},
   "source": [
    "<div class=\"alert alert-info\">\n",
    "<b>Задание № 3:</b>\n",
    "    \n",
    "Профессор Оук тот еще безумец. Он изобрел сыворотку, способную ускорить покемона. Однако, мы усомнились в эффективности его вакцины. Професоор дал эту сыворотку следующим покемонам: смотри массив `treathed_pokemon`. Проверьте, работает ли вообще его сыворотка, убедите всех в своем выводе статистически.\n",
    "    \n",
    "    \n",
    "Вы можете предположить, что распределение скорости движения является нормальным для всех классов покемонов.\n",
    "\n",
    "</div>"
   ]
  },
  {
   "cell_type": "markdown",
   "metadata": {},
   "source": [
    "**Замечание:** Профессор Оук не владеет методикой проведения экспериметов. Логичнее было бы замерить скорости покемонов до введения сыворотки и после, а затем применить тест Стьюдента для зависимых выборок. \n",
    "\n",
    "Нам же  можно будет попытаться рассмотреть две независимые выборки:\n",
    "1. **serum_pok** -множество вакцинированных покемонов\n",
    "2. **odinary_pok** - множество обычных покемонов без вакцины."
   ]
  },
  {
   "cell_type": "code",
   "execution_count": 74,
   "metadata": {
    "ExecuteTime": {
     "end_time": "2022-03-01T11:32:33.055532Z",
     "start_time": "2022-03-01T11:32:33.044535Z"
    }
   },
   "outputs": [],
   "source": [
    "# Покемоны, которые принимали сыворотку увеличения скорости\n",
    "treathed_pokemon = ['Mega Beedrill', 'Mega Alakazam',\n",
    "                    'Deoxys Normal Forme', 'Mega Lopunny']"
   ]
  },
  {
   "cell_type": "code",
   "execution_count": 75,
   "metadata": {},
   "outputs": [
    {
     "name": "stdout",
     "output_type": "stream",
     "text": [
      "Вакцинированные покемоны:\n"
     ]
    },
    {
     "data": {
      "text/html": [
       "<div>\n",
       "<style scoped>\n",
       "    .dataframe tbody tr th:only-of-type {\n",
       "        vertical-align: middle;\n",
       "    }\n",
       "\n",
       "    .dataframe tbody tr th {\n",
       "        vertical-align: top;\n",
       "    }\n",
       "\n",
       "    .dataframe thead th {\n",
       "        text-align: right;\n",
       "    }\n",
       "</style>\n",
       "<table border=\"1\" class=\"dataframe\">\n",
       "  <thead>\n",
       "    <tr style=\"text-align: right;\">\n",
       "      <th></th>\n",
       "      <th>pid</th>\n",
       "      <th>Name</th>\n",
       "      <th>Class 1</th>\n",
       "      <th>Class 2</th>\n",
       "      <th>HP</th>\n",
       "      <th>Attack</th>\n",
       "      <th>Defense</th>\n",
       "      <th>Sp. Atk</th>\n",
       "      <th>Sp. Def</th>\n",
       "      <th>Speed</th>\n",
       "      <th>Legendary</th>\n",
       "    </tr>\n",
       "  </thead>\n",
       "  <tbody>\n",
       "    <tr>\n",
       "      <th>19</th>\n",
       "      <td>20</td>\n",
       "      <td>Mega Beedrill</td>\n",
       "      <td>Bug</td>\n",
       "      <td>Poison</td>\n",
       "      <td>65</td>\n",
       "      <td>150</td>\n",
       "      <td>40</td>\n",
       "      <td>15</td>\n",
       "      <td>80</td>\n",
       "      <td>145</td>\n",
       "      <td>False</td>\n",
       "    </tr>\n",
       "    <tr>\n",
       "      <th>71</th>\n",
       "      <td>72</td>\n",
       "      <td>Mega Alakazam</td>\n",
       "      <td>Psychic</td>\n",
       "      <td>NaN</td>\n",
       "      <td>55</td>\n",
       "      <td>50</td>\n",
       "      <td>65</td>\n",
       "      <td>175</td>\n",
       "      <td>95</td>\n",
       "      <td>150</td>\n",
       "      <td>False</td>\n",
       "    </tr>\n",
       "    <tr>\n",
       "      <th>428</th>\n",
       "      <td>429</td>\n",
       "      <td>Deoxys Normal Forme</td>\n",
       "      <td>Psychic</td>\n",
       "      <td>NaN</td>\n",
       "      <td>50</td>\n",
       "      <td>150</td>\n",
       "      <td>50</td>\n",
       "      <td>150</td>\n",
       "      <td>50</td>\n",
       "      <td>150</td>\n",
       "      <td>True</td>\n",
       "    </tr>\n",
       "    <tr>\n",
       "      <th>476</th>\n",
       "      <td>477</td>\n",
       "      <td>Mega Lopunny</td>\n",
       "      <td>Normal</td>\n",
       "      <td>Fighting</td>\n",
       "      <td>65</td>\n",
       "      <td>136</td>\n",
       "      <td>94</td>\n",
       "      <td>54</td>\n",
       "      <td>96</td>\n",
       "      <td>135</td>\n",
       "      <td>False</td>\n",
       "    </tr>\n",
       "  </tbody>\n",
       "</table>\n",
       "</div>"
      ],
      "text/plain": [
       "     pid                 Name  Class 1   Class 2  HP  Attack  Defense  \\\n",
       "19    20        Mega Beedrill      Bug    Poison  65     150       40   \n",
       "71    72        Mega Alakazam  Psychic       NaN  55      50       65   \n",
       "428  429  Deoxys Normal Forme  Psychic       NaN  50     150       50   \n",
       "476  477         Mega Lopunny   Normal  Fighting  65     136       94   \n",
       "\n",
       "     Sp. Atk  Sp. Def  Speed  Legendary  \n",
       "19        15       80    145      False  \n",
       "71       175       95    150      False  \n",
       "428      150       50    150       True  \n",
       "476       54       96    135      False  "
      ]
     },
     "metadata": {},
     "output_type": "display_data"
    },
    {
     "name": "stdout",
     "output_type": "stream",
     "text": [
      "Всего в датафрейме есть данные о 800 покемонах\n",
      "Всего в датафрейме есть данные о 796 невакцинированных покемонах\n"
     ]
    }
   ],
   "source": [
    "serum_pok =  pokemon.loc[pokemon['Name'].isin(treathed_pokemon)]\n",
    "print ('Вакцинированные покемоны:')\n",
    "display(serum_pok)\n",
    "print ('Всего в датафрейме есть данные о',len(pokemon), 'покемонах')\n",
    "not_serum_pok = pokemon.loc[~pokemon['Name'].isin(treathed_pokemon)]\n",
    "print ('Всего в датафрейме есть данные о',len(not_serum_pok), 'невакцинированных покемонах')"
   ]
  },
  {
   "cell_type": "code",
   "execution_count": 76,
   "metadata": {},
   "outputs": [
    {
     "name": "stdout",
     "output_type": "stream",
     "text": [
      "Средняя скорость вакционированнных покемонов: 145.0\n",
      "Средняя  невакционированных покемонов:67.9\n"
     ]
    }
   ],
   "source": [
    "print (f'Средняя скорость вакционированнных покемонов: {serum_pok[\"Speed\"].mean():.1f}')\n",
    "print (f'Средняя  невакционированных покемонов:{not_serum_pok[\"Speed\"].mean():.1f}')\n"
   ]
  },
  {
   "cell_type": "code",
   "execution_count": 77,
   "metadata": {
    "scrolled": true
   },
   "outputs": [
    {
     "data": {
      "image/png": "[encoded data removed]",
      "text/plain": [
       "<Figure size 1080x360 with 2 Axes>"
      ]
     },
     "metadata": {
      "needs_background": "light"
     },
     "output_type": "display_data"
    }
   ],
   "source": [
    "plt.figure(figsize=(15, 5))\n",
    "plt.subplot(1,2,1).set(title='Распределения скоростей')\n",
    "plt.ylabel('Плотность')\n",
    "sns.distplot(serum_pok['Speed'])\n",
    "sns.distplot(not_serum_pok['Speed'])\n",
    "\n",
    "plt.subplot(1,2,2).set(title='Бокс-плоты')\n",
    "plt.boxplot([not_serum_pok['Speed'], serum_pok['Speed']], labels=['Невакционированные','Вакцинированые'])\n",
    "plt.show()\n"
   ]
  },
  {
   "cell_type": "markdown",
   "metadata": {},
   "source": [
    "**Вывод**: Даже без проведения статистического теста ясно что выборки различаются между собой. Эффрект присутствует. Однако наша рекомендация профессору Оуку следующая - необходимо провести грамотный эксперимент с  применением методики РКИ,  как например описано здесь -https://medspecial.ru/for_patients/8/21282/ и тогда доказательно можно будет судить об эффекте действия вакцины."
   ]
  },
  {
   "cell_type": "markdown",
   "metadata": {},
   "source": [
    "<div class=\"alert alert-info\">\n",
    "<b>Задание № 4:</b>\n",
    "    \n",
    "Профессор Оук всегда любил истории про легендарных покемонов. Однако, профессор не очень уверен, что они самые лучшие относительно остальных покемонов. Оук предложил разобраться в этом нам. Проверьте, действительно ли сумма характеристик `HP`,`Attack`,`Defense` у легендарных покемонов выше, чем у других покемонов? А произведение этих же параметров?? Найдите ответы на эти вопросы и убедите всех в своем выводе статистически.\n",
    "   \n",
    "\n",
    "Вы можете предположить, что распределение сум и произведений этих параметров является нормальным для всех классов покемонов.\n",
    "\n",
    "</div>"
   ]
  },
  {
   "cell_type": "markdown",
   "metadata": {},
   "source": [
    "Раделим датасет на легендарных и обычных покемонов. На всякий случай исключим покемонов получавших вакцину, используя уже сформированный ранее датасет невакцинированных покемонов:"
   ]
  },
  {
   "cell_type": "code",
   "execution_count": 78,
   "metadata": {},
   "outputs": [
    {
     "name": "stdout",
     "output_type": "stream",
     "text": [
      "Всего невакцинированных покемонов: 796\n",
      "Из них обычных покемонов: 732\n",
      "Из них редких покемонов: 64\n"
     ]
    }
   ],
   "source": [
    "print('Всего невакцинированных покемонов:', len(not_serum_pok))\n",
    "odinary_pok = not_serum_pok.loc[not_serum_pok['Legendary'] == False]\n",
    "print('Из них обычных покемонов:', len(odinary_pok))\n",
    "legendary_pok = not_serum_pok.loc[not_serum_pok['Legendary'] == True]\n",
    "print('Из них редких покемонов:', len(legendary_pok))"
   ]
  },
  {
   "cell_type": "markdown",
   "metadata": {},
   "source": [
    "Добавим в наши датафреймы столбцы: **features_sum** - сумма характеристик и **features_prod** - произведение характеристик:"
   ]
  },
  {
   "cell_type": "code",
   "execution_count": 79,
   "metadata": {},
   "outputs": [],
   "source": [
    "odinary_pok = odinary_pok.assign(features_sum = odinary_pok['HP'] + odinary_pok['Attack'] + odinary_pok['Defense'])\n",
    "odinary_pok = odinary_pok.assign(features_prod = odinary_pok['HP'] * odinary_pok['Attack'] * odinary_pok['Defense'])\n",
    "\n"
   ]
  },
  {
   "cell_type": "markdown",
   "metadata": {},
   "source": [
    "Применим семплирование для большей выборки обычных покемонов:\n",
    "    "
   ]
  },
  {
   "cell_type": "code",
   "execution_count": 80,
   "metadata": {},
   "outputs": [
    {
     "name": "stdout",
     "output_type": "stream",
     "text": [
      "Из класса обычных покемонов выбрано 64 элемента\n"
     ]
    }
   ],
   "source": [
    "odinary_pok = odinary_pok.sample(len(legendary_pok))\n",
    "print ('Из класса обычных покемонов выбрано', len(odinary_pok), 'элемента')"
   ]
  },
  {
   "cell_type": "code",
   "execution_count": 81,
   "metadata": {},
   "outputs": [
    {
     "name": "stdout",
     "output_type": "stream",
     "text": [
      "Обычные покемоны:\n",
      "Среднее суммы характеристик HP, Attack, Defense обычных покемонов: 216.39\n",
      "Среднее произведения характеристик HP, Attack, Defense обычных покемонов: 445856.84\n"
     ]
    },
    {
     "data": {
      "text/html": [
       "<div>\n",
       "<style scoped>\n",
       "    .dataframe tbody tr th:only-of-type {\n",
       "        vertical-align: middle;\n",
       "    }\n",
       "\n",
       "    .dataframe tbody tr th {\n",
       "        vertical-align: top;\n",
       "    }\n",
       "\n",
       "    .dataframe thead th {\n",
       "        text-align: right;\n",
       "    }\n",
       "</style>\n",
       "<table border=\"1\" class=\"dataframe\">\n",
       "  <thead>\n",
       "    <tr style=\"text-align: right;\">\n",
       "      <th></th>\n",
       "      <th>pid</th>\n",
       "      <th>Name</th>\n",
       "      <th>Class 1</th>\n",
       "      <th>Class 2</th>\n",
       "      <th>HP</th>\n",
       "      <th>Attack</th>\n",
       "      <th>Defense</th>\n",
       "      <th>Sp. Atk</th>\n",
       "      <th>Sp. Def</th>\n",
       "      <th>Speed</th>\n",
       "      <th>Legendary</th>\n",
       "      <th>features_sum</th>\n",
       "      <th>features_prod</th>\n",
       "    </tr>\n",
       "  </thead>\n",
       "  <tbody>\n",
       "    <tr>\n",
       "      <th>110</th>\n",
       "      <td>111</td>\n",
       "      <td>Exeggcute</td>\n",
       "      <td>Grass</td>\n",
       "      <td>Psychic</td>\n",
       "      <td>60</td>\n",
       "      <td>40</td>\n",
       "      <td>80</td>\n",
       "      <td>60</td>\n",
       "      <td>45</td>\n",
       "      <td>40</td>\n",
       "      <td>False</td>\n",
       "      <td>180</td>\n",
       "      <td>192000</td>\n",
       "    </tr>\n",
       "    <tr>\n",
       "      <th>20</th>\n",
       "      <td>21</td>\n",
       "      <td>Pidgey</td>\n",
       "      <td>Normal</td>\n",
       "      <td>Flying</td>\n",
       "      <td>40</td>\n",
       "      <td>45</td>\n",
       "      <td>40</td>\n",
       "      <td>35</td>\n",
       "      <td>35</td>\n",
       "      <td>56</td>\n",
       "      <td>False</td>\n",
       "      <td>125</td>\n",
       "      <td>72000</td>\n",
       "    </tr>\n",
       "    <tr>\n",
       "      <th>652</th>\n",
       "      <td>653</td>\n",
       "      <td>Amoonguss</td>\n",
       "      <td>Grass</td>\n",
       "      <td>Poison</td>\n",
       "      <td>114</td>\n",
       "      <td>85</td>\n",
       "      <td>70</td>\n",
       "      <td>85</td>\n",
       "      <td>80</td>\n",
       "      <td>30</td>\n",
       "      <td>False</td>\n",
       "      <td>269</td>\n",
       "      <td>678300</td>\n",
       "    </tr>\n",
       "  </tbody>\n",
       "</table>\n",
       "</div>"
      ],
      "text/plain": [
       "     pid       Name Class 1  Class 2   HP  Attack  Defense  Sp. Atk  Sp. Def  \\\n",
       "110  111  Exeggcute   Grass  Psychic   60      40       80       60       45   \n",
       "20    21     Pidgey  Normal   Flying   40      45       40       35       35   \n",
       "652  653  Amoonguss   Grass   Poison  114      85       70       85       80   \n",
       "\n",
       "     Speed  Legendary  features_sum  features_prod  \n",
       "110     40      False           180         192000  \n",
       "20      56      False           125          72000  \n",
       "652     30      False           269         678300  "
      ]
     },
     "metadata": {},
     "output_type": "display_data"
    },
    {
     "name": "stdout",
     "output_type": "stream",
     "text": [
      "Легендарные покемоны:\n",
      "Среднее суммы характеристик HP, Attack, Defense легендарных покемонов: 310.00\n",
      "Среднее произведения характеристик HP, Attack, Defense легендарных покемонов: 1097050.08\n"
     ]
    },
    {
     "data": {
      "text/html": [
       "<div>\n",
       "<style scoped>\n",
       "    .dataframe tbody tr th:only-of-type {\n",
       "        vertical-align: middle;\n",
       "    }\n",
       "\n",
       "    .dataframe tbody tr th {\n",
       "        vertical-align: top;\n",
       "    }\n",
       "\n",
       "    .dataframe thead th {\n",
       "        text-align: right;\n",
       "    }\n",
       "</style>\n",
       "<table border=\"1\" class=\"dataframe\">\n",
       "  <thead>\n",
       "    <tr style=\"text-align: right;\">\n",
       "      <th></th>\n",
       "      <th>pid</th>\n",
       "      <th>Name</th>\n",
       "      <th>Class 1</th>\n",
       "      <th>Class 2</th>\n",
       "      <th>HP</th>\n",
       "      <th>Attack</th>\n",
       "      <th>Defense</th>\n",
       "      <th>Sp. Atk</th>\n",
       "      <th>Sp. Def</th>\n",
       "      <th>Speed</th>\n",
       "      <th>Legendary</th>\n",
       "      <th>features_sum</th>\n",
       "      <th>features_prod</th>\n",
       "    </tr>\n",
       "  </thead>\n",
       "  <tbody>\n",
       "    <tr>\n",
       "      <th>156</th>\n",
       "      <td>157</td>\n",
       "      <td>Articuno</td>\n",
       "      <td>Ice</td>\n",
       "      <td>Flying</td>\n",
       "      <td>90</td>\n",
       "      <td>85</td>\n",
       "      <td>100</td>\n",
       "      <td>95</td>\n",
       "      <td>125</td>\n",
       "      <td>85</td>\n",
       "      <td>True</td>\n",
       "      <td>275</td>\n",
       "      <td>765000</td>\n",
       "    </tr>\n",
       "    <tr>\n",
       "      <th>157</th>\n",
       "      <td>158</td>\n",
       "      <td>Zapdos</td>\n",
       "      <td>Electric</td>\n",
       "      <td>Flying</td>\n",
       "      <td>90</td>\n",
       "      <td>90</td>\n",
       "      <td>85</td>\n",
       "      <td>125</td>\n",
       "      <td>90</td>\n",
       "      <td>100</td>\n",
       "      <td>True</td>\n",
       "      <td>265</td>\n",
       "      <td>688500</td>\n",
       "    </tr>\n",
       "    <tr>\n",
       "      <th>158</th>\n",
       "      <td>159</td>\n",
       "      <td>Moltres</td>\n",
       "      <td>Fire</td>\n",
       "      <td>Flying</td>\n",
       "      <td>90</td>\n",
       "      <td>100</td>\n",
       "      <td>90</td>\n",
       "      <td>125</td>\n",
       "      <td>85</td>\n",
       "      <td>90</td>\n",
       "      <td>True</td>\n",
       "      <td>280</td>\n",
       "      <td>810000</td>\n",
       "    </tr>\n",
       "  </tbody>\n",
       "</table>\n",
       "</div>"
      ],
      "text/plain": [
       "     pid      Name   Class 1 Class 2  HP  Attack  Defense  Sp. Atk  Sp. Def  \\\n",
       "156  157  Articuno       Ice  Flying  90      85      100       95      125   \n",
       "157  158    Zapdos  Electric  Flying  90      90       85      125       90   \n",
       "158  159   Moltres      Fire  Flying  90     100       90      125       85   \n",
       "\n",
       "     Speed  Legendary  features_sum  features_prod  \n",
       "156     85       True           275         765000  \n",
       "157    100       True           265         688500  \n",
       "158     90       True           280         810000  "
      ]
     },
     "metadata": {},
     "output_type": "display_data"
    }
   ],
   "source": [
    "print('Обычные покемоны:')\n",
    "print(f'Среднее суммы характеристик HP, Attack, Defense обычных покемонов: {odinary_pok.features_sum.mean():.2f}')\n",
    "print(f'Среднее произведения характеристик HP, Attack, Defense обычных покемонов: {odinary_pok.features_prod.mean():.2f}')\n",
    "display(odinary_pok.head(3))\n",
    "\n",
    "legendary_pok = legendary_pok.assign(features_sum = legendary_pok['HP'] + legendary_pok['Attack'] + legendary_pok['Defense'])\n",
    "legendary_pok = legendary_pok.assign(features_prod = legendary_pok['HP'] * legendary_pok['Attack'] * legendary_pok['Defense'])\n",
    "\n",
    "print('Легендарные покемоны:')\n",
    "print(f'Среднее суммы характеристик HP, Attack, Defense легендарных покемонов: {legendary_pok.features_sum.mean():.2f}')\n",
    "print(f'Среднее произведения характеристик HP, Attack, Defense легендарных покемонов: {legendary_pok.features_prod.mean():.2f}')\n",
    "display(legendary_pok.head(3))"
   ]
  },
  {
   "cell_type": "code",
   "execution_count": 82,
   "metadata": {},
   "outputs": [
    {
     "data": {
      "image/png": "[encoded data removed]",
      "text/plain": [
       "<Figure size 1080x720 with 4 Axes>"
      ]
     },
     "metadata": {
      "needs_background": "light"
     },
     "output_type": "display_data"
    }
   ],
   "source": [
    "plt.figure(figsize=(15, 10))\n",
    "plt.subplot(2,2,1).set(title='Распределения сумм HP, Attack, Defense')\n",
    "plt.ylabel('Плотность')\n",
    "sns.distplot(odinary_pok['features_sum'])\n",
    "sns.distplot(legendary_pok['features_sum'])\n",
    "\n",
    "plt.subplot(2,2,2).set(title='Бокс-плоты сумм HP, Attack, Defense')\n",
    "plt.boxplot([odinary_pok['features_sum'], legendary_pok['features_sum']], labels=['Обычные','Редкие'])\n",
    "\n",
    "\n",
    "plt.subplot(2,2,3).set(title='Расп. произведений HP, Attack, Defense')\n",
    "plt.ylabel('Плотность')\n",
    "sns.distplot(odinary_pok['features_prod'])\n",
    "sns.distplot(legendary_pok['features_prod'])\n",
    "\n",
    "plt.subplot(2,2,4).set(title='Бокс-плоты произведений HP, Attack, Defense')\n",
    "plt.boxplot([odinary_pok['features_prod'], legendary_pok['features_prod']], labels=['Обычные','Редкие'])\n",
    "plt.show()"
   ]
  },
  {
   "cell_type": "markdown",
   "metadata": {},
   "source": [
    "Убедимся в различих между классами  через тест Стьюдента:"
   ]
  },
  {
   "cell_type": "code",
   "execution_count": 83,
   "metadata": {},
   "outputs": [
    {
     "name": "stdout",
     "output_type": "stream",
     "text": [
      "По двухвыборочному t-тесту Стьюдента по показателю сумма характеристик HP, Attack, Defense:\n",
      "t_value: -3.130, _pvalue: 0.000 заданный уровень значимости: 0.050\n",
      "На 0.05 уровене значимости, мы отвергаем нулевую гипотезе и принимаем H1.\n",
      "Различия между двумя множествами статистически достоверны.\n",
      "\n"
     ]
    }
   ],
   "source": [
    "significance = 0.05\n",
    "\n",
    "valueSt, pvalueSt = stats.ttest_ind(odinary_pok['features_sum'], legendary_pok['features_sum'])\n",
    "print ('По двухвыборочному t-тесту Стьюдента по показателю сумма характеристик HP, Attack, Defense:')\n",
    "print(f't_value: {tvalueSt:.3f}, _pvalue: {pvalueSt:.3f} заданный уровень значимости: {significance:.3f}')\n",
    "\n",
    "\n",
    "if pvalueSt <= significance:\n",
    "    print(f'На {significance:.2f} уровене значимости, мы отвергаем нулевую гипотезе и принимаем H1.')\n",
    "    print('Различия между двумя множествами статистически достоверны.')\n",
    "else:\n",
    "    print(f'На {significance:.2f} уровене значимости, мы не можем отвергнуть нулевую гипотезу.')\n",
    "    print('Различия между двумя множествами статистически недостоверны.')\n",
    "print('')\n",
    "\n"
   ]
  },
  {
   "cell_type": "code",
   "execution_count": 84,
   "metadata": {},
   "outputs": [
    {
     "name": "stdout",
     "output_type": "stream",
     "text": [
      "По двухвыборочному t-тесту Стьюдента по показателю произведения характеристик HP, Attack, Defense:\n",
      "t_value: -3.130, _pvalue: 0.000 заданный уровень значимости: 0.050\n",
      "На 0.05 уровене значимости, мы отвергаем нулевую гипотезе и принимаем H1.\n",
      "Различия между двумя множествами статистически достоверны.\n",
      "\n"
     ]
    }
   ],
   "source": [
    "significance = 0.05\n",
    "\n",
    "valueSt, pvalueSt = stats.ttest_ind(odinary_pok['features_prod'], legendary_pok['features_prod'])\n",
    "print ('По двухвыборочному t-тесту Стьюдента по показателю произведения характеристик HP, Attack, Defense:')\n",
    "print(f't_value: {tvalueSt:.3f}, _pvalue: {pvalueSt:.3f} заданный уровень значимости: {significance:.3f}')\n",
    "\n",
    "\n",
    "if pvalueSt <= significance:\n",
    "    print(f'На {significance:.2f} уровене значимости, мы отвергаем нулевую гипотезе и принимаем H1.')\n",
    "    print('Различия между двумя множествами статистически достоверны.')\n",
    "else:\n",
    "    print(f'На {significance:.2f} уровене значимости, мы не можем отвергнуть нулевую гипотезу.')\n",
    "    print('Различия между двумя множествами статистически недостоверны.')\n",
    "print('')\n",
    "\n"
   ]
  },
  {
   "cell_type": "markdown",
   "metadata": {},
   "source": [
    "**Вывод:** Профессор Оук может быть уверен - редкие покемоны действительно лучшие и по сумме и по произведнеию своих характеристик  относительно остальных покемонов."
   ]
  },
  {
   "cell_type": "markdown",
   "metadata": {},
   "source": [
    "<div class=\"alert alert-info\">\n",
    "<b>Задание № 5:</b>\n",
    "    \n",
    "Профессор Оук частенько наблюдает за боями покемонов. После очередных таких боев Оук выделил три класса `best_defence_class`, которые на его взгляд одинаковы по \"силе обычной защиты\" `Defense`. Проверьте, действительно ли эти классы покемонов не отличаются по уровню защиты статистически значимо? Все та же статистика вам в помощь! \n",
    "   \n",
    "\n",
    "Вы можете предположить, что распределение сум и произведений этих параметров является нормальным для всех классов покемонов.\n",
    "\n",
    "</div>"
   ]
  },
  {
   "cell_type": "code",
   "execution_count": 85,
   "metadata": {
    "ExecuteTime": {
     "end_time": "2022-03-01T11:32:33.070533Z",
     "start_time": "2022-03-01T11:32:33.060532Z"
    }
   },
   "outputs": [
    {
     "data": {
      "text/plain": [
       "['Rock', 'Ground', 'Steel', 'Ice']"
      ]
     },
     "execution_count": 85,
     "metadata": {},
     "output_type": "execute_result"
    }
   ],
   "source": [
    "best_defence_class = ['Rock', 'Ground', 'Steel', 'Ice']\n",
    "best_defence_class"
   ]
  },
  {
   "cell_type": "code",
   "execution_count": 86,
   "metadata": {},
   "outputs": [],
   "source": [
    "# Выделяем невакцинарованных покемонов \n",
    "# класса 'Rock' или в 1 классе или во 2 классе без 'Ground', 'Steel', 'Ice' во другом классе:\n",
    "\n",
    "rock_pok = not_serum_pok.loc[((not_serum_pok['Class 1'] =='Rock')&(~not_serum_pok['Class 2'].isin(best_defence_class)))\n",
    "|((not_serum_pok['Class 2'] =='Rock')&(~not_serum_pok['Class 1'].isin(best_defence_class)))] \n",
    "\n"
   ]
  },
  {
   "cell_type": "code",
   "execution_count": 87,
   "metadata": {},
   "outputs": [],
   "source": [
    "# Выделяем невакцинарованных покемонов \n",
    "# класса 'Ground' или в 1 классе или во 2 классе без 'Rock', 'Ground', 'Steel', 'Ice' в другом классе:\n",
    "\n",
    "ground_pok = not_serum_pok.loc[((not_serum_pok['Class 1'] =='Ground')&(~not_serum_pok['Class 2'].isin(best_defence_class)))\n",
    "|((not_serum_pok['Class 2'] =='Ground')&(~not_serum_pok['Class 1'].isin(best_defence_class)))] \n",
    "\n",
    "\n",
    "\n"
   ]
  },
  {
   "cell_type": "code",
   "execution_count": 88,
   "metadata": {},
   "outputs": [],
   "source": [
    "# Выделяем невакцинарованных покемонов \n",
    "# класса 'Steel' или в 1 классе или во 2 классе без 'Rock', 'Ground', 'Steel', 'Ice' в другом классе:\n",
    "\n",
    "steel_pok = not_serum_pok.loc[((not_serum_pok['Class 1'] =='Steel')&(~not_serum_pok['Class 2'].isin(best_defence_class)))\n",
    "|((not_serum_pok['Class 2'] =='Steel')&(~not_serum_pok['Class 1'].isin(best_defence_class)))] \n",
    "\n",
    "\n"
   ]
  },
  {
   "cell_type": "code",
   "execution_count": 89,
   "metadata": {},
   "outputs": [],
   "source": [
    "# Выделяем невакцинарованных покемонов \n",
    "# класса 'Ice' или в 1 классе или во 2 классе без 'Rock', 'Ground', 'Steel', 'Ice' в другом классе:\n",
    "\n",
    "ice_pok = not_serum_pok.loc[((not_serum_pok['Class 1'] =='Ice')&(~not_serum_pok['Class 2'].isin(best_defence_class)))\n",
    "|((not_serum_pok['Class 2'] =='Ice')&(~not_serum_pok['Class 1'].isin(best_defence_class)))] \n",
    "\n"
   ]
  },
  {
   "cell_type": "code",
   "execution_count": 90,
   "metadata": {},
   "outputs": [
    {
     "name": "stdout",
     "output_type": "stream",
     "text": [
      "Покемонов 'Rock' в обоих классах без совпадений с 'Ground', 'Steel', 'Ice': 41\n",
      "Покемонов 'Ground' в обоих классах без совпадений с 'Rock', 'Steel', 'Ice': 52\n",
      "Покемонов 'Steel' в обоих классах без совпадений с 'Rock', 'Ground', 'Ice': 40\n",
      "Покемонов 'Ice' в обоих классах без совпадений с 'Rock', 'Ground', 'Steel': 33\n"
     ]
    }
   ],
   "source": [
    "print(\"Покемонов 'Rock' в обоих классах без совпадений с 'Ground', 'Steel', 'Ice':\", len(rock_pok))\n",
    "print(\"Покемонов 'Ground' в обоих классах без совпадений с 'Rock', 'Steel', 'Ice':\", len(ground_pok))\n",
    "print(\"Покемонов 'Steel' в обоих классах без совпадений с 'Rock', 'Ground', 'Ice':\", len(steel_pok))\n",
    "print(\"Покемонов 'Ice' в обоих классах без совпадений с 'Rock', 'Ground', 'Steel':\", len(ice_pok))\n"
   ]
  },
  {
   "cell_type": "markdown",
   "metadata": {},
   "source": [
    "Таким образом наиболее малочисленный класс - это класс **Ice** и по нему нужно выстраивать семплы остальных классов:\n"
   ]
  },
  {
   "cell_type": "code",
   "execution_count": 91,
   "metadata": {},
   "outputs": [
    {
     "name": "stdout",
     "output_type": "stream",
     "text": [
      "Из класса покемонов 'Rock'   выбрано 33 элемента\n",
      "Из класса покемонов 'Ground' выбрано 33 элемента\n",
      "Из класса покемонов 'Steel'  выбрано 33 элемента\n"
     ]
    }
   ],
   "source": [
    "min_class_len = min([len(rock_pok), len(ground_pok), len(steel_pok), len(ice_pok)])\n",
    "\n",
    "rock_pok = rock_pok.sample(min_class_len)\n",
    "ground_pok = ground_pok.sample(min_class_len)\n",
    "steel_pok = steel_pok.sample(min_class_len)\n",
    "print (\"Из класса покемонов 'Rock'   выбрано\", len(rock_pok), \"элемента\")\n",
    "print (\"Из класса покемонов 'Ground' выбрано\", len(ground_pok), \"элемента\")\n",
    "print (\"Из класса покемонов 'Steel'  выбрано\", len(steel_pok), \"элемента\")"
   ]
  },
  {
   "cell_type": "code",
   "execution_count": 92,
   "metadata": {},
   "outputs": [
    {
     "name": "stdout",
     "output_type": "stream",
     "text": [
      "Среднее класса покемонов 'Rock'   106.91\n",
      "Среднее класса покемонов 'Ground' 80.3\n",
      "Среднее класса покемонов 'Steel'  109.15\n",
      "Среднее класса покемонов 'Ice'    78.52\n"
     ]
    }
   ],
   "source": [
    "print (\"Среднее класса покемонов 'Rock'  \", round(rock_pok['Defense'].mean(),2))\n",
    "print (\"Среднее класса покемонов 'Ground'\", round(ground_pok['Defense'].mean(),2))\n",
    "print (\"Среднее класса покемонов 'Steel' \", round(steel_pok['Defense'].mean(),2))\n",
    "print (\"Среднее класса покемонов 'Ice'   \", round(ice_pok['Defense'].mean(),2))"
   ]
  },
  {
   "cell_type": "markdown",
   "metadata": {},
   "source": [
    "Используем однофакторный дисперсионный тест: "
   ]
  },
  {
   "cell_type": "code",
   "execution_count": 93,
   "metadata": {},
   "outputs": [
    {
     "name": "stdout",
     "output_type": "stream",
     "text": [
      "По тесту однофакторного дисперсионного анализа :\n",
      "statistic: 7.510, _pvalue: 0.0001141 заданный уровень значимости: 0.050\n",
      "На 0.05 уровене значимости, мы отвергаем нулевую гипотезе и принимаем H1.\n",
      "Различия между выборкам статистически достоверны:\n",
      "по крайней мере одно среднее значение группы отличается от остальных.\n"
     ]
    }
   ],
   "source": [
    "significance = 0.05\n",
    "\n",
    "value_ANOVA, pvalue = f_oneway(rock_pok['Defense'],\n",
    "                               ground_pok['Defense'],\n",
    "                               steel_pok['Defense'], \n",
    "                               ice_pok['Defense']\n",
    "                               )\n",
    "\n",
    "print ('По тесту однофакторного дисперсионного анализа :')\n",
    "print(f'statistic: {value_ANOVA:.3f}, _pvalue: {pvalue:.7f} заданный уровень значимости: {significance:.3f}')\n",
    "\n",
    "\n",
    "if pvalue <= significance:\n",
    "    print(f'На {significance:.2f} уровене значимости, мы отвергаем нулевую гипотезе и принимаем H1.')\n",
    "    print('Различия между выборкам статистически достоверны:')\n",
    "    print('по крайней мере одно среднее значение группы отличается от остальных.')\n",
    "else:\n",
    "    print(f'На {significance:.2f} уровене значимости, мы не можем отвергнуть нулевую гипотезу.')\n",
    "    print('Различия между  множествами статистически недостоверны.')\n",
    "#print('Бокс-плоты групп:')\n"
   ]
  },
  {
   "cell_type": "markdown",
   "metadata": {},
   "source": [
    "Для понимания что от чего отличается выполним **тест Тьюки**:\n",
    "    "
   ]
  },
  {
   "cell_type": "code",
   "execution_count": 94,
   "metadata": {},
   "outputs": [
    {
     "name": "stdout",
     "output_type": "stream",
     "text": [
      "Тест Тьюки (Tukey HSD):\n",
      "\n",
      " Multiple Comparison of Means - Tukey HSD, FWER=0.05 \n",
      "=====================================================\n",
      "group1 group2 meandiff p-adj   lower    upper  reject\n",
      "-----------------------------------------------------\n",
      "Ground    Ice  -1.7879    0.9 -24.0434 20.4677  False\n",
      "Ground   Rock  26.6061 0.0121   4.3505 48.8616   True\n",
      "Ground  Steel  28.8485 0.0054   6.5929  51.104   True\n",
      "   Ice   Rock  28.3939 0.0063   6.1384 50.6495   True\n",
      "   Ice  Steel  30.6364 0.0027   8.3808 52.8919   True\n",
      "  Rock  Steel   2.2424    0.9 -20.0131  24.498  False\n",
      "-----------------------------------------------------\n"
     ]
    },
    {
     "data": {
      "image/png": "[encoded data removed]",
      "text/plain": [
       "<Figure size 720x432 with 1 Axes>"
      ]
     },
     "execution_count": 94,
     "metadata": {},
     "output_type": "execute_result"
    },
    {
     "data": {
      "image/png": "[encoded data removed]",
      "text/plain": [
       "<Figure size 720x432 with 1 Axes>"
      ]
     },
     "metadata": {
      "needs_background": "light"
     },
     "output_type": "display_data"
    },
    {
     "data": {
      "image/png": "[encoded data removed]",
      "text/plain": [
       "<Figure size 720x432 with 1 Axes>"
      ]
     },
     "metadata": {
      "needs_background": "light"
     },
     "output_type": "display_data"
    }
   ],
   "source": [
    "groups = ['Rock', 'Ground', 'Steel', 'Ice']\n",
    "names = [];\n",
    "# Создаём подписи:\n",
    "for k1 in range (len(groups)):\n",
    "    for k2 in range(len(rock_pok['Defense'])):\n",
    "        names.append(groups[k1])\n",
    "\n",
    "tukey = pairwise_tukeyhsd(endog=pd.concat([rock_pok['Defense'], \n",
    "                                           ground_pok['Defense'],\n",
    "                                           steel_pok['Defense'], \n",
    "                                           ice_pok['Defense']]).values,\n",
    "                          groups=names,\n",
    "                          alpha=0.05)\n",
    "\n",
    "print ('Тест Тьюки (Tukey HSD):\\n')\n",
    "print (tukey)\n",
    "tukey.plot_simultaneous(comparison_name='Ground')\n",
    "tukey.plot_simultaneous(comparison_name='Steel')"
   ]
  },
  {
   "cell_type": "markdown",
   "metadata": {},
   "source": [
    "**Вывод:** Значительные отличия в уровне защиты наблюдаются у класса **Steel**. Класс **Rock** находится в промежуточном положении между **Steel** и группой **Ice** и **Ground**."
   ]
  },
  {
   "cell_type": "code",
   "execution_count": 95,
   "metadata": {},
   "outputs": [
    {
     "data": {
      "image/png": "[encoded data removed]",
      "text/plain": [
       "<Figure size 720x504 with 1 Axes>"
      ]
     },
     "metadata": {
      "needs_background": "light"
     },
     "output_type": "display_data"
    }
   ],
   "source": [
    "fig, ax = plt.subplots(figsize=(10, 7))\n",
    "ax.set_title('Бокс-плоты классов покемонов:')\n",
    "ax.boxplot([rock_pok['Defense'],  ground_pok['Defense'],\n",
    "             steel_pok['Defense'], ice_pok['Defense']], labels=groups)\n",
    "plt.show()"
   ]
  }
 ],
 "metadata": {
  "kernelspec": {
   "display_name": "Python 3",
   "language": "python",
   "name": "python3"
  },
  "language_info": {
   "codemirror_mode": {
    "name": "ipython",
    "version": 3
   },
   "file_extension": ".py",
   "mimetype": "text/x-python",
   "name": "python",
   "nbconvert_exporter": "python",
   "pygments_lexer": "ipython3",
   "version": "3.8.3"
  },
  "toc": {
   "base_numbering": 1,
   "nav_menu": {},
   "number_sections": true,
   "sideBar": true,
   "skip_h1_title": false,
   "title_cell": "Table of Contents",
   "title_sidebar": "Contents",
   "toc_cell": false,
   "toc_position": {},
   "toc_section_display": true,
   "toc_window_display": false
  }
 },
 "nbformat": 4,
 "nbformat_minor": 4
}
