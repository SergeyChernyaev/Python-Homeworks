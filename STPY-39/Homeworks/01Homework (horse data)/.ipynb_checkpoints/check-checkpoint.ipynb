{
 "cells": [
  {
   "cell_type": "markdown",
   "metadata": {},
   "source": [
    "# Домашняя работа к лекции «Базовые понятия статистики»"
   ]
  },
  {
   "cell_type": "markdown",
   "metadata": {},
   "source": [
    "Будем осуществлять работу с непростым набором данных о состоянии здоровья лошадей, испытывающих кишечные колики. Цель – максимально корректно заполнить пропуски.\n",
    "\n",
    "Задание 1. Загрузка данных\n",
    "Изучить представленный набор данных на основе описания его столбцов, загрузить его и оставить 8 столбцов для дальнейшего изучения: surgery?, Age, rectal temperature, pulse, respiratory rate, temperature of extremities, pain, outcome.\n",
    "\n",
    "Задание 2. Первичное изучение данных\n",
    "Проанализировать значения по столбцам, рассчитать базовые статистики, найти выбросы.\n",
    "\n",
    "Задание 3. Работа с пропусками\n",
    "Рассчитать количество пропусков для всех выбранных столбцов. Принять и обосновать решение о методе заполнения пропусков по каждому столбцу на основе рассчитанных статистик и возможной взаимосвязи значений в них. Сформировать датафрейм, в котором пропуски будут отсутствовать."
   ]
  },
  {
   "cell_type": "markdown",
   "metadata": {},
   "source": [
    "## Задание 1 Загрузка данных \n",
    "\n",
    "Изучить представленный набор данных на основе описания его столбцов, загрузить его и оставить 8 столбцов для дальнейшего изучения: surgery?, Age, rectal temperature, pulse, respiratory rate, temperature of extremities, pain, outcome."
   ]
  },
  {
   "cell_type": "code",
   "execution_count": 1,
   "metadata": {},
   "outputs": [],
   "source": [
    "import pandas as pd"
   ]
  },
  {
   "cell_type": "markdown",
   "metadata": {},
   "source": [
    "#### Подготовка исходного файла загрузки.\n",
    "Перед загрузкой в файле 'horse_data.csv' была добавлена и разделена ' , '-ми 1-я строка для заполнения наименований столбцов."
   ]
  },
  {
   "cell_type": "code",
   "execution_count": 2,
   "metadata": {},
   "outputs": [
    {
     "data": {
      "text/html": [
       "<div>\n",
       "<style scoped>\n",
       "    .dataframe tbody tr th:only-of-type {\n",
       "        vertical-align: middle;\n",
       "    }\n",
       "\n",
       "    .dataframe tbody tr th {\n",
       "        vertical-align: top;\n",
       "    }\n",
       "\n",
       "    .dataframe thead th {\n",
       "        text-align: right;\n",
       "    }\n",
       "</style>\n",
       "<table border=\"1\" class=\"dataframe\">\n",
       "  <thead>\n",
       "    <tr style=\"text-align: right;\">\n",
       "      <th></th>\n",
       "      <th>surgery</th>\n",
       "      <th>age</th>\n",
       "      <th>rectal_temperature</th>\n",
       "      <th>pulse</th>\n",
       "      <th>respiratory_rate</th>\n",
       "      <th>temperature_of_extremities</th>\n",
       "      <th>pain</th>\n",
       "      <th>outcome</th>\n",
       "    </tr>\n",
       "  </thead>\n",
       "  <tbody>\n",
       "    <tr>\n",
       "      <th>0</th>\n",
       "      <td>2.0</td>\n",
       "      <td>1</td>\n",
       "      <td>38.5</td>\n",
       "      <td>66.0</td>\n",
       "      <td>28.0</td>\n",
       "      <td>3.0</td>\n",
       "      <td>5.0</td>\n",
       "      <td>2.0</td>\n",
       "    </tr>\n",
       "    <tr>\n",
       "      <th>1</th>\n",
       "      <td>1.0</td>\n",
       "      <td>1</td>\n",
       "      <td>39.2</td>\n",
       "      <td>88.0</td>\n",
       "      <td>20.0</td>\n",
       "      <td>NaN</td>\n",
       "      <td>3.0</td>\n",
       "      <td>3.0</td>\n",
       "    </tr>\n",
       "    <tr>\n",
       "      <th>2</th>\n",
       "      <td>2.0</td>\n",
       "      <td>1</td>\n",
       "      <td>38.3</td>\n",
       "      <td>40.0</td>\n",
       "      <td>24.0</td>\n",
       "      <td>1.0</td>\n",
       "      <td>3.0</td>\n",
       "      <td>1.0</td>\n",
       "    </tr>\n",
       "    <tr>\n",
       "      <th>3</th>\n",
       "      <td>1.0</td>\n",
       "      <td>9</td>\n",
       "      <td>39.1</td>\n",
       "      <td>164.0</td>\n",
       "      <td>84.0</td>\n",
       "      <td>4.0</td>\n",
       "      <td>2.0</td>\n",
       "      <td>2.0</td>\n",
       "    </tr>\n",
       "    <tr>\n",
       "      <th>4</th>\n",
       "      <td>2.0</td>\n",
       "      <td>1</td>\n",
       "      <td>37.3</td>\n",
       "      <td>104.0</td>\n",
       "      <td>35.0</td>\n",
       "      <td>NaN</td>\n",
       "      <td>NaN</td>\n",
       "      <td>2.0</td>\n",
       "    </tr>\n",
       "    <tr>\n",
       "      <th>...</th>\n",
       "      <td>...</td>\n",
       "      <td>...</td>\n",
       "      <td>...</td>\n",
       "      <td>...</td>\n",
       "      <td>...</td>\n",
       "      <td>...</td>\n",
       "      <td>...</td>\n",
       "      <td>...</td>\n",
       "    </tr>\n",
       "    <tr>\n",
       "      <th>295</th>\n",
       "      <td>1.0</td>\n",
       "      <td>1</td>\n",
       "      <td>NaN</td>\n",
       "      <td>120.0</td>\n",
       "      <td>70.0</td>\n",
       "      <td>4.0</td>\n",
       "      <td>2.0</td>\n",
       "      <td>3.0</td>\n",
       "    </tr>\n",
       "    <tr>\n",
       "      <th>296</th>\n",
       "      <td>2.0</td>\n",
       "      <td>1</td>\n",
       "      <td>37.2</td>\n",
       "      <td>72.0</td>\n",
       "      <td>24.0</td>\n",
       "      <td>3.0</td>\n",
       "      <td>4.0</td>\n",
       "      <td>3.0</td>\n",
       "    </tr>\n",
       "    <tr>\n",
       "      <th>297</th>\n",
       "      <td>1.0</td>\n",
       "      <td>1</td>\n",
       "      <td>37.5</td>\n",
       "      <td>72.0</td>\n",
       "      <td>30.0</td>\n",
       "      <td>4.0</td>\n",
       "      <td>4.0</td>\n",
       "      <td>2.0</td>\n",
       "    </tr>\n",
       "    <tr>\n",
       "      <th>298</th>\n",
       "      <td>1.0</td>\n",
       "      <td>1</td>\n",
       "      <td>36.5</td>\n",
       "      <td>100.0</td>\n",
       "      <td>24.0</td>\n",
       "      <td>3.0</td>\n",
       "      <td>3.0</td>\n",
       "      <td>1.0</td>\n",
       "    </tr>\n",
       "    <tr>\n",
       "      <th>299</th>\n",
       "      <td>1.0</td>\n",
       "      <td>1</td>\n",
       "      <td>37.2</td>\n",
       "      <td>40.0</td>\n",
       "      <td>20.0</td>\n",
       "      <td>NaN</td>\n",
       "      <td>NaN</td>\n",
       "      <td>3.0</td>\n",
       "    </tr>\n",
       "  </tbody>\n",
       "</table>\n",
       "<p>300 rows × 8 columns</p>\n",
       "</div>"
      ],
      "text/plain": [
       "     surgery  age  rectal_temperature  pulse  respiratory_rate  \\\n",
       "0        2.0    1                38.5   66.0              28.0   \n",
       "1        1.0    1                39.2   88.0              20.0   \n",
       "2        2.0    1                38.3   40.0              24.0   \n",
       "3        1.0    9                39.1  164.0              84.0   \n",
       "4        2.0    1                37.3  104.0              35.0   \n",
       "..       ...  ...                 ...    ...               ...   \n",
       "295      1.0    1                 NaN  120.0              70.0   \n",
       "296      2.0    1                37.2   72.0              24.0   \n",
       "297      1.0    1                37.5   72.0              30.0   \n",
       "298      1.0    1                36.5  100.0              24.0   \n",
       "299      1.0    1                37.2   40.0              20.0   \n",
       "\n",
       "     temperature_of_extremities  pain  outcome  \n",
       "0                           3.0   5.0      2.0  \n",
       "1                           NaN   3.0      3.0  \n",
       "2                           1.0   3.0      1.0  \n",
       "3                           4.0   2.0      2.0  \n",
       "4                           NaN   NaN      2.0  \n",
       "..                          ...   ...      ...  \n",
       "295                         4.0   2.0      3.0  \n",
       "296                         3.0   4.0      3.0  \n",
       "297                         4.0   4.0      2.0  \n",
       "298                         3.0   3.0      1.0  \n",
       "299                         NaN   NaN      3.0  \n",
       "\n",
       "[300 rows x 8 columns]"
      ]
     },
     "execution_count": 2,
     "metadata": {},
     "output_type": "execute_result"
    }
   ],
   "source": [
    "horse_data = pd.read_csv('horse_data.csv', names = ['surgery', 'age', 'Hospital_Number', 'rectal_temperature',\\\n",
    "                                                    'pulse', 'respiratory_rate', 'temperature_of_extremities', \\\n",
    "                                                    'peripheral_pulse', 'mucous_membranes', 'capillary_refill_time', \\\n",
    "                                                    'pain', 'peristalsis', 'abdominal_distension', 'nasogastric_tube', \\\n",
    "                                                    'nasogastric_reflux', 'nasogastric_reflux_PH', 'rectal_examination_-_feces',\\\n",
    "                                                    'abdomen', 'packed_cell_volume', 'total_protein', \\\n",
    "                                                    'abdominocentesis_appearance', 'abdomcentesis_total_protein', 'outcome', \\\n",
    "                                                    'surgical_lesion?', 'site_of_lesion', 'type', 'specific_code', 'cp_data'], \\\n",
    "                         sep = ',', header=0, na_values='?')\n",
    "horse_data = horse_data[['surgery', 'age', 'rectal_temperature', 'pulse', 'respiratory_rate', 'temperature_of_extremities', \\\n",
    "                         'pain', 'outcome']]\n",
    "horse_data"
   ]
  },
  {
   "cell_type": "markdown",
   "metadata": {},
   "source": [
    "## Задание 2 Первичное изучение данных \n",
    "\n",
    "Проанализировать значения по столбцам, рассчитать базовые статистики, найти выбросы."
   ]
  },
  {
   "cell_type": "code",
   "execution_count": 3,
   "metadata": {},
   "outputs": [
    {
     "name": "stdout",
     "output_type": "stream",
     "text": [
      "[ 2.  1. nan]\n",
      "[1 9]\n",
      "[38.5 39.2 38.3 39.1 37.3  nan 37.9 38.1 37.2 38.  38.2 37.6 37.5 39.4\n",
      " 39.9 38.4 38.6 37.8 37.7 39.  35.4 38.9 37.4 40.3 37.  39.7 38.7 36.4\n",
      " 38.8 39.6 36.8 39.5 36.5 36.  37.1 39.3 36.1 36.6 40.8 36.9 40. ]\n",
      "[ 66.  88.  40. 164. 104.  nan  48.  60.  80.  90.  72.  42.  92.  76.\n",
      "  96. 128.  64. 110. 130. 108. 100. 112.  52. 146. 150. 120. 140.  84.\n",
      "  46. 114. 160.  54.  56.  38.  98.  50.  44.  70.  78.  49.  30. 136.\n",
      " 132.  65.  86. 129.  68.  36.  45. 124. 184.  75.  82.]\n",
      "[28. 20. 24. 84. 35. nan 16. 36. 12. 52. 48. 21. 60. 34. 42. 30. 96. 72.\n",
      " 15. 44. 32. 22. 18. 80. 40. 10. 51. 68. 66.  9. 14. 90.  8. 23. 58. 13.\n",
      " 70. 26. 88. 25. 50.]\n",
      "[ 3. nan  1.  4.  2.]\n",
      "[ 5.  3.  2. nan  4.  1.]\n",
      "[ 2.  3.  1. nan]\n"
     ]
    }
   ],
   "source": [
    "# Уникальные значения столбцов\n",
    "print(horse_data['surgery'].unique())\n",
    "print(horse_data['age'].unique())\n",
    "print(horse_data['rectal_temperature'].unique())\n",
    "print(horse_data['pulse'].unique())\n",
    "print(horse_data['respiratory_rate'].unique())\n",
    "print(horse_data['temperature_of_extremities'].unique())\n",
    "print(horse_data['pain'].unique())\n",
    "print(horse_data['outcome'].unique())"
   ]
  },
  {
   "cell_type": "markdown",
   "metadata": {},
   "source": [
    "#### Касательно столбца \"Возраст\"\n",
    "Исходя из полученных данных методом \"value_counts()\" (значение '9' встречается 24 раза) и наличие 2-х категорий ('1' и '2') по данному столбцу (из описания столбцов), имею основания полагать, что значение '9' соответствует категории '2' (в описании столбцов). Заменяю все значения '9' на '2', сделав вывод, что '9' - это техническая ошибка."
   ]
  },
  {
   "cell_type": "code",
   "execution_count": 4,
   "metadata": {},
   "outputs": [
    {
     "data": {
      "text/html": [
       "<div>\n",
       "<style scoped>\n",
       "    .dataframe tbody tr th:only-of-type {\n",
       "        vertical-align: middle;\n",
       "    }\n",
       "\n",
       "    .dataframe tbody tr th {\n",
       "        vertical-align: top;\n",
       "    }\n",
       "\n",
       "    .dataframe thead th {\n",
       "        text-align: right;\n",
       "    }\n",
       "</style>\n",
       "<table border=\"1\" class=\"dataframe\">\n",
       "  <thead>\n",
       "    <tr style=\"text-align: right;\">\n",
       "      <th></th>\n",
       "      <th>surgery</th>\n",
       "      <th>age</th>\n",
       "      <th>rectal_temperature</th>\n",
       "      <th>pulse</th>\n",
       "      <th>respiratory_rate</th>\n",
       "      <th>temperature_of_extremities</th>\n",
       "      <th>pain</th>\n",
       "      <th>outcome</th>\n",
       "    </tr>\n",
       "  </thead>\n",
       "  <tbody>\n",
       "    <tr>\n",
       "      <th>0</th>\n",
       "      <td>2.0</td>\n",
       "      <td>1</td>\n",
       "      <td>38.5</td>\n",
       "      <td>66.0</td>\n",
       "      <td>28.0</td>\n",
       "      <td>3.0</td>\n",
       "      <td>5.0</td>\n",
       "      <td>2.0</td>\n",
       "    </tr>\n",
       "    <tr>\n",
       "      <th>1</th>\n",
       "      <td>1.0</td>\n",
       "      <td>1</td>\n",
       "      <td>39.2</td>\n",
       "      <td>88.0</td>\n",
       "      <td>20.0</td>\n",
       "      <td>NaN</td>\n",
       "      <td>3.0</td>\n",
       "      <td>3.0</td>\n",
       "    </tr>\n",
       "    <tr>\n",
       "      <th>2</th>\n",
       "      <td>2.0</td>\n",
       "      <td>1</td>\n",
       "      <td>38.3</td>\n",
       "      <td>40.0</td>\n",
       "      <td>24.0</td>\n",
       "      <td>1.0</td>\n",
       "      <td>3.0</td>\n",
       "      <td>1.0</td>\n",
       "    </tr>\n",
       "    <tr>\n",
       "      <th>3</th>\n",
       "      <td>1.0</td>\n",
       "      <td>2</td>\n",
       "      <td>39.1</td>\n",
       "      <td>164.0</td>\n",
       "      <td>84.0</td>\n",
       "      <td>4.0</td>\n",
       "      <td>2.0</td>\n",
       "      <td>2.0</td>\n",
       "    </tr>\n",
       "    <tr>\n",
       "      <th>4</th>\n",
       "      <td>2.0</td>\n",
       "      <td>1</td>\n",
       "      <td>37.3</td>\n",
       "      <td>104.0</td>\n",
       "      <td>35.0</td>\n",
       "      <td>NaN</td>\n",
       "      <td>NaN</td>\n",
       "      <td>2.0</td>\n",
       "    </tr>\n",
       "    <tr>\n",
       "      <th>...</th>\n",
       "      <td>...</td>\n",
       "      <td>...</td>\n",
       "      <td>...</td>\n",
       "      <td>...</td>\n",
       "      <td>...</td>\n",
       "      <td>...</td>\n",
       "      <td>...</td>\n",
       "      <td>...</td>\n",
       "    </tr>\n",
       "    <tr>\n",
       "      <th>295</th>\n",
       "      <td>1.0</td>\n",
       "      <td>1</td>\n",
       "      <td>NaN</td>\n",
       "      <td>120.0</td>\n",
       "      <td>70.0</td>\n",
       "      <td>4.0</td>\n",
       "      <td>2.0</td>\n",
       "      <td>3.0</td>\n",
       "    </tr>\n",
       "    <tr>\n",
       "      <th>296</th>\n",
       "      <td>2.0</td>\n",
       "      <td>1</td>\n",
       "      <td>37.2</td>\n",
       "      <td>72.0</td>\n",
       "      <td>24.0</td>\n",
       "      <td>3.0</td>\n",
       "      <td>4.0</td>\n",
       "      <td>3.0</td>\n",
       "    </tr>\n",
       "    <tr>\n",
       "      <th>297</th>\n",
       "      <td>1.0</td>\n",
       "      <td>1</td>\n",
       "      <td>37.5</td>\n",
       "      <td>72.0</td>\n",
       "      <td>30.0</td>\n",
       "      <td>4.0</td>\n",
       "      <td>4.0</td>\n",
       "      <td>2.0</td>\n",
       "    </tr>\n",
       "    <tr>\n",
       "      <th>298</th>\n",
       "      <td>1.0</td>\n",
       "      <td>1</td>\n",
       "      <td>36.5</td>\n",
       "      <td>100.0</td>\n",
       "      <td>24.0</td>\n",
       "      <td>3.0</td>\n",
       "      <td>3.0</td>\n",
       "      <td>1.0</td>\n",
       "    </tr>\n",
       "    <tr>\n",
       "      <th>299</th>\n",
       "      <td>1.0</td>\n",
       "      <td>1</td>\n",
       "      <td>37.2</td>\n",
       "      <td>40.0</td>\n",
       "      <td>20.0</td>\n",
       "      <td>NaN</td>\n",
       "      <td>NaN</td>\n",
       "      <td>3.0</td>\n",
       "    </tr>\n",
       "  </tbody>\n",
       "</table>\n",
       "<p>300 rows × 8 columns</p>\n",
       "</div>"
      ],
      "text/plain": [
       "     surgery  age  rectal_temperature  pulse  respiratory_rate  \\\n",
       "0        2.0    1                38.5   66.0              28.0   \n",
       "1        1.0    1                39.2   88.0              20.0   \n",
       "2        2.0    1                38.3   40.0              24.0   \n",
       "3        1.0    2                39.1  164.0              84.0   \n",
       "4        2.0    1                37.3  104.0              35.0   \n",
       "..       ...  ...                 ...    ...               ...   \n",
       "295      1.0    1                 NaN  120.0              70.0   \n",
       "296      2.0    1                37.2   72.0              24.0   \n",
       "297      1.0    1                37.5   72.0              30.0   \n",
       "298      1.0    1                36.5  100.0              24.0   \n",
       "299      1.0    1                37.2   40.0              20.0   \n",
       "\n",
       "     temperature_of_extremities  pain  outcome  \n",
       "0                           3.0   5.0      2.0  \n",
       "1                           NaN   3.0      3.0  \n",
       "2                           1.0   3.0      1.0  \n",
       "3                           4.0   2.0      2.0  \n",
       "4                           NaN   NaN      2.0  \n",
       "..                          ...   ...      ...  \n",
       "295                         4.0   2.0      3.0  \n",
       "296                         3.0   4.0      3.0  \n",
       "297                         4.0   4.0      2.0  \n",
       "298                         3.0   3.0      1.0  \n",
       "299                         NaN   NaN      3.0  \n",
       "\n",
       "[300 rows x 8 columns]"
      ]
     },
     "execution_count": 4,
     "metadata": {},
     "output_type": "execute_result"
    }
   ],
   "source": [
    "horse_data['age'] = horse_data.age.apply(lambda x: 2 if x == 9 else x)\n",
    "horse_data"
   ]
  },
  {
   "cell_type": "code",
   "execution_count": 5,
   "metadata": {},
   "outputs": [
    {
     "data": {
      "text/plain": [
       "1    276\n",
       "2     24\n",
       "Name: age, dtype: int64"
      ]
     },
     "execution_count": 5,
     "metadata": {},
     "output_type": "execute_result"
    }
   ],
   "source": [
    "horse_data['age'].value_counts()"
   ]
  },
  {
   "cell_type": "markdown",
   "metadata": {},
   "source": [
    "### Основные базовые статистики:"
   ]
  },
  {
   "cell_type": "code",
   "execution_count": 6,
   "metadata": {},
   "outputs": [
    {
     "data": {
      "text/html": [
       "<div>\n",
       "<style scoped>\n",
       "    .dataframe tbody tr th:only-of-type {\n",
       "        vertical-align: middle;\n",
       "    }\n",
       "\n",
       "    .dataframe tbody tr th {\n",
       "        vertical-align: top;\n",
       "    }\n",
       "\n",
       "    .dataframe thead th {\n",
       "        text-align: right;\n",
       "    }\n",
       "</style>\n",
       "<table border=\"1\" class=\"dataframe\">\n",
       "  <thead>\n",
       "    <tr style=\"text-align: right;\">\n",
       "      <th></th>\n",
       "      <th>surgery</th>\n",
       "      <th>age</th>\n",
       "      <th>rectal_temperature</th>\n",
       "      <th>pulse</th>\n",
       "      <th>respiratory_rate</th>\n",
       "      <th>temperature_of_extremities</th>\n",
       "      <th>pain</th>\n",
       "      <th>outcome</th>\n",
       "    </tr>\n",
       "  </thead>\n",
       "  <tbody>\n",
       "    <tr>\n",
       "      <th>count</th>\n",
       "      <td>299.000000</td>\n",
       "      <td>300.000000</td>\n",
       "      <td>240.000000</td>\n",
       "      <td>276.000000</td>\n",
       "      <td>242.000000</td>\n",
       "      <td>244.000000</td>\n",
       "      <td>245.00000</td>\n",
       "      <td>299.000000</td>\n",
       "    </tr>\n",
       "    <tr>\n",
       "      <th>mean</th>\n",
       "      <td>1.397993</td>\n",
       "      <td>1.080000</td>\n",
       "      <td>38.167917</td>\n",
       "      <td>71.913043</td>\n",
       "      <td>30.417355</td>\n",
       "      <td>2.348361</td>\n",
       "      <td>2.95102</td>\n",
       "      <td>1.551839</td>\n",
       "    </tr>\n",
       "    <tr>\n",
       "      <th>std</th>\n",
       "      <td>0.490305</td>\n",
       "      <td>0.271746</td>\n",
       "      <td>0.732289</td>\n",
       "      <td>28.630557</td>\n",
       "      <td>17.642231</td>\n",
       "      <td>1.045054</td>\n",
       "      <td>1.30794</td>\n",
       "      <td>0.737187</td>\n",
       "    </tr>\n",
       "    <tr>\n",
       "      <th>min</th>\n",
       "      <td>1.000000</td>\n",
       "      <td>1.000000</td>\n",
       "      <td>35.400000</td>\n",
       "      <td>30.000000</td>\n",
       "      <td>8.000000</td>\n",
       "      <td>1.000000</td>\n",
       "      <td>1.00000</td>\n",
       "      <td>1.000000</td>\n",
       "    </tr>\n",
       "    <tr>\n",
       "      <th>25%</th>\n",
       "      <td>1.000000</td>\n",
       "      <td>1.000000</td>\n",
       "      <td>37.800000</td>\n",
       "      <td>48.000000</td>\n",
       "      <td>18.500000</td>\n",
       "      <td>1.000000</td>\n",
       "      <td>2.00000</td>\n",
       "      <td>1.000000</td>\n",
       "    </tr>\n",
       "    <tr>\n",
       "      <th>50%</th>\n",
       "      <td>1.000000</td>\n",
       "      <td>1.000000</td>\n",
       "      <td>38.200000</td>\n",
       "      <td>64.000000</td>\n",
       "      <td>24.500000</td>\n",
       "      <td>3.000000</td>\n",
       "      <td>3.00000</td>\n",
       "      <td>1.000000</td>\n",
       "    </tr>\n",
       "    <tr>\n",
       "      <th>75%</th>\n",
       "      <td>2.000000</td>\n",
       "      <td>1.000000</td>\n",
       "      <td>38.500000</td>\n",
       "      <td>88.000000</td>\n",
       "      <td>36.000000</td>\n",
       "      <td>3.000000</td>\n",
       "      <td>4.00000</td>\n",
       "      <td>2.000000</td>\n",
       "    </tr>\n",
       "    <tr>\n",
       "      <th>max</th>\n",
       "      <td>2.000000</td>\n",
       "      <td>2.000000</td>\n",
       "      <td>40.800000</td>\n",
       "      <td>184.000000</td>\n",
       "      <td>96.000000</td>\n",
       "      <td>4.000000</td>\n",
       "      <td>5.00000</td>\n",
       "      <td>3.000000</td>\n",
       "    </tr>\n",
       "  </tbody>\n",
       "</table>\n",
       "</div>"
      ],
      "text/plain": [
       "          surgery         age  rectal_temperature       pulse  \\\n",
       "count  299.000000  300.000000          240.000000  276.000000   \n",
       "mean     1.397993    1.080000           38.167917   71.913043   \n",
       "std      0.490305    0.271746            0.732289   28.630557   \n",
       "min      1.000000    1.000000           35.400000   30.000000   \n",
       "25%      1.000000    1.000000           37.800000   48.000000   \n",
       "50%      1.000000    1.000000           38.200000   64.000000   \n",
       "75%      2.000000    1.000000           38.500000   88.000000   \n",
       "max      2.000000    2.000000           40.800000  184.000000   \n",
       "\n",
       "       respiratory_rate  temperature_of_extremities       pain     outcome  \n",
       "count        242.000000                  244.000000  245.00000  299.000000  \n",
       "mean          30.417355                    2.348361    2.95102    1.551839  \n",
       "std           17.642231                    1.045054    1.30794    0.737187  \n",
       "min            8.000000                    1.000000    1.00000    1.000000  \n",
       "25%           18.500000                    1.000000    2.00000    1.000000  \n",
       "50%           24.500000                    3.000000    3.00000    1.000000  \n",
       "75%           36.000000                    3.000000    4.00000    2.000000  \n",
       "max           96.000000                    4.000000    5.00000    3.000000  "
      ]
     },
     "execution_count": 6,
     "metadata": {},
     "output_type": "execute_result"
    }
   ],
   "source": [
    "horse_data.describe()"
   ]
  },
  {
   "cell_type": "markdown",
   "metadata": {},
   "source": [
    "### Моды:"
   ]
  },
  {
   "cell_type": "code",
   "execution_count": 7,
   "metadata": {},
   "outputs": [
    {
     "name": "stdout",
     "output_type": "stream",
     "text": [
      "Операция: 1.0\n",
      "Возраст: 1\n",
      "Ректальная температура: 38.0\n",
      "Пульс: 48.0\n",
      "Частота дыхания: 20.0\n",
      "Температура конечностей: 3.0\n",
      "Боль: 3.0\n",
      "Результат: 1.0\n"
     ]
    }
   ],
   "source": [
    "# Моды\n",
    "print('Операция:', horse_data['surgery'].mode()[0])\n",
    "print('Возраст:', horse_data['age'].mode()[0])\n",
    "print('Ректальная температура:', horse_data['rectal_temperature'].mode()[0])\n",
    "print('Пульс:', horse_data['pulse'].mode()[0])\n",
    "print('Частота дыхания:', horse_data['respiratory_rate'].mode()[0])\n",
    "print('Температура конечностей:', horse_data['temperature_of_extremities'].mode()[0])\n",
    "print('Боль:', horse_data['pain'].mode()[0])\n",
    "print('Результат:', horse_data['outcome'].mode()[0])"
   ]
  },
  {
   "cell_type": "markdown",
   "metadata": {},
   "source": [
    "### Дисперсии:"
   ]
  },
  {
   "cell_type": "code",
   "execution_count": 8,
   "metadata": {},
   "outputs": [
    {
     "name": "stdout",
     "output_type": "stream",
     "text": [
      "Операция: 0.24039864425040888\n",
      "Возраст: 0.07384615384615334\n",
      "Ректальная температура: 0.5362466875871686\n",
      "Пульс: 819.7087747035575\n",
      "Частота дыхания: 311.24832824663054\n",
      "Температура конечностей: 1.0921372191863987\n",
      "Боль: 1.710705921712949\n",
      "Результат: 0.5434445915916574\n"
     ]
    }
   ],
   "source": [
    "# Дисперсии\n",
    "print('Операция:', horse_data['surgery'].var())\n",
    "print('Возраст:', horse_data['age'].var())\n",
    "print('Ректальная температура:', horse_data['rectal_temperature'].var())\n",
    "print('Пульс:', horse_data['pulse'].var())\n",
    "print('Частота дыхания:', horse_data['respiratory_rate'].var())\n",
    "print('Температура конечностей:', horse_data['temperature_of_extremities'].var())\n",
    "print('Боль:', horse_data['pain'].var())\n",
    "print('Результат:', horse_data['outcome'].var())"
   ]
  },
  {
   "cell_type": "markdown",
   "metadata": {},
   "source": [
    "### Межквартильные размахи"
   ]
  },
  {
   "cell_type": "code",
   "execution_count": 9,
   "metadata": {},
   "outputs": [
    {
     "name": "stdout",
     "output_type": "stream",
     "text": [
      "Операция: 1.0\n",
      "Возраст: 0.0\n",
      "Ректальная температура: 0.7000000000000028\n",
      "Пульс: 40.0\n",
      "Частота дыхания: 17.5\n",
      "Температура конечностей: 2.0\n",
      "Боль: 2.0\n",
      "Результат: 1.0\n"
     ]
    }
   ],
   "source": [
    "Q1_surgery = horse_data['surgery'].quantile(0.25)\n",
    "Q3_surgery = horse_data['surgery'].quantile(0.75)\n",
    "IQR_surgery = Q3_surgery - Q1_surgery\n",
    "print('Операция:', IQR_surgery)\n",
    "\n",
    "Q1_age = horse_data['age'].quantile(0.25)\n",
    "Q3_age = horse_data['age'].quantile(0.75)\n",
    "IQR_age = Q3_age - Q1_age\n",
    "print('Возраст:', IQR_age)\n",
    "\n",
    "Q1_rectal_temperature = horse_data['rectal_temperature'].quantile(0.25)\n",
    "Q3_rectal_temperature = horse_data['rectal_temperature'].quantile(0.75)\n",
    "IQR_rectal_temperature = Q3_rectal_temperature - Q1_rectal_temperature\n",
    "print('Ректальная температура:', IQR_rectal_temperature)\n",
    "\n",
    "Q1_pulse = horse_data['pulse'].quantile(0.25)\n",
    "Q3_pulse = horse_data['pulse'].quantile(0.75)\n",
    "IQR_pulse = Q3_pulse - Q1_pulse\n",
    "print('Пульс:', IQR_pulse)\n",
    "\n",
    "Q1_respiratory_rate = horse_data['respiratory_rate'].quantile(0.25)\n",
    "Q3_respiratory_rate = horse_data['respiratory_rate'].quantile(0.75)\n",
    "IQR_respiratory_rate = Q3_respiratory_rate - Q1_respiratory_rate\n",
    "print('Частота дыхания:', IQR_respiratory_rate)\n",
    "\n",
    "Q1_temperature_of_extremities = horse_data['temperature_of_extremities'].quantile(0.25)\n",
    "Q3_temperature_of_extremities = horse_data['temperature_of_extremities'].quantile(0.75)\n",
    "IQR_temperature_of_extremities = Q3_temperature_of_extremities - Q1_temperature_of_extremities\n",
    "print('Температура конечностей:', IQR_temperature_of_extremities)\n",
    "\n",
    "Q1_pain = horse_data['pain'].quantile(0.25)\n",
    "Q3_pain = horse_data['pain'].quantile(0.75)\n",
    "IQR_pain = Q3_pain - Q1_pain\n",
    "print('Боль:', IQR_pain)\n",
    "\n",
    "Q1_outcome = horse_data['outcome'].quantile(0.25)\n",
    "Q3_outcome = horse_data['outcome'].quantile(0.75)\n",
    "IQR_outcome = Q3_outcome - Q1_outcome\n",
    "print('Результат:', IQR_outcome)"
   ]
  },
  {
   "cell_type": "markdown",
   "metadata": {},
   "source": [
    "### Выбросы:"
   ]
  },
  {
   "cell_type": "code",
   "execution_count": 10,
   "metadata": {},
   "outputs": [
    {
     "data": {
      "text/html": [
       "<div>\n",
       "<style scoped>\n",
       "    .dataframe tbody tr th:only-of-type {\n",
       "        vertical-align: middle;\n",
       "    }\n",
       "\n",
       "    .dataframe tbody tr th {\n",
       "        vertical-align: top;\n",
       "    }\n",
       "\n",
       "    .dataframe thead th {\n",
       "        text-align: right;\n",
       "    }\n",
       "</style>\n",
       "<table border=\"1\" class=\"dataframe\">\n",
       "  <thead>\n",
       "    <tr style=\"text-align: right;\">\n",
       "      <th></th>\n",
       "      <th>surgery</th>\n",
       "      <th>age</th>\n",
       "      <th>rectal_temperature</th>\n",
       "      <th>pulse</th>\n",
       "      <th>respiratory_rate</th>\n",
       "      <th>temperature_of_extremities</th>\n",
       "      <th>pain</th>\n",
       "      <th>outcome</th>\n",
       "    </tr>\n",
       "  </thead>\n",
       "  <tbody>\n",
       "    <tr>\n",
       "      <th>132</th>\n",
       "      <td>NaN</td>\n",
       "      <td>1</td>\n",
       "      <td>38.0</td>\n",
       "      <td>48.0</td>\n",
       "      <td>20.0</td>\n",
       "      <td>3.0</td>\n",
       "      <td>4.0</td>\n",
       "      <td>NaN</td>\n",
       "    </tr>\n",
       "  </tbody>\n",
       "</table>\n",
       "</div>"
      ],
      "text/plain": [
       "     surgery  age  rectal_temperature  pulse  respiratory_rate  \\\n",
       "132      NaN    1                38.0   48.0              20.0   \n",
       "\n",
       "     temperature_of_extremities  pain  outcome  \n",
       "132                         3.0   4.0      NaN  "
      ]
     },
     "execution_count": 10,
     "metadata": {},
     "output_type": "execute_result"
    }
   ],
   "source": [
    "lower_bound_surgery = Q1_surgery - (1.5 * IQR_surgery) \n",
    "upper_bound_surgery = Q3_surgery + (1.5 * IQR_surgery)\n",
    "remove_outliers_surgery = horse_data[horse_data['surgery']\\\n",
    "                        .between(lower_bound_surgery, upper_bound_surgery, inclusive=True)].sort_values('outcome')\n",
    "outliers_surgery = pd.concat([horse_data, remove_outliers_surgery]).drop_duplicates(keep=False)\n",
    "outliers_surgery.head()"
   ]
  },
  {
   "cell_type": "code",
   "execution_count": 11,
   "metadata": {},
   "outputs": [
    {
     "data": {
      "text/html": [
       "<div>\n",
       "<style scoped>\n",
       "    .dataframe tbody tr th:only-of-type {\n",
       "        vertical-align: middle;\n",
       "    }\n",
       "\n",
       "    .dataframe tbody tr th {\n",
       "        vertical-align: top;\n",
       "    }\n",
       "\n",
       "    .dataframe thead th {\n",
       "        text-align: right;\n",
       "    }\n",
       "</style>\n",
       "<table border=\"1\" class=\"dataframe\">\n",
       "  <thead>\n",
       "    <tr style=\"text-align: right;\">\n",
       "      <th></th>\n",
       "      <th>surgery</th>\n",
       "      <th>age</th>\n",
       "      <th>rectal_temperature</th>\n",
       "      <th>pulse</th>\n",
       "      <th>respiratory_rate</th>\n",
       "      <th>temperature_of_extremities</th>\n",
       "      <th>pain</th>\n",
       "      <th>outcome</th>\n",
       "    </tr>\n",
       "  </thead>\n",
       "  <tbody>\n",
       "    <tr>\n",
       "      <th>3</th>\n",
       "      <td>1.0</td>\n",
       "      <td>2</td>\n",
       "      <td>39.1</td>\n",
       "      <td>164.0</td>\n",
       "      <td>84.0</td>\n",
       "      <td>4.0</td>\n",
       "      <td>2.0</td>\n",
       "      <td>2.0</td>\n",
       "    </tr>\n",
       "    <tr>\n",
       "      <th>9</th>\n",
       "      <td>2.0</td>\n",
       "      <td>2</td>\n",
       "      <td>38.3</td>\n",
       "      <td>90.0</td>\n",
       "      <td>NaN</td>\n",
       "      <td>1.0</td>\n",
       "      <td>5.0</td>\n",
       "      <td>1.0</td>\n",
       "    </tr>\n",
       "    <tr>\n",
       "      <th>13</th>\n",
       "      <td>2.0</td>\n",
       "      <td>2</td>\n",
       "      <td>38.0</td>\n",
       "      <td>92.0</td>\n",
       "      <td>28.0</td>\n",
       "      <td>1.0</td>\n",
       "      <td>1.0</td>\n",
       "      <td>2.0</td>\n",
       "    </tr>\n",
       "    <tr>\n",
       "      <th>16</th>\n",
       "      <td>1.0</td>\n",
       "      <td>2</td>\n",
       "      <td>NaN</td>\n",
       "      <td>128.0</td>\n",
       "      <td>36.0</td>\n",
       "      <td>3.0</td>\n",
       "      <td>4.0</td>\n",
       "      <td>2.0</td>\n",
       "    </tr>\n",
       "    <tr>\n",
       "      <th>23</th>\n",
       "      <td>1.0</td>\n",
       "      <td>2</td>\n",
       "      <td>38.3</td>\n",
       "      <td>130.0</td>\n",
       "      <td>60.0</td>\n",
       "      <td>NaN</td>\n",
       "      <td>2.0</td>\n",
       "      <td>1.0</td>\n",
       "    </tr>\n",
       "  </tbody>\n",
       "</table>\n",
       "</div>"
      ],
      "text/plain": [
       "    surgery  age  rectal_temperature  pulse  respiratory_rate  \\\n",
       "3       1.0    2                39.1  164.0              84.0   \n",
       "9       2.0    2                38.3   90.0               NaN   \n",
       "13      2.0    2                38.0   92.0              28.0   \n",
       "16      1.0    2                 NaN  128.0              36.0   \n",
       "23      1.0    2                38.3  130.0              60.0   \n",
       "\n",
       "    temperature_of_extremities  pain  outcome  \n",
       "3                          4.0   2.0      2.0  \n",
       "9                          1.0   5.0      1.0  \n",
       "13                         1.0   1.0      2.0  \n",
       "16                         3.0   4.0      2.0  \n",
       "23                         NaN   2.0      1.0  "
      ]
     },
     "execution_count": 11,
     "metadata": {},
     "output_type": "execute_result"
    }
   ],
   "source": [
    "lower_bound_age = Q1_age - (1.5 * IQR_age) \n",
    "upper_bound_age = Q3_age + (1.5 * IQR_age)\n",
    "remove_outliers_age = horse_data[horse_data['age']\\\n",
    "                        .between(lower_bound_age, upper_bound_age, inclusive=True)].sort_values('outcome')\n",
    "outliers_age = pd.concat([horse_data, remove_outliers_age]).drop_duplicates(keep=False)\n",
    "outliers_age.head()"
   ]
  },
  {
   "cell_type": "code",
   "execution_count": 12,
   "metadata": {},
   "outputs": [
    {
     "data": {
      "text/plain": [
       "2    24\n",
       "Name: age, dtype: int64"
      ]
     },
     "execution_count": 12,
     "metadata": {},
     "output_type": "execute_result"
    }
   ],
   "source": [
    "outliers_age['age'].value_counts()"
   ]
  },
  {
   "cell_type": "code",
   "execution_count": 13,
   "metadata": {},
   "outputs": [
    {
     "data": {
      "text/html": [
       "<div>\n",
       "<style scoped>\n",
       "    .dataframe tbody tr th:only-of-type {\n",
       "        vertical-align: middle;\n",
       "    }\n",
       "\n",
       "    .dataframe tbody tr th {\n",
       "        vertical-align: top;\n",
       "    }\n",
       "\n",
       "    .dataframe thead th {\n",
       "        text-align: right;\n",
       "    }\n",
       "</style>\n",
       "<table border=\"1\" class=\"dataframe\">\n",
       "  <thead>\n",
       "    <tr style=\"text-align: right;\">\n",
       "      <th></th>\n",
       "      <th>surgery</th>\n",
       "      <th>age</th>\n",
       "      <th>rectal_temperature</th>\n",
       "      <th>pulse</th>\n",
       "      <th>respiratory_rate</th>\n",
       "      <th>temperature_of_extremities</th>\n",
       "      <th>pain</th>\n",
       "      <th>outcome</th>\n",
       "    </tr>\n",
       "  </thead>\n",
       "  <tbody>\n",
       "    <tr>\n",
       "      <th>5</th>\n",
       "      <td>2.0</td>\n",
       "      <td>1</td>\n",
       "      <td>NaN</td>\n",
       "      <td>NaN</td>\n",
       "      <td>NaN</td>\n",
       "      <td>2.0</td>\n",
       "      <td>2.0</td>\n",
       "      <td>1.0</td>\n",
       "    </tr>\n",
       "    <tr>\n",
       "      <th>7</th>\n",
       "      <td>1.0</td>\n",
       "      <td>1</td>\n",
       "      <td>NaN</td>\n",
       "      <td>60.0</td>\n",
       "      <td>NaN</td>\n",
       "      <td>3.0</td>\n",
       "      <td>NaN</td>\n",
       "      <td>2.0</td>\n",
       "    </tr>\n",
       "    <tr>\n",
       "      <th>8</th>\n",
       "      <td>2.0</td>\n",
       "      <td>1</td>\n",
       "      <td>NaN</td>\n",
       "      <td>80.0</td>\n",
       "      <td>36.0</td>\n",
       "      <td>3.0</td>\n",
       "      <td>4.0</td>\n",
       "      <td>3.0</td>\n",
       "    </tr>\n",
       "    <tr>\n",
       "      <th>16</th>\n",
       "      <td>1.0</td>\n",
       "      <td>2</td>\n",
       "      <td>NaN</td>\n",
       "      <td>128.0</td>\n",
       "      <td>36.0</td>\n",
       "      <td>3.0</td>\n",
       "      <td>4.0</td>\n",
       "      <td>2.0</td>\n",
       "    </tr>\n",
       "    <tr>\n",
       "      <th>20</th>\n",
       "      <td>1.0</td>\n",
       "      <td>1</td>\n",
       "      <td>39.9</td>\n",
       "      <td>72.0</td>\n",
       "      <td>60.0</td>\n",
       "      <td>1.0</td>\n",
       "      <td>5.0</td>\n",
       "      <td>1.0</td>\n",
       "    </tr>\n",
       "  </tbody>\n",
       "</table>\n",
       "</div>"
      ],
      "text/plain": [
       "    surgery  age  rectal_temperature  pulse  respiratory_rate  \\\n",
       "5       2.0    1                 NaN    NaN               NaN   \n",
       "7       1.0    1                 NaN   60.0               NaN   \n",
       "8       2.0    1                 NaN   80.0              36.0   \n",
       "16      1.0    2                 NaN  128.0              36.0   \n",
       "20      1.0    1                39.9   72.0              60.0   \n",
       "\n",
       "    temperature_of_extremities  pain  outcome  \n",
       "5                          2.0   2.0      1.0  \n",
       "7                          3.0   NaN      2.0  \n",
       "8                          3.0   4.0      3.0  \n",
       "16                         3.0   4.0      2.0  \n",
       "20                         1.0   5.0      1.0  "
      ]
     },
     "execution_count": 13,
     "metadata": {},
     "output_type": "execute_result"
    }
   ],
   "source": [
    "lower_bound_rectal_temperature = Q1_rectal_temperature - (1.5 * IQR_rectal_temperature) \n",
    "upper_bound_rectal_temperature = Q3_rectal_temperature + (1.5 * IQR_rectal_temperature)\n",
    "remove_outliers_rectal_temperature = horse_data[horse_data['rectal_temperature']\\\n",
    "                                     .between(lower_bound_rectal_temperature, upper_bound_rectal_temperature, inclusive=True)]\\\n",
    "                                     .sort_values('outcome')\n",
    "outliers_rectal_temperature = pd.concat([horse_data, remove_outliers_rectal_temperature]).drop_duplicates(keep=False)\n",
    "outliers_rectal_temperature.head()"
   ]
  },
  {
   "cell_type": "code",
   "execution_count": 14,
   "metadata": {},
   "outputs": [
    {
     "data": {
      "text/plain": [
       "40.3    2\n",
       "36.5    2\n",
       "36.1    1\n",
       "36.4    1\n",
       "35.4    1\n",
       "39.6    1\n",
       "39.9    1\n",
       "40.8    1\n",
       "39.7    1\n",
       "36.6    1\n",
       "40.0    1\n",
       "36.0    1\n",
       "Name: rectal_temperature, dtype: int64"
      ]
     },
     "execution_count": 14,
     "metadata": {},
     "output_type": "execute_result"
    }
   ],
   "source": [
    "outliers_rectal_temperature['rectal_temperature'].value_counts()"
   ]
  },
  {
   "cell_type": "code",
   "execution_count": 15,
   "metadata": {},
   "outputs": [
    {
     "data": {
      "text/html": [
       "<div>\n",
       "<style scoped>\n",
       "    .dataframe tbody tr th:only-of-type {\n",
       "        vertical-align: middle;\n",
       "    }\n",
       "\n",
       "    .dataframe tbody tr th {\n",
       "        vertical-align: top;\n",
       "    }\n",
       "\n",
       "    .dataframe thead th {\n",
       "        text-align: right;\n",
       "    }\n",
       "</style>\n",
       "<table border=\"1\" class=\"dataframe\">\n",
       "  <thead>\n",
       "    <tr style=\"text-align: right;\">\n",
       "      <th></th>\n",
       "      <th>surgery</th>\n",
       "      <th>age</th>\n",
       "      <th>rectal_temperature</th>\n",
       "      <th>pulse</th>\n",
       "      <th>respiratory_rate</th>\n",
       "      <th>temperature_of_extremities</th>\n",
       "      <th>pain</th>\n",
       "      <th>outcome</th>\n",
       "    </tr>\n",
       "  </thead>\n",
       "  <tbody>\n",
       "    <tr>\n",
       "      <th>3</th>\n",
       "      <td>1.0</td>\n",
       "      <td>2</td>\n",
       "      <td>39.1</td>\n",
       "      <td>164.0</td>\n",
       "      <td>84.0</td>\n",
       "      <td>4.0</td>\n",
       "      <td>2.0</td>\n",
       "      <td>2.0</td>\n",
       "    </tr>\n",
       "    <tr>\n",
       "      <th>5</th>\n",
       "      <td>2.0</td>\n",
       "      <td>1</td>\n",
       "      <td>NaN</td>\n",
       "      <td>NaN</td>\n",
       "      <td>NaN</td>\n",
       "      <td>2.0</td>\n",
       "      <td>2.0</td>\n",
       "      <td>1.0</td>\n",
       "    </tr>\n",
       "    <tr>\n",
       "      <th>41</th>\n",
       "      <td>2.0</td>\n",
       "      <td>2</td>\n",
       "      <td>39.0</td>\n",
       "      <td>150.0</td>\n",
       "      <td>72.0</td>\n",
       "      <td>NaN</td>\n",
       "      <td>NaN</td>\n",
       "      <td>1.0</td>\n",
       "    </tr>\n",
       "    <tr>\n",
       "      <th>52</th>\n",
       "      <td>2.0</td>\n",
       "      <td>1</td>\n",
       "      <td>NaN</td>\n",
       "      <td>NaN</td>\n",
       "      <td>NaN</td>\n",
       "      <td>1.0</td>\n",
       "      <td>1.0</td>\n",
       "      <td>1.0</td>\n",
       "    </tr>\n",
       "    <tr>\n",
       "      <th>55</th>\n",
       "      <td>1.0</td>\n",
       "      <td>2</td>\n",
       "      <td>38.6</td>\n",
       "      <td>160.0</td>\n",
       "      <td>20.0</td>\n",
       "      <td>3.0</td>\n",
       "      <td>3.0</td>\n",
       "      <td>2.0</td>\n",
       "    </tr>\n",
       "  </tbody>\n",
       "</table>\n",
       "</div>"
      ],
      "text/plain": [
       "    surgery  age  rectal_temperature  pulse  respiratory_rate  \\\n",
       "3       1.0    2                39.1  164.0              84.0   \n",
       "5       2.0    1                 NaN    NaN               NaN   \n",
       "41      2.0    2                39.0  150.0              72.0   \n",
       "52      2.0    1                 NaN    NaN               NaN   \n",
       "55      1.0    2                38.6  160.0              20.0   \n",
       "\n",
       "    temperature_of_extremities  pain  outcome  \n",
       "3                          4.0   2.0      2.0  \n",
       "5                          2.0   2.0      1.0  \n",
       "41                         NaN   NaN      1.0  \n",
       "52                         1.0   1.0      1.0  \n",
       "55                         3.0   3.0      2.0  "
      ]
     },
     "execution_count": 15,
     "metadata": {},
     "output_type": "execute_result"
    }
   ],
   "source": [
    "lower_bound_pulse = Q1_pulse - (1.5 * IQR_pulse) \n",
    "upper_bound_pulse = Q3_pulse + (1.5 * IQR_pulse)\n",
    "remove_outliers_pulse = horse_data[horse_data['pulse']\\\n",
    "                        .between(lower_bound_pulse, upper_bound_pulse, inclusive=True)].sort_values('outcome')\n",
    "outliers_pulse = pd.concat([horse_data, remove_outliers_pulse]).drop_duplicates(keep=False)\n",
    "outliers_pulse.head()"
   ]
  },
  {
   "cell_type": "code",
   "execution_count": 16,
   "metadata": {},
   "outputs": [
    {
     "data": {
      "text/plain": [
       "150.0    2\n",
       "184.0    1\n",
       "160.0    1\n",
       "164.0    1\n",
       "Name: pulse, dtype: int64"
      ]
     },
     "execution_count": 16,
     "metadata": {},
     "output_type": "execute_result"
    }
   ],
   "source": [
    "outliers_pulse['pulse'].value_counts()"
   ]
  },
  {
   "cell_type": "code",
   "execution_count": 17,
   "metadata": {},
   "outputs": [
    {
     "data": {
      "text/html": [
       "<div>\n",
       "<style scoped>\n",
       "    .dataframe tbody tr th:only-of-type {\n",
       "        vertical-align: middle;\n",
       "    }\n",
       "\n",
       "    .dataframe tbody tr th {\n",
       "        vertical-align: top;\n",
       "    }\n",
       "\n",
       "    .dataframe thead th {\n",
       "        text-align: right;\n",
       "    }\n",
       "</style>\n",
       "<table border=\"1\" class=\"dataframe\">\n",
       "  <thead>\n",
       "    <tr style=\"text-align: right;\">\n",
       "      <th></th>\n",
       "      <th>surgery</th>\n",
       "      <th>age</th>\n",
       "      <th>rectal_temperature</th>\n",
       "      <th>pulse</th>\n",
       "      <th>respiratory_rate</th>\n",
       "      <th>temperature_of_extremities</th>\n",
       "      <th>pain</th>\n",
       "      <th>outcome</th>\n",
       "    </tr>\n",
       "  </thead>\n",
       "  <tbody>\n",
       "    <tr>\n",
       "      <th>3</th>\n",
       "      <td>1.0</td>\n",
       "      <td>2</td>\n",
       "      <td>39.1</td>\n",
       "      <td>164.0</td>\n",
       "      <td>84.0</td>\n",
       "      <td>4.0</td>\n",
       "      <td>2.0</td>\n",
       "      <td>2.0</td>\n",
       "    </tr>\n",
       "    <tr>\n",
       "      <th>5</th>\n",
       "      <td>2.0</td>\n",
       "      <td>1</td>\n",
       "      <td>NaN</td>\n",
       "      <td>NaN</td>\n",
       "      <td>NaN</td>\n",
       "      <td>2.0</td>\n",
       "      <td>2.0</td>\n",
       "      <td>1.0</td>\n",
       "    </tr>\n",
       "    <tr>\n",
       "      <th>7</th>\n",
       "      <td>1.0</td>\n",
       "      <td>1</td>\n",
       "      <td>NaN</td>\n",
       "      <td>60.0</td>\n",
       "      <td>NaN</td>\n",
       "      <td>3.0</td>\n",
       "      <td>NaN</td>\n",
       "      <td>2.0</td>\n",
       "    </tr>\n",
       "    <tr>\n",
       "      <th>9</th>\n",
       "      <td>2.0</td>\n",
       "      <td>2</td>\n",
       "      <td>38.3</td>\n",
       "      <td>90.0</td>\n",
       "      <td>NaN</td>\n",
       "      <td>1.0</td>\n",
       "      <td>5.0</td>\n",
       "      <td>1.0</td>\n",
       "    </tr>\n",
       "    <tr>\n",
       "      <th>29</th>\n",
       "      <td>2.0</td>\n",
       "      <td>1</td>\n",
       "      <td>37.7</td>\n",
       "      <td>48.0</td>\n",
       "      <td>NaN</td>\n",
       "      <td>2.0</td>\n",
       "      <td>1.0</td>\n",
       "      <td>1.0</td>\n",
       "    </tr>\n",
       "  </tbody>\n",
       "</table>\n",
       "</div>"
      ],
      "text/plain": [
       "    surgery  age  rectal_temperature  pulse  respiratory_rate  \\\n",
       "3       1.0    2                39.1  164.0              84.0   \n",
       "5       2.0    1                 NaN    NaN               NaN   \n",
       "7       1.0    1                 NaN   60.0               NaN   \n",
       "9       2.0    2                38.3   90.0               NaN   \n",
       "29      2.0    1                37.7   48.0               NaN   \n",
       "\n",
       "    temperature_of_extremities  pain  outcome  \n",
       "3                          4.0   2.0      2.0  \n",
       "5                          2.0   2.0      1.0  \n",
       "7                          3.0   NaN      2.0  \n",
       "9                          1.0   5.0      1.0  \n",
       "29                         2.0   1.0      1.0  "
      ]
     },
     "execution_count": 17,
     "metadata": {},
     "output_type": "execute_result"
    }
   ],
   "source": [
    "lower_bound_respiratory_rate = Q1_respiratory_rate - (1.5 * IQR_respiratory_rate) \n",
    "upper_bound_respiratory_rate = Q3_respiratory_rate + (1.5 * IQR_respiratory_rate)\n",
    "remove_outliers_respiratory_rate = horse_data[horse_data['respiratory_rate']\\\n",
    "                                   .between(lower_bound_respiratory_rate, upper_bound_respiratory_rate, inclusive=True)]\\\n",
    "                                   .sort_values('outcome')\n",
    "outliers_respiratory_rate = pd.concat([horse_data, remove_outliers_respiratory_rate]).drop_duplicates(keep=False)\n",
    "outliers_respiratory_rate.head()"
   ]
  },
  {
   "cell_type": "code",
   "execution_count": 18,
   "metadata": {},
   "outputs": [
    {
     "data": {
      "text/plain": [
       "68.0    3\n",
       "80.0    3\n",
       "70.0    2\n",
       "96.0    2\n",
       "84.0    2\n",
       "88.0    1\n",
       "66.0    1\n",
       "72.0    1\n",
       "Name: respiratory_rate, dtype: int64"
      ]
     },
     "execution_count": 18,
     "metadata": {},
     "output_type": "execute_result"
    }
   ],
   "source": [
    "outliers_respiratory_rate['respiratory_rate'].value_counts()"
   ]
  },
  {
   "cell_type": "code",
   "execution_count": 19,
   "metadata": {},
   "outputs": [
    {
     "data": {
      "text/html": [
       "<div>\n",
       "<style scoped>\n",
       "    .dataframe tbody tr th:only-of-type {\n",
       "        vertical-align: middle;\n",
       "    }\n",
       "\n",
       "    .dataframe tbody tr th {\n",
       "        vertical-align: top;\n",
       "    }\n",
       "\n",
       "    .dataframe thead th {\n",
       "        text-align: right;\n",
       "    }\n",
       "</style>\n",
       "<table border=\"1\" class=\"dataframe\">\n",
       "  <thead>\n",
       "    <tr style=\"text-align: right;\">\n",
       "      <th></th>\n",
       "      <th>surgery</th>\n",
       "      <th>age</th>\n",
       "      <th>rectal_temperature</th>\n",
       "      <th>pulse</th>\n",
       "      <th>respiratory_rate</th>\n",
       "      <th>temperature_of_extremities</th>\n",
       "      <th>pain</th>\n",
       "      <th>outcome</th>\n",
       "    </tr>\n",
       "  </thead>\n",
       "  <tbody>\n",
       "    <tr>\n",
       "      <th>1</th>\n",
       "      <td>1.0</td>\n",
       "      <td>1</td>\n",
       "      <td>39.2</td>\n",
       "      <td>88.0</td>\n",
       "      <td>20.0</td>\n",
       "      <td>NaN</td>\n",
       "      <td>3.0</td>\n",
       "      <td>3.0</td>\n",
       "    </tr>\n",
       "    <tr>\n",
       "      <th>4</th>\n",
       "      <td>2.0</td>\n",
       "      <td>1</td>\n",
       "      <td>37.3</td>\n",
       "      <td>104.0</td>\n",
       "      <td>35.0</td>\n",
       "      <td>NaN</td>\n",
       "      <td>NaN</td>\n",
       "      <td>2.0</td>\n",
       "    </tr>\n",
       "    <tr>\n",
       "      <th>17</th>\n",
       "      <td>2.0</td>\n",
       "      <td>1</td>\n",
       "      <td>37.5</td>\n",
       "      <td>48.0</td>\n",
       "      <td>24.0</td>\n",
       "      <td>NaN</td>\n",
       "      <td>NaN</td>\n",
       "      <td>1.0</td>\n",
       "    </tr>\n",
       "    <tr>\n",
       "      <th>23</th>\n",
       "      <td>1.0</td>\n",
       "      <td>2</td>\n",
       "      <td>38.3</td>\n",
       "      <td>130.0</td>\n",
       "      <td>60.0</td>\n",
       "      <td>NaN</td>\n",
       "      <td>2.0</td>\n",
       "      <td>1.0</td>\n",
       "    </tr>\n",
       "    <tr>\n",
       "      <th>25</th>\n",
       "      <td>2.0</td>\n",
       "      <td>1</td>\n",
       "      <td>37.8</td>\n",
       "      <td>60.0</td>\n",
       "      <td>42.0</td>\n",
       "      <td>NaN</td>\n",
       "      <td>NaN</td>\n",
       "      <td>1.0</td>\n",
       "    </tr>\n",
       "  </tbody>\n",
       "</table>\n",
       "</div>"
      ],
      "text/plain": [
       "    surgery  age  rectal_temperature  pulse  respiratory_rate  \\\n",
       "1       1.0    1                39.2   88.0              20.0   \n",
       "4       2.0    1                37.3  104.0              35.0   \n",
       "17      2.0    1                37.5   48.0              24.0   \n",
       "23      1.0    2                38.3  130.0              60.0   \n",
       "25      2.0    1                37.8   60.0              42.0   \n",
       "\n",
       "    temperature_of_extremities  pain  outcome  \n",
       "1                          NaN   3.0      3.0  \n",
       "4                          NaN   NaN      2.0  \n",
       "17                         NaN   NaN      1.0  \n",
       "23                         NaN   2.0      1.0  \n",
       "25                         NaN   NaN      1.0  "
      ]
     },
     "execution_count": 19,
     "metadata": {},
     "output_type": "execute_result"
    }
   ],
   "source": [
    "lower_bound_temperature_of_extremities = Q1_temperature_of_extremities - (1.5 * IQR_temperature_of_extremities) \n",
    "upper_bound_temperature_of_extremities = Q3_temperature_of_extremities + (1.5 * IQR_temperature_of_extremities)\n",
    "remove_outliers_temperature_of_extremities = horse_data[horse_data['temperature_of_extremities']\\\n",
    "                                             .between(lower_bound_temperature_of_extremities,\\\n",
    "                                             upper_bound_temperature_of_extremities, inclusive=True)]\\\n",
    "                                             .sort_values('outcome')\n",
    "outliers_temperature_of_extremities = pd.concat([horse_data, remove_outliers_temperature_of_extremities]).drop_duplicates(keep=False)\n",
    "outliers_temperature_of_extremities.head()"
   ]
  },
  {
   "cell_type": "code",
   "execution_count": 20,
   "metadata": {},
   "outputs": [
    {
     "data": {
      "text/plain": [
       "Series([], Name: temperature_of_extremities, dtype: int64)"
      ]
     },
     "execution_count": 20,
     "metadata": {},
     "output_type": "execute_result"
    }
   ],
   "source": [
    "outliers_temperature_of_extremities['temperature_of_extremities'].value_counts()"
   ]
  },
  {
   "cell_type": "code",
   "execution_count": 21,
   "metadata": {},
   "outputs": [
    {
     "data": {
      "text/html": [
       "<div>\n",
       "<style scoped>\n",
       "    .dataframe tbody tr th:only-of-type {\n",
       "        vertical-align: middle;\n",
       "    }\n",
       "\n",
       "    .dataframe tbody tr th {\n",
       "        vertical-align: top;\n",
       "    }\n",
       "\n",
       "    .dataframe thead th {\n",
       "        text-align: right;\n",
       "    }\n",
       "</style>\n",
       "<table border=\"1\" class=\"dataframe\">\n",
       "  <thead>\n",
       "    <tr style=\"text-align: right;\">\n",
       "      <th></th>\n",
       "      <th>surgery</th>\n",
       "      <th>age</th>\n",
       "      <th>rectal_temperature</th>\n",
       "      <th>pulse</th>\n",
       "      <th>respiratory_rate</th>\n",
       "      <th>temperature_of_extremities</th>\n",
       "      <th>pain</th>\n",
       "      <th>outcome</th>\n",
       "    </tr>\n",
       "  </thead>\n",
       "  <tbody>\n",
       "    <tr>\n",
       "      <th>4</th>\n",
       "      <td>2.0</td>\n",
       "      <td>1</td>\n",
       "      <td>37.3</td>\n",
       "      <td>104.0</td>\n",
       "      <td>35.0</td>\n",
       "      <td>NaN</td>\n",
       "      <td>NaN</td>\n",
       "      <td>2.0</td>\n",
       "    </tr>\n",
       "    <tr>\n",
       "      <th>7</th>\n",
       "      <td>1.0</td>\n",
       "      <td>1</td>\n",
       "      <td>NaN</td>\n",
       "      <td>60.0</td>\n",
       "      <td>NaN</td>\n",
       "      <td>3.0</td>\n",
       "      <td>NaN</td>\n",
       "      <td>2.0</td>\n",
       "    </tr>\n",
       "    <tr>\n",
       "      <th>17</th>\n",
       "      <td>2.0</td>\n",
       "      <td>1</td>\n",
       "      <td>37.5</td>\n",
       "      <td>48.0</td>\n",
       "      <td>24.0</td>\n",
       "      <td>NaN</td>\n",
       "      <td>NaN</td>\n",
       "      <td>1.0</td>\n",
       "    </tr>\n",
       "    <tr>\n",
       "      <th>19</th>\n",
       "      <td>2.0</td>\n",
       "      <td>1</td>\n",
       "      <td>39.4</td>\n",
       "      <td>110.0</td>\n",
       "      <td>35.0</td>\n",
       "      <td>4.0</td>\n",
       "      <td>NaN</td>\n",
       "      <td>1.0</td>\n",
       "    </tr>\n",
       "    <tr>\n",
       "      <th>24</th>\n",
       "      <td>1.0</td>\n",
       "      <td>1</td>\n",
       "      <td>38.1</td>\n",
       "      <td>60.0</td>\n",
       "      <td>12.0</td>\n",
       "      <td>3.0</td>\n",
       "      <td>NaN</td>\n",
       "      <td>1.0</td>\n",
       "    </tr>\n",
       "  </tbody>\n",
       "</table>\n",
       "</div>"
      ],
      "text/plain": [
       "    surgery  age  rectal_temperature  pulse  respiratory_rate  \\\n",
       "4       2.0    1                37.3  104.0              35.0   \n",
       "7       1.0    1                 NaN   60.0               NaN   \n",
       "17      2.0    1                37.5   48.0              24.0   \n",
       "19      2.0    1                39.4  110.0              35.0   \n",
       "24      1.0    1                38.1   60.0              12.0   \n",
       "\n",
       "    temperature_of_extremities  pain  outcome  \n",
       "4                          NaN   NaN      2.0  \n",
       "7                          3.0   NaN      2.0  \n",
       "17                         NaN   NaN      1.0  \n",
       "19                         4.0   NaN      1.0  \n",
       "24                         3.0   NaN      1.0  "
      ]
     },
     "execution_count": 21,
     "metadata": {},
     "output_type": "execute_result"
    }
   ],
   "source": [
    "lower_bound_pain = Q1_pain - (1.5 * IQR_pain) \n",
    "upper_bound_pain = Q3_pain + (1.5 * IQR_pain)\n",
    "remove_outliers_pain = horse_data[horse_data['pain']\\\n",
    "                       .between(lower_bound_pain, upper_bound_pain, inclusive=True)].sort_values('outcome')\n",
    "outliers_pain = pd.concat([horse_data, remove_outliers_pain]).drop_duplicates(keep=False)\n",
    "outliers_pain.head()"
   ]
  },
  {
   "cell_type": "code",
   "execution_count": 22,
   "metadata": {},
   "outputs": [
    {
     "data": {
      "text/plain": [
       "Series([], Name: pain, dtype: int64)"
      ]
     },
     "execution_count": 22,
     "metadata": {},
     "output_type": "execute_result"
    }
   ],
   "source": [
    "outliers_pain['pain'].value_counts()"
   ]
  },
  {
   "cell_type": "code",
   "execution_count": 23,
   "metadata": {},
   "outputs": [
    {
     "data": {
      "text/html": [
       "<div>\n",
       "<style scoped>\n",
       "    .dataframe tbody tr th:only-of-type {\n",
       "        vertical-align: middle;\n",
       "    }\n",
       "\n",
       "    .dataframe tbody tr th {\n",
       "        vertical-align: top;\n",
       "    }\n",
       "\n",
       "    .dataframe thead th {\n",
       "        text-align: right;\n",
       "    }\n",
       "</style>\n",
       "<table border=\"1\" class=\"dataframe\">\n",
       "  <thead>\n",
       "    <tr style=\"text-align: right;\">\n",
       "      <th></th>\n",
       "      <th>surgery</th>\n",
       "      <th>age</th>\n",
       "      <th>rectal_temperature</th>\n",
       "      <th>pulse</th>\n",
       "      <th>respiratory_rate</th>\n",
       "      <th>temperature_of_extremities</th>\n",
       "      <th>pain</th>\n",
       "      <th>outcome</th>\n",
       "    </tr>\n",
       "  </thead>\n",
       "  <tbody>\n",
       "    <tr>\n",
       "      <th>132</th>\n",
       "      <td>NaN</td>\n",
       "      <td>1</td>\n",
       "      <td>38.0</td>\n",
       "      <td>48.0</td>\n",
       "      <td>20.0</td>\n",
       "      <td>3.0</td>\n",
       "      <td>4.0</td>\n",
       "      <td>NaN</td>\n",
       "    </tr>\n",
       "  </tbody>\n",
       "</table>\n",
       "</div>"
      ],
      "text/plain": [
       "     surgery  age  rectal_temperature  pulse  respiratory_rate  \\\n",
       "132      NaN    1                38.0   48.0              20.0   \n",
       "\n",
       "     temperature_of_extremities  pain  outcome  \n",
       "132                         3.0   4.0      NaN  "
      ]
     },
     "execution_count": 23,
     "metadata": {},
     "output_type": "execute_result"
    }
   ],
   "source": [
    "lower_bound_outcome = Q1_outcome - (1.5 * IQR_outcome) \n",
    "upper_bound_outcome = Q3_outcome + (1.5 * IQR_outcome)\n",
    "remove_outliers_outcome = horse_data[horse_data['outcome']\\\n",
    "                       .between(lower_bound_outcome, upper_bound_outcome, inclusive=True)].sort_values('outcome')\n",
    "outliers_outcome = pd.concat([horse_data, remove_outliers_outcome]).drop_duplicates(keep=False)\n",
    "outliers_outcome.head()"
   ]
  },
  {
   "cell_type": "markdown",
   "metadata": {},
   "source": [
    "## Задание 3 Работа с пропусками \n",
    "\n",
    "Рассчитать количество пропусков для всех выбранных столбцов. Принять и обосновать решение о методе заполнения пропусков по каждому столбцу на основе рассчитанных статистик и возможной взаимосвязи значений в них. Сформировать датафрейм, в котором пропуски будут отсутствовать."
   ]
  },
  {
   "cell_type": "markdown",
   "metadata": {},
   "source": [
    "#### Сначала заполним пропуски в колонках с категориальными признаками, чтобы потом, в их разрезах, заполнять признаки с дискретными величинами"
   ]
  },
  {
   "cell_type": "code",
   "execution_count": 24,
   "metadata": {},
   "outputs": [
    {
     "data": {
      "text/html": [
       "<div>\n",
       "<style scoped>\n",
       "    .dataframe tbody tr th:only-of-type {\n",
       "        vertical-align: middle;\n",
       "    }\n",
       "\n",
       "    .dataframe tbody tr th {\n",
       "        vertical-align: top;\n",
       "    }\n",
       "\n",
       "    .dataframe thead th {\n",
       "        text-align: right;\n",
       "    }\n",
       "</style>\n",
       "<table border=\"1\" class=\"dataframe\">\n",
       "  <thead>\n",
       "    <tr style=\"text-align: right;\">\n",
       "      <th></th>\n",
       "      <th>surgery</th>\n",
       "      <th>age</th>\n",
       "      <th>rectal_temperature</th>\n",
       "      <th>pulse</th>\n",
       "      <th>respiratory_rate</th>\n",
       "      <th>temperature_of_extremities</th>\n",
       "      <th>pain</th>\n",
       "      <th>outcome</th>\n",
       "    </tr>\n",
       "  </thead>\n",
       "  <tbody>\n",
       "    <tr>\n",
       "      <th>0</th>\n",
       "      <td>2.0</td>\n",
       "      <td>1</td>\n",
       "      <td>38.5</td>\n",
       "      <td>66.0</td>\n",
       "      <td>28.0</td>\n",
       "      <td>3.0</td>\n",
       "      <td>5.0</td>\n",
       "      <td>2.0</td>\n",
       "    </tr>\n",
       "    <tr>\n",
       "      <th>1</th>\n",
       "      <td>1.0</td>\n",
       "      <td>1</td>\n",
       "      <td>39.2</td>\n",
       "      <td>88.0</td>\n",
       "      <td>20.0</td>\n",
       "      <td>NaN</td>\n",
       "      <td>3.0</td>\n",
       "      <td>3.0</td>\n",
       "    </tr>\n",
       "    <tr>\n",
       "      <th>2</th>\n",
       "      <td>2.0</td>\n",
       "      <td>1</td>\n",
       "      <td>38.3</td>\n",
       "      <td>40.0</td>\n",
       "      <td>24.0</td>\n",
       "      <td>1.0</td>\n",
       "      <td>3.0</td>\n",
       "      <td>1.0</td>\n",
       "    </tr>\n",
       "    <tr>\n",
       "      <th>3</th>\n",
       "      <td>1.0</td>\n",
       "      <td>2</td>\n",
       "      <td>39.1</td>\n",
       "      <td>164.0</td>\n",
       "      <td>84.0</td>\n",
       "      <td>4.0</td>\n",
       "      <td>2.0</td>\n",
       "      <td>2.0</td>\n",
       "    </tr>\n",
       "    <tr>\n",
       "      <th>4</th>\n",
       "      <td>2.0</td>\n",
       "      <td>1</td>\n",
       "      <td>37.3</td>\n",
       "      <td>104.0</td>\n",
       "      <td>35.0</td>\n",
       "      <td>NaN</td>\n",
       "      <td>NaN</td>\n",
       "      <td>2.0</td>\n",
       "    </tr>\n",
       "    <tr>\n",
       "      <th>...</th>\n",
       "      <td>...</td>\n",
       "      <td>...</td>\n",
       "      <td>...</td>\n",
       "      <td>...</td>\n",
       "      <td>...</td>\n",
       "      <td>...</td>\n",
       "      <td>...</td>\n",
       "      <td>...</td>\n",
       "    </tr>\n",
       "    <tr>\n",
       "      <th>295</th>\n",
       "      <td>1.0</td>\n",
       "      <td>1</td>\n",
       "      <td>NaN</td>\n",
       "      <td>120.0</td>\n",
       "      <td>70.0</td>\n",
       "      <td>4.0</td>\n",
       "      <td>2.0</td>\n",
       "      <td>3.0</td>\n",
       "    </tr>\n",
       "    <tr>\n",
       "      <th>296</th>\n",
       "      <td>2.0</td>\n",
       "      <td>1</td>\n",
       "      <td>37.2</td>\n",
       "      <td>72.0</td>\n",
       "      <td>24.0</td>\n",
       "      <td>3.0</td>\n",
       "      <td>4.0</td>\n",
       "      <td>3.0</td>\n",
       "    </tr>\n",
       "    <tr>\n",
       "      <th>297</th>\n",
       "      <td>1.0</td>\n",
       "      <td>1</td>\n",
       "      <td>37.5</td>\n",
       "      <td>72.0</td>\n",
       "      <td>30.0</td>\n",
       "      <td>4.0</td>\n",
       "      <td>4.0</td>\n",
       "      <td>2.0</td>\n",
       "    </tr>\n",
       "    <tr>\n",
       "      <th>298</th>\n",
       "      <td>1.0</td>\n",
       "      <td>1</td>\n",
       "      <td>36.5</td>\n",
       "      <td>100.0</td>\n",
       "      <td>24.0</td>\n",
       "      <td>3.0</td>\n",
       "      <td>3.0</td>\n",
       "      <td>1.0</td>\n",
       "    </tr>\n",
       "    <tr>\n",
       "      <th>299</th>\n",
       "      <td>1.0</td>\n",
       "      <td>1</td>\n",
       "      <td>37.2</td>\n",
       "      <td>40.0</td>\n",
       "      <td>20.0</td>\n",
       "      <td>NaN</td>\n",
       "      <td>NaN</td>\n",
       "      <td>3.0</td>\n",
       "    </tr>\n",
       "  </tbody>\n",
       "</table>\n",
       "<p>300 rows × 8 columns</p>\n",
       "</div>"
      ],
      "text/plain": [
       "     surgery  age  rectal_temperature  pulse  respiratory_rate  \\\n",
       "0        2.0    1                38.5   66.0              28.0   \n",
       "1        1.0    1                39.2   88.0              20.0   \n",
       "2        2.0    1                38.3   40.0              24.0   \n",
       "3        1.0    2                39.1  164.0              84.0   \n",
       "4        2.0    1                37.3  104.0              35.0   \n",
       "..       ...  ...                 ...    ...               ...   \n",
       "295      1.0    1                 NaN  120.0              70.0   \n",
       "296      2.0    1                37.2   72.0              24.0   \n",
       "297      1.0    1                37.5   72.0              30.0   \n",
       "298      1.0    1                36.5  100.0              24.0   \n",
       "299      1.0    1                37.2   40.0              20.0   \n",
       "\n",
       "     temperature_of_extremities  pain  outcome  \n",
       "0                           3.0   5.0      2.0  \n",
       "1                           NaN   3.0      3.0  \n",
       "2                           1.0   3.0      1.0  \n",
       "3                           4.0   2.0      2.0  \n",
       "4                           NaN   NaN      2.0  \n",
       "..                          ...   ...      ...  \n",
       "295                         4.0   2.0      3.0  \n",
       "296                         3.0   4.0      3.0  \n",
       "297                         4.0   4.0      2.0  \n",
       "298                         3.0   3.0      1.0  \n",
       "299                         NaN   NaN      3.0  \n",
       "\n",
       "[300 rows x 8 columns]"
      ]
     },
     "execution_count": 24,
     "metadata": {},
     "output_type": "execute_result"
    }
   ],
   "source": [
    "horse_data"
   ]
  },
  {
   "cell_type": "code",
   "execution_count": 25,
   "metadata": {},
   "outputs": [
    {
     "name": "stdout",
     "output_type": "stream",
     "text": [
      "<class 'pandas.core.frame.DataFrame'>\n",
      "RangeIndex: 300 entries, 0 to 299\n",
      "Data columns (total 8 columns):\n",
      " #   Column                      Non-Null Count  Dtype  \n",
      "---  ------                      --------------  -----  \n",
      " 0   surgery                     299 non-null    float64\n",
      " 1   age                         300 non-null    int64  \n",
      " 2   rectal_temperature          240 non-null    float64\n",
      " 3   pulse                       276 non-null    float64\n",
      " 4   respiratory_rate            242 non-null    float64\n",
      " 5   temperature_of_extremities  244 non-null    float64\n",
      " 6   pain                        245 non-null    float64\n",
      " 7   outcome                     299 non-null    float64\n",
      "dtypes: float64(7), int64(1)\n",
      "memory usage: 18.9 KB\n"
     ]
    }
   ],
   "source": [
    "# Заполненность столбцов\n",
    "horse_data.info()"
   ]
  },
  {
   "cell_type": "code",
   "execution_count": 26,
   "metadata": {},
   "outputs": [
    {
     "data": {
      "text/plain": [
       "surgery                        0.33\n",
       "age                            0.00\n",
       "rectal_temperature            20.00\n",
       "pulse                          8.00\n",
       "respiratory_rate              19.33\n",
       "temperature_of_extremities    18.67\n",
       "pain                          18.33\n",
       "outcome                        0.33\n",
       "dtype: float64"
      ]
     },
     "execution_count": 26,
     "metadata": {},
     "output_type": "execute_result"
    }
   ],
   "source": [
    "# Пропуски в %\n",
    "(horse_data.isna().mean() * 100).round(2)"
   ]
  },
  {
   "cell_type": "markdown",
   "metadata": {},
   "source": [
    "##### Касательно строки 132 датафрейма:\n",
    "Пропуски наблюдаются в столбцах \"Операция\" и \"Результат\". Они же являются единственными пропусками датафрема по данным столбцам. Учитывая то, что остальные признаки приближены к модам этих признаков всего датафрейма - заполняем их модальными значениями."
   ]
  },
  {
   "cell_type": "code",
   "execution_count": 27,
   "metadata": {},
   "outputs": [
    {
     "name": "stdout",
     "output_type": "stream",
     "text": [
      "0\n",
      "[2. 1.]\n"
     ]
    }
   ],
   "source": [
    "horse_data['surgery'].fillna(horse_data['surgery'].mode()[0], inplace=True)\n",
    "print(horse_data['surgery'].isna().sum())\n",
    "print(horse_data['surgery'].unique())"
   ]
  },
  {
   "cell_type": "code",
   "execution_count": 28,
   "metadata": {},
   "outputs": [
    {
     "name": "stdout",
     "output_type": "stream",
     "text": [
      "0\n",
      "[2. 3. 1.]\n"
     ]
    }
   ],
   "source": [
    "horse_data['outcome'].fillna(horse_data['outcome'].mode()[0], inplace=True)\n",
    "print(horse_data['outcome'].isna().sum())\n",
    "print(horse_data['outcome'].unique())"
   ]
  },
  {
   "cell_type": "code",
   "execution_count": 29,
   "metadata": {},
   "outputs": [
    {
     "data": {
      "text/plain": [
       "surgery                        1.0\n",
       "age                            1.0\n",
       "rectal_temperature            38.0\n",
       "pulse                         48.0\n",
       "respiratory_rate              20.0\n",
       "temperature_of_extremities     3.0\n",
       "pain                           4.0\n",
       "outcome                        1.0\n",
       "Name: 132, dtype: float64"
      ]
     },
     "execution_count": 29,
     "metadata": {},
     "output_type": "execute_result"
    }
   ],
   "source": [
    "horse_data.loc[132]"
   ]
  },
  {
   "cell_type": "code",
   "execution_count": 30,
   "metadata": {},
   "outputs": [
    {
     "name": "stdout",
     "output_type": "stream",
     "text": [
      "<class 'pandas.core.frame.DataFrame'>\n",
      "RangeIndex: 300 entries, 0 to 299\n",
      "Data columns (total 8 columns):\n",
      " #   Column                      Non-Null Count  Dtype  \n",
      "---  ------                      --------------  -----  \n",
      " 0   surgery                     300 non-null    float64\n",
      " 1   age                         300 non-null    int64  \n",
      " 2   rectal_temperature          240 non-null    float64\n",
      " 3   pulse                       276 non-null    float64\n",
      " 4   respiratory_rate            242 non-null    float64\n",
      " 5   temperature_of_extremities  244 non-null    float64\n",
      " 6   pain                        245 non-null    float64\n",
      " 7   outcome                     300 non-null    float64\n",
      "dtypes: float64(7), int64(1)\n",
      "memory usage: 18.9 KB\n"
     ]
    }
   ],
   "source": [
    "horse_data.info()"
   ]
  },
  {
   "cell_type": "markdown",
   "metadata": {},
   "source": [
    "\n"
   ]
  },
  {
   "cell_type": "markdown",
   "metadata": {},
   "source": [
    "##### Касательно пропусков столбца \"Боль\":"
   ]
  },
  {
   "cell_type": "code",
   "execution_count": 31,
   "metadata": {},
   "outputs": [
    {
     "name": "stdout",
     "output_type": "stream",
     "text": [
      "0\n",
      "[5. 3. 2. 4. 1.]\n"
     ]
    }
   ],
   "source": [
    "fill_median = horse_data\n",
    "\n",
    "fill_median['pain'].fillna(horse_data['pain'].median(), inplace=True)\n",
    "print(fill_median['pain'].fillna(horse_data['pain'].median()).isna().sum())\n",
    "print(fill_median['pain'].unique())"
   ]
  },
  {
   "cell_type": "code",
   "execution_count": 32,
   "metadata": {},
   "outputs": [
    {
     "name": "stdout",
     "output_type": "stream",
     "text": [
      "count    300.000000\n",
      "mean       2.960000\n",
      "std        1.181689\n",
      "min        1.000000\n",
      "25%        2.000000\n",
      "50%        3.000000\n",
      "75%        4.000000\n",
      "max        5.000000\n",
      "Name: pain, dtype: float64\n"
     ]
    }
   ],
   "source": [
    "print(fill_median['pain'].describe())"
   ]
  },
  {
   "cell_type": "code",
   "execution_count": 33,
   "metadata": {},
   "outputs": [
    {
     "name": "stdout",
     "output_type": "stream",
     "text": [
      "0\n",
      "[5. 3. 2. 4. 1.]\n"
     ]
    }
   ],
   "source": [
    "fill_moda = horse_data\n",
    "\n",
    "fill_moda['pain'].fillna(horse_data['pain'].mode()[0], inplace=True)\n",
    "print(fill_moda['pain'].isna().sum())\n",
    "print(fill_moda['pain'].unique())"
   ]
  },
  {
   "cell_type": "code",
   "execution_count": 34,
   "metadata": {},
   "outputs": [
    {
     "name": "stdout",
     "output_type": "stream",
     "text": [
      "count    300.000000\n",
      "mean       2.960000\n",
      "std        1.181689\n",
      "min        1.000000\n",
      "25%        2.000000\n",
      "50%        3.000000\n",
      "75%        4.000000\n",
      "max        5.000000\n",
      "Name: pain, dtype: float64\n"
     ]
    }
   ],
   "source": [
    "print(fill_moda['pain'].describe())"
   ]
  },
  {
   "cell_type": "markdown",
   "metadata": {},
   "source": [
    "Из анализа заполнения пропусков медианой или модой (заполнение ср. арифм-м не рассматривается, потому что не получится категории в значении целого числа) видно, что значения стандартного отклонения и среднего арифм.-го - одинаково. Поэтому заполняем данный столбец, медианой.\n"
   ]
  },
  {
   "cell_type": "code",
   "execution_count": 35,
   "metadata": {},
   "outputs": [
    {
     "name": "stdout",
     "output_type": "stream",
     "text": [
      "0\n",
      "[5. 3. 2. 4. 1.]\n"
     ]
    }
   ],
   "source": [
    "horse_data['pain'].fillna(horse_data['pain'].mode()[0], inplace=True)\n",
    "print(horse_data['pain'].isna().sum())\n",
    "print(horse_data['pain'].unique())"
   ]
  },
  {
   "cell_type": "code",
   "execution_count": 36,
   "metadata": {},
   "outputs": [
    {
     "name": "stdout",
     "output_type": "stream",
     "text": [
      "<class 'pandas.core.frame.DataFrame'>\n",
      "RangeIndex: 300 entries, 0 to 299\n",
      "Data columns (total 8 columns):\n",
      " #   Column                      Non-Null Count  Dtype  \n",
      "---  ------                      --------------  -----  \n",
      " 0   surgery                     300 non-null    float64\n",
      " 1   age                         300 non-null    int64  \n",
      " 2   rectal_temperature          240 non-null    float64\n",
      " 3   pulse                       276 non-null    float64\n",
      " 4   respiratory_rate            242 non-null    float64\n",
      " 5   temperature_of_extremities  244 non-null    float64\n",
      " 6   pain                        300 non-null    float64\n",
      " 7   outcome                     300 non-null    float64\n",
      "dtypes: float64(7), int64(1)\n",
      "memory usage: 18.9 KB\n"
     ]
    }
   ],
   "source": [
    "horse_data.info()"
   ]
  },
  {
   "cell_type": "markdown",
   "metadata": {},
   "source": [
    "#### Осталось заполнить пропуски в столбцах: \"Ректальная температура\", \"Пульс\", \"Частота дыхания\" и \"Температура конечностей\".\n",
    "\n",
    "В данных столбцах есть выбросы, которые мы оставляем. Соответственно заполняем пропуски в этих столбцах медианами в разрезе категориальных признаков."
   ]
  },
  {
   "cell_type": "code",
   "execution_count": 37,
   "metadata": {},
   "outputs": [],
   "source": [
    "horse_data['rectal_temperature'].fillna(horse_data.groupby(['surgery', 'age'])['rectal_temperature'].transform('median'), inplace=True)\n",
    "horse_data['pulse'].fillna(horse_data.groupby(['pain', 'age'])['pulse'].transform('median'), inplace=True)\n",
    "horse_data['temperature_of_extremities'].fillna(horse_data.groupby(['age', 'outcome'])['temperature_of_extremities'].transform('median'), inplace=True)\n",
    "horse_data['respiratory_rate'].fillna(horse_data.groupby(['outcome', 'age'])['respiratory_rate'].transform('median'), inplace=True)"
   ]
  },
  {
   "cell_type": "code",
   "execution_count": 38,
   "metadata": {},
   "outputs": [
    {
     "name": "stdout",
     "output_type": "stream",
     "text": [
      "<class 'pandas.core.frame.DataFrame'>\n",
      "RangeIndex: 300 entries, 0 to 299\n",
      "Data columns (total 8 columns):\n",
      " #   Column                      Non-Null Count  Dtype  \n",
      "---  ------                      --------------  -----  \n",
      " 0   surgery                     300 non-null    float64\n",
      " 1   age                         300 non-null    int64  \n",
      " 2   rectal_temperature          300 non-null    float64\n",
      " 3   pulse                       300 non-null    float64\n",
      " 4   respiratory_rate            299 non-null    float64\n",
      " 5   temperature_of_extremities  300 non-null    float64\n",
      " 6   pain                        300 non-null    float64\n",
      " 7   outcome                     300 non-null    float64\n",
      "dtypes: float64(7), int64(1)\n",
      "memory usage: 18.9 KB\n"
     ]
    }
   ],
   "source": [
    "horse_data.info()"
   ]
  },
  {
   "cell_type": "code",
   "execution_count": 39,
   "metadata": {},
   "outputs": [],
   "source": [
    "horse_data['respiratory_rate'].fillna(horse_data['respiratory_rate'].median(), inplace=True)"
   ]
  },
  {
   "cell_type": "code",
   "execution_count": 40,
   "metadata": {},
   "outputs": [
    {
     "name": "stdout",
     "output_type": "stream",
     "text": [
      "<class 'pandas.core.frame.DataFrame'>\n",
      "RangeIndex: 300 entries, 0 to 299\n",
      "Data columns (total 8 columns):\n",
      " #   Column                      Non-Null Count  Dtype  \n",
      "---  ------                      --------------  -----  \n",
      " 0   surgery                     300 non-null    float64\n",
      " 1   age                         300 non-null    int64  \n",
      " 2   rectal_temperature          300 non-null    float64\n",
      " 3   pulse                       300 non-null    float64\n",
      " 4   respiratory_rate            300 non-null    float64\n",
      " 5   temperature_of_extremities  300 non-null    float64\n",
      " 6   pain                        300 non-null    float64\n",
      " 7   outcome                     300 non-null    float64\n",
      "dtypes: float64(7), int64(1)\n",
      "memory usage: 18.9 KB\n"
     ]
    }
   ],
   "source": [
    "horse_data.info()"
   ]
  },
  {
   "cell_type": "markdown",
   "metadata": {},
   "source": [
    "###### При заполнении пропусков был произведен анализ вариантов заполнениия в различных разрезах 2-х категориальных признаков и выбраны варианты с наиболее очевидной зависимостью"
   ]
  },
  {
   "cell_type": "code",
   "execution_count": 41,
   "metadata": {},
   "outputs": [],
   "source": [
    "# Для рекатальной температуры: (операция и возраст, боль и операция, результат и операция, результат и возраст) - одинаковая зависимость\n",
    "# Для пульса: боль и возраст (операция и возраст, возраст и операция, возраст и результат(?), результат и возраст)\n",
    "# Для частоты дыхания: результат и возраст (операция и возраст, боль и возраст)\n",
    "# Для температуры конечностей: возраст и результат (возраст и операция)"
   ]
  },
  {
   "cell_type": "code",
   "execution_count": 42,
   "metadata": {},
   "outputs": [
    {
     "name": "stdout",
     "output_type": "stream",
     "text": [
      "surgery  age\n",
      "1.0      1      24.0\n",
      "         2      55.0\n",
      "2.0      1      24.0\n",
      "         2      37.0\n",
      "Name: respiratory_rate, dtype: float64\n"
     ]
    }
   ],
   "source": [
    "print(horse_data.groupby(['surgery', 'age'])['respiratory_rate'].median())\n",
    "fill_median_by_groups = horse_data\n",
    "fill_median_by_groups['respiratory_rate'].fillna(horse_data.groupby(['surgery', 'age'])['respiratory_rate'].transform('median'), inplace=True)"
   ]
  },
  {
   "cell_type": "code",
   "execution_count": 43,
   "metadata": {},
   "outputs": [
    {
     "name": "stdout",
     "output_type": "stream",
     "text": [
      "surgery  pain\n",
      "1.0      1.0     16.0\n",
      "         2.0     35.0\n",
      "         3.0     24.0\n",
      "         4.0     28.0\n",
      "         5.0     28.0\n",
      "2.0      1.0     20.0\n",
      "         2.0     24.0\n",
      "         3.0     24.0\n",
      "         4.0     24.5\n",
      "         5.0     28.0\n",
      "Name: respiratory_rate, dtype: float64\n"
     ]
    }
   ],
   "source": [
    "print(horse_data.groupby(['surgery', 'pain'])['respiratory_rate'].median())\n",
    "fill_median_by_groups = horse_data\n",
    "fill_median_by_groups['respiratory_rate'].fillna(horse_data.groupby(['surgery', 'pain'])['respiratory_rate'].transform('median'), inplace=True)"
   ]
  },
  {
   "cell_type": "code",
   "execution_count": 44,
   "metadata": {},
   "outputs": [
    {
     "name": "stdout",
     "output_type": "stream",
     "text": [
      "surgery  outcome\n",
      "1.0      1.0        24.0\n",
      "         2.0        28.0\n",
      "         3.0        24.0\n",
      "2.0      1.0        24.0\n",
      "         2.0        28.0\n",
      "         3.0        24.0\n",
      "Name: respiratory_rate, dtype: float64\n"
     ]
    }
   ],
   "source": [
    "print(horse_data.groupby(['surgery', 'outcome'])['respiratory_rate'].median())\n",
    "fill_median_by_groups = horse_data\n",
    "fill_median_by_groups['respiratory_rate'].fillna(horse_data.groupby(['surgery', 'outcome'])['respiratory_rate'].transform('median'), inplace=True)"
   ]
  },
  {
   "cell_type": "code",
   "execution_count": 45,
   "metadata": {},
   "outputs": [
    {
     "name": "stdout",
     "output_type": "stream",
     "text": [
      "age  surgery\n",
      "1    1.0        24.0\n",
      "     2.0        24.0\n",
      "2    1.0        55.0\n",
      "     2.0        37.0\n",
      "Name: respiratory_rate, dtype: float64\n"
     ]
    }
   ],
   "source": [
    "print(horse_data.groupby(['age', 'surgery'])['respiratory_rate'].median())\n",
    "fill_median_by_groups = horse_data\n",
    "fill_median_by_groups['respiratory_rate'].fillna(horse_data.groupby(['age', 'surgery'])['respiratory_rate'].transform('median'), inplace=True)"
   ]
  },
  {
   "cell_type": "code",
   "execution_count": 46,
   "metadata": {},
   "outputs": [
    {
     "name": "stdout",
     "output_type": "stream",
     "text": [
      "age  pain\n",
      "1    1.0     20.0\n",
      "     2.0     24.0\n",
      "     3.0     24.0\n",
      "     4.0     24.5\n",
      "     5.0     28.0\n",
      "2    1.0     28.0\n",
      "     2.0     60.0\n",
      "     3.0     54.0\n",
      "     4.0     44.0\n",
      "     5.0     50.0\n",
      "Name: respiratory_rate, dtype: float64\n"
     ]
    }
   ],
   "source": [
    "print(horse_data.groupby(['age', 'pain'])['respiratory_rate'].median())\n",
    "fill_median_by_groups = horse_data\n",
    "fill_median_by_groups['respiratory_rate'].fillna(horse_data.groupby(['age', 'pain'])['respiratory_rate'].transform('median'), inplace=True)"
   ]
  },
  {
   "cell_type": "code",
   "execution_count": 47,
   "metadata": {},
   "outputs": [
    {
     "name": "stdout",
     "output_type": "stream",
     "text": [
      "age  outcome\n",
      "1    1.0        24.0\n",
      "     2.0        28.0\n",
      "     3.0        24.0\n",
      "2    1.0        64.0\n",
      "     2.0        44.0\n",
      "     3.0        24.0\n",
      "Name: respiratory_rate, dtype: float64\n"
     ]
    }
   ],
   "source": [
    "print(horse_data.groupby(['age', 'outcome'])['respiratory_rate'].median())\n",
    "fill_median_by_groups = horse_data\n",
    "fill_median_by_groups['respiratory_rate'].fillna(horse_data.groupby(['age', 'outcome'])['respiratory_rate'].transform('median'), inplace=True)"
   ]
  },
  {
   "cell_type": "code",
   "execution_count": 48,
   "metadata": {},
   "outputs": [
    {
     "name": "stdout",
     "output_type": "stream",
     "text": [
      "pain  surgery\n",
      "1.0   1.0        16.0\n",
      "      2.0        20.0\n",
      "2.0   1.0        35.0\n",
      "      2.0        24.0\n",
      "3.0   1.0        24.0\n",
      "      2.0        24.0\n",
      "4.0   1.0        28.0\n",
      "      2.0        24.5\n",
      "5.0   1.0        28.0\n",
      "      2.0        28.0\n",
      "Name: respiratory_rate, dtype: float64\n"
     ]
    }
   ],
   "source": [
    "print(horse_data.groupby(['pain', 'surgery'])['respiratory_rate'].median())\n",
    "fill_median_by_groups = horse_data\n",
    "fill_median_by_groups['respiratory_rate'].fillna(horse_data.groupby(['pain', 'surgery'])['respiratory_rate'].transform('median'), inplace=True)"
   ]
  },
  {
   "cell_type": "code",
   "execution_count": 49,
   "metadata": {},
   "outputs": [
    {
     "name": "stdout",
     "output_type": "stream",
     "text": [
      "pain  age\n",
      "1.0   1      20.0\n",
      "      2      28.0\n",
      "2.0   1      24.0\n",
      "      2      60.0\n",
      "3.0   1      24.0\n",
      "      2      54.0\n",
      "4.0   1      24.5\n",
      "      2      44.0\n",
      "5.0   1      28.0\n",
      "      2      50.0\n",
      "Name: respiratory_rate, dtype: float64\n"
     ]
    }
   ],
   "source": [
    "print(horse_data.groupby(['pain', 'age'])['respiratory_rate'].median())\n",
    "fill_median_by_groups = horse_data\n",
    "fill_median_by_groups['respiratory_rate'].fillna(horse_data.groupby(['pain', 'age'])['respiratory_rate'].transform('median'), inplace=True)"
   ]
  },
  {
   "cell_type": "code",
   "execution_count": 50,
   "metadata": {},
   "outputs": [
    {
     "name": "stdout",
     "output_type": "stream",
     "text": [
      "pain  outcome\n",
      "1.0   1.0        20.0\n",
      "      2.0        23.0\n",
      "      3.0        20.0\n",
      "2.0   1.0        24.0\n",
      "      2.0        32.0\n",
      "      3.0        28.0\n",
      "3.0   1.0        24.0\n",
      "      2.0        28.0\n",
      "      3.0        24.0\n",
      "4.0   1.0        30.0\n",
      "      2.0        28.0\n",
      "      3.0        24.0\n",
      "5.0   1.0        27.0\n",
      "      2.0        28.0\n",
      "      3.0        23.0\n",
      "Name: respiratory_rate, dtype: float64\n"
     ]
    }
   ],
   "source": [
    "print(horse_data.groupby(['pain', 'outcome'])['respiratory_rate'].median())\n",
    "fill_median_by_groups = horse_data\n",
    "fill_median_by_groups['respiratory_rate'].fillna(horse_data.groupby(['pain', 'outcome'])['respiratory_rate'].transform('median'), inplace=True)"
   ]
  },
  {
   "cell_type": "code",
   "execution_count": 51,
   "metadata": {},
   "outputs": [
    {
     "name": "stdout",
     "output_type": "stream",
     "text": [
      "outcome  surgery\n",
      "1.0      1.0        24.0\n",
      "         2.0        24.0\n",
      "2.0      1.0        28.0\n",
      "         2.0        28.0\n",
      "3.0      1.0        24.0\n",
      "         2.0        24.0\n",
      "Name: respiratory_rate, dtype: float64\n"
     ]
    }
   ],
   "source": [
    "print(horse_data.groupby(['outcome', 'surgery'])['respiratory_rate'].median())\n",
    "fill_median_by_groups = horse_data\n",
    "fill_median_by_groups['respiratory_rate'].fillna(horse_data.groupby(['outcome', 'surgery'])['respiratory_rate'].transform('median'), inplace=True)"
   ]
  },
  {
   "cell_type": "code",
   "execution_count": 52,
   "metadata": {},
   "outputs": [
    {
     "name": "stdout",
     "output_type": "stream",
     "text": [
      "outcome  age\n",
      "1.0      1      24.0\n",
      "         2      64.0\n",
      "2.0      1      28.0\n",
      "         2      44.0\n",
      "3.0      1      24.0\n",
      "         2      24.0\n",
      "Name: respiratory_rate, dtype: float64\n"
     ]
    }
   ],
   "source": [
    "print(horse_data.groupby(['outcome', 'age'])['respiratory_rate'].median())\n",
    "fill_median_by_groups = horse_data\n",
    "fill_median_by_groups['respiratory_rate'].fillna(horse_data.groupby(['outcome', 'age'])['respiratory_rate'].transform('median'), inplace=True)"
   ]
  },
  {
   "cell_type": "code",
   "execution_count": 53,
   "metadata": {},
   "outputs": [
    {
     "name": "stdout",
     "output_type": "stream",
     "text": [
      "outcome  pain\n",
      "1.0      1.0     2.0\n",
      "         2.0     2.0\n",
      "         3.0     2.0\n",
      "         4.0     3.0\n",
      "         5.0     3.0\n",
      "2.0      1.0     2.0\n",
      "         2.0     3.0\n",
      "         3.0     3.0\n",
      "         4.0     3.0\n",
      "         5.0     3.0\n",
      "3.0      1.0     3.0\n",
      "         2.0     3.0\n",
      "         3.0     3.0\n",
      "         4.0     3.0\n",
      "         5.0     3.0\n",
      "Name: temperature_of_extremities, dtype: float64\n"
     ]
    }
   ],
   "source": [
    "print(horse_data.groupby(['outcome', 'pain'])['temperature_of_extremities'].median())\n",
    "fill_median_by_groups = horse_data\n",
    "fill_median_by_groups['respiratory_rate'].fillna(horse_data.groupby(['outcome', 'pain'])['respiratory_rate'].transform('median'), inplace=True)"
   ]
  },
  {
   "cell_type": "code",
   "execution_count": null,
   "metadata": {},
   "outputs": [],
   "source": []
  },
  {
   "cell_type": "code",
   "execution_count": null,
   "metadata": {},
   "outputs": [],
   "source": []
  }
 ],
 "metadata": {
  "kernelspec": {
   "display_name": "Python 3",
   "language": "python",
   "name": "python3"
  },
  "language_info": {
   "codemirror_mode": {
    "name": "ipython",
    "version": 3
   },
   "file_extension": ".py",
   "mimetype": "text/x-python",
   "name": "python",
   "nbconvert_exporter": "python",
   "pygments_lexer": "ipython3",
   "version": "3.8.3"
  }
 },
 "nbformat": 4,
 "nbformat_minor": 4
}
