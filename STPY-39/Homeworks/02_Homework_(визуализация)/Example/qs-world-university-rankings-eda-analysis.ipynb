{
 "cells": [
  {
   "cell_type": "code",
   "execution_count": 1,
   "metadata": {
    "_cell_guid": "b1076dfc-b9ad-4769-8c92-a6c4dae69d19",
    "_uuid": "8f2839f25d086af736a60e9eeb907d3b93b6e0e5",
    "execution": {
     "iopub.execute_input": "2022-12-29T08:29:22.373773Z",
     "iopub.status.busy": "2022-12-29T08:29:22.372288Z",
     "iopub.status.idle": "2022-12-29T08:29:22.414043Z",
     "shell.execute_reply": "2022-12-29T08:29:22.412124Z",
     "shell.execute_reply.started": "2022-12-29T08:29:22.373635Z"
    }
   },
   "outputs": [],
   "source": [
    "# This Python 3 environment comes with many helpful analytics libraries installed\n",
    "# It is defined by the kaggle/python Docker image: https://github.com/kaggle/docker-python\n",
    "# For example, here's several helpful packages to load\n",
    "\n",
    "import numpy as np # linear algebra\n",
    "import pandas as pd # data processing, CSV file I/O (e.g. pd.read_csv)\n",
    "\n",
    "# Input data files are available in the read-only \"../input/\" directory\n",
    "# For example, running this (by clicking run or pressing Shift+Enter) will list all files under the input directory\n",
    "\n",
    "import os\n",
    "for dirname, _, filenames in os.walk('/kaggle/input'):\n",
    "    for filename in filenames:\n",
    "        print(os.path.join(dirname, filename))\n",
    "\n",
    "# You can write up to 20GB to the current directory (/kaggle/working/) that gets preserved as output when you create a version using \"Save & Run All\" \n",
    "# You can also write temporary files to /kaggle/temp/, but they won't be saved outside of the current session"
   ]
  },
  {
   "cell_type": "code",
   "execution_count": 2,
   "metadata": {
    "execution": {
     "iopub.execute_input": "2022-12-29T08:29:22.417141Z",
     "iopub.status.busy": "2022-12-29T08:29:22.416736Z",
     "iopub.status.idle": "2022-12-29T08:29:23.562458Z",
     "shell.execute_reply": "2022-12-29T08:29:23.560923Z",
     "shell.execute_reply.started": "2022-12-29T08:29:22.417107Z"
    }
   },
   "outputs": [],
   "source": [
    "#import libraries\n",
    "import pandas as pd\n",
    "import numpy as np\n",
    "import seaborn as sns\n",
    "import matplotlib.pyplot as plt\n"
   ]
  },
  {
   "cell_type": "code",
   "execution_count": 3,
   "metadata": {
    "execution": {
     "iopub.execute_input": "2022-12-29T08:29:23.564315Z",
     "iopub.status.busy": "2022-12-29T08:29:23.563971Z",
     "iopub.status.idle": "2022-12-29T08:29:23.629485Z",
     "shell.execute_reply": "2022-12-29T08:29:23.628521Z",
     "shell.execute_reply.started": "2022-12-29T08:29:23.564285Z"
    }
   },
   "outputs": [
    {
     "data": {
      "text/html": [
       "<div>\n",
       "<style scoped>\n",
       "    .dataframe tbody tr th:only-of-type {\n",
       "        vertical-align: middle;\n",
       "    }\n",
       "\n",
       "    .dataframe tbody tr th {\n",
       "        vertical-align: top;\n",
       "    }\n",
       "\n",
       "    .dataframe thead th {\n",
       "        text-align: right;\n",
       "    }\n",
       "</style>\n",
       "<table border=\"1\" class=\"dataframe\">\n",
       "  <thead>\n",
       "    <tr style=\"text-align: right;\">\n",
       "      <th></th>\n",
       "      <th>Year</th>\n",
       "      <th>Rank</th>\n",
       "      <th>Name</th>\n",
       "      <th>Point</th>\n",
       "      <th>City</th>\n",
       "      <th>Country</th>\n",
       "    </tr>\n",
       "  </thead>\n",
       "  <tbody>\n",
       "    <tr>\n",
       "      <th>5245</th>\n",
       "      <td>2022</td>\n",
       "      <td>346</td>\n",
       "      <td>National Cheng Kung University (NCKU)</td>\n",
       "      <td>60.7</td>\n",
       "      <td>Tainan City</td>\n",
       "      <td>Taiwan</td>\n",
       "    </tr>\n",
       "    <tr>\n",
       "      <th>5246</th>\n",
       "      <td>2022</td>\n",
       "      <td>346</td>\n",
       "      <td>University of New Mexico</td>\n",
       "      <td>60.7</td>\n",
       "      <td>Albuquerque</td>\n",
       "      <td>United States</td>\n",
       "    </tr>\n",
       "    <tr>\n",
       "      <th>5247</th>\n",
       "      <td>2022</td>\n",
       "      <td>348</td>\n",
       "      <td>Universitas Indonesia</td>\n",
       "      <td>60.6</td>\n",
       "      <td>Depok</td>\n",
       "      <td>Indonesia</td>\n",
       "    </tr>\n",
       "    <tr>\n",
       "      <th>5248</th>\n",
       "      <td>2022</td>\n",
       "      <td>349</td>\n",
       "      <td>Aga Khan University</td>\n",
       "      <td>60.5</td>\n",
       "      <td>Karachi</td>\n",
       "      <td>Pakistan</td>\n",
       "    </tr>\n",
       "    <tr>\n",
       "      <th>5249</th>\n",
       "      <td>2022</td>\n",
       "      <td>349</td>\n",
       "      <td>Northeastern University</td>\n",
       "      <td>60.5</td>\n",
       "      <td>Boston</td>\n",
       "      <td>United States</td>\n",
       "    </tr>\n",
       "  </tbody>\n",
       "</table>\n",
       "</div>"
      ],
      "text/plain": [
       "      Year  Rank                                   Name  Point         City  \\\n",
       "5245  2022   346  National Cheng Kung University (NCKU)   60.7  Tainan City   \n",
       "5246  2022   346               University of New Mexico   60.7  Albuquerque   \n",
       "5247  2022   348                  Universitas Indonesia   60.6        Depok   \n",
       "5248  2022   349                    Aga Khan University   60.5      Karachi   \n",
       "5249  2022   349                Northeastern University   60.5       Boston   \n",
       "\n",
       "             Country  \n",
       "5245          Taiwan  \n",
       "5246   United States  \n",
       "5247       Indonesia  \n",
       "5248        Pakistan  \n",
       "5249   United States  "
      ]
     },
     "execution_count": 3,
     "metadata": {},
     "output_type": "execute_result"
    }
   ],
   "source": [
    "#Read data\n",
    "path='data1.csv'\n",
    "df=pd.read_csv(path)\n",
    "df.head()\n",
    "df.tail()"
   ]
  },
  {
   "cell_type": "code",
   "execution_count": 4,
   "metadata": {
    "execution": {
     "iopub.execute_input": "2022-12-29T08:29:23.633352Z",
     "iopub.status.busy": "2022-12-29T08:29:23.631781Z",
     "iopub.status.idle": "2022-12-29T08:29:23.67243Z",
     "shell.execute_reply": "2022-12-29T08:29:23.670582Z",
     "shell.execute_reply.started": "2022-12-29T08:29:23.633309Z"
    }
   },
   "outputs": [
    {
     "name": "stdout",
     "output_type": "stream",
     "text": [
      "<class 'pandas.core.frame.DataFrame'>\n",
      "RangeIndex: 5250 entries, 0 to 5249\n",
      "Data columns (total 6 columns):\n",
      " #   Column   Non-Null Count  Dtype  \n",
      "---  ------   --------------  -----  \n",
      " 0   Year     5250 non-null   int64  \n",
      " 1   Rank     5250 non-null   int64  \n",
      " 2   Name     5250 non-null   object \n",
      " 3   Point    5030 non-null   float64\n",
      " 4   City     5250 non-null   object \n",
      " 5   Country  5249 non-null   object \n",
      "dtypes: float64(1), int64(2), object(3)\n",
      "memory usage: 246.2+ KB\n"
     ]
    }
   ],
   "source": [
    "#data info\n",
    "df.info()"
   ]
  },
  {
   "cell_type": "code",
   "execution_count": null,
   "metadata": {
    "execution": {
     "iopub.execute_input": "2022-12-29T08:29:23.676751Z",
     "iopub.status.busy": "2022-12-29T08:29:23.674356Z",
     "iopub.status.idle": "2022-12-29T08:29:23.704378Z",
     "shell.execute_reply": "2022-12-29T08:29:23.703036Z",
     "shell.execute_reply.started": "2022-12-29T08:29:23.676673Z"
    }
   },
   "outputs": [],
   "source": [
    "#remove Na\n",
    "df=df.dropna()\n",
    "df.isnull().sum()"
   ]
  },
  {
   "cell_type": "code",
   "execution_count": 5,
   "metadata": {
    "execution": {
     "iopub.execute_input": "2022-12-29T08:29:23.707985Z",
     "iopub.status.busy": "2022-12-29T08:29:23.706964Z",
     "iopub.status.idle": "2022-12-29T08:29:23.724341Z",
     "shell.execute_reply": "2022-12-29T08:29:23.722658Z",
     "shell.execute_reply.started": "2022-12-29T08:29:23.707931Z"
    }
   },
   "outputs": [
    {
     "data": {
      "text/plain": [
       "London            102\n",
       "-                  97\n",
       "New York City      83\n",
       "Seoul              60\n",
       "Tokyo              50\n",
       "                 ... \n",
       "Brno                1\n",
       "Belfast             1\n",
       "Burwood             1\n",
       "Gif-sur-Yvette      1\n",
       "Lille               1\n",
       "Name: City, Length: 326, dtype: int64"
      ]
     },
     "execution_count": 5,
     "metadata": {},
     "output_type": "execute_result"
    }
   ],
   "source": [
    "#compute value counts\n",
    "df['City'].value_counts()"
   ]
  },
  {
   "cell_type": "code",
   "execution_count": 6,
   "metadata": {
    "execution": {
     "iopub.execute_input": "2022-12-29T08:29:23.727774Z",
     "iopub.status.busy": "2022-12-29T08:29:23.726781Z",
     "iopub.status.idle": "2022-12-29T08:29:24.493766Z",
     "shell.execute_reply": "2022-12-29T08:29:24.492451Z",
     "shell.execute_reply.started": "2022-12-29T08:29:23.72772Z"
    }
   },
   "outputs": [
    {
     "data": {
      "image/png": "[encoded data removed]",
      "text/plain": [
       "<Figure size 1080x576 with 1 Axes>"
      ]
     },
     "metadata": {
      "needs_background": "light"
     },
     "output_type": "display_data"
    }
   ],
   "source": [
    "#distribution of Universities by country\n",
    "\n",
    "\n",
    "plt.figure(figsize=(15,8))\n",
    "sns.countplot(data=df,x='Country')\n",
    "plt.title('Number of Universities in QS University Rankings by Country')\n",
    "plt.xticks(rotation=90)\n",
    "plt.show()"
   ]
  },
  {
   "cell_type": "code",
   "execution_count": 8,
   "metadata": {
    "execution": {
     "iopub.execute_input": "2022-12-29T08:29:24.496705Z",
     "iopub.status.busy": "2022-12-29T08:29:24.495895Z",
     "iopub.status.idle": "2022-12-29T08:29:24.510008Z",
     "shell.execute_reply": "2022-12-29T08:29:24.508434Z",
     "shell.execute_reply.started": "2022-12-29T08:29:24.496639Z"
    }
   },
   "outputs": [],
   "source": [
    "#segregate the rankings year wise\n",
    "df2018=df[df['Year']==2018]\n",
    "df2019=df[df['Year']==2019]\n",
    "df2020=df[df['Year']==2020]\n",
    "df2021=df[df['Year']==2021]\n",
    "df2022=df[df['Year']==2022]\n",
    "    "
   ]
  },
  {
   "cell_type": "code",
   "execution_count": 9,
   "metadata": {
    "execution": {
     "iopub.execute_input": "2022-12-29T08:29:24.516623Z",
     "iopub.status.busy": "2022-12-29T08:29:24.515769Z",
     "iopub.status.idle": "2022-12-29T08:29:24.53739Z",
     "shell.execute_reply": "2022-12-29T08:29:24.535402Z",
     "shell.execute_reply.started": "2022-12-29T08:29:24.516547Z"
    }
   },
   "outputs": [
    {
     "data": {
      "text/html": [
       "<div>\n",
       "<style scoped>\n",
       "    .dataframe tbody tr th:only-of-type {\n",
       "        vertical-align: middle;\n",
       "    }\n",
       "\n",
       "    .dataframe tbody tr th {\n",
       "        vertical-align: top;\n",
       "    }\n",
       "\n",
       "    .dataframe thead th {\n",
       "        text-align: right;\n",
       "    }\n",
       "</style>\n",
       "<table border=\"1\" class=\"dataframe\">\n",
       "  <thead>\n",
       "    <tr style=\"text-align: right;\">\n",
       "      <th></th>\n",
       "      <th>Year</th>\n",
       "      <th>Rank</th>\n",
       "      <th>Name</th>\n",
       "      <th>Point</th>\n",
       "      <th>City</th>\n",
       "      <th>Country</th>\n",
       "    </tr>\n",
       "  </thead>\n",
       "  <tbody>\n",
       "    <tr>\n",
       "      <th>3500</th>\n",
       "      <td>2022</td>\n",
       "      <td>1</td>\n",
       "      <td>Harvard University</td>\n",
       "      <td>97.7</td>\n",
       "      <td>Cambridge</td>\n",
       "      <td>United States</td>\n",
       "    </tr>\n",
       "    <tr>\n",
       "      <th>3501</th>\n",
       "      <td>2022</td>\n",
       "      <td>2</td>\n",
       "      <td>University of Cambridge</td>\n",
       "      <td>94.6</td>\n",
       "      <td>Cambridge</td>\n",
       "      <td>United Kingdom</td>\n",
       "    </tr>\n",
       "    <tr>\n",
       "      <th>3502</th>\n",
       "      <td>2022</td>\n",
       "      <td>2</td>\n",
       "      <td>University of Oxford</td>\n",
       "      <td>94.6</td>\n",
       "      <td>Oxford</td>\n",
       "      <td>United Kingdom</td>\n",
       "    </tr>\n",
       "    <tr>\n",
       "      <th>3503</th>\n",
       "      <td>2022</td>\n",
       "      <td>4</td>\n",
       "      <td>Massachusetts Institute of Technology (MIT)</td>\n",
       "      <td>92.5</td>\n",
       "      <td>Cambridge</td>\n",
       "      <td>United States</td>\n",
       "    </tr>\n",
       "    <tr>\n",
       "      <th>3504</th>\n",
       "      <td>2022</td>\n",
       "      <td>5</td>\n",
       "      <td>Johns Hopkins University</td>\n",
       "      <td>92.1</td>\n",
       "      <td>Baltimore</td>\n",
       "      <td>United States</td>\n",
       "    </tr>\n",
       "  </tbody>\n",
       "</table>\n",
       "</div>"
      ],
      "text/plain": [
       "      Year  Rank                                         Name  Point  \\\n",
       "3500  2022     1                           Harvard University   97.7   \n",
       "3501  2022     2                      University of Cambridge   94.6   \n",
       "3502  2022     2                         University of Oxford   94.6   \n",
       "3503  2022     4  Massachusetts Institute of Technology (MIT)   92.5   \n",
       "3504  2022     5                     Johns Hopkins University   92.1   \n",
       "\n",
       "           City          Country  \n",
       "3500  Cambridge    United States  \n",
       "3501  Cambridge   United Kingdom  \n",
       "3502     Oxford   United Kingdom  \n",
       "3503  Cambridge    United States  \n",
       "3504  Baltimore    United States  "
      ]
     },
     "execution_count": 9,
     "metadata": {},
     "output_type": "execute_result"
    }
   ],
   "source": [
    "#print the top 5 Universities \n",
    "df2022.head()"
   ]
  },
  {
   "cell_type": "code",
   "execution_count": 10,
   "metadata": {
    "execution": {
     "iopub.execute_input": "2022-12-29T08:29:24.54003Z",
     "iopub.status.busy": "2022-12-29T08:29:24.539378Z",
     "iopub.status.idle": "2022-12-29T08:29:24.562282Z",
     "shell.execute_reply": "2022-12-29T08:29:24.560888Z",
     "shell.execute_reply.started": "2022-12-29T08:29:24.53997Z"
    }
   },
   "outputs": [
    {
     "data": {
      "text/html": [
       "<div>\n",
       "<style scoped>\n",
       "    .dataframe tbody tr th:only-of-type {\n",
       "        vertical-align: middle;\n",
       "    }\n",
       "\n",
       "    .dataframe tbody tr th {\n",
       "        vertical-align: top;\n",
       "    }\n",
       "\n",
       "    .dataframe thead th {\n",
       "        text-align: right;\n",
       "    }\n",
       "</style>\n",
       "<table border=\"1\" class=\"dataframe\">\n",
       "  <thead>\n",
       "    <tr style=\"text-align: right;\">\n",
       "      <th></th>\n",
       "      <th>Year</th>\n",
       "      <th>Rank</th>\n",
       "      <th>Name</th>\n",
       "      <th>Point</th>\n",
       "      <th>City</th>\n",
       "      <th>Country</th>\n",
       "    </tr>\n",
       "  </thead>\n",
       "  <tbody>\n",
       "    <tr>\n",
       "      <th>5245</th>\n",
       "      <td>2022</td>\n",
       "      <td>346</td>\n",
       "      <td>National Cheng Kung University (NCKU)</td>\n",
       "      <td>60.7</td>\n",
       "      <td>Tainan City</td>\n",
       "      <td>Taiwan</td>\n",
       "    </tr>\n",
       "    <tr>\n",
       "      <th>5246</th>\n",
       "      <td>2022</td>\n",
       "      <td>346</td>\n",
       "      <td>University of New Mexico</td>\n",
       "      <td>60.7</td>\n",
       "      <td>Albuquerque</td>\n",
       "      <td>United States</td>\n",
       "    </tr>\n",
       "    <tr>\n",
       "      <th>5247</th>\n",
       "      <td>2022</td>\n",
       "      <td>348</td>\n",
       "      <td>Universitas Indonesia</td>\n",
       "      <td>60.6</td>\n",
       "      <td>Depok</td>\n",
       "      <td>Indonesia</td>\n",
       "    </tr>\n",
       "    <tr>\n",
       "      <th>5248</th>\n",
       "      <td>2022</td>\n",
       "      <td>349</td>\n",
       "      <td>Aga Khan University</td>\n",
       "      <td>60.5</td>\n",
       "      <td>Karachi</td>\n",
       "      <td>Pakistan</td>\n",
       "    </tr>\n",
       "    <tr>\n",
       "      <th>5249</th>\n",
       "      <td>2022</td>\n",
       "      <td>349</td>\n",
       "      <td>Northeastern University</td>\n",
       "      <td>60.5</td>\n",
       "      <td>Boston</td>\n",
       "      <td>United States</td>\n",
       "    </tr>\n",
       "  </tbody>\n",
       "</table>\n",
       "</div>"
      ],
      "text/plain": [
       "      Year  Rank                                   Name  Point         City  \\\n",
       "5245  2022   346  National Cheng Kung University (NCKU)   60.7  Tainan City   \n",
       "5246  2022   346               University of New Mexico   60.7  Albuquerque   \n",
       "5247  2022   348                  Universitas Indonesia   60.6        Depok   \n",
       "5248  2022   349                    Aga Khan University   60.5      Karachi   \n",
       "5249  2022   349                Northeastern University   60.5       Boston   \n",
       "\n",
       "             Country  \n",
       "5245          Taiwan  \n",
       "5246   United States  \n",
       "5247       Indonesia  \n",
       "5248        Pakistan  \n",
       "5249   United States  "
      ]
     },
     "execution_count": 10,
     "metadata": {},
     "output_type": "execute_result"
    }
   ],
   "source": [
    "# last 5 raked universities\n",
    "df2022.tail()"
   ]
  },
  {
   "cell_type": "code",
   "execution_count": 11,
   "metadata": {
    "execution": {
     "iopub.execute_input": "2022-12-29T08:29:24.564826Z",
     "iopub.status.busy": "2022-12-29T08:29:24.564102Z",
     "iopub.status.idle": "2022-12-29T08:29:25.805973Z",
     "shell.execute_reply": "2022-12-29T08:29:25.803896Z",
     "shell.execute_reply.started": "2022-12-29T08:29:24.564789Z"
    }
   },
   "outputs": [
    {
     "data": {
      "image/png": "[encoded data removed]",
      "text/plain": [
       "<Figure size 1080x504 with 1 Axes>"
      ]
     },
     "metadata": {
      "needs_background": "light"
     },
     "output_type": "display_data"
    }
   ],
   "source": [
    "#plot the points scored by Universities from different countries\n",
    "plt.figure(figsize=(15,7))\n",
    "sns.boxplot(data=df,x='Country',y='Point')\n",
    "plt.xticks(rotation=90)\n",
    "plt.title('University points scored by countries')\n",
    "plt.show()"
   ]
  },
  {
   "cell_type": "code",
   "execution_count": null,
   "metadata": {
    "execution": {
     "iopub.execute_input": "2022-12-29T08:29:25.808534Z",
     "iopub.status.busy": "2022-12-29T08:29:25.808079Z",
     "iopub.status.idle": "2022-12-29T08:29:28.739823Z",
     "shell.execute_reply": "2022-12-29T08:29:28.738507Z",
     "shell.execute_reply.started": "2022-12-29T08:29:25.80849Z"
    }
   },
   "outputs": [],
   "source": [
    "dfs=[df2018,df2019,df2020,df2021,df2022]\n",
    "year=2018\n",
    "for df in dfs:\n",
    "    plt.figure(figsize=(15,7))\n",
    "    df['Country'].value_counts().plot.bar(color='red')\n",
    "    text=str(year)\n",
    "    plt.title('Number of Universities in QS World University Rankings by Country for the year '+text)\n",
    "    year=year+1\n",
    "    plt.show()"
   ]
  },
  {
   "cell_type": "code",
   "execution_count": null,
   "metadata": {
    "execution": {
     "iopub.execute_input": "2022-12-29T08:29:28.744288Z",
     "iopub.status.busy": "2022-12-29T08:29:28.742901Z",
     "iopub.status.idle": "2022-12-29T08:29:28.75735Z",
     "shell.execute_reply": "2022-12-29T08:29:28.756096Z",
     "shell.execute_reply.started": "2022-12-29T08:29:28.744241Z"
    }
   },
   "outputs": [],
   "source": [
    "#create individual data frames of count of number of universities per year\n",
    "dfs=[df2018,df2019,df2020,df2021,df2022]\n",
    "year=2018\n",
    "counts=[]\n",
    "for df in dfs:\n",
    "    \n",
    "    counts.append(pd.DataFrame(df['Country'].value_counts()))"
   ]
  },
  {
   "cell_type": "code",
   "execution_count": null,
   "metadata": {
    "execution": {
     "iopub.execute_input": "2022-12-29T08:29:28.759485Z",
     "iopub.status.busy": "2022-12-29T08:29:28.759106Z",
     "iopub.status.idle": "2022-12-29T08:29:28.787207Z",
     "shell.execute_reply": "2022-12-29T08:29:28.78552Z",
     "shell.execute_reply.started": "2022-12-29T08:29:28.759451Z"
    }
   },
   "outputs": [],
   "source": [
    "#Add years as the column headings\n",
    "year=2018\n",
    "for i in counts:\n",
    "    col=str(year)\n",
    "    i.columns=[col]\n",
    "    year=year+1\n",
    "counts"
   ]
  },
  {
   "cell_type": "code",
   "execution_count": null,
   "metadata": {
    "execution": {
     "iopub.execute_input": "2022-12-29T08:29:28.790579Z",
     "iopub.status.busy": "2022-12-29T08:29:28.78948Z",
     "iopub.status.idle": "2022-12-29T08:29:28.814621Z",
     "shell.execute_reply": "2022-12-29T08:29:28.813103Z",
     "shell.execute_reply.started": "2022-12-29T08:29:28.790421Z"
    }
   },
   "outputs": [],
   "source": [
    "#make a total data frame of all years counts (keeping only countries that were there in 2018 ranking list)\n",
    "counts[0]['2019']=counts[1]['2019']\n",
    "counts[0]['2020']=counts[2]['2020']\n",
    "counts[0]['2021']=counts[3]['2021']\n",
    "counts[0]['2022']=counts[4]['2022']\n",
    "\n",
    "fin_count=counts[0]\n",
    "fin_count"
   ]
  },
  {
   "cell_type": "code",
   "execution_count": null,
   "metadata": {
    "execution": {
     "iopub.execute_input": "2022-12-29T08:29:28.817312Z",
     "iopub.status.busy": "2022-12-29T08:29:28.816838Z",
     "iopub.status.idle": "2022-12-29T08:29:28.83151Z",
     "shell.execute_reply": "2022-12-29T08:29:28.830252Z",
     "shell.execute_reply.started": "2022-12-29T08:29:28.817269Z"
    }
   },
   "outputs": [],
   "source": [
    "fin_count.info()"
   ]
  },
  {
   "cell_type": "code",
   "execution_count": null,
   "metadata": {
    "execution": {
     "iopub.execute_input": "2022-12-29T08:29:28.833686Z",
     "iopub.status.busy": "2022-12-29T08:29:28.833257Z",
     "iopub.status.idle": "2022-12-29T08:29:29.743717Z",
     "shell.execute_reply": "2022-12-29T08:29:29.742353Z",
     "shell.execute_reply.started": "2022-12-29T08:29:28.833651Z"
    }
   },
   "outputs": [],
   "source": [
    "#plot showing the growth of number of Universities in the QS rankings\n",
    "plt.figure(figsize=(25,12))\n",
    "fin_count.plot(kind='bar',figsize=(20,10))\n",
    "plt.show()"
   ]
  },
  {
   "cell_type": "code",
   "execution_count": null,
   "metadata": {
    "execution": {
     "iopub.execute_input": "2022-12-29T08:29:29.74662Z",
     "iopub.status.busy": "2022-12-29T08:29:29.745792Z",
     "iopub.status.idle": "2022-12-29T08:29:29.768855Z",
     "shell.execute_reply": "2022-12-29T08:29:29.767259Z",
     "shell.execute_reply.started": "2022-12-29T08:29:29.746569Z"
    }
   },
   "outputs": [],
   "source": [
    "#compute percentage change in number of Universities from 2018 to 2022\n",
    "fin_count['per_ch']=(fin_count['2022']-fin_count['2018'])/fin_count['2018']*100\n",
    "fin_count"
   ]
  },
  {
   "cell_type": "code",
   "execution_count": null,
   "metadata": {
    "execution": {
     "iopub.execute_input": "2022-12-29T08:29:29.771645Z",
     "iopub.status.busy": "2022-12-29T08:29:29.770602Z",
     "iopub.status.idle": "2022-12-29T08:29:30.376154Z",
     "shell.execute_reply": "2022-12-29T08:29:30.374574Z",
     "shell.execute_reply.started": "2022-12-29T08:29:29.771608Z"
    }
   },
   "outputs": [],
   "source": [
    "#plot percentage of increase in number of universities from 2018 to 2022\n",
    "plt.figure(figsize=(20,12))\n",
    "sns.barplot(data=fin_count,x=fin_count.index,y='per_ch')\n",
    "plt.title('Percentage increase in number of Universities in QS word University Rankings from 2018 to 2022')\n",
    "plt.xticks(rotation=90)\n",
    "plt.show()"
   ]
  },
  {
   "cell_type": "code",
   "execution_count": null,
   "metadata": {
    "execution": {
     "iopub.execute_input": "2022-12-29T08:35:21.891883Z",
     "iopub.status.busy": "2022-12-29T08:35:21.891323Z",
     "iopub.status.idle": "2022-12-29T08:35:21.92922Z",
     "shell.execute_reply": "2022-12-29T08:35:21.927585Z",
     "shell.execute_reply.started": "2022-12-29T08:35:21.891844Z"
    }
   },
   "outputs": [],
   "source": [
    "#compute contribution of each country to the QS world University rankings for years\n",
    "fin_count['2018_prop']=fin_count['2018']/(fin_count['2018'].sum())*100\n",
    "fin_count['2019_prop']=fin_count['2019']/(fin_count['2019'].sum())*100\n",
    "fin_count['2020_prop']=fin_count['2020']/(fin_count['2020'].sum())*100\n",
    "fin_count['2021_prop']=fin_count['2021']/(fin_count['2021'].sum())*100\n",
    "fin_count['2022_prop']=fin_count['2022']/(fin_count['2022'].sum())*100\n",
    "fin_count"
   ]
  },
  {
   "cell_type": "code",
   "execution_count": null,
   "metadata": {
    "execution": {
     "iopub.execute_input": "2022-12-29T08:56:12.449822Z",
     "iopub.status.busy": "2022-12-29T08:56:12.4483Z",
     "iopub.status.idle": "2022-12-29T08:56:15.48251Z",
     "shell.execute_reply": "2022-12-29T08:56:15.481048Z",
     "shell.execute_reply.started": "2022-12-29T08:56:12.449763Z"
    }
   },
   "outputs": [],
   "source": [
    "#plot the contribution of each country to the Rankings\n",
    "prop_cols=['2018_prop','2019_prop','2020_prop','2021_prop','2022_prop']\n",
    "year=2018\n",
    "for col in prop_cols:\n",
    "    \n",
    "    text=str(year)\n",
    "    plt.figure(figsize=(15,7))\n",
    "    plt.pie(x=fin_count[col],labels=fin_count.index,autopct='%.1f%%',rotatelabels=True)\n",
    "    plt.title('Contribution of countries to the QS world University rankings for '+text)\n",
    "    year=year+1\n",
    "    plt.show()"
   ]
  },
  {
   "cell_type": "markdown",
   "metadata": {},
   "source": [
    "# **The US, Germany and the UK constantly ranked in the first three places in University rankings**"
   ]
  },
  {
   "cell_type": "markdown",
   "metadata": {},
   "source": [
    "Thanks for your time!"
   ]
  }
 ],
 "metadata": {
  "kernelspec": {
   "display_name": "Python 3",
   "language": "python",
   "name": "python3"
  },
  "language_info": {
   "codemirror_mode": {
    "name": "ipython",
    "version": 3
   },
   "file_extension": ".py",
   "mimetype": "text/x-python",
   "name": "python",
   "nbconvert_exporter": "python",
   "pygments_lexer": "ipython3",
   "version": "3.8.3"
  }
 },
 "nbformat": 4,
 "nbformat_minor": 4
}
