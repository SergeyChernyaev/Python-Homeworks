{
 "cells": [
  {
   "cell_type": "markdown",
   "metadata": {},
   "source": [
    "**Задача 1.** Оценить вероятность того, что на игральной кости выпадет больше 4 очков. Сравнить с теоретической вероятностью."
   ]
  },
  {
   "cell_type": "code",
   "execution_count": 2,
   "metadata": {},
   "outputs": [
    {
     "name": "stdout",
     "output_type": "stream",
     "text": [
      "3319 10000 0.3319 0.3333333333333333\n"
     ]
    }
   ],
   "source": [
    "import numpy as np\n",
    "\n",
    "trials = 10000    # Количество попыток\n",
    "successes = 0    # Количество успехов\n",
    "\n",
    "for i in range(trials):\n",
    "    random_score = np.random.randint(1, 7)    # Случайное количество очков от 1 до 6\n",
    "    if random_score > 4:\n",
    "        successes += 1\n",
    "        \n",
    "p_monte_carlo = successes / trials    # Вероятность из моделирования\n",
    "p = 2 / 6                             # Теоретическая вероятность\n",
    "\n",
    "print(successes, trials, p_monte_carlo, p)"
   ]
  },
  {
   "cell_type": "markdown",
   "metadata": {},
   "source": [
    "Смоделировать игру против лотерейного автомата типа “777”. Игрок платит 1 руб., после чего выпадает случайное целое число, равномерно распределенное от 0 до 999. При некоторых значениях числа игрок получает выигрыш.\n",
    "\n",
    "\n",
    "\n",
    "777: 200 руб.\n",
    "\n",
    "\n",
    "999: 100 руб.\n",
    "\n",
    "\n",
    "555: 50 руб.\n",
    "\n",
    "333: 15 руб.\n",
    "\n",
    "111: 10 руб.\n",
    "\n",
    "*77: 5 руб.\n",
    "\n",
    "**7: 3 руб.\n",
    "\n",
    "*00: 2 руб.\n",
    "\n",
    "**0: 1 руб.\n",
    "\n",
    "**Вопросы:**\n",
    "1. Выгодна ли игра игроку?\n",
    "2. Сколько в среднем приобретает или теряет игрок за одну игру?\n"
   ]
  },
  {
   "cell_type": "code",
   "execution_count": 57,
   "metadata": {},
   "outputs": [
    {
     "name": "stdout",
     "output_type": "stream",
     "text": [
      "Количество попыток  1000000 Окончательный баланс:-238485 рублей. Общий начисленный выигрыш: 761515 рублей\n",
      "Процент отдачи игрового автомата (RTP):76.1515\n",
      "Сколько в среднем приобретает или теряет игрок за одну игру при ставке 1 рубль: -0.238485  рубля\n",
      "Wall time: 17.8 s\n"
     ]
    }
   ],
   "source": [
    "%%time\n",
    "import numpy as np\n",
    "\n",
    "trials = 1000000 # Количество попыток\n",
    "successes = 0    # Количество успехов\n",
    "balance = 0 # Баланс игрового автомата\n",
    "win_all = 0 # Общая сумма призовых выплат\n",
    "for i in range(trials):\n",
    "    \n",
    "    balance -=1 # Игрок платит 1 руб.\n",
    "    win = 0 # выигрыша пока нет\n",
    "    # Вращается барабан:\n",
    "    #--------------------Блок по разрядам-----------------------------\n",
    "    first_num = np.random.randint(0, 10)    # Случайная 1 разряда  от 0 до 9\n",
    "    second_num = np.random.randint(0, 10)   # Случайная 2 разряда  от 0 до 9\n",
    "    third_num = np.random.randint(0, 10)    # Случайная 3 разряда  от 0 до 9\n",
    "    #-----------------------------------------------------------------\n",
    "   \n",
    "    \n",
    "    # Начисление выигрыша\n",
    "    #balance = win_calc(balance )\n",
    "    # Можно создать словарь...\n",
    "    \n",
    "    if first_num == 7 and second_num == 7 and  third_num == 7: \n",
    "        win = 200 \n",
    "        win_all +=win\n",
    "    if first_num == 9 and second_num == 9 and  third_num == 9: \n",
    "        win = 100\n",
    "        win_all +=win\n",
    "    if first_num == 5 and second_num == 5 and  third_num == 5: \n",
    "        win = 50   \n",
    "        win_all +=win\n",
    "    if first_num == 3 and second_num == 3 and  third_num == 3: \n",
    "        win = 15\n",
    "        win_all +=win\n",
    "    if first_num == 1 and second_num == 1 and  third_num == 1: \n",
    "        win = 10 \n",
    "        win_all +=win\n",
    "    if first_num != 7 and second_num == 7 and  third_num == 7: \n",
    "        win = 5\n",
    "        win_all +=win\n",
    "    if first_num != 7 and second_num != 7 and  third_num == 7: \n",
    "        win = 3\n",
    "        win_all +=win    \n",
    "        \n",
    "    if second_num == 0 and third_num == 0: \n",
    "        win = 2\n",
    "        win_all +=win\n",
    "       \n",
    "    if second_num != 0 and third_num == 0: \n",
    "        win = 1\n",
    "        win_all +=win \n",
    "       \n",
    "    balance +=win\n",
    "    \n",
    "    \n",
    "   # print (f'Попытка: {i+1} Комбинация:{first_num}{second_num}{third_num} Выигрыш {win} Баланс {balance}')\n",
    "     \n",
    "print (f'Количество попыток  {i+1} Окончательный баланс:{balance} рублей. Общий начисленный выигрыш: {win_all} рублей')        \n",
    "print (f'Процент отдачи игрового автомата (RTP):{(win_all/trials)*100}')\n",
    "print(f'Сколько в среднем приобретает или теряет игрок за одну игру при ставке 1 рубль: {balance/trials}  рубля')"
   ]
  },
  {
   "cell_type": "code",
   "execution_count": 87,
   "metadata": {},
   "outputs": [
    {
     "name": "stdout",
     "output_type": "stream",
     "text": [
      "Количество вращений барабанов:10000000 Окончательный баланс:-1984350 рублей. Общий начисленный выигрыш:8015650 рублей\n",
      "Процент отдачи игрового автомата (RTP):80.1565\n",
      "Сколько в среднем приобретает (+) или теряет (-) игрок за одну игру: -0.198435  рубля\n",
      "Wall time: 1min 20s\n"
     ]
    }
   ],
   "source": [
    "%%time\n",
    "\n",
    "import numpy as np\n",
    "\n",
    "trials = 10**7 # Количество игр - 10 миллионов\n",
    "balance = 0 # Баланс игрового автомата\n",
    "win_all = 0 # Общая сумма призовых выплат\n",
    "for i in range(trials):\n",
    "    \n",
    "    balance -=1 # Игрок платит 1 руб.\n",
    "    win = 0 # выигрыша пока нет\n",
    "    # Вращается барабан:\n",
    "    #--------------------Блок целиком--------------------------------\n",
    "    num = np.random.randint(0, 1000)    # Случайная полная комбинация\n",
    "    #-----------------------------------------------------------------\n",
    "    # ---- Таблица подсчёта выигрышей---------------------------------   \n",
    "    if num == 777:        win = 200 \n",
    "    elif num == 999:      win = 100\n",
    "    elif num == 555:      win = 50   \n",
    "    elif num == 333:      win = 15\n",
    "    elif num == 111:      win = 10 \n",
    "    elif num % 100 == 77: win = 5\n",
    "    elif num % 10 == 7:   win = 3\n",
    "    elif num % 100 == 0:  win = 2\n",
    "    elif num % 10 == 0 :  win = 1\n",
    "    else: win = 0     \n",
    "        \n",
    "    win_all +=win   \n",
    "    balance +=win\n",
    "    #print (f'Попытка: {i+1} Число: {num} Комбинация: {num:03} Выигрыш: {win} Баланс: {balance}')\n",
    "     \n",
    "print (f'Количество вращений барабанов:{i+1} Окончательный баланс:{balance} рублей. Общий начисленный выигрыш:{win_all} рублей')        \n",
    "print (f'Процент отдачи игрового автомата (RTP):{(win_all/trials)*100}')\n",
    "print(f'Сколько в среднем приобретает (+) или теряет (-) игрок за одну игру: {balance/trials}  рубля')"
   ]
  },
  {
   "cell_type": "code",
   "execution_count": 64,
   "metadata": {},
   "outputs": [
    {
     "name": "stdout",
     "output_type": "stream",
     "text": [
      "007\n",
      "Win 3\n"
     ]
    }
   ],
   "source": [
    "import re\n",
    "win = 0\n",
    "num = 7\n",
    "win_all = 0\n",
    "print(str(num).zfill(3))\n",
    "\n",
    "if num == 777:        win = 200 \n",
    "elif num == 999:      win = 100\n",
    "elif num == 555:      win = 50   \n",
    "elif num == 333:      win = 15\n",
    "elif num == 111:      win = 10 \n",
    "elif num % 100 == 77: win = 5\n",
    "elif num % 10 == 7:   win = 3\n",
    "elif num % 100 == 0:  win = 2\n",
    "elif num % 10 == 0 :  win = 1\n",
    "else: win = 0     \n",
    "        \n",
    "print('Win',win)        "
   ]
  },
  {
   "cell_type": "markdown",
   "metadata": {},
   "source": [
    "**Вывод:** При устновленной в условиях цене выигрышных комбинаций выигрыш на стороне игрового автомата.\n",
    "\n",
    "Игра не выгодна игроку."
   ]
  },
  {
   "cell_type": "markdown",
   "metadata": {},
   "source": [
    "Априорное определение вероятности:"
   ]
  },
  {
   "cell_type": "code",
   "execution_count": 81,
   "metadata": {},
   "outputs": [
    {
     "data": {
      "text/plain": [
       "0.8"
      ]
     },
     "execution_count": 81,
     "metadata": {},
     "output_type": "execute_result"
    }
   ],
   "source": [
    "                    \n",
    "Pay_777 = (1./1000)*200    #  Выигрыш на комбинации 777\n",
    "Pay_999 = (1./1000)*100    #  Выигрыш на комбинации 999\n",
    "Pay_555 = (1./1000)*50     #  Выигрыш на комбинации 555\n",
    "Pay_333 = (1./1000)*15     #  Выигрыш на комбинации 333\n",
    "Pay_111 = (1./1000)*10     #  Выигрыш на комбинации 111\n",
    "Pay_77  = (9./1000)*5      #  Выигрыш на комбинации *77\n",
    "Pay_00  = (10./1000)*2     #  Выигрыш на комбинации *00\n",
    "Pay_7   = ((45*2)/1000)*3 # 45 -количество сочетаний из 10 возможных цифр на 2 разряда, поскольку \n",
    "                        # наc не интересует уникальность берем и зеркальные комбинации например 12 и 21, \n",
    "                        # т.е. умножаем количество сочетаний на 2\n",
    "P_0   = ((45*2)/1000)*1 # То же самое и для **0: 1 руб.\n",
    "\n",
    "P_all = P_777 + P_999 + P_555 + P_333 + P_111 + P_77 + P_00 + P_7 + P_0\n",
    "P_all"
   ]
  },
  {
   "cell_type": "code",
   "execution_count": 82,
   "metadata": {},
   "outputs": [
    {
     "data": {
      "text/plain": [
       "0.7999999999999999"
      ]
     },
     "execution_count": 82,
     "metadata": {},
     "output_type": "execute_result"
    }
   ],
   "source": [
    "# Комментарий преподавателя\n",
    "res = 0.001*(200 + 100 + 50 + 15 + 10) + (9/1000)*5 + (10/1000)*2 + ((99-9)/1000)*3 + ((100-10)/1000)*1\n",
    "res"
   ]
  }
 ],
 "metadata": {
  "kernelspec": {
   "display_name": "Python 3",
   "language": "python",
   "name": "python3"
  },
  "language_info": {
   "codemirror_mode": {
    "name": "ipython",
    "version": 3
   },
   "file_extension": ".py",
   "mimetype": "text/x-python",
   "name": "python",
   "nbconvert_exporter": "python",
   "pygments_lexer": "ipython3",
   "version": "3.8.3"
  }
 },
 "nbformat": 4,
 "nbformat_minor": 4
}
