{
 "cells": [
  {
   "cell_type": "markdown",
   "metadata": {},
   "source": [
    "# Домашняя работа к лекции \n",
    "# «Случайные события. Случайные величины»\n"
   ]
  },
  {
   "cell_type": "markdown",
   "metadata": {},
   "source": [
    "### Задание\n",
    "Смоделировать игру против лотерейного автомата типа “777”. Игрок платит 1 руб., после чего выпадает случайное целое число, равномерно распределенное от 0 до 999. При некоторых значениях числа игрок получает выигрыш (см. справа)\n",
    " - 777: 200 руб.\n",
    " - 999: 100 руб.\n",
    " - 555: 50 руб.\n",
    " - 333: 15 руб.\n",
    " - 111: 10 руб.\n",
    " - *77: 5 руб.\n",
    " - **7: 3 руб.\n",
    " - *00: 2 руб.\n",
    " - **0: 1 руб.\n",
    "\n",
    " – * любая цифра\n",
    "\n",
    "Выгодна ли игра игроку?\n",
    "\n",
    "Сколько в среднем приобретает\n",
    "или теряет игрок за одну игру?\n",
    "\n",
    " \n",
    "\n",
    "Дополнительное задание повышенной сложности. Теоретически рассчитать средний выигрыш (проигрыш) и сравнить с результатами моделирования"
   ]
  },
  {
   "cell_type": "code",
   "execution_count": 1,
   "metadata": {},
   "outputs": [],
   "source": [
    "import numpy as np"
   ]
  },
  {
   "cell_type": "code",
   "execution_count": 3,
   "metadata": {},
   "outputs": [
    {
     "name": "stdout",
     "output_type": "stream",
     "text": [
      "Игра не выгодна. Проигрыш составляет: -199028 руб. c 1000000 руб.\n"
     ]
    }
   ],
   "source": [
    "trials = 1000000    # Количество попыток\n",
    "result = 0       # Количество результатов\n",
    "results_list = []\n",
    "\n",
    "for i in range(trials):\n",
    "    random_score = np.random.randint(0, 1000)    # Случайное число от 0 до 999\n",
    "    if random_score == 999:\n",
    "        results_list.append(100)\n",
    "    elif random_score == 777:\n",
    "        results_list.append(200)\n",
    "    elif random_score == 555:\n",
    "        results_list.append(50)\n",
    "    elif random_score == 333:\n",
    "        results_list.append(15)\n",
    "    elif random_score == 111:\n",
    "        results_list.append(10)\n",
    "    elif random_score % 100 == 77:\n",
    "        results_list.append(5)\n",
    "    elif random_score % 10 == 7:\n",
    "        results_list.append(3)    \n",
    "    elif random_score % 100 == 0:\n",
    "        results_list.append(2)\n",
    "    elif random_score % 10 == 0:\n",
    "        results_list.append(1)\n",
    "    else:\n",
    "        None\n",
    "        result += 1\n",
    "\n",
    "profit = sum(results_list) - trials\n",
    "if profit > 0:\n",
    "    print('Игра выгодна. Выигрыш составляет:', profit, 'руб. c', trials, 'руб.')\n",
    "else:\n",
    "    print('Игра не выгодна. Проигрыш составляет:', profit, 'руб. c', trials, 'руб.')     "
   ]
  },
  {
   "cell_type": "code",
   "execution_count": null,
   "metadata": {},
   "outputs": [],
   "source": []
  },
  {
   "cell_type": "code",
   "execution_count": 23,
   "metadata": {},
   "outputs": [
    {
     "name": "stdout",
     "output_type": "stream",
     "text": [
      "Игра, в среднем, не выгодна. В среднем проигрыш составляет: -940 руб. c 5000 руб.\n"
     ]
    }
   ],
   "source": [
    "games = 100      # Количество игр\n",
    "profit = 0      # Количество прибыли от игры\n",
    "profit_list = []\n",
    "\n",
    "for x in range(games):\n",
    "    trials = 5000    # Количество попыток\n",
    "    result = 0       # Количество результатов\n",
    "    results_list = []\n",
    "    for i in range(trials):\n",
    "        random_score = np.random.randint(0, 1000)    # Случайное число от 0 до 999\n",
    "        if random_score == 999:\n",
    "            results_list.append(100)\n",
    "        elif random_score == 777:\n",
    "            results_list.append(200)\n",
    "        elif random_score == 555:\n",
    "            results_list.append(50)\n",
    "        elif random_score == 333:\n",
    "            results_list.append(15)\n",
    "        elif random_score == 111:\n",
    "            results_list.append(10)\n",
    "        elif random_score % 100 == 77:\n",
    "            results_list.append(5)\n",
    "        elif random_score % 10 == 7:\n",
    "            results_list.append(3)        \n",
    "        elif random_score % 100 == 0:\n",
    "            results_list.append(2)\n",
    "        elif random_score % 10 == 0:\n",
    "            results_list.append(1)\n",
    "        else:\n",
    "            results_list.append(0)\n",
    "            result += 1\n",
    "    profit = sum(results_list) - trials\n",
    "    profit_list.append(profit)\n",
    "    profit += 1\n",
    "avarage_profit = round(sum(profit_list) / games)\n",
    "if avarage_profit > 0:\n",
    "    print('Игра, в среднем, выгодна. В среднем выигрыш составляет:', avarage_profit, 'руб. c', trials, 'руб.')\n",
    "else:\n",
    "    print('Игра, в среднем, не выгодна. В среднем проигрыш составляет:', avarage_profit, 'руб. c', trials, 'руб.')"
   ]
  },
  {
   "cell_type": "code",
   "execution_count": null,
   "metadata": {},
   "outputs": [],
   "source": []
  },
  {
   "cell_type": "code",
   "execution_count": 4,
   "metadata": {},
   "outputs": [
    {
     "data": {
      "text/plain": [
       "0.8"
      ]
     },
     "execution_count": 4,
     "metadata": {},
     "output_type": "execute_result"
    }
   ],
   "source": [
    "X_average = 0.001*200 + 0.001*100 + 0.001*50 + 0.001*15 + 0.001*10 + 0.009*5 + 0.09*3 + 0.01*2 + 0.09*1 \n",
    "X_average"
   ]
  },
  {
   "cell_type": "code",
   "execution_count": 6,
   "metadata": {},
   "outputs": [
    {
     "data": {
      "text/plain": [
       "0.7999999999999999"
      ]
     },
     "execution_count": 6,
     "metadata": {},
     "output_type": "execute_result"
    }
   ],
   "source": [
    "# Комментарий преподавателя\n",
    "res = 0.001*(200 + 100 + 50 + 15 + 10) + (9/1000)*5 + (10/1000)*2 + ((99-9)/1000)*3 + ((100-10)/1000)*1\n",
    "res"
   ]
  },
  {
   "cell_type": "code",
   "execution_count": null,
   "metadata": {},
   "outputs": [],
   "source": []
  }
 ],
 "metadata": {
  "kernelspec": {
   "display_name": "Python 3",
   "language": "python",
   "name": "python3"
  },
  "language_info": {
   "codemirror_mode": {
    "name": "ipython",
    "version": 3
   },
   "file_extension": ".py",
   "mimetype": "text/x-python",
   "name": "python",
   "nbconvert_exporter": "python",
   "pygments_lexer": "ipython3",
   "version": "3.8.3"
  }
 },
 "nbformat": 4,
 "nbformat_minor": 4
}
