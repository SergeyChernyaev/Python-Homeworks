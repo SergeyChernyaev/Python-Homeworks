{
 "cells": [
  {
   "cell_type": "markdown",
   "metadata": {},
   "source": [
    "<code>__Задание 1__</code>\n",
    "\n",
    "Даны 2 переменных, в которых хранятся строки произвольной длины: phrase_1 и phrase_2. Напишите код, который проверяет какая из этих строк длиннее."
   ]
  },
  {
   "cell_type": "code",
   "execution_count": 14,
   "metadata": {},
   "outputs": [
    {
     "name": "stdout",
     "output_type": "stream",
     "text": [
      "Фраза 1- dsvsvsadvsadvsavsvccxccvbcvghf длинее чем фраза 2- ergegerwghwtrhtrhtrtjtyjrt на 4 символа(ов).\n"
     ]
    }
   ],
   "source": [
    "phrase_1='dsvsvsadvsadvsavsvccxccvbcvghf'\n",
    "phrase_2='ergegerwghwtrhtrhtrtjtyjrt'\n",
    "delta=len(phrase_1)-len(phrase_2)\n",
    "\n",
    "if delta>0:\n",
    "    print('Фраза 1-', phrase_1, 'длинее чем фраза 2-',phrase_2,'на', delta, 'символа(ов).')\n",
    "elif delta<0:\n",
    "    print('Фраза 2-', phrase_2, 'длинее чем фраза 1-',phrase_1,'на', abs(delta), 'символа(ов).')\n",
    "else:\n",
    "    print('Фраза  1-', phrase_1, 'и фраза 2-',phrase_2,'имеют равную длину.')\n"
   ]
  },
  {
   "cell_type": "markdown",
   "metadata": {},
   "source": [
    "<code>__Задание 2__</code>\n",
    "\n",
    "Дана переменная, в которой хранится число (год). Необходимо написать программу, которая выведет, является ли данный год високосным или обычным."
   ]
  },
  {
   "cell_type": "code",
   "execution_count": null,
   "metadata": {},
   "outputs": [],
   "source": [
    "year=2021\n",
    "\n",
    "if year%4==0:\n",
    "  print ('Год ',year,' високосный')\n",
    "else: \n",
    "  print ('Год ',year,' обычный')  "
   ]
  },
  {
   "cell_type": "markdown",
   "metadata": {},
   "source": [
    "<code>__Задание 3__</code>\n",
    "\n",
    "Необходимо написать программу, которая будет запрашивать у пользователя месяц и дату рождения и выводить соответствующий знак зодиака."
   ]
  },
  {
   "cell_type": "code",
   "execution_count": 7,
   "metadata": {},
   "outputs": [
    {
     "name": "stdout",
     "output_type": "stream",
     "text": [
      "Введите месяц рождения:март\n",
      "Введите дату рождения:17\n",
      "Вы РЫБА\n"
     ]
    }
   ],
   "source": [
    "month=input('Введите месяц рождения:').upper()\n",
    "date=int(input('Введите дату рождения:'))\n",
    "\n",
    "# Астрологический круг начинается с Овна в марте.\n",
    "# Овен 21 марта – 20 апреля\n",
    "if (month=='МАРТ' and (date >=21 and date<=31)) or (month=='АПРЕЛЬ'and (date >=1 and date<=20))  :\n",
    "    print(\"Вы Овен\")\n",
    "# Телец 21 апреля – 21 мая    \n",
    "elif (month=='АПРЕЛЬ' and (date >=21 and date<=30)) or (month=='МАЙ'and (date >=1 and date<=21)):\n",
    "    print(\"Вы Телец\")\n",
    "# Близнецы 22 мая – 21 июня\n",
    "elif (month=='МАЙ' and (date >=22 and date<=31)) or (month=='ИЮНЬ'and (date >=1 and date<=21)):\n",
    "    print(\"Вы Близнец\")\n",
    "# Рак 22 июня – 22 июля    \n",
    "elif (month=='ИЮНЬ' and (date >=22 and date<=30)) or (month=='ИЮЛЬ' and (date >=1 and date<=22)):\n",
    "    print(\"Вы Рак\")\n",
    "# Лев 23 июля – 23 августа    \n",
    "elif (month=='ИЮЛЬ' and (date >=23 and date<=31)) or (month=='АВГУСТ'and (date >=1 and date<=23)):\n",
    "    print(\"Вы Лев\")\n",
    "# Дева 24 августа – 22 сентября    \n",
    "elif (month=='АВГУСТ' and (date >=24 and date<=31)) or (month=='СЕНТЯБРЬ'and (date >=1 and date<=22)):\n",
    "    print(\"Вы Дева\")\n",
    "# Весы 23 сентября – 23 октября       \n",
    "elif (month=='СЕНТЯБРЬ' and (date >=23 and date<=30)) or (month=='ОКТЯБРЬ'and (date >=1 and date<=23)):\n",
    "    print(\"Вы Весы\")\n",
    "# Скорпион 24 октября – 22 ноября       \n",
    "elif (month=='ОКТЯБРЬ' and (date >=24 and date<=31)) or (month=='НОЯБРЬ'and (date >=1 and date<=22)):\n",
    "    print(\"Вы Скорпион\")    \n",
    "# Стрелец 23 ноября – 21 декабря    \n",
    "elif (month=='НОЯБРЬ' and (date >=23 and date<=30)) or (month=='ДЕКАБРЬ'and (date >=1 and date<=21)):\n",
    "    print(\"Вы Стрелец\")   \n",
    "# Козерог 22 декабря – 20 января\n",
    "elif (month=='ДЕКАБРЬ' and (date >=22 and date<=31)) or (month=='ЯНВАРЬ'and (date >=1 and date<=20)):\n",
    "    print(\"Вы Козерог\")   \n",
    "# Водолей 21 января – 18 февраля\n",
    "elif (month=='ЯНВАРЬ' and (date >=21 and date<=31)) or (month=='ФЕВРАЛЬ'and (date >=1 and date<=18)):\n",
    "    print(\"Вы Водолей\")\n",
    "# Рыбы 19 февраля – 20 марта \n",
    "elif (month=='ФЕВРАЛЬ' and (date >=21 and date<=29)) or (month=='МАРТ'and (date >=1 and date<=20)):\n",
    "    print(\"Вы РЫБА\")\n",
    "else:\n",
    "    print(\"Не удалось определить знак Зодиака\")"
   ]
  },
  {
   "cell_type": "markdown",
   "metadata": {},
   "source": [
    "<code>__Задание 4__</code>\n",
    "\n",
    "Вам нужно написать программу для подбора упаковок по размерам товара. Размеры (ширина, длина, высота) хранятся в переменных (в сантиметрах):\n",
    "\n",
    "Используйте следующие правила:\n",
    "\n",
    "если каждое из трех измерений менее или равно 15 сантиметрам, то выведите на экран \"Коробка №1\";\n",
    "если хотя бы одно из измерений больше 15 сантиметров, но менее 50 сантиметров, то выводите \"Коробка №2\";\n",
    "если длина товара больше 2 метров, то выводите \"Упаковка для лыж\";\n",
    "во всех остальных случаях выводите \"Стандартная коробка №3\".\n",
    "\n",
    "Пример работы программы:\n",
    "\n",
    "width = 15 length = 50 height = 15\n",
    "\n",
    "Результат: Стандартная коробка №3\n",
    "\n",
    "width = 45 length = 205 height = 45"
   ]
  },
  {
   "cell_type": "code",
   "execution_count": null,
   "metadata": {},
   "outputs": [],
   "source": [
    "width = 15 \n",
    "length = 2\n",
    "height = 299\n",
    "if (width <= 15) and (length <= 15) and (height <= 15):\n",
    "    print('Коробка №1')\n",
    "elif (width >15 and width<50) or (length>15 and length<50) and (height>15 and height<50):\n",
    "    print('Коробка №2')\n",
    "elif  (length>200):\n",
    "    print('Упаковка для лыж')  \n",
    "else: \n",
    "    print('Стандартная коробка №3')\n"
   ]
  },
  {
   "cell_type": "markdown",
   "metadata": {},
   "source": [
    "<code>__Задание 5 (необязательное)__\n",
    "</code>\n",
    "Дана переменная, в которой хранится шестизначное число (номер проездного билета). Напишите программу, которая будет определять, является ли данный билет \"счастливым\". Билет считается счастливым, если сумма первых трех цифр совпадает с суммой последних трех цифр номера."
   ]
  },
  {
   "cell_type": "code",
   "execution_count": 10,
   "metadata": {},
   "outputs": [
    {
     "name": "stdout",
     "output_type": "stream",
     "text": [
      "Билет счастливый\n"
     ]
    }
   ],
   "source": [
    "ticket='231123'\n",
    "if int(ticket[0])+int(ticket[1])+int(ticket[2])==int(ticket[3])+int(ticket[4])+int(ticket[5]): print('Билет счастливый')\n",
    "else: print('Билет несчастливый')"
   ]
  },
  {
   "cell_type": "markdown",
   "metadata": {},
   "source": [
    "<code>__Задание 6 (необязательное)__</code>\n",
    "\n",
    "Напишите программу, которая сможет вычислять площади трех фигур (круг, треугольник и прямоугольник). Тип фигуры запрашиваем через пользовательский ввод, после чего делаем запрос характеристик фигуры:\n",
    "\n",
    "если пользователь выбрал круг, запрашиваем его радиус,\n",
    "если треугольник – длины трех его сторон;\n",
    "если прямоугольник – длины двух его сторон.\n",
    "\n",
    "Пример работы программы:\n",
    "Введите тип фигуры: Круг\n",
    "Введите радиус круга: 10\n",
    "Результат: Площадь круга: 314.16\n",
    "Введите тип фигуры: Треугольник\n",
    "Введите длину стороны A: 2\n",
    "Введите длину стороны B: 2\n",
    "Введите длину стороны C: 3"
   ]
  },
  {
   "cell_type": "code",
   "execution_count": 35,
   "metadata": {},
   "outputs": [
    {
     "name": "stdout",
     "output_type": "stream",
     "text": [
      "Введите тип фигуры:круг\n",
      "Введите радиус круга:6\n",
      "Площадь круга: 113.09733552923255\n"
     ]
    }
   ],
   "source": [
    "import math as math\n",
    "\n",
    "figura=input('Введите тип фигуры:').lower()\n",
    "\n",
    "if figura=='круг': \n",
    "    r=float (input('Введите радиус круга:'))\n",
    "    print ('Площадь круга:', math.pi*r**2)\n",
    "elif figura=='треугольник': \n",
    "    a=float (input('Введите длинну стороны А:'))   \n",
    "    b=float (input('Введите длинну стороны B:'))\n",
    "    c=float (input('Введите длинну стороны C:'))\n",
    "    p=0.5*(a+b+c)\n",
    "    s=(p*(p-a)*(p-b)*(p-c))**0.5\n",
    "    print ('Площадь треугольника:',s)\n",
    "elif figura=='прямоугольник': \n",
    "    a=float (input('Введите длинну стороны А:'))   \n",
    "    b=float (input('Введите длинну стороны B:'))\n",
    "    print ('Площадь прямогугольника:',a*b)\n",
    "else: print ('Поддерживается вычисление площади круга, треугольника, прямоугольника')\n"
   ]
  }
 ],
 "metadata": {
  "kernelspec": {
   "display_name": "Python 3",
   "language": "python",
   "name": "python3"
  },
  "language_info": {
   "codemirror_mode": {
    "name": "ipython",
    "version": 3
   },
   "file_extension": ".py",
   "mimetype": "text/x-python",
   "name": "python",
   "nbconvert_exporter": "python",
   "pygments_lexer": "ipython3",
   "version": "3.8.3"
  }
 },
 "nbformat": 4,
 "nbformat_minor": 4
}
