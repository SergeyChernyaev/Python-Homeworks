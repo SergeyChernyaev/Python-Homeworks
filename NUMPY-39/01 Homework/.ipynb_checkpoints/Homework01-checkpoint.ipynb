{
 "cells": [
  {
   "cell_type": "markdown",
   "metadata": {},
   "source": [
    "Задание 1\n",
    "Создайте numpy array с элементами от числа N до 0. Например, для N = 10 это будет array([9, 8, 7, 6, 5, 4, 3, 2, 1, 0])).\n",
    "\n",
    "Задание 2\n",
    "Создайте диагональную матрицу с элементами от N до 0. Посчитайте сумму её значений на диагонали.\n",
    "\n",
    "Задание 3\n",
    "Решите систему уравнений:\n",
    "4x + 2y + z = 4\n",
    "x + 3y = 12\n",
    "5y + 4z = -3\n",
    "\n",
    "Задание 4\n",
    "Задание и входные данные к нему находятся в материалах занятия: ноутбук к лекции «Библиотека NumPy. Вычислительные задачи» ---- Python_9_Numpy.ipynb ---- Косинусное сходство между векторами ---- Задача 4 домашнего задания."
   ]
  },
  {
   "cell_type": "code",
   "execution_count": null,
   "metadata": {},
   "outputs": [],
   "source": []
  },
  {
   "cell_type": "markdown",
   "metadata": {},
   "source": [
    "### Задание 1 \n",
    "Создайте numpy array с элементами от числа N до 0. Например, для N = 10 это будет array([9, 8, 7, 6, 5, 4, 3, 2, 1, 0]))."
   ]
  },
  {
   "cell_type": "code",
   "execution_count": 2,
   "metadata": {},
   "outputs": [
    {
     "name": "stdout",
     "output_type": "stream",
     "text": [
      "Введите размерность матрицы:122\n",
      "[  0   1   2   3   4   5   6   7   8   9  10  11  12  13  14  15  16  17\n",
      "  18  19  20  21  22  23  24  25  26  27  28  29  30  31  32  33  34  35\n",
      "  36  37  38  39  40  41  42  43  44  45  46  47  48  49  50  51  52  53\n",
      "  54  55  56  57  58  59  60  61  62  63  64  65  66  67  68  69  70  71\n",
      "  72  73  74  75  76  77  78  79  80  81  82  83  84  85  86  87  88  89\n",
      "  90  91  92  93  94  95  96  97  98  99 100 101 102 103 104 105 106 107\n",
      " 108 109 110 111 112 113 114 115 116 117 118 119 120 121]\n"
     ]
    }
   ],
   "source": [
    "import numpy as np\n",
    "\n",
    "N=int(input('Введите размерность матрицы:'))\n",
    "array_ = np.arange(0, N, 1)\n",
    "print(array_)"
   ]
  },
  {
   "cell_type": "markdown",
   "metadata": {},
   "source": [
    "### Задание 2 \n",
    "Создайте диагональную матрицу с элементами от N до 0. Посчитайте сумму её значений на диагонали."
   ]
  },
  {
   "cell_type": "code",
   "execution_count": 13,
   "metadata": {},
   "outputs": [
    {
     "name": "stdout",
     "output_type": "stream",
     "text": [
      "Введите размерность матрицы:10\n",
      "\n",
      "Матрица:\n",
      "[[0 0 0 0 0 0 0 0 0 0]\n",
      " [0 1 0 0 0 0 0 0 0 0]\n",
      " [0 0 2 0 0 0 0 0 0 0]\n",
      " [0 0 0 3 0 0 0 0 0 0]\n",
      " [0 0 0 0 4 0 0 0 0 0]\n",
      " [0 0 0 0 0 5 0 0 0 0]\n",
      " [0 0 0 0 0 0 6 0 0 0]\n",
      " [0 0 0 0 0 0 0 7 0 0]\n",
      " [0 0 0 0 0 0 0 0 8 0]\n",
      " [0 0 0 0 0 0 0 0 0 9]]\n",
      "\n",
      "Диагональные элементы:\n",
      "[0 1 2 3 4 5 6 7 8 9]\n",
      "\n",
      "Сумма диагональных элементов:\n",
      "45\n"
     ]
    }
   ],
   "source": [
    "import numpy as np\n",
    "\n",
    "N=int(input('Введите размерность матрицы:'))\n",
    "\n",
    "array_ = np.arange(0, N, 1)\n",
    "diag_array = np.diag(array_, k=0)\n",
    "\n",
    "print ('\\nМатрица:')\n",
    "print(diag_array)\n",
    "\n",
    "diag = np.diagonal(diag_array)\n",
    "\n",
    "print(\"\\nДиагональные элементы:\")\n",
    "print(diag)\n",
    "print(\"\\nСумма диагональных элементов:\")\n",
    "print(sum(diag))"
   ]
  },
  {
   "cell_type": "markdown",
   "metadata": {},
   "source": [
    "### Задание 3 \n",
    "Решите систему уравнений: \n",
    "4x + 2y + z = 4 \n",
    "x + 3y = 12 \n",
    "5y + 4z = -3"
   ]
  },
  {
   "cell_type": "code",
   "execution_count": 12,
   "metadata": {},
   "outputs": [
    {
     "name": "stdout",
     "output_type": "stream",
     "text": [
      "x=0.47, y=3.84, z=-5.56\n"
     ]
    }
   ],
   "source": [
    "import numpy \n",
    "\n",
    "# Запишем все числа с точкой, т.к. иначе в Python они будут участвовать \n",
    "# в целочисленных операциях (остатки от деления будут отбрасываться)\n",
    "\n",
    "Matrix_ = numpy.array([[4., 2., 1.], [1., 3., 0.], [0., 5., 4.]]) # Матрица (левая часть системы)\n",
    "vektor = numpy.array([4.,12, -3.]) # Вектор (правая часть системы)\n",
    "\n",
    "\n",
    "#Для решения системы воспользуемся функцией numpy.linalg.solve модуля numpy \n",
    "#(документация - http://docs.scipy.org/doc/numpy/reference/generated/numpy.linalg.solve.html). \n",
    "#Функция принимает на вход 2 параметра:\n",
    "# Matrix_ - матрица коэффициентов перед переменными\n",
    "# vektor - вектор свободных членов\n",
    "\n",
    "ansewr = numpy.linalg.solve(Matrix_, vektor)\n",
    "\n",
    "print (f'x={ansewr[0]:.2f}, y={ansewr[1]:.2f}, z={ansewr[2]:.2f}')\n",
    "\n",
    "#Ответом так же является numpy-массив\n",
    "#при этом порядок следования ответов в массиве соответствует порядку столбцов исходной матрицы. \n",
    "#Т.е. на 0 месте находится x\n"
   ]
  }
 ],
 "metadata": {
  "kernelspec": {
   "display_name": "Python 3",
   "language": "python",
   "name": "python3"
  },
  "language_info": {
   "codemirror_mode": {
    "name": "ipython",
    "version": 3
   },
   "file_extension": ".py",
   "mimetype": "text/x-python",
   "name": "python",
   "nbconvert_exporter": "python",
   "pygments_lexer": "ipython3",
   "version": "3.8.3"
  }
 },
 "nbformat": 4,
 "nbformat_minor": 4
}
