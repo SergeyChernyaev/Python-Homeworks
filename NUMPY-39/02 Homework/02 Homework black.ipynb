{
 "cells": [
  {
   "cell_type": "markdown",
   "metadata": {},
   "source": [
    "###### Задание 1\n",
    "Напишите функцию, которая классифицирует фильмы из материалов занятия по правилам:\n",
    "\n",
    "    оценка 2 и ниже — низкий рейтинг;\n",
    "    оценка 4 и ниже — средний рейтинг;\n",
    "    оценка 4.5 и 5 — высокий рейтинг.\n",
    "\n",
    "Результат классификации запишите в столбец class."
   ]
  },
  {
   "cell_type": "code",
   "execution_count": null,
   "metadata": {},
   "outputs": [],
   "source": [
    "# Вараиант 1 без группировки\n",
    "\n",
    "import pandas as pd\n",
    "\n",
    "def film_classification (row):\n",
    "    answer = 'средний рейтинг'\n",
    "    if row['rating'] <= 2.0:\n",
    "        answer = 'низкий рейтинг'\n",
    "    elif row['rating'] >= 4.5:\n",
    "        answer = 'высокий рейтинг'\n",
    "    return answer\n",
    "\n",
    "ratings = pd.read_csv('ratings.csv')\n",
    "\n",
    "ratings['class'] = ratings.apply(film_classification, axis=1)\n",
    "ratings.head()\n",
    "\n"
   ]
  },
  {
   "cell_type": "code",
   "execution_count": null,
   "metadata": {},
   "outputs": [],
   "source": [
    "pip install tabulate"
   ]
  },
  {
   "cell_type": "code",
   "execution_count": null,
   "metadata": {},
   "outputs": [],
   "source": [
    "# Вараиант 2 с группировкой\n",
    "\n",
    "import pandas as pd\n",
    "import tabulate \n",
    "\n",
    "def film_classification (row):\n",
    "    answer = 'средний рейтинг'\n",
    "    # присвоить рейтинг\n",
    "    if row['rating'] <= 2.0:\n",
    "        answer ='низкий рейтинг'\n",
    "    elif row['rating'] >= 4.5:\n",
    "        answer ='высокий рейтинг'\n",
    "    return answer\n",
    "\n",
    "ratings = pd.read_csv('ratings.csv')\n",
    "\n",
    "# Посчитать среднее по оценкам пользователей и вывести во вспомогательный датафрейм\n",
    "df = ratings[['movieId', 'rating']].groupby('movieId').mean()\n",
    "\n",
    "# Добавить поле сlass\n",
    "df['class'] = df.apply(film_classification, axis=1)\n",
    "\n",
    "# Вывести всё с сортировкой по оценке\n",
    "df.sort_values('rating', ascending=False)\n"
   ]
  },
  {
   "cell_type": "code",
   "execution_count": null,
   "metadata": {},
   "outputs": [],
   "source": [
    "# Вывести 20 фильмов  с сортировкой по ID\n",
    "df.sort_values('movieId', ascending=True).head(20)"
   ]
  },
  {
   "cell_type": "code",
   "execution_count": null,
   "metadata": {},
   "outputs": [],
   "source": [
    "# Сколько фильмов с какими рейтингами \n",
    "df.groupby('class').count()"
   ]
  },
  {
   "cell_type": "code",
   "execution_count": null,
   "metadata": {
    "scrolled": true
   },
   "outputs": [],
   "source": [
    "ratings.info()"
   ]
  },
  {
   "cell_type": "code",
   "execution_count": null,
   "metadata": {},
   "outputs": [],
   "source": []
  },
  {
   "cell_type": "markdown",
   "metadata": {},
   "source": [
    "###### Задание 2\n",
    "Используйте файл keywords.csv.\n",
    "\n",
    "Нужно написать гео-классификатор, который каждой строке сможет выставить географическую принадлежность определённому региону. Т. е. если поисковый запрос содержит название города региона, то в столбце ‘region’ пишется название этого региона. Если поисковый запрос не содержит названия города, то ставим ‘undefined’.\n",
    "\n",
    "Правила распределения по регионам Центр, Северо-Запад и Дальний Восток:\n",
    "\n",
    "geo_data = {\n",
    "\n",
    "12345\n",
    "'Центр': ['москва', 'тула', 'ярославль'],\n",
    "\n",
    "'Северо-Запад': ['петербург', 'псков', 'мурманск'],\n",
    "\n",
    "'Дальний Восток': ['владивосток', 'сахалин', 'хабаровск']\n",
    "\n",
    "}\n",
    "\n",
    "Результат классификации запишите в отдельный столбец region.\n"
   ]
  },
  {
   "cell_type": "markdown",
   "metadata": {},
   "source": [
    "###### Задание 3 (бонусное)\n",
    "\n",
    "Есть мнение, что раньше снимали настоящее кино, не то что сейчас. Ваша задача — проверить это утверждение, используя файлы с рейтингами фильмов из прошлого домашнего занятия: файл movies.csv и ratings.csv из базы. Нужно проверить, верно ли, что с ростом года выпуска фильма его средний рейтинг становится ниже.\n",
    "\n",
    "Вы не будете затрагивать субьективные факторы выставления этих рейтингов, а пройдётесь по алгоритму:\n",
    "\n",
    "    В переменную years запишите список из всех годов с 1950 по 2010 года.\n",
    "\n",
    "    Напишите функцию production_year, которая каждой строке из названия фильма выставляет год выпуска. Не все названия фильмов содержат год выпуска в одинаковом формате, поэтому используйте алгоритм:\n",
    "        для каждой строки пройдите по всем годам списка years;\n",
    "        если номер года присутствует в названии фильма, то функция возвращает этот год, как год выпуска;\n",
    "        если ни один из номеров года списка years не встретился в названии фильма, то возвращается 1900 год.\n",
    "\n",
    "    Запишите год выпуска фильма по алгоритму пункта 2 в новый столбец ‘year’.\n",
    "\n",
    "    Посчитайте средний рейтинг всех фильмов для каждого значения столбца ‘year’ и отсортируйте результат по убыванию рейтинга.\n"
   ]
  },
  {
   "cell_type": "code",
   "execution_count": 116,
   "metadata": {},
   "outputs": [
    {
     "name": "stdout",
     "output_type": "stream",
     "text": [
      "['1950', '1951', '1952', '1953', '1954', '1955', '1956', '1957', '1958', '1959', '1960', '1961', '1962', '1963', '1964', '1965', '1966', '1967', '1968', '1969', '1970', '1971', '1972', '1973', '1974', '1975', '1976', '1977', '1978', '1979', '1980', '1981', '1982', '1983', '1984', '1985', '1986', '1987', '1988', '1989', '1990', '1991', '1992', '1993', '1994', '1995', '1996', '1997', '1998', '1999', '2000', '2001', '2002', '2003', '2004', '2005', '2006', '2007', '2008', '2009', '2010']\n"
     ]
    }
   ],
   "source": [
    "# В переменную years_list запишите загоовку списка из всех годов с 1950 по 2010 года\n",
    "years_lst=[str(x) for x in range(1950, 2011,1)] \n",
    "print (years_lst)\n",
    "# Подключаем данные\n",
    "df_movies = pd.read_csv('movies.csv')\n",
    "df_ratings = pd.read_csv('ratings.csv')\n"
   ]
  },
  {
   "cell_type": "code",
   "execution_count": 115,
   "metadata": {},
   "outputs": [
    {
     "name": "stdout",
     "output_type": "stream",
     "text": [
      "<class 'pandas.core.frame.DataFrame'>\n",
      "Int64Index: 7515 entries, 0 to 9117\n",
      "Data columns (total 4 columns):\n",
      " #   Column   Non-Null Count  Dtype \n",
      "---  ------   --------------  ----- \n",
      " 0   movieId  7515 non-null   int64 \n",
      " 1   title    7515 non-null   object\n",
      " 2   genres   7515 non-null   object\n",
      " 3   year     7515 non-null   object\n",
      "dtypes: int64(1), object(3)\n",
      "memory usage: 293.6+ KB\n",
      "\n",
      "\n"
     ]
    },
    {
     "data": {
      "text/html": [
       "<div>\n",
       "<style scoped>\n",
       "    .dataframe tbody tr th:only-of-type {\n",
       "        vertical-align: middle;\n",
       "    }\n",
       "\n",
       "    .dataframe tbody tr th {\n",
       "        vertical-align: top;\n",
       "    }\n",
       "\n",
       "    .dataframe thead th {\n",
       "        text-align: right;\n",
       "    }\n",
       "</style>\n",
       "<table border=\"1\" class=\"dataframe\">\n",
       "  <thead>\n",
       "    <tr style=\"text-align: right;\">\n",
       "      <th></th>\n",
       "      <th>movieId</th>\n",
       "      <th>title</th>\n",
       "      <th>genres</th>\n",
       "      <th>year</th>\n",
       "    </tr>\n",
       "  </thead>\n",
       "  <tbody>\n",
       "    <tr>\n",
       "      <th>0</th>\n",
       "      <td>1</td>\n",
       "      <td>Toy Story (1995)</td>\n",
       "      <td>Adventure|Animation|Children|Comedy|Fantasy</td>\n",
       "      <td>1995</td>\n",
       "    </tr>\n",
       "    <tr>\n",
       "      <th>1</th>\n",
       "      <td>2</td>\n",
       "      <td>Jumanji (1995)</td>\n",
       "      <td>Adventure|Children|Fantasy</td>\n",
       "      <td>1995</td>\n",
       "    </tr>\n",
       "    <tr>\n",
       "      <th>2</th>\n",
       "      <td>3</td>\n",
       "      <td>Grumpier Old Men (1995)</td>\n",
       "      <td>Comedy|Romance</td>\n",
       "      <td>1995</td>\n",
       "    </tr>\n",
       "    <tr>\n",
       "      <th>3</th>\n",
       "      <td>4</td>\n",
       "      <td>Waiting to Exhale (1995)</td>\n",
       "      <td>Comedy|Drama|Romance</td>\n",
       "      <td>1995</td>\n",
       "    </tr>\n",
       "    <tr>\n",
       "      <th>4</th>\n",
       "      <td>5</td>\n",
       "      <td>Father of the Bride Part II (1995)</td>\n",
       "      <td>Comedy</td>\n",
       "      <td>1995</td>\n",
       "    </tr>\n",
       "  </tbody>\n",
       "</table>\n",
       "</div>"
      ],
      "text/plain": [
       "   movieId                               title  \\\n",
       "0        1                    Toy Story (1995)   \n",
       "1        2                      Jumanji (1995)   \n",
       "2        3             Grumpier Old Men (1995)   \n",
       "3        4            Waiting to Exhale (1995)   \n",
       "4        5  Father of the Bride Part II (1995)   \n",
       "\n",
       "                                        genres  year  \n",
       "0  Adventure|Animation|Children|Comedy|Fantasy  1995  \n",
       "1                   Adventure|Children|Fantasy  1995  \n",
       "2                               Comedy|Romance  1995  \n",
       "3                         Comedy|Drama|Romance  1995  \n",
       "4                                       Comedy  1995  "
      ]
     },
     "execution_count": 115,
     "metadata": {},
     "output_type": "execute_result"
    }
   ],
   "source": [
    "# Смотрим что внутри:\n",
    "df_movies.info()\n",
    "df_movies.head()\n",
    "print('\\n')\n",
    "df_ratings.head()\n",
    "df_movies.head()\n"
   ]
  },
  {
   "cell_type": "markdown",
   "metadata": {},
   "source": [
    "Напишите функцию production_year, которая каждой строке из названия фильма выставляет год выпуска. Не все названия фильмов содержат год выпуска в одинаковом формате, поэтому используйте алгоритм:\n",
    "    для каждой строки пройдите по всем годам списка years;\n",
    "    если номер года присутствует в названии фильма, то функция возвращает этот год, как год выпуска;\n",
    "    если ни один из номеров года списка years не встретился в названии фильма, то возвращается 1900 год."
   ]
  },
  {
   "cell_type": "code",
   "execution_count": 120,
   "metadata": {},
   "outputs": [
    {
     "name": "stdout",
     "output_type": "stream",
     "text": [
      "Wall time: 9.72 s\n"
     ]
    },
    {
     "data": {
      "text/html": [
       "<div>\n",
       "<style scoped>\n",
       "    .dataframe tbody tr th:only-of-type {\n",
       "        vertical-align: middle;\n",
       "    }\n",
       "\n",
       "    .dataframe tbody tr th {\n",
       "        vertical-align: top;\n",
       "    }\n",
       "\n",
       "    .dataframe thead th {\n",
       "        text-align: right;\n",
       "    }\n",
       "</style>\n",
       "<table border=\"1\" class=\"dataframe\">\n",
       "  <thead>\n",
       "    <tr style=\"text-align: right;\">\n",
       "      <th></th>\n",
       "      <th>movieId</th>\n",
       "      <th>title</th>\n",
       "      <th>genres</th>\n",
       "      <th>year</th>\n",
       "    </tr>\n",
       "  </thead>\n",
       "  <tbody>\n",
       "    <tr>\n",
       "      <th>0</th>\n",
       "      <td>1</td>\n",
       "      <td>Toy Story (1995)</td>\n",
       "      <td>Adventure|Animation|Children|Comedy|Fantasy</td>\n",
       "      <td>1995</td>\n",
       "    </tr>\n",
       "    <tr>\n",
       "      <th>1</th>\n",
       "      <td>2</td>\n",
       "      <td>Jumanji (1995)</td>\n",
       "      <td>Adventure|Children|Fantasy</td>\n",
       "      <td>1995</td>\n",
       "    </tr>\n",
       "    <tr>\n",
       "      <th>2</th>\n",
       "      <td>3</td>\n",
       "      <td>Grumpier Old Men (1995)</td>\n",
       "      <td>Comedy|Romance</td>\n",
       "      <td>1995</td>\n",
       "    </tr>\n",
       "    <tr>\n",
       "      <th>3</th>\n",
       "      <td>4</td>\n",
       "      <td>Waiting to Exhale (1995)</td>\n",
       "      <td>Comedy|Drama|Romance</td>\n",
       "      <td>1995</td>\n",
       "    </tr>\n",
       "    <tr>\n",
       "      <th>4</th>\n",
       "      <td>5</td>\n",
       "      <td>Father of the Bride Part II (1995)</td>\n",
       "      <td>Comedy</td>\n",
       "      <td>1995</td>\n",
       "    </tr>\n",
       "    <tr>\n",
       "      <th>...</th>\n",
       "      <td>...</td>\n",
       "      <td>...</td>\n",
       "      <td>...</td>\n",
       "      <td>...</td>\n",
       "    </tr>\n",
       "    <tr>\n",
       "      <th>9120</th>\n",
       "      <td>162672</td>\n",
       "      <td>Mohenjo Daro (2016)</td>\n",
       "      <td>Adventure|Drama|Romance</td>\n",
       "      <td>1900</td>\n",
       "    </tr>\n",
       "    <tr>\n",
       "      <th>9121</th>\n",
       "      <td>163056</td>\n",
       "      <td>Shin Godzilla (2016)</td>\n",
       "      <td>Action|Adventure|Fantasy|Sci-Fi</td>\n",
       "      <td>1900</td>\n",
       "    </tr>\n",
       "    <tr>\n",
       "      <th>9122</th>\n",
       "      <td>163949</td>\n",
       "      <td>The Beatles: Eight Days a Week - The Touring Y...</td>\n",
       "      <td>Documentary</td>\n",
       "      <td>1900</td>\n",
       "    </tr>\n",
       "    <tr>\n",
       "      <th>9123</th>\n",
       "      <td>164977</td>\n",
       "      <td>The Gay Desperado (1936)</td>\n",
       "      <td>Comedy</td>\n",
       "      <td>1900</td>\n",
       "    </tr>\n",
       "    <tr>\n",
       "      <th>9124</th>\n",
       "      <td>164979</td>\n",
       "      <td>Women of '69, Unboxed</td>\n",
       "      <td>Documentary</td>\n",
       "      <td>1900</td>\n",
       "    </tr>\n",
       "  </tbody>\n",
       "</table>\n",
       "<p>9125 rows × 4 columns</p>\n",
       "</div>"
      ],
      "text/plain": [
       "      movieId                                              title  \\\n",
       "0           1                                   Toy Story (1995)   \n",
       "1           2                                     Jumanji (1995)   \n",
       "2           3                            Grumpier Old Men (1995)   \n",
       "3           4                           Waiting to Exhale (1995)   \n",
       "4           5                 Father of the Bride Part II (1995)   \n",
       "...       ...                                                ...   \n",
       "9120   162672                                Mohenjo Daro (2016)   \n",
       "9121   163056                               Shin Godzilla (2016)   \n",
       "9122   163949  The Beatles: Eight Days a Week - The Touring Y...   \n",
       "9123   164977                           The Gay Desperado (1936)   \n",
       "9124   164979                              Women of '69, Unboxed   \n",
       "\n",
       "                                           genres  year  \n",
       "0     Adventure|Animation|Children|Comedy|Fantasy  1995  \n",
       "1                      Adventure|Children|Fantasy  1995  \n",
       "2                                  Comedy|Romance  1995  \n",
       "3                            Comedy|Drama|Romance  1995  \n",
       "4                                          Comedy  1995  \n",
       "...                                           ...   ...  \n",
       "9120                      Adventure|Drama|Romance  1900  \n",
       "9121              Action|Adventure|Fantasy|Sci-Fi  1900  \n",
       "9122                                  Documentary  1900  \n",
       "9123                                       Comedy  1900  \n",
       "9124                                  Documentary  1900  \n",
       "\n",
       "[9125 rows x 4 columns]"
      ]
     },
     "execution_count": 120,
     "metadata": {},
     "output_type": "execute_result"
    }
   ],
   "source": [
    "%%time\n",
    "def production_year (row, years_list):\n",
    "    for year in years_list:\n",
    "        if row['title'].find(year) != -1:\n",
    "            return year # год в названии найден\n",
    "    year = '1900'    \n",
    "    return year\n",
    "\n",
    "# Добавить поле year, передав список годов как параметр\n",
    "df_movies['year'] = df_movies.apply(production_year, years_list=years_lst, axis=1)\n",
    "df_movies"
   ]
  },
  {
   "cell_type": "code",
   "execution_count": 121,
   "metadata": {},
   "outputs": [
    {
     "name": "stdout",
     "output_type": "stream",
     "text": [
      "Wall time: 9.53 s\n"
     ]
    },
    {
     "data": {
      "text/html": [
       "<div>\n",
       "<style scoped>\n",
       "    .dataframe tbody tr th:only-of-type {\n",
       "        vertical-align: middle;\n",
       "    }\n",
       "\n",
       "    .dataframe tbody tr th {\n",
       "        vertical-align: top;\n",
       "    }\n",
       "\n",
       "    .dataframe thead th {\n",
       "        text-align: right;\n",
       "    }\n",
       "</style>\n",
       "<table border=\"1\" class=\"dataframe\">\n",
       "  <thead>\n",
       "    <tr style=\"text-align: right;\">\n",
       "      <th></th>\n",
       "      <th>movieId</th>\n",
       "      <th>title</th>\n",
       "      <th>genres</th>\n",
       "      <th>year</th>\n",
       "    </tr>\n",
       "  </thead>\n",
       "  <tbody>\n",
       "    <tr>\n",
       "      <th>0</th>\n",
       "      <td>1</td>\n",
       "      <td>Toy Story (1995)</td>\n",
       "      <td>Adventure|Animation|Children|Comedy|Fantasy</td>\n",
       "      <td>1995</td>\n",
       "    </tr>\n",
       "    <tr>\n",
       "      <th>1</th>\n",
       "      <td>2</td>\n",
       "      <td>Jumanji (1995)</td>\n",
       "      <td>Adventure|Children|Fantasy</td>\n",
       "      <td>1995</td>\n",
       "    </tr>\n",
       "    <tr>\n",
       "      <th>2</th>\n",
       "      <td>3</td>\n",
       "      <td>Grumpier Old Men (1995)</td>\n",
       "      <td>Comedy|Romance</td>\n",
       "      <td>1995</td>\n",
       "    </tr>\n",
       "    <tr>\n",
       "      <th>3</th>\n",
       "      <td>4</td>\n",
       "      <td>Waiting to Exhale (1995)</td>\n",
       "      <td>Comedy|Drama|Romance</td>\n",
       "      <td>1995</td>\n",
       "    </tr>\n",
       "    <tr>\n",
       "      <th>4</th>\n",
       "      <td>5</td>\n",
       "      <td>Father of the Bride Part II (1995)</td>\n",
       "      <td>Comedy</td>\n",
       "      <td>1995</td>\n",
       "    </tr>\n",
       "    <tr>\n",
       "      <th>...</th>\n",
       "      <td>...</td>\n",
       "      <td>...</td>\n",
       "      <td>...</td>\n",
       "      <td>...</td>\n",
       "    </tr>\n",
       "    <tr>\n",
       "      <th>9120</th>\n",
       "      <td>162672</td>\n",
       "      <td>Mohenjo Daro (2016)</td>\n",
       "      <td>Adventure|Drama|Romance</td>\n",
       "      <td>1900</td>\n",
       "    </tr>\n",
       "    <tr>\n",
       "      <th>9121</th>\n",
       "      <td>163056</td>\n",
       "      <td>Shin Godzilla (2016)</td>\n",
       "      <td>Action|Adventure|Fantasy|Sci-Fi</td>\n",
       "      <td>1900</td>\n",
       "    </tr>\n",
       "    <tr>\n",
       "      <th>9122</th>\n",
       "      <td>163949</td>\n",
       "      <td>The Beatles: Eight Days a Week - The Touring Y...</td>\n",
       "      <td>Documentary</td>\n",
       "      <td>1900</td>\n",
       "    </tr>\n",
       "    <tr>\n",
       "      <th>9123</th>\n",
       "      <td>164977</td>\n",
       "      <td>The Gay Desperado (1936)</td>\n",
       "      <td>Comedy</td>\n",
       "      <td>1900</td>\n",
       "    </tr>\n",
       "    <tr>\n",
       "      <th>9124</th>\n",
       "      <td>164979</td>\n",
       "      <td>Women of '69, Unboxed</td>\n",
       "      <td>Documentary</td>\n",
       "      <td>1900</td>\n",
       "    </tr>\n",
       "  </tbody>\n",
       "</table>\n",
       "<p>9125 rows × 4 columns</p>\n",
       "</div>"
      ],
      "text/plain": [
       "      movieId                                              title  \\\n",
       "0           1                                   Toy Story (1995)   \n",
       "1           2                                     Jumanji (1995)   \n",
       "2           3                            Grumpier Old Men (1995)   \n",
       "3           4                           Waiting to Exhale (1995)   \n",
       "4           5                 Father of the Bride Part II (1995)   \n",
       "...       ...                                                ...   \n",
       "9120   162672                                Mohenjo Daro (2016)   \n",
       "9121   163056                               Shin Godzilla (2016)   \n",
       "9122   163949  The Beatles: Eight Days a Week - The Touring Y...   \n",
       "9123   164977                           The Gay Desperado (1936)   \n",
       "9124   164979                              Women of '69, Unboxed   \n",
       "\n",
       "                                           genres  year  \n",
       "0     Adventure|Animation|Children|Comedy|Fantasy  1995  \n",
       "1                      Adventure|Children|Fantasy  1995  \n",
       "2                                  Comedy|Romance  1995  \n",
       "3                            Comedy|Drama|Romance  1995  \n",
       "4                                          Comedy  1995  \n",
       "...                                           ...   ...  \n",
       "9120                      Adventure|Drama|Romance  1900  \n",
       "9121              Action|Adventure|Fantasy|Sci-Fi  1900  \n",
       "9122                                  Documentary  1900  \n",
       "9123                                       Comedy  1900  \n",
       "9124                                  Documentary  1900  \n",
       "\n",
       "[9125 rows x 4 columns]"
      ]
     },
     "execution_count": 121,
     "metadata": {},
     "output_type": "execute_result"
    }
   ],
   "source": [
    "%%time\n",
    "# Вариант с готовым списком внути функции чуть быстрее как ни странно:\n",
    "\n",
    "def production_year (row):\n",
    "   \n",
    "    years_list = ['1950', '1951', '1952', '1953', '1954', '1955', '1956', '1957', '1958', '1959', '1960',\n",
    "                  '1961', '1962', '1963', '1964', '1965', '1966', '1967', '1968', '1969', '1970', '1971',\n",
    "                  '1972', '1973', '1974', '1975', '1976', '1977', '1978', '1979', '1980', '1981', '1982',\n",
    "                  '1983', '1984', '1985', '1986', '1987', '1988', '1989', '1990', '1991', '1992', '1993',\n",
    "                  '1994', '1995', '1996', '1997', '1998', '1999', '2000', '2001', '2002', '2003', '2004', \n",
    "                  '2005', '2006', '2007', '2008', '2009', '2010']\n",
    "                \n",
    "    for year in years_list:\n",
    "        if row['title'].find(year) != -1:\n",
    "            return year # год в названии найден\n",
    "    year = '1900'    \n",
    "    return year\n",
    "\n",
    "# Добавить поле year, передав список годов как параметр\n",
    "\n",
    "df_movies['year'] = df_movies.apply(production_year,  axis=1)\n",
    "df_movies"
   ]
  },
  {
   "cell_type": "code",
   "execution_count": null,
   "metadata": {},
   "outputs": [],
   "source": [
    "# Проверить есть ли фильмы  не входяшие в диапазон\n",
    "df_movies.loc[df_movies.year == '1900']\n"
   ]
  },
  {
   "cell_type": "code",
   "execution_count": null,
   "metadata": {},
   "outputs": [],
   "source": [
    "# Распределение фильмов по годам выпуска \n",
    "df_movies.groupby('year').count()\n"
   ]
  },
  {
   "cell_type": "code",
   "execution_count": 111,
   "metadata": {},
   "outputs": [
    {
     "name": "stdout",
     "output_type": "stream",
     "text": [
      "Было фильмов:\n",
      "<class 'pandas.core.frame.DataFrame'>\n",
      "RangeIndex: 9125 entries, 0 to 9124\n",
      "Data columns (total 4 columns):\n",
      " #   Column   Non-Null Count  Dtype \n",
      "---  ------   --------------  ----- \n",
      " 0   movieId  9125 non-null   int64 \n",
      " 1   title    9125 non-null   object\n",
      " 2   genres   9125 non-null   object\n",
      " 3   year     9125 non-null   object\n",
      "dtypes: int64(1), object(3)\n",
      "memory usage: 285.3+ KB\n",
      "\n",
      "\n",
      "Стало фильмов:\n",
      "\n",
      "<class 'pandas.core.frame.DataFrame'>\n",
      "Int64Index: 7515 entries, 0 to 9117\n",
      "Data columns (total 4 columns):\n",
      " #   Column   Non-Null Count  Dtype \n",
      "---  ------   --------------  ----- \n",
      " 0   movieId  7515 non-null   int64 \n",
      " 1   title    7515 non-null   object\n",
      " 2   genres   7515 non-null   object\n",
      " 3   year     7515 non-null   object\n",
      "dtypes: int64(1), object(3)\n",
      "memory usage: 293.6+ KB\n"
     ]
    }
   ],
   "source": [
    "# Исключить фильмы вне дипазона анализа\n",
    "print('Было фильмов:')\n",
    "df_movies.info()\n",
    "print('\\n')\n",
    "df_movies = df_movies[df_movies.year != '1900']\n",
    "print('Стало фильмов:\\n')\n",
    "df_movies.info()"
   ]
  },
  {
   "cell_type": "code",
   "execution_count": 112,
   "metadata": {},
   "outputs": [
    {
     "name": "stdout",
     "output_type": "stream",
     "text": [
      "<class 'pandas.core.frame.DataFrame'>\n",
      "Int64Index: 93079 entries, 0 to 93078\n",
      "Data columns (total 7 columns):\n",
      " #   Column     Non-Null Count  Dtype  \n",
      "---  ------     --------------  -----  \n",
      " 0   movieId    93079 non-null  int64  \n",
      " 1   title      93079 non-null  object \n",
      " 2   genres     93079 non-null  object \n",
      " 3   year       93079 non-null  object \n",
      " 4   userId     93079 non-null  int64  \n",
      " 5   rating     93079 non-null  float64\n",
      " 6   timestamp  93079 non-null  int64  \n",
      "dtypes: float64(1), int64(3), object(3)\n",
      "memory usage: 5.7+ MB\n"
     ]
    }
   ],
   "source": [
    "# Объединим датафреймы в общий фрейм:\n",
    "df_all = pd.merge(df_movies, df_ratings) \n",
    "df_all.info()\n"
   ]
  },
  {
   "cell_type": "markdown",
   "metadata": {},
   "source": [
    "###### Посчитайте средний рейтинг всех фильмов для каждого значения столбца ‘year’ и отсортируйте результат по убыванию рейтинга."
   ]
  },
  {
   "cell_type": "code",
   "execution_count": 122,
   "metadata": {},
   "outputs": [
    {
     "name": "stdout",
     "output_type": "stream",
     "text": [
      "<class 'pandas.core.frame.DataFrame'>\n",
      "Index: 61 entries, 1957 to 2000\n",
      "Data columns (total 1 columns):\n",
      " #   Column  Non-Null Count  Dtype  \n",
      "---  ------  --------------  -----  \n",
      " 0   rating  61 non-null     float64\n",
      "dtypes: float64(1)\n",
      "memory usage: 976.0+ bytes\n",
      "|   year |   rating |\n",
      "|-------:|---------:|\n",
      "|   1957 |  4.01424 |\n",
      "|   1972 |  4.01114 |\n",
      "|   1952 |  4       |\n",
      "|   1954 |  3.99422 |\n",
      "|   1951 |  3.98354 |\n",
      "|   1974 |  3.9787  |\n",
      "|   1962 |  3.95245 |\n",
      "|   1950 |  3.91525 |\n",
      "|   1977 |  3.90579 |\n",
      "|   1964 |  3.84149 |\n",
      "|   1959 |  3.84103 |\n",
      "|   1958 |  3.82317 |\n",
      "|   1975 |  3.82308 |\n",
      "|   1969 |  3.81738 |\n",
      "|   1967 |  3.81452 |\n",
      "|   1960 |  3.80921 |\n",
      "|   1976 |  3.80679 |\n",
      "|   1973 |  3.80667 |\n",
      "|   1979 |  3.77797 |\n",
      "|   1981 |  3.75876 |\n",
      "|   1953 |  3.75459 |\n",
      "|   1955 |  3.75172 |\n",
      "|   1971 |  3.74883 |\n",
      "|   1968 |  3.73784 |\n",
      "|   1966 |  3.73673 |\n",
      "|   1980 |  3.70882 |\n",
      "|   1963 |  3.70597 |\n",
      "|   1970 |  3.7     |\n",
      "|   1965 |  3.67871 |\n",
      "|   1961 |  3.66385 |\n",
      "|   1983 |  3.65764 |\n",
      "|   1984 |  3.65149 |\n",
      "|   1982 |  3.63831 |\n",
      "|   1991 |  3.62827 |\n",
      "|   1956 |  3.61765 |\n",
      "|   1987 |  3.60601 |\n",
      "|   1985 |  3.589   |\n",
      "|   1988 |  3.55299 |\n",
      "|   1978 |  3.549   |\n",
      "|   2007 |  3.54854 |\n",
      "|   1994 |  3.53796 |\n",
      "|   2010 |  3.53716 |\n",
      "|   1993 |  3.53666 |\n",
      "|   1989 |  3.53435 |\n",
      "|   1986 |  3.52826 |\n",
      "|   2009 |  3.52038 |\n",
      "|   2006 |  3.51148 |\n",
      "|   2008 |  3.49806 |\n",
      "|   2004 |  3.49149 |\n",
      "|   1998 |  3.47275 |\n",
      "|   1995 |  3.47212 |\n",
      "|   1999 |  3.47169 |\n",
      "|   1992 |  3.46675 |\n",
      "|   2001 |  3.46005 |\n",
      "|   2002 |  3.4563  |\n",
      "|   1990 |  3.44917 |\n",
      "|   2005 |  3.44843 |\n",
      "|   2003 |  3.44478 |\n",
      "|   1996 |  3.4266  |\n",
      "|   1997 |  3.41576 |\n",
      "|   2000 |  3.3561  |\n"
     ]
    }
   ],
   "source": [
    "# Сделаем маленькую результирующую табличку\n",
    "df_result=df_all[['year','rating']].groupby('year').mean().sort_values('rating', ascending=False)\n",
    "df_result.info()\n",
    "print(df_result.to_markdown())"
   ]
  },
  {
   "cell_type": "markdown",
   "metadata": {},
   "source": [
    "Гипотеза скорее достоверна, но нужна какая-то статистическая метрика или график.\n",
    "Построим график"
   ]
  },
  {
   "cell_type": "code",
   "execution_count": 114,
   "metadata": {},
   "outputs": [
    {
     "data": {
      "text/plain": [
       "<matplotlib.axes._subplots.AxesSubplot at 0xa9d9580>"
      ]
     },
     "execution_count": 114,
     "metadata": {},
     "output_type": "execute_result"
    },
    {
     "data": {
      "image/png": "[encoded data removed]",
      "text/plain": [
       "<Figure size 432x288 with 1 Axes>"
      ]
     },
     "metadata": {
      "needs_background": "light"
     },
     "output_type": "display_data"
    }
   ],
   "source": [
    "import matplotlib.pyplot as plt\n",
    "df_result.plot()"
   ]
  },
  {
   "cell_type": "markdown",
   "metadata": {},
   "source": [
    "###### Гипотеза подтверждается. \n",
    "С ростом года выпуска фильма его средний рейтинг снижается.\n",
    "Очень жаль, что нет данных по последим 10 годам."
   ]
  },
  {
   "cell_type": "code",
   "execution_count": null,
   "metadata": {},
   "outputs": [],
   "source": []
  }
 ],
 "metadata": {
  "kernelspec": {
   "display_name": "Python 3",
   "language": "python",
   "name": "python3"
  },
  "language_info": {
   "codemirror_mode": {
    "name": "ipython",
    "version": 3
   },
   "file_extension": ".py",
   "mimetype": "text/x-python",
   "name": "python",
   "nbconvert_exporter": "python",
   "pygments_lexer": "ipython3",
   "version": "3.8.3"
  }
 },
 "nbformat": 4,
 "nbformat_minor": 4
}
