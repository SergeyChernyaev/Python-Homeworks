{
 "cells": [
  {
   "cell_type": "markdown",
   "metadata": {},
   "source": [
    "# Домашнее задание к лекции \"Регулярные выражения\"\n",
    "\n",
    "Внимание! При реализации всех заданий необходимо использовать именно функционал регулярных выражений для обработки текста."
   ]
  },
  {
   "cell_type": "markdown",
   "metadata": {},
   "source": [
    "## Задание 1\n",
    "\n",
    "Напишите функцию, которая принимает на вход строку и проверяет является ли она валидным транспортным номером (1 буква, 3 цифры, 2 буквы, 2-3 цифры). Обратите внимание, что не все буквы кириллического алфавита используются в транспортных номерах.\n",
    "\n",
    "Если номер валиден, то функция должна возвращать отдельно номер и регион.\n",
    "\n",
    "Примеры работы программы:  \n",
    "\n",
    "1. `car_id = 'A222BC96'`\n",
    "\n",
    "Результат: \n",
    "`Номер A222BС валиден. Регион: 96`\n",
    "\n",
    "2. `car_id = 'АБ22ВВ193'`\n",
    "\n",
    "Результат: \n",
    "`Номер не валиден`"
   ]
  },
  {
   "cell_type": "code",
   "execution_count": 278,
   "metadata": {},
   "outputs": [
    {
     "name": "stdout",
     "output_type": "stream",
     "text": [
      "Введите номер автомобиля:Р911РК77\n",
      "Номер Р911РК77 валиден.\n",
      "Номер: Р911РК регион: 77\n"
     ]
    }
   ],
   "source": [
    "import re\n",
    "\n",
    "def car_number(num_str):\n",
    "    list_parts = []\n",
    "# Допустимые символы в номерах РФ:    \n",
    "# А, В, Е, К, М, Н, О, Р, С, Т, У, Х    \n",
    "# [АВЕКМНОРСТУХ]{1}[0-9]{3}[АВЕКМНОРСТУХ]{2}[0-9]{2,3}     \n",
    "# В шаблоне учтём, что возможны номера регионов из 3x цифр:\n",
    "    reg_exp = r'^([АВЕКМНОРСТУХ]{1}[0-9]{3}[АВЕКМНОРСТУХ]{2})([0-9]{2,3})$'\n",
    "    result = re.search(reg_exp, num_str)\n",
    "    if result is not None: # соответствует шаблону\n",
    "        list_parts.append(result.group(1)) # номер\n",
    "        list_parts.append(result.group(2)) # регион\n",
    "    return list_parts\n",
    "                 \n",
    "    \n",
    "num_str = str(input('Введите номер автомобиля:'))\n",
    "num_parts = car_number(num_str)\n",
    "if len(num_parts) == 0:\n",
    "    print (f'Номер {num_str} не валиден.')\n",
    "else:\n",
    "    print(f'Номер {num_str} валиден.')\n",
    "    print(f'Номер: {num_parts[0]} регион: {num_parts[1]}')\n"
   ]
  },
  {
   "attachments": {
    "%D0%B8%D0%B7%D0%BE%D0%B1%D1%80%D0%B0%D0%B6%D0%B5%D0%BD%D0%B8%D0%B5.png": {
     "image/png": "[encoded data removed]"
    }
   },
   "cell_type": "markdown",
   "metadata": {},
   "source": [
    "![%D0%B8%D0%B7%D0%BE%D0%B1%D1%80%D0%B0%D0%B6%D0%B5%D0%BD%D0%B8%D0%B5.png](attachment:%D0%B8%D0%B7%D0%BE%D0%B1%D1%80%D0%B0%D0%B6%D0%B5%D0%BD%D0%B8%D0%B5.png)"
   ]
  },
  {
   "cell_type": "markdown",
   "metadata": {},
   "source": [
    "## Задание 2\n",
    "\n",
    "Напишите функцию, которая будет удалять все последовательные повторы слов из заданной строки при помощи регулярных выражений.\n",
    "\n",
    "Пример работы программы:  \n",
    "\n",
    "`some_string = 'Напишите функцию функцию, которая будет будет будет будет удалять все все все все последовательные повторы слов из из из из заданной строки строки при помощи регулярных выражений.'`\n",
    "\n",
    "Результат:  \n",
    "`Напишите функцию, которая будет удалять все последовательные повторы слов из заданной строки при помощи регулярных выражений.`"
   ]
  },
  {
   "cell_type": "code",
   "execution_count": null,
   "metadata": {},
   "outputs": [],
   "source": [
    "def del_repeats(string):\n",
    "# Описание шаблона:\n",
    "#(\\w+) -любое слово\n",
    "# (\\s+) -любое число пробельных символов,\n",
    "# (\\s+\\1) -любое число пробельных символов, затем  следует предыдущее слово  (ссылка \\1), \n",
    "# + - сколько угодно раз повторяемое\n",
    "# Очень изящно... Но идею итерции сам бы не додумал... тем более что ссылки \n",
    "# не получилось заставить работать в 1ой задаче \n",
    "# Авторство: # https://ru.stackoverflow.com/questions/1045815/\n",
    "    reg_exp = r'(\\w+)(\\s+\\1)+'\n",
    "    return re.sub(reg_exp, r'\\1', string)\n",
    "\n",
    "some_string = 'Напишите функцию функцию, которая будет будет будет будет удалять все все все все последовательные \\\n",
    "повторы слов из из из из заданной строки строки при помощи регулярных выражений.' \n",
    "print(del_repeats(some_string))"
   ]
  },
  {
   "cell_type": "markdown",
   "metadata": {},
   "source": [
    "## Задание 3\n",
    "\n",
    "Напишите функцию, которая будет возвращать акроним по переданной в нее строке со словами.\n",
    "\n",
    "Примеры работы программы:  \n",
    "\n",
    "1. `some_words = 'Информационные технологии'`\n",
    "\n",
    "Результат: \n",
    "`ИТ`\n",
    "\n",
    "2. `some_words = 'Near Field Communication'`\n",
    "\n",
    "Результат: \n",
    "`NFC`"
   ]
  },
  {
   "cell_type": "code",
   "execution_count": 280,
   "metadata": {},
   "outputs": [
    {
     "name": "stdout",
     "output_type": "stream",
     "text": [
      "Результат: МАСАНДРА\n"
     ]
    }
   ],
   "source": [
    "import re\n",
    "def acronym (full_str=''):\n",
    "    reg_exp = r'\\b[A-Za-zА-Яа-яЁё]|\\s[A-Za-zА-Яа-яЁё]'\n",
    "    return re.sub(r'\\s+', '',''.join(re.findall(reg_exp,full_str))).upper()\n",
    "\n",
    "some_words = 'Микоян авиацию снабдил алкоголем, народ доволен работой авиаконструктора'\n",
    "print('Результат:', acronym(some_words))"
   ]
  },
  {
   "cell_type": "markdown",
   "metadata": {},
   "source": [
    "## Задание 4\n",
    "\n",
    "Напишите функцию, которая будет принимать на вход список email-адресов и выводить их распределение по доменным зонам.\n",
    "\n",
    "Пример работы программы:  \n",
    "\n",
    "`emails = ['test@gmail.com', 'xyz@test.in', 'test@ya.ru', 'xyz@mail.ru', 'xyz@ya.ru', 'xyz@gmail.com']`\n",
    "\n",
    "Результат: \n",
    "```\n",
    "gmail.com: 2\n",
    "test.in: 1 \n",
    "ya.ru: 2 \n",
    "mail.ru: 1\n",
    "```"
   ]
  },
  {
   "cell_type": "code",
   "execution_count": null,
   "metadata": {},
   "outputs": [],
   "source": [
    "%%time\n",
    "# Вариант без цикла, но с кучей join() и split()\n",
    "\n",
    "import re\n",
    "from collections import Counter\n",
    "\n",
    "def domains_counter(e_mail_list=[]):\n",
    "    # помещаем в строку домены из списка в виде @xyz.xyz \n",
    "    result = re.findall(r'@\\w+.\\w+', \" \".join(e_mail_list))\n",
    "    # формируем словарь частот предварительно убрав символ @\n",
    "    for key, item in Counter(re.sub(r'@', '', \" \".join(result)).split()).items():\n",
    "        print(f'{key}:{item}')\n",
    "    return\n",
    "\n",
    "emails = ['test@gmail.com', 'xyz@test.in', 'test@ya.ru', 'xyz@mail.ru', 'xyz@ya.ru', 'xyz@gmail.com']\n",
    "\n",
    "domains_counter(emails)\n"
   ]
  },
  {
   "cell_type": "code",
   "execution_count": null,
   "metadata": {},
   "outputs": [],
   "source": [
    "%%time\n",
    "# Вариант c циклом\n",
    "import re\n",
    "from collections import Counter\n",
    "\n",
    "def domains_counter(e_mail_list=[]):\n",
    "    result=[]\n",
    "    for email in e_mail_list:\n",
    "        \n",
    "    # помещаем в список домены  в виде xyz.xyz использую мощь писанины в одну строку, которая через 1 час \n",
    "    # будет непонятной без комментария:\n",
    "    # 1. методом findall находим домены с символом @\n",
    "    # 2. методом sub убираем символ @\n",
    "        result.append(re.sub(r'@', '', ''.join(re.findall(r'@\\w+.\\w+',email))))\n",
    "       \n",
    "    # формируем словарь частот используя объект Counter: \n",
    "    for key, item in Counter(result).items():\n",
    "        print(f'{key}:{item}')\n",
    "    return\n",
    "\n",
    "emails = ['test@gmail.com', 'xyz@test.in', 'test@ya.ru', 'xyz@mail.ru', 'xyz@ya.ru', 'xyz@gmail.com']\n",
    "\n",
    "domains_counter(emails)"
   ]
  },
  {
   "cell_type": "markdown",
   "metadata": {},
   "source": [
    "## Задание 5 (необязательное)\n",
    "\n",
    "Напишите функцию, которая будет подсчитывать сколько слов начинается на гласные, а сколько на согласные буквы в тексте (текст может быть написан как с использованием букв кириллицы, так и латиницы).\n",
    "\n",
    "Пример работы программы:  \n",
    "\n",
    "`some_text = 'Эталонной реализацией Python является интерпретатор CPython, поддерживающий большинство активно используемых платформ. Он распространяется под свободной лицензией Python Software Foundation License, позволяющей использовать его без ограничений в любых приложениях, включая проприетарные.'`\n",
    "\n",
    "Результат: \n",
    "```\n",
    "Слов на гласные буквы: 9\n",
    "Слов на согласные буквы: 21 \n",
    "```"
   ]
  },
  {
   "cell_type": "code",
   "execution_count": null,
   "metadata": {},
   "outputs": [],
   "source": [
    "def letters_count(full_str=''):\n",
    "# Шаблон: слово начинается с гласной в русском и английском языках:\n",
    "    reg_exp_gl=r'\\b[АаОоУуЫыЭэЕеЁёИиЮюЯяAaEeIiOoUuYy]' \n",
    "         \n",
    "    # Найти все слова\n",
    "    # Шаблон поиска- границы слова\n",
    "    words_list=re.findall(r'\\b\\w+\\b', full_str) \n",
    "    \n",
    "    vowel_letter =0 # гласная буква\n",
    "    consonant_letter =0 # согласная буква\n",
    "    \n",
    "    for item in words_list:\n",
    "        if re.search(reg_exp_gl, item):\n",
    "            vowel_letter +=1\n",
    "        else:\n",
    "            consonant_letter +=1\n",
    "     \n",
    "    print ('Слов на гласные буквы:', vowel_letter)\n",
    "    print ('Слов на согласные буквы:', consonant_letter)\n",
    "    return\n",
    "\n",
    "some_text = 'Эталонной реализацией Python является интерпретатор CPython,\\\n",
    "поддерживающий большинство активно используемых платформ.\\\n",
    "Он распространяется под свободной лицензией Python Software Foundation License,\\\n",
    "позволяющей использовать его без ограничений в любых приложениях, включая проприетарные.'\n",
    "\n",
    "letters_count(some_text)\n",
    "\n",
    "\n"
   ]
  },
  {
   "cell_type": "markdown",
   "metadata": {},
   "source": [
    "## Задание 6 (необязательное)\n",
    "Напишите функцию, которая будет проверять номер сотового телефона на валидность (только для российского формата), если он валиден, то переводить его в формат:   \n",
    "+7-xxx-xxx-xx-xx  \n",
    "Постарайтесь предусмотреть как можно больше адекватных форматов изначального ввода номера.\n",
    "Примеры работы программы:  \n",
    "\n",
    "1. `phone = '+7 955 555-55-55'`\n",
    "\n",
    "Результат: \n",
    "`+7-955-555-55-55`\n",
    "\n",
    "2. `phone = '8(955)555-55-55'`\n",
    "\n",
    "Результат: \n",
    "`+7-955-555-55-55`\n",
    "\n",
    "3. `phone = '+7 955 555 55 55'`\n",
    "\n",
    "Результат: \n",
    "`+7-955-555-55-55`\n",
    "\n",
    "4. `phone = '7(955) 555-55-55'`\n",
    "\n",
    "Результат: \n",
    "`+7-955-555-55-55`\n",
    "\n",
    "5. `phone = '423-555-55-5555'`\n",
    "\n",
    "Результат: \n",
    "`Номер не валиден`\n",
    "\n",
    "6. `phone = '123-456-789'`\n",
    "\n",
    "Результат: \n",
    "`Номер не валиден`"
   ]
  },
  {
   "cell_type": "raw",
   "metadata": {},
   "source": [
    "# Поддержка скобок без проверки парности:\n",
    "^([\\+]?([7]{1})|8)[\\ -]?\\(?(\\d{3})\\)?[\\ -]?(\\d{3})[\\ -]?(\\d{2})[\\ -]?(\\d{2})\n",
    "\n"
   ]
  },
  {
   "cell_type": "code",
   "execution_count": 281,
   "metadata": {},
   "outputs": [
    {
     "name": "stdout",
     "output_type": "stream",
     "text": [
      "Проверяемый номер: +7 955 555-55-55 \n",
      "Ответ проверки: +7-955-555-55-55\n",
      "Проверяемый номер: 8(955)555-55-55 \n",
      "Ответ проверки: +7-955-555-55-55\n",
      "Проверяемый номер: 8(100555-55-55 \n",
      "Ответ проверки: +7-100-555-55-55\n",
      "Проверяемый номер: 8100)555-55-55 \n",
      "Ответ проверки: +7-100-555-55-55\n",
      "Проверяемый номер: 8(9555)555-55-55 \n",
      "Ответ проверки: Номер не валиден\n",
      "Проверяемый номер: +7-955-555-55-55 \n",
      "Ответ проверки: +7-955-555-55-55\n",
      "Проверяемый номер: +7 955 555 55 55 \n",
      "Ответ проверки: +7-955-555-55-55\n",
      "Проверяемый номер: 7(955) 555-55-55 \n",
      "Ответ проверки: +7-955-555-55-55\n",
      "Проверяемый номер: +7(955)555-5555 \n",
      "Ответ проверки: +7-955-555-55-55\n",
      "Проверяемый номер: 89555555555 \n",
      "Ответ проверки: +7-955-555-55-55\n",
      "Проверяемый номер: 423-555-55-5555 \n",
      "Ответ проверки: Номер не валиден\n",
      "Проверяемый номер: 123-456-789 \n",
      "Ответ проверки: Номер не валиден\n"
     ]
    }
   ],
   "source": [
    "import re\n",
    "def test_phone_number(phone_str=''):\n",
    "    #Описание шаблона\n",
    "    # 1 группа:\n",
    "    # -----------\n",
    "    # Префикс:\n",
    "    #------------\n",
    "    # ([\\+]?([7]{1})|8) если есть + или нет +, всегда есть 7, ,без плюса только 8\n",
    "    #----------------\n",
    "    # 2,4,6,8 группа:\n",
    "    #----------------\n",
    "    # Разделитель:\n",
    "    #-------------\n",
    "    # [\\ -]? может быть тире или пробел, а может не быть ничего\n",
    "    #--------------------------------\n",
    "    # 3 группа: \n",
    "    #---------------------------------\n",
    "    # Номер сети мобильного оператора:\n",
    "    #---------------------------------\n",
    "    # ?\\(?(\\d{3})\\)? -скобки могут быть или не быть, внутри три цифры \n",
    "    #---------------------------------\n",
    "    #  5 группа: Номер условной АТС мобильного оператора:\n",
    "    #---------------------------------\n",
    "    # (\\d{3}) -три цифры  \n",
    "    #----------------------------------\n",
    "    # 7,9 группа: номер абонента\n",
    "    # --------------------------------\n",
    "    # (\\d{2}) -две цифры\n",
    "    #---------------------------------\n",
    "    str_phone='Номер не валиден' \n",
    "    reg_exp = r'^([\\+]?([7]{1})|8)[\\ -]?\\(?(\\d{3})\\)?[\\ -]?(\\d{3})[\\ -]?(\\d{2})[\\ -]?(\\d{2})$'\n",
    "    phone = re.search(reg_exp, phone_str)\n",
    "    if phone != None:\n",
    "        str_phone=f'+7-{phone.group(3)}-{phone.group(4)}-{phone.group(5)}-{phone.group(6)}'\n",
    "    return str_phone \n",
    "\n",
    "# Тестовый набор \n",
    "test_phones=[\n",
    "'+7 955 555-55-55',\n",
    "'8(955)555-55-55',\n",
    "'8(100555-55-55',\n",
    "'8100)555-55-55', \n",
    "'8(9555)555-55-55',     \n",
    "'+7-955-555-55-55',\n",
    "'+7 955 555 55 55',\n",
    "'7(955) 555-55-55',\n",
    "'+7(955)555-5555',\n",
    "'89555555555',   \n",
    "'423-555-55-5555',\n",
    "'123-456-789'\n",
    "            ]\n",
    "\n",
    "for phone_str in test_phones:\n",
    "        print('Проверяемый номер:', phone_str, '\\nОтвет проверки:', test_phone_number(phone_str))\n",
    "    "
   ]
  },
  {
   "cell_type": "markdown",
   "metadata": {},
   "source": [
    "#### ПРИМЕЧАНИЕ\n",
    "Домашнее задание сдается ссылкой [Google Colab](https://colab.research.google.com/).\n",
    "Не сможем проверить или помочь, если вы пришлете:\n",
    "- файлы;\n",
    "- архивы;\n",
    "- скриншоты кода.\n",
    "\n",
    "Все обсуждения и консультации по выполнению домашнего задания ведутся только на соответствующем канале в slack.\n",
    "\n",
    "##### Как правильно задавать вопросы аспирантам, преподавателям и коллегам\n",
    "Прежде чем задать вопрос, попробуйте найти ответ в интернете. Навык самостоятельного поиска информации — один из важнейших. Каждый практикующий специалист любого уровня делает это ежедневно.\n",
    "\n",
    "Сформулируйте вопрос по алгоритму:  \n",
    "1) Что я делаю?  \n",
    "2) Какого результата я ожидаю?  \n",
    "3) Как фактический результат отличается от ожидаемого?  \n",
    "4) Что я уже попробовал сделать, чтобы исправить проблему?  \n",
    "\n",
    "По возможности прикрепите к вопросу скриншоты либо ссылки на код. Не выкладывайте все решение, оставляйте только проблемный и воспроизводимый участок кода."
   ]
  }
 ],
 "metadata": {
  "kernelspec": {
   "display_name": "Python 3",
   "language": "python",
   "name": "python3"
  },
  "language_info": {
   "codemirror_mode": {
    "name": "ipython",
    "version": 3
   },
   "file_extension": ".py",
   "mimetype": "text/x-python",
   "name": "python",
   "nbconvert_exporter": "python",
   "pygments_lexer": "ipython3",
   "version": "3.8.3"
  }
 },
 "nbformat": 4,
 "nbformat_minor": 2
}
