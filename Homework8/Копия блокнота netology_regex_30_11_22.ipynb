{
 "cells": [
  {
   "cell_type": "markdown",
   "metadata": {
    "id": "T14fj_LH_mVr"
   },
   "source": [
    "# Регулярные выражения\n",
    "\n",
    "Булыгин Олег  \n",
    " \n",
    "* [LinkedIn](linkedin.com/in/obulygin)  \n",
    "* [Мой канал в ТГ по Python](https://t.me/pythontalk_ru)"
   ]
  },
  {
   "cell_type": "code",
   "execution_count": null,
   "metadata": {
    "id": "WxQkHgKD_hy5"
   },
   "outputs": [],
   "source": [
    "import re"
   ]
  },
  {
   "cell_type": "code",
   "execution_count": null,
   "metadata": {
    "id": "mCafPRzv_hy9"
   },
   "outputs": [],
   "source": [
    "# найдем идентификаторы пользователей в тексте\n",
    "msg = 'В розыгрыше победили: id1234563, id4653, id461'"
   ]
  },
  {
   "cell_type": "code",
   "execution_count": null,
   "metadata": {
    "colab": {
     "base_uri": "https://localhost:8080/"
    },
    "executionInfo": {
     "elapsed": 373,
     "status": "ok",
     "timestamp": 1669824899992,
     "user": {
      "displayName": "Олег Булыгин",
      "userId": "00238399283473622287"
     },
     "user_tz": -300
    },
    "id": "mvfyZlvS_hy-",
    "outputId": "6ec1f196-e806-48bc-d8c1-e94deb754a5e"
   },
   "outputs": [],
   "source": [
    "re.findall(r'id\\d+', msg)"
   ]
  },
  {
   "cell_type": "code",
   "execution_count": null,
   "metadata": {
    "id": "38hqT0YP_hzA"
   },
   "outputs": [],
   "source": [
    "# ПРАКТИКА. Найдем хэштеги в твите\n",
    "tweet = 'когда #эпидемия, то обязательно #оставайсядома'"
   ]
  },
  {
   "cell_type": "code",
   "execution_count": null,
   "metadata": {
    "colab": {
     "base_uri": "https://localhost:8080/"
    },
    "executionInfo": {
     "elapsed": 284,
     "status": "ok",
     "timestamp": 1669825010412,
     "user": {
      "displayName": "Олег Булыгин",
      "userId": "00238399283473622287"
     },
     "user_tz": -300
    },
    "id": "QYLyEyPF_hzB",
    "outputId": "9d7f997b-38da-4904-fe31-33c4c87fb40f"
   },
   "outputs": [],
   "source": [
    "re.findall(r'#\\w+', tweet)"
   ]
  },
  {
   "cell_type": "code",
   "execution_count": null,
   "metadata": {
    "colab": {
     "base_uri": "https://localhost:8080/"
    },
    "executionInfo": {
     "elapsed": 260,
     "status": "ok",
     "timestamp": 1669825029572,
     "user": {
      "displayName": "Олег Булыгин",
      "userId": "00238399283473622287"
     },
     "user_tz": -300
    },
    "id": "JFOpei1eUxei",
    "outputId": "b0d223fd-09bc-4a31-de19-f21cdeac796a"
   },
   "outputs": [],
   "source": [
    "re.findall(r'#\\S+', tweet)"
   ]
  },
  {
   "cell_type": "code",
   "execution_count": null,
   "metadata": {
    "colab": {
     "base_uri": "https://localhost:8080/"
    },
    "executionInfo": {
     "elapsed": 260,
     "status": "ok",
     "timestamp": 1669825066062,
     "user": {
      "displayName": "Олег Булыгин",
      "userId": "00238399283473622287"
     },
     "user_tz": -300
    },
    "id": "0VWu-36ZUxyB",
    "outputId": "f71de465-264d-4253-85e9-dd61278d5058"
   },
   "outputs": [],
   "source": [
    "re.findall(r'#\\w+', tweet)"
   ]
  },
  {
   "cell_type": "code",
   "execution_count": null,
   "metadata": {
    "colab": {
     "base_uri": "https://localhost:8080/"
    },
    "executionInfo": {
     "elapsed": 253,
     "status": "ok",
     "timestamp": 1669825080658,
     "user": {
      "displayName": "Олег Булыгин",
      "userId": "00238399283473622287"
     },
     "user_tz": -300
    },
    "id": "UKEa8lV4U3MQ",
    "outputId": "25d94004-5396-4c4f-b384-3e5a35493537"
   },
   "outputs": [],
   "source": [
    "re.findall(r'#\\w+', tweet)"
   ]
  },
  {
   "cell_type": "markdown",
   "metadata": {
    "id": "0R7hBBVBBiI7"
   },
   "source": []
  },
  {
   "cell_type": "code",
   "execution_count": null,
   "metadata": {
    "id": "QdLpzlNB_hzB"
   },
   "outputs": [],
   "source": [
    "# посмотрим внимательнее, как работают quantifiers\n",
    "text = \"\"\"Что такое регулярные выражения и как их использовать? \n",
    "Говоря простым языком, регулярное выражение — это последовательность символов, используемая для поиска и замены текста в строке или файле. Как уже было упомянуто,\\\n",
    "их поддерживает множество языков общего назначения: Python, Perl, R.\n",
    "Так что изучение регулярных выражений рано или поздно пригодится.\"\"\""
   ]
  },
  {
   "cell_type": "code",
   "execution_count": null,
   "metadata": {
    "colab": {
     "base_uri": "https://localhost:8080/"
    },
    "executionInfo": {
     "elapsed": 294,
     "status": "ok",
     "timestamp": 1669825271588,
     "user": {
      "displayName": "Олег Булыгин",
      "userId": "00238399283473622287"
     },
     "user_tz": -300
    },
    "id": "R9VklNwz_hzC",
    "outputId": "c0a58714-0f56-4103-d188-2dc86ac25796",
    "scrolled": true
   },
   "outputs": [],
   "source": [
    "re.findall(r'\\w+', text)"
   ]
  },
  {
   "cell_type": "code",
   "execution_count": null,
   "metadata": {
    "colab": {
     "base_uri": "https://localhost:8080/"
    },
    "executionInfo": {
     "elapsed": 281,
     "status": "ok",
     "timestamp": 1669825322861,
     "user": {
      "displayName": "Олег Булыгин",
      "userId": "00238399283473622287"
     },
     "user_tz": -300
    },
    "id": "C9ofKbAc_hzC",
    "outputId": "bee6ffb1-033a-477f-e961-fedf7b30227a"
   },
   "outputs": [],
   "source": [
    "re.findall(r'\\w*', text)"
   ]
  },
  {
   "cell_type": "code",
   "execution_count": null,
   "metadata": {
    "colab": {
     "base_uri": "https://localhost:8080/"
    },
    "executionInfo": {
     "elapsed": 325,
     "status": "ok",
     "timestamp": 1669825378125,
     "user": {
      "displayName": "Олег Булыгин",
      "userId": "00238399283473622287"
     },
     "user_tz": -300
    },
    "id": "WRBcmiin_hzD",
    "outputId": "e5546610-97d1-4fce-d3da-3360734a7f69",
    "scrolled": false
   },
   "outputs": [],
   "source": [
    "re.findall(r'\\w?', text)"
   ]
  },
  {
   "cell_type": "code",
   "execution_count": null,
   "metadata": {
    "id": "I4FpQWdw_hzE"
   },
   "outputs": [],
   "source": []
  },
  {
   "cell_type": "code",
   "execution_count": null,
   "metadata": {
    "id": "qGntw1Qd_hzE"
   },
   "outputs": [],
   "source": [
    "# необходимо из строки с условными датами вытащить их\n",
    "registration = 'Date of start: 4-12. Date of registration: 20-11'"
   ]
  },
  {
   "cell_type": "code",
   "execution_count": null,
   "metadata": {
    "colab": {
     "base_uri": "https://localhost:8080/"
    },
    "executionInfo": {
     "elapsed": 569,
     "status": "ok",
     "timestamp": 1669825447564,
     "user": {
      "displayName": "Олег Булыгин",
      "userId": "00238399283473622287"
     },
     "user_tz": -300
    },
    "id": "cASR3icl_hzF",
    "outputId": "0cd7e88d-c2f4-4796-d015-d830dd9c8235"
   },
   "outputs": [],
   "source": [
    "re.findall(r'\\d{1,2}-\\d{1,2}', registration)"
   ]
  },
  {
   "cell_type": "code",
   "execution_count": null,
   "metadata": {
    "id": "zU0_MXp2_hzF"
   },
   "outputs": [],
   "source": []
  },
  {
   "cell_type": "code",
   "execution_count": null,
   "metadata": {
    "id": "ln3Z3Q3O_hzG"
   },
   "outputs": [],
   "source": [
    "# вытащим номера телефонов и текста\n",
    "phone_numbers = 'Мария: 8-943-342-23-32 Александр: 8-323-432-23-67'"
   ]
  },
  {
   "cell_type": "code",
   "execution_count": null,
   "metadata": {
    "colab": {
     "base_uri": "https://localhost:8080/"
    },
    "executionInfo": {
     "elapsed": 3,
     "status": "ok",
     "timestamp": 1669825505076,
     "user": {
      "displayName": "Олег Булыгин",
      "userId": "00238399283473622287"
     },
     "user_tz": -300
    },
    "id": "tbUFSSXU_hzG",
    "outputId": "4c977bdb-0718-44c4-c5a4-ea3eb876fcdc"
   },
   "outputs": [],
   "source": [
    "phone_pattern = r'\\d-\\d{3}-\\d{3}-\\d{2}-\\d{2}'\n",
    "re.findall(phone_pattern, phone_numbers)"
   ]
  },
  {
   "cell_type": "code",
   "execution_count": null,
   "metadata": {
    "id": "4UrQtkT1_hzH"
   },
   "outputs": [],
   "source": []
  },
  {
   "cell_type": "code",
   "execution_count": null,
   "metadata": {
    "id": "zqii2BFP_hzH",
    "scrolled": true
   },
   "outputs": [],
   "source": [
    "# ПРАКТИКА. Свалидируем дату\n",
    "date = 'some text 1st september 2019 07:25 some text'"
   ]
  },
  {
   "cell_type": "code",
   "execution_count": null,
   "metadata": {
    "colab": {
     "base_uri": "https://localhost:8080/"
    },
    "executionInfo": {
     "elapsed": 262,
     "status": "ok",
     "timestamp": 1669825824836,
     "user": {
      "displayName": "Олег Булыгин",
      "userId": "00238399283473622287"
     },
     "user_tz": -300
    },
    "id": "0jQLCAS4_hzH",
    "outputId": "d7563de0-679a-4d76-c311-703c69ab3ff3"
   },
   "outputs": [],
   "source": [
    "re.findall(r'\\d{1,2}\\w{2}\\s\\w+\\s+\\d{4}', date)"
   ]
  },
  {
   "cell_type": "code",
   "execution_count": null,
   "metadata": {
    "colab": {
     "base_uri": "https://localhost:8080/"
    },
    "executionInfo": {
     "elapsed": 360,
     "status": "ok",
     "timestamp": 1669825845131,
     "user": {
      "displayName": "Олег Булыгин",
      "userId": "00238399283473622287"
     },
     "user_tz": -300
    },
    "id": "2kFxOdC_XN7q",
    "outputId": "d525fa39-3b62-4ba6-eb77-b5042b45edf3"
   },
   "outputs": [],
   "source": [
    "re.findall(r'\\d{1,2}\\w{2}\\s\\w+\\s\\d{4}', date)"
   ]
  },
  {
   "cell_type": "code",
   "execution_count": null,
   "metadata": {
    "colab": {
     "base_uri": "https://localhost:8080/"
    },
    "executionInfo": {
     "elapsed": 258,
     "status": "ok",
     "timestamp": 1669825925480,
     "user": {
      "displayName": "Олег Булыгин",
      "userId": "00238399283473622287"
     },
     "user_tz": -300
    },
    "id": "Misx_nc2XN_J",
    "outputId": "e7d19c20-364b-432c-8dbb-9678c7ea5c34"
   },
   "outputs": [],
   "source": [
    "re.findall(r'\\dst\\s\\w*\\s\\d{4}\\s\\d{2}:\\d{2}', date)"
   ]
  },
  {
   "cell_type": "code",
   "execution_count": null,
   "metadata": {
    "colab": {
     "base_uri": "https://localhost:8080/"
    },
    "executionInfo": {
     "elapsed": 273,
     "status": "ok",
     "timestamp": 1669825960825,
     "user": {
      "displayName": "Олег Булыгин",
      "userId": "00238399283473622287"
     },
     "user_tz": -300
    },
    "id": "nha3aJIkXo5_",
    "outputId": "77348b3c-78a2-4ab9-b271-9c7a7bbe6edc"
   },
   "outputs": [],
   "source": [
    "re.findall(r'\\d{1,2}\\w{2}\\s\\w+\\s\\d+', date)"
   ]
  },
  {
   "cell_type": "markdown",
   "metadata": {
    "id": "kXjJXj5hBkBj"
   },
   "source": []
  },
  {
   "cell_type": "code",
   "execution_count": null,
   "metadata": {
    "colab": {
     "base_uri": "https://localhost:8080/"
    },
    "executionInfo": {
     "elapsed": 269,
     "status": "ok",
     "timestamp": 1669826033547,
     "user": {
      "displayName": "Олег Булыгин",
      "userId": "00238399283473622287"
     },
     "user_tz": -300
    },
    "id": "DHp1uMnM_hzI",
    "outputId": "3b1652a7-7efd-4544-c06f-38bf36901b9d"
   },
   "outputs": [],
   "source": [
    "# search ищет по всей строке, а match только в начале\n",
    "text = \"\"\"Что такое регулярные выражения и как их использовать? \n",
    "Говоря простым языком, регулярное выражение — это последовательность символов, используемая для поиска и замены текста в строке или файле. Как уже было упомянуто,\\\n",
    "их поддерживает множество языков общего назначения: Python, Perl, R.\n",
    "Так что изучение регулярных выражений рано или поздно пригодится.\"\"\"\n",
    "\n",
    "result = re.match(r'P\\w+', text)\n",
    "result\n",
    "print('Нашел' if result else 'Не нашел')"
   ]
  },
  {
   "cell_type": "code",
   "execution_count": null,
   "metadata": {
    "colab": {
     "base_uri": "https://localhost:8080/"
    },
    "executionInfo": {
     "elapsed": 306,
     "status": "ok",
     "timestamp": 1669826079836,
     "user": {
      "displayName": "Олег Булыгин",
      "userId": "00238399283473622287"
     },
     "user_tz": -300
    },
    "id": "uM3JJ1eR_hzI",
    "outputId": "3d511210-7177-4697-b301-a7c2e63f469d"
   },
   "outputs": [],
   "source": [
    "re.match(r'\\w+', text)"
   ]
  },
  {
   "cell_type": "code",
   "execution_count": null,
   "metadata": {
    "colab": {
     "base_uri": "https://localhost:8080/"
    },
    "executionInfo": {
     "elapsed": 280,
     "status": "ok",
     "timestamp": 1669826160141,
     "user": {
      "displayName": "Олег Булыгин",
      "userId": "00238399283473622287"
     },
     "user_tz": -300
    },
    "id": "Js-pRNcy_hzJ",
    "outputId": "94a84225-dfa6-4766-f80d-5817b4cd576f"
   },
   "outputs": [],
   "source": [
    "res = re.search(r'P\\w+', text)\n",
    "# res.start()\n",
    "# res.group()\n",
    "# res"
   ]
  },
  {
   "cell_type": "code",
   "execution_count": null,
   "metadata": {
    "id": "8BP4XUVO_hzJ"
   },
   "outputs": [],
   "source": []
  },
  {
   "cell_type": "code",
   "execution_count": null,
   "metadata": {
    "id": "sWzhv7xE_hzJ"
   },
   "outputs": [],
   "source": [
    "# экранирование\n",
    "text = \"Эта строка написана 08.06.2021, а могла бы и 01/01/2999\""
   ]
  },
  {
   "cell_type": "code",
   "execution_count": null,
   "metadata": {
    "colab": {
     "base_uri": "https://localhost:8080/"
    },
    "executionInfo": {
     "elapsed": 672,
     "status": "ok",
     "timestamp": 1669826438606,
     "user": {
      "displayName": "Олег Булыгин",
      "userId": "00238399283473622287"
     },
     "user_tz": -300
    },
    "id": "MJGyV901_hzK",
    "outputId": "ecd22191-6e79-4c90-fc57-7983f71651cd"
   },
   "outputs": [],
   "source": [
    "re.findall(r'\\d\\d.\\d\\d.\\d{4}', text)"
   ]
  },
  {
   "cell_type": "code",
   "execution_count": null,
   "metadata": {
    "id": "iSKV6Rqc_hzK"
   },
   "outputs": [],
   "source": [
    "# определим находится ли домен в зоне com\n",
    "domain = 'www.site.com'"
   ]
  },
  {
   "cell_type": "code",
   "execution_count": null,
   "metadata": {
    "colab": {
     "base_uri": "https://localhost:8080/"
    },
    "executionInfo": {
     "elapsed": 272,
     "status": "ok",
     "timestamp": 1669826478411,
     "user": {
      "displayName": "Олег Булыгин",
      "userId": "00238399283473622287"
     },
     "user_tz": -300
    },
    "id": "m3h4l64J_hzK",
    "outputId": "ae8c9438-fc79-45ab-d716-3be243fdbc05"
   },
   "outputs": [],
   "source": [
    "re.findall(r'www\\.\\w+\\.com', domain)"
   ]
  },
  {
   "cell_type": "code",
   "execution_count": null,
   "metadata": {
    "id": "3Fgjt-hA_hzL"
   },
   "outputs": [],
   "source": [
    "# поищем только в начале и конце строки\n",
    "history_comment = '20 век был более опасным, чем 19 век'"
   ]
  },
  {
   "cell_type": "code",
   "execution_count": null,
   "metadata": {
    "colab": {
     "base_uri": "https://localhost:8080/"
    },
    "executionInfo": {
     "elapsed": 6,
     "status": "ok",
     "timestamp": 1669826522709,
     "user": {
      "displayName": "Олег Булыгин",
      "userId": "00238399283473622287"
     },
     "user_tz": -300
    },
    "id": "mBANMW7F_hzL",
    "outputId": "220b6538-4cf5-416a-87a4-e4e0699f442d"
   },
   "outputs": [],
   "source": [
    "re.findall(r'\\d{1,2}\\sвек', history_comment)"
   ]
  },
  {
   "cell_type": "code",
   "execution_count": null,
   "metadata": {
    "colab": {
     "base_uri": "https://localhost:8080/"
    },
    "executionInfo": {
     "elapsed": 262,
     "status": "ok",
     "timestamp": 1669826546111,
     "user": {
      "displayName": "Олег Булыгин",
      "userId": "00238399283473622287"
     },
     "user_tz": -300
    },
    "id": "cxBFLGqF_hzM",
    "outputId": "74a9c911-d27f-4fa3-b944-709dae6d7adf"
   },
   "outputs": [],
   "source": [
    "re.findall(r'^\\d{1,2}\\sвек', history_comment)"
   ]
  },
  {
   "cell_type": "code",
   "execution_count": null,
   "metadata": {
    "colab": {
     "base_uri": "https://localhost:8080/"
    },
    "executionInfo": {
     "elapsed": 278,
     "status": "ok",
     "timestamp": 1669826560865,
     "user": {
      "displayName": "Олег Булыгин",
      "userId": "00238399283473622287"
     },
     "user_tz": -300
    },
    "id": "RHLmO7nh_hzN",
    "outputId": "37b17d56-f679-4cf7-90c0-0ccd00eb87ef"
   },
   "outputs": [],
   "source": [
    "re.findall(r'\\d{1,2}\\sвек$', history_comment)"
   ]
  },
  {
   "cell_type": "code",
   "execution_count": null,
   "metadata": {
    "id": "rbbiCwSt_hzN"
   },
   "outputs": [],
   "source": []
  },
  {
   "cell_type": "code",
   "execution_count": null,
   "metadata": {
    "colab": {
     "base_uri": "https://localhost:8080/"
    },
    "executionInfo": {
     "elapsed": 291,
     "status": "ok",
     "timestamp": 1669826586199,
     "user": {
      "displayName": "Олег Булыгин",
      "userId": "00238399283473622287"
     },
     "user_tz": -300
    },
    "id": "UYt4Ie2p_hzN",
    "outputId": "0121e51d-8b7f-47a2-b5ef-52d0914c371d"
   },
   "outputs": [],
   "source": [
    "# ИЛИ\n",
    "market_search = 'Что лучше: ноутбук или компьютер?'\n",
    "re.findall('ноутбук|компьютер', market_search)"
   ]
  },
  {
   "cell_type": "code",
   "execution_count": 13,
   "metadata": {
    "colab": {
     "base_uri": "https://localhost:8080/",
     "height": 36
    },
    "executionInfo": {
     "elapsed": 281,
     "status": "ok",
     "timestamp": 1669826679642,
     "user": {
      "displayName": "Олег Булыгин",
      "userId": "00238399283473622287"
     },
     "user_tz": -300
    },
    "id": "QA_LkF74_hzO",
    "outputId": "a1fb7da3-e11a-410d-f95f-c5a9fe00520c"
   },
   "outputs": [
    {
     "data": {
      "text/plain": [
       "'Тут текст в который попали пробельные символы в начале и в конце, от которых нужно избавиться'"
      ]
     },
     "execution_count": 13,
     "metadata": {},
     "output_type": "execute_result"
    }
   ],
   "source": [
    "text = '    Тут текст в который попали пробельные символы в начале и в конце, от которых нужно избавиться   ' \n",
    "\n",
    "re.sub(r'^\\s+|\\s+$', '', text) \n",
    "#re.sub(r'\\s+', '', text) "
   ]
  },
  {
   "cell_type": "code",
   "execution_count": null,
   "metadata": {
    "id": "WJUKoWcN_hzO"
   },
   "outputs": [],
   "source": []
  },
  {
   "cell_type": "code",
   "execution_count": null,
   "metadata": {
    "colab": {
     "base_uri": "https://localhost:8080/"
    },
    "executionInfo": {
     "elapsed": 276,
     "status": "ok",
     "timestamp": 1669826737733,
     "user": {
      "displayName": "Олег Булыгин",
      "userId": "00238399283473622287"
     },
     "user_tz": -300
    },
    "id": "rfzOaAqP_hzP",
    "outputId": "e6d162de-99aa-4afa-a5e7-9972d167b0e7"
   },
   "outputs": [],
   "source": [
    "# [] - найдем слово во всем склонениях\n",
    "text = \"\"\"Что такое регулярные выражения и как их использовать? \n",
    "Говоря простым языком, регулярное выражение — это последовательность символов, используемая для поиска и замены текста в строке или файле. Как уже было упомянуто,\n",
    "их поддерживает множество языков общего назначения: Python, Perl, R.\n",
    "Так что изучение регулярных выражений рано или поздно пригодится.\"\"\"\n",
    "pattern = r'[Рр]егулярн[а-я]{2,3}\\sвыражен[а-я]{2,3}'\n",
    "re.findall(pattern, text)"
   ]
  },
  {
   "cell_type": "code",
   "execution_count": null,
   "metadata": {
    "id": "tlzH1TFZ_hzQ"
   },
   "outputs": [],
   "source": []
  },
  {
   "cell_type": "code",
   "execution_count": null,
   "metadata": {
    "id": "M8NQrHsJ_hzR"
   },
   "outputs": [],
   "source": [
    "# найдем все домены, которые состоят из цифр\n",
    "websites = 'www.101.com  www.google.com'"
   ]
  },
  {
   "cell_type": "code",
   "execution_count": null,
   "metadata": {
    "colab": {
     "base_uri": "https://localhost:8080/"
    },
    "executionInfo": {
     "elapsed": 5,
     "status": "ok",
     "timestamp": 1669826832572,
     "user": {
      "displayName": "Олег Булыгин",
      "userId": "00238399283473622287"
     },
     "user_tz": -300
    },
    "id": "Q-e3ERl2_hzR",
    "outputId": "2a819937-a373-4523-a2f0-e77082f56e4d"
   },
   "outputs": [],
   "source": [
    "re.findall(r'www\\.[0-9]+\\.com', websites)"
   ]
  },
  {
   "cell_type": "code",
   "execution_count": null,
   "metadata": {
    "id": "edYU_HDW_hzR"
   },
   "outputs": [],
   "source": [
    "websites = 'www.101.com  www.google.com'"
   ]
  },
  {
   "cell_type": "code",
   "execution_count": null,
   "metadata": {
    "colab": {
     "base_uri": "https://localhost:8080/"
    },
    "executionInfo": {
     "elapsed": 480,
     "status": "ok",
     "timestamp": 1669826850588,
     "user": {
      "displayName": "Олег Булыгин",
      "userId": "00238399283473622287"
     },
     "user_tz": -300
    },
    "id": "plq39Hbe_hzR",
    "outputId": "53a20d50-688f-40fb-904e-2e743e313a75"
   },
   "outputs": [],
   "source": [
    "re.findall(r'www\\.[^0-9]+\\.com', websites)"
   ]
  },
  {
   "cell_type": "code",
   "execution_count": null,
   "metadata": {
    "id": "9MVX6FV6_hzS"
   },
   "outputs": [],
   "source": []
  },
  {
   "cell_type": "code",
   "execution_count": null,
   "metadata": {
    "colab": {
     "base_uri": "https://localhost:8080/"
    },
    "executionInfo": {
     "elapsed": 277,
     "status": "ok",
     "timestamp": 1669826937533,
     "user": {
      "displayName": "Олег Булыгин",
      "userId": "00238399283473622287"
     },
     "user_tz": -300
    },
    "id": "_eJo-m10_hzS",
    "outputId": "94536526-5cda-4752-9d06-6606d6ff457b"
   },
   "outputs": [],
   "source": [
    "# split\n",
    "columns = 'Столбец1,Столбец2;Столбец3, Столбец4; Столбец5'\n",
    "re.split(r'[,;]\\s?', columns)"
   ]
  },
  {
   "cell_type": "code",
   "execution_count": null,
   "metadata": {
    "id": "_tiEjOyJ_hzS"
   },
   "outputs": [],
   "source": []
  },
  {
   "cell_type": "code",
   "execution_count": null,
   "metadata": {
    "colab": {
     "base_uri": "https://localhost:8080/"
    },
    "executionInfo": {
     "elapsed": 410,
     "status": "ok",
     "timestamp": 1669826993958,
     "user": {
      "displayName": "Олег Булыгин",
      "userId": "00238399283473622287"
     },
     "user_tz": -300
    },
    "id": "dGqHFMNR_hzT",
    "outputId": "c1e82645-d789-4db2-f932-835451afccdb"
   },
   "outputs": [],
   "source": [
    "# произведем замену на regex\n",
    "text = \"\"\"Что такое регулярные выражения и как их использовать? \n",
    "Говоря простым языком, регулярное выражение — это последовательность символов, используемая для поиска и замены текста в строке или файле. Как уже было упомянуто,\n",
    "их поддерживает множество языков общего назначения: Python, Perl, R.\n",
    "Так что изучение регулярных выражений рано или поздно пригодится.\"\"\"\n",
    "\n",
    "print(re.sub(r'[Рр]егулярн[а-я]+ выражен[а-я]+', 'regex', text))"
   ]
  },
  {
   "cell_type": "code",
   "execution_count": null,
   "metadata": {
    "colab": {
     "base_uri": "https://localhost:8080/"
    },
    "executionInfo": {
     "elapsed": 274,
     "status": "ok",
     "timestamp": 1669827101638,
     "user": {
      "displayName": "Олег Булыгин",
      "userId": "00238399283473622287"
     },
     "user_tz": -300
    },
    "id": "vEXnaRol_hzT",
    "outputId": "3a143571-6b9b-4e54-ed85-ce1256d800ba"
   },
   "outputs": [],
   "source": [
    "text = \"Некоторые обычные слова подозрительны: хор, хук, хек, хорёк\" \n",
    "print(re.sub(r'\\b[хХ]\\w{2}\\b', 'censored', text)) "
   ]
  },
  {
   "cell_type": "code",
   "execution_count": null,
   "metadata": {
    "id": "JC8bnaBk_hzT"
   },
   "outputs": [],
   "source": [
    "# Практика. Удалим все знаки пунктуации из текста через sub\n",
    "text = \"\"\"Что такое регулярные выражения и как их использовать? \n",
    "Говоря простым языком, регулярное выражение — это последовательность символов, используемая для поиска и замены текста в строке или файле. Как уже было упомянуто,\n",
    "их поддерживает множество языков общего назначения: Python, Perl, R.\n",
    "Так что изучение регулярных выражений рано или поздно пригодится.\"\"\""
   ]
  },
  {
   "cell_type": "code",
   "execution_count": null,
   "metadata": {
    "colab": {
     "base_uri": "https://localhost:8080/",
     "height": 54
    },
    "executionInfo": {
     "elapsed": 273,
     "status": "ok",
     "timestamp": 1669827349144,
     "user": {
      "displayName": "Олег Булыгин",
      "userId": "00238399283473622287"
     },
     "user_tz": -300
    },
    "id": "fks9ubDa_hzU",
    "outputId": "d1135d32-030a-4d17-c832-9d6cdd2d1b5f"
   },
   "outputs": [],
   "source": [
    "re.sub(r'\\s', '', text)"
   ]
  },
  {
   "cell_type": "code",
   "execution_count": null,
   "metadata": {
    "colab": {
     "base_uri": "https://localhost:8080/",
     "height": 54
    },
    "executionInfo": {
     "elapsed": 269,
     "status": "ok",
     "timestamp": 1669827369692,
     "user": {
      "displayName": "Олег Булыгин",
      "userId": "00238399283473622287"
     },
     "user_tz": -300
    },
    "id": "hywH6BSZdZe4",
    "outputId": "53886f34-3aef-49a3-be5f-f41a0d635494"
   },
   "outputs": [],
   "source": [
    "re.sub(r'\\W+', '', text)"
   ]
  },
  {
   "cell_type": "code",
   "execution_count": null,
   "metadata": {
    "colab": {
     "base_uri": "https://localhost:8080/",
     "height": 36
    },
    "executionInfo": {
     "elapsed": 340,
     "status": "ok",
     "timestamp": 1669827381493,
     "user": {
      "displayName": "Олег Булыгин",
      "userId": "00238399283473622287"
     },
     "user_tz": -300
    },
    "id": "-bjPlJh4darF",
    "outputId": "b3a26714-26ca-416d-ffd3-0af29fd8d456"
   },
   "outputs": [],
   "source": [
    "re.sub(r'[^ -.]', '', text)\n"
   ]
  },
  {
   "cell_type": "code",
   "execution_count": null,
   "metadata": {
    "colab": {
     "base_uri": "https://localhost:8080/",
     "height": 72
    },
    "executionInfo": {
     "elapsed": 294,
     "status": "ok",
     "timestamp": 1669827445445,
     "user": {
      "displayName": "Олег Булыгин",
      "userId": "00238399283473622287"
     },
     "user_tz": -300
    },
    "id": "IUG7Yh70dauE",
    "outputId": "a97f7a7e-7606-4009-818b-04fa2d7492e7"
   },
   "outputs": [],
   "source": [
    "re.sub(r'[,.!?-]', ' ',text)"
   ]
  },
  {
   "cell_type": "code",
   "execution_count": null,
   "metadata": {
    "colab": {
     "base_uri": "https://localhost:8080/",
     "height": 72
    },
    "executionInfo": {
     "elapsed": 9,
     "status": "ok",
     "timestamp": 1669827464717,
     "user": {
      "displayName": "Олег Булыгин",
      "userId": "00238399283473622287"
     },
     "user_tz": -300
    },
    "id": "kPdtww5weDTO",
    "outputId": "97a7b296-4512-4e31-cbfc-3c7c6ee2fee7"
   },
   "outputs": [],
   "source": [
    "re.sub(r'^[а-я А-ЯЁ]', '', text)"
   ]
  },
  {
   "cell_type": "code",
   "execution_count": null,
   "metadata": {
    "colab": {
     "base_uri": "https://localhost:8080/",
     "height": 54
    },
    "executionInfo": {
     "elapsed": 293,
     "status": "ok",
     "timestamp": 1669827518345,
     "user": {
      "displayName": "Олег Булыгин",
      "userId": "00238399283473622287"
     },
     "user_tz": -300
    },
    "id": "KiRTL8KweTT_",
    "outputId": "d1b81b73-f85f-4ea3-f62c-1079703e40e9"
   },
   "outputs": [],
   "source": [
    "re.sub(r'[?\\.,-]', '', text)\n"
   ]
  },
  {
   "cell_type": "code",
   "execution_count": null,
   "metadata": {
    "colab": {
     "base_uri": "https://localhost:8080/",
     "height": 54
    },
    "executionInfo": {
     "elapsed": 324,
     "status": "ok",
     "timestamp": 1669827580979,
     "user": {
      "displayName": "Олег Булыгин",
      "userId": "00238399283473622287"
     },
     "user_tz": -300
    },
    "id": "n0qFBx2Heg4r",
    "outputId": "73053c2d-9dcd-49b6-c0e7-d7991afbbf98"
   },
   "outputs": [],
   "source": [
    "re.sub(r'[^\\w\\s]', '', text)"
   ]
  },
  {
   "cell_type": "markdown",
   "metadata": {
    "id": "ar8N3rykBnvu"
   },
   "source": []
  },
  {
   "cell_type": "code",
   "execution_count": null,
   "metadata": {
    "id": "VzI26XiV_hzU"
   },
   "outputs": [],
   "source": [
    "# скобочные группы\n",
    "# выделим группы символов из посадочного талона, где:\n",
    "# - первые 2 символа - это авиакомпания;\n",
    "# - 4 следующие символа - номер рейса;\n",
    "# - 3 следующих символа - аэропорт отправления;\n",
    "# - 3 следюущих - аэропорт прибытия;\n",
    "# - оставшиеся - дата рейса\n",
    "# Все буквы всегда в верхнем регистре"
   ]
  },
  {
   "cell_type": "code",
   "execution_count": null,
   "metadata": {
    "id": "LlGOJfFT_hzV"
   },
   "outputs": [],
   "source": [
    "flight = '''Boarding pass: \n",
    "LA4214 AER-CDB 06NOV \n",
    "LA4332 AER-CDB 07NOV\n",
    "'''"
   ]
  },
  {
   "cell_type": "code",
   "execution_count": null,
   "metadata": {
    "id": "bjec5-PB_hzV"
   },
   "outputs": [],
   "source": [
    "regex_flight = r'([A-Z]{2})(\\d{4})\\s([A-Z]{3})-([A-Z]{3})\\s(\\d{2}[A-Z]{3})'"
   ]
  },
  {
   "cell_type": "code",
   "execution_count": null,
   "metadata": {
    "id": "K90yhL6J_hzV"
   },
   "outputs": [],
   "source": [
    "# ВНИМАНИЕ! При наличии скобочных групп функция find_all ищет только их! \n",
    "# Остальные функции получают такой-же match объект, в котором есть возможность обратиться к любой группе\n",
    "flight_result = re.findall(regex_flight, flight)"
   ]
  },
  {
   "cell_type": "code",
   "execution_count": null,
   "metadata": {
    "colab": {
     "base_uri": "https://localhost:8080/"
    },
    "executionInfo": {
     "elapsed": 263,
     "status": "ok",
     "timestamp": 1669827833583,
     "user": {
      "displayName": "Олег Булыгин",
      "userId": "00238399283473622287"
     },
     "user_tz": -300
    },
    "id": "FtPQ5puv_hzW",
    "outputId": "0ebaa77b-fed2-4ce9-fbad-854af95c638e"
   },
   "outputs": [],
   "source": [
    "print(flight_result)"
   ]
  },
  {
   "cell_type": "code",
   "execution_count": null,
   "metadata": {
    "colab": {
     "base_uri": "https://localhost:8080/"
    },
    "executionInfo": {
     "elapsed": 5,
     "status": "ok",
     "timestamp": 1669827925956,
     "user": {
      "displayName": "Олег Булыгин",
      "userId": "00238399283473622287"
     },
     "user_tz": -300
    },
    "id": "DW-PG4mp_hzW",
    "outputId": "62ba4d81-ca6e-4f25-cddf-8b9deba0993b"
   },
   "outputs": [],
   "source": [
    "flight_match_result = re.search(regex_flight, flight)\n",
    "print(flight_match_result)\n",
    "print(flight_match_result.group(3))"
   ]
  },
  {
   "cell_type": "code",
   "execution_count": null,
   "metadata": {
    "colab": {
     "base_uri": "https://localhost:8080/",
     "height": 36
    },
    "executionInfo": {
     "elapsed": 298,
     "status": "ok",
     "timestamp": 1669828069398,
     "user": {
      "displayName": "Олег Булыгин",
      "userId": "00238399283473622287"
     },
     "user_tz": -300
    },
    "id": "dKRzXYJI_hzW",
    "outputId": "f20f15d3-d29a-45e3-cf99-f8eb283fef2a"
   },
   "outputs": [],
   "source": [
    "# переведем даты к другому формату при помощи групп\n",
    "date = 'some text 08/30/1991 some text'\n",
    "re.sub(r'(\\d\\d)/(\\d\\d)/(\\d{4})', r'\\2.\\1.\\3', date)"
   ]
  },
  {
   "cell_type": "code",
   "execution_count": null,
   "metadata": {
    "id": "Igp0COzW_hzX"
   },
   "outputs": [],
   "source": [
    "# удалим последовательные повторы цифр\n",
    "numbers = '44444555 6666 8888 7777 44445467457547457555555'"
   ]
  },
  {
   "cell_type": "code",
   "execution_count": 14,
   "metadata": {
    "colab": {
     "base_uri": "https://localhost:8080/"
    },
    "executionInfo": {
     "elapsed": 6,
     "status": "ok",
     "timestamp": 1669828354789,
     "user": {
      "displayName": "Олег Булыгин",
      "userId": "00238399283473622287"
     },
     "user_tz": -300
    },
    "id": "kvwcHRn4hl7u",
    "outputId": "aff6ec49-0d56-49b3-db2d-7a95fea073db"
   },
   "outputs": [
    {
     "data": {
      "text/plain": [
       "['5', '6', '8', '7', '5']"
      ]
     },
     "execution_count": 14,
     "metadata": {},
     "output_type": "execute_result"
    }
   ],
   "source": [
    " re.findall(r'(\\d)+', numbers)"
   ]
  },
  {
   "cell_type": "code",
   "execution_count": 15,
   "metadata": {
    "colab": {
     "base_uri": "https://localhost:8080/",
     "height": 36
    },
    "executionInfo": {
     "elapsed": 272,
     "status": "ok",
     "timestamp": 1669828273641,
     "user": {
      "displayName": "Олег Булыгин",
      "userId": "00238399283473622287"
     },
     "user_tz": -300
    },
    "id": "zCGLQ2Dg_hzX",
    "outputId": "1ba6c161-1204-4647-9b3c-ca3411c5a601"
   },
   "outputs": [
    {
     "data": {
      "text/plain": [
       "'45 6 8 7 454674575474575'"
      ]
     },
     "execution_count": 15,
     "metadata": {},
     "output_type": "execute_result"
    }
   ],
   "source": [
    "re.sub(r'(\\d)\\1+', r'\\1', numbers)"
   ]
  },
  {
   "cell_type": "code",
   "execution_count": null,
   "metadata": {
    "id": "daNJpfTe_hzX"
   },
   "outputs": [],
   "source": []
  },
  {
   "cell_type": "code",
   "execution_count": null,
   "metadata": {
    "id": "RBGewGNf_hzY"
   },
   "outputs": [],
   "source": [
    "# ПРАКТИКА. Посчитаем количество лайков и репостов по всем сообщениям\n",
    "messages = ['Опять дождь! Лайков: 2', 'Крутой был концерт 21 августа! Лайков: 28, Репостов: 22']"
   ]
  },
  {
   "cell_type": "code",
   "execution_count": null,
   "metadata": {
    "colab": {
     "base_uri": "https://localhost:8080/"
    },
    "executionInfo": {
     "elapsed": 4,
     "status": "ok",
     "timestamp": 1669828919813,
     "user": {
      "displayName": "Олег Булыгин",
      "userId": "00238399283473622287"
     },
     "user_tz": -300
    },
    "id": "gQfec0rL_hzY",
    "outputId": "20488812-b3a9-476e-88b4-50870aed18f2"
   },
   "outputs": [],
   "source": [
    "likes = 0\n",
    "reposts = 0\n",
    "for msg in messages:\n",
    "    likes_pattern = re.search(r'Лайков:\\s(\\d+)', msg)\n",
    "    reposts_pattern = re.search(r'Репостов:\\s(\\d+)', msg)\n",
    "    if likes_pattern: likes += int(likes_pattern.group(1))\n",
    "    if reposts_pattern: reposts += int(reposts_pattern.group(1))\n",
    "\n",
    "print(likes)\n",
    "print(reposts)"
   ]
  },
  {
   "cell_type": "code",
   "execution_count": null,
   "metadata": {
    "id": "kBnKnsiG_hzY"
   },
   "outputs": [],
   "source": []
  },
  {
   "cell_type": "code",
   "execution_count": 9,
   "metadata": {
    "id": "JpYcMJ7N_hzY"
   },
   "outputs": [],
   "source": [
    "# Флаги\n",
    "text = \"\"\"Что такое регулярные выражения и как их использовать? \n",
    "Говоря простым языком, регулярное выражение — это последовательность символов, используемая для поиска и замены текста в строке или файле. Как уже было упомянуто,\n",
    "их поддерживает множество языков общего назначения: Python, Perl, R.\n",
    "Так что изучение регулярных выражений рано или поздно пригодится.\"\"\""
   ]
  },
  {
   "cell_type": "code",
   "execution_count": 10,
   "metadata": {
    "colab": {
     "base_uri": "https://localhost:8080/"
    },
    "executionInfo": {
     "elapsed": 261,
     "status": "ok",
     "timestamp": 1669829037225,
     "user": {
      "displayName": "Олег Булыгин",
      "userId": "00238399283473622287"
     },
     "user_tz": -300
    },
    "id": "9BJwqTt8_hzZ",
    "outputId": "c995f035-d61c-44eb-992c-121c2c90c47b"
   },
   "outputs": [
    {
     "name": "stdout",
     "output_type": "stream",
     "text": [
      "['ython', 'erl']\n",
      "['Python', 'Perl', 'R']\n",
      "['Python', 'Perl', 'R']\n"
     ]
    }
   ],
   "source": [
    "print(re.findall(r'[a-z]+', text)) \n",
    "print(re.findall(r'[a-z]+', text, flags=re.IGNORECASE)) \n",
    "print(re.findall(r'[a-z]+', text, flags=re.I)) "
   ]
  },
  {
   "cell_type": "code",
   "execution_count": 11,
   "metadata": {
    "colab": {
     "base_uri": "https://localhost:8080/"
    },
    "executionInfo": {
     "elapsed": 280,
     "status": "ok",
     "timestamp": 1669829117301,
     "user": {
      "displayName": "Олег Булыгин",
      "userId": "00238399283473622287"
     },
     "user_tz": -300
    },
    "id": "p7mS82iG_hzZ",
    "outputId": "4e0a6849-7c8e-4d52-9146-ff39d8122474"
   },
   "outputs": [
    {
     "name": "stdout",
     "output_type": "stream",
     "text": [
      "['Что']\n",
      "['Что', 'Говоря', 'их', 'Так']\n"
     ]
    }
   ],
   "source": [
    "print(re.findall(r'^\\w+', text)) \n",
    "print(re.findall(r'^\\w+', text, flags=re.MULTILINE)) "
   ]
  },
  {
   "cell_type": "code",
   "execution_count": null,
   "metadata": {
    "id": "ubIcC-fr_hzZ"
   },
   "outputs": [],
   "source": []
  },
  {
   "cell_type": "code",
   "execution_count": null,
   "metadata": {
    "colab": {
     "base_uri": "https://localhost:8080/"
    },
    "executionInfo": {
     "elapsed": 332,
     "status": "ok",
     "timestamp": 1669829378139,
     "user": {
      "displayName": "Олег Булыгин",
      "userId": "00238399283473622287"
     },
     "user_tz": -300
    },
    "id": "MAIeq0qM_hza",
    "outputId": "e6f781ee-6419-4285-f721-ffd6de4dd0e8"
   },
   "outputs": [],
   "source": [
    "# lookaround. Достанем имена только загруженных файлов\n",
    "report = 'файл 11.txt загружен, файл 22.txt ошибка 44345, файл 33.txt загружен, файл 44.txt ошибка 43535'\n",
    "# find_downloaded = r'\\d+\\.txt(?=\\sзагружен)'\n",
    "files_error = r'\\d+\\.txt(?!\\sзагружен)'\n",
    "# re.findall(find_downloaded, report)\n",
    "re.findall(files_error, report)"
   ]
  },
  {
   "cell_type": "code",
   "execution_count": null,
   "metadata": {
    "id": "zOxfkL8L_hza"
   },
   "outputs": [],
   "source": [
    "# ПРАКТИКА. Получить только рублевые цены\n",
    "prices = 'RUB4.44, RUB10.88, EUR0.99, RUB99.99, USD39.00'"
   ]
  },
  {
   "cell_type": "code",
   "execution_count": null,
   "metadata": {
    "colab": {
     "base_uri": "https://localhost:8080/"
    },
    "executionInfo": {
     "elapsed": 7,
     "status": "ok",
     "timestamp": 1669829624746,
     "user": {
      "displayName": "Олег Булыгин",
      "userId": "00238399283473622287"
     },
     "user_tz": -300
    },
    "id": "eA3B1dhK_hza",
    "outputId": "b416e5e1-8c34-4e03-852b-9e4a180b8c26"
   },
   "outputs": [],
   "source": [
    "re.findall(r'(?<=RUB)\\d{1,2}\\.\\d{2}', prices)"
   ]
  },
  {
   "cell_type": "code",
   "execution_count": null,
   "metadata": {
    "colab": {
     "base_uri": "https://localhost:8080/"
    },
    "executionInfo": {
     "elapsed": 282,
     "status": "ok",
     "timestamp": 1669829646359,
     "user": {
      "displayName": "Олег Булыгин",
      "userId": "00238399283473622287"
     },
     "user_tz": -300
    },
    "id": "djQfKpYfmSA1",
    "outputId": "fcd73c7a-d872-4b9d-e6dd-d016eafe2f13"
   },
   "outputs": [],
   "source": [
    "re.findall(r'(?<=RUB)\\s?\\d{1,2}\\.\\d{2}', prices)"
   ]
  },
  {
   "cell_type": "code",
   "execution_count": null,
   "metadata": {
    "colab": {
     "base_uri": "https://localhost:8080/"
    },
    "executionInfo": {
     "elapsed": 299,
     "status": "ok",
     "timestamp": 1669829689869,
     "user": {
      "displayName": "Олег Булыгин",
      "userId": "00238399283473622287"
     },
     "user_tz": -300
    },
    "id": "_2ne9C-9mU1g",
    "outputId": "9270b501-709e-45b0-e680-019ae26a690c"
   },
   "outputs": [],
   "source": [
    "re.findall(r'(?<=RUB)\\d+\\.\\d\\d', prices)"
   ]
  },
  {
   "cell_type": "code",
   "execution_count": null,
   "metadata": {
    "id": "24U5oQMvmU7e"
   },
   "outputs": [],
   "source": [
    "re.findall(r'(?<=RUB)\\d+.\\d{2}', prices)"
   ]
  },
  {
   "cell_type": "markdown",
   "metadata": {
    "id": "WiWg81tWHz2b"
   },
   "source": [
    "https://regexcrossword.com/howtoplay\n",
    "\n",
    "https://ihateregex.io\n",
    "\n",
    "https://regex101.com/"
   ]
  },
  {
   "cell_type": "markdown",
   "metadata": {
    "id": "4bInRY3OHWNB"
   },
   "source": [
    "Регулярные\n",
    "выражения\n",
    "Сборник рецептов\n",
    "2015\n",
    "Ян Гойвертс,\n",
    "Стивен\n",
    "Левитан\n",
    "\n",
    "Фридл Дж.\n",
    "Регулярные выражения, 3-е издание."
   ]
  },
  {
   "cell_type": "code",
   "execution_count": null,
   "metadata": {
    "id": "nAa11RqOpEHa"
   },
   "outputs": [],
   "source": []
  }
 ],
 "metadata": {
  "colab": {
   "provenance": [
    {
     "file_id": "1CNWbPL-WyzHfoVZ-L91K86OWq5VAFyBH",
     "timestamp": 1669830517566
    },
    {
     "file_id": "1Cj19OiRqtsunzi1I-yDc0LzulIQ_DMnJ",
     "timestamp": 1669823465067
    }
   ]
  },
  "kernelspec": {
   "display_name": "Python 3",
   "language": "python",
   "name": "python3"
  },
  "language_info": {
   "codemirror_mode": {
    "name": "ipython",
    "version": 3
   },
   "file_extension": ".py",
   "mimetype": "text/x-python",
   "name": "python",
   "nbconvert_exporter": "python",
   "pygments_lexer": "ipython3",
   "version": "3.8.3"
  }
 },
 "nbformat": 4,
 "nbformat_minor": 1
}
