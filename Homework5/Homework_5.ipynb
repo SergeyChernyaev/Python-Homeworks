{
 "cells": [
  {
   "cell_type": "markdown",
   "metadata": {},
   "source": [
    "### Задание 1\n",
    "Переведите содержимое файла purchase_log.txt в словарь purchases вида:\n",
    "{‘1840e0b9d4’: ‘Продукты’, …}"
   ]
  },
  {
   "cell_type": "code",
   "execution_count": null,
   "metadata": {},
   "outputs": [],
   "source": [
    "import json\n",
    "purchases = {}\n",
    "freq={} # словарь частот\n",
    "with open('purchase_log.txt', encoding='utf-8') as f: # открыть безопасно в нужной кодировке\n",
    "    for i, line in enumerate(f):\n",
    "        data = json.loads(line) # преобразуем строку в словарь\n",
    "        \n",
    "        purchases.setdefault(data['user_id'], [])\n",
    "        purchases[data['user_id']].append(data['category'])\n",
    "        if data['user_id'] in purchases:\n",
    "                if data['user_id'] != 'user_id': # считаетм встречаемость\n",
    "                    freq.setdefault(data['user_id'], 0)\n",
    "                    freq[data['user_id']] += 1\n",
    "\n",
    "f.close()    \n",
    "\n",
    "i = 1        \n",
    "for key, item in freq.items():\n",
    "    if item > 1:\n",
    "        print ('Ключ:', key, 'Встречается', item, 'раза с значениями:', purchases[key])\n",
    "        i += 1\n",
    "        \n",
    "print ('Количество неуникальных лидов:', i)              "
   ]
  },
  {
   "cell_type": "markdown",
   "metadata": {},
   "source": [
    "# Задание 2\n",
    "Для каждого user_id в файле visit_log.csv определите третий столбец с категорией покупки (если покупка была, сам файл visit_log.csv изменять не надо). Запишите в файл funnel.csv визиты из файла visit_log.csv, в которых были покупки с указанием категории."
   ]
  },
  {
   "cell_type": "code",
   "execution_count": null,
   "metadata": {},
   "outputs": [],
   "source": [
    "import pandas as pd\n",
    "import json\n",
    "import numpy as np\n",
    "purchases = {}\n",
    "\n",
    "\n",
    "\n",
    "with open('purchase_log.txt', encoding='utf-8') as f_purchase: # открыть безопасно в нужной кодировке\n",
    "# Сделали словарь\n",
    "   for  line in f_purchase:\n",
    "        data = json.loads(line) # преобразуем строку в словарь\n",
    "        purchases.setdefault(data['user_id'], [])\n",
    "        purchases[data['user_id']].append(data['category'])\n",
    "f_purchase.close()\n",
    "\n",
    "\n",
    "with open ('funnel.csv', 'w', encoding='utf-8') as f_funnel: # открыть безопасно на запись воронку в нужной кодировке\n",
    "# Записать первую строку файла:\n",
    "# user_id - идентификатор лида\n",
    "# source  - источник прихода лида\n",
    "# category1 - наиболее частая (основная) категория\n",
    "# category2 - дополнительная категория\n",
    "\n",
    "    f_funnel.write('user_id,source,category1,category2\\n')\n",
    "    \n",
    "    with open('visit_log.csv', encoding='utf-8') as f_visit:    \n",
    "        for line in f_visit:    \n",
    "            line_list = line.strip().split(',')\n",
    "            \n",
    "            if line_list[0] in purchases: # ключ найден и \n",
    "                    if line_list[0] != 'user_id': # это не название столбца user_id\n",
    "                        if len(purchases[line_list[0]]) == 1: # есть только основаня категория\n",
    "                            line_list.append(purchases[line_list[0]][0])\n",
    "                            line_list.append('не определена') # дополняет данные до нужной размерности\n",
    "                        else: # есть ещё дополнительная  категория\n",
    "                            line_list.append(purchases[line_list[0]][0])\n",
    "                            line_list.append(purchases[line_list[0]][1]) \n",
    "                                       \n",
    "                        # Склеить строку и записать строку в файл:\n",
    "                        f_funnel.write(','.join(line_list)+'\\n')\n",
    " \n",
    "        \n",
    "f_visit.close()\n",
    "f_funnel.close()"
   ]
  },
  {
   "cell_type": "markdown",
   "metadata": {},
   "source": [
    "## Свойства датасета:"
   ]
  },
  {
   "cell_type": "code",
   "execution_count": null,
   "metadata": {},
   "outputs": [],
   "source": [
    "\n",
    "df = pd.read_csv('funnel.csv')\n",
    "df.info()"
   ]
  },
  {
   "cell_type": "markdown",
   "metadata": {},
   "source": [
    "# Начало датасета:"
   ]
  },
  {
   "cell_type": "code",
   "execution_count": null,
   "metadata": {},
   "outputs": [],
   "source": [
    "df.head(10)"
   ]
  },
  {
   "cell_type": "markdown",
   "metadata": {},
   "source": [
    "# Частоты категорий:\n",
    "Основная:"
   ]
  },
  {
   "cell_type": "code",
   "execution_count": null,
   "metadata": {},
   "outputs": [],
   "source": [
    "df['category1'].value_counts()"
   ]
  },
  {
   "cell_type": "markdown",
   "metadata": {},
   "source": [
    "Дополнительная:"
   ]
  },
  {
   "cell_type": "code",
   "execution_count": null,
   "metadata": {},
   "outputs": [],
   "source": [
    "df['category2'].value_counts()"
   ]
  },
  {
   "cell_type": "markdown",
   "metadata": {},
   "source": [
    "## Частоты по каналам приходов лидов:"
   ]
  },
  {
   "cell_type": "code",
   "execution_count": null,
   "metadata": {},
   "outputs": [],
   "source": [
    "df['source'].value_counts()"
   ]
  }
 ],
 "metadata": {
  "kernelspec": {
   "display_name": "Python 3",
   "language": "python",
   "name": "python3"
  },
  "language_info": {
   "codemirror_mode": {
    "name": "ipython",
    "version": 3
   },
   "file_extension": ".py",
   "mimetype": "text/x-python",
   "name": "python",
   "nbconvert_exporter": "python",
   "pygments_lexer": "ipython3",
   "version": "3.8.3"
  }
 },
 "nbformat": 4,
 "nbformat_minor": 4
}
