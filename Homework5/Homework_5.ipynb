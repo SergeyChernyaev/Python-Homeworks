{
 "cells": [
  {
   "cell_type": "markdown",
   "metadata": {},
   "source": [
    "### Задание 1\n",
    "Переведите содержимое файла purchase_log.txt в словарь purchases вида:\n",
    "{‘1840e0b9d4’: ‘Продукты’, …}"
   ]
  },
  {
   "cell_type": "code",
   "execution_count": null,
   "metadata": {},
   "outputs": [],
   "source": []
  },
  {
   "cell_type": "code",
   "execution_count": null,
   "metadata": {},
   "outputs": [],
   "source": [
    "import json\n",
    "purchases = {}\n",
    "\n",
    "with open('purchase_log.txt', encoding='utf-8') as f: # открыть безопасно в нужной кодировке\n",
    "    for line in f:\n",
    "        data = json.loads(line) # преобразуем строку в словарь\n",
    "        purchases.setdefault(data['user_id'], data['category'])\n",
    "f.close()    \n",
    "for i, item in enumerate(purchases.items()):            \n",
    "    print(i, item[0],item[1] )\n",
    "    if i > 4:\n",
    "        break"
   ]
  },
  {
   "cell_type": "markdown",
   "metadata": {},
   "source": [
    "# Задание 2\n",
    "Для каждого user_id в файле visit_log.csv определите третий столбец с категорией покупки (если покупка была, сам файл visit_log.csv изменять не надо). Запишите в файл funnel.csv визиты из файла visit_log.csv, в которых были покупки с указанием категории."
   ]
  },
  {
   "cell_type": "code",
   "execution_count": null,
   "metadata": {},
   "outputs": [],
   "source": [
    "import pandas as pd\n",
    "import json\n",
    "import numpy as np\n",
    "purchases = {}\n",
    "\n",
    "f_visit = open('visit_log.csv', encoding='utf-8')  \n",
    "f_funnel = open ('funnel.csv', 'w', encoding='utf-8')\n",
    "\n",
    "with open('purchase_log.txt', encoding='utf-8') as f_purchase: # открыть безопасно в нужной кодировке\n",
    "# Сделали словарь\n",
    "    for i, line in enumerate(f_purchase):\n",
    "   # print(i, line)\n",
    "        data = json.loads(line) # преобразуем строку в словарь\n",
    "        purchases.setdefault(data['user_id'], data['category'])\n",
    "f_purchase.close()\n",
    "\n",
    "\n",
    "with open ('funnel.csv', 'w', encoding='utf-8') as f_funnel: # открыть безопасно на запись воронку в нужной кодировке\n",
    "# Записать первую строку файла:\n",
    "    f_funnel.write('user_id,source,category\\n')\n",
    "    \n",
    "    with open('visit_log.csv', encoding='utf-8') as f_visit:    \n",
    "        for line in f_visit:    \n",
    "            line_list = line.strip().split(',')\n",
    "    #print('line1',line_list)\n",
    "            if line_list[0] in purchases: # ключ найден и \n",
    "                if line_list[0] != 'user_id': # это не название столбца \n",
    "            # print ('Ключ найден', line_list[0], purchases[line_list[0]])\n",
    "                    line_list.append(purchases[line_list[0]])\n",
    "            # Склеить строку:\n",
    "                    str_= \",\".join(line_list)\n",
    "            # print ('Строка для записи:', str_)\n",
    "                    f_funnel.write(str_+'\\n')\n",
    " \n",
    "        \n",
    "f_visit.close()\n",
    "f_funnel.close()\n",
    "# Посмотреть датасет:\n",
    "df = pd.read_csv('funnel.csv')\n",
    "df.info()"
   ]
  },
  {
   "cell_type": "markdown",
   "metadata": {},
   "source": [
    "Начало датасета:"
   ]
  },
  {
   "cell_type": "code",
   "execution_count": null,
   "metadata": {},
   "outputs": [],
   "source": [
    "df.head(20)"
   ]
  },
  {
   "cell_type": "markdown",
   "metadata": {},
   "source": [
    "Частоты категорий:"
   ]
  },
  {
   "cell_type": "code",
   "execution_count": null,
   "metadata": {},
   "outputs": [],
   "source": [
    "df['category'].value_counts()"
   ]
  },
  {
   "cell_type": "markdown",
   "metadata": {},
   "source": [
    "Частоты по каналам прихода лидов:"
   ]
  },
  {
   "cell_type": "code",
   "execution_count": null,
   "metadata": {},
   "outputs": [],
   "source": [
    "df['source'].value_counts()"
   ]
  }
 ],
 "metadata": {
  "kernelspec": {
   "display_name": "Python 3",
   "language": "python",
   "name": "python3"
  },
  "language_info": {
   "codemirror_mode": {
    "name": "ipython",
    "version": 3
   },
   "file_extension": ".py",
   "mimetype": "text/x-python",
   "name": "python",
   "nbconvert_exporter": "python",
   "pygments_lexer": "ipython3",
   "version": "3.8.3"
  }
 },
 "nbformat": 4,
 "nbformat_minor": 4
}
